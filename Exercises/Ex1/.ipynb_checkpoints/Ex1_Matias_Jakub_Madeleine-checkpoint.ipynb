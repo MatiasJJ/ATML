{
 "cells": [
  {
   "cell_type": "code",
   "execution_count": 1,
   "metadata": {},
   "outputs": [],
   "source": [
    "import numpy as np\n",
    "import pandas as pd\n",
    "import matplotlib.pyplot as plt\n",
    "import seaborn as sns\n",
    "import statsmodels.api as sm"
   ]
  },
  {
   "cell_type": "code",
   "execution_count": 3,
   "metadata": {},
   "outputs": [],
   "source": [
    "%matplotlib inline"
   ]
  },
  {
   "cell_type": "markdown",
   "metadata": {},
   "source": [
    "# Ex1\n",
    "\n",
    "*by: Madeleine Ekblom, Matias Jääskeläinen, Jakub Kubečka*\n",
    "\n",
    "Time used: h min"
   ]
  },
  {
   "cell_type": "code",
   "execution_count": null,
   "metadata": {},
   "outputs": [],
   "source": []
  },
  {
   "cell_type": "markdown",
   "metadata": {},
   "source": [
    "## Problem 1"
   ]
  },
  {
   "cell_type": "code",
   "execution_count": 4,
   "metadata": {},
   "outputs": [],
   "source": [
    "iters = 1000"
   ]
  },
  {
   "cell_type": "markdown",
   "metadata": {},
   "source": [
    "### a)  \n",
    "sampling 100 numbers from normal distribution $N(2,1)$ with `numpy`"
   ]
  },
  {
   "cell_type": "code",
   "execution_count": 5,
   "metadata": {},
   "outputs": [],
   "source": [
    "x_normal = np.random.normal(2,1,iters)"
   ]
  },
  {
   "cell_type": "markdown",
   "metadata": {},
   "source": [
    "### b)\n",
    "sampling 100 numbers by MH algorithm. $\\mu=2$, $\\epsilon=0.5$ and $x_0 = 4.2$"
   ]
  },
  {
   "cell_type": "code",
   "execution_count": 6,
   "metadata": {},
   "outputs": [],
   "source": [
    "x_arr = np.zeros(iters+1)\n",
    "\n",
    "x_arr[0] = 42"
   ]
  },
  {
   "cell_type": "code",
   "execution_count": 7,
   "metadata": {},
   "outputs": [],
   "source": [
    "def logprob(x,mu):\n",
    "    return -(x-mu)**2/2/np.log(np.sqrt(2*np.pi))"
   ]
  },
  {
   "cell_type": "markdown",
   "metadata": {},
   "source": [
    "**The Metropolis-Hastings algorithm**"
   ]
  },
  {
   "cell_type": "code",
   "execution_count": 8,
   "metadata": {},
   "outputs": [],
   "source": [
    "for i in range(1,iters+1):\n",
    "    x_prime = np.random.normal(2,0.5,1)\n",
    "    P_x_prev = logprob(x_arr[i-1],2)\n",
    "    P_x_prime = logprob(x_prime,2)\n",
    "    r = np.minimum(0,P_x_prime-P_x_prev)\n",
    "    r_prime = np.log(np.random.uniform())\n",
    "    if r_prime <= r:\n",
    "        x_arr[i] = x_prime\n",
    "    else:\n",
    "        x_arr[i] = x_arr[i-1]"
   ]
  },
  {
   "cell_type": "markdown",
   "metadata": {},
   "source": [
    "> check the zero division error"
   ]
  },
  {
   "cell_type": "markdown",
   "metadata": {},
   "source": [
    "### c)\n",
    "\n",
    "Plot histograms of the sampled distributions"
   ]
  },
  {
   "cell_type": "code",
   "execution_count": 9,
   "metadata": {},
   "outputs": [],
   "source": [
    "bins = list(np.linspace(-1,5,25))"
   ]
  },
  {
   "cell_type": "code",
   "execution_count": 10,
   "metadata": {},
   "outputs": [
    {
     "data": {
      "image/png": "[encoded data removed]",
      "text/plain": [
       "<Figure size 432x288 with 1 Axes>"
      ]
     },
     "metadata": {
      "needs_background": "light"
     },
     "output_type": "display_data"
    }
   ],
   "source": [
    "plt.hist(x_normal,bins=bins,label=\"Ndist\",alpha=0.6)\n",
    "plt.hist(x_arr,bins=bins,label=\"MH\",alpha=0.6)\n",
    "plt.legend()\n",
    "plt.xlabel(\"x\")\n",
    "plt.ylabel(\"count\")\n",
    "plt.title(\"Iter:{}, x_init:{}\".format(iters,x_arr[0]))\n",
    "plt.savefig(\"iter{}x_init{}.png\".format(iters,x_arr[0]))"
   ]
  },
  {
   "cell_type": "markdown",
   "metadata": {},
   "source": [
    "![100](./iter100x_init4.2.png)"
   ]
  },
  {
   "cell_type": "markdown",
   "metadata": {},
   "source": [
    "![1000](./iter1000x_init42.0.png)"
   ]
  },
  {
   "cell_type": "markdown",
   "metadata": {},
   "source": [
    "> Update pictures"
   ]
  },
  {
   "cell_type": "markdown",
   "metadata": {},
   "source": [
    "## Problem 2"
   ]
  },
  {
   "cell_type": "markdown",
   "metadata": {},
   "source": [
    "### a)"
   ]
  },
  {
   "cell_type": "code",
   "execution_count": 11,
   "metadata": {},
   "outputs": [
    {
     "name": "stdout",
     "output_type": "stream",
     "text": [
      "id,date,event,partlybad,HYY_META.CO2168.mean,HYY_META.CO2168.std,HYY_META.CO2336.mean,HYY_META.CO2336.std,HYY_META.CO242.mean,HYY_META.CO242.std,HYY_META.CO2504.mean,HYY_META.CO2504.std,HYY_META.Glob.mean,HYY_META.Glob.std,HYY_META.H2O168.mean,HYY_META.H2O168.std,HYY_META.H2O336.mean,HYY_META.H2O336.std,HYY_META.H2O42.mean,HYY_META.H2O42.std,HYY_META.H2O504.mean,HYY_META.H2O504.std,HYY_META.H2O672.mean,HYY_META.H2O672.std,HYY_META.H2O84.mean,HYY_META.H2O84.std,HYY_META.NET.mean,HYY_META.NET.std,HYY_META.NO168.mean,HYY_META.NO168.std,HYY_META.NO336.mean,HYY_META.NO336.std,HYY_META.NO42.mean,HYY_META.NO42.std,HYY_META.NO504.mean,HYY_META.NO504.std,HYY_META.NO672.mean,HYY_META.NO672.std,HYY_META.NO84.mean,HYY_META.NO84.std,HYY_META.NOx168.mean,HYY_META.NOx168.std,HYY_META.NOx336.mean,HYY_META.NOx336.std,HYY_META.NOx42.mean,HYY_META.NOx42.std,HYY_META.NOx504.mean,HYY_META.NOx504.std,HYY_META.NOx672.mean,HYY_META.NOx672.std,HYY_META.NOx84.mean,HYY_META.NOx84.std,HYY_META.O3168.mean,HYY_META.O3168.std,HYY_META.O342.mean,HYY_META.O342.std,HYY_META.O3504.mean,HYY_META.O3504.std,HYY_META.O3672.mean,HYY_META.O3672.std,HYY_META.O384.mean,HYY_META.O384.std,HYY_META.Pamb0.mean,HYY_META.Pamb0.std,HYY_META.PAR.mean,HYY_META.PAR.std,HYY_META.PTG.mean,HYY_META.PTG.std,HYY_META.RGlob.mean,HYY_META.RGlob.std,HYY_META.RHIRGA1250.mean,HYY_META.RHIRGA1250.std,HYY_META.RHIRGA168.mean,HYY_META.RHIRGA168.std,HYY_META.RHIRGA336.mean,HYY_META.RHIRGA336.std,HYY_META.RHIRGA42.mean,HYY_META.RHIRGA42.std,HYY_META.RHIRGA504.mean,HYY_META.RHIRGA504.std,HYY_META.RHIRGA672.mean,HYY_META.RHIRGA672.std,HYY_META.RHIRGA84.mean,HYY_META.RHIRGA84.std,HYY_META.RPAR.mean,HYY_META.RPAR.std,HYY_META.SO2168.mean,HYY_META.SO2168.std,HYY_META.SO242.mean,HYY_META.SO242.std,HYY_META.SO2504.mean,HYY_META.SO2504.std,HYY_META.SO2672.mean,HYY_META.SO2672.std,HYY_META.SO284.mean,HYY_META.SO284.std,HYY_META.SWS.mean,HYY_META.SWS.std,HYY_META.T168.mean,HYY_META.T168.std,HYY_META.T42.mean,HYY_META.T42.std,HYY_META.T504.mean,HYY_META.T504.std,HYY_META.T672.mean,HYY_META.T672.std,HYY_META.T84.mean,HYY_META.T84.std,HYY_META.UV_A.mean,HYY_META.UV_A.std,HYY_META.UV_B.mean,HYY_META.UV_B.std,HYY_META.WD168.cos.mean,HYY_META.WD168.sin.mean,HYY_META.WD504.cos.mean,HYY_META.WD504.sin.mean,HYY_META.WS168.mean,HYY_META.WS168.std,HYY_META.WS42.mean,HYY_META.WS42.std,HYY_META.WS504.mean,HYY_META.WS504.std,HYY_META.WS672.mean,HYY_META.WS672.std,HYY_META.WS84.mean,HYY_META.WS84.std,CS.mean,CS.std\r\n"
     ]
    }
   ],
   "source": [
    "!head -n 1 npf_train_full.csv"
   ]
  },
  {
   "cell_type": "code",
   "execution_count": 12,
   "metadata": {},
   "outputs": [
    {
     "name": "stdout",
     "output_type": "stream",
     "text": [
      "724,2011-08-19,nonevent,FALSE,383.698145695364,8.41835109776843,384.052631578947,8.1303885635616,386.4368,9.90153634069176,384.105592105263,7.95293587620714,332.744477611941,243.722644610723,10.9465562913907,0.96944454636499,10.7603289473684,0.97461041139059,11.3288590604027,0.963614767005468,10.6419078947368,0.972328218065212,10.5509271523179,0.966246587570259,11.1830463576159,0.97254853752224,233.307016129032,222.197399642324,0.0576129032258064,0.0813768200743471,0.0592356687898089,0.0922617611241827,0.040516129032258,0.0581957461335035,0.0569871794871794,0.0872106820313916,0.0566666666666666,0.0813462002866469,0.0396153846153846,0.0701416503699857,0.452709677419355,0.528702540380166,0.451656050955414,0.510171975948581,0.409677419354838,0.443383419068627,0.423589743589744,0.528896536888678,0.366858974358974,0.382359068681275,0.426730769230769,0.470985464417223,28.490641025641,6.29622249058523,25.9176923076923,6.56013826035985,30.1044585987261,6.50199913980155,30.7582692307692,6.44457512936383,26.9583974358974,6.4044984691251,991.39851812367,0.463660025451013,677.851993603412,499.677061671318,-0.00299317697228144,0.0142345400543102,47.6348614072495,26.4752376852984,NA,NA,60.1882781456953,16.6408218050908,60.1140789473684,16.9557638856929,63.270067114094,16.5533978098008,59.9791447368421,17.1898844019891,60.4536423841059,17.434293656792,62.0378145695365,16.7186548459713,30.3781130063966,20.9208567647097,0.118560767590618,0.0976476636039375,NA,NA,NA,NA,NA,NA,NA,NA,890.5,9.3943652452232,16.4694136460554,2.94935381333397,16.2458742004264,3.03113567713969,16.1137886872999,2.89687999903405,15.8202454642476,2.8685144319875,16.3523906083244,3.05512184577985,18.4752622601279,12.8384812571365,0.88440416221985,0.726461428742508,NA,NA,NA,NA,NA,NA,NA,NA,NA,NA,NA,NA,NA,NA,0.00247587872340426,0.000902461182541416\r\n"
     ]
    }
   ],
   "source": [
    "!tail -n 1 npf_train_full.csv"
   ]
  },
  {
   "cell_type": "markdown",
   "metadata": {},
   "source": [
    "### b)"
   ]
  },
  {
   "cell_type": "code",
   "execution_count": 13,
   "metadata": {},
   "outputs": [
    {
     "name": "stdout",
     "output_type": "stream",
     "text": [
      "725 npf_train_full.csv\r\n"
     ]
    }
   ],
   "source": [
    "!wc -l npf_train_full.csv"
   ]
  },
  {
   "cell_type": "markdown",
   "metadata": {},
   "source": [
    "### c)"
   ]
  },
  {
   "cell_type": "code",
   "execution_count": 2,
   "metadata": {},
   "outputs": [],
   "source": [
    "!sed  $'s/,/\\t/g' npf_train_full.csv > npf_train_full.tsv"
   ]
  },
  {
   "cell_type": "markdown",
   "metadata": {},
   "source": [
    "> for linux\n",
    "```bash\n",
    "sed 's/,/\\t/g' npf_train_full.csv > npf_train_full.tsv\n",
    "```"
   ]
  },
  {
   "cell_type": "markdown",
   "metadata": {},
   "source": [
    "### d)"
   ]
  },
  {
   "cell_type": "code",
   "execution_count": 3,
   "metadata": {},
   "outputs": [
    {
     "name": "stdout",
     "output_type": "stream",
     "text": [
      "II\r\n",
      "Ia\r\n",
      "Ib\r\n",
      "nonevent\r\n"
     ]
    }
   ],
   "source": [
    "!awk 'NR==1 {for(i=1;i<=NF;i++){f[$i]=i}}{if (NR>1) {print $(f[\"event\"])}}' npf_train_full.tsv | sort -u"
   ]
  },
  {
   "cell_type": "markdown",
   "metadata": {},
   "source": [
    "## Problem 3"
   ]
  },
  {
   "cell_type": "code",
   "execution_count": 16,
   "metadata": {},
   "outputs": [],
   "source": [
    "npf_df = pd.read_csv(\"npf_train_full.csv\")"
   ]
  },
  {
   "cell_type": "code",
   "execution_count": 17,
   "metadata": {},
   "outputs": [],
   "source": [
    "npf_df.set_index(\"id\",inplace=True)"
   ]
  },
  {
   "cell_type": "markdown",
   "metadata": {},
   "source": [
    "Printing the first lines of the DF"
   ]
  },
  {
   "cell_type": "code",
   "execution_count": 18,
   "metadata": {},
   "outputs": [
    {
     "data": {
      "text/html": [
       "<div>\n",
       "<style scoped>\n",
       "    .dataframe tbody tr th:only-of-type {\n",
       "        vertical-align: middle;\n",
       "    }\n",
       "\n",
       "    .dataframe tbody tr th {\n",
       "        vertical-align: top;\n",
       "    }\n",
       "\n",
       "    .dataframe thead th {\n",
       "        text-align: right;\n",
       "    }\n",
       "</style>\n",
       "<table border=\"1\" class=\"dataframe\">\n",
       "  <thead>\n",
       "    <tr style=\"text-align: right;\">\n",
       "      <th></th>\n",
       "      <th>date</th>\n",
       "      <th>event</th>\n",
       "      <th>partlybad</th>\n",
       "      <th>HYY_META.CO2168.mean</th>\n",
       "      <th>HYY_META.CO2168.std</th>\n",
       "      <th>HYY_META.CO2336.mean</th>\n",
       "      <th>HYY_META.CO2336.std</th>\n",
       "      <th>HYY_META.CO242.mean</th>\n",
       "      <th>HYY_META.CO242.std</th>\n",
       "      <th>HYY_META.CO2504.mean</th>\n",
       "      <th>...</th>\n",
       "      <th>HYY_META.WS42.mean</th>\n",
       "      <th>HYY_META.WS42.std</th>\n",
       "      <th>HYY_META.WS504.mean</th>\n",
       "      <th>HYY_META.WS504.std</th>\n",
       "      <th>HYY_META.WS672.mean</th>\n",
       "      <th>HYY_META.WS672.std</th>\n",
       "      <th>HYY_META.WS84.mean</th>\n",
       "      <th>HYY_META.WS84.std</th>\n",
       "      <th>CS.mean</th>\n",
       "      <th>CS.std</th>\n",
       "    </tr>\n",
       "    <tr>\n",
       "      <th>id</th>\n",
       "      <th></th>\n",
       "      <th></th>\n",
       "      <th></th>\n",
       "      <th></th>\n",
       "      <th></th>\n",
       "      <th></th>\n",
       "      <th></th>\n",
       "      <th></th>\n",
       "      <th></th>\n",
       "      <th></th>\n",
       "      <th></th>\n",
       "      <th></th>\n",
       "      <th></th>\n",
       "      <th></th>\n",
       "      <th></th>\n",
       "      <th></th>\n",
       "      <th></th>\n",
       "      <th></th>\n",
       "      <th></th>\n",
       "      <th></th>\n",
       "      <th></th>\n",
       "    </tr>\n",
       "  </thead>\n",
       "  <tbody>\n",
       "    <tr>\n",
       "      <th>1</th>\n",
       "      <td>2000-01-23</td>\n",
       "      <td>nonevent</td>\n",
       "      <td>False</td>\n",
       "      <td>373.496585</td>\n",
       "      <td>0.189497</td>\n",
       "      <td>373.382593</td>\n",
       "      <td>0.172958</td>\n",
       "      <td>373.961481</td>\n",
       "      <td>0.235107</td>\n",
       "      <td>373.275062</td>\n",
       "      <td>...</td>\n",
       "      <td>0.610911</td>\n",
       "      <td>0.241239</td>\n",
       "      <td>4.919484</td>\n",
       "      <td>0.850927</td>\n",
       "      <td>5.704570</td>\n",
       "      <td>1.013961</td>\n",
       "      <td>1.303071</td>\n",
       "      <td>0.470907</td>\n",
       "      <td>0.000764</td>\n",
       "      <td>0.000048</td>\n",
       "    </tr>\n",
       "    <tr>\n",
       "      <th>2</th>\n",
       "      <td>2000-01-25</td>\n",
       "      <td>nonevent</td>\n",
       "      <td>False</td>\n",
       "      <td>381.752738</td>\n",
       "      <td>1.701439</td>\n",
       "      <td>381.392651</td>\n",
       "      <td>1.573735</td>\n",
       "      <td>382.373735</td>\n",
       "      <td>1.754803</td>\n",
       "      <td>380.980000</td>\n",
       "      <td>...</td>\n",
       "      <td>0.524010</td>\n",
       "      <td>0.253737</td>\n",
       "      <td>4.262110</td>\n",
       "      <td>1.078909</td>\n",
       "      <td>5.504072</td>\n",
       "      <td>1.253714</td>\n",
       "      <td>0.945525</td>\n",
       "      <td>0.398927</td>\n",
       "      <td>0.003630</td>\n",
       "      <td>0.000650</td>\n",
       "    </tr>\n",
       "    <tr>\n",
       "      <th>3</th>\n",
       "      <td>2000-02-13</td>\n",
       "      <td>nonevent</td>\n",
       "      <td>False</td>\n",
       "      <td>376.723579</td>\n",
       "      <td>0.468817</td>\n",
       "      <td>376.660842</td>\n",
       "      <td>0.466072</td>\n",
       "      <td>377.282447</td>\n",
       "      <td>0.498498</td>\n",
       "      <td>376.628105</td>\n",
       "      <td>...</td>\n",
       "      <td>1.176977</td>\n",
       "      <td>0.431637</td>\n",
       "      <td>5.907152</td>\n",
       "      <td>1.121994</td>\n",
       "      <td>6.234664</td>\n",
       "      <td>1.068698</td>\n",
       "      <td>2.264736</td>\n",
       "      <td>0.733461</td>\n",
       "      <td>0.005318</td>\n",
       "      <td>0.000479</td>\n",
       "    </tr>\n",
       "    <tr>\n",
       "      <th>4</th>\n",
       "      <td>2000-02-17</td>\n",
       "      <td>nonevent</td>\n",
       "      <td>False</td>\n",
       "      <td>378.600367</td>\n",
       "      <td>1.934180</td>\n",
       "      <td>378.464862</td>\n",
       "      <td>1.946536</td>\n",
       "      <td>379.785872</td>\n",
       "      <td>2.865022</td>\n",
       "      <td>378.316909</td>\n",
       "      <td>...</td>\n",
       "      <td>0.215000</td>\n",
       "      <td>0.181921</td>\n",
       "      <td>1.033591</td>\n",
       "      <td>0.411619</td>\n",
       "      <td>1.167414</td>\n",
       "      <td>0.388698</td>\n",
       "      <td>0.504209</td>\n",
       "      <td>0.315966</td>\n",
       "      <td>0.002038</td>\n",
       "      <td>0.000751</td>\n",
       "    </tr>\n",
       "    <tr>\n",
       "      <th>5</th>\n",
       "      <td>2000-02-23</td>\n",
       "      <td>nonevent</td>\n",
       "      <td>False</td>\n",
       "      <td>380.528120</td>\n",
       "      <td>0.802001</td>\n",
       "      <td>380.371466</td>\n",
       "      <td>0.889550</td>\n",
       "      <td>381.816207</td>\n",
       "      <td>1.292593</td>\n",
       "      <td>380.296466</td>\n",
       "      <td>...</td>\n",
       "      <td>0.151757</td>\n",
       "      <td>0.108344</td>\n",
       "      <td>0.374667</td>\n",
       "      <td>0.315273</td>\n",
       "      <td>0.340794</td>\n",
       "      <td>0.917893</td>\n",
       "      <td>0.184711</td>\n",
       "      <td>0.130753</td>\n",
       "      <td>0.002546</td>\n",
       "      <td>0.000686</td>\n",
       "    </tr>\n",
       "  </tbody>\n",
       "</table>\n",
       "<p>5 rows × 127 columns</p>\n",
       "</div>"
      ],
      "text/plain": [
       "          date     event  partlybad  HYY_META.CO2168.mean  \\\n",
       "id                                                          \n",
       "1   2000-01-23  nonevent      False            373.496585   \n",
       "2   2000-01-25  nonevent      False            381.752738   \n",
       "3   2000-02-13  nonevent      False            376.723579   \n",
       "4   2000-02-17  nonevent      False            378.600367   \n",
       "5   2000-02-23  nonevent      False            380.528120   \n",
       "\n",
       "    HYY_META.CO2168.std  HYY_META.CO2336.mean  HYY_META.CO2336.std  \\\n",
       "id                                                                   \n",
       "1              0.189497            373.382593             0.172958   \n",
       "2              1.701439            381.392651             1.573735   \n",
       "3              0.468817            376.660842             0.466072   \n",
       "4              1.934180            378.464862             1.946536   \n",
       "5              0.802001            380.371466             0.889550   \n",
       "\n",
       "    HYY_META.CO242.mean  HYY_META.CO242.std  HYY_META.CO2504.mean  ...  \\\n",
       "id                                                                 ...   \n",
       "1            373.961481            0.235107            373.275062  ...   \n",
       "2            382.373735            1.754803            380.980000  ...   \n",
       "3            377.282447            0.498498            376.628105  ...   \n",
       "4            379.785872            2.865022            378.316909  ...   \n",
       "5            381.816207            1.292593            380.296466  ...   \n",
       "\n",
       "    HYY_META.WS42.mean  HYY_META.WS42.std  HYY_META.WS504.mean  \\\n",
       "id                                                               \n",
       "1             0.610911           0.241239             4.919484   \n",
       "2             0.524010           0.253737             4.262110   \n",
       "3             1.176977           0.431637             5.907152   \n",
       "4             0.215000           0.181921             1.033591   \n",
       "5             0.151757           0.108344             0.374667   \n",
       "\n",
       "    HYY_META.WS504.std  HYY_META.WS672.mean  HYY_META.WS672.std  \\\n",
       "id                                                                \n",
       "1             0.850927             5.704570            1.013961   \n",
       "2             1.078909             5.504072            1.253714   \n",
       "3             1.121994             6.234664            1.068698   \n",
       "4             0.411619             1.167414            0.388698   \n",
       "5             0.315273             0.340794            0.917893   \n",
       "\n",
       "    HYY_META.WS84.mean  HYY_META.WS84.std   CS.mean    CS.std  \n",
       "id                                                             \n",
       "1             1.303071           0.470907  0.000764  0.000048  \n",
       "2             0.945525           0.398927  0.003630  0.000650  \n",
       "3             2.264736           0.733461  0.005318  0.000479  \n",
       "4             0.504209           0.315966  0.002038  0.000751  \n",
       "5             0.184711           0.130753  0.002546  0.000686  \n",
       "\n",
       "[5 rows x 127 columns]"
      ]
     },
     "execution_count": 18,
     "metadata": {},
     "output_type": "execute_result"
    }
   ],
   "source": [
    "npf_df.head()"
   ]
  },
  {
   "cell_type": "markdown",
   "metadata": {},
   "source": [
    "###  c)"
   ]
  },
  {
   "cell_type": "code",
   "execution_count": 19,
   "metadata": {},
   "outputs": [],
   "source": [
    "npf_df.drop(\"partlybad\",axis='columns',inplace=True)"
   ]
  },
  {
   "cell_type": "code",
   "execution_count": 20,
   "metadata": {},
   "outputs": [
    {
     "data": {
      "text/html": [
       "<div>\n",
       "<style scoped>\n",
       "    .dataframe tbody tr th:only-of-type {\n",
       "        vertical-align: middle;\n",
       "    }\n",
       "\n",
       "    .dataframe tbody tr th {\n",
       "        vertical-align: top;\n",
       "    }\n",
       "\n",
       "    .dataframe thead th {\n",
       "        text-align: right;\n",
       "    }\n",
       "</style>\n",
       "<table border=\"1\" class=\"dataframe\">\n",
       "  <thead>\n",
       "    <tr style=\"text-align: right;\">\n",
       "      <th></th>\n",
       "      <th>HYY_META.CO2168.mean</th>\n",
       "      <th>HYY_META.CO2168.std</th>\n",
       "      <th>HYY_META.CO2336.mean</th>\n",
       "      <th>HYY_META.CO2336.std</th>\n",
       "      <th>HYY_META.CO242.mean</th>\n",
       "      <th>HYY_META.CO242.std</th>\n",
       "      <th>HYY_META.CO2504.mean</th>\n",
       "      <th>HYY_META.CO2504.std</th>\n",
       "      <th>HYY_META.Glob.mean</th>\n",
       "      <th>HYY_META.Glob.std</th>\n",
       "      <th>...</th>\n",
       "      <th>HYY_META.WS42.mean</th>\n",
       "      <th>HYY_META.WS42.std</th>\n",
       "      <th>HYY_META.WS504.mean</th>\n",
       "      <th>HYY_META.WS504.std</th>\n",
       "      <th>HYY_META.WS672.mean</th>\n",
       "      <th>HYY_META.WS672.std</th>\n",
       "      <th>HYY_META.WS84.mean</th>\n",
       "      <th>HYY_META.WS84.std</th>\n",
       "      <th>CS.mean</th>\n",
       "      <th>CS.std</th>\n",
       "    </tr>\n",
       "  </thead>\n",
       "  <tbody>\n",
       "    <tr>\n",
       "      <th>count</th>\n",
       "      <td>724.000000</td>\n",
       "      <td>724.000000</td>\n",
       "      <td>724.000000</td>\n",
       "      <td>724.000000</td>\n",
       "      <td>724.000000</td>\n",
       "      <td>724.000000</td>\n",
       "      <td>724.000000</td>\n",
       "      <td>724.000000</td>\n",
       "      <td>724.000000</td>\n",
       "      <td>724.000000</td>\n",
       "      <td>...</td>\n",
       "      <td>113.000000</td>\n",
       "      <td>113.000000</td>\n",
       "      <td>113.000000</td>\n",
       "      <td>113.000000</td>\n",
       "      <td>113.000000</td>\n",
       "      <td>113.000000</td>\n",
       "      <td>113.000000</td>\n",
       "      <td>113.000000</td>\n",
       "      <td>724.000000</td>\n",
       "      <td>724.000000</td>\n",
       "    </tr>\n",
       "    <tr>\n",
       "      <th>mean</th>\n",
       "      <td>381.658324</td>\n",
       "      <td>3.489664</td>\n",
       "      <td>381.673616</td>\n",
       "      <td>3.275027</td>\n",
       "      <td>382.655005</td>\n",
       "      <td>4.371095</td>\n",
       "      <td>381.577211</td>\n",
       "      <td>3.072423</td>\n",
       "      <td>185.514670</td>\n",
       "      <td>138.181756</td>\n",
       "      <td>...</td>\n",
       "      <td>0.688521</td>\n",
       "      <td>0.381446</td>\n",
       "      <td>4.373448</td>\n",
       "      <td>1.352006</td>\n",
       "      <td>4.803624</td>\n",
       "      <td>1.432461</td>\n",
       "      <td>1.212301</td>\n",
       "      <td>0.645490</td>\n",
       "      <td>0.003201</td>\n",
       "      <td>0.000693</td>\n",
       "    </tr>\n",
       "    <tr>\n",
       "      <th>std</th>\n",
       "      <td>11.258353</td>\n",
       "      <td>3.462871</td>\n",
       "      <td>11.221999</td>\n",
       "      <td>3.204495</td>\n",
       "      <td>10.871322</td>\n",
       "      <td>4.560481</td>\n",
       "      <td>11.226013</td>\n",
       "      <td>2.927460</td>\n",
       "      <td>123.826173</td>\n",
       "      <td>92.800204</td>\n",
       "      <td>...</td>\n",
       "      <td>0.310996</td>\n",
       "      <td>0.131977</td>\n",
       "      <td>1.594486</td>\n",
       "      <td>0.430355</td>\n",
       "      <td>1.768055</td>\n",
       "      <td>0.434073</td>\n",
       "      <td>0.554331</td>\n",
       "      <td>0.227427</td>\n",
       "      <td>0.002361</td>\n",
       "      <td>0.000619</td>\n",
       "    </tr>\n",
       "    <tr>\n",
       "      <th>min</th>\n",
       "      <td>356.526871</td>\n",
       "      <td>0.104654</td>\n",
       "      <td>356.796486</td>\n",
       "      <td>0.121059</td>\n",
       "      <td>359.795102</td>\n",
       "      <td>0.152663</td>\n",
       "      <td>356.841429</td>\n",
       "      <td>0.127037</td>\n",
       "      <td>3.719434</td>\n",
       "      <td>1.997962</td>\n",
       "      <td>...</td>\n",
       "      <td>0.143918</td>\n",
       "      <td>0.108344</td>\n",
       "      <td>0.374667</td>\n",
       "      <td>0.315273</td>\n",
       "      <td>0.340794</td>\n",
       "      <td>0.388698</td>\n",
       "      <td>0.184711</td>\n",
       "      <td>0.130753</td>\n",
       "      <td>0.000343</td>\n",
       "      <td>0.000027</td>\n",
       "    </tr>\n",
       "    <tr>\n",
       "      <th>25%</th>\n",
       "      <td>373.312402</td>\n",
       "      <td>0.960250</td>\n",
       "      <td>373.325678</td>\n",
       "      <td>0.933541</td>\n",
       "      <td>375.020899</td>\n",
       "      <td>1.076982</td>\n",
       "      <td>373.315253</td>\n",
       "      <td>0.883475</td>\n",
       "      <td>66.460780</td>\n",
       "      <td>42.722983</td>\n",
       "      <td>...</td>\n",
       "      <td>0.487022</td>\n",
       "      <td>0.291131</td>\n",
       "      <td>3.230292</td>\n",
       "      <td>1.074888</td>\n",
       "      <td>3.491357</td>\n",
       "      <td>1.131123</td>\n",
       "      <td>0.823859</td>\n",
       "      <td>0.492820</td>\n",
       "      <td>0.001539</td>\n",
       "      <td>0.000272</td>\n",
       "    </tr>\n",
       "    <tr>\n",
       "      <th>50%</th>\n",
       "      <td>380.963558</td>\n",
       "      <td>2.209440</td>\n",
       "      <td>380.973339</td>\n",
       "      <td>2.178880</td>\n",
       "      <td>382.073269</td>\n",
       "      <td>2.680883</td>\n",
       "      <td>380.851264</td>\n",
       "      <td>2.082948</td>\n",
       "      <td>182.624288</td>\n",
       "      <td>144.420346</td>\n",
       "      <td>...</td>\n",
       "      <td>0.626884</td>\n",
       "      <td>0.356229</td>\n",
       "      <td>4.261883</td>\n",
       "      <td>1.291357</td>\n",
       "      <td>4.682412</td>\n",
       "      <td>1.353102</td>\n",
       "      <td>1.086072</td>\n",
       "      <td>0.614442</td>\n",
       "      <td>0.002568</td>\n",
       "      <td>0.000515</td>\n",
       "    </tr>\n",
       "    <tr>\n",
       "      <th>75%</th>\n",
       "      <td>388.683335</td>\n",
       "      <td>4.852608</td>\n",
       "      <td>388.749373</td>\n",
       "      <td>4.564792</td>\n",
       "      <td>389.354659</td>\n",
       "      <td>6.168411</td>\n",
       "      <td>388.648751</td>\n",
       "      <td>4.238526</td>\n",
       "      <td>295.071365</td>\n",
       "      <td>222.603500</td>\n",
       "      <td>...</td>\n",
       "      <td>0.823015</td>\n",
       "      <td>0.452122</td>\n",
       "      <td>5.289124</td>\n",
       "      <td>1.560051</td>\n",
       "      <td>5.752943</td>\n",
       "      <td>1.606556</td>\n",
       "      <td>1.496664</td>\n",
       "      <td>0.771615</td>\n",
       "      <td>0.004243</td>\n",
       "      <td>0.000883</td>\n",
       "    </tr>\n",
       "    <tr>\n",
       "      <th>max</th>\n",
       "      <td>413.101159</td>\n",
       "      <td>20.960630</td>\n",
       "      <td>413.176522</td>\n",
       "      <td>19.351218</td>\n",
       "      <td>413.024493</td>\n",
       "      <td>40.366704</td>\n",
       "      <td>413.217353</td>\n",
       "      <td>17.384845</td>\n",
       "      <td>449.450545</td>\n",
       "      <td>320.099476</td>\n",
       "      <td>...</td>\n",
       "      <td>1.804491</td>\n",
       "      <td>0.799629</td>\n",
       "      <td>9.109659</td>\n",
       "      <td>3.099174</td>\n",
       "      <td>9.979648</td>\n",
       "      <td>3.280108</td>\n",
       "      <td>2.956898</td>\n",
       "      <td>1.533635</td>\n",
       "      <td>0.019094</td>\n",
       "      <td>0.004676</td>\n",
       "    </tr>\n",
       "  </tbody>\n",
       "</table>\n",
       "<p>8 rows × 124 columns</p>\n",
       "</div>"
      ],
      "text/plain": [
       "       HYY_META.CO2168.mean  HYY_META.CO2168.std  HYY_META.CO2336.mean  \\\n",
       "count            724.000000           724.000000            724.000000   \n",
       "mean             381.658324             3.489664            381.673616   \n",
       "std               11.258353             3.462871             11.221999   \n",
       "min              356.526871             0.104654            356.796486   \n",
       "25%              373.312402             0.960250            373.325678   \n",
       "50%              380.963558             2.209440            380.973339   \n",
       "75%              388.683335             4.852608            388.749373   \n",
       "max              413.101159            20.960630            413.176522   \n",
       "\n",
       "       HYY_META.CO2336.std  HYY_META.CO242.mean  HYY_META.CO242.std  \\\n",
       "count           724.000000           724.000000          724.000000   \n",
       "mean              3.275027           382.655005            4.371095   \n",
       "std               3.204495            10.871322            4.560481   \n",
       "min               0.121059           359.795102            0.152663   \n",
       "25%               0.933541           375.020899            1.076982   \n",
       "50%               2.178880           382.073269            2.680883   \n",
       "75%               4.564792           389.354659            6.168411   \n",
       "max              19.351218           413.024493           40.366704   \n",
       "\n",
       "       HYY_META.CO2504.mean  HYY_META.CO2504.std  HYY_META.Glob.mean  \\\n",
       "count            724.000000           724.000000          724.000000   \n",
       "mean             381.577211             3.072423          185.514670   \n",
       "std               11.226013             2.927460          123.826173   \n",
       "min              356.841429             0.127037            3.719434   \n",
       "25%              373.315253             0.883475           66.460780   \n",
       "50%              380.851264             2.082948          182.624288   \n",
       "75%              388.648751             4.238526          295.071365   \n",
       "max              413.217353            17.384845          449.450545   \n",
       "\n",
       "       HYY_META.Glob.std  ...  HYY_META.WS42.mean  HYY_META.WS42.std  \\\n",
       "count         724.000000  ...          113.000000         113.000000   \n",
       "mean          138.181756  ...            0.688521           0.381446   \n",
       "std            92.800204  ...            0.310996           0.131977   \n",
       "min             1.997962  ...            0.143918           0.108344   \n",
       "25%            42.722983  ...            0.487022           0.291131   \n",
       "50%           144.420346  ...            0.626884           0.356229   \n",
       "75%           222.603500  ...            0.823015           0.452122   \n",
       "max           320.099476  ...            1.804491           0.799629   \n",
       "\n",
       "       HYY_META.WS504.mean  HYY_META.WS504.std  HYY_META.WS672.mean  \\\n",
       "count           113.000000          113.000000           113.000000   \n",
       "mean              4.373448            1.352006             4.803624   \n",
       "std               1.594486            0.430355             1.768055   \n",
       "min               0.374667            0.315273             0.340794   \n",
       "25%               3.230292            1.074888             3.491357   \n",
       "50%               4.261883            1.291357             4.682412   \n",
       "75%               5.289124            1.560051             5.752943   \n",
       "max               9.109659            3.099174             9.979648   \n",
       "\n",
       "       HYY_META.WS672.std  HYY_META.WS84.mean  HYY_META.WS84.std     CS.mean  \\\n",
       "count          113.000000          113.000000         113.000000  724.000000   \n",
       "mean             1.432461            1.212301           0.645490    0.003201   \n",
       "std              0.434073            0.554331           0.227427    0.002361   \n",
       "min              0.388698            0.184711           0.130753    0.000343   \n",
       "25%              1.131123            0.823859           0.492820    0.001539   \n",
       "50%              1.353102            1.086072           0.614442    0.002568   \n",
       "75%              1.606556            1.496664           0.771615    0.004243   \n",
       "max              3.280108            2.956898           1.533635    0.019094   \n",
       "\n",
       "           CS.std  \n",
       "count  724.000000  \n",
       "mean     0.000693  \n",
       "std      0.000619  \n",
       "min      0.000027  \n",
       "25%      0.000272  \n",
       "50%      0.000515  \n",
       "75%      0.000883  \n",
       "max      0.004676  \n",
       "\n",
       "[8 rows x 124 columns]"
      ]
     },
     "execution_count": 20,
     "metadata": {},
     "output_type": "execute_result"
    }
   ],
   "source": [
    "npf_df.describe()"
   ]
  },
  {
   "cell_type": "markdown",
   "metadata": {},
   "source": [
    "Plotting scatterplot matrix"
   ]
  },
  {
   "cell_type": "code",
   "execution_count": null,
   "metadata": {},
   "outputs": [],
   "source": [
    "import seaborn as sns\n",
    "sns.pairplot(npf_df.iloc[:,2:12])"
   ]
  },
  {
   "cell_type": "markdown",
   "metadata": {},
   "source": [
    "plt.figure()\n",
    "for i in range(2,12):\n",
    "    plt.subplot(2,5,i-1)\n",
    "    sns.boxplot(x=\"event\", y=npf_df.iloc[:,i],data=npf_df)"
   ]
  },
  {
   "cell_type": "markdown",
   "metadata": {},
   "source": [
    "for i in range(2,12):\n",
    "    plt.figure()\n",
    "    sns.boxplot(x=\"event\", y=npf_df.iloc[:,i],data=npf_df)\n",
    "    plt.savefig(\"{}.png\".format(npf_df.columns[i]))"
   ]
  },
  {
   "cell_type": "code",
   "execution_count": 42,
   "metadata": {},
   "outputs": [],
   "source": [
    "npf_df[\"isevent\"] = npf_df.event.values != \"nonevent\""
   ]
  },
  {
   "cell_type": "code",
   "execution_count": 43,
   "metadata": {},
   "outputs": [
    {
     "data": {
      "text/plain": [
       "330"
      ]
     },
     "execution_count": 43,
     "metadata": {},
     "output_type": "execute_result"
    }
   ],
   "source": [
    "np.sum(npf_df.isevent)"
   ]
  },
  {
   "cell_type": "code",
   "execution_count": 44,
   "metadata": {},
   "outputs": [
    {
     "data": {
      "text/plain": [
       "([<matplotlib.axis.XTick at 0x7fb7c05880d0>,\n",
       "  <matplotlib.axis.XTick at 0x7fb7c05aba10>],\n",
       " <a list of 2 Text xticklabel objects>)"
      ]
     },
     "execution_count": 44,
     "metadata": {},
     "output_type": "execute_result"
    },
    {
     "data": {
      "image/png": "[encoded data removed]",
      "text/plain": [
       "<Figure size 432x288 with 1 Axes>"
      ]
     },
     "metadata": {
      "needs_background": "light"
     },
     "output_type": "display_data"
    }
   ],
   "source": [
    "sns.boxplot(x=\"isevent\", y=npf_df[\"HYY_META.RHIRGA84.mean\"],data=npf_df)\n",
    "plt.xticks(ticks=[False,True],labels=[\"not event\",\"event\"])"
   ]
  },
  {
   "cell_type": "code",
   "execution_count": 33,
   "metadata": {},
   "outputs": [
    {
     "data": {
      "text/plain": [
       "Text(0.5, 0.98, 'HYY_META.CO2168.mean')"
      ]
     },
     "execution_count": 33,
     "metadata": {},
     "output_type": "execute_result"
    },
    {
     "data": {
      "image/png": "[encoded data removed]",
      "text/plain": [
       "<Figure size 432x288 with 4 Axes>"
      ]
     },
     "metadata": {
      "needs_background": "light"
     },
     "output_type": "display_data"
    }
   ],
   "source": [
    "plt.figure()\n",
    "#plt.subplots(2,2)\n",
    "col = 2\n",
    "#print(npf_df.columns[col])\n",
    "plt.subplot(2,2,1)\n",
    "plt.hist(x=npf_df.iloc[:,col],bins=10);#,data=npf_df)\n",
    "plt.subplot(2,2,2)\n",
    "plt.hist(x=npf_df.iloc[:,col],bins=20);#,data=npf_df)\n",
    "plt.subplot(2,2,3)\n",
    "plt.hist(x=npf_df.iloc[:,col],bins=30);#,data=npf_df)\n",
    "plt.subplot(2,2,4)\n",
    "plt.hist(x=npf_df.iloc[:,col],bins=40);#,data=npf_df)\n",
    "plt.suptitle(npf_df.columns[col])"
   ]
  },
  {
   "cell_type": "code",
   "execution_count": 45,
   "metadata": {},
   "outputs": [],
   "source": [
    "npf_df[\"datetime\"] = pd.to_datetime(npf_df.date)"
   ]
  },
  {
   "cell_type": "code",
   "execution_count": 41,
   "metadata": {},
   "outputs": [
    {
     "data": {
      "image/png": "[encoded data removed]",
      "text/plain": [
       "<Figure size 432x288 with 4 Axes>"
      ]
     },
     "metadata": {
      "needs_background": "light"
     },
     "output_type": "display_data"
    }
   ],
   "source": [
    "# Divide data into nonevent and event days\n",
    "npf_df_true = npf_df[npf_df.isevent == True]\n",
    "npf_df_false = npf_df[npf_df.isevent == False]\n",
    "\n",
    "\n",
    "# plot subplots with different variables\n",
    "fig, ax = plt.subplots()\n",
    "\n",
    "plt.suptitle('Comparing nonevent and event days')\n",
    "\n",
    "plt.subplot(2,2,1)\n",
    "plt.hist(x=npf_df_true['HYY_META.CO2168.mean'], bins=40, color='b', alpha=0.5, label='Event');\n",
    "plt.hist(x=npf_df_false['HYY_META.CO2168.mean'], bins=40, color='r', alpha=0.5, label='Nonevent');\n",
    "plt.xlabel('$CO_2$ (ppm)')\n",
    "plt.title('Mean $CO_2$ at 16.8m')\n",
    "         \n",
    "plt.subplot(2,2,2)\n",
    "plt.hist(x=npf_df_true['HYY_META.RHIRGA84.mean'], bins=40, color='b', alpha=0.5);\n",
    "plt.hist(x=npf_df_false['HYY_META.RHIRGA84.mean'], bins=40, color='r', alpha=0.5);\n",
    "plt.xlabel('RH (%)')\n",
    "plt.title('Mean RH')\n",
    "\n",
    "\n",
    "plt.subplot(2,2,3)\n",
    "plt.hist(x=npf_df_true['HYY_META.WS504.std'], bins=40, color='b', alpha=0.5);\n",
    "plt.hist(x=npf_df_false['HYY_META.WS504.std'], bins=40, color='r', alpha=0.5);\n",
    "plt.xlabel('WS (m/s)')\n",
    "plt.title('Std of wind speed at 50.4m')\n",
    "\n",
    "plt.subplot(2,2,4)\n",
    "plt.hist(x=npf_df_true['HYY_META.CO242.mean'], bins=40, color='b', alpha=0.5);\n",
    "plt.hist(x=npf_df_false['HYY_META.CO242.mean'], bins=40, color='r', alpha=0.5);\n",
    "plt.xlabel('$CO_2$ (ppm)')\n",
    "plt.title('Mean $CO_2$ at 4.2m')\n",
    "\n",
    "\n",
    "fig.legend()\n",
    "fig.tight_layout(pad=3.0)"
   ]
  },
  {
   "cell_type": "markdown",
   "metadata": {},
   "source": [
    "## Problem 4 "
   ]
  },
  {
   "cell_type": "markdown",
   "metadata": {},
   "source": [
    "Firstly, let's prove that\n",
    "\n",
    "    l_P = sum_i(l_i)\n",
    "\n",
    "So:\n",
    "\n",
    "    l_P = log(p_P) = log(prod_i(p_i)) = sum_i(log(p_i)) = sum_i(l_i)\n"
   ]
  },
  {
   "cell_type": "markdown",
   "metadata": {},
   "source": [
    "Secondly, let's prove that\n",
    "\n",
    "    l_S = max_j(l_j) + log{sum_i[exp(l_i-max_j(l_j))]}\n",
    "        = max_j(l_j) + log{sum_i[exp(l_i)/exp(max_j(l_j))]}\n",
    "        = max_j(l_j) + log{sum_i[exp(l_i)]/exp(max_j(l_j))}\n",
    "        = max_j(l_j) + log{sum_i[exp(l_i)]} - log{exp(max_j(l_j))}\n",
    "        = max_j(l_j) + log{sum_i[exp(l_i)]} - max_j(l_j)\n",
    "        = log{sum_i[exp(l_i)]}\n",
    "        = log{sum_i[exp(log(p_i))]}\n",
    "        = log{sum_i[p_i]}\n",
    "        = log{p_S}"
   ]
  },
  {
   "cell_type": "code",
   "execution_count": 4,
   "metadata": {},
   "outputs": [],
   "source": [
    "import numpy as np\n",
    "def p(x):\n",
    "    return np.exp(-x**2/2)/np.sqrt(2*np.pi)\n",
    "def l(x):\n",
    "    return -x**2/2/np.log(np.sqrt(2*np.pi))"
   ]
  },
  {
   "cell_type": "code",
   "execution_count": 5,
   "metadata": {},
   "outputs": [
    {
     "name": "stderr",
     "output_type": "stream",
     "text": [
      "/Users/jakub/anaconda3/lib/python3.6/site-packages/ipykernel_launcher.py:1: RuntimeWarning: invalid value encountered in double_scalars\n",
      "  \"\"\"Entry point for launching an IPython kernel.\n"
     ]
    },
    {
     "data": {
      "text/plain": [
       "nan"
      ]
     },
     "execution_count": 5,
     "metadata": {},
     "output_type": "execute_result"
    }
   ],
   "source": [
    "p(100)/(p(100)+p(100.01))"
   ]
  },
  {
   "cell_type": "code",
   "execution_count": 6,
   "metadata": {},
   "outputs": [
    {
     "name": "stderr",
     "output_type": "stream",
     "text": [
      "/Users/jakub/anaconda3/lib/python3.6/site-packages/ipykernel_launcher.py:1: RuntimeWarning: invalid value encountered in double_scalars\n",
      "  \"\"\"Entry point for launching an IPython kernel.\n"
     ]
    },
    {
     "data": {
      "text/plain": [
       "nan"
      ]
     },
     "execution_count": 6,
     "metadata": {},
     "output_type": "execute_result"
    }
   ],
   "source": [
    "-np.log(1+p(100.01)/p(100))"
   ]
  },
  {
   "cell_type": "code",
   "execution_count": null,
   "metadata": {},
   "outputs": [],
   "source": []
  }
 ],
 "metadata": {
  "kernelspec": {
   "display_name": "Python 3",
   "language": "python",
   "name": "python3"
  },
  "language_info": {
   "codemirror_mode": {
    "name": "ipython",
    "version": 3
   },
   "file_extension": ".py",
   "mimetype": "text/x-python",
   "name": "python",
   "nbconvert_exporter": "python",
   "pygments_lexer": "ipython3",
   "version": "3.6.4"
  }
 },
 "nbformat": 4,
 "nbformat_minor": 4
}
