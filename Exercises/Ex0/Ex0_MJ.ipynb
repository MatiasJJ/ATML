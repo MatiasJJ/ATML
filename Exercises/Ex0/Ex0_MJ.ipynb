{
 "cells": [
  {
   "cell_type": "markdown",
   "metadata": {},
   "source": [
    "# Intro to ML\n",
    "## Ex0\n",
    "\n"
   ]
  },
  {
   "cell_type": "markdown",
   "metadata": {},
   "source": [
    "### 1. Algebra, Random variables\n",
    "\n",
    "$ \\Omega = $ The sample space (the set of outcomes)  \n",
    "$ \\omega = $ The outcome  \n",
    "$ P(\\omega) >0 = $ The probability of an outcome  \n",
    "$ \\sum_{\\omega \\in \\Omega} P(\\omega) = 1 $ So sum of probabilities is 1  "
   ]
  },
  {
   "cell_type": "markdown",
   "metadata": {},
   "source": [
    "$ X = $ a real-valued random variable (satunnaismuuttuja)  \n",
    "\n",
    "$ X(\\omega) $ creates a mapping between real numbers and the possible outcomes"
   ]
  },
  {
   "cell_type": "markdown",
   "metadata": {},
   "source": [
    "#### a)\n",
    "An operator $L$ is linear if it obeys:\n",
    "$$ L ( x + y ) = L x + L y $$\n",
    "where $ x,y $ are eg. functions\n",
    "\n",
    "and \n",
    "$$ L (\\lambda x) = \\lambda L x $$\n",
    "where $\\lambda \\in \\Re$ "
   ]
  },
  {
   "cell_type": "markdown",
   "metadata": {},
   "source": [
    "Show that the operator $E$ is linear:\n",
    "\n",
    "$E[X(\\omega)] = \\sum_{\\omega} P(\\omega)X(\\omega)$"
   ]
  },
  {
   "cell_type": "markdown",
   "metadata": {},
   "source": [
    "$$ \\begin{align}\n",
    "E[F(\\omega) + G(\\omega)] &= \\sum_{\\omega} P(\\omega) \\left(F(\\omega) + G(\\omega)\\right) \\\\\n",
    "E[F(\\omega) + G(\\omega)] &= \\sum_{\\omega} P(\\omega) F(\\omega) + \\sum_{\\omega} P(\\omega) G(\\omega) \\\\\n",
    "E[F(\\omega) + G(\\omega)] &= E [F(\\omega)] + E [G(\\omega)] \\\\\\\\\n",
    "E[F + G] &= E [F] + E [G] \\\\\n",
    "\\end{align} $$"
   ]
  },
  {
   "cell_type": "markdown",
   "metadata": {},
   "source": [
    "and:  \n",
    "$$ \\begin{align}\n",
    "E[cF(\\omega)] &= \\sum_{\\omega} P(\\omega)cF(\\omega) \\\\\n",
    "E[cF(\\omega)] &= c\\sum_{\\omega} P(\\omega)F(\\omega) \\\\\n",
    "E[cF(\\omega)] &= cE[F(\\omega)] \\\\\n",
    "\\end{align} $$"
   ]
  },
  {
   "cell_type": "markdown",
   "metadata": {},
   "source": [
    "$ \\mathrm{Var}[X(\\omega)] = E[(X(\\omega) - E[X(\\omega)])^2] $"
   ]
  },
  {
   "cell_type": "markdown",
   "metadata": {},
   "source": [
    "#### b)\n",
    "\n",
    "$$ \\begin{align}\n",
    "\\mathrm{Var}[X] &= E[(X - E[X])^2] \\\\\n",
    "\\mathrm{Var}[X] &= E[X^2 - 2XE[X] + E[X]^2] \\\\\n",
    "\\mathrm{Var}[X] &= E[X^2] - 2E[X]E[X] + E[X]^2 \\\\\n",
    "\\mathrm{Var}[X] &= E[X^2] - E[X]^2 \\\\\n",
    "\\end{align} $$"
   ]
  },
  {
   "cell_type": "markdown",
   "metadata": {},
   "source": [
    "#### b)\n",
    "\n",
    "$$ E[X] = \\sum_{\\omega} PX $$"
   ]
  },
  {
   "cell_type": "markdown",
   "metadata": {},
   "source": [
    "$$ \\begin{align}\n",
    "\\mathrm{Var}[X] &= E[(X - E[X])^2] \\\\\n",
    "\\mathrm{Var}[X] &= E[X^2 - 2XE[X] + E[X]^2] \\\\\n",
    "\\mathrm{Var}[X] &= E[X^2] - E[2XE[X]] + E[E[X]^2] \\\\\n",
    "\\mathrm{Var}[X] &= E[X^2] - 2E[X]E[X] + E[E[X]E[X]] \\\\\n",
    "\\mathrm{Var}[X] &= \\sum_{\\omega} PX^2 - 2\\sum_{\\omega} PX\\sum_{\\omega} PX + \\sum_{\\omega} P(\\sum_{\\omega} PX)^2 \\\\\n",
    "\\mathrm{Var}[X] &= \\sum_{\\omega} PX^2 - 2\\sum_{\\omega} PX\\sum_{\\omega} PX + \\sum_{\\omega} P\\sum_{\\omega} PX\\sum_{\\omega} PX \\\\\n",
    "\\mathrm{Var}[X] &= \\sum_{\\omega} PX^2 - (\\sum_{\\omega} PX)^2 \\\\\n",
    "\\mathrm{Var}[X] &= E[X^2] - E[X]^2 \\\\\n",
    "\\end{align} $$"
   ]
  },
  {
   "cell_type": "markdown",
   "metadata": {},
   "source": [
    "### 2. Bayes Rule"
   ]
  },
  {
   "cell_type": "markdown",
   "metadata": {},
   "source": [
    "#### a) Derivation"
   ]
  },
  {
   "cell_type": "markdown",
   "metadata": {},
   "source": [
    "The probability of event $A$ given $B$ is:\n",
    "\n",
    "$$ P(A|B) = \\frac{P(A \\cap B)}{P(B)} $$"
   ]
  },
  {
   "cell_type": "markdown",
   "metadata": {},
   "source": [
    "The probability of event $B$ given $A$ is:\n",
    "\n",
    "$$ P(B|A) = \\frac{P(B \\cap A)}{P(A)} $$"
   ]
  },
  {
   "cell_type": "markdown",
   "metadata": {},
   "source": [
    "Noting that: $$P(B \\cap A) = P(A \\cap B)$$\n",
    "We get: $$ P(A|B) P(B) = P(B|A) P(A) $$"
   ]
  },
  {
   "cell_type": "markdown",
   "metadata": {},
   "source": [
    "Rearranging gives Bayes: $$ P(A|B) = \\frac{P(B|A) P(A)}{P(B)} $$"
   ]
  },
  {
   "cell_type": "markdown",
   "metadata": {},
   "source": [
    "#### b) Medical test\n",
    "\n",
    "$A = $ allergy  \n",
    "$\\neg A = $ no allergy  \n",
    "$T = $ positive test  \n",
    "$\\neg T = $ negative test"
   ]
  },
  {
   "cell_type": "markdown",
   "metadata": {},
   "source": [
    "false positive in 1 % of the cases:\n",
    "$$ P(T|\\neg A)=0.01 $$"
   ]
  },
  {
   "cell_type": "markdown",
   "metadata": {},
   "source": [
    "false negative in 10 % of the cases:\n",
    "$$ P(\\neg T|A)=0.1 $$"
   ]
  },
  {
   "cell_type": "markdown",
   "metadata": {},
   "source": [
    "15 % of the population in Finland have allergy:\n",
    "$$ P(A) = 0.15 $$"
   ]
  },
  {
   "cell_type": "markdown",
   "metadata": {},
   "source": [
    "the probability that a person is allergic, if the test is positive:\n",
    "$$ P(A|T) = \\frac{P(A \\cap T)}{P(T)} $$\n",
    "$$ P(A|T) = \\frac{P(T|A) P(A)}{P(T)} $$"
   ]
  },
  {
   "cell_type": "markdown",
   "metadata": {},
   "source": [
    "Write: \n",
    "$$ P(T) = P(A \\cap T) + P(\\neg A \\cap T) $$\n",
    "$$ P(T) = P(T | A)P(A) + P(T | \\neg A) P(\\neg A) $$"
   ]
  },
  {
   "cell_type": "markdown",
   "metadata": {},
   "source": [
    "Bayes with the marginal:\n",
    "$$ P(A|T) = \\frac{P(T|A) P(A)}{P(T | A)P(A) + P(T | \\neg A) P(\\neg A)} $$"
   ]
  },
  {
   "cell_type": "code",
   "execution_count": null,
   "metadata": {},
   "outputs": [],
   "source": []
  },
  {
   "cell_type": "code",
   "execution_count": null,
   "metadata": {},
   "outputs": [],
   "source": []
  },
  {
   "cell_type": "code",
   "execution_count": null,
   "metadata": {},
   "outputs": [],
   "source": []
  },
  {
   "cell_type": "code",
   "execution_count": null,
   "metadata": {},
   "outputs": [],
   "source": []
  },
  {
   "cell_type": "code",
   "execution_count": null,
   "metadata": {},
   "outputs": [],
   "source": []
  },
  {
   "cell_type": "markdown",
   "metadata": {},
   "source": [
    "### 2.\n",
    "\n",
    "Eigenfunction $ \\mathrm{A}x = \\lambda x $\n",
    "\n",
    "Matrix $ \\mathrm{A} \\in \\Re^{n\\times n} $  \n",
    "Eigenvalue $\\lambda \\in \\Re $  \n",
    "Eigenvector $ x \\in \\Re $  \n",
    "\n"
   ]
  },
  {
   "cell_type": "markdown",
   "metadata": {},
   "source": [
    "$\\mathrm{A}$ has $n$ orthonormal eigenvectors $x_i$"
   ]
  },
  {
   "cell_type": "markdown",
   "metadata": {},
   "source": [
    "A matrix $\\mathrm{A}$ can be expressed in the basis of it's eigenvectors $X = [\\lambda_1 + \\lambda_2 + … + \\lambda_n]$ and $X^\\top$ \n",
    "$$ \\mathrm{A} = X\\Lambda X^\\top $$\n",
    "where $\\Lambda$ is a diagonal matrix with $\\mathrm{Tr}(\\Lambda) = \\sum_i^n \\lambda_i $\n",
    "\n",
    "$$ \\mathrm{A} = \\begin{pmatrix} \n",
    "\\uparrow & \\uparrow &  & \\uparrow \\\\\n",
    "x_1 & x_2 & \\dots & x_n \\\\\n",
    "\\downarrow & \\downarrow & & \\downarrow \\\\\n",
    "\\end{pmatrix} \\begin{pmatrix} \n",
    "\\lambda_1 & & & 0 \\\\\n",
    " & \\lambda_2 & & \\\\\n",
    " & & \\ddots & \\\\\n",
    "0 & & & \\lambda_n \\\\\n",
    "\\end{pmatrix} \\begin{pmatrix} \n",
    "\\leftarrow & x_1 & \\rightarrow \\\\\n",
    "\\leftarrow & x_2 & \\rightarrow \\\\\n",
    "\\leftarrow & \\vdots & \\rightarrow \\\\\n",
    "\\leftarrow & x_n & \\rightarrow \\\\\n",
    "\\end{pmatrix} $$"
   ]
  },
  {
   "cell_type": "markdown",
   "metadata": {},
   "source": [
    "Multiplying the matrices yields $ \\mathrm{A} = \\sum_{i=1}^n \\lambda_ix_ix_i^\\top $ \n",
    "Hence $ \\mathrm{A} = \\mathrm{B} $ and the eigenvectors and -values are the same for $\\mathrm{B}$ as well."
   ]
  },
  {
   "cell_type": "markdown",
   "metadata": {},
   "source": [
    "### 3.a)\n",
    "\n",
    "$$ \\begin{align}\n",
    "f(x) &= ax^4 + bx + c \\\\\n",
    "f'(x) &= 4ax^3 + b \\\\ \n",
    "\\end{align} $$ \n",
    "\n",
    "The extreme values are found when $ f'(x) =0 $\n",
    "\n",
    "$$ \\begin{align}\n",
    "4ax^3 + b &= 0 \\\\\n",
    "4ax^3 &= -b \\\\\n",
    "x^3 &= \\frac{-b}{4a} \\\\\n",
    "x &= \\sqrt[\\leftroot{2}3]{\\frac{-b}{4a}} \\\\\n",
    "\\end{align} $$ \n",
    "\n",
    "### b)\n",
    "Conditions: $a>0$ and none of them can go to the infinity (and beyond)"
   ]
  },
  {
   "cell_type": "markdown",
   "metadata": {},
   "source": [
    "### 4.\n",
    "\n",
    "Pseudocode for producing fibonacci numbers"
   ]
  },
  {
   "cell_type": "markdown",
   "metadata": {},
   "source": [
    "```python\n",
    "func fibo(n) {\n",
    "    i = 0\n",
    "    j = 1\n",
    "    for k in [1,n + 1] {\n",
    "        i = j\n",
    "        j = i + j\n",
    "        print j\n",
    "```"
   ]
  },
  {
   "cell_type": "markdown",
   "metadata": {},
   "source": [
    "The time compexity is $\\mathcal{O}(n)$ for there's only one for loop and it goes through all the numbers $[1,n+1]$."
   ]
  },
  {
   "cell_type": "markdown",
   "metadata": {},
   "source": [
    "### 5.\n",
    "\n",
    "> Sorry I do this first in Python and maybe later if I have time in R"
   ]
  },
  {
   "cell_type": "code",
   "execution_count": 2,
   "metadata": {},
   "outputs": [],
   "source": [
    "import numpy as np\n",
    "import pandas as pd\n",
    "import matplotlib.pyplot as plt"
   ]
  },
  {
   "cell_type": "code",
   "execution_count": 5,
   "metadata": {},
   "outputs": [
    {
     "data": {
      "text/html": [
       "<div>\n",
       "<style scoped>\n",
       "    .dataframe tbody tr th:only-of-type {\n",
       "        vertical-align: middle;\n",
       "    }\n",
       "\n",
       "    .dataframe tbody tr th {\n",
       "        vertical-align: top;\n",
       "    }\n",
       "\n",
       "    .dataframe thead th {\n",
       "        text-align: right;\n",
       "    }\n",
       "</style>\n",
       "<table border=\"1\" class=\"dataframe\">\n",
       "  <thead>\n",
       "    <tr style=\"text-align: right;\">\n",
       "      <th></th>\n",
       "      <th>V1</th>\n",
       "      <th>V2</th>\n",
       "      <th>V3</th>\n",
       "      <th>V4</th>\n",
       "      <th>V5</th>\n",
       "      <th>V6</th>\n",
       "      <th>V7</th>\n",
       "      <th>V8</th>\n",
       "      <th>V9</th>\n",
       "      <th>V10</th>\n",
       "      <th>...</th>\n",
       "      <th>V23</th>\n",
       "      <th>V24</th>\n",
       "      <th>V25</th>\n",
       "      <th>V26</th>\n",
       "      <th>V27</th>\n",
       "      <th>V28</th>\n",
       "      <th>V29</th>\n",
       "      <th>V30</th>\n",
       "      <th>V31</th>\n",
       "      <th>V32</th>\n",
       "    </tr>\n",
       "  </thead>\n",
       "  <tbody>\n",
       "    <tr>\n",
       "      <th>246</th>\n",
       "      <td>-5.449209</td>\n",
       "      <td>-4.839936</td>\n",
       "      <td>7.791066</td>\n",
       "      <td>-4.113574</td>\n",
       "      <td>3.116813</td>\n",
       "      <td>-1.612643</td>\n",
       "      <td>8.536327</td>\n",
       "      <td>-8.928656</td>\n",
       "      <td>9.551100</td>\n",
       "      <td>-3.436968</td>\n",
       "      <td>...</td>\n",
       "      <td>5.657978</td>\n",
       "      <td>8.995370</td>\n",
       "      <td>-6.283762</td>\n",
       "      <td>-0.477359</td>\n",
       "      <td>5.444728</td>\n",
       "      <td>0.325320</td>\n",
       "      <td>-1.986173</td>\n",
       "      <td>6.832465</td>\n",
       "      <td>-8.230387</td>\n",
       "      <td>3.005954</td>\n",
       "    </tr>\n",
       "    <tr>\n",
       "      <th>937</th>\n",
       "      <td>-5.580300</td>\n",
       "      <td>-5.008709</td>\n",
       "      <td>7.743093</td>\n",
       "      <td>-3.919815</td>\n",
       "      <td>3.864029</td>\n",
       "      <td>-1.348257</td>\n",
       "      <td>6.978567</td>\n",
       "      <td>-8.783394</td>\n",
       "      <td>9.437468</td>\n",
       "      <td>-3.171823</td>\n",
       "      <td>...</td>\n",
       "      <td>3.657569</td>\n",
       "      <td>8.271961</td>\n",
       "      <td>-6.138795</td>\n",
       "      <td>0.814686</td>\n",
       "      <td>2.510457</td>\n",
       "      <td>0.636386</td>\n",
       "      <td>-4.946457</td>\n",
       "      <td>4.299997</td>\n",
       "      <td>-8.047157</td>\n",
       "      <td>3.287997</td>\n",
       "    </tr>\n",
       "    <tr>\n",
       "      <th>242</th>\n",
       "      <td>-5.904165</td>\n",
       "      <td>-5.309392</td>\n",
       "      <td>8.032675</td>\n",
       "      <td>-1.519781</td>\n",
       "      <td>3.971225</td>\n",
       "      <td>0.910792</td>\n",
       "      <td>7.413364</td>\n",
       "      <td>-9.385246</td>\n",
       "      <td>11.935870</td>\n",
       "      <td>-0.799606</td>\n",
       "      <td>...</td>\n",
       "      <td>9.242902</td>\n",
       "      <td>7.959963</td>\n",
       "      <td>-6.569953</td>\n",
       "      <td>3.950336</td>\n",
       "      <td>1.082666</td>\n",
       "      <td>3.068318</td>\n",
       "      <td>-1.653382</td>\n",
       "      <td>6.210342</td>\n",
       "      <td>-8.664232</td>\n",
       "      <td>1.830550</td>\n",
       "    </tr>\n",
       "    <tr>\n",
       "      <th>367</th>\n",
       "      <td>-5.347353</td>\n",
       "      <td>-4.902344</td>\n",
       "      <td>5.388195</td>\n",
       "      <td>-4.786115</td>\n",
       "      <td>4.851407</td>\n",
       "      <td>-2.117089</td>\n",
       "      <td>6.887484</td>\n",
       "      <td>-8.942921</td>\n",
       "      <td>9.031702</td>\n",
       "      <td>-3.896351</td>\n",
       "      <td>...</td>\n",
       "      <td>6.678773</td>\n",
       "      <td>9.943034</td>\n",
       "      <td>-6.212339</td>\n",
       "      <td>1.911352</td>\n",
       "      <td>6.250380</td>\n",
       "      <td>-0.207005</td>\n",
       "      <td>-2.144188</td>\n",
       "      <td>4.839177</td>\n",
       "      <td>-7.943817</td>\n",
       "      <td>2.915888</td>\n",
       "    </tr>\n",
       "  </tbody>\n",
       "</table>\n",
       "<p>4 rows × 32 columns</p>\n",
       "</div>"
      ],
      "text/plain": [
       "           V1        V2        V3        V4        V5        V6        V7  \\\n",
       "246 -5.449209 -4.839936  7.791066 -4.113574  3.116813 -1.612643  8.536327   \n",
       "937 -5.580300 -5.008709  7.743093 -3.919815  3.864029 -1.348257  6.978567   \n",
       "242 -5.904165 -5.309392  8.032675 -1.519781  3.971225  0.910792  7.413364   \n",
       "367 -5.347353 -4.902344  5.388195 -4.786115  4.851407 -2.117089  6.887484   \n",
       "\n",
       "           V8         V9       V10  ...       V23       V24       V25  \\\n",
       "246 -8.928656   9.551100 -3.436968  ...  5.657978  8.995370 -6.283762   \n",
       "937 -8.783394   9.437468 -3.171823  ...  3.657569  8.271961 -6.138795   \n",
       "242 -9.385246  11.935870 -0.799606  ...  9.242902  7.959963 -6.569953   \n",
       "367 -8.942921   9.031702 -3.896351  ...  6.678773  9.943034 -6.212339   \n",
       "\n",
       "          V26       V27       V28       V29       V30       V31       V32  \n",
       "246 -0.477359  5.444728  0.325320 -1.986173  6.832465 -8.230387  3.005954  \n",
       "937  0.814686  2.510457  0.636386 -4.946457  4.299997 -8.047157  3.287997  \n",
       "242  3.950336  1.082666  3.068318 -1.653382  6.210342 -8.664232  1.830550  \n",
       "367  1.911352  6.250380 -0.207005 -2.144188  4.839177 -7.943817  2.915888  \n",
       "\n",
       "[4 rows x 32 columns]"
      ]
     },
     "execution_count": 5,
     "metadata": {},
     "output_type": "execute_result"
    }
   ],
   "source": [
    "x_data = pd.read_csv(\"x.csv\")\n",
    "x_data.sample(4)"
   ]
  },
  {
   "cell_type": "code",
   "execution_count": 14,
   "metadata": {},
   "outputs": [
    {
     "data": {
      "text/plain": [
       "array([12, 20])"
      ]
     },
     "execution_count": 14,
     "metadata": {},
     "output_type": "execute_result"
    }
   ],
   "source": [
    "np.where(x_data.describe().loc[\"std\",:] > 2)[0]"
   ]
  },
  {
   "cell_type": "code",
   "execution_count": 16,
   "metadata": {},
   "outputs": [],
   "source": [
    "use = x_data.iloc[:,np.where(x_data.describe().loc[\"std\",:] > 2)[0]]"
   ]
  },
  {
   "cell_type": "code",
   "execution_count": 17,
   "metadata": {},
   "outputs": [
    {
     "data": {
      "text/html": [
       "<div>\n",
       "<style scoped>\n",
       "    .dataframe tbody tr th:only-of-type {\n",
       "        vertical-align: middle;\n",
       "    }\n",
       "\n",
       "    .dataframe tbody tr th {\n",
       "        vertical-align: top;\n",
       "    }\n",
       "\n",
       "    .dataframe thead th {\n",
       "        text-align: right;\n",
       "    }\n",
       "</style>\n",
       "<table border=\"1\" class=\"dataframe\">\n",
       "  <thead>\n",
       "    <tr style=\"text-align: right;\">\n",
       "      <th></th>\n",
       "      <th>V13</th>\n",
       "      <th>V21</th>\n",
       "    </tr>\n",
       "  </thead>\n",
       "  <tbody>\n",
       "    <tr>\n",
       "      <th>289</th>\n",
       "      <td>3.115115</td>\n",
       "      <td>1.729768</td>\n",
       "    </tr>\n",
       "    <tr>\n",
       "      <th>870</th>\n",
       "      <td>-5.590086</td>\n",
       "      <td>-1.346247</td>\n",
       "    </tr>\n",
       "    <tr>\n",
       "      <th>482</th>\n",
       "      <td>5.310008</td>\n",
       "      <td>-1.757451</td>\n",
       "    </tr>\n",
       "  </tbody>\n",
       "</table>\n",
       "</div>"
      ],
      "text/plain": [
       "          V13       V21\n",
       "289  3.115115  1.729768\n",
       "870 -5.590086 -1.346247\n",
       "482  5.310008 -1.757451"
      ]
     },
     "execution_count": 17,
     "metadata": {},
     "output_type": "execute_result"
    }
   ],
   "source": [
    "use.sample(3)"
   ]
  },
  {
   "cell_type": "code",
   "execution_count": 27,
   "metadata": {},
   "outputs": [
    {
     "data": {
      "text/plain": [
       "<matplotlib.collections.PathCollection at 0x11b4439b0>"
      ]
     },
     "execution_count": 27,
     "metadata": {},
     "output_type": "execute_result"
    },
    {
     "data": {
      "image/png": "[encoded data removed]",
      "text/plain": [
       "<Figure size 432x288 with 1 Axes>"
      ]
     },
     "metadata": {
      "needs_background": "light"
     },
     "output_type": "display_data"
    }
   ],
   "source": [
    "plt.scatter(use.V13,use.V21)"
   ]
  },
  {
   "cell_type": "markdown",
   "metadata": {},
   "source": [
    "Aaaand here's the R code:\n",
    "\n",
    "```R\n",
    "# Read data in\n",
    "\n",
    "x_data = read.csv(file = \"~/Documents/GitHub/IntroML/Ex0/x.csv\", header = TRUE, sep = \",\")\n",
    "\n",
    "?sapply\n",
    "?var\n",
    "\n",
    "vars = sapply(x_data, var)\n",
    "vars\n",
    "\n",
    "?which.max\n",
    "\n",
    "imax1 = which.max(vars)\n",
    "imax1\n",
    "\n",
    "vars[imax1] = 0\n",
    "vars\n",
    "\n",
    "imax2 = which.max(vars)\n",
    "imax2\n",
    "```\n",
    "```\n",
    "plot(x_data[, imax1], x_data[, imax2])\n",
    "\n",
    "```\n",
    "\n",
    "And Here's the plot:\n",
    "\n",
    "![ok](ok.png)"
   ]
  },
  {
   "cell_type": "code",
   "execution_count": null,
   "metadata": {},
   "outputs": [],
   "source": []
  },
  {
   "cell_type": "code",
   "execution_count": null,
   "metadata": {},
   "outputs": [],
   "source": []
  },
  {
   "cell_type": "code",
   "execution_count": 69,
   "metadata": {},
   "outputs": [],
   "source": [
    "import numpy as np\n",
    "import pandas as np"
   ]
  },
  {
   "cell_type": "code",
   "execution_count": 72,
   "metadata": {},
   "outputs": [],
   "source": [
    "def func():\n",
    "    values = []\n",
    "    indices = []\n",
    "    while True:\n",
    "        try:\n",
    "            value = input(\"anna indeksi ja väli arvo\")\n",
    "    \n",
    "            if value == \"\":\n",
    "                return pd.Series(values, index=indices)\n",
    "            #arvot = re.split('\\s', value)\n",
    "    \n",
    "            arvot = value.split(\" \")\n",
    "            values.append(arvot[1])\n",
    "            indices.append(arvot[0])\n",
    "    \n",
    "            print(values)\n",
    "            print(indices)\n",
    "    \n",
    "            if len(arvot) < 2:\n",
    "                print(\"virhe: välilyönnin jälkeen pitää tulla toinen luku\")\n",
    "                raise ValueError\n",
    "        except (NameError,ValueError):\n",
    "            return pd.Series(None)\n",
    "        except (IndexError):\n",
    "            print(\"indeksivirhe\")\n",
    "            return pd.Series(values, index=indices)"
   ]
  },
  {
   "cell_type": "code",
   "execution_count": 74,
   "metadata": {},
   "outputs": [
    {
     "name": "stdin",
     "output_type": "stream",
     "text": [
      "anna indeksi ja väli arvo a 1\n"
     ]
    },
    {
     "name": "stdout",
     "output_type": "stream",
     "text": [
      "['1']\n",
      "['a']\n"
     ]
    },
    {
     "name": "stdin",
     "output_type": "stream",
     "text": [
      "anna indeksi ja väli arvo b 2\n"
     ]
    },
    {
     "name": "stdout",
     "output_type": "stream",
     "text": [
      "['1', '2']\n",
      "['a', 'b']\n"
     ]
    },
    {
     "name": "stdin",
     "output_type": "stream",
     "text": [
      "anna indeksi ja väli arvo c 3\n"
     ]
    },
    {
     "name": "stdout",
     "output_type": "stream",
     "text": [
      "['1', '2', '3']\n",
      "['a', 'b', 'c']\n"
     ]
    },
    {
     "name": "stdin",
     "output_type": "stream",
     "text": [
      "anna indeksi ja väli arvo \n"
     ]
    },
    {
     "data": {
      "text/plain": [
       "a    1\n",
       "b    2\n",
       "c    3\n",
       "dtype: object"
      ]
     },
     "execution_count": 74,
     "metadata": {},
     "output_type": "execute_result"
    }
   ],
   "source": [
    "func()"
   ]
  },
  {
   "cell_type": "code",
   "execution_count": null,
   "metadata": {},
   "outputs": [],
   "source": []
  }
 ],
 "metadata": {
  "kernelspec": {
   "display_name": "Python 3",
   "language": "python",
   "name": "python3"
  },
  "language_info": {
   "codemirror_mode": {
    "name": "ipython",
    "version": 3
   },
   "file_extension": ".py",
   "mimetype": "text/x-python",
   "name": "python",
   "nbconvert_exporter": "python",
   "pygments_lexer": "ipython3",
   "version": "3.7.3"
  }
 },
 "nbformat": 4,
 "nbformat_minor": 4
}
