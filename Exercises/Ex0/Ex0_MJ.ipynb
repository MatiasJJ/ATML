{
 "cells": [
  {
   "cell_type": "code",
   "execution_count": 22,
   "metadata": {},
   "outputs": [],
   "source": [
    "import numpy as np\n",
    "import pandas as pd\n",
    "import matplotlib.pyplot as plt\n",
    "import seaborn as sns\n",
    "from math import sqrt\n",
    "from tqdm import tqdm\n",
    "from timeit import default_timer as timer"
   ]
  },
  {
   "cell_type": "markdown",
   "metadata": {},
   "source": [
    "# Intro to ML\n",
    "## Ex0\n",
    "\n"
   ]
  },
  {
   "cell_type": "markdown",
   "metadata": {},
   "source": [
    "### 1. Algebra, Random variables\n",
    "\n",
    "$ \\Omega = $ The sample space (the set of outcomes)  \n",
    "$ \\omega = $ The outcome  \n",
    "$ P(\\omega) >0 = $ The probability of an outcome  \n",
    "$ \\sum_{\\omega \\in \\Omega} P(\\omega) = 1 $ So sum of probabilities is 1  "
   ]
  },
  {
   "cell_type": "markdown",
   "metadata": {},
   "source": [
    "$ X = $ a real-valued random variable (satunnaismuuttuja)  \n",
    "\n",
    "$ X(\\omega) $ creates a mapping between real numbers and the possible outcomes"
   ]
  },
  {
   "cell_type": "markdown",
   "metadata": {},
   "source": [
    "#### a)\n",
    "An operator $L$ is linear if it obeys:\n",
    "$$ L ( x + y ) = L x + L y $$\n",
    "where $ x,y $ are eg. functions\n",
    "\n",
    "and \n",
    "$$ L (\\lambda x) = \\lambda L x $$\n",
    "where $\\lambda \\in \\Re$ "
   ]
  },
  {
   "cell_type": "markdown",
   "metadata": {},
   "source": [
    "Show that the operator $E$ is linear:\n",
    "\n",
    "$E[X(\\omega)] = \\sum_{\\omega} P(\\omega)X(\\omega)$"
   ]
  },
  {
   "cell_type": "markdown",
   "metadata": {},
   "source": [
    "$$ \\begin{align}\n",
    "E[F(\\omega) + G(\\omega)] &= \\sum_{\\omega} P(\\omega) \\left(F(\\omega) + G(\\omega)\\right) \\\\\n",
    "E[F(\\omega) + G(\\omega)] &= \\sum_{\\omega} P(\\omega) F(\\omega) + \\sum_{\\omega} P(\\omega) G(\\omega) \\\\\n",
    "E[F(\\omega) + G(\\omega)] &= E [F(\\omega)] + E [G(\\omega)] \\\\\\\\\n",
    "E[F + G] &= E [F] + E [G] \\\\\n",
    "\\end{align} $$"
   ]
  },
  {
   "cell_type": "markdown",
   "metadata": {},
   "source": [
    "and:  \n",
    "$$ \\begin{align}\n",
    "E[cF(\\omega)] &= \\sum_{\\omega} P(\\omega)cF(\\omega) \\\\\n",
    "E[cF(\\omega)] &= c\\sum_{\\omega} P(\\omega)F(\\omega) \\\\\n",
    "E[cF(\\omega)] &= cE[F(\\omega)] \\\\\n",
    "\\end{align} $$"
   ]
  },
  {
   "cell_type": "markdown",
   "metadata": {},
   "source": [
    "$ \\mathrm{Var}[X(\\omega)] = E[(X(\\omega) - E[X(\\omega)])^2] $"
   ]
  },
  {
   "cell_type": "markdown",
   "metadata": {},
   "source": [
    "#### b)\n",
    "\n",
    "$$ \\begin{align}\n",
    "\\mathrm{Var}[X] &= E[(X - E[X])^2] \\\\\n",
    "\\mathrm{Var}[X] &= E[X^2 - 2XE[X] + E[X]^2] \\\\\n",
    "\\mathrm{Var}[X] &= E[X^2] - E[2XE[X]] + E[E[X]^2] \\\\\n",
    "\\mathrm{Var}[X] &= E[X^2] - 2E[X]E[X] + E[X]^2 \\\\\n",
    "\\mathrm{Var}[X] &= E[X^2] - 2E[X]^2 + E[X]^2 \\\\\n",
    "\\mathrm{Var}[X] &= E[X^2] - E[X]^2 \\\\\n",
    "\\end{align} $$"
   ]
  },
  {
   "cell_type": "markdown",
   "metadata": {},
   "source": [
    "Here $E[X]$ is the expectation value ie. a number so eg. $E[2XE[X]]=2E[X]E[X]$ works"
   ]
  },
  {
   "cell_type": "markdown",
   "metadata": {},
   "source": [
    "### 2. Bayes Rule"
   ]
  },
  {
   "cell_type": "markdown",
   "metadata": {},
   "source": [
    "#### a) Derivation"
   ]
  },
  {
   "cell_type": "markdown",
   "metadata": {},
   "source": [
    "The probability of event $A$ given $B$ is:\n",
    "\n",
    "$$ P(A|B) = \\frac{P(A \\cap B)}{P(B)} $$"
   ]
  },
  {
   "cell_type": "markdown",
   "metadata": {},
   "source": [
    "The probability of event $B$ given $A$ is:\n",
    "\n",
    "$$ P(B|A) = \\frac{P(B \\cap A)}{P(A)} $$"
   ]
  },
  {
   "cell_type": "markdown",
   "metadata": {},
   "source": [
    "Noting that: $$P(B \\cap A) = P(A \\cap B)$$\n",
    "We get: $$ P(A|B) P(B) = P(B|A) P(A) $$"
   ]
  },
  {
   "cell_type": "markdown",
   "metadata": {},
   "source": [
    "Rearranging gives Bayes: $$ P(A|B) = \\frac{P(B|A) P(A)}{P(B)} $$"
   ]
  },
  {
   "cell_type": "markdown",
   "metadata": {},
   "source": [
    "#### b) Medical test\n",
    "\n",
    "$A = $ allergy  \n",
    "$\\neg A = $ no allergy  \n",
    "$T = $ positive test  \n",
    "$\\neg T = $ negative test"
   ]
  },
  {
   "cell_type": "markdown",
   "metadata": {},
   "source": [
    "false positive in 1 % of the cases:\n",
    "$$ P(T|\\neg A)=0.01 $$"
   ]
  },
  {
   "cell_type": "markdown",
   "metadata": {},
   "source": [
    "false negative in 10 % of the cases:\n",
    "$$ P(\\neg T|A)=0.1 $$"
   ]
  },
  {
   "cell_type": "markdown",
   "metadata": {},
   "source": [
    "15 % of the population in Finland have allergy:\n",
    "$$ P(A) = 0.15 $$\n",
    "$$ P(\\neg A) = 0.85 $$"
   ]
  },
  {
   "cell_type": "markdown",
   "metadata": {},
   "source": [
    "the probability that a person is allergic, if the test is positive:\n",
    "$$ P(A|T) = \\frac{P(A \\cap T)}{P(T)} $$\n",
    "$$ P(A|T) = \\frac{P(T|A) P(A)}{P(T)} $$"
   ]
  },
  {
   "cell_type": "markdown",
   "metadata": {},
   "source": [
    "Write: \n",
    "$$ P(T) = P(A \\cap T) + P(\\neg A \\cap T) $$\n",
    "$$ P(T) = P(T | A)P(A) + P(T | \\neg A) P(\\neg A) $$"
   ]
  },
  {
   "cell_type": "markdown",
   "metadata": {},
   "source": [
    "Bayes with the marginal:\n",
    "$$ P(A|T) = \\frac{P(T|A) P(A)}{P(T | A)P(A) + P(T | \\neg A) P(\\neg A)} $$"
   ]
  },
  {
   "cell_type": "markdown",
   "metadata": {},
   "source": [
    "|            | $ A $  | $ \\neg A $ | SUM  |\n",
    "|------------|--------|------------|------|\n",
    "| $ T $      |        | 0.01       |      |\n",
    "| $ \\neg T $ | 0.1    |            |      |\n",
    "| SUM        | 0.15   | 0.85       | 1    |"
   ]
  },
  {
   "cell_type": "markdown",
   "metadata": {},
   "source": [
    "|            | $ A $  | $ \\neg A $ | SUM  |\n",
    "|------------|--------|------------|------|\n",
    "| $ T $      | 0.05   | 0.01       | 0.06 |\n",
    "| $ \\neg T $ | 0.1    | 0.84       | 0.94 |\n",
    "| SUM        | 0.15   | 0.85       | 1    |"
   ]
  },
  {
   "cell_type": "markdown",
   "metadata": {},
   "source": [
    "Bayes with the marginal:\n",
    "$$ \\begin{align}\n",
    "P(A|T) &= \\frac{0.05 \\times 0.15}{0.05 \\times 0.15 + 0.01 \\times 0.85} \\\\\n",
    "P(A|T) &= 0.46875 \n",
    "\\end{align}$$"
   ]
  },
  {
   "cell_type": "markdown",
   "metadata": {},
   "source": [
    "### 3. Matrix calculus\n",
    "\n",
    "Matrix $ \\mathrm{A} \\in \\mathbb{R}^{n\\times n} $  \n",
    "Eigenvalue $\\lambda \\in \\mathbb{R} $ of $\\mathrm{A}$   \n",
    "Eigenvector $ x \\in \\mathbb{R}^n $ if  \n",
    "Eigenfunction $ \\mathrm{A}x = \\lambda x $"
   ]
  },
  {
   "cell_type": "markdown",
   "metadata": {},
   "source": [
    "$\\mathrm{A}$ has $n$ orthonormal eigenvectors $x_i \\in \\mathbb{R}^n $  \n",
    "and corresponding eigenvalue $\\lambda_i \\in \\mathbb{R} $  \n",
    "where $i \\in [1,n] $"
   ]
  },
  {
   "cell_type": "markdown",
   "metadata": {},
   "source": [
    "Orthonormality means:  \n",
    "$x_i^\\top x_i = 1$ and  \n",
    "$x_i^\\top x_j = 0$ if $i≠j$  "
   ]
  },
  {
   "cell_type": "markdown",
   "metadata": {},
   "source": [
    "A new matrix:  \n",
    "$ \\mathrm{B} = \\sum_{j=1}^n \\lambda_j x_j x_j^\\top $ \"spectral decomposition\"  "
   ]
  },
  {
   "cell_type": "markdown",
   "metadata": {},
   "source": [
    "A matrix $\\mathrm{A}$ can be expressed in the basis of it's eigenvectors $X = [x_1 + x_2 + … + x_n]$ and $X^\\top$ \n",
    "$$ \\mathrm{A} = X\\Lambda X^\\top $$\n",
    "where $\\Lambda$ is a diagonal matrix with $\\mathrm{Tr}(\\Lambda) = \\sum_i^n \\lambda_i $\n",
    "\n",
    "$$ \\mathrm{A} = \\begin{pmatrix} \n",
    "\\uparrow & \\uparrow &  & \\uparrow \\\\\n",
    "x_1 & x_2 & \\dots & x_n \\\\\n",
    "\\downarrow & \\downarrow & & \\downarrow \\\\\n",
    "\\end{pmatrix} \\begin{pmatrix} \n",
    "\\lambda_1 & & & 0 \\\\\n",
    " & \\lambda_2 & & \\\\\n",
    " & & \\ddots & \\\\\n",
    "0 & & & \\lambda_n \\\\\n",
    "\\end{pmatrix} \\begin{pmatrix} \n",
    "\\leftarrow & x_1 & \\rightarrow \\\\\n",
    "\\leftarrow & x_2 & \\rightarrow \\\\\n",
    "\\leftarrow & \\vdots & \\rightarrow \\\\\n",
    "\\leftarrow & x_n & \\rightarrow \\\\\n",
    "\\end{pmatrix} $$"
   ]
  },
  {
   "cell_type": "markdown",
   "metadata": {},
   "source": [
    "Multiplying the matrices yields $ \\mathrm{A} = \\sum_{i=1}^n \\lambda_ix_ix_i^\\top $ \n",
    "Hence $ \\mathrm{A} = \\mathrm{B} $ and the eigenvectors and -values are the same for $\\mathrm{B}$ as well."
   ]
  },
  {
   "cell_type": "markdown",
   "metadata": {},
   "source": [
    "### 4. Optimization\n",
    "\n",
    "Constants:  \n",
    "$a \\in \\mathbb{R}$  \n",
    "$b \\in \\mathbb{R}$  \n",
    "$c \\in \\mathbb{R}$  \n",
    "\n",
    "A function:  \n",
    "$$ \\begin{align}\n",
    "f(x) &= ax^4 + bx + c \\\\\n",
    "f'(x) &= 4ax^3 + b \\\\ \n",
    "\\end{align} $$ \n",
    "\n",
    "#### a)\n",
    "The extreme values are found when $ f'(x) =0 $\n",
    "\n",
    "$$ \\begin{align}\n",
    "4ax^3 + b &= 0 \\\\\n",
    "4ax^3 &= -b \\\\\n",
    "x^3 &= \\frac{-b}{4a} \\\\\n",
    "x &= \\sqrt[\\leftroot{2}3]{\\frac{-b}{4a}} \\\\\n",
    "\\end{align} $$ \n",
    "\n",
    "#### b)\n",
    "Conditions: $a≠0$ and none of them can go to the infinity (and beyond)"
   ]
  },
  {
   "cell_type": "markdown",
   "metadata": {},
   "source": [
    "### 5. Algorithms\n",
    "\n",
    "The fibonacci numbers $F(i)$ are defined for $i\\in \\mathbb{N}$ as:  \n",
    "$F(i+2)=F(i+1)+F(i)$ when $F(1)=F(2)=1$"
   ]
  },
  {
   "cell_type": "markdown",
   "metadata": {},
   "source": [
    "Pseudocode for producing fibonacci numbers"
   ]
  },
  {
   "cell_type": "markdown",
   "metadata": {},
   "source": [
    "```python\n",
    "func fibo(n) {\n",
    "    i = 1\n",
    "    j = 1\n",
    "    for k in [1,n + 1] {\n",
    "        i = j\n",
    "        j = i + j\n",
    "        print j\n",
    "    }\n",
    "}\n",
    "```"
   ]
  },
  {
   "cell_type": "code",
   "execution_count": 1,
   "metadata": {},
   "outputs": [],
   "source": [
    "def fibo1(n):\n",
    "    \"\"\"Function to calculate values from fibonacci sequence using recursion. Scales O(2^n)\"\"\"\n",
    "    if n<= 1: return n\n",
    "    else: return fibo1(n-1)+fibo1(n-2)"
   ]
  },
  {
   "cell_type": "code",
   "execution_count": 2,
   "metadata": {},
   "outputs": [],
   "source": [
    "def fibo2(n):\n",
    "    \"\"\"Function to calculate valuesfrom fibonacci sequence. Scales \"\"\"\n",
    "    return int(((1+sqrt(5))**n-(1-sqrt(5))**n)/(2**n*sqrt(5)))"
   ]
  },
  {
   "cell_type": "code",
   "execution_count": 14,
   "metadata": {},
   "outputs": [],
   "source": [
    "length = 50"
   ]
  },
  {
   "cell_type": "code",
   "execution_count": 15,
   "metadata": {},
   "outputs": [],
   "source": [
    "idx = np.arange(length)"
   ]
  },
  {
   "cell_type": "code",
   "execution_count": 32,
   "metadata": {},
   "outputs": [],
   "source": [
    "fibo1_df = pd.DataFrame(index=idx,columns=[\"Time\",\"F\"])\n",
    "fibo1_list = []\n",
    "fibo1_times = []"
   ]
  },
  {
   "cell_type": "code",
   "execution_count": 33,
   "metadata": {},
   "outputs": [
    {
     "name": "stderr",
     "output_type": "stream",
     "text": [
      "100%|██████████| 50/50 [3:11:21<00:00, 2436.57s/it]\n"
     ]
    }
   ],
   "source": [
    "for n in tqdm(range(length)):\n",
    "    start = timer()\n",
    "    fibo1_list.append(fibo1(n))\n",
    "    end = timer()\n",
    "    time = end - start\n",
    "    fibo1_times.append(time)"
   ]
  },
  {
   "cell_type": "code",
   "execution_count": 34,
   "metadata": {},
   "outputs": [],
   "source": [
    "fibo1_df[\"F\"]=fibo1_list\n",
    "fibo1_df[\"Time\"]=fibo1_times"
   ]
  },
  {
   "cell_type": "code",
   "execution_count": 44,
   "metadata": {},
   "outputs": [
    {
     "data": {
      "text/plain": [
       "Text(0, 0.5, 'Time')"
      ]
     },
     "execution_count": 44,
     "metadata": {},
     "output_type": "execute_result"
    },
    {
     "data": {
      "image/png": "[encoded data removed]",
      "text/plain": [
       "<Figure size 432x288 with 1 Axes>"
      ]
     },
     "metadata": {
      "needs_background": "light"
     },
     "output_type": "display_data"
    }
   ],
   "source": [
    "sns.scatterplot(x=idx,y=fibo1_df.Time)\n",
    "plt.title(\"Fibonacci with recursion\")\n",
    "plt.xlabel(\"n\")\n",
    "plt.ylabel(\"Time\")"
   ]
  },
  {
   "cell_type": "markdown",
   "metadata": {},
   "source": [
    "So it almost doubles the time every time  \n",
    "Well the big-O is the worst case scenario here (not like one usually thinks)"
   ]
  },
  {
   "cell_type": "code",
   "execution_count": 23,
   "metadata": {},
   "outputs": [],
   "source": [
    "fibo2_df = pd.DataFrame(index=idx,columns=[\"Time\",\"F\"])\n",
    "fibo2_list = []\n",
    "fibo2_times = []"
   ]
  },
  {
   "cell_type": "code",
   "execution_count": 24,
   "metadata": {},
   "outputs": [
    {
     "name": "stderr",
     "output_type": "stream",
     "text": [
      "100%|██████████| 50/50 [00:00<00:00, 9364.79it/s]\n"
     ]
    }
   ],
   "source": [
    "for n in tqdm(range(length)):\n",
    "    start = timer()\n",
    "    fibo2_list.append(fibo2(n))\n",
    "    end = timer()\n",
    "    time = end - start\n",
    "    fibo2_times.append(time)"
   ]
  },
  {
   "cell_type": "code",
   "execution_count": 25,
   "metadata": {},
   "outputs": [],
   "source": [
    "fibo2_df[\"F\"]=fibo2_list\n",
    "fibo2_df[\"Time\"]=fibo2_times"
   ]
  },
  {
   "cell_type": "code",
   "execution_count": 27,
   "metadata": {},
   "outputs": [
    {
     "data": {
      "text/plain": [
       "Text(0, 0.5, '')"
      ]
     },
     "execution_count": 27,
     "metadata": {},
     "output_type": "execute_result"
    },
    {
     "data": {
      "image/png": "[encoded data removed]",
      "text/plain": [
       "<Figure size 432x288 with 1 Axes>"
      ]
     },
     "metadata": {
      "needs_background": "light"
     },
     "output_type": "display_data"
    }
   ],
   "source": [
    "sns.scatterplot(x=idx, y=fibo2_df.Time)\n",
    "plt.title(\"Fibonacci with sqrt formula\")\n",
    "plt.xlabel(\"n\")\n",
    "plt.ylabel(\"Time\")"
   ]
  },
  {
   "cell_type": "markdown",
   "metadata": {},
   "source": [
    "This follows basically $O(1)$ scaling"
   ]
  },
  {
   "cell_type": "markdown",
   "metadata": {},
   "source": [
    "### 6. Data analysis"
   ]
  },
  {
   "cell_type": "code",
   "execution_count": 37,
   "metadata": {},
   "outputs": [
    {
     "data": {
      "text/html": [
       "<div>\n",
       "<style scoped>\n",
       "    .dataframe tbody tr th:only-of-type {\n",
       "        vertical-align: middle;\n",
       "    }\n",
       "\n",
       "    .dataframe tbody tr th {\n",
       "        vertical-align: top;\n",
       "    }\n",
       "\n",
       "    .dataframe thead th {\n",
       "        text-align: right;\n",
       "    }\n",
       "</style>\n",
       "<table border=\"1\" class=\"dataframe\">\n",
       "  <thead>\n",
       "    <tr style=\"text-align: right;\">\n",
       "      <th></th>\n",
       "      <th>V1</th>\n",
       "      <th>V2</th>\n",
       "      <th>V3</th>\n",
       "      <th>V4</th>\n",
       "      <th>V5</th>\n",
       "      <th>V6</th>\n",
       "      <th>V7</th>\n",
       "      <th>V8</th>\n",
       "      <th>V9</th>\n",
       "      <th>V10</th>\n",
       "      <th>...</th>\n",
       "      <th>V23</th>\n",
       "      <th>V24</th>\n",
       "      <th>V25</th>\n",
       "      <th>V26</th>\n",
       "      <th>V27</th>\n",
       "      <th>V28</th>\n",
       "      <th>V29</th>\n",
       "      <th>V30</th>\n",
       "      <th>V31</th>\n",
       "      <th>V32</th>\n",
       "    </tr>\n",
       "  </thead>\n",
       "  <tbody>\n",
       "    <tr>\n",
       "      <th>708</th>\n",
       "      <td>-4.597123</td>\n",
       "      <td>-4.220368</td>\n",
       "      <td>7.404075</td>\n",
       "      <td>-4.136433</td>\n",
       "      <td>5.526760</td>\n",
       "      <td>-1.680865</td>\n",
       "      <td>7.044002</td>\n",
       "      <td>-8.015283</td>\n",
       "      <td>9.297815</td>\n",
       "      <td>-3.571738</td>\n",
       "      <td>...</td>\n",
       "      <td>5.463083</td>\n",
       "      <td>9.905881</td>\n",
       "      <td>-5.531619</td>\n",
       "      <td>2.962811</td>\n",
       "      <td>4.543958</td>\n",
       "      <td>0.329094</td>\n",
       "      <td>-0.984074</td>\n",
       "      <td>10.878243</td>\n",
       "      <td>-7.286457</td>\n",
       "      <td>4.564651</td>\n",
       "    </tr>\n",
       "    <tr>\n",
       "      <th>704</th>\n",
       "      <td>-5.544900</td>\n",
       "      <td>-4.872460</td>\n",
       "      <td>5.765845</td>\n",
       "      <td>-4.165147</td>\n",
       "      <td>7.296932</td>\n",
       "      <td>-1.894360</td>\n",
       "      <td>7.509021</td>\n",
       "      <td>-8.786945</td>\n",
       "      <td>9.225936</td>\n",
       "      <td>-3.702628</td>\n",
       "      <td>...</td>\n",
       "      <td>6.050578</td>\n",
       "      <td>8.834893</td>\n",
       "      <td>-6.292651</td>\n",
       "      <td>1.993986</td>\n",
       "      <td>4.971654</td>\n",
       "      <td>0.204489</td>\n",
       "      <td>-2.545216</td>\n",
       "      <td>9.216210</td>\n",
       "      <td>-8.079275</td>\n",
       "      <td>3.894218</td>\n",
       "    </tr>\n",
       "    <tr>\n",
       "      <th>931</th>\n",
       "      <td>-1.741200</td>\n",
       "      <td>-1.065827</td>\n",
       "      <td>7.687956</td>\n",
       "      <td>-2.579892</td>\n",
       "      <td>7.887600</td>\n",
       "      <td>-0.035358</td>\n",
       "      <td>6.411963</td>\n",
       "      <td>-5.078061</td>\n",
       "      <td>10.876653</td>\n",
       "      <td>-2.073567</td>\n",
       "      <td>...</td>\n",
       "      <td>8.095073</td>\n",
       "      <td>9.220010</td>\n",
       "      <td>-2.428004</td>\n",
       "      <td>4.771018</td>\n",
       "      <td>7.195971</td>\n",
       "      <td>1.969682</td>\n",
       "      <td>0.557052</td>\n",
       "      <td>9.199701</td>\n",
       "      <td>-4.508994</td>\n",
       "      <td>5.568834</td>\n",
       "    </tr>\n",
       "    <tr>\n",
       "      <th>877</th>\n",
       "      <td>-1.234139</td>\n",
       "      <td>-0.703955</td>\n",
       "      <td>8.137113</td>\n",
       "      <td>-5.114361</td>\n",
       "      <td>7.608299</td>\n",
       "      <td>-2.379770</td>\n",
       "      <td>7.233044</td>\n",
       "      <td>-4.648962</td>\n",
       "      <td>8.416127</td>\n",
       "      <td>-4.395339</td>\n",
       "      <td>...</td>\n",
       "      <td>8.194823</td>\n",
       "      <td>9.386798</td>\n",
       "      <td>-2.122099</td>\n",
       "      <td>0.388631</td>\n",
       "      <td>2.813303</td>\n",
       "      <td>-0.513269</td>\n",
       "      <td>-0.458814</td>\n",
       "      <td>10.299636</td>\n",
       "      <td>-4.044425</td>\n",
       "      <td>5.503309</td>\n",
       "    </tr>\n",
       "  </tbody>\n",
       "</table>\n",
       "<p>4 rows × 32 columns</p>\n",
       "</div>"
      ],
      "text/plain": [
       "           V1        V2        V3        V4        V5        V6        V7  \\\n",
       "708 -4.597123 -4.220368  7.404075 -4.136433  5.526760 -1.680865  7.044002   \n",
       "704 -5.544900 -4.872460  5.765845 -4.165147  7.296932 -1.894360  7.509021   \n",
       "931 -1.741200 -1.065827  7.687956 -2.579892  7.887600 -0.035358  6.411963   \n",
       "877 -1.234139 -0.703955  8.137113 -5.114361  7.608299 -2.379770  7.233044   \n",
       "\n",
       "           V8         V9       V10  ...       V23       V24       V25  \\\n",
       "708 -8.015283   9.297815 -3.571738  ...  5.463083  9.905881 -5.531619   \n",
       "704 -8.786945   9.225936 -3.702628  ...  6.050578  8.834893 -6.292651   \n",
       "931 -5.078061  10.876653 -2.073567  ...  8.095073  9.220010 -2.428004   \n",
       "877 -4.648962   8.416127 -4.395339  ...  8.194823  9.386798 -2.122099   \n",
       "\n",
       "          V26       V27       V28       V29        V30       V31       V32  \n",
       "708  2.962811  4.543958  0.329094 -0.984074  10.878243 -7.286457  4.564651  \n",
       "704  1.993986  4.971654  0.204489 -2.545216   9.216210 -8.079275  3.894218  \n",
       "931  4.771018  7.195971  1.969682  0.557052   9.199701 -4.508994  5.568834  \n",
       "877  0.388631  2.813303 -0.513269 -0.458814  10.299636 -4.044425  5.503309  \n",
       "\n",
       "[4 rows x 32 columns]"
      ]
     },
     "execution_count": 37,
     "metadata": {},
     "output_type": "execute_result"
    }
   ],
   "source": [
    "x_data = pd.read_csv(\"x.csv\")\n",
    "x_data.sample(4)"
   ]
  },
  {
   "cell_type": "code",
   "execution_count": 38,
   "metadata": {},
   "outputs": [
    {
     "data": {
      "text/plain": [
       "(1000, 32)"
      ]
     },
     "execution_count": 38,
     "metadata": {},
     "output_type": "execute_result"
    }
   ],
   "source": [
    "x_data.shape"
   ]
  },
  {
   "cell_type": "code",
   "execution_count": 39,
   "metadata": {},
   "outputs": [
    {
     "data": {
      "text/html": [
       "<div>\n",
       "<style scoped>\n",
       "    .dataframe tbody tr th:only-of-type {\n",
       "        vertical-align: middle;\n",
       "    }\n",
       "\n",
       "    .dataframe tbody tr th {\n",
       "        vertical-align: top;\n",
       "    }\n",
       "\n",
       "    .dataframe thead th {\n",
       "        text-align: right;\n",
       "    }\n",
       "</style>\n",
       "<table border=\"1\" class=\"dataframe\">\n",
       "  <thead>\n",
       "    <tr style=\"text-align: right;\">\n",
       "      <th></th>\n",
       "      <th>V1</th>\n",
       "      <th>V2</th>\n",
       "      <th>V3</th>\n",
       "      <th>V4</th>\n",
       "      <th>V5</th>\n",
       "      <th>V6</th>\n",
       "      <th>V7</th>\n",
       "      <th>V8</th>\n",
       "      <th>V9</th>\n",
       "      <th>V10</th>\n",
       "      <th>...</th>\n",
       "      <th>V23</th>\n",
       "      <th>V24</th>\n",
       "      <th>V25</th>\n",
       "      <th>V26</th>\n",
       "      <th>V27</th>\n",
       "      <th>V28</th>\n",
       "      <th>V29</th>\n",
       "      <th>V30</th>\n",
       "      <th>V31</th>\n",
       "      <th>V32</th>\n",
       "    </tr>\n",
       "  </thead>\n",
       "  <tbody>\n",
       "    <tr>\n",
       "      <th>count</th>\n",
       "      <td>1000.000000</td>\n",
       "      <td>1000.000000</td>\n",
       "      <td>1000.000000</td>\n",
       "      <td>1000.000000</td>\n",
       "      <td>1000.000000</td>\n",
       "      <td>1000.000000</td>\n",
       "      <td>1000.000000</td>\n",
       "      <td>1000.000000</td>\n",
       "      <td>1000.000000</td>\n",
       "      <td>1000.000000</td>\n",
       "      <td>...</td>\n",
       "      <td>1000.000000</td>\n",
       "      <td>1000.000000</td>\n",
       "      <td>1000.000000</td>\n",
       "      <td>1000.000000</td>\n",
       "      <td>1000.000000</td>\n",
       "      <td>1000.000000</td>\n",
       "      <td>1000.000000</td>\n",
       "      <td>1000.000000</td>\n",
       "      <td>1000.000000</td>\n",
       "      <td>1000.000000</td>\n",
       "    </tr>\n",
       "    <tr>\n",
       "      <th>mean</th>\n",
       "      <td>-5.493603</td>\n",
       "      <td>-4.848361</td>\n",
       "      <td>6.748369</td>\n",
       "      <td>-3.592207</td>\n",
       "      <td>5.432545</td>\n",
       "      <td>-1.009983</td>\n",
       "      <td>7.413710</td>\n",
       "      <td>-8.719993</td>\n",
       "      <td>9.960414</td>\n",
       "      <td>-2.946698</td>\n",
       "      <td>...</td>\n",
       "      <td>6.094516</td>\n",
       "      <td>9.335113</td>\n",
       "      <td>-6.142262</td>\n",
       "      <td>2.248137</td>\n",
       "      <td>4.818357</td>\n",
       "      <td>0.931852</td>\n",
       "      <td>-1.616505</td>\n",
       "      <td>8.050735</td>\n",
       "      <td>-8.071991</td>\n",
       "      <td>3.578475</td>\n",
       "    </tr>\n",
       "    <tr>\n",
       "      <th>std</th>\n",
       "      <td>1.860624</td>\n",
       "      <td>1.868029</td>\n",
       "      <td>1.002521</td>\n",
       "      <td>1.798006</td>\n",
       "      <td>1.561889</td>\n",
       "      <td>1.801655</td>\n",
       "      <td>1.046742</td>\n",
       "      <td>1.865944</td>\n",
       "      <td>1.804349</td>\n",
       "      <td>1.799859</td>\n",
       "      <td>...</td>\n",
       "      <td>1.674089</td>\n",
       "      <td>1.268626</td>\n",
       "      <td>1.859545</td>\n",
       "      <td>1.337806</td>\n",
       "      <td>1.635645</td>\n",
       "      <td>1.798336</td>\n",
       "      <td>1.156287</td>\n",
       "      <td>1.770833</td>\n",
       "      <td>1.862662</td>\n",
       "      <td>1.358550</td>\n",
       "    </tr>\n",
       "    <tr>\n",
       "      <th>min</th>\n",
       "      <td>-12.051620</td>\n",
       "      <td>-11.449646</td>\n",
       "      <td>3.402454</td>\n",
       "      <td>-9.883042</td>\n",
       "      <td>0.650691</td>\n",
       "      <td>-7.255290</td>\n",
       "      <td>4.310664</td>\n",
       "      <td>-15.279431</td>\n",
       "      <td>3.734125</td>\n",
       "      <td>-9.020557</td>\n",
       "      <td>...</td>\n",
       "      <td>1.611459</td>\n",
       "      <td>5.204230</td>\n",
       "      <td>-12.749604</td>\n",
       "      <td>-3.278114</td>\n",
       "      <td>-0.739790</td>\n",
       "      <td>-5.075948</td>\n",
       "      <td>-5.206253</td>\n",
       "      <td>2.643104</td>\n",
       "      <td>-14.815176</td>\n",
       "      <td>-0.315946</td>\n",
       "    </tr>\n",
       "    <tr>\n",
       "      <th>25%</th>\n",
       "      <td>-6.720468</td>\n",
       "      <td>-6.091409</td>\n",
       "      <td>6.098733</td>\n",
       "      <td>-4.771207</td>\n",
       "      <td>4.390488</td>\n",
       "      <td>-2.164160</td>\n",
       "      <td>6.711508</td>\n",
       "      <td>-9.956209</td>\n",
       "      <td>8.776543</td>\n",
       "      <td>-4.128711</td>\n",
       "      <td>...</td>\n",
       "      <td>4.972834</td>\n",
       "      <td>8.446042</td>\n",
       "      <td>-7.368436</td>\n",
       "      <td>1.331221</td>\n",
       "      <td>3.739524</td>\n",
       "      <td>-0.238144</td>\n",
       "      <td>-2.327219</td>\n",
       "      <td>6.879330</td>\n",
       "      <td>-9.286904</td>\n",
       "      <td>2.617058</td>\n",
       "    </tr>\n",
       "    <tr>\n",
       "      <th>50%</th>\n",
       "      <td>-5.483653</td>\n",
       "      <td>-4.871369</td>\n",
       "      <td>6.761059</td>\n",
       "      <td>-3.571100</td>\n",
       "      <td>5.406136</td>\n",
       "      <td>-0.987092</td>\n",
       "      <td>7.408101</td>\n",
       "      <td>-8.722366</td>\n",
       "      <td>9.977579</td>\n",
       "      <td>-2.922840</td>\n",
       "      <td>...</td>\n",
       "      <td>6.047539</td>\n",
       "      <td>9.362192</td>\n",
       "      <td>-6.169750</td>\n",
       "      <td>2.262545</td>\n",
       "      <td>4.829498</td>\n",
       "      <td>0.960550</td>\n",
       "      <td>-1.600126</td>\n",
       "      <td>8.106984</td>\n",
       "      <td>-8.071962</td>\n",
       "      <td>3.595309</td>\n",
       "    </tr>\n",
       "    <tr>\n",
       "      <th>75%</th>\n",
       "      <td>-4.240198</td>\n",
       "      <td>-3.555943</td>\n",
       "      <td>7.438199</td>\n",
       "      <td>-2.368798</td>\n",
       "      <td>6.432138</td>\n",
       "      <td>0.173440</td>\n",
       "      <td>8.118246</td>\n",
       "      <td>-7.427661</td>\n",
       "      <td>11.183997</td>\n",
       "      <td>-1.703339</td>\n",
       "      <td>...</td>\n",
       "      <td>7.265541</td>\n",
       "      <td>10.183026</td>\n",
       "      <td>-4.881709</td>\n",
       "      <td>3.140986</td>\n",
       "      <td>5.928429</td>\n",
       "      <td>2.165898</td>\n",
       "      <td>-0.880712</td>\n",
       "      <td>9.185315</td>\n",
       "      <td>-6.809002</td>\n",
       "      <td>4.531807</td>\n",
       "    </tr>\n",
       "    <tr>\n",
       "      <th>max</th>\n",
       "      <td>0.765007</td>\n",
       "      <td>1.443165</td>\n",
       "      <td>10.269498</td>\n",
       "      <td>1.833573</td>\n",
       "      <td>10.671700</td>\n",
       "      <td>4.451196</td>\n",
       "      <td>11.224609</td>\n",
       "      <td>-2.409865</td>\n",
       "      <td>15.464339</td>\n",
       "      <td>2.520353</td>\n",
       "      <td>...</td>\n",
       "      <td>11.160113</td>\n",
       "      <td>13.079471</td>\n",
       "      <td>0.231627</td>\n",
       "      <td>6.827936</td>\n",
       "      <td>9.633452</td>\n",
       "      <td>6.410860</td>\n",
       "      <td>2.285195</td>\n",
       "      <td>14.430436</td>\n",
       "      <td>-1.893912</td>\n",
       "      <td>7.862319</td>\n",
       "    </tr>\n",
       "  </tbody>\n",
       "</table>\n",
       "<p>8 rows × 32 columns</p>\n",
       "</div>"
      ],
      "text/plain": [
       "                V1           V2           V3           V4           V5  \\\n",
       "count  1000.000000  1000.000000  1000.000000  1000.000000  1000.000000   \n",
       "mean     -5.493603    -4.848361     6.748369    -3.592207     5.432545   \n",
       "std       1.860624     1.868029     1.002521     1.798006     1.561889   \n",
       "min     -12.051620   -11.449646     3.402454    -9.883042     0.650691   \n",
       "25%      -6.720468    -6.091409     6.098733    -4.771207     4.390488   \n",
       "50%      -5.483653    -4.871369     6.761059    -3.571100     5.406136   \n",
       "75%      -4.240198    -3.555943     7.438199    -2.368798     6.432138   \n",
       "max       0.765007     1.443165    10.269498     1.833573    10.671700   \n",
       "\n",
       "                V6           V7           V8           V9          V10  ...  \\\n",
       "count  1000.000000  1000.000000  1000.000000  1000.000000  1000.000000  ...   \n",
       "mean     -1.009983     7.413710    -8.719993     9.960414    -2.946698  ...   \n",
       "std       1.801655     1.046742     1.865944     1.804349     1.799859  ...   \n",
       "min      -7.255290     4.310664   -15.279431     3.734125    -9.020557  ...   \n",
       "25%      -2.164160     6.711508    -9.956209     8.776543    -4.128711  ...   \n",
       "50%      -0.987092     7.408101    -8.722366     9.977579    -2.922840  ...   \n",
       "75%       0.173440     8.118246    -7.427661    11.183997    -1.703339  ...   \n",
       "max       4.451196    11.224609    -2.409865    15.464339     2.520353  ...   \n",
       "\n",
       "               V23          V24          V25          V26          V27  \\\n",
       "count  1000.000000  1000.000000  1000.000000  1000.000000  1000.000000   \n",
       "mean      6.094516     9.335113    -6.142262     2.248137     4.818357   \n",
       "std       1.674089     1.268626     1.859545     1.337806     1.635645   \n",
       "min       1.611459     5.204230   -12.749604    -3.278114    -0.739790   \n",
       "25%       4.972834     8.446042    -7.368436     1.331221     3.739524   \n",
       "50%       6.047539     9.362192    -6.169750     2.262545     4.829498   \n",
       "75%       7.265541    10.183026    -4.881709     3.140986     5.928429   \n",
       "max      11.160113    13.079471     0.231627     6.827936     9.633452   \n",
       "\n",
       "               V28          V29          V30          V31          V32  \n",
       "count  1000.000000  1000.000000  1000.000000  1000.000000  1000.000000  \n",
       "mean      0.931852    -1.616505     8.050735    -8.071991     3.578475  \n",
       "std       1.798336     1.156287     1.770833     1.862662     1.358550  \n",
       "min      -5.075948    -5.206253     2.643104   -14.815176    -0.315946  \n",
       "25%      -0.238144    -2.327219     6.879330    -9.286904     2.617058  \n",
       "50%       0.960550    -1.600126     8.106984    -8.071962     3.595309  \n",
       "75%       2.165898    -0.880712     9.185315    -6.809002     4.531807  \n",
       "max       6.410860     2.285195    14.430436    -1.893912     7.862319  \n",
       "\n",
       "[8 rows x 32 columns]"
      ]
     },
     "execution_count": 39,
     "metadata": {},
     "output_type": "execute_result"
    }
   ],
   "source": [
    "x_data.describe()"
   ]
  },
  {
   "cell_type": "code",
   "execution_count": 40,
   "metadata": {},
   "outputs": [],
   "source": [
    "indices = np.where(x_data.describe().loc[\"std\",:] > 2)[0]"
   ]
  },
  {
   "cell_type": "code",
   "execution_count": 41,
   "metadata": {},
   "outputs": [],
   "source": [
    "use = x_data.iloc[:,indices]"
   ]
  },
  {
   "cell_type": "code",
   "execution_count": 42,
   "metadata": {},
   "outputs": [
    {
     "data": {
      "text/html": [
       "<div>\n",
       "<style scoped>\n",
       "    .dataframe tbody tr th:only-of-type {\n",
       "        vertical-align: middle;\n",
       "    }\n",
       "\n",
       "    .dataframe tbody tr th {\n",
       "        vertical-align: top;\n",
       "    }\n",
       "\n",
       "    .dataframe thead th {\n",
       "        text-align: right;\n",
       "    }\n",
       "</style>\n",
       "<table border=\"1\" class=\"dataframe\">\n",
       "  <thead>\n",
       "    <tr style=\"text-align: right;\">\n",
       "      <th></th>\n",
       "      <th>V13</th>\n",
       "      <th>V21</th>\n",
       "    </tr>\n",
       "  </thead>\n",
       "  <tbody>\n",
       "    <tr>\n",
       "      <th>606</th>\n",
       "      <td>1.084029</td>\n",
       "      <td>5.581020</td>\n",
       "    </tr>\n",
       "    <tr>\n",
       "      <th>937</th>\n",
       "      <td>5.314569</td>\n",
       "      <td>-1.139744</td>\n",
       "    </tr>\n",
       "    <tr>\n",
       "      <th>349</th>\n",
       "      <td>2.604948</td>\n",
       "      <td>1.017301</td>\n",
       "    </tr>\n",
       "  </tbody>\n",
       "</table>\n",
       "</div>"
      ],
      "text/plain": [
       "          V13       V21\n",
       "606  1.084029  5.581020\n",
       "937  5.314569 -1.139744\n",
       "349  2.604948  1.017301"
      ]
     },
     "execution_count": 42,
     "metadata": {},
     "output_type": "execute_result"
    }
   ],
   "source": [
    "use.sample(3)"
   ]
  },
  {
   "cell_type": "code",
   "execution_count": 43,
   "metadata": {},
   "outputs": [
    {
     "data": {
      "text/plain": [
       "<matplotlib.collections.PathCollection at 0x1a1a203278>"
      ]
     },
     "execution_count": 43,
     "metadata": {},
     "output_type": "execute_result"
    },
    {
     "data": {
      "image/png": "[encoded data removed]",
      "text/plain": [
       "<Figure size 432x288 with 1 Axes>"
      ]
     },
     "metadata": {
      "needs_background": "light"
     },
     "output_type": "display_data"
    }
   ],
   "source": [
    "plt.scatter(use.V13,use.V21)"
   ]
  },
  {
   "cell_type": "markdown",
   "metadata": {},
   "source": [
    "I think this is ok 😁"
   ]
  },
  {
   "cell_type": "code",
   "execution_count": null,
   "metadata": {},
   "outputs": [],
   "source": []
  }
 ],
 "metadata": {
  "kernelspec": {
   "display_name": "Python 3",
   "language": "python",
   "name": "python3"
  },
  "language_info": {
   "codemirror_mode": {
    "name": "ipython",
    "version": 3
   },
   "file_extension": ".py",
   "mimetype": "text/x-python",
   "name": "python",
   "nbconvert_exporter": "python",
   "pygments_lexer": "ipython3",
   "version": "3.7.3"
  }
 },
 "nbformat": 4,
 "nbformat_minor": 4
}
