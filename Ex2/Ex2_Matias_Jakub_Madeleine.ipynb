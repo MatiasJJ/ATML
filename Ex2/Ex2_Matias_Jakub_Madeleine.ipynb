{
  "nbformat": 4,
  "nbformat_minor": 0,
  "metadata": {
    "colab": {
      "name": "Ex2_Matias_Jakub_Madeleine.ipynb",
      "provenance": [],
      "mount_file_id": "1MSz0HN43IpY1W5FwQHu7x0kRiHG79yFR",
      "authorship_tag": "ABX9TyN1NkZT4SF9Qmgl+MWkJHpB",
      "include_colab_link": true
    },
    "kernelspec": {
      "name": "python3",
      "display_name": "Python 3"
    }
  },
  "cells": [
    {
      "cell_type": "markdown",
      "metadata": {
        "id": "view-in-github",
        "colab_type": "text"
      },
      "source": [
        "<a href=\"https://colab.research.google.com/github/MatiasJJ/ATML/blob/edits/Ex2/Ex2_Matias_Jakub_Madeleine.ipynb\" target=\"_parent\"><img src=\"https://colab.research.google.com/assets/colab-badge.svg\" alt=\"Open In Colab\"/></a>"
      ]
    },
    {
      "cell_type": "markdown",
      "metadata": {
        "id": "tWwYmGaxdTiy",
        "colab_type": "text"
      },
      "source": [
        "# Ex2\n",
        "\n",
        "*by: Madeleine Ekblom, Matias Jääskeläinen, Jakub Kubečka*\n",
        "\n",
        "Time used: 3h"
      ]
    },
    {
      "cell_type": "code",
      "metadata": {
        "id": "3lV_yKWtcfIL",
        "colab_type": "code",
        "colab": {}
      },
      "source": [
        "import numpy as np\n",
        "import pandas as pd\n",
        "import matplotlib.pyplot as plt\n",
        "import seaborn as sns\n",
        "#import statsmodels.api as sm"
      ],
      "execution_count": 0,
      "outputs": []
    },
    {
      "cell_type": "code",
      "metadata": {
        "id": "UYlYqcSrdTBE",
        "colab_type": "code",
        "colab": {}
      },
      "source": [
        ""
      ],
      "execution_count": 0,
      "outputs": []
    }
  ]
}