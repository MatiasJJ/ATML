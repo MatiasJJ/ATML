{
  "nbformat": 4,
  "nbformat_minor": 0,
  "metadata": {
    "colab": {
      "name": "Ex2_Matias_Jakub_Madeleine.ipynb",
      "provenance": [],
      "collapsed_sections": [],
      "include_colab_link": true
    },
    "kernelspec": {
      "name": "python3",
      "display_name": "Python 3"
    }
  },
  "cells": [
    {
      "cell_type": "markdown",
      "metadata": {
        "id": "view-in-github",
        "colab_type": "text"
      },
      "source": [
        "<a href=\"https://colab.research.google.com/github/MatiasJJ/ATML/blob/edits/Ex2/Ex2_Matias_Jakub_Madeleine.ipynb\" target=\"_parent\"><img src=\"https://colab.research.google.com/assets/colab-badge.svg\" alt=\"Open In Colab\"/></a>"
      ]
    },
    {
      "cell_type": "markdown",
      "metadata": {
        "id": "tWwYmGaxdTiy",
        "colab_type": "text"
      },
      "source": [
        "# Ex2\n",
        "\n",
        "*by: Madeleine Ekblom, Matias Jääskeläinen, Jakub Kubečka*\n",
        "\n",
        "Time used: 10h"
      ]
    },
    {
      "cell_type": "code",
      "metadata": {
        "id": "3lV_yKWtcfIL",
        "colab_type": "code",
        "outputId": "865f692f-5486-4b88-feda-923342e234cb",
        "colab": {
          "base_uri": "https://localhost:8080/",
          "height": 71
        }
      },
      "source": [
        "import numpy as np\n",
        "import pandas as pd\n",
        "import matplotlib.pyplot as plt\n",
        "import seaborn as sns\n",
        "#import statsmodels.api as sm"
      ],
      "execution_count": 0,
      "outputs": [
        {
          "output_type": "stream",
          "text": [
            "/usr/local/lib/python3.6/dist-packages/statsmodels/tools/_testing.py:19: FutureWarning: pandas.util.testing is deprecated. Use the functions in the public API at pandas.testing instead.\n",
            "  import pandas.util.testing as tm\n"
          ],
          "name": "stderr"
        }
      ]
    },
    {
      "cell_type": "markdown",
      "metadata": {
        "id": "ZVGWI4EYE21W",
        "colab_type": "text"
      },
      "source": [
        "## Problem 1\n",
        "\n",
        "tested 3300  \n",
        "test positive 50/3300  \n",
        "population 1 900 000  \n",
        "confirmed 956/1900000  \n",
        "deaths 100\n",
        "\n",
        "Test 1: 371 negative  \n",
        "TN = 369/371  \n",
        "FP = 2/371\n",
        "spesificity 0.9946\n",
        "\n",
        "Test 2: 197 positive  \n",
        "TP = 178  \n",
        "FN = 19\n",
        "sensitivity = 0.9035\n",
        "\n",
        "\n"
      ]
    },
    {
      "cell_type": "markdown",
      "metadata": {
        "id": "UyEPz-2wJhyi",
        "colab_type": "text"
      },
      "source": [
        "Bernoulli distribution  \n",
        "$p(x |\\theta) = \\theta^{x} (1-\\theta)^{1-x}$\n",
        "\n",
        "so:  \n",
        "$p(x = 1| \\theta) = \\theta$\n",
        " \n",
        "$p(x = 0| \\theta) = 1-\\theta$\n",
        "\n",
        "and a prior Beta distribution  \n",
        "$p(\\theta) \\propto \\theta^{\\alpha-1} (1-\\theta)^{\\beta -1}$\n",
        "\n",
        "TEST: Drawn $n$ binary numbers $x$ with $(k) \\times 1$ and $(n-k) \\times 0$ "
      ]
    },
    {
      "cell_type": "code",
      "metadata": {
        "id": "Qkcr_WyA6HgG",
        "colab_type": "code",
        "colab": {}
      },
      "source": [
        ""
      ],
      "execution_count": 0,
      "outputs": []
    },
    {
      "cell_type": "markdown",
      "metadata": {
        "id": "P3o9lUDxG6Ai",
        "colab_type": "text"
      },
      "source": [
        "1. Write down the formulas for likelihood and posterior, given $n$ $k$, $α$, and $β$ You can ignore multiplicative factors that are constant in (why?).\n",
        "\n",
        "likelihood:  \\\\\n",
        "  $p(x|\\theta) = \\theta^{x} (1-\\theta)^{1-x}$ \n",
        "\n",
        "posterior: \\\\\n",
        "  $p(\\theta|x) \\propto p(\\theta)*p(x|\\theta) = (\\theta^{\\alpha-1} (1-\\theta)^{\\beta -1})*(\\theta^{x} (1-\\theta)^{1-x})$  \\\\\n",
        "  $p(\\theta|x) \\propto \\theta^{\\alpha+x-1} (1-\\theta)^{\\beta -x}$\n",
        "\n",
        "We do not care about constants: 1) They can be obtained by normalization, and 2) we do not need them for calculating ML or MAP since they do not shift the maximum position."
      ]
    },
    {
      "cell_type": "markdown",
      "metadata": {
        "id": "gavW5pUdHtMT",
        "colab_type": "text"
      },
      "source": [
        "2. Derive the ML and MAP estimates $\\hat{\\theta}_{ML}$ and $\\hat{\\theta}_{MAP}$ for $\\theta$. How can you interpret $\\alpha$ and $\\beta$ that appear in the formula for $\\hat{\\theta}_{MAP}$?\n",
        "\n",
        "MAXIMUM LIKELIHOOD: \\\\\n",
        "$\\hat\\theta_\\mathrm{ML} = \\arg \\max_\\theta p(x|\\theta) = \\arg \\max_\\theta \\theta^{x} (1-\\theta)^{1-x} = E[x] = k/n$ \\\\\n",
        "To do so, we needed to derivate logarithm of the max argument: \\\\\n",
        "$\\frac{d}{d\\theta} \\log (\\theta^{x} (1-\\theta)^{1-x}) = 0 $ \\\\\n",
        "$\\frac{d}{d\\theta} (x\\log \\theta + (1-x)\\log(1-\\theta)) = 0 $ \\\\\n",
        "$x/\\theta - (1-x)/(1-\\theta) = 0 $ \\\\\n",
        "$\\theta  = x $ \\\\\n",
        "\n",
        "> $\\binom{n}{k} \\theta^{k} (1- \\theta)^{n-k} $ binomial distribution  \n",
        "\n",
        "MAXIMUM A POSTERIORI: \\\\\n",
        "$\\hat\\theta_\\mathrm{MAP} = \\arg \\max_\\theta p(\\theta|x) = \\arg \\max_\\theta \\theta^{\\alpha+x-1} (1-\\theta)^{\\beta -x} = E[\\frac{\\alpha+x-1}{\\alpha+\\beta-1}] = \\frac{\\alpha+E[x]-1}{\\alpha+\\beta-1} = \\frac{\\alpha+k/n-1}{\\alpha+\\beta-1}$ \\\\\n",
        "To do so, we needed to derivate logarithm of the max argument: \\\\\n",
        "$\\frac{d}{d\\theta} \\log (\\theta^{\\alpha+x-1} (1-\\theta)^{\\beta -x}) = 0 $ \\\\\n",
        "$\\frac{d}{d\\theta} ((\\alpha+x-1)\\log \\theta + (\\beta -x)\\log(1-\\theta)) = 0 $ \\\\\n",
        "$(\\alpha+x-1)/\\theta - (\\beta -x)/(1-\\theta) = 0 $ \\\\\n",
        "$\\theta  = \\frac{\\alpha+x-1}{\\alpha+\\beta-1} $ \\\\\n",
        "\n",
        "$\\alpha$ increases the probablity of the event, and on the other side, $\\beta$ decreases the probability"
      ]
    },
    {
      "cell_type": "markdown",
      "metadata": {
        "id": "VgtcYwt4HvCa",
        "colab_type": "text"
      },
      "source": [
        "3. Are the estimates θˆML and θˆMAP unbiased and/or consistent?\n"
      ]
    },
    {
      "cell_type": "markdown",
      "metadata": {
        "id": "rIAha5Va_C4Z",
        "colab_type": "text"
      },
      "source": [
        "Yes, θˆML and θˆMAP are biased because both of them depend on $E[x]$. "
      ]
    },
    {
      "cell_type": "markdown",
      "metadata": {
        "id": "jAuLQxr6HxJ6",
        "colab_type": "text"
      },
      "source": [
        "4. Plug in suitable n and k and compute ML and MAP estimates for the specificity and sensitivity for the serological test described above.\n",
        "\n",
        "$x = 0 $ (test is incorrect),\n",
        "$x = 1 $ (test is correct) \\\\\n",
        "$y = 0 $ (negative person),\n",
        "$y = 1 $ (positive person) \\\\\n",
        "\n",
        "\n",
        "Test 1: 371 negative \\\\\n",
        "TN = 369  \n",
        "FP = 2 \\\\\n",
        "$sp$ = specificity = 0.9946\n",
        "\n",
        "Test 2: 197 positive  \n",
        "TP = 178  \n",
        "FN = 19 \\\\\n",
        "$se$ = sensitivity = 0.9035\n",
        "\n",
        "$n*p(x=0|y=0) = 369$ \\\\\n",
        "$n*p(x=1|y=0) = 2$\n",
        "\n",
        "$\\hat{sp}_\\mathrm{ML} = \\arg \\max_{sp} p(x=1|y=0) = 369/n = 369/371 = 0.9946$ \\\\\n",
        "$\\hat{sp}_\\mathrm{MAP} = \\arg \\max_{sp} p(y=0|x=1) = p(y=0)/p(x=1)*p(𝑥=1|𝑦=0) = $  "
      ]
    },
    {
      "cell_type": "code",
      "metadata": {
        "id": "a6h90d-rB1eo",
        "colab_type": "code",
        "colab": {}
      },
      "source": [
        ""
      ],
      "execution_count": 0,
      "outputs": []
    },
    {
      "cell_type": "markdown",
      "metadata": {
        "id": "GrIugXTtHzY3",
        "colab_type": "text"
      },
      "source": [
        "5. Then compute bootstap 95CI for the specificity and sensitivity.\n"
      ]
    },
    {
      "cell_type": "markdown",
      "metadata": {
        "id": "Cz3zkv6zH1E_",
        "colab_type": "text"
      },
      "source": [
        "6. Let’s consider null hypothesis that the prevalence is zero, i.e. all 50 of the observed positives are actually false positives. There are many ways to construct a statistical test to try to reject this null hypothesis. One approach is to use Fisher’s Exact test. Compute the p-value given by the Fisher’s exact test. Can you rule out the null hypothesis?"
      ]
    },
    {
      "cell_type": "code",
      "metadata": {
        "id": "UYlYqcSrdTBE",
        "colab_type": "code",
        "colab": {}
      },
      "source": [
        ""
      ],
      "execution_count": 0,
      "outputs": []
    },
    {
      "cell_type": "markdown",
      "metadata": {
        "id": "lF0GP3aB1VzO",
        "colab_type": "text"
      },
      "source": [
        "## Problem 2\n",
        "\n",
        "The probability that a given observation is part of a bootstrap sample. \n",
        "Suppose that we obtain a bootstrap sample from a set of n observations.\n",
        "\n",
        "(a) What is the probability that the first bootstrap observation is not the jth observation from the original sample? Justify your answer.\n",
        "\n",
        "(b) What is the probability that the second bootstrap observation is not the jth observation from the original sample?\n",
        "\n",
        "(c) Argue that the probability that the jth observation is not in the bootstrap sample is $(1 − 1/n)^n$\n",
        "\n",
        "obs!  \n",
        "$\\lim_{n \\rightarrow \\infty} (1 − 1/n)^n = 1/e \\approx 0.368$ "
      ]
    },
    {
      "cell_type": "markdown",
      "metadata": {
        "id": "4Mkuobpt4gFE",
        "colab_type": "text"
      },
      "source": [
        "The sample space contains n observations x_1 ... x_n\n",
        "\n"
      ]
    },
    {
      "cell_type": "code",
      "metadata": {
        "id": "xAuO6FTiohOS",
        "colab_type": "code",
        "colab": {}
      },
      "source": [
        ""
      ],
      "execution_count": 0,
      "outputs": []
    },
    {
      "cell_type": "markdown",
      "metadata": {
        "id": "fFe02t5pHKsW",
        "colab_type": "text"
      },
      "source": [
        "Probability of picking i-th observation \\\\\n",
        "$P(i-\\mathrm{th\\_observation}) = 1/n $ \n",
        "\n",
        "Probability of not picking i-th observation \\\\\n",
        "$P(i-\\mathrm{th\\_observation}) = 1-1/n $ \n",
        "\n",
        "Probability of not picking i-th observation with n picks \\\\\n",
        "$P(i-\\mathrm{th\\_observation})^n = (1-1/n)^n $ \n",
        "\n",
        "Probability of picking i-th observation with n picks (at least once) \\\\\n",
        "$1-P(i-\\mathrm{th\\_observation})^n = 1-(1-1/n)^n $\n",
        "\n",
        "We can test what is the limit: \\\\\n",
        "$\\lim_{n->\\inf} 1-P(i-\\mathrm{th\\_observation})^n = \\lim_{n->\\inf} 1-(1-1/n)^n \\approx 1 - 0.368 = 0.632 $"
      ]
    },
    {
      "cell_type": "code",
      "metadata": {
        "id": "hd2i4f6KIdOe",
        "colab_type": "code",
        "colab": {}
      },
      "source": [
        "def p_i(n):\n",
        "  return 1-(1-1/n)**n"
      ],
      "execution_count": 0,
      "outputs": []
    },
    {
      "cell_type": "code",
      "metadata": {
        "id": "xww0ZcnJJTyt",
        "colab_type": "code",
        "colab": {}
      },
      "source": [
        "p_values = []\n",
        "for i in range(1,101):\n",
        "  p_values.append(p_i(i))"
      ],
      "execution_count": 0,
      "outputs": []
    },
    {
      "cell_type": "code",
      "metadata": {
        "id": "53TTaR1-J5I4",
        "colab_type": "code",
        "outputId": "95e0b1c6-5ad3-4dde-aa2d-b5457199875d",
        "colab": {
          "base_uri": "https://localhost:8080/",
          "height": 282
        }
      },
      "source": [
        "plt.plot(p_values)"
      ],
      "execution_count": 0,
      "outputs": [
        {
          "output_type": "execute_result",
          "data": {
            "text/plain": [
              "[<matplotlib.lines.Line2D at 0x7f50a8962390>]"
            ]
          },
          "metadata": {
            "tags": []
          },
          "execution_count": 72
        },
        {
          "output_type": "display_data",
          "data": {
            "image/png": "[encoded data removed]",
            "text/plain": [
              "<Figure size 432x288 with 1 Axes>"
            ]
          },
          "metadata": {
            "tags": [],
            "needs_background": "light"
          }
        }
      ]
    },
    {
      "cell_type": "code",
      "metadata": {
        "id": "lT0RpT2hKO0W",
        "colab_type": "code",
        "outputId": "7edc071c-ecb4-43f6-9d0d-8752fc4797e6",
        "colab": {
          "base_uri": "https://localhost:8080/",
          "height": 34
        }
      },
      "source": [
        "p_values[-1]"
      ],
      "execution_count": 0,
      "outputs": [
        {
          "output_type": "execute_result",
          "data": {
            "text/plain": [
              "0.6339676587267709"
            ]
          },
          "metadata": {
            "tags": []
          },
          "execution_count": 73
        }
      ]
    },
    {
      "cell_type": "markdown",
      "metadata": {
        "id": "DXK6-cyWs_Rl",
        "colab_type": "text"
      },
      "source": [
        "## Problem 3\n",
        "\n",
        "> filepath: \"/content/drive/My Drive/Colab Notebooks/CO2_exchange.csv\"\n",
        "\n",
        "estimate CO2 fluxes given some covariates  \n",
        "the regressor could fill the gaps in the measurement\n",
        "\n",
        "`FCO2`gives the flux and others can be used as covariates"
      ]
    },
    {
      "cell_type": "code",
      "metadata": {
        "id": "OXQzAPTytFnT",
        "colab_type": "code",
        "colab": {}
      },
      "source": [
        "from sklearn.linear_model import LinearRegression \n",
        "from sklearn.tree import DecisionTreeRegressor \n",
        "from sklearn.ensemble import RandomForestRegressor \n",
        "from sklearn.svm import SVR\n",
        "from sklearn.linear_model import Ridge"
      ],
      "execution_count": 0,
      "outputs": []
    },
    {
      "cell_type": "code",
      "metadata": {
        "id": "TMSMA9ImtGQ2",
        "colab_type": "code",
        "colab": {}
      },
      "source": [
        "np.random.seed(42)\n",
        "def listdiff(a,b): \n",
        "    s = set(b)\n",
        "    return(np.array([x for x in a if x not in s]))\n",
        "co2 = pd.read_csv(\"/content/drive/My Drive/Colab Notebooks/CO2_exchange.csv\",index_col=0)\n",
        "co2.columns = list(map(lambda x: x.replace(\"HYY_META.\",\"\"),co2.columns)) # get rid of H"
      ],
      "execution_count": 0,
      "outputs": []
    },
    {
      "cell_type": "code",
      "metadata": {
        "id": "Lyoyq-D6tI0r",
        "colab_type": "code",
        "colab": {}
      },
      "source": [
        "n = 100\n",
        "itr = np.random.choice(co2.shape[0],n) # training set index \n",
        "ite = listdiff(range(co2.shape[0]),itr) # test set index\n",
        "\n",
        "X_tr = np.array(co2.iloc[itr].drop(\"FCO2\",axis=1)) # training set \n",
        "y_tr = co2[\"FCO2\"][itr] # training set \n",
        "\n",
        "X_te = np.array(co2.iloc[ite].drop(\"FCO2\",axis=1)) # test set\n",
        "y_te = co2[\"FCO2\"][ite] # test set"
      ],
      "execution_count": 0,
      "outputs": []
    },
    {
      "cell_type": "markdown",
      "metadata": {
        "id": "XZBmUFBItPm4",
        "colab_type": "text"
      },
      "source": [
        "Train all of the regressors on the training set and report the mean squared errors (MSE) on both the training and test sets.  \n",
        "Which of the models performs best on the training set and on the test set?  \n",
        "What does this tell about complexity of the respective model families?"
      ]
    },
    {
      "cell_type": "code",
      "metadata": {
        "id": "844Q24VDtQgt",
        "colab_type": "code",
        "outputId": "9085b555-0c74-4ea4-ef72-2404d5b675ce",
        "colab": {
          "base_uri": "https://localhost:8080/",
          "height": 34
        }
      },
      "source": [
        "fit = LinearRegression().fit(X_tr,y_tr) \n",
        "print(\"LinearRegression: MSE_tr = %g MSE_te = %g\" %\n",
        "              (np.mean((fit.predict(X_tr)-y_tr)**2),\n",
        "               np.mean((fit.predict(X_te)-y_te)**2)))"
      ],
      "execution_count": 0,
      "outputs": [
        {
          "output_type": "stream",
          "text": [
            "LinearRegression: MSE_tr = 3.04531 MSE_te = 6.36047\n"
          ],
          "name": "stdout"
        }
      ]
    },
    {
      "cell_type": "code",
      "metadata": {
        "id": "82d9V1vTtUNA",
        "colab_type": "code",
        "outputId": "2748d309-6867-4b5b-ceac-002500408b42",
        "colab": {
          "base_uri": "https://localhost:8080/",
          "height": 34
        }
      },
      "source": [
        "fit = DecisionTreeRegressor().fit(X_tr,y_tr) \n",
        "print(\"DecisionTreeRegressor: MSE_tr = %g MSE_te = %g\" %\n",
        "              (np.mean((fit.predict(X_tr)-y_tr)**2),\n",
        "               np.mean((fit.predict(X_te)-y_te)**2)))"
      ],
      "execution_count": 0,
      "outputs": [
        {
          "output_type": "stream",
          "text": [
            "DecisionTreeRegressor: MSE_tr = 1.04653e-09 MSE_te = 7.05277\n"
          ],
          "name": "stdout"
        }
      ]
    },
    {
      "cell_type": "code",
      "metadata": {
        "id": "wfYl-mKgtWDI",
        "colab_type": "code",
        "outputId": "61c7d7bc-a2bd-46e1-a045-22953bec2601",
        "colab": {
          "base_uri": "https://localhost:8080/",
          "height": 34
        }
      },
      "source": [
        "fit = RandomForestRegressor().fit(X_tr,y_tr) \n",
        "print(\"RandomForestRegressor: MSE_tr = %g MSE_te = %g\" %\n",
        "              (np.mean((fit.predict(X_tr)-y_tr)**2),\n",
        "               np.mean((fit.predict(X_te)-y_te)**2)))"
      ],
      "execution_count": 0,
      "outputs": [
        {
          "output_type": "stream",
          "text": [
            "RandomForestRegressor: MSE_tr = 0.589779 MSE_te = 4.24266\n"
          ],
          "name": "stdout"
        }
      ]
    },
    {
      "cell_type": "code",
      "metadata": {
        "id": "61p1pAWJtX02",
        "colab_type": "code",
        "outputId": "48fa7376-dfa8-4db4-d824-bbccf449231d",
        "colab": {
          "base_uri": "https://localhost:8080/",
          "height": 34
        }
      },
      "source": [
        "fit = SVR().fit(X_tr,y_tr) \n",
        "print(\"SVR: MSE_tr = %g MSE_te = %g\" %\n",
        "              (np.mean((fit.predict(X_tr)-y_tr)**2),\n",
        "               np.mean((fit.predict(X_te)-y_te)**2)))"
      ],
      "execution_count": 0,
      "outputs": [
        {
          "output_type": "stream",
          "text": [
            "SVR: MSE_tr = 6.03422 MSE_te = 6.46343\n"
          ],
          "name": "stdout"
        }
      ]
    },
    {
      "cell_type": "code",
      "metadata": {
        "id": "ECnqTK_bvfAJ",
        "colab_type": "code",
        "outputId": "9651c057-2094-4f24-c008-58e82ee4f773",
        "colab": {
          "base_uri": "https://localhost:8080/",
          "height": 34
        }
      },
      "source": [
        "fit = Ridge().fit(X_tr,y_tr) \n",
        "print(\"Ridge: MSE_tr = %g MSE_te = %g\" %\n",
        "              (np.mean((fit.predict(X_tr)-y_tr)**2),\n",
        "               np.mean((fit.predict(X_te)-y_te)**2)))"
      ],
      "execution_count": 0,
      "outputs": [
        {
          "output_type": "stream",
          "text": [
            "Ridge: MSE_tr = 3.41181 MSE_te = 6.8919\n"
          ],
          "name": "stdout"
        }
      ]
    },
    {
      "cell_type": "markdown",
      "metadata": {
        "id": "QvWGZiiltcBl",
        "colab_type": "text"
      },
      "source": [
        ">Smallest training error: DecisionTree  \n",
        ">Smallest test error : RandomForest\n",
        "\n",
        ">Decision tree is very complex for it has smallest training error but quite a large test error"
      ]
    },
    {
      "cell_type": "markdown",
      "metadata": {
        "id": "-4YK_Eqmthnw",
        "colab_type": "text"
      },
      "source": [
        "Next, split the 100 items in the training set in random to new training set of 50 items and to a validation set of 50 items. Train all of the regressors on the new training set and report MSE on the new training set, validation set, and the test set."
      ]
    },
    {
      "cell_type": "code",
      "metadata": {
        "id": "ruBTdXRgtZk_",
        "colab_type": "code",
        "colab": {}
      },
      "source": [
        "n_val = 50\n",
        "idval = itr[:50] # validation set index\n",
        "itr = itr[50:] # validation set index"
      ],
      "execution_count": 0,
      "outputs": []
    },
    {
      "cell_type": "code",
      "metadata": {
        "id": "x1Dy0ivewZqf",
        "colab_type": "code",
        "outputId": "4aa13fc3-4290-4de2-975f-f43f653f7fba",
        "colab": {
          "base_uri": "https://localhost:8080/",
          "height": 34
        }
      },
      "source": [
        "idval.shape, itr.shape"
      ],
      "execution_count": 0,
      "outputs": [
        {
          "output_type": "execute_result",
          "data": {
            "text/plain": [
              "((50,), (50,))"
            ]
          },
          "metadata": {
            "tags": []
          },
          "execution_count": 52
        }
      ]
    },
    {
      "cell_type": "code",
      "metadata": {
        "id": "j2yy9qA7w3Zb",
        "colab_type": "code",
        "colab": {}
      },
      "source": [
        "X_tr = np.array(co2.iloc[itr].drop(\"FCO2\",axis=1)) # training set \n",
        "y_tr = co2[\"FCO2\"][itr] # training set \n",
        "\n",
        "X_val = np.array(co2.iloc[idval].drop(\"FCO2\",axis=1)) # training set \n",
        "y_val = co2[\"FCO2\"][idval] # training set "
      ],
      "execution_count": 0,
      "outputs": []
    },
    {
      "cell_type": "code",
      "metadata": {
        "id": "4GIpTvwcxaoi",
        "colab_type": "code",
        "outputId": "64ae50b5-dee1-415d-ad27-89db9d5a5c31",
        "colab": {
          "base_uri": "https://localhost:8080/",
          "height": 34
        }
      },
      "source": [
        "fit = LinearRegression().fit(X_tr,y_tr) \n",
        "print(\"LinearRegression: MSE_tr = %g MSE_val = %g MSE_te = %g\" %\n",
        "              (np.mean((fit.predict(X_tr)-y_tr)**2),\n",
        "               np.mean((fit.predict(X_val)-y_val)**2),\n",
        "               np.mean((fit.predict(X_te)-y_te)**2)))"
      ],
      "execution_count": 0,
      "outputs": [
        {
          "output_type": "stream",
          "text": [
            "LinearRegression: MSE_tr = 2.52478 MSE_val = 11.5017 MSE_te = 12.7752\n"
          ],
          "name": "stdout"
        }
      ]
    },
    {
      "cell_type": "code",
      "metadata": {
        "id": "qx3sV-aTx5oR",
        "colab_type": "code",
        "outputId": "22ed856a-d1d4-459e-8a98-a02bdda1be72",
        "colab": {
          "base_uri": "https://localhost:8080/",
          "height": 34
        }
      },
      "source": [
        "fit = DecisionTreeRegressor().fit(X_tr,y_tr) \n",
        "print(\"DecisionTreeRegressor: MSE_tr = %g MSE_val = %g MSE_te = %g\" %\n",
        "              (np.mean((fit.predict(X_tr)-y_tr)**2),\n",
        "               np.mean((fit.predict(X_val)-y_val)**2),\n",
        "               np.mean((fit.predict(X_te)-y_te)**2)))"
      ],
      "execution_count": 0,
      "outputs": [
        {
          "output_type": "stream",
          "text": [
            "DecisionTreeRegressor: MSE_tr = 0 MSE_val = 10.2511 MSE_te = 10.0583\n"
          ],
          "name": "stdout"
        }
      ]
    },
    {
      "cell_type": "code",
      "metadata": {
        "id": "SYbtGBARx6fK",
        "colab_type": "code",
        "outputId": "ff60ecda-2f21-4624-9952-b9a79d93ff77",
        "colab": {
          "base_uri": "https://localhost:8080/",
          "height": 34
        }
      },
      "source": [
        "fit = RandomForestRegressor().fit(X_tr,y_tr) \n",
        "print(\"RandomForestRegressor: MSE_tr = %g MSE_val = %g MSE_te = %g\" %\n",
        "              (np.mean((fit.predict(X_tr)-y_tr)**2),\n",
        "               np.mean((fit.predict(X_val)-y_val)**2),\n",
        "               np.mean((fit.predict(X_te)-y_te)**2)))"
      ],
      "execution_count": 0,
      "outputs": [
        {
          "output_type": "stream",
          "text": [
            "RandomForestRegressor: MSE_tr = 0.790095 MSE_val = 6.43521 MSE_te = 6.0512\n"
          ],
          "name": "stdout"
        }
      ]
    },
    {
      "cell_type": "code",
      "metadata": {
        "id": "FeuAbe_Ox7nb",
        "colab_type": "code",
        "outputId": "686817f1-7062-45f0-b782-d03c0b520542",
        "colab": {
          "base_uri": "https://localhost:8080/",
          "height": 34
        }
      },
      "source": [
        "fit = SVR().fit(X_tr,y_tr) \n",
        "print(\"SVR: MSE_tr = %g MSE_val = %g MSE_te = %g\" %\n",
        "              (np.mean((fit.predict(X_tr)-y_tr)**2),\n",
        "               np.mean((fit.predict(X_val)-y_val)**2),\n",
        "               np.mean((fit.predict(X_te)-y_te)**2)))"
      ],
      "execution_count": 0,
      "outputs": [
        {
          "output_type": "stream",
          "text": [
            "SVR: MSE_tr = 6.72429 MSE_val = 8.79886 MSE_te = 7.99797\n"
          ],
          "name": "stdout"
        }
      ]
    },
    {
      "cell_type": "code",
      "metadata": {
        "id": "46pnN96Px9AM",
        "colab_type": "code",
        "outputId": "23958fbe-8a45-4084-b8f7-3c8f7aca19e3",
        "colab": {
          "base_uri": "https://localhost:8080/",
          "height": 34
        }
      },
      "source": [
        "fit = Ridge().fit(X_tr,y_tr) \n",
        "print(\"Ridge: MSE_tr = %g MSE_val = %g MSE_te = %g\" %\n",
        "              (np.mean((fit.predict(X_tr)-y_tr)**2),\n",
        "               np.mean((fit.predict(X_val)-y_val)**2),\n",
        "               np.mean((fit.predict(X_te)-y_te)**2)))"
      ],
      "execution_count": 0,
      "outputs": [
        {
          "output_type": "stream",
          "text": [
            "Ridge: MSE_tr = 3.41181 MSE_val = 6.00706 MSE_te = 6.8919\n"
          ],
          "name": "stdout"
        }
      ]
    },
    {
      "cell_type": "markdown",
      "metadata": {
        "id": "qP-FCgvtv7dA",
        "colab_type": "text"
      },
      "source": [
        "Which of the five regressors is the best? \n",
        "> The best would be RandomForest but Ridge seems best based on validation\n",
        "\n",
        "How does MSE on the training data compare to the error on the test set?\n",
        "> It is smaller\n",
        "\n",
        "How does the error on the validation set compare to the error on the test set?\n",
        "> They are roughly the same\n",
        "\n",
        "Could you do something with these regressor (on this training set) to make them perform better?\n",
        "> Get bigger training set  \n",
        "> Loop over different sets of splitting of the training set into new training and validation sets \\\\\n",
        "> Cross validation splitting"
      ]
    },
    {
      "cell_type": "code",
      "metadata": {
        "id": "7Q7aG2xAv8kn",
        "colab_type": "code",
        "colab": {}
      },
      "source": [
        ""
      ],
      "execution_count": 0,
      "outputs": []
    }
  ]
}