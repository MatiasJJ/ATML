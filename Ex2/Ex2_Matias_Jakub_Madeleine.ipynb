{
  "nbformat": 4,
  "nbformat_minor": 0,
  "metadata": {
    "colab": {
      "name": "Ex2_Matias_Jakub_Madeleine.ipynb",
      "provenance": [],
      "collapsed_sections": [],
      "include_colab_link": true
    },
    "kernelspec": {
      "name": "python3",
      "display_name": "Python 3"
    }
  },
  "cells": [
    {
      "cell_type": "markdown",
      "metadata": {
        "id": "view-in-github",
        "colab_type": "text"
      },
      "source": [
        "<a href=\"https://colab.research.google.com/github/MatiasJJ/ATML/blob/edits/Ex2/Ex2_Matias_Jakub_Madeleine.ipynb\" target=\"_parent\"><img src=\"https://colab.research.google.com/assets/colab-badge.svg\" alt=\"Open In Colab\"/></a>"
      ]
    },
    {
      "cell_type": "markdown",
      "metadata": {
        "id": "tWwYmGaxdTiy",
        "colab_type": "text"
      },
      "source": [
        "# Ex2\n",
        "\n",
        "*by: Madeleine Ekblom, Matias Jääskeläinen, Jakub Kubečka*\n",
        "\n",
        "Time used: 3h"
      ]
    },
    {
      "cell_type": "code",
      "metadata": {
        "id": "3lV_yKWtcfIL",
        "colab_type": "code",
        "outputId": "865f692f-5486-4b88-feda-923342e234cb",
        "colab": {
          "base_uri": "https://localhost:8080/",
          "height": 71
        }
      },
      "source": [
        "import numpy as np\n",
        "import pandas as pd\n",
        "import matplotlib.pyplot as plt\n",
        "import seaborn as sns\n",
        "#import statsmodels.api as sm"
      ],
      "execution_count": 0,
      "outputs": [
        {
          "output_type": "stream",
          "text": [
            "/usr/local/lib/python3.6/dist-packages/statsmodels/tools/_testing.py:19: FutureWarning: pandas.util.testing is deprecated. Use the functions in the public API at pandas.testing instead.\n",
            "  import pandas.util.testing as tm\n"
          ],
          "name": "stderr"
        }
      ]
    },
    {
      "cell_type": "markdown",
      "metadata": {
        "id": "ZVGWI4EYE21W",
        "colab_type": "text"
      },
      "source": [
        "## Problem 1\n",
        "\n",
        "tested 3300  \n",
        "test positive 50/3300  \n",
        "population 1 900 000  \n",
        "confirmed 956/1900000  \n",
        "deaths 100\n",
        "\n",
        "Test 1: 371 negative  \n",
        "TN = 369/371  \n",
        "FP = 2/371\n",
        "spesificity 0.9946\n",
        "\n",
        "Test 2: 197 positive  \n",
        "TP = 178  \n",
        "FN = 19\n",
        "sensitivity = 0.9035\n",
        "\n",
        "\n"
      ]
    },
    {
      "cell_type": "markdown",
      "metadata": {
        "id": "UyEPz-2wJhyi",
        "colab_type": "text"
      },
      "source": [
        "Bernoulli distribution  \n",
        "$p(x |\\theta) = \\theta^{x} (1-\\theta)^{1-x}$\n",
        "\n",
        "so:  \n",
        "$p(x = 1| \\theta) = \\theta$\n",
        " \n",
        "$p(x = 0| \\theta) = 1-\\theta$\n",
        "\n",
        "and  \n",
        "$p(\\theta|x) = p(\\theta)/p(x) * p(x|\\theta)$\n",
        "\n",
        "Beta distribution  \n",
        "$p(\\theta) \\propto \\theta^{\\alpha-1} (1-\\theta)^{\\beta -1}$\n",
        "\n",
        "Draw $n$ binary numbers $x$ with $k$ 1 and $n-k$ 0"
      ]
    },
    {
      "cell_type": "markdown",
      "metadata": {
        "id": "P3o9lUDxG6Ai",
        "colab_type": "text"
      },
      "source": [
        "1. Write down the formulas for likelihood and posterior, given $n$ $k$, $α$, and $β$\n",
        "\n",
        "prior:  \n",
        "$p(x) = k/n$\n",
        "\n",
        "$p(\\theta|x) = p(\\theta)/p(x) * p(x|\\theta) \\propto (\\theta^{\\alpha-1} (1-\\theta)^{\\beta -1}) / (k/n)*(\\theta^{x} (1-\\theta)^{1-x})$\n",
        "\n",
        "\n",
        "MAXIMUM LIKELIHOOD: \\\\\n",
        "$\\hat\\theta_\\mathrm{ML} = \\arg \\max_\\theta p(x|\\theta) = \\arg \\max_\\theta \\theta^{x} (1-\\theta)^{1-x} $ \\\\\n",
        "$\\hat\\theta_\\mathrm{ML} = 1/n \\sum_i^n x_i = k/n$\n",
        "\n",
        "MAXIMUM A POSTERIORI: \\\\\n",
        "$\\hat\\theta_\\mathrm{MAP} = \\arg \\max_\\theta p(\\theta|x) = \\arg \\max_\\theta (\\theta^{\\alpha-1} (1-\\theta)^{\\beta -1}) / (k/n)*(\\theta^{x} (1-\\theta)^{1-x}) = \\arg \\max_\\theta \\theta^{\\alpha+x-1} (1-\\theta)^{\\beta -x}$ \\\\\n",
        "$\\hat\\theta_\\mathrm{MAP} = 1/(n + n_{eff}) \\sum_i^n x_i = 1/(n + \\sigma^2\\sigma_0^{-2}) \\sum_i^n x_i = $\n",
        "\n"
      ]
    },
    {
      "cell_type": "markdown",
      "metadata": {
        "id": "gavW5pUdHtMT",
        "colab_type": "text"
      },
      "source": [
        "2. Derive the ML and MAP estimates θˆML and θˆMAP for θ. How can you interpret α and β that appear in the formula for θˆMAP?\n"
      ]
    },
    {
      "cell_type": "markdown",
      "metadata": {
        "id": "VgtcYwt4HvCa",
        "colab_type": "text"
      },
      "source": [
        "3. Are the estimates θˆML and θˆMAP unbiased and/or consistent?\n"
      ]
    },
    {
      "cell_type": "markdown",
      "metadata": {
        "id": "jAuLQxr6HxJ6",
        "colab_type": "text"
      },
      "source": [
        "4. Plug in suitable n and k and compute ML and MAP estimates for the specificity and sensitivity for the serological test described above.\n"
      ]
    },
    {
      "cell_type": "markdown",
      "metadata": {
        "id": "GrIugXTtHzY3",
        "colab_type": "text"
      },
      "source": [
        "5. Then compute bootstap 95CI for the specificity and sensitivity.\n"
      ]
    },
    {
      "cell_type": "markdown",
      "metadata": {
        "id": "Cz3zkv6zH1E_",
        "colab_type": "text"
      },
      "source": [
        "6. Let’s consider null hypothesis that the prevalence is zero, i.e. all 50 of the observed positives are actually false positives. There are many ways to construct a statistical test to try to reject this null hypothesis. One approach is to use Fisher’s Exact test. Compute the p-value given by the Fisher’s exact test. Can you rule out the null hypothesis?"
      ]
    },
    {
      "cell_type": "code",
      "metadata": {
        "id": "UYlYqcSrdTBE",
        "colab_type": "code",
        "colab": {}
      },
      "source": [
        ""
      ],
      "execution_count": 0,
      "outputs": []
    },
    {
      "cell_type": "markdown",
      "metadata": {
        "id": "i2WPuPKGk9Fl",
        "colab_type": "text"
      },
      "source": [
        "JK: I have to say that the performance of this Google Jupyter is not superfast but at least we can work together."
      ]
    },
    {
      "cell_type": "code",
      "metadata": {
        "id": "eQlpKHW9k96i",
        "colab_type": "code",
        "outputId": "affd607b-adbe-435f-846f-463057987832",
        "colab": {
          "base_uri": "https://localhost:8080/",
          "height": 51
        }
      },
      "source": [
        "np.random.seed(42)\n",
        "np.random.normal(0,1,10)"
      ],
      "execution_count": 0,
      "outputs": [
        {
          "output_type": "execute_result",
          "data": {
            "text/plain": [
              "array([ 0.49671415, -0.1382643 ,  0.64768854,  1.52302986, -0.23415337,\n",
              "       -0.23413696,  1.57921282,  0.76743473, -0.46947439,  0.54256004])"
            ]
          },
          "metadata": {
            "tags": []
          },
          "execution_count": 7
        }
      ]
    },
    {
      "cell_type": "code",
      "metadata": {
        "id": "xAuO6FTiohOS",
        "colab_type": "code",
        "colab": {}
      },
      "source": [
        ""
      ],
      "execution_count": 0,
      "outputs": []
    },
    {
      "cell_type": "markdown",
      "metadata": {
        "id": "DXK6-cyWs_Rl",
        "colab_type": "text"
      },
      "source": [
        "## Problem 3\n",
        "\n",
        "> filepath: \"/content/drive/My Drive/Colab Notebooks/CO2_exchange.csv\"\n",
        "\n",
        "estimate CO2 fluxes given some covariates  \n",
        "the regressor could fill the gaps in the measurement\n",
        "\n",
        "`FCO2`gives the flux and others can be used as covariates"
      ]
    },
    {
      "cell_type": "code",
      "metadata": {
        "id": "OXQzAPTytFnT",
        "colab_type": "code",
        "colab": {}
      },
      "source": [
        "from sklearn.linear_model import LinearRegression \n",
        "from sklearn.tree import DecisionTreeRegressor \n",
        "from sklearn.ensemble import RandomForestRegressor \n",
        "from sklearn.svm import SVR"
      ],
      "execution_count": 0,
      "outputs": []
    },
    {
      "cell_type": "code",
      "metadata": {
        "id": "TMSMA9ImtGQ2",
        "colab_type": "code",
        "colab": {}
      },
      "source": [
        "np.random.seed(42)\n",
        "def listdiff(a,b): \n",
        "    s = set(b)\n",
        "    return(np.array([x for x in a if x not in s]))\n",
        "co2 = pd.read_csv(\"/content/drive/My Drive/Colab Notebooks/CO2_exchange.csv\",index_col=0)\n",
        "co2.columns = list(map(lambda x: x.replace(\"HYY_META.\",\"\"),co2.columns)) # get rid of H"
      ],
      "execution_count": 0,
      "outputs": []
    },
    {
      "cell_type": "code",
      "metadata": {
        "id": "Lyoyq-D6tI0r",
        "colab_type": "code",
        "colab": {}
      },
      "source": [
        "n = 100\n",
        "itr = np.random.choice(co2.shape[0],n) # training set index \n",
        "ite = listdiff(range(co2.shape[0]),itr) # test set index\n",
        "\n",
        "X_tr = np.array(co2.iloc[itr].drop(\"FCO2\",axis=1)) # training set \n",
        "y_tr = co2[\"FCO2\"][itr] # training set \n",
        "\n",
        "X_te = np.array(co2.iloc[ite].drop(\"FCO2\",axis=1)) # test set\n",
        "y_te = co2[\"FCO2\"][ite] # test set"
      ],
      "execution_count": 0,
      "outputs": []
    },
    {
      "cell_type": "markdown",
      "metadata": {
        "id": "XZBmUFBItPm4",
        "colab_type": "text"
      },
      "source": [
        "Train all of the regressors on the training set and report the mean squared errors (MSE) on both the training and test sets.  \n",
        "Which of the models performs best on the training set and on the test set?  \n",
        "What does this tell about complexity of the respective model families?"
      ]
    },
    {
      "cell_type": "code",
      "metadata": {
        "id": "844Q24VDtQgt",
        "colab_type": "code",
        "colab": {
          "base_uri": "https://localhost:8080/",
          "height": 34
        },
        "outputId": "9085b555-0c74-4ea4-ef72-2404d5b675ce"
      },
      "source": [
        "fit = LinearRegression().fit(X_tr,y_tr) \n",
        "print(\"LinearRegression: MSE_tr = %g MSE_te = %g\" %\n",
        "              (np.mean((fit.predict(X_tr)-y_tr)**2),\n",
        "               np.mean((fit.predict(X_te)-y_te)**2)))"
      ],
      "execution_count": 41,
      "outputs": [
        {
          "output_type": "stream",
          "text": [
            "LinearRegression: MSE_tr = 3.04531 MSE_te = 6.36047\n"
          ],
          "name": "stdout"
        }
      ]
    },
    {
      "cell_type": "code",
      "metadata": {
        "id": "82d9V1vTtUNA",
        "colab_type": "code",
        "colab": {
          "base_uri": "https://localhost:8080/",
          "height": 34
        },
        "outputId": "2748d309-6867-4b5b-ceac-002500408b42"
      },
      "source": [
        "fit = DecisionTreeRegressor().fit(X_tr,y_tr) \n",
        "print(\"DecisionTreeRegressor: MSE_tr = %g MSE_te = %g\" %\n",
        "              (np.mean((fit.predict(X_tr)-y_tr)**2),\n",
        "               np.mean((fit.predict(X_te)-y_te)**2)))"
      ],
      "execution_count": 42,
      "outputs": [
        {
          "output_type": "stream",
          "text": [
            "DecisionTreeRegressor: MSE_tr = 1.04653e-09 MSE_te = 7.05277\n"
          ],
          "name": "stdout"
        }
      ]
    },
    {
      "cell_type": "code",
      "metadata": {
        "id": "wfYl-mKgtWDI",
        "colab_type": "code",
        "colab": {
          "base_uri": "https://localhost:8080/",
          "height": 34
        },
        "outputId": "61c7d7bc-a2bd-46e1-a045-22953bec2601"
      },
      "source": [
        "fit = RandomForestRegressor().fit(X_tr,y_tr) \n",
        "print(\"RandomForestRegressor: MSE_tr = %g MSE_te = %g\" %\n",
        "              (np.mean((fit.predict(X_tr)-y_tr)**2),\n",
        "               np.mean((fit.predict(X_te)-y_te)**2)))"
      ],
      "execution_count": 43,
      "outputs": [
        {
          "output_type": "stream",
          "text": [
            "RandomForestRegressor: MSE_tr = 0.589779 MSE_te = 4.24266\n"
          ],
          "name": "stdout"
        }
      ]
    },
    {
      "cell_type": "code",
      "metadata": {
        "id": "61p1pAWJtX02",
        "colab_type": "code",
        "colab": {
          "base_uri": "https://localhost:8080/",
          "height": 34
        },
        "outputId": "48fa7376-dfa8-4db4-d824-bbccf449231d"
      },
      "source": [
        "fit = SVR().fit(X_tr,y_tr) \n",
        "print(\"SVR: MSE_tr = %g MSE_te = %g\" %\n",
        "              (np.mean((fit.predict(X_tr)-y_tr)**2),\n",
        "               np.mean((fit.predict(X_te)-y_te)**2)))"
      ],
      "execution_count": 44,
      "outputs": [
        {
          "output_type": "stream",
          "text": [
            "SVR: MSE_tr = 6.03422 MSE_te = 6.46343\n"
          ],
          "name": "stdout"
        }
      ]
    },
    {
      "cell_type": "markdown",
      "metadata": {
        "id": "QvWGZiiltcBl",
        "colab_type": "text"
      },
      "source": [
        ">Smallest training error: DecisionTree  \n",
        ">Smallest test error : RandomForest\n",
        "\n",
        ">Decision tree is very complex for it has smallest training error but quite a large test error"
      ]
    },
    {
      "cell_type": "markdown",
      "metadata": {
        "id": "-4YK_Eqmthnw",
        "colab_type": "text"
      },
      "source": [
        "Next, split the 100 items in the training set in random to new training set of 50 items and to a validation set of 50 items. Train all of the regressors on the new training set and report MSE on the new training set, validation set, and the test set."
      ]
    },
    {
      "cell_type": "code",
      "metadata": {
        "id": "ruBTdXRgtZk_",
        "colab_type": "code",
        "colab": {}
      },
      "source": [
        ""
      ],
      "execution_count": 0,
      "outputs": []
    }
  ]
}