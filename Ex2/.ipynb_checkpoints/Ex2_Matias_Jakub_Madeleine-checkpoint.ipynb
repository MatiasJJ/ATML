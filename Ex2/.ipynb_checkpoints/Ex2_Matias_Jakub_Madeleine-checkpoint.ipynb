{
  "nbformat": 4,
  "nbformat_minor": 0,
  "metadata": {
    "colab": {
      "name": "Ex2_Matias_Jakub_Madeleine.ipynb",
      "provenance": [],
      "collapsed_sections": [],
      "include_colab_link": true
    },
    "kernelspec": {
      "name": "python3",
      "display_name": "Python 3"
    }
  },
  "cells": [
    {
      "cell_type": "markdown",
      "metadata": {
        "id": "view-in-github",
        "colab_type": "text"
      },
      "source": [
        "<a href=\"https://colab.research.google.com/github/MatiasJJ/ATML/blob/edits/Ex2/Ex2_Matias_Jakub_Madeleine.ipynb\" target=\"_parent\"><img src=\"https://colab.research.google.com/assets/colab-badge.svg\" alt=\"Open In Colab\"/></a>"
      ]
    },
    {
      "cell_type": "code",
      "metadata": {
        "id": "5FWU_pMtYfJQ",
        "colab_type": "code",
        "colab": {
          "base_uri": "https://localhost:8080/",
          "height": 122
        },
        "outputId": "a356df98-87d8-4897-ada5-3d0cb8974e9f"
      },
      "source": [
        "from google.colab import drive\n",
        "drive.mount('/content/drive')"
      ],
      "execution_count": 2,
      "outputs": [
        {
          "output_type": "stream",
          "text": [
            "Go to this URL in a browser: https://accounts.google.com/o/oauth2/auth?client_id=947318989803-6bn6qk8qdgf4n4g3pfee6491hc0brc4i.apps.googleusercontent.com&redirect_uri=urn%3aietf%3awg%3aoauth%3a2.0%3aoob&response_type=code&scope=email%20https%3a%2f%2fwww.googleapis.com%2fauth%2fdocs.test%20https%3a%2f%2fwww.googleapis.com%2fauth%2fdrive%20https%3a%2f%2fwww.googleapis.com%2fauth%2fdrive.photos.readonly%20https%3a%2f%2fwww.googleapis.com%2fauth%2fpeopleapi.readonly\n",
            "\n",
            "Enter your authorization code:\n",
            "··········\n",
            "Mounted at /content/drive\n"
          ],
          "name": "stdout"
        }
      ]
    },
    {
      "cell_type": "markdown",
      "metadata": {
        "id": "tWwYmGaxdTiy",
        "colab_type": "text"
      },
      "source": [
        "# Ex2\n",
        "\n",
        "*by: Madeleine Ekblom, Matias Jääskeläinen, Jakub Kubečka*\n",
        "\n",
        "Time used: 3h"
      ]
    },
    {
      "cell_type": "code",
      "metadata": {
        "id": "3lV_yKWtcfIL",
        "colab_type": "code",
        "outputId": "865f692f-5486-4b88-feda-923342e234cb",
        "colab": {
          "base_uri": "https://localhost:8080/",
          "height": 71
        }
      },
      "source": [
        "import numpy as np\n",
        "import pandas as pd\n",
        "import matplotlib.pyplot as plt\n",
        "import seaborn as sns\n",
        "#import statsmodels.api as sm"
      ],
      "execution_count": 0,
      "outputs": [
        {
          "output_type": "stream",
          "text": [
            "/usr/local/lib/python3.6/dist-packages/statsmodels/tools/_testing.py:19: FutureWarning: pandas.util.testing is deprecated. Use the functions in the public API at pandas.testing instead.\n",
            "  import pandas.util.testing as tm\n"
          ],
          "name": "stderr"
        }
      ]
    },
    {
      "cell_type": "markdown",
      "metadata": {
        "id": "ZVGWI4EYE21W",
        "colab_type": "text"
      },
      "source": [
        "## Problem 1\n",
        "\n",
        "tested 3300  \n",
        "test positive 50/3300  \n",
        "population 1 900 000  \n",
        "confirmed 956/1900000  \n",
        "deaths 100\n",
        "\n",
        "Test 1: 371 negative  \n",
        "TN = 369/371  \n",
        "FP = 2/371\n",
        "spesificity 0.9946\n",
        "\n",
        "Test 2: 197 positive  \n",
        "TP = 178  \n",
        "FN = 19\n",
        "sensitivity = 0.9035\n",
        "\n",
        "\n"
      ]
    },
    {
      "cell_type": "markdown",
      "metadata": {
        "id": "UyEPz-2wJhyi",
        "colab_type": "text"
      },
      "source": [
        "Bernoulli distribution  \n",
        "$p(x |\\theta) = \\theta^{x} (1-\\theta)^{1-x}$\n",
        "\n",
        "so:  \n",
        "$p(x = 1| \\theta) = \\theta$\n",
        " \n",
        "$p(x = 0| \\theta) = 1-\\theta$\n",
        "\n",
        "and  \n",
        "$p(\\theta|x) = p(\\theta)/p(x) * p(x|\\theta)$\n",
        "\n",
        "Beta distribution  \n",
        "$p(\\theta) \\propto \\theta^{\\alpha-1} (1-\\theta)^{\\beta -1}$\n",
        "\n",
        "Draw $n$ binary numbers $x$ with $k$ 1 and $n-k$ 0"
      ]
    },
    {
      "cell_type": "markdown",
      "metadata": {
        "id": "P3o9lUDxG6Ai",
        "colab_type": "text"
      },
      "source": [
        "1. Write down the formulas for likelihood and posterior, given $n$ $k$, $α$, and $β$\n",
        "\n",
        "prior:  \n",
        "$p(x) = k/n$\n",
        "\n",
        "$p(\\theta|x) = p(\\theta)/p(x) * p(x|\\theta) \\propto (\\theta^{\\alpha-1} (1-\\theta)^{\\beta -1}) / (k/n)*\\theta^{\\alpha-1} (1-\\theta)^{\\beta -1}$\n"
      ]
    },
    {
      "cell_type": "markdown",
      "metadata": {
        "id": "gavW5pUdHtMT",
        "colab_type": "text"
      },
      "source": [
        "2. Derive the ML and MAP estimates θˆML and θˆMAP for θ. How can you interpret α and β that appear in the formula for θˆMAP?\n"
      ]
    },
    {
      "cell_type": "markdown",
      "metadata": {
        "id": "VgtcYwt4HvCa",
        "colab_type": "text"
      },
      "source": [
        "3. Are the estimates θˆML and θˆMAP unbiased and/or consistent?\n"
      ]
    },
    {
      "cell_type": "markdown",
      "metadata": {
        "id": "jAuLQxr6HxJ6",
        "colab_type": "text"
      },
      "source": [
        "4. Plug in suitable n and k and compute ML and MAP estimates for the specificity and sensitivity for the serological test described above.\n"
      ]
    },
    {
      "cell_type": "markdown",
      "metadata": {
        "id": "GrIugXTtHzY3",
        "colab_type": "text"
      },
      "source": [
        "5. Then compute bootstap 95CI for the specificity and sensitivity.\n"
      ]
    },
    {
      "cell_type": "markdown",
      "metadata": {
        "id": "Cz3zkv6zH1E_",
        "colab_type": "text"
      },
      "source": [
        "6. Let’s consider null hypothesis that the prevalence is zero, i.e. all 50 of the observed positives are actually false positives. There are many ways to construct a statistical test to try to reject this null hypothesis. One approach is to use Fisher’s Exact test. Compute the p-value given by the Fisher’s exact test. Can you rule out the null hypothesis?"
      ]
    },
    {
      "cell_type": "code",
      "metadata": {
        "id": "UYlYqcSrdTBE",
        "colab_type": "code",
        "colab": {}
      },
      "source": [
        ""
      ],
      "execution_count": 0,
      "outputs": []
    },
    {
      "cell_type": "markdown",
      "metadata": {
        "id": "i2WPuPKGk9Fl",
        "colab_type": "text"
      },
      "source": [
        "JK: I have to say that the performance of this Google Jupyter is not superfast but at least we can work together."
      ]
    },
    {
      "cell_type": "code",
      "metadata": {
        "id": "eQlpKHW9k96i",
        "colab_type": "code",
        "outputId": "affd607b-adbe-435f-846f-463057987832",
        "colab": {
          "base_uri": "https://localhost:8080/",
          "height": 51
        }
      },
      "source": [
        "np.random.seed(42)\n",
        "np.random.normal(0,1,10)"
      ],
      "execution_count": 0,
      "outputs": [
        {
          "output_type": "execute_result",
          "data": {
            "text/plain": [
              "array([ 0.49671415, -0.1382643 ,  0.64768854,  1.52302986, -0.23415337,\n",
              "       -0.23413696,  1.57921282,  0.76743473, -0.46947439,  0.54256004])"
            ]
          },
          "metadata": {
            "tags": []
          },
          "execution_count": 7
        }
      ]
    },
    {
      "cell_type": "code",
      "metadata": {
        "id": "aInsFVXruQ_w",
        "colab_type": "code",
        "colab": {}
      },
      "source": [
        ""
      ],
      "execution_count": 0,
      "outputs": []
    },
    {
      "cell_type": "markdown",
      "metadata": {
        "id": "GziaJWy9Yxd3",
        "colab_type": "text"
      },
      "source": [
        "## Problem 3\n",
        "\n",
        "> filepath: \"/content/drive/My Drive/Colab Notebooks/CO2_exchange.csv\"\n",
        "\n",
        "estimate CO2 fluxes given some covariates  \n",
        "the regressor could fill the gaps in the measurement\n",
        "\n",
        "`FCO2`gives the flux and others can be used as covariates"
      ]
    },
    {
      "cell_type": "code",
      "metadata": {
        "id": "OS4rZ2MJY2ji",
        "colab_type": "code",
        "colab": {}
      },
      "source": [
        "from sklearn.linear_model import LinearRegression \n",
        "from sklearn.tree import DecisionTreeRegressor \n",
        "from sklearn.ensemble import RandomForestRegressor \n",
        "from sklearn.svm import SVR"
      ],
      "execution_count": 0,
      "outputs": []
    },
    {
      "cell_type": "code",
      "metadata": {
        "id": "0KBwrTROZDen",
        "colab_type": "code",
        "colab": {}
      },
      "source": [
        "np.random.seed(42)\n",
        "def listdiff(a,b): \n",
        "    s = set(b)\n",
        "    return(np.array([x for x in a if x not in s]))\n",
        "co2 = pd.read_csv(\"/content/drive/My Drive/Colab Notebooks/CO2_exchange.csv\",index_col=0)\n",
        "co2.columns = list(map(lambda x: x.replace(\"HYY_META.\",\"\"),co2.columns)) # get rid of H"
      ],
      "execution_count": 0,
      "outputs": []
    },
    {
      "cell_type": "code",
      "metadata": {
        "id": "f4rsjQexZS6X",
        "colab_type": "code",
        "colab": {}
      },
      "source": [
        "n = 100\n",
        "itr = np.random.choice(co2.shape[0],n) # training set index \n",
        "ite = listdiff(range(co2.shape[0]),itr) # test set index\n",
        "\n",
        "X_tr = np.array(co2.iloc[itr].drop(\"FCO2\",axis=1)) # training set \n",
        "y_tr = co2[\"FCO2\"][itr] # training set \n",
        "\n",
        "X_te = np.array(co2.iloc[ite].drop(\"FCO2\",axis=1)) # test set\n",
        "y_te = co2[\"FCO2\"][ite] # test set"
      ],
      "execution_count": 0,
      "outputs": []
    },
    {
      "cell_type": "markdown",
      "metadata": {
        "id": "Ffl_Um9adHCy",
        "colab_type": "text"
      },
      "source": [
        "Train all of the regressors on the training set and report the mean squared errors (MSE) on both the training and test sets.  \n",
        "Which of the models performs best on the training set and on the test set?  \n",
        "What does this tell about complexity of the respective model families?"
      ]
    },
    {
      "cell_type": "code",
      "metadata": {
        "id": "93xO_3SSZs80",
        "colab_type": "code",
        "colab": {
          "base_uri": "https://localhost:8080/",
          "height": 34
        },
        "outputId": "565372d5-1325-4e99-973c-8fdb51b37c69"
      },
      "source": [
        "fit = LinearRegression().fit(X_tr,y_tr) \n",
        "print(\"LinearRegression: MSE_tr = %g MSE_te = %g\" %\n",
        "              (np.mean((fit.predict(X_tr)-y_tr)**2),\n",
        "               np.mean((fit.predict(X_te)-y_te)**2)))"
      ],
      "execution_count": 11,
      "outputs": [
        {
          "output_type": "stream",
          "text": [
            "LinearRegression: MSE_tr = 4.42859 MSE_te = 9.01516\n"
          ],
          "name": "stdout"
        }
      ]
    },
    {
      "cell_type": "code",
      "metadata": {
        "id": "TYHDNyMJcHAn",
        "colab_type": "code",
        "colab": {
          "base_uri": "https://localhost:8080/",
          "height": 34
        },
        "outputId": "b5975096-70ce-4662-961b-b8d8fa7ffafc"
      },
      "source": [
        "fit = DecisionTreeRegressor().fit(X_tr,y_tr) \n",
        "print(\"DecisionTreeRegressor: MSE_tr = %g MSE_te = %g\" %\n",
        "              (np.mean((fit.predict(X_tr)-y_tr)**2),\n",
        "               np.mean((fit.predict(X_te)-y_te)**2)))"
      ],
      "execution_count": 12,
      "outputs": [
        {
          "output_type": "stream",
          "text": [
            "DecisionTreeRegressor: MSE_tr = 0 MSE_te = 8.64505\n"
          ],
          "name": "stdout"
        }
      ]
    },
    {
      "cell_type": "code",
      "metadata": {
        "id": "loW25RZWcsMB",
        "colab_type": "code",
        "colab": {
          "base_uri": "https://localhost:8080/",
          "height": 34
        },
        "outputId": "540eca41-6a96-432b-b097-764b52ab16f1"
      },
      "source": [
        "fit = RandomForestRegressor().fit(X_tr,y_tr) \n",
        "print(\"RandomForestRegressor: MSE_tr = %g MSE_te = %g\" %\n",
        "              (np.mean((fit.predict(X_tr)-y_tr)**2),\n",
        "               np.mean((fit.predict(X_te)-y_te)**2)))"
      ],
      "execution_count": 13,
      "outputs": [
        {
          "output_type": "stream",
          "text": [
            "RandomForestRegressor: MSE_tr = 0.681249 MSE_te = 4.25911\n"
          ],
          "name": "stdout"
        }
      ]
    },
    {
      "cell_type": "code",
      "metadata": {
        "id": "H2Ka-IsXcyac",
        "colab_type": "code",
        "colab": {
          "base_uri": "https://localhost:8080/",
          "height": 34
        },
        "outputId": "08c78f53-5b0e-434d-98a0-fd86086fca50"
      },
      "source": [
        "fit = SVR().fit(X_tr,y_tr) \n",
        "print(\"SVR: MSE_tr = %g MSE_te = %g\" %\n",
        "              (np.mean((fit.predict(X_tr)-y_tr)**2),\n",
        "               np.mean((fit.predict(X_te)-y_te)**2)))"
      ],
      "execution_count": 14,
      "outputs": [
        {
          "output_type": "stream",
          "text": [
            "SVR: MSE_tr = 7.04875 MSE_te = 6.96203\n"
          ],
          "name": "stdout"
        }
      ]
    },
    {
      "cell_type": "markdown",
      "metadata": {
        "id": "VvbL9gT7dP6M",
        "colab_type": "text"
      },
      "source": [
        ">Smallest training error: DecisionTree  \n",
        ">Smallest test error : RandomForest\n",
        "\n",
        ">Decision tree is very complex for it has smallest training error but quite a large test error"
      ]
    },
    {
      "cell_type": "markdown",
      "metadata": {
        "id": "89Q1olxAeQ9s",
        "colab_type": "text"
      },
      "source": [
        "Next, split the 100 items in the training set in random to new training set of 50 items and to a validation set of 50 items. Train all of the regressors on the new training set and report MSE on the new training set, validation set, and the test set."
      ]
    },
    {
      "cell_type": "code",
      "metadata": {
        "id": "d226rO9gc5lC",
        "colab_type": "code",
        "colab": {}
      },
      "source": [
        ""
      ],
      "execution_count": 0,
      "outputs": []
    }
  ]
}