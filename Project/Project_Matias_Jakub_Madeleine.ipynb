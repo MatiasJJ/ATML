{
  "nbformat": 4,
  "nbformat_minor": 0,
  "metadata": {
    "colab": {
      "name": "Project_Matias_Jakub_Madeleine.ipynb",
      "provenance": [],
      "toc_visible": true,
      "authorship_tag": "ABX9TyNJYYMKpR3Mh2FOtiz6G4hw",
      "include_colab_link": true
    },
    "kernelspec": {
      "name": "python3",
      "display_name": "Python 3"
    }
  },
  "cells": [
    {
      "cell_type": "markdown",
      "metadata": {
        "id": "view-in-github",
        "colab_type": "text"
      },
      "source": [
        "<a href=\"https://colab.research.google.com/github/MatiasJJ/ATML/blob/edits/Project/Project_Matias_Jakub_Madeleine.ipynb\" target=\"_parent\"><img src=\"https://colab.research.google.com/assets/colab-badge.svg\" alt=\"Open In Colab\"/></a>"
      ]
    },
    {
      "cell_type": "code",
      "metadata": {
        "id": "qOBIG5XR9VFU",
        "colab_type": "code",
        "colab": {}
      },
      "source": [
        "import numpy as np\n",
        "import pandas as pd\n",
        "import matplotlib.pyplot as plt\n",
        "import seaborn as sns\n",
        "import plotly.express as px\n",
        "\n",
        "from sklearn.preprocessing import LabelEncoder\n",
        "from sklearn.model_selection import cross_val_score\n",
        "\n",
        "# Supervised learning\n",
        "from sklearn.neural_network import MLPClassifier\n",
        "from sklearn.neighbors import KNeighborsClassifier\n",
        "from sklearn.svm import SVC\n",
        "from sklearn.gaussian_process import GaussianProcessClassifier\n",
        "from sklearn.gaussian_process.kernels import RBF\n",
        "from sklearn.tree import DecisionTreeClassifier\n",
        "from sklearn.ensemble import RandomForestClassifier, AdaBoostClassifier\n",
        "from sklearn.naive_bayes import GaussianNB\n",
        "from sklearn.discriminant_analysis import QuadraticDiscriminantAnalysis\n",
        "from sklearn.model_selection import KFold, train_test_split\n",
        "import statsmodels.formula.api as smf\n",
        "import statsmodels.api as sm\n",
        "\n",
        "# Unsupervised learning\n",
        "from sklearn.decomposition import PCA\n",
        "from sklearn.cluster import KMeans\n",
        "from sklearn.preprocessing import StandardScaler, Normalizer\n",
        "from scipy.optimize import linear_sum_assignment"
      ],
      "execution_count": 0,
      "outputs": []
    },
    {
      "cell_type": "code",
      "metadata": {
        "id": "XwT_6bFVLjXn",
        "colab_type": "code",
        "colab": {}
      },
      "source": [
        ""
      ],
      "execution_count": 0,
      "outputs": []
    },
    {
      "cell_type": "markdown",
      "metadata": {
        "id": "SAl7tPDK8fUv",
        "colab_type": "text"
      },
      "source": [
        "# Project\n",
        "\n",
        "Madeleine Ekblom, Matias Jääskläinen, Jakub Kubečka\n",
        "\n",
        "Time used: many hours"
      ]
    },
    {
      "cell_type": "code",
      "metadata": {
        "id": "xF_7rZFg8Zva",
        "colab_type": "code",
        "colab": {}
      },
      "source": [
        "# Read in the data\n",
        "\n",
        "dummy = pd.read_csv(\"/content/sample_data/dummy.csv\")\n",
        "npf_train = pd.read_csv(\"/content/sample_data/npf_train.csv\")\n",
        "npf_test_hidden = pd.read_csv(\"/content/sample_data/npf_test_hidden.csv\")"
      ],
      "execution_count": 0,
      "outputs": []
    },
    {
      "cell_type": "code",
      "metadata": {
        "id": "8jGoKNEu-jom",
        "colab_type": "code",
        "colab": {
          "base_uri": "https://localhost:8080/",
          "height": 338
        },
        "outputId": "23db92cf-668b-4161-b001-5c2c4eb74e16"
      },
      "source": [
        "npf_train.head()"
      ],
      "execution_count": 8,
      "outputs": [
        {
          "output_type": "execute_result",
          "data": {
            "text/html": [
              "<div>\n",
              "<style scoped>\n",
              "    .dataframe tbody tr th:only-of-type {\n",
              "        vertical-align: middle;\n",
              "    }\n",
              "\n",
              "    .dataframe tbody tr th {\n",
              "        vertical-align: top;\n",
              "    }\n",
              "\n",
              "    .dataframe thead th {\n",
              "        text-align: right;\n",
              "    }\n",
              "</style>\n",
              "<table border=\"1\" class=\"dataframe\">\n",
              "  <thead>\n",
              "    <tr style=\"text-align: right;\">\n",
              "      <th></th>\n",
              "      <th>id</th>\n",
              "      <th>date</th>\n",
              "      <th>event</th>\n",
              "      <th>partlybad</th>\n",
              "      <th>HYY_META.CO2168.mean</th>\n",
              "      <th>HYY_META.CO2168.std</th>\n",
              "      <th>HYY_META.CO2336.mean</th>\n",
              "      <th>HYY_META.CO2336.std</th>\n",
              "      <th>HYY_META.CO242.mean</th>\n",
              "      <th>HYY_META.CO242.std</th>\n",
              "      <th>HYY_META.CO2504.mean</th>\n",
              "      <th>HYY_META.CO2504.std</th>\n",
              "      <th>HYY_META.Glob.mean</th>\n",
              "      <th>HYY_META.Glob.std</th>\n",
              "      <th>HYY_META.H2O168.mean</th>\n",
              "      <th>HYY_META.H2O168.std</th>\n",
              "      <th>HYY_META.H2O336.mean</th>\n",
              "      <th>HYY_META.H2O336.std</th>\n",
              "      <th>HYY_META.H2O42.mean</th>\n",
              "      <th>HYY_META.H2O42.std</th>\n",
              "      <th>HYY_META.H2O504.mean</th>\n",
              "      <th>HYY_META.H2O504.std</th>\n",
              "      <th>HYY_META.H2O672.mean</th>\n",
              "      <th>HYY_META.H2O672.std</th>\n",
              "      <th>HYY_META.H2O84.mean</th>\n",
              "      <th>HYY_META.H2O84.std</th>\n",
              "      <th>HYY_META.NET.mean</th>\n",
              "      <th>HYY_META.NET.std</th>\n",
              "      <th>HYY_META.NO168.mean</th>\n",
              "      <th>HYY_META.NO168.std</th>\n",
              "      <th>HYY_META.NO336.mean</th>\n",
              "      <th>HYY_META.NO336.std</th>\n",
              "      <th>HYY_META.NO42.mean</th>\n",
              "      <th>HYY_META.NO42.std</th>\n",
              "      <th>HYY_META.NO504.mean</th>\n",
              "      <th>HYY_META.NO504.std</th>\n",
              "      <th>HYY_META.NO672.mean</th>\n",
              "      <th>HYY_META.NO672.std</th>\n",
              "      <th>HYY_META.NO84.mean</th>\n",
              "      <th>HYY_META.NO84.std</th>\n",
              "      <th>...</th>\n",
              "      <th>HYY_META.PAR.mean</th>\n",
              "      <th>HYY_META.PAR.std</th>\n",
              "      <th>HYY_META.PTG.mean</th>\n",
              "      <th>HYY_META.PTG.std</th>\n",
              "      <th>HYY_META.RGlob.mean</th>\n",
              "      <th>HYY_META.RGlob.std</th>\n",
              "      <th>HYY_META.RHIRGA168.mean</th>\n",
              "      <th>HYY_META.RHIRGA168.std</th>\n",
              "      <th>HYY_META.RHIRGA336.mean</th>\n",
              "      <th>HYY_META.RHIRGA336.std</th>\n",
              "      <th>HYY_META.RHIRGA42.mean</th>\n",
              "      <th>HYY_META.RHIRGA42.std</th>\n",
              "      <th>HYY_META.RHIRGA504.mean</th>\n",
              "      <th>HYY_META.RHIRGA504.std</th>\n",
              "      <th>HYY_META.RHIRGA672.mean</th>\n",
              "      <th>HYY_META.RHIRGA672.std</th>\n",
              "      <th>HYY_META.RHIRGA84.mean</th>\n",
              "      <th>HYY_META.RHIRGA84.std</th>\n",
              "      <th>HYY_META.RPAR.mean</th>\n",
              "      <th>HYY_META.RPAR.std</th>\n",
              "      <th>HYY_META.SO2168.mean</th>\n",
              "      <th>HYY_META.SO2168.std</th>\n",
              "      <th>HYY_META.SWS.mean</th>\n",
              "      <th>HYY_META.SWS.std</th>\n",
              "      <th>HYY_META.T168.mean</th>\n",
              "      <th>HYY_META.T168.std</th>\n",
              "      <th>HYY_META.T42.mean</th>\n",
              "      <th>HYY_META.T42.std</th>\n",
              "      <th>HYY_META.T504.mean</th>\n",
              "      <th>HYY_META.T504.std</th>\n",
              "      <th>HYY_META.T672.mean</th>\n",
              "      <th>HYY_META.T672.std</th>\n",
              "      <th>HYY_META.T84.mean</th>\n",
              "      <th>HYY_META.T84.std</th>\n",
              "      <th>HYY_META.UV_A.mean</th>\n",
              "      <th>HYY_META.UV_A.std</th>\n",
              "      <th>HYY_META.UV_B.mean</th>\n",
              "      <th>HYY_META.UV_B.std</th>\n",
              "      <th>CS.mean</th>\n",
              "      <th>CS.std</th>\n",
              "    </tr>\n",
              "  </thead>\n",
              "  <tbody>\n",
              "    <tr>\n",
              "      <th>0</th>\n",
              "      <td>1</td>\n",
              "      <td>2000-01-23</td>\n",
              "      <td>nonevent</td>\n",
              "      <td>False</td>\n",
              "      <td>373.496585</td>\n",
              "      <td>0.189497</td>\n",
              "      <td>373.382593</td>\n",
              "      <td>0.172958</td>\n",
              "      <td>373.961481</td>\n",
              "      <td>0.235107</td>\n",
              "      <td>373.275062</td>\n",
              "      <td>0.165500</td>\n",
              "      <td>29.800885</td>\n",
              "      <td>22.892316</td>\n",
              "      <td>2.741951</td>\n",
              "      <td>0.253662</td>\n",
              "      <td>2.741975</td>\n",
              "      <td>0.238125</td>\n",
              "      <td>2.749136</td>\n",
              "      <td>0.256988</td>\n",
              "      <td>2.736543</td>\n",
              "      <td>0.226292</td>\n",
              "      <td>2.739259</td>\n",
              "      <td>0.211889</td>\n",
              "      <td>2.748902</td>\n",
              "      <td>0.257644</td>\n",
              "      <td>7.673882</td>\n",
              "      <td>18.320279</td>\n",
              "      <td>0.020366</td>\n",
              "      <td>0.028391</td>\n",
              "      <td>0.020617</td>\n",
              "      <td>0.029510</td>\n",
              "      <td>0.012716</td>\n",
              "      <td>0.031145</td>\n",
              "      <td>0.020741</td>\n",
              "      <td>0.032664</td>\n",
              "      <td>0.016790</td>\n",
              "      <td>0.031774</td>\n",
              "      <td>0.017439</td>\n",
              "      <td>0.029136</td>\n",
              "      <td>...</td>\n",
              "      <td>64.461794</td>\n",
              "      <td>34.106856</td>\n",
              "      <td>0.002187</td>\n",
              "      <td>0.005561</td>\n",
              "      <td>8.881671</td>\n",
              "      <td>6.029484</td>\n",
              "      <td>93.162439</td>\n",
              "      <td>0.736300</td>\n",
              "      <td>93.532469</td>\n",
              "      <td>0.693400</td>\n",
              "      <td>91.761728</td>\n",
              "      <td>0.672199</td>\n",
              "      <td>93.913827</td>\n",
              "      <td>0.774957</td>\n",
              "      <td>96.277654</td>\n",
              "      <td>0.933980</td>\n",
              "      <td>92.153537</td>\n",
              "      <td>0.718172</td>\n",
              "      <td>11.132826</td>\n",
              "      <td>6.353457</td>\n",
              "      <td>0.158171</td>\n",
              "      <td>0.122969</td>\n",
              "      <td>934.925926</td>\n",
              "      <td>1.517232</td>\n",
              "      <td>-9.811155</td>\n",
              "      <td>1.205806</td>\n",
              "      <td>-9.580934</td>\n",
              "      <td>1.243517</td>\n",
              "      <td>-9.941204</td>\n",
              "      <td>1.071755</td>\n",
              "      <td>-10.224472</td>\n",
              "      <td>0.965988</td>\n",
              "      <td>-9.651155</td>\n",
              "      <td>1.238891</td>\n",
              "      <td>2.677545</td>\n",
              "      <td>1.261612</td>\n",
              "      <td>0.044759</td>\n",
              "      <td>0.023748</td>\n",
              "      <td>0.000764</td>\n",
              "      <td>0.000048</td>\n",
              "    </tr>\n",
              "    <tr>\n",
              "      <th>1</th>\n",
              "      <td>2</td>\n",
              "      <td>2000-01-25</td>\n",
              "      <td>nonevent</td>\n",
              "      <td>False</td>\n",
              "      <td>381.752738</td>\n",
              "      <td>1.701439</td>\n",
              "      <td>381.392651</td>\n",
              "      <td>1.573735</td>\n",
              "      <td>382.373735</td>\n",
              "      <td>1.754803</td>\n",
              "      <td>380.980000</td>\n",
              "      <td>1.464652</td>\n",
              "      <td>18.389856</td>\n",
              "      <td>9.566668</td>\n",
              "      <td>2.313333</td>\n",
              "      <td>0.328202</td>\n",
              "      <td>2.310000</td>\n",
              "      <td>0.315463</td>\n",
              "      <td>2.308916</td>\n",
              "      <td>0.321506</td>\n",
              "      <td>2.320361</td>\n",
              "      <td>0.297872</td>\n",
              "      <td>2.342651</td>\n",
              "      <td>0.299325</td>\n",
              "      <td>2.312143</td>\n",
              "      <td>0.329732</td>\n",
              "      <td>29.663765</td>\n",
              "      <td>10.891472</td>\n",
              "      <td>0.483810</td>\n",
              "      <td>0.295051</td>\n",
              "      <td>0.494337</td>\n",
              "      <td>0.312692</td>\n",
              "      <td>0.404337</td>\n",
              "      <td>0.246385</td>\n",
              "      <td>0.488675</td>\n",
              "      <td>0.311784</td>\n",
              "      <td>0.421325</td>\n",
              "      <td>0.265687</td>\n",
              "      <td>0.435595</td>\n",
              "      <td>0.265177</td>\n",
              "      <td>...</td>\n",
              "      <td>39.684245</td>\n",
              "      <td>22.195953</td>\n",
              "      <td>0.009353</td>\n",
              "      <td>0.011258</td>\n",
              "      <td>5.547266</td>\n",
              "      <td>3.204514</td>\n",
              "      <td>95.802857</td>\n",
              "      <td>1.748414</td>\n",
              "      <td>95.578675</td>\n",
              "      <td>1.830929</td>\n",
              "      <td>93.989639</td>\n",
              "      <td>1.612301</td>\n",
              "      <td>95.268916</td>\n",
              "      <td>1.772817</td>\n",
              "      <td>97.426867</td>\n",
              "      <td>2.306357</td>\n",
              "      <td>94.580714</td>\n",
              "      <td>1.530332</td>\n",
              "      <td>7.345012</td>\n",
              "      <td>4.787854</td>\n",
              "      <td>2.050476</td>\n",
              "      <td>0.262710</td>\n",
              "      <td>888.285714</td>\n",
              "      <td>63.666293</td>\n",
              "      <td>-12.377122</td>\n",
              "      <td>1.930159</td>\n",
              "      <td>-12.144724</td>\n",
              "      <td>1.899699</td>\n",
              "      <td>-12.271055</td>\n",
              "      <td>1.774972</td>\n",
              "      <td>-12.399808</td>\n",
              "      <td>1.671699</td>\n",
              "      <td>-12.230048</td>\n",
              "      <td>1.918075</td>\n",
              "      <td>1.548098</td>\n",
              "      <td>0.804746</td>\n",
              "      <td>0.033443</td>\n",
              "      <td>0.020402</td>\n",
              "      <td>0.003630</td>\n",
              "      <td>0.000650</td>\n",
              "    </tr>\n",
              "    <tr>\n",
              "      <th>2</th>\n",
              "      <td>3</td>\n",
              "      <td>2000-02-13</td>\n",
              "      <td>nonevent</td>\n",
              "      <td>False</td>\n",
              "      <td>376.723579</td>\n",
              "      <td>0.468817</td>\n",
              "      <td>376.660842</td>\n",
              "      <td>0.466072</td>\n",
              "      <td>377.282447</td>\n",
              "      <td>0.498498</td>\n",
              "      <td>376.628105</td>\n",
              "      <td>0.461868</td>\n",
              "      <td>23.891954</td>\n",
              "      <td>13.275049</td>\n",
              "      <td>5.937684</td>\n",
              "      <td>0.143159</td>\n",
              "      <td>5.899053</td>\n",
              "      <td>0.142486</td>\n",
              "      <td>6.057340</td>\n",
              "      <td>0.132350</td>\n",
              "      <td>5.870000</td>\n",
              "      <td>0.149089</td>\n",
              "      <td>5.868737</td>\n",
              "      <td>0.144982</td>\n",
              "      <td>5.996632</td>\n",
              "      <td>0.138776</td>\n",
              "      <td>17.175105</td>\n",
              "      <td>10.329247</td>\n",
              "      <td>0.024526</td>\n",
              "      <td>0.033794</td>\n",
              "      <td>0.030842</td>\n",
              "      <td>0.035957</td>\n",
              "      <td>0.018723</td>\n",
              "      <td>0.039710</td>\n",
              "      <td>0.027895</td>\n",
              "      <td>0.039028</td>\n",
              "      <td>0.028000</td>\n",
              "      <td>0.039373</td>\n",
              "      <td>0.024526</td>\n",
              "      <td>0.036255</td>\n",
              "      <td>...</td>\n",
              "      <td>46.248851</td>\n",
              "      <td>26.678515</td>\n",
              "      <td>0.000000</td>\n",
              "      <td>0.000000</td>\n",
              "      <td>4.605295</td>\n",
              "      <td>2.383141</td>\n",
              "      <td>95.210316</td>\n",
              "      <td>3.447666</td>\n",
              "      <td>94.992526</td>\n",
              "      <td>3.539572</td>\n",
              "      <td>95.997553</td>\n",
              "      <td>3.213463</td>\n",
              "      <td>95.143263</td>\n",
              "      <td>3.644205</td>\n",
              "      <td>97.430316</td>\n",
              "      <td>3.727059</td>\n",
              "      <td>95.332737</td>\n",
              "      <td>3.347619</td>\n",
              "      <td>4.219557</td>\n",
              "      <td>2.818613</td>\n",
              "      <td>1.413263</td>\n",
              "      <td>0.316539</td>\n",
              "      <td>925.323529</td>\n",
              "      <td>15.328169</td>\n",
              "      <td>-0.039684</td>\n",
              "      <td>0.215015</td>\n",
              "      <td>0.119051</td>\n",
              "      <td>0.197613</td>\n",
              "      <td>-0.190570</td>\n",
              "      <td>0.217772</td>\n",
              "      <td>-0.523692</td>\n",
              "      <td>0.218085</td>\n",
              "      <td>0.080127</td>\n",
              "      <td>0.209476</td>\n",
              "      <td>1.644059</td>\n",
              "      <td>0.882067</td>\n",
              "      <td>0.023938</td>\n",
              "      <td>0.015601</td>\n",
              "      <td>0.005318</td>\n",
              "      <td>0.000479</td>\n",
              "    </tr>\n",
              "    <tr>\n",
              "      <th>3</th>\n",
              "      <td>4</td>\n",
              "      <td>2000-02-17</td>\n",
              "      <td>nonevent</td>\n",
              "      <td>False</td>\n",
              "      <td>378.600367</td>\n",
              "      <td>1.934180</td>\n",
              "      <td>378.464862</td>\n",
              "      <td>1.946536</td>\n",
              "      <td>379.785872</td>\n",
              "      <td>2.865022</td>\n",
              "      <td>378.316909</td>\n",
              "      <td>1.983430</td>\n",
              "      <td>23.795211</td>\n",
              "      <td>16.178905</td>\n",
              "      <td>5.710000</td>\n",
              "      <td>0.080335</td>\n",
              "      <td>5.715229</td>\n",
              "      <td>0.064873</td>\n",
              "      <td>5.795780</td>\n",
              "      <td>0.067058</td>\n",
              "      <td>5.688818</td>\n",
              "      <td>0.086743</td>\n",
              "      <td>5.662200</td>\n",
              "      <td>0.069218</td>\n",
              "      <td>5.748532</td>\n",
              "      <td>0.072748</td>\n",
              "      <td>18.218229</td>\n",
              "      <td>12.720477</td>\n",
              "      <td>0.218257</td>\n",
              "      <td>0.235922</td>\n",
              "      <td>0.227615</td>\n",
              "      <td>0.247734</td>\n",
              "      <td>0.175688</td>\n",
              "      <td>0.185429</td>\n",
              "      <td>0.222182</td>\n",
              "      <td>0.211527</td>\n",
              "      <td>0.205455</td>\n",
              "      <td>0.207659</td>\n",
              "      <td>0.199450</td>\n",
              "      <td>0.198843</td>\n",
              "      <td>...</td>\n",
              "      <td>30.705657</td>\n",
              "      <td>20.805843</td>\n",
              "      <td>0.000000</td>\n",
              "      <td>0.000000</td>\n",
              "      <td>10.818993</td>\n",
              "      <td>6.163719</td>\n",
              "      <td>98.730642</td>\n",
              "      <td>1.201051</td>\n",
              "      <td>99.466147</td>\n",
              "      <td>1.024843</td>\n",
              "      <td>97.505229</td>\n",
              "      <td>1.090446</td>\n",
              "      <td>99.637818</td>\n",
              "      <td>1.168720</td>\n",
              "      <td>101.382300</td>\n",
              "      <td>1.138114</td>\n",
              "      <td>97.847890</td>\n",
              "      <td>1.144319</td>\n",
              "      <td>13.915824</td>\n",
              "      <td>8.306276</td>\n",
              "      <td>0.212569</td>\n",
              "      <td>0.116527</td>\n",
              "      <td>904.942857</td>\n",
              "      <td>53.208769</td>\n",
              "      <td>-1.049451</td>\n",
              "      <td>0.108633</td>\n",
              "      <td>-0.669048</td>\n",
              "      <td>0.165462</td>\n",
              "      <td>-1.221172</td>\n",
              "      <td>0.112492</td>\n",
              "      <td>-1.535183</td>\n",
              "      <td>0.122651</td>\n",
              "      <td>-0.829524</td>\n",
              "      <td>0.134191</td>\n",
              "      <td>2.261805</td>\n",
              "      <td>1.345651</td>\n",
              "      <td>0.030893</td>\n",
              "      <td>0.021903</td>\n",
              "      <td>0.002038</td>\n",
              "      <td>0.000751</td>\n",
              "    </tr>\n",
              "    <tr>\n",
              "      <th>4</th>\n",
              "      <td>5</td>\n",
              "      <td>2000-02-23</td>\n",
              "      <td>nonevent</td>\n",
              "      <td>False</td>\n",
              "      <td>380.528120</td>\n",
              "      <td>0.802001</td>\n",
              "      <td>380.371466</td>\n",
              "      <td>0.889550</td>\n",
              "      <td>381.816207</td>\n",
              "      <td>1.292593</td>\n",
              "      <td>380.296466</td>\n",
              "      <td>0.968884</td>\n",
              "      <td>236.605353</td>\n",
              "      <td>145.160571</td>\n",
              "      <td>2.663504</td>\n",
              "      <td>0.319427</td>\n",
              "      <td>2.695603</td>\n",
              "      <td>0.304894</td>\n",
              "      <td>2.548879</td>\n",
              "      <td>0.382813</td>\n",
              "      <td>2.694138</td>\n",
              "      <td>0.306606</td>\n",
              "      <td>2.771071</td>\n",
              "      <td>0.366386</td>\n",
              "      <td>2.613362</td>\n",
              "      <td>0.348996</td>\n",
              "      <td>81.699876</td>\n",
              "      <td>109.164607</td>\n",
              "      <td>0.319316</td>\n",
              "      <td>0.179649</td>\n",
              "      <td>0.336724</td>\n",
              "      <td>0.183974</td>\n",
              "      <td>0.235517</td>\n",
              "      <td>0.157543</td>\n",
              "      <td>0.332500</td>\n",
              "      <td>0.183478</td>\n",
              "      <td>0.287241</td>\n",
              "      <td>0.172559</td>\n",
              "      <td>0.286638</td>\n",
              "      <td>0.160141</td>\n",
              "      <td>...</td>\n",
              "      <td>339.171515</td>\n",
              "      <td>211.125658</td>\n",
              "      <td>0.000964</td>\n",
              "      <td>0.007481</td>\n",
              "      <td>67.500843</td>\n",
              "      <td>30.529852</td>\n",
              "      <td>95.104103</td>\n",
              "      <td>1.612618</td>\n",
              "      <td>96.532586</td>\n",
              "      <td>2.382040</td>\n",
              "      <td>92.189052</td>\n",
              "      <td>1.781872</td>\n",
              "      <td>96.752672</td>\n",
              "      <td>2.326736</td>\n",
              "      <td>101.351071</td>\n",
              "      <td>4.571036</td>\n",
              "      <td>93.293534</td>\n",
              "      <td>1.981996</td>\n",
              "      <td>84.476919</td>\n",
              "      <td>49.764321</td>\n",
              "      <td>0.559316</td>\n",
              "      <td>0.374688</td>\n",
              "      <td>936.605263</td>\n",
              "      <td>0.916500</td>\n",
              "      <td>-10.272530</td>\n",
              "      <td>1.575415</td>\n",
              "      <td>-10.489828</td>\n",
              "      <td>2.085275</td>\n",
              "      <td>-10.346540</td>\n",
              "      <td>1.347401</td>\n",
              "      <td>-10.730843</td>\n",
              "      <td>1.381815</td>\n",
              "      <td>-10.282754</td>\n",
              "      <td>1.870056</td>\n",
              "      <td>8.356761</td>\n",
              "      <td>4.534937</td>\n",
              "      <td>0.178084</td>\n",
              "      <td>0.123402</td>\n",
              "      <td>0.002546</td>\n",
              "      <td>0.000686</td>\n",
              "    </tr>\n",
              "  </tbody>\n",
              "</table>\n",
              "<p>5 rows × 104 columns</p>\n",
              "</div>"
            ],
            "text/plain": [
              "   id        date     event  ...  HYY_META.UV_B.std   CS.mean    CS.std\n",
              "0   1  2000-01-23  nonevent  ...           0.023748  0.000764  0.000048\n",
              "1   2  2000-01-25  nonevent  ...           0.020402  0.003630  0.000650\n",
              "2   3  2000-02-13  nonevent  ...           0.015601  0.005318  0.000479\n",
              "3   4  2000-02-17  nonevent  ...           0.021903  0.002038  0.000751\n",
              "4   5  2000-02-23  nonevent  ...           0.123402  0.002546  0.000686\n",
              "\n",
              "[5 rows x 104 columns]"
            ]
          },
          "metadata": {
            "tags": []
          },
          "execution_count": 8
        }
      ]
    },
    {
      "cell_type": "code",
      "metadata": {
        "id": "DeC_2fOeC0RO",
        "colab_type": "code",
        "colab": {}
      },
      "source": [
        "X = npf_train.iloc[:,4:]\n",
        "Y = npf_train.iloc[:,2]"
      ],
      "execution_count": 0,
      "outputs": []
    },
    {
      "cell_type": "markdown",
      "metadata": {
        "id": "m54EBzrjHmNE",
        "colab_type": "text"
      },
      "source": [
        "Make Y categorical"
      ]
    },
    {
      "cell_type": "code",
      "metadata": {
        "id": "kAaWjluJDeZY",
        "colab_type": "code",
        "colab": {}
      },
      "source": [
        "labeler = LabelEncoder()\n",
        "Y = labeler.fit_transform(Y.astype('str'))"
      ],
      "execution_count": 0,
      "outputs": []
    },
    {
      "cell_type": "code",
      "metadata": {
        "id": "_HEPbkmpIqT8",
        "colab_type": "code",
        "colab": {
          "base_uri": "https://localhost:8080/",
          "height": 34
        },
        "outputId": "f79ed3d5-fc1f-4420-ff0e-9f95fd784e13"
      },
      "source": [
        "list(labeler.classes_), set(Y)"
      ],
      "execution_count": 44,
      "outputs": [
        {
          "output_type": "execute_result",
          "data": {
            "text/plain": [
              "(['II', 'Ia', 'Ib', 'nonevent'], {0, 1, 2, 3})"
            ]
          },
          "metadata": {
            "tags": []
          },
          "execution_count": 44
        }
      ]
    },
    {
      "cell_type": "markdown",
      "metadata": {
        "id": "kZahMRm8Ct2K",
        "colab_type": "text"
      },
      "source": [
        "Reduce the number of dimensions"
      ]
    },
    {
      "cell_type": "code",
      "metadata": {
        "id": "mncYMVWOFKO9",
        "colab_type": "code",
        "colab": {}
      },
      "source": [
        "scaler = StandardScaler()\n",
        "X = scaler.fit(X).transform(X)"
      ],
      "execution_count": 0,
      "outputs": []
    },
    {
      "cell_type": "code",
      "metadata": {
        "id": "CE6P24Z8FbPj",
        "colab_type": "code",
        "colab": {
          "base_uri": "https://localhost:8080/",
          "height": 34
        },
        "outputId": "af3e73af-9d8c-4cc7-f91a-dff5b6edc341"
      },
      "source": [
        "X.shape"
      ],
      "execution_count": 26,
      "outputs": [
        {
          "output_type": "execute_result",
          "data": {
            "text/plain": [
              "(724, 100)"
            ]
          },
          "metadata": {
            "tags": []
          },
          "execution_count": 26
        }
      ]
    },
    {
      "cell_type": "code",
      "metadata": {
        "id": "9XT1OUgGCzzU",
        "colab_type": "code",
        "colab": {}
      },
      "source": [
        "pca = PCA(n_components=3)\n",
        "npf_pca = pca.fit_transform(X)"
      ],
      "execution_count": 0,
      "outputs": []
    },
    {
      "cell_type": "code",
      "metadata": {
        "id": "_L1voUuQCuas",
        "colab_type": "code",
        "colab": {
          "base_uri": "https://localhost:8080/",
          "height": 34
        },
        "outputId": "59711aa5-1d78-4b62-b97d-23a99614d458"
      },
      "source": [
        "npf_pca.shape, type(npf_pca)"
      ],
      "execution_count": 28,
      "outputs": [
        {
          "output_type": "execute_result",
          "data": {
            "text/plain": [
              "((724, 3), numpy.ndarray)"
            ]
          },
          "metadata": {
            "tags": []
          },
          "execution_count": 28
        }
      ]
    },
    {
      "cell_type": "code",
      "metadata": {
        "id": "0gHNnsKiEx3m",
        "colab_type": "code",
        "colab": {}
      },
      "source": [
        "npf_pca = pd.DataFrame(npf_pca, columns=[\"pca1\",\"pca2\",\"pca3\"])"
      ],
      "execution_count": 0,
      "outputs": []
    },
    {
      "cell_type": "code",
      "metadata": {
        "id": "AYmGwvJwEeNB",
        "colab_type": "code",
        "colab": {}
      },
      "source": [
        "#px.scatter_3d(data_frame=npf_pca,x=\"pca1\",y=\"pca2\",z=\"pca3\")"
      ],
      "execution_count": 0,
      "outputs": []
    },
    {
      "cell_type": "markdown",
      "metadata": {
        "id": "Zf0ZQcX5A-Xh",
        "colab_type": "text"
      },
      "source": [
        "Split the train data into train and validation \n",
        "\n",
        "```X_train``` = training features  \n",
        "```X_test``` = validation features  \n",
        "```Y_train``` = training labels  \n",
        "```Y_test``` = validation labels  "
      ]
    },
    {
      "cell_type": "code",
      "metadata": {
        "id": "4XKd2oUSBotf",
        "colab_type": "code",
        "colab": {}
      },
      "source": [
        "X_train,X_test,Y_train,Y_test = train_test_split(npf_pca,Y,random_state=42)"
      ],
      "execution_count": 0,
      "outputs": []
    },
    {
      "cell_type": "code",
      "metadata": {
        "id": "Mla1y2mHHyLL",
        "colab_type": "code",
        "colab": {
          "base_uri": "https://localhost:8080/",
          "height": 34
        },
        "outputId": "96766014-94af-4d4e-b83f-0870d8728a6e"
      },
      "source": [
        "X_train.shape,X_test.shape,Y_train.shape,Y_test.shape"
      ],
      "execution_count": 47,
      "outputs": [
        {
          "output_type": "execute_result",
          "data": {
            "text/plain": [
              "((543, 3), (181, 3), (543,), (181,))"
            ]
          },
          "metadata": {
            "tags": []
          },
          "execution_count": 47
        }
      ]
    },
    {
      "cell_type": "markdown",
      "metadata": {
        "id": "xJJamKEsKBP_",
        "colab_type": "text"
      },
      "source": [
        "Try models"
      ]
    },
    {
      "cell_type": "code",
      "metadata": {
        "id": "x_2BjQkcKAy2",
        "colab_type": "code",
        "colab": {}
      },
      "source": [
        "names = [\"Nearest Neighbors\", \"Linear SVM\", \"RBF SVM\", \"Gaussian Process\",\n",
        "         \"Decision Tree\", \"Random Forest\", \"Neural Net\", \"AdaBoost\",\n",
        "         \"Naive Bayes\", \"QDA\"]\n",
        "\n",
        "classifiers = [\n",
        "    KNeighborsClassifier(3),\n",
        "    SVC(kernel=\"linear\", C=0.025),\n",
        "    SVC(gamma=2, C=1),\n",
        "    GaussianProcessClassifier(1.0 * RBF(1.0)),\n",
        "    DecisionTreeClassifier(max_depth=5),\n",
        "    RandomForestClassifier(max_depth=5, n_estimators=10, max_features=1),\n",
        "    MLPClassifier(alpha=1, max_iter=1000),\n",
        "    AdaBoostClassifier(),\n",
        "    GaussianNB(),\n",
        "    QuadraticDiscriminantAnalysis()]"
      ],
      "execution_count": 0,
      "outputs": []
    },
    {
      "cell_type": "code",
      "metadata": {
        "id": "d8MTiBzrNpQD",
        "colab_type": "code",
        "colab": {
          "base_uri": "https://localhost:8080/",
          "height": 187
        },
        "outputId": "29fad6b4-1952-4ea5-b1e5-b4e56c4d2f84"
      },
      "source": [
        "# iterate over classifiers\n",
        "for name, clf in zip(names, classifiers):\n",
        "    clf.fit(X_train, Y_train)\n",
        "    score = clf.score(X_test, Y_test)\n",
        "    print(\"{}:  {}\".format(name,score))"
      ],
      "execution_count": 51,
      "outputs": [
        {
          "output_type": "stream",
          "text": [
            "Nearest Neighbors:  0.6077348066298343\n",
            "Linear SVM:  0.6353591160220995\n",
            "RBF SVM:  0.5524861878453039\n",
            "Gaussian Process:  0.6408839779005525\n",
            "Decision Tree:  0.6408839779005525\n",
            "Random Forest:  0.6464088397790055\n",
            "Neural Net:  0.6464088397790055\n",
            "AdaBoost:  0.6022099447513812\n",
            "Naive Bayes:  0.6132596685082873\n",
            "QDA:  0.6022099447513812\n"
          ],
          "name": "stdout"
        }
      ]
    },
    {
      "cell_type": "markdown",
      "metadata": {
        "id": "R_IwFcxGBHYr",
        "colab_type": "text"
      },
      "source": [
        "Use cross-validation to find the best model"
      ]
    },
    {
      "cell_type": "code",
      "metadata": {
        "id": "18RtfjUBJRGw",
        "colab_type": "code",
        "colab": {
          "base_uri": "https://localhost:8080/",
          "height": 395
        },
        "outputId": "a7f15e5b-297a-4bc6-fc83-86cf2fc55e02"
      },
      "source": [
        "# k-fold cross-validation using sklearn \n",
        "kf = KFold(n_splits=10)\n",
        "\n",
        "iterations=10\n",
        "MSE_vals = []\n",
        "MSE_outs = []\n",
        "for iter in range(1,iterations):\n",
        "\n",
        "  for model in [LinearRegression(), DecisionTreeRegressor(), RandomForestRegressor(), SVR(), Ridge()]:\n",
        "\n",
        "    MSE_tr = []\n",
        "    MSE_val = []\n",
        "    MSE_out = []\n",
        "    for train, val in kf.split(X_train):\n",
        "        #print(\"%s %s\" % (train, val))\n",
        "        #print(train.shape, val.shape)\n",
        "        fit = model.fit(X_train[train],Y_train[train])\n",
        "        msetr = np.mean((fit.predict(X_train[train])-Y_train[train])**2)\n",
        "        mseval = np.mean((fit.predict(X_train[val])-Y_train[val])**2)\n",
        "        MSE_tr.append(msetr)\n",
        "        MSE_val.append(mseval)\n",
        "    #fit = model.fit(X_train,Y_train)\n",
        "    #MSE_out=np.mean((fit.predict(X_te)-y_te)**2)\n",
        "    #print(\"%21s: MSE_tr = %.2f MSE_val = %.2f MSE_in = %.2f MSE_out = %.2f\" %\n",
        "    #          (fit.__class__.__name__,\n",
        "    #           np.mean(MSE_tr),\n",
        "    #           np.mean(MSE_val),\n",
        "    #           np.mean((fit.predict(X_tr)-y_tr)**2),\n",
        "    #           MSE_out))\n",
        "  MSE_vals.append(np.mean(MSE_val))\n",
        "  MSE_outs.append(MSE_out)\n",
        "print(\"Mean of validation loss is %.2f\" % np.mean(MSE_vals))\n",
        "print(\"Mean of test loss is %.2f\" % np.mean(MSE_outs))"
      ],
      "execution_count": 46,
      "outputs": [
        {
          "output_type": "error",
          "ename": "KeyError",
          "evalue": "ignored",
          "traceback": [
            "\u001b[0;31m---------------------------------------------------------------------------\u001b[0m",
            "\u001b[0;31mKeyError\u001b[0m                                  Traceback (most recent call last)",
            "\u001b[0;32m<ipython-input-46-f07c8ee8df61>\u001b[0m in \u001b[0;36m<module>\u001b[0;34m()\u001b[0m\n\u001b[1;32m     15\u001b[0m         \u001b[0;31m#print(\"%s %s\" % (train, val))\u001b[0m\u001b[0;34m\u001b[0m\u001b[0;34m\u001b[0m\u001b[0;34m\u001b[0m\u001b[0m\n\u001b[1;32m     16\u001b[0m         \u001b[0;31m#print(train.shape, val.shape)\u001b[0m\u001b[0;34m\u001b[0m\u001b[0;34m\u001b[0m\u001b[0;34m\u001b[0m\u001b[0m\n\u001b[0;32m---> 17\u001b[0;31m         \u001b[0mfit\u001b[0m \u001b[0;34m=\u001b[0m \u001b[0mmodel\u001b[0m\u001b[0;34m.\u001b[0m\u001b[0mfit\u001b[0m\u001b[0;34m(\u001b[0m\u001b[0mX_train\u001b[0m\u001b[0;34m[\u001b[0m\u001b[0mtrain\u001b[0m\u001b[0;34m]\u001b[0m\u001b[0;34m,\u001b[0m\u001b[0mY_train\u001b[0m\u001b[0;34m[\u001b[0m\u001b[0mtrain\u001b[0m\u001b[0;34m]\u001b[0m\u001b[0;34m)\u001b[0m\u001b[0;34m\u001b[0m\u001b[0;34m\u001b[0m\u001b[0m\n\u001b[0m\u001b[1;32m     18\u001b[0m         \u001b[0mmsetr\u001b[0m \u001b[0;34m=\u001b[0m \u001b[0mnp\u001b[0m\u001b[0;34m.\u001b[0m\u001b[0mmean\u001b[0m\u001b[0;34m(\u001b[0m\u001b[0;34m(\u001b[0m\u001b[0mfit\u001b[0m\u001b[0;34m.\u001b[0m\u001b[0mpredict\u001b[0m\u001b[0;34m(\u001b[0m\u001b[0mX_train\u001b[0m\u001b[0;34m[\u001b[0m\u001b[0mtrain\u001b[0m\u001b[0;34m]\u001b[0m\u001b[0;34m)\u001b[0m\u001b[0;34m-\u001b[0m\u001b[0mY_train\u001b[0m\u001b[0;34m[\u001b[0m\u001b[0mtrain\u001b[0m\u001b[0;34m]\u001b[0m\u001b[0;34m)\u001b[0m\u001b[0;34m**\u001b[0m\u001b[0;36m2\u001b[0m\u001b[0;34m)\u001b[0m\u001b[0;34m\u001b[0m\u001b[0;34m\u001b[0m\u001b[0m\n\u001b[1;32m     19\u001b[0m         \u001b[0mmseval\u001b[0m \u001b[0;34m=\u001b[0m \u001b[0mnp\u001b[0m\u001b[0;34m.\u001b[0m\u001b[0mmean\u001b[0m\u001b[0;34m(\u001b[0m\u001b[0;34m(\u001b[0m\u001b[0mfit\u001b[0m\u001b[0;34m.\u001b[0m\u001b[0mpredict\u001b[0m\u001b[0;34m(\u001b[0m\u001b[0mX_train\u001b[0m\u001b[0;34m[\u001b[0m\u001b[0mval\u001b[0m\u001b[0;34m]\u001b[0m\u001b[0;34m)\u001b[0m\u001b[0;34m-\u001b[0m\u001b[0mY_train\u001b[0m\u001b[0;34m[\u001b[0m\u001b[0mval\u001b[0m\u001b[0;34m]\u001b[0m\u001b[0;34m)\u001b[0m\u001b[0;34m**\u001b[0m\u001b[0;36m2\u001b[0m\u001b[0;34m)\u001b[0m\u001b[0;34m\u001b[0m\u001b[0;34m\u001b[0m\u001b[0m\n",
            "\u001b[0;32m/usr/local/lib/python3.6/dist-packages/pandas/core/frame.py\u001b[0m in \u001b[0;36m__getitem__\u001b[0;34m(self, key)\u001b[0m\n\u001b[1;32m   2804\u001b[0m             \u001b[0;32mif\u001b[0m \u001b[0mis_iterator\u001b[0m\u001b[0;34m(\u001b[0m\u001b[0mkey\u001b[0m\u001b[0;34m)\u001b[0m\u001b[0;34m:\u001b[0m\u001b[0;34m\u001b[0m\u001b[0;34m\u001b[0m\u001b[0m\n\u001b[1;32m   2805\u001b[0m                 \u001b[0mkey\u001b[0m \u001b[0;34m=\u001b[0m \u001b[0mlist\u001b[0m\u001b[0;34m(\u001b[0m\u001b[0mkey\u001b[0m\u001b[0;34m)\u001b[0m\u001b[0;34m\u001b[0m\u001b[0;34m\u001b[0m\u001b[0m\n\u001b[0;32m-> 2806\u001b[0;31m             \u001b[0mindexer\u001b[0m \u001b[0;34m=\u001b[0m \u001b[0mself\u001b[0m\u001b[0;34m.\u001b[0m\u001b[0mloc\u001b[0m\u001b[0;34m.\u001b[0m\u001b[0m_get_listlike_indexer\u001b[0m\u001b[0;34m(\u001b[0m\u001b[0mkey\u001b[0m\u001b[0;34m,\u001b[0m \u001b[0maxis\u001b[0m\u001b[0;34m=\u001b[0m\u001b[0;36m1\u001b[0m\u001b[0;34m,\u001b[0m \u001b[0mraise_missing\u001b[0m\u001b[0;34m=\u001b[0m\u001b[0;32mTrue\u001b[0m\u001b[0;34m)\u001b[0m\u001b[0;34m[\u001b[0m\u001b[0;36m1\u001b[0m\u001b[0;34m]\u001b[0m\u001b[0;34m\u001b[0m\u001b[0;34m\u001b[0m\u001b[0m\n\u001b[0m\u001b[1;32m   2807\u001b[0m \u001b[0;34m\u001b[0m\u001b[0m\n\u001b[1;32m   2808\u001b[0m         \u001b[0;31m# take() does not accept boolean indexers\u001b[0m\u001b[0;34m\u001b[0m\u001b[0;34m\u001b[0m\u001b[0;34m\u001b[0m\u001b[0m\n",
            "\u001b[0;32m/usr/local/lib/python3.6/dist-packages/pandas/core/indexing.py\u001b[0m in \u001b[0;36m_get_listlike_indexer\u001b[0;34m(self, key, axis, raise_missing)\u001b[0m\n\u001b[1;32m   1551\u001b[0m \u001b[0;34m\u001b[0m\u001b[0m\n\u001b[1;32m   1552\u001b[0m         self._validate_read_indexer(\n\u001b[0;32m-> 1553\u001b[0;31m             \u001b[0mkeyarr\u001b[0m\u001b[0;34m,\u001b[0m \u001b[0mindexer\u001b[0m\u001b[0;34m,\u001b[0m \u001b[0mo\u001b[0m\u001b[0;34m.\u001b[0m\u001b[0m_get_axis_number\u001b[0m\u001b[0;34m(\u001b[0m\u001b[0maxis\u001b[0m\u001b[0;34m)\u001b[0m\u001b[0;34m,\u001b[0m \u001b[0mraise_missing\u001b[0m\u001b[0;34m=\u001b[0m\u001b[0mraise_missing\u001b[0m\u001b[0;34m\u001b[0m\u001b[0;34m\u001b[0m\u001b[0m\n\u001b[0m\u001b[1;32m   1554\u001b[0m         )\n\u001b[1;32m   1555\u001b[0m         \u001b[0;32mreturn\u001b[0m \u001b[0mkeyarr\u001b[0m\u001b[0;34m,\u001b[0m \u001b[0mindexer\u001b[0m\u001b[0;34m\u001b[0m\u001b[0;34m\u001b[0m\u001b[0m\n",
            "\u001b[0;32m/usr/local/lib/python3.6/dist-packages/pandas/core/indexing.py\u001b[0m in \u001b[0;36m_validate_read_indexer\u001b[0;34m(self, key, indexer, axis, raise_missing)\u001b[0m\n\u001b[1;32m   1638\u001b[0m             \u001b[0;32mif\u001b[0m \u001b[0mmissing\u001b[0m \u001b[0;34m==\u001b[0m \u001b[0mlen\u001b[0m\u001b[0;34m(\u001b[0m\u001b[0mindexer\u001b[0m\u001b[0;34m)\u001b[0m\u001b[0;34m:\u001b[0m\u001b[0;34m\u001b[0m\u001b[0;34m\u001b[0m\u001b[0m\n\u001b[1;32m   1639\u001b[0m                 \u001b[0maxis_name\u001b[0m \u001b[0;34m=\u001b[0m \u001b[0mself\u001b[0m\u001b[0;34m.\u001b[0m\u001b[0mobj\u001b[0m\u001b[0;34m.\u001b[0m\u001b[0m_get_axis_name\u001b[0m\u001b[0;34m(\u001b[0m\u001b[0maxis\u001b[0m\u001b[0;34m)\u001b[0m\u001b[0;34m\u001b[0m\u001b[0;34m\u001b[0m\u001b[0m\n\u001b[0;32m-> 1640\u001b[0;31m                 \u001b[0;32mraise\u001b[0m \u001b[0mKeyError\u001b[0m\u001b[0;34m(\u001b[0m\u001b[0;34mf\"None of [{key}] are in the [{axis_name}]\"\u001b[0m\u001b[0;34m)\u001b[0m\u001b[0;34m\u001b[0m\u001b[0;34m\u001b[0m\u001b[0m\n\u001b[0m\u001b[1;32m   1641\u001b[0m \u001b[0;34m\u001b[0m\u001b[0m\n\u001b[1;32m   1642\u001b[0m             \u001b[0;31m# We (temporarily) allow for some missing keys with .loc, except in\u001b[0m\u001b[0;34m\u001b[0m\u001b[0;34m\u001b[0m\u001b[0;34m\u001b[0m\u001b[0m\n",
            "\u001b[0;31mKeyError\u001b[0m: \"None of [Int64Index([ 55,  56,  57,  58,  59,  60,  61,  62,  63,  64,\\n            ...\\n            533, 534, 535, 536, 537, 538, 539, 540, 541, 542],\\n           dtype='int64', length=488)] are in the [columns]\""
          ]
        }
      ]
    },
    {
      "cell_type": "markdown",
      "metadata": {
        "id": "5Ze8xKTsBOaZ",
        "colab_type": "text"
      },
      "source": [
        "Train the model "
      ]
    },
    {
      "cell_type": "code",
      "metadata": {
        "id": "9gKo1jdq-o_i",
        "colab_type": "code",
        "colab": {}
      },
      "source": [
        ""
      ],
      "execution_count": 0,
      "outputs": []
    }
  ]
}