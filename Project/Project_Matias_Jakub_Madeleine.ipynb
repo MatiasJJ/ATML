{
  "nbformat": 4,
  "nbformat_minor": 0,
  "metadata": {
    "colab": {
      "name": "Project_Matias_Jakub_Madeleine.ipynb",
      "provenance": [],
      "collapsed_sections": [],
      "toc_visible": true,
      "include_colab_link": true
    },
    "kernelspec": {
      "name": "python3",
      "display_name": "Python 3"
    }
  },
  "cells": [
    {
      "cell_type": "markdown",
      "metadata": {
        "id": "view-in-github",
        "colab_type": "text"
      },
      "source": [
        "<a href=\"https://colab.research.google.com/github/MatiasJJ/ATML/blob/edits/Project/Project_Matias_Jakub_Madeleine.ipynb\" target=\"_parent\"><img src=\"https://colab.research.google.com/assets/colab-badge.svg\" alt=\"Open In Colab\"/></a>"
      ]
    },
    {
      "cell_type": "code",
      "metadata": {
        "id": "qOBIG5XR9VFU",
        "colab_type": "code",
        "colab": {}
      },
      "source": [
        "import numpy as np\n",
        "import pandas as pd\n",
        "import matplotlib.pyplot as plt\n",
        "import seaborn as sns\n",
        "import plotly.express as px\n",
        "\n",
        "from sklearn.preprocessing import LabelEncoder\n",
        "from sklearn.model_selection import cross_val_score\n",
        "\n",
        "# Supervised learning\n",
        "from sklearn.neural_network import MLPClassifier\n",
        "from sklearn.neighbors import KNeighborsClassifier\n",
        "from sklearn.svm import SVC\n",
        "from sklearn.gaussian_process import GaussianProcessClassifier\n",
        "from sklearn.gaussian_process.kernels import RBF\n",
        "from sklearn.tree import DecisionTreeClassifier\n",
        "from sklearn.ensemble import RandomForestClassifier, AdaBoostClassifier\n",
        "from sklearn.naive_bayes import GaussianNB\n",
        "from sklearn.discriminant_analysis import QuadraticDiscriminantAnalysis\n",
        "from sklearn.model_selection import KFold, train_test_split\n",
        "import statsmodels.formula.api as smf\n",
        "import statsmodels.api as sm\n",
        "\n",
        "# Unsupervised learning\n",
        "from sklearn.decomposition import PCA, FastICA\n",
        "from sklearn.manifold import TSNE\n",
        "from sklearn.cluster import KMeans\n",
        "from sklearn.preprocessing import StandardScaler, Normalizer\n",
        "from scipy.optimize import linear_sum_assignment"
      ],
      "execution_count": 0,
      "outputs": []
    },
    {
      "cell_type": "markdown",
      "metadata": {
        "id": "SAl7tPDK8fUv",
        "colab_type": "text"
      },
      "source": [
        "# Project\n",
        "\n",
        "Madeleine Ekblom, Matias Jääskeläinen, Jakub Kubečka\n",
        "\n",
        "Time used: many hours"
      ]
    },
    {
      "cell_type": "markdown",
      "metadata": {
        "id": "k8pE_E499dqE",
        "colab_type": "text"
      },
      "source": [
        "Read in the data"
      ]
    },
    {
      "cell_type": "code",
      "metadata": {
        "id": "xF_7rZFg8Zva",
        "colab_type": "code",
        "colab": {}
      },
      "source": [
        "dummy = pd.read_csv(\"/content/sample_data/dummy.csv\")\n",
        "npf_train = pd.read_csv(\"/content/sample_data/npf_train.csv\")\n",
        "npf_test_hidden = pd.read_csv(\"/content/sample_data/npf_test_hidden.csv\")"
      ],
      "execution_count": 0,
      "outputs": []
    },
    {
      "cell_type": "markdown",
      "metadata": {
        "id": "XXW8aSH49iH3",
        "colab_type": "text"
      },
      "source": [
        "See the columns"
      ]
    },
    {
      "cell_type": "code",
      "metadata": {
        "id": "8jGoKNEu-jom",
        "colab_type": "code",
        "outputId": "3e08a2b7-c922-4686-f0e1-6bea47143754",
        "colab": {
          "base_uri": "https://localhost:8080/",
          "height": 194
        }
      },
      "source": [
        "npf_train.head(2)"
      ],
      "execution_count": 8,
      "outputs": [
        {
          "output_type": "execute_result",
          "data": {
            "text/html": [
              "<div>\n",
              "<style scoped>\n",
              "    .dataframe tbody tr th:only-of-type {\n",
              "        vertical-align: middle;\n",
              "    }\n",
              "\n",
              "    .dataframe tbody tr th {\n",
              "        vertical-align: top;\n",
              "    }\n",
              "\n",
              "    .dataframe thead th {\n",
              "        text-align: right;\n",
              "    }\n",
              "</style>\n",
              "<table border=\"1\" class=\"dataframe\">\n",
              "  <thead>\n",
              "    <tr style=\"text-align: right;\">\n",
              "      <th></th>\n",
              "      <th>id</th>\n",
              "      <th>date</th>\n",
              "      <th>event</th>\n",
              "      <th>partlybad</th>\n",
              "      <th>HYY_META.CO2168.mean</th>\n",
              "      <th>HYY_META.CO2168.std</th>\n",
              "      <th>HYY_META.CO2336.mean</th>\n",
              "      <th>HYY_META.CO2336.std</th>\n",
              "      <th>HYY_META.CO242.mean</th>\n",
              "      <th>HYY_META.CO242.std</th>\n",
              "      <th>HYY_META.CO2504.mean</th>\n",
              "      <th>HYY_META.CO2504.std</th>\n",
              "      <th>HYY_META.Glob.mean</th>\n",
              "      <th>HYY_META.Glob.std</th>\n",
              "      <th>HYY_META.H2O168.mean</th>\n",
              "      <th>HYY_META.H2O168.std</th>\n",
              "      <th>HYY_META.H2O336.mean</th>\n",
              "      <th>HYY_META.H2O336.std</th>\n",
              "      <th>HYY_META.H2O42.mean</th>\n",
              "      <th>HYY_META.H2O42.std</th>\n",
              "      <th>HYY_META.H2O504.mean</th>\n",
              "      <th>HYY_META.H2O504.std</th>\n",
              "      <th>HYY_META.H2O672.mean</th>\n",
              "      <th>HYY_META.H2O672.std</th>\n",
              "      <th>HYY_META.H2O84.mean</th>\n",
              "      <th>HYY_META.H2O84.std</th>\n",
              "      <th>HYY_META.NET.mean</th>\n",
              "      <th>HYY_META.NET.std</th>\n",
              "      <th>HYY_META.NO168.mean</th>\n",
              "      <th>HYY_META.NO168.std</th>\n",
              "      <th>HYY_META.NO336.mean</th>\n",
              "      <th>HYY_META.NO336.std</th>\n",
              "      <th>HYY_META.NO42.mean</th>\n",
              "      <th>HYY_META.NO42.std</th>\n",
              "      <th>HYY_META.NO504.mean</th>\n",
              "      <th>HYY_META.NO504.std</th>\n",
              "      <th>HYY_META.NO672.mean</th>\n",
              "      <th>HYY_META.NO672.std</th>\n",
              "      <th>HYY_META.NO84.mean</th>\n",
              "      <th>HYY_META.NO84.std</th>\n",
              "      <th>...</th>\n",
              "      <th>HYY_META.PAR.mean</th>\n",
              "      <th>HYY_META.PAR.std</th>\n",
              "      <th>HYY_META.PTG.mean</th>\n",
              "      <th>HYY_META.PTG.std</th>\n",
              "      <th>HYY_META.RGlob.mean</th>\n",
              "      <th>HYY_META.RGlob.std</th>\n",
              "      <th>HYY_META.RHIRGA168.mean</th>\n",
              "      <th>HYY_META.RHIRGA168.std</th>\n",
              "      <th>HYY_META.RHIRGA336.mean</th>\n",
              "      <th>HYY_META.RHIRGA336.std</th>\n",
              "      <th>HYY_META.RHIRGA42.mean</th>\n",
              "      <th>HYY_META.RHIRGA42.std</th>\n",
              "      <th>HYY_META.RHIRGA504.mean</th>\n",
              "      <th>HYY_META.RHIRGA504.std</th>\n",
              "      <th>HYY_META.RHIRGA672.mean</th>\n",
              "      <th>HYY_META.RHIRGA672.std</th>\n",
              "      <th>HYY_META.RHIRGA84.mean</th>\n",
              "      <th>HYY_META.RHIRGA84.std</th>\n",
              "      <th>HYY_META.RPAR.mean</th>\n",
              "      <th>HYY_META.RPAR.std</th>\n",
              "      <th>HYY_META.SO2168.mean</th>\n",
              "      <th>HYY_META.SO2168.std</th>\n",
              "      <th>HYY_META.SWS.mean</th>\n",
              "      <th>HYY_META.SWS.std</th>\n",
              "      <th>HYY_META.T168.mean</th>\n",
              "      <th>HYY_META.T168.std</th>\n",
              "      <th>HYY_META.T42.mean</th>\n",
              "      <th>HYY_META.T42.std</th>\n",
              "      <th>HYY_META.T504.mean</th>\n",
              "      <th>HYY_META.T504.std</th>\n",
              "      <th>HYY_META.T672.mean</th>\n",
              "      <th>HYY_META.T672.std</th>\n",
              "      <th>HYY_META.T84.mean</th>\n",
              "      <th>HYY_META.T84.std</th>\n",
              "      <th>HYY_META.UV_A.mean</th>\n",
              "      <th>HYY_META.UV_A.std</th>\n",
              "      <th>HYY_META.UV_B.mean</th>\n",
              "      <th>HYY_META.UV_B.std</th>\n",
              "      <th>CS.mean</th>\n",
              "      <th>CS.std</th>\n",
              "    </tr>\n",
              "  </thead>\n",
              "  <tbody>\n",
              "    <tr>\n",
              "      <th>0</th>\n",
              "      <td>1</td>\n",
              "      <td>2000-01-23</td>\n",
              "      <td>nonevent</td>\n",
              "      <td>False</td>\n",
              "      <td>373.496585</td>\n",
              "      <td>0.189497</td>\n",
              "      <td>373.382593</td>\n",
              "      <td>0.172958</td>\n",
              "      <td>373.961481</td>\n",
              "      <td>0.235107</td>\n",
              "      <td>373.275062</td>\n",
              "      <td>0.165500</td>\n",
              "      <td>29.800885</td>\n",
              "      <td>22.892316</td>\n",
              "      <td>2.741951</td>\n",
              "      <td>0.253662</td>\n",
              "      <td>2.741975</td>\n",
              "      <td>0.238125</td>\n",
              "      <td>2.749136</td>\n",
              "      <td>0.256988</td>\n",
              "      <td>2.736543</td>\n",
              "      <td>0.226292</td>\n",
              "      <td>2.739259</td>\n",
              "      <td>0.211889</td>\n",
              "      <td>2.748902</td>\n",
              "      <td>0.257644</td>\n",
              "      <td>7.673882</td>\n",
              "      <td>18.320279</td>\n",
              "      <td>0.020366</td>\n",
              "      <td>0.028391</td>\n",
              "      <td>0.020617</td>\n",
              "      <td>0.029510</td>\n",
              "      <td>0.012716</td>\n",
              "      <td>0.031145</td>\n",
              "      <td>0.020741</td>\n",
              "      <td>0.032664</td>\n",
              "      <td>0.016790</td>\n",
              "      <td>0.031774</td>\n",
              "      <td>0.017439</td>\n",
              "      <td>0.029136</td>\n",
              "      <td>...</td>\n",
              "      <td>64.461794</td>\n",
              "      <td>34.106856</td>\n",
              "      <td>0.002187</td>\n",
              "      <td>0.005561</td>\n",
              "      <td>8.881671</td>\n",
              "      <td>6.029484</td>\n",
              "      <td>93.162439</td>\n",
              "      <td>0.736300</td>\n",
              "      <td>93.532469</td>\n",
              "      <td>0.693400</td>\n",
              "      <td>91.761728</td>\n",
              "      <td>0.672199</td>\n",
              "      <td>93.913827</td>\n",
              "      <td>0.774957</td>\n",
              "      <td>96.277654</td>\n",
              "      <td>0.933980</td>\n",
              "      <td>92.153537</td>\n",
              "      <td>0.718172</td>\n",
              "      <td>11.132826</td>\n",
              "      <td>6.353457</td>\n",
              "      <td>0.158171</td>\n",
              "      <td>0.122969</td>\n",
              "      <td>934.925926</td>\n",
              "      <td>1.517232</td>\n",
              "      <td>-9.811155</td>\n",
              "      <td>1.205806</td>\n",
              "      <td>-9.580934</td>\n",
              "      <td>1.243517</td>\n",
              "      <td>-9.941204</td>\n",
              "      <td>1.071755</td>\n",
              "      <td>-10.224472</td>\n",
              "      <td>0.965988</td>\n",
              "      <td>-9.651155</td>\n",
              "      <td>1.238891</td>\n",
              "      <td>2.677545</td>\n",
              "      <td>1.261612</td>\n",
              "      <td>0.044759</td>\n",
              "      <td>0.023748</td>\n",
              "      <td>0.000764</td>\n",
              "      <td>0.000048</td>\n",
              "    </tr>\n",
              "    <tr>\n",
              "      <th>1</th>\n",
              "      <td>2</td>\n",
              "      <td>2000-01-25</td>\n",
              "      <td>nonevent</td>\n",
              "      <td>False</td>\n",
              "      <td>381.752738</td>\n",
              "      <td>1.701439</td>\n",
              "      <td>381.392651</td>\n",
              "      <td>1.573735</td>\n",
              "      <td>382.373735</td>\n",
              "      <td>1.754803</td>\n",
              "      <td>380.980000</td>\n",
              "      <td>1.464652</td>\n",
              "      <td>18.389856</td>\n",
              "      <td>9.566668</td>\n",
              "      <td>2.313333</td>\n",
              "      <td>0.328202</td>\n",
              "      <td>2.310000</td>\n",
              "      <td>0.315463</td>\n",
              "      <td>2.308916</td>\n",
              "      <td>0.321506</td>\n",
              "      <td>2.320361</td>\n",
              "      <td>0.297872</td>\n",
              "      <td>2.342651</td>\n",
              "      <td>0.299325</td>\n",
              "      <td>2.312143</td>\n",
              "      <td>0.329732</td>\n",
              "      <td>29.663765</td>\n",
              "      <td>10.891472</td>\n",
              "      <td>0.483810</td>\n",
              "      <td>0.295051</td>\n",
              "      <td>0.494337</td>\n",
              "      <td>0.312692</td>\n",
              "      <td>0.404337</td>\n",
              "      <td>0.246385</td>\n",
              "      <td>0.488675</td>\n",
              "      <td>0.311784</td>\n",
              "      <td>0.421325</td>\n",
              "      <td>0.265687</td>\n",
              "      <td>0.435595</td>\n",
              "      <td>0.265177</td>\n",
              "      <td>...</td>\n",
              "      <td>39.684245</td>\n",
              "      <td>22.195953</td>\n",
              "      <td>0.009353</td>\n",
              "      <td>0.011258</td>\n",
              "      <td>5.547266</td>\n",
              "      <td>3.204514</td>\n",
              "      <td>95.802857</td>\n",
              "      <td>1.748414</td>\n",
              "      <td>95.578675</td>\n",
              "      <td>1.830929</td>\n",
              "      <td>93.989639</td>\n",
              "      <td>1.612301</td>\n",
              "      <td>95.268916</td>\n",
              "      <td>1.772817</td>\n",
              "      <td>97.426867</td>\n",
              "      <td>2.306357</td>\n",
              "      <td>94.580714</td>\n",
              "      <td>1.530332</td>\n",
              "      <td>7.345012</td>\n",
              "      <td>4.787854</td>\n",
              "      <td>2.050476</td>\n",
              "      <td>0.262710</td>\n",
              "      <td>888.285714</td>\n",
              "      <td>63.666293</td>\n",
              "      <td>-12.377122</td>\n",
              "      <td>1.930159</td>\n",
              "      <td>-12.144724</td>\n",
              "      <td>1.899699</td>\n",
              "      <td>-12.271055</td>\n",
              "      <td>1.774972</td>\n",
              "      <td>-12.399808</td>\n",
              "      <td>1.671699</td>\n",
              "      <td>-12.230048</td>\n",
              "      <td>1.918075</td>\n",
              "      <td>1.548098</td>\n",
              "      <td>0.804746</td>\n",
              "      <td>0.033443</td>\n",
              "      <td>0.020402</td>\n",
              "      <td>0.003630</td>\n",
              "      <td>0.000650</td>\n",
              "    </tr>\n",
              "  </tbody>\n",
              "</table>\n",
              "<p>2 rows × 104 columns</p>\n",
              "</div>"
            ],
            "text/plain": [
              "   id        date     event  ...  HYY_META.UV_B.std   CS.mean    CS.std\n",
              "0   1  2000-01-23  nonevent  ...           0.023748  0.000764  0.000048\n",
              "1   2  2000-01-25  nonevent  ...           0.020402  0.003630  0.000650\n",
              "\n",
              "[2 rows x 104 columns]"
            ]
          },
          "metadata": {
            "tags": []
          },
          "execution_count": 8
        }
      ]
    },
    {
      "cell_type": "code",
      "metadata": {
        "id": "TtleVPjTjTQN",
        "colab_type": "code",
        "outputId": "69b0377b-ecf2-4e49-ff01-05ef4da1a9ae",
        "colab": {
          "base_uri": "https://localhost:8080/",
          "height": 160
        }
      },
      "source": [
        "npf_test_hidden.head(2)"
      ],
      "execution_count": 9,
      "outputs": [
        {
          "output_type": "execute_result",
          "data": {
            "text/html": [
              "<div>\n",
              "<style scoped>\n",
              "    .dataframe tbody tr th:only-of-type {\n",
              "        vertical-align: middle;\n",
              "    }\n",
              "\n",
              "    .dataframe tbody tr th {\n",
              "        vertical-align: top;\n",
              "    }\n",
              "\n",
              "    .dataframe thead th {\n",
              "        text-align: right;\n",
              "    }\n",
              "</style>\n",
              "<table border=\"1\" class=\"dataframe\">\n",
              "  <thead>\n",
              "    <tr style=\"text-align: right;\">\n",
              "      <th></th>\n",
              "      <th>id</th>\n",
              "      <th>date</th>\n",
              "      <th>event</th>\n",
              "      <th>partlybad</th>\n",
              "      <th>HYY_META.CO2168.mean</th>\n",
              "      <th>HYY_META.CO2168.std</th>\n",
              "      <th>HYY_META.CO2336.mean</th>\n",
              "      <th>HYY_META.CO2336.std</th>\n",
              "      <th>HYY_META.CO242.mean</th>\n",
              "      <th>HYY_META.CO242.std</th>\n",
              "      <th>HYY_META.CO2504.mean</th>\n",
              "      <th>HYY_META.CO2504.std</th>\n",
              "      <th>HYY_META.Glob.mean</th>\n",
              "      <th>HYY_META.Glob.std</th>\n",
              "      <th>HYY_META.H2O168.mean</th>\n",
              "      <th>HYY_META.H2O168.std</th>\n",
              "      <th>HYY_META.H2O336.mean</th>\n",
              "      <th>HYY_META.H2O336.std</th>\n",
              "      <th>HYY_META.H2O42.mean</th>\n",
              "      <th>HYY_META.H2O42.std</th>\n",
              "      <th>HYY_META.H2O504.mean</th>\n",
              "      <th>HYY_META.H2O504.std</th>\n",
              "      <th>HYY_META.H2O672.mean</th>\n",
              "      <th>HYY_META.H2O672.std</th>\n",
              "      <th>HYY_META.H2O84.mean</th>\n",
              "      <th>HYY_META.H2O84.std</th>\n",
              "      <th>HYY_META.NET.mean</th>\n",
              "      <th>HYY_META.NET.std</th>\n",
              "      <th>HYY_META.NO168.mean</th>\n",
              "      <th>HYY_META.NO168.std</th>\n",
              "      <th>HYY_META.NO336.mean</th>\n",
              "      <th>HYY_META.NO336.std</th>\n",
              "      <th>HYY_META.NO42.mean</th>\n",
              "      <th>HYY_META.NO42.std</th>\n",
              "      <th>HYY_META.NO504.mean</th>\n",
              "      <th>HYY_META.NO504.std</th>\n",
              "      <th>HYY_META.NO672.mean</th>\n",
              "      <th>HYY_META.NO672.std</th>\n",
              "      <th>HYY_META.NO84.mean</th>\n",
              "      <th>HYY_META.NO84.std</th>\n",
              "      <th>...</th>\n",
              "      <th>HYY_META.PAR.mean</th>\n",
              "      <th>HYY_META.PAR.std</th>\n",
              "      <th>HYY_META.PTG.mean</th>\n",
              "      <th>HYY_META.PTG.std</th>\n",
              "      <th>HYY_META.RGlob.mean</th>\n",
              "      <th>HYY_META.RGlob.std</th>\n",
              "      <th>HYY_META.RHIRGA168.mean</th>\n",
              "      <th>HYY_META.RHIRGA168.std</th>\n",
              "      <th>HYY_META.RHIRGA336.mean</th>\n",
              "      <th>HYY_META.RHIRGA336.std</th>\n",
              "      <th>HYY_META.RHIRGA42.mean</th>\n",
              "      <th>HYY_META.RHIRGA42.std</th>\n",
              "      <th>HYY_META.RHIRGA504.mean</th>\n",
              "      <th>HYY_META.RHIRGA504.std</th>\n",
              "      <th>HYY_META.RHIRGA672.mean</th>\n",
              "      <th>HYY_META.RHIRGA672.std</th>\n",
              "      <th>HYY_META.RHIRGA84.mean</th>\n",
              "      <th>HYY_META.RHIRGA84.std</th>\n",
              "      <th>HYY_META.RPAR.mean</th>\n",
              "      <th>HYY_META.RPAR.std</th>\n",
              "      <th>HYY_META.SO2168.mean</th>\n",
              "      <th>HYY_META.SO2168.std</th>\n",
              "      <th>HYY_META.SWS.mean</th>\n",
              "      <th>HYY_META.SWS.std</th>\n",
              "      <th>HYY_META.T168.mean</th>\n",
              "      <th>HYY_META.T168.std</th>\n",
              "      <th>HYY_META.T42.mean</th>\n",
              "      <th>HYY_META.T42.std</th>\n",
              "      <th>HYY_META.T504.mean</th>\n",
              "      <th>HYY_META.T504.std</th>\n",
              "      <th>HYY_META.T672.mean</th>\n",
              "      <th>HYY_META.T672.std</th>\n",
              "      <th>HYY_META.T84.mean</th>\n",
              "      <th>HYY_META.T84.std</th>\n",
              "      <th>HYY_META.UV_A.mean</th>\n",
              "      <th>HYY_META.UV_A.std</th>\n",
              "      <th>HYY_META.UV_B.mean</th>\n",
              "      <th>HYY_META.UV_B.std</th>\n",
              "      <th>CS.mean</th>\n",
              "      <th>CS.std</th>\n",
              "    </tr>\n",
              "  </thead>\n",
              "  <tbody>\n",
              "    <tr>\n",
              "      <th>0</th>\n",
              "      <td>725</td>\n",
              "      <td>NaN</td>\n",
              "      <td>NaN</td>\n",
              "      <td>False</td>\n",
              "      <td>372.575187</td>\n",
              "      <td>10.051405</td>\n",
              "      <td>372.324439</td>\n",
              "      <td>9.107661</td>\n",
              "      <td>376.135989</td>\n",
              "      <td>12.831791</td>\n",
              "      <td>371.386237</td>\n",
              "      <td>7.303040</td>\n",
              "      <td>269.903167</td>\n",
              "      <td>253.728948</td>\n",
              "      <td>11.326120</td>\n",
              "      <td>1.246964</td>\n",
              "      <td>11.103279</td>\n",
              "      <td>1.277171</td>\n",
              "      <td>11.606448</td>\n",
              "      <td>1.298689</td>\n",
              "      <td>10.976133</td>\n",
              "      <td>1.345701</td>\n",
              "      <td>10.862582</td>\n",
              "      <td>1.389345</td>\n",
              "      <td>11.481858</td>\n",
              "      <td>1.268772</td>\n",
              "      <td>180.063033</td>\n",
              "      <td>219.267336</td>\n",
              "      <td>0.058824</td>\n",
              "      <td>0.075489</td>\n",
              "      <td>0.054064</td>\n",
              "      <td>0.081356</td>\n",
              "      <td>0.043743</td>\n",
              "      <td>0.055309</td>\n",
              "      <td>0.052581</td>\n",
              "      <td>0.076757</td>\n",
              "      <td>0.052246</td>\n",
              "      <td>0.068645</td>\n",
              "      <td>0.041551</td>\n",
              "      <td>0.06289</td>\n",
              "      <td>...</td>\n",
              "      <td>548.023479</td>\n",
              "      <td>514.421794</td>\n",
              "      <td>0.006218</td>\n",
              "      <td>0.020115</td>\n",
              "      <td>31.465575</td>\n",
              "      <td>28.78014</td>\n",
              "      <td>52.933060</td>\n",
              "      <td>9.374112</td>\n",
              "      <td>52.057268</td>\n",
              "      <td>8.589410</td>\n",
              "      <td>54.637049</td>\n",
              "      <td>11.665914</td>\n",
              "      <td>51.287845</td>\n",
              "      <td>8.064915</td>\n",
              "      <td>50.870055</td>\n",
              "      <td>7.907991</td>\n",
              "      <td>53.912459</td>\n",
              "      <td>10.862380</td>\n",
              "      <td>17.697698</td>\n",
              "      <td>16.009260</td>\n",
              "      <td>0.180053</td>\n",
              "      <td>0.180034</td>\n",
              "      <td>916.453333</td>\n",
              "      <td>18.655695</td>\n",
              "      <td>18.670526</td>\n",
              "      <td>2.821519</td>\n",
              "      <td>18.668475</td>\n",
              "      <td>3.217741</td>\n",
              "      <td>18.561106</td>\n",
              "      <td>2.285093</td>\n",
              "      <td>18.477101</td>\n",
              "      <td>2.031505</td>\n",
              "      <td>18.679402</td>\n",
              "      <td>3.114372</td>\n",
              "      <td>16.014534</td>\n",
              "      <td>13.978402</td>\n",
              "      <td>0.741939</td>\n",
              "      <td>0.752346</td>\n",
              "      <td>0.005233</td>\n",
              "      <td>0.000738</td>\n",
              "    </tr>\n",
              "    <tr>\n",
              "      <th>1</th>\n",
              "      <td>726</td>\n",
              "      <td>NaN</td>\n",
              "      <td>NaN</td>\n",
              "      <td>False</td>\n",
              "      <td>382.408306</td>\n",
              "      <td>0.752684</td>\n",
              "      <td>382.442846</td>\n",
              "      <td>0.717088</td>\n",
              "      <td>382.687016</td>\n",
              "      <td>0.785072</td>\n",
              "      <td>382.450488</td>\n",
              "      <td>0.700048</td>\n",
              "      <td>53.022065</td>\n",
              "      <td>41.385137</td>\n",
              "      <td>5.967984</td>\n",
              "      <td>0.086579</td>\n",
              "      <td>5.916992</td>\n",
              "      <td>0.075877</td>\n",
              "      <td>6.047984</td>\n",
              "      <td>0.107333</td>\n",
              "      <td>5.897317</td>\n",
              "      <td>0.074141</td>\n",
              "      <td>5.916260</td>\n",
              "      <td>0.106651</td>\n",
              "      <td>6.027500</td>\n",
              "      <td>0.114350</td>\n",
              "      <td>59.956085</td>\n",
              "      <td>38.963142</td>\n",
              "      <td>0.017984</td>\n",
              "      <td>0.029631</td>\n",
              "      <td>0.018618</td>\n",
              "      <td>0.028867</td>\n",
              "      <td>0.011855</td>\n",
              "      <td>0.025129</td>\n",
              "      <td>0.023659</td>\n",
              "      <td>0.031212</td>\n",
              "      <td>0.021707</td>\n",
              "      <td>0.030291</td>\n",
              "      <td>0.012742</td>\n",
              "      <td>0.02703</td>\n",
              "      <td>...</td>\n",
              "      <td>114.508435</td>\n",
              "      <td>87.058692</td>\n",
              "      <td>0.000000</td>\n",
              "      <td>0.000000</td>\n",
              "      <td>11.640675</td>\n",
              "      <td>8.03055</td>\n",
              "      <td>92.657903</td>\n",
              "      <td>1.784042</td>\n",
              "      <td>93.296748</td>\n",
              "      <td>1.999155</td>\n",
              "      <td>93.342419</td>\n",
              "      <td>1.338689</td>\n",
              "      <td>93.529024</td>\n",
              "      <td>2.012421</td>\n",
              "      <td>95.117805</td>\n",
              "      <td>1.979480</td>\n",
              "      <td>93.283387</td>\n",
              "      <td>1.472433</td>\n",
              "      <td>11.634858</td>\n",
              "      <td>8.699266</td>\n",
              "      <td>0.014194</td>\n",
              "      <td>0.061355</td>\n",
              "      <td>927.346939</td>\n",
              "      <td>1.714534</td>\n",
              "      <td>0.173819</td>\n",
              "      <td>0.290968</td>\n",
              "      <td>0.251781</td>\n",
              "      <td>0.288592</td>\n",
              "      <td>-0.118664</td>\n",
              "      <td>0.259984</td>\n",
              "      <td>-0.309150</td>\n",
              "      <td>0.241349</td>\n",
              "      <td>0.217341</td>\n",
              "      <td>0.301404</td>\n",
              "      <td>4.273595</td>\n",
              "      <td>2.935296</td>\n",
              "      <td>0.104488</td>\n",
              "      <td>0.085755</td>\n",
              "      <td>0.001142</td>\n",
              "      <td>0.000171</td>\n",
              "    </tr>\n",
              "  </tbody>\n",
              "</table>\n",
              "<p>2 rows × 104 columns</p>\n",
              "</div>"
            ],
            "text/plain": [
              "    id  date  event  ...  HYY_META.UV_B.std   CS.mean    CS.std\n",
              "0  725   NaN    NaN  ...           0.752346  0.005233  0.000738\n",
              "1  726   NaN    NaN  ...           0.085755  0.001142  0.000171\n",
              "\n",
              "[2 rows x 104 columns]"
            ]
          },
          "metadata": {
            "tags": []
          },
          "execution_count": 9
        }
      ]
    },
    {
      "cell_type": "markdown",
      "metadata": {
        "id": "774QxEAe9kqf",
        "colab_type": "text"
      },
      "source": [
        "Split the data into features and labels"
      ]
    },
    {
      "cell_type": "code",
      "metadata": {
        "id": "DeC_2fOeC0RO",
        "colab_type": "code",
        "colab": {}
      },
      "source": [
        "#del X\n",
        "X = npf_train.iloc[:,4::2].copy()\n",
        "#X = npf_train.iloc[:,4:]\n",
        "\n",
        "#del test\n",
        "test = npf_test_hidden.iloc[:,4::2].copy()\n",
        "#test = npf_test_hidden.iloc[:,4:]\n",
        "\n",
        "#del Y\n",
        "Y = npf_train.iloc[:,2]"
      ],
      "execution_count": 0,
      "outputs": []
    },
    {
      "cell_type": "code",
      "metadata": {
        "id": "KzbmXArMcnex",
        "colab_type": "code",
        "colab": {
          "base_uri": "https://localhost:8080/",
          "height": 100
        },
        "outputId": "c6f34c31-7d4c-4373-b8af-a034606fdaa7"
      },
      "source": [
        "X.head(1)"
      ],
      "execution_count": 11,
      "outputs": [
        {
          "output_type": "execute_result",
          "data": {
            "text/html": [
              "<div>\n",
              "<style scoped>\n",
              "    .dataframe tbody tr th:only-of-type {\n",
              "        vertical-align: middle;\n",
              "    }\n",
              "\n",
              "    .dataframe tbody tr th {\n",
              "        vertical-align: top;\n",
              "    }\n",
              "\n",
              "    .dataframe thead th {\n",
              "        text-align: right;\n",
              "    }\n",
              "</style>\n",
              "<table border=\"1\" class=\"dataframe\">\n",
              "  <thead>\n",
              "    <tr style=\"text-align: right;\">\n",
              "      <th></th>\n",
              "      <th>HYY_META.CO2168.mean</th>\n",
              "      <th>HYY_META.CO2336.mean</th>\n",
              "      <th>HYY_META.CO242.mean</th>\n",
              "      <th>HYY_META.CO2504.mean</th>\n",
              "      <th>HYY_META.Glob.mean</th>\n",
              "      <th>HYY_META.H2O168.mean</th>\n",
              "      <th>HYY_META.H2O336.mean</th>\n",
              "      <th>HYY_META.H2O42.mean</th>\n",
              "      <th>HYY_META.H2O504.mean</th>\n",
              "      <th>HYY_META.H2O672.mean</th>\n",
              "      <th>HYY_META.H2O84.mean</th>\n",
              "      <th>HYY_META.NET.mean</th>\n",
              "      <th>HYY_META.NO168.mean</th>\n",
              "      <th>HYY_META.NO336.mean</th>\n",
              "      <th>HYY_META.NO42.mean</th>\n",
              "      <th>HYY_META.NO504.mean</th>\n",
              "      <th>HYY_META.NO672.mean</th>\n",
              "      <th>HYY_META.NO84.mean</th>\n",
              "      <th>HYY_META.NOx168.mean</th>\n",
              "      <th>HYY_META.NOx336.mean</th>\n",
              "      <th>HYY_META.NOx42.mean</th>\n",
              "      <th>HYY_META.NOx504.mean</th>\n",
              "      <th>HYY_META.NOx672.mean</th>\n",
              "      <th>HYY_META.NOx84.mean</th>\n",
              "      <th>HYY_META.O3168.mean</th>\n",
              "      <th>HYY_META.O342.mean</th>\n",
              "      <th>HYY_META.O3504.mean</th>\n",
              "      <th>HYY_META.O3672.mean</th>\n",
              "      <th>HYY_META.O384.mean</th>\n",
              "      <th>HYY_META.Pamb0.mean</th>\n",
              "      <th>HYY_META.PAR.mean</th>\n",
              "      <th>HYY_META.PTG.mean</th>\n",
              "      <th>HYY_META.RGlob.mean</th>\n",
              "      <th>HYY_META.RHIRGA168.mean</th>\n",
              "      <th>HYY_META.RHIRGA336.mean</th>\n",
              "      <th>HYY_META.RHIRGA42.mean</th>\n",
              "      <th>HYY_META.RHIRGA504.mean</th>\n",
              "      <th>HYY_META.RHIRGA672.mean</th>\n",
              "      <th>HYY_META.RHIRGA84.mean</th>\n",
              "      <th>HYY_META.RPAR.mean</th>\n",
              "      <th>HYY_META.SO2168.mean</th>\n",
              "      <th>HYY_META.SWS.mean</th>\n",
              "      <th>HYY_META.T168.mean</th>\n",
              "      <th>HYY_META.T42.mean</th>\n",
              "      <th>HYY_META.T504.mean</th>\n",
              "      <th>HYY_META.T672.mean</th>\n",
              "      <th>HYY_META.T84.mean</th>\n",
              "      <th>HYY_META.UV_A.mean</th>\n",
              "      <th>HYY_META.UV_B.mean</th>\n",
              "      <th>CS.mean</th>\n",
              "    </tr>\n",
              "  </thead>\n",
              "  <tbody>\n",
              "    <tr>\n",
              "      <th>0</th>\n",
              "      <td>373.496585</td>\n",
              "      <td>373.382593</td>\n",
              "      <td>373.961481</td>\n",
              "      <td>373.275062</td>\n",
              "      <td>29.800885</td>\n",
              "      <td>2.741951</td>\n",
              "      <td>2.741975</td>\n",
              "      <td>2.749136</td>\n",
              "      <td>2.736543</td>\n",
              "      <td>2.739259</td>\n",
              "      <td>2.748902</td>\n",
              "      <td>7.673882</td>\n",
              "      <td>0.020366</td>\n",
              "      <td>0.020617</td>\n",
              "      <td>0.012716</td>\n",
              "      <td>0.020741</td>\n",
              "      <td>0.01679</td>\n",
              "      <td>0.017439</td>\n",
              "      <td>0.752927</td>\n",
              "      <td>0.758765</td>\n",
              "      <td>0.759012</td>\n",
              "      <td>0.744568</td>\n",
              "      <td>0.749506</td>\n",
              "      <td>0.758049</td>\n",
              "      <td>36.088902</td>\n",
              "      <td>35.995926</td>\n",
              "      <td>36.221235</td>\n",
              "      <td>36.205185</td>\n",
              "      <td>36.026951</td>\n",
              "      <td>990.886093</td>\n",
              "      <td>64.461794</td>\n",
              "      <td>0.002187</td>\n",
              "      <td>8.881671</td>\n",
              "      <td>93.162439</td>\n",
              "      <td>93.532469</td>\n",
              "      <td>91.761728</td>\n",
              "      <td>93.913827</td>\n",
              "      <td>96.277654</td>\n",
              "      <td>92.153537</td>\n",
              "      <td>11.132826</td>\n",
              "      <td>0.158171</td>\n",
              "      <td>934.925926</td>\n",
              "      <td>-9.811155</td>\n",
              "      <td>-9.580934</td>\n",
              "      <td>-9.941204</td>\n",
              "      <td>-10.224472</td>\n",
              "      <td>-9.651155</td>\n",
              "      <td>2.677545</td>\n",
              "      <td>0.044759</td>\n",
              "      <td>0.000764</td>\n",
              "    </tr>\n",
              "  </tbody>\n",
              "</table>\n",
              "</div>"
            ],
            "text/plain": [
              "   HYY_META.CO2168.mean  HYY_META.CO2336.mean  ...  HYY_META.UV_B.mean   CS.mean\n",
              "0            373.496585            373.382593  ...            0.044759  0.000764\n",
              "\n",
              "[1 rows x 50 columns]"
            ]
          },
          "metadata": {
            "tags": []
          },
          "execution_count": 11
        }
      ]
    },
    {
      "cell_type": "code",
      "metadata": {
        "id": "Yx1sdO9tcuvU",
        "colab_type": "code",
        "colab": {
          "base_uri": "https://localhost:8080/",
          "height": 68
        },
        "outputId": "5f5811f8-f341-4f04-a56d-53174cd29d4e"
      },
      "source": [
        "Y[:2]"
      ],
      "execution_count": 12,
      "outputs": [
        {
          "output_type": "execute_result",
          "data": {
            "text/plain": [
              "0    nonevent\n",
              "1    nonevent\n",
              "Name: event, dtype: object"
            ]
          },
          "metadata": {
            "tags": []
          },
          "execution_count": 12
        }
      ]
    },
    {
      "cell_type": "code",
      "metadata": {
        "id": "tkjnsDz4c0Rs",
        "colab_type": "code",
        "colab": {
          "base_uri": "https://localhost:8080/",
          "height": 100
        },
        "outputId": "373ec0fd-bd91-47d9-b9e2-d85677bb598d"
      },
      "source": [
        "test.head(1)"
      ],
      "execution_count": 13,
      "outputs": [
        {
          "output_type": "execute_result",
          "data": {
            "text/html": [
              "<div>\n",
              "<style scoped>\n",
              "    .dataframe tbody tr th:only-of-type {\n",
              "        vertical-align: middle;\n",
              "    }\n",
              "\n",
              "    .dataframe tbody tr th {\n",
              "        vertical-align: top;\n",
              "    }\n",
              "\n",
              "    .dataframe thead th {\n",
              "        text-align: right;\n",
              "    }\n",
              "</style>\n",
              "<table border=\"1\" class=\"dataframe\">\n",
              "  <thead>\n",
              "    <tr style=\"text-align: right;\">\n",
              "      <th></th>\n",
              "      <th>HYY_META.CO2168.mean</th>\n",
              "      <th>HYY_META.CO2336.mean</th>\n",
              "      <th>HYY_META.CO242.mean</th>\n",
              "      <th>HYY_META.CO2504.mean</th>\n",
              "      <th>HYY_META.Glob.mean</th>\n",
              "      <th>HYY_META.H2O168.mean</th>\n",
              "      <th>HYY_META.H2O336.mean</th>\n",
              "      <th>HYY_META.H2O42.mean</th>\n",
              "      <th>HYY_META.H2O504.mean</th>\n",
              "      <th>HYY_META.H2O672.mean</th>\n",
              "      <th>HYY_META.H2O84.mean</th>\n",
              "      <th>HYY_META.NET.mean</th>\n",
              "      <th>HYY_META.NO168.mean</th>\n",
              "      <th>HYY_META.NO336.mean</th>\n",
              "      <th>HYY_META.NO42.mean</th>\n",
              "      <th>HYY_META.NO504.mean</th>\n",
              "      <th>HYY_META.NO672.mean</th>\n",
              "      <th>HYY_META.NO84.mean</th>\n",
              "      <th>HYY_META.NOx168.mean</th>\n",
              "      <th>HYY_META.NOx336.mean</th>\n",
              "      <th>HYY_META.NOx42.mean</th>\n",
              "      <th>HYY_META.NOx504.mean</th>\n",
              "      <th>HYY_META.NOx672.mean</th>\n",
              "      <th>HYY_META.NOx84.mean</th>\n",
              "      <th>HYY_META.O3168.mean</th>\n",
              "      <th>HYY_META.O342.mean</th>\n",
              "      <th>HYY_META.O3504.mean</th>\n",
              "      <th>HYY_META.O3672.mean</th>\n",
              "      <th>HYY_META.O384.mean</th>\n",
              "      <th>HYY_META.Pamb0.mean</th>\n",
              "      <th>HYY_META.PAR.mean</th>\n",
              "      <th>HYY_META.PTG.mean</th>\n",
              "      <th>HYY_META.RGlob.mean</th>\n",
              "      <th>HYY_META.RHIRGA168.mean</th>\n",
              "      <th>HYY_META.RHIRGA336.mean</th>\n",
              "      <th>HYY_META.RHIRGA42.mean</th>\n",
              "      <th>HYY_META.RHIRGA504.mean</th>\n",
              "      <th>HYY_META.RHIRGA672.mean</th>\n",
              "      <th>HYY_META.RHIRGA84.mean</th>\n",
              "      <th>HYY_META.RPAR.mean</th>\n",
              "      <th>HYY_META.SO2168.mean</th>\n",
              "      <th>HYY_META.SWS.mean</th>\n",
              "      <th>HYY_META.T168.mean</th>\n",
              "      <th>HYY_META.T42.mean</th>\n",
              "      <th>HYY_META.T504.mean</th>\n",
              "      <th>HYY_META.T672.mean</th>\n",
              "      <th>HYY_META.T84.mean</th>\n",
              "      <th>HYY_META.UV_A.mean</th>\n",
              "      <th>HYY_META.UV_B.mean</th>\n",
              "      <th>CS.mean</th>\n",
              "    </tr>\n",
              "  </thead>\n",
              "  <tbody>\n",
              "    <tr>\n",
              "      <th>0</th>\n",
              "      <td>372.575187</td>\n",
              "      <td>372.324439</td>\n",
              "      <td>376.135989</td>\n",
              "      <td>371.386237</td>\n",
              "      <td>269.903167</td>\n",
              "      <td>11.32612</td>\n",
              "      <td>11.103279</td>\n",
              "      <td>11.606448</td>\n",
              "      <td>10.976133</td>\n",
              "      <td>10.862582</td>\n",
              "      <td>11.481858</td>\n",
              "      <td>180.063033</td>\n",
              "      <td>0.058824</td>\n",
              "      <td>0.054064</td>\n",
              "      <td>0.043743</td>\n",
              "      <td>0.052581</td>\n",
              "      <td>0.052246</td>\n",
              "      <td>0.041551</td>\n",
              "      <td>1.704545</td>\n",
              "      <td>1.651604</td>\n",
              "      <td>1.681604</td>\n",
              "      <td>1.602366</td>\n",
              "      <td>1.586257</td>\n",
              "      <td>1.687807</td>\n",
              "      <td>35.860963</td>\n",
              "      <td>33.714011</td>\n",
              "      <td>37.439409</td>\n",
              "      <td>38.014866</td>\n",
              "      <td>35.042139</td>\n",
              "      <td>989.913113</td>\n",
              "      <td>548.023479</td>\n",
              "      <td>0.006218</td>\n",
              "      <td>31.465575</td>\n",
              "      <td>52.93306</td>\n",
              "      <td>52.057268</td>\n",
              "      <td>54.637049</td>\n",
              "      <td>51.287845</td>\n",
              "      <td>50.870055</td>\n",
              "      <td>53.912459</td>\n",
              "      <td>17.697698</td>\n",
              "      <td>0.180053</td>\n",
              "      <td>916.453333</td>\n",
              "      <td>18.670526</td>\n",
              "      <td>18.668475</td>\n",
              "      <td>18.561106</td>\n",
              "      <td>18.477101</td>\n",
              "      <td>18.679402</td>\n",
              "      <td>16.014534</td>\n",
              "      <td>0.741939</td>\n",
              "      <td>0.005233</td>\n",
              "    </tr>\n",
              "  </tbody>\n",
              "</table>\n",
              "</div>"
            ],
            "text/plain": [
              "   HYY_META.CO2168.mean  HYY_META.CO2336.mean  ...  HYY_META.UV_B.mean   CS.mean\n",
              "0            372.575187            372.324439  ...            0.741939  0.005233\n",
              "\n",
              "[1 rows x 50 columns]"
            ]
          },
          "metadata": {
            "tags": []
          },
          "execution_count": 13
        }
      ]
    },
    {
      "cell_type": "markdown",
      "metadata": {
        "id": "m54EBzrjHmNE",
        "colab_type": "text"
      },
      "source": [
        "Make Y (labels) categorical"
      ]
    },
    {
      "cell_type": "code",
      "metadata": {
        "id": "kAaWjluJDeZY",
        "colab_type": "code",
        "outputId": "b1372366-7e69-41c3-b222-93ccd533ed90",
        "colab": {
          "base_uri": "https://localhost:8080/",
          "height": 34
        }
      },
      "source": [
        "labeler = LabelEncoder()\n",
        "Y = labeler.fit_transform(Y.astype('str'))\n",
        "list(labeler.classes_), set(Y)"
      ],
      "execution_count": 14,
      "outputs": [
        {
          "output_type": "execute_result",
          "data": {
            "text/plain": [
              "(['II', 'Ia', 'Ib', 'nonevent'], {0, 1, 2, 3})"
            ]
          },
          "metadata": {
            "tags": []
          },
          "execution_count": 14
        }
      ]
    },
    {
      "cell_type": "code",
      "metadata": {
        "id": "8_nP-FgQc5ke",
        "colab_type": "code",
        "colab": {
          "base_uri": "https://localhost:8080/",
          "height": 34
        },
        "outputId": "2346861e-886c-419b-f374-a05ad47be1b3"
      },
      "source": [
        "Y[:2]"
      ],
      "execution_count": 15,
      "outputs": [
        {
          "output_type": "execute_result",
          "data": {
            "text/plain": [
              "array([3, 3])"
            ]
          },
          "metadata": {
            "tags": []
          },
          "execution_count": 15
        }
      ]
    },
    {
      "cell_type": "markdown",
      "metadata": {
        "id": "FGHvqd_C94F-",
        "colab_type": "text"
      },
      "source": [
        "Scale X (features)"
      ]
    },
    {
      "cell_type": "code",
      "metadata": {
        "id": "mncYMVWOFKO9",
        "colab_type": "code",
        "colab": {}
      },
      "source": [
        "scaler = StandardScaler()\n",
        "X = scaler.fit(X).transform(X)\n",
        "\n",
        "test = scaler.transform(test)"
      ],
      "execution_count": 0,
      "outputs": []
    },
    {
      "cell_type": "code",
      "metadata": {
        "id": "CE6P24Z8FbPj",
        "colab_type": "code",
        "outputId": "4bcbd6a4-c53a-4cf6-f4d3-ab5e2f45eace",
        "colab": {
          "base_uri": "https://localhost:8080/",
          "height": 34
        }
      },
      "source": [
        "X.shape, test.shape"
      ],
      "execution_count": 17,
      "outputs": [
        {
          "output_type": "execute_result",
          "data": {
            "text/plain": [
              "((724, 50), (724, 50))"
            ]
          },
          "metadata": {
            "tags": []
          },
          "execution_count": 17
        }
      ]
    },
    {
      "cell_type": "markdown",
      "metadata": {
        "id": "kZahMRm8Ct2K",
        "colab_type": "text"
      },
      "source": [
        "Reduce the number of dimensions\n",
        "\n",
        "First test how many PCA-components should be used"
      ]
    },
    {
      "cell_type": "code",
      "metadata": {
        "id": "9XT1OUgGCzzU",
        "colab_type": "code",
        "outputId": "905ebc58-6d95-45b7-8ab6-e18b37c66a38",
        "colab": {
          "base_uri": "https://localhost:8080/",
          "height": 51
        }
      },
      "source": [
        "pca_test = PCA(n_components=30)\n",
        "pca_test.fit(X)"
      ],
      "execution_count": 18,
      "outputs": [
        {
          "output_type": "execute_result",
          "data": {
            "text/plain": [
              "PCA(copy=True, iterated_power='auto', n_components=30, random_state=None,\n",
              "    svd_solver='auto', tol=0.0, whiten=False)"
            ]
          },
          "metadata": {
            "tags": []
          },
          "execution_count": 18
        }
      ]
    },
    {
      "cell_type": "code",
      "metadata": {
        "id": "9p4fBzPtmBdg",
        "colab_type": "code",
        "outputId": "5b3c850a-1eca-42df-f01c-6e56ea92d7dc",
        "colab": {
          "base_uri": "https://localhost:8080/",
          "height": 34
        }
      },
      "source": [
        "np.sum(pca_test.explained_variance_ratio_)"
      ],
      "execution_count": 19,
      "outputs": [
        {
          "output_type": "execute_result",
          "data": {
            "text/plain": [
              "0.9999269315979487"
            ]
          },
          "metadata": {
            "tags": []
          },
          "execution_count": 19
        }
      ]
    },
    {
      "cell_type": "code",
      "metadata": {
        "id": "cE9K5eqamocf",
        "colab_type": "code",
        "outputId": "00b353ac-6915-470b-b1c2-f2bb5b767c56",
        "colab": {
          "base_uri": "https://localhost:8080/",
          "height": 265
        }
      },
      "source": [
        "plt.plot(np.arange(1,31),pca_test.explained_variance_ratio_,'o-');\n",
        "plt.plot(np.arange(1,31),np.cumsum(pca_test.explained_variance_ratio_),'o-');"
      ],
      "execution_count": 20,
      "outputs": [
        {
          "output_type": "display_data",
          "data": {
            "image/png": "[encoded data removed]",
            "text/plain": [
              "<Figure size 432x288 with 1 Axes>"
            ]
          },
          "metadata": {
            "tags": [],
            "needs_background": "light"
          }
        }
      ]
    },
    {
      "cell_type": "markdown",
      "metadata": {
        "id": "r0bLjruI-vHA",
        "colab_type": "text"
      },
      "source": [
        "# Why this depends in which columns we choose from npf_jtn?\n"
      ]
    },
    {
      "cell_type": "markdown",
      "metadata": {
        "id": "MmnkTJSJ-5ec",
        "colab_type": "text"
      },
      "source": [
        "Transform the labels and the test set into 4 PC:s"
      ]
    },
    {
      "cell_type": "code",
      "metadata": {
        "id": "esJKhVc0n8fT",
        "colab_type": "code",
        "colab": {}
      },
      "source": [
        "pca = PCA(n_components=4)\n",
        "npf_pca = pca.fit_transform(X)\n",
        "\n",
        "test_pca = pca.transform(test)"
      ],
      "execution_count": 0,
      "outputs": []
    },
    {
      "cell_type": "code",
      "metadata": {
        "id": "_L1voUuQCuas",
        "colab_type": "code",
        "outputId": "395fae67-b84e-481a-ba4f-d71affd2de1a",
        "colab": {
          "base_uri": "https://localhost:8080/",
          "height": 34
        }
      },
      "source": [
        "npf_pca.shape, type(npf_pca), test_pca.shape, type(test_pca)"
      ],
      "execution_count": 22,
      "outputs": [
        {
          "output_type": "execute_result",
          "data": {
            "text/plain": [
              "((724, 4), numpy.ndarray, (724, 4), numpy.ndarray)"
            ]
          },
          "metadata": {
            "tags": []
          },
          "execution_count": 22
        }
      ]
    },
    {
      "cell_type": "code",
      "metadata": {
        "id": "FgiwkDYYk5tB",
        "colab_type": "code",
        "colab": {}
      },
      "source": [
        "own_cmap = [\n",
        "    \"red\",\n",
        "    \"gold\",\n",
        "    \"darkgreen\",\n",
        "    \"cyan\",\n",
        "    \"dodgerblue\",\n",
        "    \"royalblue\",\n",
        "    \"blue\",\n",
        "    \"blueviolet\",\n",
        "    \"plum\",\n",
        "    \"deeppink\",\n",
        "    \"magenta\",\n",
        "    \"purple\",\n",
        "    \"saddlebrown\",\n",
        "    \"lightsalmon\",\n",
        "    \"k\"]"
      ],
      "execution_count": 0,
      "outputs": []
    },
    {
      "cell_type": "code",
      "metadata": {
        "id": "0gHNnsKiEx3m",
        "colab_type": "code",
        "colab": {
          "base_uri": "https://localhost:8080/",
          "height": 542
        },
        "outputId": "837733bd-d9f5-4a66-d8f0-902e93d34cf9"
      },
      "source": [
        "npf_pca = pd.DataFrame(npf_pca, columns=[\"pca1\",\"pca2\",\"pca3\",\"pca4\"])\n",
        "\n",
        "test_pca = pd.DataFrame(test_pca, columns=[\"pca1\",\"pca2\",\"pca3\",\"pca4\"])\n",
        "\n",
        "klabels = labeler.inverse_transform(Y)\n",
        "px.scatter_3d(data_frame=npf_pca,\n",
        "              x=\"pca1\",\n",
        "              y=\"pca2\",\n",
        "              z=\"pca3\",\n",
        "              color=klabels,\n",
        "              color_discrete_sequence=own_cmap,\n",
        "              hover_name=npf_pca.index,\n",
        "              opacity=0.5)"
      ],
      "execution_count": 24,
      "outputs": [
        {
          "output_type": "display_data",
          "data": {
            "text/html": [
              "<html>\n",
              "<head><meta charset=\"utf-8\" /></head>\n",
              "<body>\n",
              "    <div>\n",
              "            <script src=\"https://cdnjs.cloudflare.com/ajax/libs/mathjax/2.7.5/MathJax.js?config=TeX-AMS-MML_SVG\"></script><script type=\"text/javascript\">if (window.MathJax) {MathJax.Hub.Config({SVG: {font: \"STIX-Web\"}});}</script>\n",
              "                <script type=\"text/javascript\">window.PlotlyConfig = {MathJaxConfig: 'local'};</script>\n",
              "        <script src=\"https://cdn.plot.ly/plotly-latest.min.js\"></script>    \n",
              "            <div id=\"a44754f0-86fa-4338-9beb-0bd63df044ff\" class=\"plotly-graph-div\" style=\"height:525px; width:100%;\"></div>\n",
              "            <script type=\"text/javascript\">\n",
              "                \n",
              "                    window.PLOTLYENV=window.PLOTLYENV || {};\n",
              "                    \n",
              "                if (document.getElementById(\"a44754f0-86fa-4338-9beb-0bd63df044ff\")) {\n",
              "                    Plotly.newPlot(\n",
              "                        'a44754f0-86fa-4338-9beb-0bd63df044ff',\n",
              "                        [{\"hoverlabel\": {\"namelength\": 0}, \"hovertemplate\": \"<b>%{hovertext}</b><br><br>color=nonevent<br>pca1=%{x}<br>pca2=%{y}<br>pca3=%{z}\", \"hovertext\": [0.0, 1.0, 2.0, 3.0, 4.0, 5.0, 11.0, 12.0, 13.0, 18.0, 25.0, 26.0, 27.0, 28.0, 29.0, 31.0, 33.0, 34.0, 35.0, 36.0, 37.0, 39.0, 43.0, 45.0, 50.0, 51.0, 54.0, 57.0, 58.0, 60.0, 61.0, 62.0, 67.0, 68.0, 69.0, 71.0, 79.0, 81.0, 92.0, 93.0, 94.0, 98.0, 99.0, 104.0, 106.0, 107.0, 108.0, 109.0, 117.0, 119.0, 123.0, 127.0, 129.0, 130.0, 131.0, 132.0, 133.0, 135.0, 136.0, 137.0, 138.0, 139.0, 140.0, 141.0, 142.0, 143.0, 144.0, 146.0, 147.0, 155.0, 156.0, 171.0, 178.0, 179.0, 188.0, 195.0, 196.0, 201.0, 203.0, 204.0, 208.0, 209.0, 213.0, 214.0, 215.0, 216.0, 217.0, 219.0, 231.0, 232.0, 233.0, 234.0, 235.0, 236.0, 237.0, 238.0, 239.0, 240.0, 241.0, 242.0, 243.0, 244.0, 245.0, 246.0, 247.0, 248.0, 249.0, 250.0, 252.0, 262.0, 265.0, 267.0, 268.0, 273.0, 276.0, 280.0, 281.0, 282.0, 283.0, 284.0, 286.0, 287.0, 288.0, 289.0, 290.0, 291.0, 293.0, 302.0, 303.0, 306.0, 307.0, 308.0, 309.0, 313.0, 314.0, 315.0, 316.0, 317.0, 318.0, 319.0, 321.0, 322.0, 323.0, 324.0, 325.0, 327.0, 328.0, 329.0, 330.0, 331.0, 332.0, 333.0, 334.0, 337.0, 340.0, 341.0, 342.0, 350.0, 351.0, 352.0, 355.0, 358.0, 359.0, 361.0, 362.0, 363.0, 364.0, 365.0, 367.0, 369.0, 370.0, 371.0, 372.0, 373.0, 378.0, 379.0, 380.0, 381.0, 382.0, 383.0, 384.0, 385.0, 397.0, 399.0, 404.0, 407.0, 413.0, 417.0, 419.0, 420.0, 421.0, 422.0, 423.0, 424.0, 426.0, 427.0, 428.0, 429.0, 430.0, 431.0, 437.0, 438.0, 439.0, 440.0, 441.0, 446.0, 450.0, 451.0, 452.0, 453.0, 454.0, 455.0, 456.0, 457.0, 458.0, 459.0, 460.0, 463.0, 464.0, 465.0, 466.0, 479.0, 481.0, 483.0, 486.0, 487.0, 488.0, 490.0, 491.0, 494.0, 496.0, 498.0, 499.0, 500.0, 501.0, 502.0, 503.0, 504.0, 505.0, 506.0, 507.0, 508.0, 509.0, 510.0, 511.0, 513.0, 517.0, 520.0, 521.0, 535.0, 536.0, 538.0, 539.0, 540.0, 541.0, 542.0, 543.0, 545.0, 546.0, 547.0, 548.0, 549.0, 550.0, 551.0, 552.0, 553.0, 554.0, 555.0, 558.0, 559.0, 561.0, 566.0, 569.0, 570.0, 571.0, 572.0, 573.0, 574.0, 575.0, 576.0, 577.0, 578.0, 579.0, 580.0, 581.0, 582.0, 583.0, 584.0, 585.0, 586.0, 587.0, 588.0, 589.0, 590.0, 591.0, 592.0, 593.0, 594.0, 595.0, 596.0, 597.0, 598.0, 599.0, 600.0, 601.0, 602.0, 603.0, 604.0, 605.0, 606.0, 607.0, 608.0, 609.0, 610.0, 611.0, 612.0, 619.0, 622.0, 623.0, 626.0, 627.0, 629.0, 630.0, 631.0, 632.0, 634.0, 635.0, 636.0, 637.0, 638.0, 639.0, 640.0, 641.0, 642.0, 643.0, 644.0, 645.0, 646.0, 648.0, 649.0, 650.0, 651.0, 652.0, 656.0, 658.0, 659.0, 660.0, 661.0, 662.0, 663.0, 664.0, 665.0, 670.0, 671.0, 673.0, 674.0, 675.0, 676.0, 677.0, 678.0, 680.0, 681.0, 682.0, 683.0, 684.0, 685.0, 686.0, 687.0, 688.0, 689.0, 690.0, 691.0, 692.0, 693.0, 694.0, 695.0, 696.0, 699.0, 702.0, 703.0, 704.0, 705.0, 706.0, 707.0, 708.0, 709.0, 711.0, 715.0, 718.0, 719.0, 720.0, 721.0, 722.0, 723.0], \"legendgroup\": \"color=nonevent\", \"marker\": {\"color\": \"red\", \"opacity\": 0.5, \"symbol\": \"circle\"}, \"mode\": \"markers\", \"name\": \"color=nonevent\", \"scene\": \"scene\", \"showlegend\": true, \"type\": \"scatter3d\", \"x\": [3.243456258782384, 12.651091821025181, 3.8982875728009962, 5.837187063105638, 5.416745236569369, -0.3939132102410764, 8.373659597290771, 0.033880493125920313, 1.900762311123293, 0.3207019142350971, -0.7671384444547032, -4.026290569343947, -6.7234759593287, -4.648152860681345, -4.400741114090338, -4.545626127816334, -5.30439268331682, -2.610914814866886, -2.6790332338373664, -0.5627940871705007, 0.28716543426071, -0.9109086358501097, -0.6459243994560525, 1.3332416928229862, -4.817173171211553, -0.16128376093382216, -5.728290319737451, -5.484412034284511, -3.2148897606053732, -3.338950682209452, -4.976127790059423, -0.8114271108244456, 0.7370647309208957, -3.3401134652304787, -3.2121113931231684, 1.1135205145883627, -0.5178038438490007, 0.0369692531016067, 0.5545365394721603, -0.8914778904838415, -1.252328578712756, -0.8193598566175521, -2.4330766914759785, -6.347728020721082, -0.753178542271851, -7.079346791839205, -5.819155841441155, -6.858435762439819, 0.9158246287314108, -1.9385579838245135, 0.47520605970464314, 2.248158362226804, 4.90041710002952, 5.583961393904136, 3.9973882909421676, 4.56488710539415, 5.082909183396069, 4.278674485225976, 4.135762359190201, 5.8068047259265, 4.6601168513433135, 6.223554941613603, 5.025971922096632, 10.513225750265171, 5.892938127588059, 4.20567108339613, 6.362423762013466, 3.9673618721550383, 2.6162418163262426, 2.998975740705624, 2.066131537272801, -1.7508656126660045, -5.7882132746225095, 0.7316827089093505, 0.2830236987530939, -3.160950565671252, -1.1558772910094863, -3.85588192162727, -1.7770908822715703, -4.370942164793173, 0.45251886694330384, 1.6333569810109099, 3.8130953540949273, 8.698189372191564, 11.566088411570252, 4.253954768240821, 5.572261567125303, 3.105893116832587, 2.311669167969437, 4.295446161915899, 3.518708097570896, 3.969785596708563, 2.738707417447073, 1.9362372107841344, 3.9409592309726076, 5.754976816360444, 6.007254757525654, 4.061573771359248, 5.006243583437087, 6.300763687735678, 5.647398107064914, 3.549680398702871, 2.751986478859998, 4.940483590620586, 4.873749242882333, 4.967017980937724, 7.103010109013649, 4.614408762684155, 5.579886179357689, 1.41701320055591, 1.456933551584258, 0.6244189069702243, -1.043209854678822, -0.2769066579528135, -4.663900734341182, -6.679411785706188, -4.252856270697233, -6.791548041448785, -6.645082521815116, -6.083660192733876, -5.500399455255666, -3.9243171118482763, -0.7964434586559178, -3.186274308543042, -5.090499504792381, -2.215609168591253, -3.629586003880717, 1.1578674363614028, -0.7701525613010719, -1.3856097537927552, -1.7764951218979068, 1.5985540934423759, 0.8876176911281943, 1.1242123095281997, -0.24253857418893648, 3.890369730351604, 4.247986006287965, 4.637669044754734, 5.733600026712928, 7.257180112835752, 2.7567230420461284, 5.018507829546432, 13.245023161552881, 6.8289479583935515, 6.684876129641553, 7.3214989594687365, 5.010332952681688, 7.76696142015159, 21.721144771371755, 7.328332085555351, 6.298547114231184, 4.752661206155366, 4.825347162617735, 1.1860049201961396, 4.90660649536577, 2.9282339536261395, -3.0615040835385234, 0.4686865867591175, -2.5921166516099095, -3.887803754120736, -6.641319784652188, -2.4923612273698197, -6.620638270981704, -4.048478693523601, -6.6635170122919005, -4.139038922214836, -6.666977983219075, -4.070286486269924, -3.710562507977595, -3.283792929373562, -5.383838276727557, -2.7744059493046263, -0.15397572846207444, 0.2774620832827568, 3.957207683731631, 2.238081727344885, 5.749301719603089, 3.837654336865174, 3.533687208538272, 1.792442098496396, 2.284766974982147, 3.2098759371714807, 2.1254914671048, 1.0346683276995765, -1.1006052715486827, -2.048388515727548, -1.4976778399058037, -3.065035356198283, 0.4708399224723723, 0.8103492801080032, -6.614100208717614, -5.769455745826434, -0.4133255900421419, -3.543696089496025, -4.003947478546459, -4.9555589918681955, -2.963259891494955, -5.2448470135615795, -6.759777142718434, -5.565344541562665, 7.717832655640708, 11.580396049813817, 4.7535364934351145, 8.124745957431807, 10.58638464918327, 8.326611438369817, 6.149346989262099, 5.2185185631133715, 4.315822113640471, 4.313861784915214, 4.11936419030826, 3.967940000514427, 3.303469772035284, 2.822643745707422, 2.6984095172864104, 2.889793021972434, 2.5880113154001574, -0.13528347314792777, 2.6486741920511547, 2.52367563118064, 2.8257048602035604, -0.5887494592531977, -3.4081535387675834, -3.047130801291406, -1.1393346988648279, -2.2750903392204185, -1.373258998212438, -1.919712154278992, -0.8952745958168363, 2.920586278856688, 3.657603434316994, 4.6935326941000435, 4.269183533028718, 4.324069445204242, 6.733063117879568, 5.4910209601595135, 7.160168379104276, 7.983182838343191, 4.6521641135671485, 6.3996125142822695, 7.850333554182791, 6.448076942603647, 5.411662355661841, 7.178808236937437, 11.319450349630483, 5.028411538422431, 5.279218731702575, 3.0000963594547962, 3.6493862445656693, -6.741263201634558, -2.8538868218307303, 0.25037761666452457, -5.698422975263732, -6.285124474308241, -6.150302032680794, -6.999114597234605, -6.410196921373148, -2.478080807859778, -0.647539701930285, -5.0721650928275315, -5.094243398862995, -0.5739663454202283, -4.865293188009127, -2.4139139415801134, -3.4915976104969646, -3.295328998999865, -5.268302016745664, -1.3851745783605212, -2.148659814385317, -1.5358580686959695, -0.9668057975059894, 2.752240248844562, 3.112669729034779, 6.3850429800378, 1.3468275167100843, 2.8864536927952624, 4.854077026357567, 4.743527598529633, 5.01686207710521, 3.4198454183004965, 5.322983570474377, 5.726092642656929, 6.649003853058106, 4.423073927344869, 4.471695858623286, 3.562409773436918, 3.9418177062683624, 6.268073951919923, 6.347857727762457, 7.633663588884411, 10.755749803191527, 10.512216240019024, 14.896148828326336, 10.193332876228874, 8.282696375355348, 7.864275528391662, 10.458288046334294, 6.8821729620009675, 11.56188457507056, 5.257835516087479, 9.973793838473773, 15.117071648567801, 25.555559887843344, 10.868676826329041, 8.78332995753819, 6.486750485329316, 17.211604963978818, 15.476983967825275, 6.090760121549752, 9.09910697834207, 11.164567688525151, 8.135130448061725, 12.258352216772655, 8.075834494623987, 7.059378991676569, 4.582712352297178, 3.4540873667485843, -0.18308062003391615, -0.8544283784704914, 1.2336122228398416, -6.732028595801802, -6.622008782190752, 0.06161914684502945, -4.1006163050622275, -3.299884867497607, -5.930383539357105, -4.12572474787403, -4.982300121643338, -8.35680342733579, -6.351019640665923, -5.966710471166922, -7.826683578899719, -4.685595713708219, -4.0727906479256495, -2.8525789079886947, -3.2807572917423347, -6.424877332805068, -4.4094164879464985, -2.2137208745169867, -1.2056128712553047, 0.4473806608945579, 0.2165005083002819, -1.0283472355817327, -0.6791942256370976, 0.5315871728713681, -0.373773772168615, 0.19962976801945143, 0.9961508033050758, -0.5420491829686995, 0.9652622971441643, 0.27028466289194025, 4.006349583812278, 1.850171489955695, 4.347435584450295, 3.7423165891603456, 4.693831697504674, 5.1660127000293885, 4.301012931246411, 4.236675350218894, 6.0512094453761724, 8.230408315894827, 5.979131524456329, 8.97592794695696, 5.7701024444819815, 7.286618854856467, 7.82438625431233, 3.751290538785145, 7.147213157629802, 6.641389553313567, 7.417716284755673, 2.8755809929474645, 8.870273560738326, 8.399861478958469, 14.85950255076626, 18.142198468727493, 4.027895172649699, 6.5063701357555646, -5.085452351477414, -0.508818867323724, -0.9494336637103737, -3.163462619445177, -6.1786096431972926, -4.377242181747368, 0.49862122456483216, -5.800563220080024, -1.2842470320232706, -5.282655616472515, -2.6986462609949675, -3.1527876044161385, -4.053475641218165, -2.1960995997592563, -2.2274489352174407, -0.7079990155133081, -3.79160883096614], \"y\": [-0.8600515372542109, 2.834005726887304, -2.160397417428945, -2.436945071463891, 3.7034158495229286, 1.8149299530953955, 2.0663316883328595, 1.1049297350841636, 1.0604377296614464, -3.373649120169208, -0.6256533065926164, 0.03535301600931305, 2.9444476078733586, 0.22646041489644966, -0.09031447782092014, -2.0929504400892855, -0.3416858668604171, -1.925120764693853, -4.642489542720791, -7.578308874096011, -5.0007138437361816, -5.648186773921465, -1.0475059366944797, -2.354770382509127, 1.515236316669724, -5.746037038541895, -0.8426573281181855, -2.149058407953395, -5.527378308465319, -5.1472693039817825, -1.8784813784087036, -7.442438597256292, -6.296246596871487, -2.877728868034316, -4.218792814214753, -6.78912989662308, 2.6646164457006347, 0.1733544018204741, -4.443582678000659, -3.7174934776382607, -1.854731021022122, -4.882918345464741, -3.266646860116677, -1.1507458982581116, -6.419030458453409, -2.513285950839666, -2.3746536373212312, -0.6312136434424158, -2.658270644379073, -3.7889077822342165, -2.8078971970361923, -2.0982721556988633, -4.7320552289547795, -4.11646503936823, -4.407621724221498, -1.787069221134661, -2.709276786831068, -3.9547600079383485, -2.3461510696262544, -1.434632866571389, -2.1370274436117636, -1.8162367235208503, -3.0502974224591433, 2.92185393382612, -2.412081037274016, -1.2569152472992846, -0.46533359988059725, -1.011997444855636, -0.2850821618245839, -2.6427661345924593, -1.764053913744448, 4.02251893256986, 6.101760834823691, -2.500350539453764, -1.9477170650309823, -1.2506704486032676, -3.650320740961124, -2.685762492226079, -5.735379973626313, -3.4681266046890697, -4.7547834852343795, -4.476735333929426, -2.1524732499049604, 0.3893743188663155, 2.940930864313297, -1.4839965317349089, -0.40044402141451413, -2.4573632806836105, -2.094303489495097, -2.3999454964716733, -3.0722366756454313, -1.6014714076971572, -2.9860816069674403, -1.5849688093198895, -2.3261813667773055, -1.860270226090086, -2.1668527903499664, -2.207879392620068, -0.3797610678939346, -1.0594446559906208, 0.7097512381952883, 2.349962654902044, 0.7752565186002565, 0.8156163652959162, -0.17196667113195505, 1.7135528258292643, 1.0230080607362293, 0.8101482690757547, 1.8838286129901007, 1.4628142638678159, -0.25874127675274594, -1.1197094786207011, -0.23659415963694083, -4.057624776672218, -0.02858383914668411, 1.4500848035489469, -0.3147611135996027, 1.1244299386526155, 0.9595460447416407, 0.1904155389553981, 0.11323268227647626, -3.3581384376398784, -4.887139810882042, -1.9451796098454806, -3.9605225569435416, -4.191309302729588, -2.7399959263319547, -3.5198491476995923, -2.717060269198952, -2.0070049078554515, -0.14285278112229244, -0.39695156723571173, -2.1680066674594283, -1.0911740768436884, -1.7541204625202615, -2.6364091240004823, -4.23557514524231, -3.97633578142637, -0.4559726724922538, -1.8612039521435835, -1.8753004973729164, 0.13512136422358184, 0.39728383597535444, 2.0060294834216865, 1.4360098693057024, 1.6905159235817728, -0.5557904049812809, 5.047376232974766, 11.715998704443875, 1.2294188793091452, 4.012088875453218, 2.1858750864351437, 3.2456778441715093, 4.197022153812766, 1.412306455679871, -0.17685458902860152, 7.029650050351241, -3.6940501720012895, -0.3389553664016781, 1.129106758002504, 1.2802554389454759, -3.0348889820722436, 0.8861104051630051, -1.5162046648849343, 0.9794333107555503, -2.9470409503705732, 1.3931663095643652, -2.2859262506507707, -2.7795255121162885, -3.2298350957760786, -0.4689078517688139, -2.519332114704362, -5.950831876875854, -5.843827203592337, -5.113123142283353, -5.177338045904302, -5.8476458085760035, -3.6321202556028127, -3.6632641449032763, -3.2772901664526435, -2.7777943011397452, -3.5957684375011327, -2.5435836898512365, -1.9188184958287908, 1.070960939817289, 0.4650514348687316, -2.613546479736922, -1.2048826203733949, -5.745135844976202, -6.203749387006356, 0.25386563751788516, -0.5521189197818875, -6.134101284781831, -3.438735309791651, -1.133664297398195, -0.5220073287841567, -3.039948704548197, -0.9264942637683461, 0.31122215285067856, -1.888383583184713, -1.1781673689460979, 0.9264412719049521, -2.671405053507392, -1.8202308699270127, 2.510067995620059, 0.48557036256188346, -1.0203363656346267, 2.274279033712054, -0.1363804455121828, -1.4738306867081705, -1.5476013204496204, 0.42090480907119754, -1.8424803730882144, -0.739257564736863, -0.5564579836015373, -0.4447625423224491, -0.5646459884722995, 3.9419881662287524, -1.4984511682809245, -2.1612516838337847, -2.930416077382214, -4.487491315775957, -2.6098362282913152, -2.2110384683435664, -5.2410100113406415, -3.5206966448219386, -4.621289990192534, -3.0128278558667496, -4.112666112868606, -3.0420656555094023, -3.9524918711615014, -3.356030882397022, -3.2396087169201997, -3.214261306120524, -2.054948135971743, -1.4667719228653155, -3.642163268724456e-05, -1.8079727596743553, -2.9239577479983545, -2.9398104409749455, -1.9142784984402594, 1.7189764915750465, -1.2791887007637026, -1.1184848323787255, 0.19448958389045964, -1.2373245770251007, 1.357275853627575, -0.8603732351077167, -0.37123975952721544, 2.7971064828400367, -1.1359603920955932, -5.296730288513318, 1.1363207562659206, 1.418342715260618, 1.0227262335541296, 1.3946898438959316, 0.3255909085004082, -3.6727161376361037, -4.841604429812593, -0.9316633640283826, -0.7357479649368698, -6.294548709508782, -2.117044887258574, -4.747768723361053, -2.0382108264102343, -2.2300247277596483, -1.6442024197269172, -3.608338852604953, -3.8707546854705437, -4.6729160184835505, -3.430914186909746, -1.7528650466641114, -3.954448730569425, -0.13536750881244633, -2.0561177609028967, -3.541633036673941, -4.849086466103939, -0.36742130037489446, -1.9667267928168461, -1.6081030586344471, -3.757652015571391, -2.773745374088092, -1.1239232726982769, -4.37291159260751, -4.463211029368581, -3.565583410733565, -3.544684158097682, -3.7420666259133855, -3.5521187958927123, -3.044044714379048, 0.9403334410883974, 2.0215945765167995, 2.7451038623255783, -0.42967048573011457, -1.367543738561278, -0.963179011662903, 0.1531306249096476, -0.42382526345174504, 1.8105165344911134, -0.9449145744719318, 1.1668673976587591, 5.427483752276014, 12.454198201483178, 2.7740835794788277, 0.5736394137292068, 0.2169727596050962, 9.616089958502458, 7.5407354289107635, 0.4300713117073822, 3.0576165413443506, 7.218391752318029, 2.382097222050398, 8.931708064989767, 0.3095232417743016, 0.1700962863460468, -0.033761795402059334, 3.5522945953771012, 0.47547232516739146, 1.8878626652587642, -0.5386669982657036, 3.6371011824723234, 2.6919605729495, -4.032795200559343, -0.995339522364142, -1.1274449855402822, 0.6257081638776807, -3.8788253827904455, -0.3876250349450893, 1.5225711335556986, -0.8292357433660225, -2.812511760816561, 1.2679155550910532, -1.216315751209666, -1.8487095990880618, -4.113660527800615, -3.608360834965935, 0.04492495996700905, -2.283846715357299, -2.5276287431940627, -3.989520868028826, -5.288582976281115, -4.509401358474096, -2.745387070422439, -3.1410252966671366, -5.60481409234434, -3.7556208313721964, -4.0377428169057445, -3.7077930999053033, -3.645930322507717, -0.018775820278615084, -0.2572664920085661, -2.9492392452130245, -2.1383114328718187, -3.4946885885712002, -3.2533795237519643, -2.910813389221043, -1.4160539839619504, -1.9450596096254666, -1.282901967544152, -0.344496616584613, -1.6333304686837806, -1.7989178356116813, -0.1331119741941045, -0.7545192626277809, -0.9740946097478757, -3.231668729203178, -1.9079793649823071, 1.1640454895432615, -0.7047008321818826, 2.172171045882752, 0.1577216043159496, 4.943971360587031, 4.459152302218297, 8.133344552877727, 9.089969808509844, 0.4044865670560504, 4.667209470651517, 1.4130515964984676, -3.473208122896425, -3.3632520079535975, -1.258298691658995, -1.3957643496777612, -3.315472754067718, -4.853804629612361, -0.2241415863304756, -4.857512397812494, 0.41830466920532644, -3.347189879481864, -0.8620883555518588, -0.6118525819525733, -4.486765551690622, -5.34141861598919, -5.033012520833101, -0.6435026583479105], \"z\": [-4.421773872565779, 6.062747800608361, -0.46429976757805574, 0.8432580019049327, -0.07155473654976949, -2.443909085978194, 7.4801213183296325, 0.7689566181887366, 5.326915191932863, 2.2945748987914225, 3.3365059615619406, 3.299131980038733, 4.372957649675337, 2.920788942283067, 2.4419521945943887, 3.7922686965670507, 4.105838071088214, 1.3392674415275188, 3.283387865784501, 2.082095858101914, 3.3581098707917993, 1.0473997646577284, 4.275469996065622, 2.335497568193491, 0.34692796840080936, 0.7687169886787637, 3.3316373992929833, 4.311277478315631, 4.160666627671641, 4.315940597398773, 3.0258030864305896, 3.188480010096859, 3.2014860696009872, 0.8427916916970503, 2.377371505702586, 2.7026778249897445, -0.3652199655323603, -2.1524232133791195, -0.09545271557063549, 0.8069683606289598, -0.052479546202027876, 0.24485309597223212, 0.14258383087741913, 2.8335769155691004, 1.2163123928815722, 4.892809720591395, 4.279981100988644, 3.904495061308116, 2.6517083536150414, 1.5608890023949185, -2.4857569183397725, -3.439387150566271, 1.3272992502271974, 1.215886538815271, -1.0843311254255754, -4.014055025331637, -2.4127229747759733, -2.3932303739314973, -3.08671932824153, -1.400476130696611, -2.2825953060975195, -0.8560926039196034, -2.3592902516022596, 3.4294689522677184, 0.019919561939095113, -2.429899809506064, -0.5177466150755919, -2.15327907739581, -2.667985474562051, -2.2282149849070017, -3.107091725092825, 2.0713303152351634, 2.2413226974897884, 0.15701749641585194, -0.5744251708858109, 1.5425589981478072, 3.4628260250701386, 3.6508819643519543, 2.76645944058141, 3.702271542407553, -0.11968866982490017, 1.580218326207183, -3.1768675222368388, 2.8803681595586106, 6.352246750360882, -3.057043711567908, -2.107723928127461, -2.889571123011862, -3.060907741240056, -2.211396815574069, -1.8830343634896, -1.7664780209948652, -1.5350717799475386, -3.7228378865816945, -2.1040503911522785, 1.3968828753092846, 0.8947313504888353, -2.1425306885665325, -1.6535636316829432, -1.335540172100044, -1.010709797492976, 0.19506404697678495, -2.0910835588966976, -0.7067294264599597, -0.8214343550365619, -1.471238555933776, 1.2965037782374649, -2.6416627414248697, -0.9355620039833555, 0.9226687181924261, -3.249191663996927, -0.500619848996093, -0.39400743178552244, 0.9460317768675329, 2.922717254510285, 2.205454628298867, 3.2415035788816353, 2.461659368196262, 2.4558089295491685, 2.3712616584526973, 2.8945671754211273, 4.153034128306538, 3.8361154651519156, 2.518177967062853, 4.478890916068072, 2.0412104807007045, 3.4387136578216833, 2.5106242628419015, -1.314857096182127, 2.602546484562315, 4.961841398552102, 2.760245243272779, 2.0052595797157906, 3.7500220243647564, -2.312255354371416, -1.91092866937121, -1.9509753492497073, -1.4629978382065372, 0.3248537644486493, 1.4516468918555279, -4.2220109350069, 0.30586503705594076, 10.030419159622806, -3.263824014395942, -3.636183154664181, -3.5937206286974126, -0.762359431589343, 1.3887190961641347, 19.03831007270687, 1.7650896017856164, 1.2882214803681176, -0.6401123447598993, -1.6967965316004596, -1.1353123100128275, 0.8774335320310492, -1.6047358371269451, 2.421474000867481, 1.8380876393915289, -0.8739537765310441, -0.8741725512787631, 1.9040492388686507, 2.9236529184702413, 2.0678666989593175, 0.9247986232022676, 1.5770692606278653, 3.8482351178359817, 1.4710036383320555, 3.854182918384517, 3.5036110308120723, 2.1595180806145238, 1.3386663230711056, 0.8071476056449323, 2.098665106596084, 0.488996332974077, 1.2309323500216547, 0.859078725076786, 0.39689467194168393, 1.029413863178842, -0.07797628611139071, -1.5911145936478261, -1.8986230551748307, -1.3864178924035266, -1.835402800528678, -0.8790583848139629, -3.046777050274464, -0.8478939391502683, 1.0212418642274907, -0.16575063688941566, 0.935626164430814, 0.6836762684617051, 1.8642026439051147, 1.6929024745866104, 1.617933543962297, 1.5646866969597808, 0.31491834891865794, 0.6748228552188343, 2.05017145421283, 2.1410320513809955, 2.4169308314104385, 3.0893454578271644, 2.35799009818356, 7.35586335773611, -0.8450360521699011, 2.6018131974791388, 6.388668363908822, 2.8747814223572514, 1.7527323143289482, 0.43308520949660956, -2.8188899255388034, -1.0667692658415715, 0.7049604874492318, 2.280096601433425, -1.7029822841537774, -3.966287915701654, -3.4225293038607183, -2.5125891496761668, -3.450568738501402, 1.3472182584544556, -1.8106851064559255, -1.3624313415704898, -3.516114892579983, 0.4625220068040164, 1.7688523109729166, 0.6384499552986183, 2.6881431603781425, 1.9433099500594868, 2.2078908019899592, 1.0526613521929105, -0.7269624129160105, 2.274755724116926, -0.89497606843059, -1.5702465790626632, -4.343355885022122, -3.7990215564757026, -1.1634848985369042, -4.631810665540985, -2.6423044429378164, -0.40684309552314074, -2.9330768726605276, -3.5177037650988683, -1.0308593586237753, -3.268381512915093, -3.0710139262245435, -1.4850689496850293, 3.623894426383356, -3.8616487865578177, -2.1585495152408853, -3.8329500910329295, -3.571895366674773, 0.50104564561589, 0.14646932236224505, -0.17439775064358085, 0.5734674580738979, 0.7065390236352233, 0.9998393825689683, 0.939557917325324, 1.7906771252899303, 1.07417133004335, 0.4397778153672661, 1.402515892446699, 1.2923448932066453, 1.540445807171482, 2.518429814219916, 2.0245281246303026, 1.5048440717910745, 2.508896098123475, 1.640009156640659, 0.4595211189853874, 1.3924814389311106, 1.5703660225956213, 0.6572799742226623, -1.7560963433358097, -2.7978535335707755, 4.128142608918516, -2.4267104918801627, -2.5567036607155136, -0.21278695689426733, 0.13523384549505305, -1.2105258288417866, -2.765504408742576, -1.8153137494207834, -1.2522438392853508, -1.3536244049234565, -0.9667578480478879, -1.6839396587861988, -0.7088834642701628, -0.6500029866996264, -1.49624341570332, -1.9804685677563107, -0.5857267992336845, -0.6588318875534488, 1.1858332348693823, 6.838887183752746, 1.0343446224433241, -3.638280609838413, -4.401695037479038, -1.23696642740127, -0.9038684879498632, 0.2797053720195029, -3.0663760671667344, 1.2027272703424172, 4.54989881657311, 19.778342745276674, 2.003635853913747, -0.28049256399661227, -2.0141636770009725, 12.11138837470679, 9.267385025528569, -2.760815072989218, -0.10205483853983201, 3.490826404815009, -2.6908315000995104, 8.078544404024735, 2.385107272369546, 1.2329963923893503, -2.9310851005262215, 2.4854286056645427, -3.3132457705456786, -1.1561269037680177, 0.5946286016040873, 0.48131980847755335, 0.6963398777218991, 0.7176488951438332, 1.1289240641956222, 1.4750442859669013, 2.317547539942228, 3.2977762946822033, 1.466006668470766, 2.9676225715263747, 2.7245497138341253, 4.27099345747268, 3.4020071249484762, 1.4616506830095217, 2.2486979858185823, 2.163637949515923, 1.9083731832405555, 2.8455842470911215, 3.811014966744042, 1.7258152615342564, 1.2748807892377232, -0.383230331877688, -0.5047215397059784, -0.880699465534154, 1.2053249737019602, 1.4286070928880525, -0.6193816434535201, -1.0894147406439039, 0.8216484079323613, 0.8056218014127245, 0.7002052701994763, 0.0011585827427676952, 2.148938919975935, -1.7282619025851798, 0.3623119555887634, -3.3260393544935636, -3.815266550781074, -4.069868178180783, -4.728073831221516, -4.63754700394965, -3.465873316830336, -1.407865451357835, -2.95183637390279, 0.5565025941865736, -4.798555885300952, -3.485248657481254, 0.2831358474258946, -2.7809256721590665, -3.9536456480354043, -0.7683327248007089, -2.6567071957271087, -2.9495374255068154, -1.1383057284876168, -1.0151742668691872, 7.612060207970935, 12.373455760565685, -2.569557607452392, 0.8679976735564073, 3.5675416870287537, 0.8752923248879019, 0.6220759474626186, 0.6777590825342812, 3.941055414638242, 4.060433603769957, 0.20120639910525087, 2.179637878931655, 1.1436818107737918, 1.5258985474169777, 1.742435809970766, 0.47353797476462967, 0.41550421020616357, 1.3105498774743871, 1.8257204770968043, 0.6059250940057316, 1.230765025282222]}, {\"hoverlabel\": {\"namelength\": 0}, \"hovertemplate\": \"<b>%{hovertext}</b><br><br>color=Ib<br>pca1=%{x}<br>pca2=%{y}<br>pca3=%{z}\", \"hovertext\": [6.0, 8.0, 10.0, 17.0, 19.0, 20.0, 22.0, 38.0, 42.0, 44.0, 46.0, 49.0, 64.0, 66.0, 72.0, 75.0, 78.0, 80.0, 83.0, 86.0, 88.0, 97.0, 101.0, 105.0, 111.0, 112.0, 114.0, 148.0, 152.0, 153.0, 158.0, 159.0, 160.0, 163.0, 164.0, 165.0, 166.0, 170.0, 172.0, 173.0, 174.0, 185.0, 187.0, 190.0, 192.0, 193.0, 199.0, 200.0, 210.0, 254.0, 255.0, 256.0, 257.0, 258.0, 259.0, 260.0, 261.0, 263.0, 266.0, 272.0, 278.0, 279.0, 292.0, 295.0, 299.0, 300.0, 301.0, 305.0, 312.0, 320.0, 326.0, 336.0, 339.0, 343.0, 345.0, 346.0, 347.0, 348.0, 349.0, 354.0, 357.0, 360.0, 366.0, 376.0, 387.0, 389.0, 392.0, 393.0, 395.0, 396.0, 400.0, 402.0, 403.0, 406.0, 408.0, 409.0, 414.0, 418.0, 432.0, 442.0, 444.0, 472.0, 482.0, 484.0, 489.0, 514.0, 516.0, 519.0, 524.0, 525.0, 526.0, 529.0, 530.0, 531.0, 534.0, 568.0, 657.0, 666.0, 700.0], \"legendgroup\": \"color=Ib\", \"marker\": {\"color\": \"gold\", \"opacity\": 0.5, \"symbol\": \"circle\"}, \"mode\": \"markers\", \"name\": \"color=Ib\", \"scene\": \"scene\", \"showlegend\": true, \"type\": \"scatter3d\", \"x\": [-1.5810832422811651, -1.884889973927186, -2.9159419032777487, -5.007350417262398, -6.189873328210404, -6.684582289722932, -4.394642885378812, -4.358056555380021, -1.7692786094268222, -5.620816024283685, -3.4862295192195702, -2.630089224991565, -5.619874539345861, -4.521711125995748, -0.45252997828869623, -1.3245602347031145, -1.2898544891703818, -2.431512115378421, -2.9818844371016464, -3.951031766979996, -4.069896137729013, -3.5206359565146417, -5.8606033602883985, -5.495715118943567, -5.424333556034174, -4.89569933444881, -4.9879792319987075, 0.9558702759657952, 3.522671218725954, 1.6619025653298094, -1.9566928473522651, -2.1759757597432423, -2.2544083272370137, -1.6273563415760808, -2.723619439211395, -1.267836245580561, -0.22534086261147324, -1.4511109094362349, -2.7630414009952258, -2.3640802378715846, -2.2272598206137837, -2.4861980621617987, -2.312775216490064, -3.2554229868432056, -2.933563764594726, -3.1990999296309828, -4.496404807228175, -6.04734600772404, -0.02720136473837554, -0.6995027440683638, -2.498045293965526, -1.923585052724666, -0.19717673918806466, -0.5596651079216445, -2.911300282993131, -1.6823539720193035, -2.2101800686925017, -0.8387607602211866, -2.358017755868194, -3.723403975592591, -5.140703943815836, -5.807742646632329, -4.592930438920135, -4.350701250719208, -4.4307771115859875, -2.8355991978346333, -2.6140436703132583, -2.7008173313231483, -0.8848467355341523, 0.6784199209147231, 0.9080138280462015, 0.9028229178256274, 1.2000877324929673, -5.434137990582177, -6.621481999579603, -2.6460453817066543, -4.09368252825871, -2.5981786005940033, -1.098894185734844, -5.054650081898578, -5.146405866260942, -6.831273051923424, -5.053001109396736, -1.920641778167346, -2.413854010598531, 1.4875304760805732, -2.250889169045499, -3.678680251163223, -1.6285740428787319, -2.901339641057965, -2.3631562954264957, -2.342099782042717, -2.835071786767455, -4.6380197306145305, -3.7698895125561718, -4.121852295288014, -5.243048169382191, -2.8449572360470077, -2.885173845169979, 1.0066357442018823, 2.443095197414822, -2.680475641950359, -6.19535247983028, -4.1741437229866865, -3.811565240636802, 4.532407698882147, 4.938090658495027, 3.7965030389970056, 1.2287583377269944, 1.099702997989335, 1.101490725873055, -2.5574486284798303, -3.03386288618421, -4.332188031897913, -5.827107164297686, 0.6174280187438054, -2.161898516196224, -0.42341857276878736, -4.890702799631019], \"y\": [3.5871156504899724, 2.6703687514987013, 4.925831074574712, 2.411182416988003, 3.2994971570890197, 3.8001636070647167, 1.502344023368552, -2.161884015057404, 1.6252552530816242, 4.901888830348098, 2.512682385894516, -1.6395002478392842, 0.8990393271990387, -2.0585264539552828, 0.9136998161194573, 1.517235540775911, 4.695993085982451, 4.5408841013391426, 6.273103473450522, 3.771898404157971, 2.458049154679438, 0.49549238719024585, 2.0899267495648015, -0.825881188158816, -1.023531402543387, -0.31649596690231463, 0.0344352287489279, 0.7921066580829778, 5.952150150700013, 4.789165677947999, 4.076465020521622, 4.0290026750213945, 4.950958524703135, 7.523151278020818, 6.085055513286819, 7.749617734669487, 1.2708741035519895, 6.595236434791621, 4.2335805640491735, 4.608241617302582, 6.320487624512177, 1.3437392779613961, 1.8699537339460786, 0.8322005916592312, 0.8108367885494946, 2.2763595864450914, 0.9958323150005295, 2.4382782106295844, -0.22196781452201803, 4.1077820200260655, 3.80114431343797, 3.567654375835737, 4.190765020519874, 3.012265475075196, 4.387355841656982, 6.342158872382628, 3.2166153240798243, 1.9222333672994103, 2.4298343547980625, 1.2167697891821723, 0.5300037310286232, 1.7448512462434496, -0.29320930199029244, 0.8054743164528675, 1.2914580130061206, -0.6031376792274719, -0.09429412412129824, -1.058632915736787, 0.35777152595085643, -1.0535426277711721, -0.3563036402250088, 4.357818923081467, 2.7739265460572944, 7.532781400648983, 5.326116171328228, 2.445215165353505, 2.9229150560295625, 2.0037506454297587, -2.470597085438291, 0.8780048352695438, 0.6934017472560633, -0.025739098717354154, -0.8119557734442286, -2.3155554902230207, 2.3604773107406474, 3.211976163659372, 2.4867954855780483, 3.1982144851658267, 0.49571186492641145, 2.7790557083395426, 2.6506498642532317, 3.444796467331326, 3.7492577323576315, 3.99424555596789, 3.8118050987043968, 3.1260500406223053, 3.4981656918300463, -1.1813620439519916, -1.7992019915217012, 2.2789131890220027, -0.45669126662773246, 3.093533069991854, 0.8850116033180954, -0.17251703857115477, -1.2390491244675073, 1.0959304454610361, 1.49584100659544, 1.2306466325315355, 2.946317818324763, 3.38603715609413, 3.5223269761891034, 5.320988501999887, 3.809711306227773, 4.959263978651143, 1.9586657420062858, 0.747325625993202, -0.5622273902965209, -0.8341441249756574, 4.501128618737204], \"z\": [-3.155982775794985, -2.513012214749175, -1.2589258459749637, -0.6395231326019614, 1.0406259947366188, 3.132839309655381, -0.8580810215995038, 2.4388274721899057, 2.56853246233725, -0.5162080007627688, -2.522346653376717, -0.05671743167148953, 0.2086888096266146, 2.1109293968408767, -1.7091645209957356, -1.1960647221812322, -2.7543560867472214, -0.7517610559835682, -1.2786898795111032, -1.365827495391656, -0.5842697714421129, -0.9781309681092248, 0.8208549215836254, 1.407127863095813, 1.1251574503687913, 0.050589785297793184, 1.5044990449972595, -2.7961931113278, 2.69130461045185, 1.2945004920123153, -2.2502038929276615, -1.7964398761444471, -2.2799829833818612, 0.7404778207729585, -0.41404915941391407, 1.8651836397827235, -1.9561670766083878, 3.1421987790150805, -1.1901050558994448, -0.8409410786450779, 0.5244015824600134, -0.9591978521621838, 0.2858237478828375, -1.0084249519078765, -1.0449637792016557, 0.9438152571765348, 3.139003476254762, 1.4480280702246449, -1.8479056256671869, -2.7817992314050013, -2.837448083297548, -3.11014536334831, -1.6279965108001069, -2.4603825692931216, -1.9394770462971858, 1.414699218064122, -1.837436721961183, -0.8839350936570584, -2.0367016907624693, 0.6625239985910918, 1.3239949956137196, 1.1008846356826418, 3.003162952441762, 0.270974787084941, -0.25183621052365607, -0.32918219847714564, 0.2845038806046019, 0.5038655853063005, 1.7248257117385675, -3.0869837231229527, -2.90718262713727, -1.6787275143688887, -2.7080576552872624, -1.4563908626674202, -0.5192576315167301, 1.3420764822247808, -1.5725826875144453, -1.8681559069710107, 0.5963750410470073, 0.10379103121117746, 0.2578129988186689, 1.9952418167943038, 1.9466057675840516, 0.9501235725712036, -2.431373831431828, -1.1217169378935714, -1.571858360522064, -1.7369042610756487, -2.2334126087795756, -2.404934901873037, -3.1386172804958505, -3.4646265113423333, -3.095629345215884, -0.3302895547261441, -2.0315383274297614, -1.7557518754238868, -0.7449847366954923, -0.485181325651617, -0.45430202209570486, -4.992167139511751, -3.1184849051637404, -2.7795346768770925, 0.7173347446180155, -0.20908447130780028, 0.5688720384615977, -4.228641102771896, -3.5760545309825544, -4.112327090161756, -4.173604986602641, -4.111239126918268, -1.4196487254524466, -2.958448921267525, -2.4370670108846926, -1.7033150886444006, 0.14958214140970713, -2.769701738274217, 1.4993182968691787, -2.7953164555648, -1.3766803329015322]}, {\"hoverlabel\": {\"namelength\": 0}, \"hovertemplate\": \"<b>%{hovertext}</b><br><br>color=II<br>pca1=%{x}<br>pca2=%{y}<br>pca3=%{z}\", \"hovertext\": [7.0, 14.0, 15.0, 16.0, 21.0, 23.0, 24.0, 30.0, 32.0, 40.0, 47.0, 48.0, 52.0, 53.0, 55.0, 56.0, 59.0, 63.0, 65.0, 73.0, 77.0, 82.0, 84.0, 85.0, 87.0, 89.0, 91.0, 96.0, 100.0, 102.0, 103.0, 110.0, 115.0, 116.0, 118.0, 120.0, 121.0, 122.0, 126.0, 128.0, 134.0, 145.0, 149.0, 150.0, 151.0, 154.0, 157.0, 169.0, 175.0, 177.0, 181.0, 182.0, 183.0, 184.0, 186.0, 189.0, 191.0, 194.0, 197.0, 198.0, 202.0, 206.0, 207.0, 211.0, 212.0, 218.0, 251.0, 264.0, 269.0, 270.0, 274.0, 275.0, 277.0, 294.0, 296.0, 297.0, 298.0, 304.0, 310.0, 311.0, 338.0, 344.0, 353.0, 356.0, 368.0, 374.0, 377.0, 386.0, 388.0, 390.0, 391.0, 398.0, 401.0, 405.0, 410.0, 412.0, 415.0, 416.0, 425.0, 433.0, 434.0, 435.0, 436.0, 443.0, 447.0, 448.0, 449.0, 461.0, 462.0, 467.0, 468.0, 469.0, 470.0, 471.0, 473.0, 474.0, 475.0, 476.0, 477.0, 478.0, 480.0, 485.0, 492.0, 493.0, 495.0, 497.0, 512.0, 515.0, 518.0, 527.0, 528.0, 532.0, 533.0, 537.0, 544.0, 556.0, 557.0, 560.0, 562.0, 563.0, 564.0, 565.0, 567.0, 613.0, 614.0, 615.0, 616.0, 617.0, 618.0, 620.0, 621.0, 624.0, 625.0, 628.0, 633.0, 647.0, 653.0, 654.0, 655.0, 667.0, 668.0, 669.0, 672.0, 679.0, 697.0, 698.0, 701.0, 710.0, 712.0, 713.0, 714.0, 716.0, 717.0], \"legendgroup\": \"color=II\", \"marker\": {\"color\": \"darkgreen\", \"opacity\": 0.5, \"symbol\": \"circle\"}, \"mode\": \"markers\", \"name\": \"color=II\", \"scene\": \"scene\", \"showlegend\": true, \"type\": \"scatter3d\", \"x\": [-2.077199224097373, -2.4958097952462266, -2.3302013860578548, -3.9437120129751913, -4.0651630557866785, -2.4406812260671105, -4.240595936578638, -4.230637589275894, -3.806504557709897, -0.10255107693922379, -1.2011209649605847, -2.3230686678956722, -5.303018383893045, -6.312724128289204, -3.4823045341633647, -6.143416258603519, -5.0220513916437675, -4.406358892536854, -1.9506534050486304, -1.6169314773117638, -0.2514108782431881, -6.01814693683502, -0.7780357798945601, -1.545733864729364, 0.009769526145900377, -4.27358629828912, -3.5407279099464817, -5.415188851319764, -6.380264813902231, -2.6107521901675304, -4.31094789339018, -5.702879201314667, -4.50725343380175, -0.8832525390935646, -3.7749375207505156, -3.49701155837235, -2.9308106490561574, -0.4177626255345008, 2.018972461560768, 5.607348018394231, 2.0887877267448025, 1.8967810267365142, 2.0538191787837916, 2.2365399934147527, 2.077916692995686, 0.8940225942070424, 2.3383244979492064, 2.4549827581727928, -2.7272423562642634, -3.2333843215599423, -2.5786043135411574, 0.20796786672981632, -2.7903924226628742, -3.2288491891828963, -0.1333440187353131, -4.6494006609867045, -3.055899281089944, -2.962860850101677, -3.8193392393743624, -5.308024163939688, -4.304103925916533, -4.018678131505858, -3.862745498464185, 2.290006483066776, 2.7513174670241693, 2.8300463941485283, 2.0918030765668427, -2.5278670475083076, -1.7212712159728483, -4.182477500133479, -5.328055762076457, -5.198642750636452, -1.6639085673710752, -3.098493634699686, -3.761207825525281, -3.6382249554063324, -2.8625999497767687, -1.7882657050816495, -1.8626339570353818, -1.05650627663389, 0.7406560697345356, -6.19221217427532, -5.7628757169008455, -3.892906541440319, -5.405168247345586, -3.8176708925270404, -2.910037396116933, -2.7766901965592505, -1.6224394875358688, -1.9223856783338875, -0.9086062611709872, -2.8195216195028006, -2.041383076529138, -2.181657079954002, -2.183967035040681, -3.8741436129127975, -6.676588246789731, -4.991447625568844, -4.012895753108939, -2.201111756743392, -1.1538181272455457, 0.07972142682483771, 8.467488881441096, 1.9060498511625668, 1.8067868230451878, 0.5091906482124362, 1.016025018886026, -0.5883768837502245, -1.8362304159872025, 1.976554175172248, -3.0435673815915023, -3.6795165400065626, -4.617811154748315, -2.5291796807591376, -1.711826542793978, -5.340609149280774, -3.5916431401646585, -6.295045231613062, 1.0690174958348846, -3.9775600860750906, -1.7379705122996014, -1.9672155531500137, -2.388168221274918, -0.06174939802713958, -0.5307507551456184, 2.5344930126264926, 4.1936141843139945, 4.809484492376862, 1.8323857511910286, -1.494716598031248, -2.825370856578401, -5.31516861412902, -5.99557469346585, -3.7305466109800314, -3.668802244494004, -4.039818531823506, -4.165402562619857, -5.072111395108902, -3.027825894297766, -1.9586805285438502, 0.20721452692272696, -0.6211403656336054, 0.5711652715904912, 2.613015686494589, 1.2038296046746433, 5.016585711929709, -0.5062130499203612, -1.25377280037652, 0.45535208196854865, -2.591235951712526, -0.6044822239051724, -2.9121781343696944, -2.5649277654733518, -7.079081981016095, -7.038339821799256, -4.415153514342717, -1.312557658476748, 0.3618865908613932, -1.3907032133375794, -0.19396932867005393, 1.0322218549262265, 1.4383503156519286, 0.747963957867005, 5.759489581384181, -2.890432290711051, -2.160200841233434, -2.404654342878832, -1.3240288093281078, -5.783314609180749, -6.4345866801131715, -5.638899366264122, -1.7039208043410516, -3.0913982788348506], \"y\": [6.439041965388428, 1.661239556619892, 2.3313308574408897, 4.208972293753619, 0.06327294117663364, -0.35145372203151115, 2.017385828957092, -0.458522319016796, -1.0496466385977683, 1.6825920279517743, -0.7689261959934601, -0.7280302476826485, -0.02314100268452794, 1.7240637370715, -1.9385275286807315, -1.1178484755128941, -2.168232903636618, -2.772484267520781, -4.066375844151204, 2.2023136931632643, 2.735722241859854, 5.931679109312185, 0.03923087041947496, 1.6045424788258966, -1.625333441267743, 3.600302660818921, 3.0979615586332514, 2.3453448964890122, 2.1428640277450666, -1.6651675730038566, -2.131609989423805, -1.1294760847679666, 0.4998070531788645, -2.3030325531635727, -0.6440376911547449, 0.12874461989780012, -1.3999798543386164, -3.32189607005662, -0.08092290537058137, 0.4639937972811915, -3.935192403669169, -1.3367419144728034, 2.9088982484101273, 3.5453681199013833, 1.974438286553036, 4.1697840548125775, 5.150489686406082, 4.503194973688109, 5.826061760576511, 4.545281156393751, 3.6128639895628054, 1.9905059715739424, 3.0990747331991946, 4.1284235873379, -1.836530528954431, 3.890314257059504, 0.705779318037736, 0.5466734408029403, 1.3630201633502865, 2.172353403340932, 0.3540739333523074, -2.3584735743323058, 0.043210550630990836, -2.248526830797344, -0.9229085037051511, -0.6948400415246881, 2.054942294603796, 2.8698312903032765, 0.8075168742965015, 3.9024769596555715, 2.3128784310243935, 2.7812433556987073, -2.270720698910642, -0.9010426029164006, 1.4692994799332497, -0.39119051691979734, -0.30933215860125707, -0.10013319169521026, -0.46759996584911245, -0.5400471652850021, 0.6608450599906462, 4.124785737921259, 1.721412928089642, -0.294596799924655, -0.6696370684369917, -1.0302348291696397, -0.7822383391695731, 4.893544763739538, 3.1593542730733866, 2.898402583895299, 1.8974388636125004, 3.1139729083916494, 1.8425383621608464, 2.0971342514599427, 0.4658889717909455, 2.207520372417193, 3.7897513617066734, 2.288451176199385, -1.0542008887755583, -1.356148487376119, -2.482049858668529, -1.9759825559568187, 1.3858445917736784, -1.7219338474860646, -1.3453180442513317, 0.4846505872078915, 1.5240075256692693, 3.629003121394371, 5.302257371159729, 3.2368249895924297, 3.4447239077309146, 5.029080630277886, 4.374531331594612, 1.633714058355825, 1.2622375949906994, 4.403604929955991, 3.20886842957712, 3.0730282771578485, -4.511744570447123, 2.2217322499070082, -2.1350238864296585, -2.1389960520006763, -2.0333150968441465, -2.202825309599559, -0.20638672738923816, -0.23379472379163135, 1.355990563550534, 1.3799498456693902, 1.2335331949776722, 2.228191321204865, 4.919222349784253, 4.579970656722776, 5.178378186084554, 1.9545950428314254, -0.47522805407545377, 0.24122531241417497, 0.712551537387271, -0.44504898917583885, -0.3604120679972793, -0.7913297663144925, -2.2783674296237755, -0.15404791544304325, 0.12857749086441142, 3.912058972360326, 2.726281159033593, 2.3512750660542534, 3.7315426932430396, 4.499070881941952, 4.5504318196642854, 3.5335263070248297, 0.9839892936780416, 4.164611688798798, 3.0308853965310116, 5.083104307458141, 2.180940654344931, 1.7220227731289557, -1.7981079863397995, -1.0272446800419346, -1.2308927481541203, -0.19870913915215746, -0.4433869793464917, 0.876959390074172, -0.16254761886831712, -0.7041727158494444, 2.781971508362311, 1.7889173214569625, -1.8181674658228284, -6.675377486443025, 0.0066141907370474064, -0.8223932637921656, -1.4618070774270384, -3.1779512774101666, -1.7180444769808725], \"z\": [-1.9063385409427485, 0.6684788729236526, -1.4136228188901463, 1.6114035834645069, 1.224397266339972, -0.8104282310047809, -0.7287047683197344, 2.7686413589317094, 1.707992790354506, 4.164362954944301, -1.7429697515998908, 0.9881167110011307, 0.7188033035787619, 0.991114140052372, 1.7411661657930178, 3.4699858849929117, 3.296641050674139, 2.2733726594773187, 2.087068954618583, -2.946412232429185, -3.022477440462107, -1.24796372184818, -2.2507764075525207, -1.8505130767493343, 0.02548302722648174, -0.4517156906894277, 0.8052593536714849, 0.41159402223502695, 0.8308132103538305, -0.08614363294455597, 1.5548720824759938, 3.4045205692912512, 0.73431690035745, 1.0619649384218852, 0.9076959586824652, -0.038991588278553334, -0.3306878040555559, 0.3813642179934308, -2.342768417953745, -0.06303771579591702, -2.5336440630560615, -1.6568331733191963, -3.1455021510489725, -2.2874042253913993, -1.2106597311332663, 2.053670743370774, 1.7775229764747886, 5.49813840443153, -0.36049110603755896, -0.8165322722230304, -2.085126441683761, 0.31898216590963036, -1.9188145593946015, -0.42672436668045266, -0.81049532356448, -1.0118899298273514, -0.8808801517126013, 0.8501240481901111, 2.435663089739081, 1.850555873172181, 3.0360087710828068, 2.5863641030960776, 0.12644992150708648, -1.9372459029577898, -3.1448835500941272, -2.7833016651827083, -4.6103724954805285, -2.3209594822019226, -0.843046923215838, -0.8814331603861608, 0.6235003397476873, 1.2086499866572709, 0.3405673198789134, 0.23786930550058363, 1.766129869155425, 0.1877171500217349, 1.5533431912814075, -1.1716291895872935, 0.1628589686764747, 2.434880568426153, -3.4615003377978493, 0.6064006719748134, 2.9437194270145386, 0.059521864900329936, 2.0116970269638377, 0.19918859417924567, 1.0603125008001868, -0.3196641156212773, -3.7608319525614586, -3.5227507747384363, -3.8088262451256694, -2.63328216503681, -3.1077902354437903, -0.1703783623817398, 0.04261270061803994, -0.00037047805118442013, 0.05289369192555468, -0.7736033317177783, 0.24052821058551543, 0.041321746196410325, 0.3587457141016162, 0.6371819344231486, 2.7214555922392867, -3.7240813218838458, -2.6434432932056877, -3.550655946510843, -2.6069732293425125, -2.998202980667986, -2.408152772337296, 2.5316513668435054, -3.3589052792919256, -1.5009610659682093, -1.8820725444277648, -1.0311176279909389, -2.5621554733124983, -1.9625867097828713, -2.7340106546627285, -0.02427026499084104, -1.1903439978275612, 0.4257568704363063, -0.2772650009348612, -0.4254343284992442, -0.7687530026624775, 0.022301332317568846, -0.34311397517588316, -2.352353056665707, -1.9407503821946468, -3.880965765148887, -3.675252617294819, -3.7794547350017464, -4.212225415436716, -1.291968554056912, -1.5326493723008388, -0.9072983433029292, -0.10829317029203855, 2.197364795454786, 2.029091928366509, 1.89864931547466, 0.8908474807615621, -1.4305989208089853, -0.8586926194837786, -2.336755565209264, -2.8710885615318986, -3.865786023247487, -3.6613155014668806, -1.015185421492535, -3.6856345951493243, -3.9646990229809655, -2.07832171135167, -2.7254963683669335, -2.6972074637702743, -2.730872009705001, -2.6422308405722705, 0.13600703144376233, 1.3659408125238186, 0.10247880938574018, -0.5709496082583894, 1.544407184739677, -1.5392483268144217, -1.9895257833767332, -1.7221962578648984, 0.2056607534896711, -2.6410643270975522, -5.2800924938733855, -0.38098467989671864, -1.381904576680013, 0.6651537859882981, 3.2465879777950915, 1.9362887975661802, 3.1698608546633005, 2.798586377511882, 0.3422223046707524, -0.006400652475769425]}, {\"hoverlabel\": {\"namelength\": 0}, \"hovertemplate\": \"<b>%{hovertext}</b><br><br>color=Ia<br>pca1=%{x}<br>pca2=%{y}<br>pca3=%{z}\", \"hovertext\": [9.0, 41.0, 70.0, 74.0, 76.0, 90.0, 95.0, 113.0, 124.0, 125.0, 161.0, 162.0, 167.0, 168.0, 176.0, 180.0, 205.0, 220.0, 221.0, 222.0, 223.0, 224.0, 225.0, 226.0, 227.0, 228.0, 229.0, 230.0, 253.0, 271.0, 285.0, 335.0, 375.0, 394.0, 411.0, 445.0, 522.0, 523.0], \"legendgroup\": \"color=Ia\", \"marker\": {\"color\": \"cyan\", \"opacity\": 0.5, \"symbol\": \"circle\"}, \"mode\": \"markers\", \"name\": \"color=Ia\", \"scene\": \"scene\", \"showlegend\": true, \"type\": \"scatter3d\", \"x\": [-3.0244320540964935, -1.5188830509946634, -4.64147447986582, 0.6990394869310522, -2.687019675188773, -5.128706117334435, -1.9892465947452154, -4.04173502229191, -0.41876360067464885, -0.7136301013209978, -2.081325775703036, 0.35688933194751327, -1.6010207665599525, -2.72970983588829, -4.40837466462415, -3.2900908003214537, -2.305091601445135, 7.3768686453231505, 3.3183902182475347, 6.549168449954254, 3.391141743030149, 5.290574516696445, 3.1598711691873778, 3.939850981120923, 3.2246015194601596, 4.952151178086887, 4.433242809804032, 4.93316440702197, -0.24583391635959517, -5.217909498101714, -5.520989769049029, 1.090977624465635, -2.8008028834245557, -4.466168562773756, -3.23489279992149, 2.456158813936039, -0.07758090369475176, 0.46958803768678814], \"y\": [4.339241634565298, 0.36457155663237234, -0.249394348922714, 5.958495824163884, 3.4017264917532657, 5.069556390613567, 0.8428097939174483, -0.3537830428799419, 0.3328680624486921, 0.16318887394457357, 5.569208181252831, 7.442611129266866, 3.8267214575288047, 5.496015668126138, 6.333625038066529, 3.4810215064307557, -6.389474107839112, 0.0037233757531476117, -2.901748207924862, -3.1360921926533987, -2.2490898758762006, -4.827971858471783, -1.4516961582864791, -0.02723548037667764, -1.9798992943749834, -0.5116474613656269, -1.0722566610782647, -0.28679711921916734, 3.556367847931241, 4.799325296074298, 1.4389533936178804, 4.884560897369754, 0.92541012853322, 2.3601009618342443, 2.494491206278036, 0.7158121584694475, 2.949753252248437, 1.76984468525849], \"z\": [-2.3260034497116404, 1.1095909026286754, 1.0666896420038576, -0.7590386709263299, -2.3201120915809286, -0.2990221839178042, 0.9055094423796289, 0.9360295753379502, -2.704263206339817, -2.984415652662995, -3.3552226143423916, 1.2108222842676848, -1.852659464972948, -1.679072693370294, -1.3608136909305166, -1.9885835597934731, 5.309409592055504, 0.5497913869419907, -1.7026555495223443, 1.2465794853947105, -1.8740793703122995, -1.2229372548565585, -3.4903861703905106, -3.269091034902292, -1.9028117632665893, -2.708214976265271, -2.4160541133237903, -0.8523316359905441, -2.7759259470678157, -0.149037075429091, 1.0064882987419492, -0.6101159788348318, -1.1514774166241848, -0.7390566654608921, -1.6056649252717639, -3.990108491694438, -3.964971056510174, -4.192182920289909]}],\n",
              "                        {\"legend\": {\"tracegroupgap\": 0}, \"margin\": {\"t\": 60}, \"scene\": {\"domain\": {\"x\": [0.0, 1.0], \"y\": [0.0, 1.0]}, \"xaxis\": {\"title\": {\"text\": \"pca1\"}}, \"yaxis\": {\"title\": {\"text\": \"pca2\"}}, \"zaxis\": {\"title\": {\"text\": \"pca3\"}}}, \"template\": {\"data\": {\"bar\": [{\"error_x\": {\"color\": \"#2a3f5f\"}, \"error_y\": {\"color\": \"#2a3f5f\"}, \"marker\": {\"line\": {\"color\": \"#E5ECF6\", \"width\": 0.5}}, \"type\": \"bar\"}], \"barpolar\": [{\"marker\": {\"line\": {\"color\": \"#E5ECF6\", \"width\": 0.5}}, \"type\": \"barpolar\"}], \"carpet\": [{\"aaxis\": {\"endlinecolor\": \"#2a3f5f\", \"gridcolor\": \"white\", \"linecolor\": \"white\", \"minorgridcolor\": \"white\", \"startlinecolor\": \"#2a3f5f\"}, \"baxis\": {\"endlinecolor\": \"#2a3f5f\", \"gridcolor\": \"white\", \"linecolor\": \"white\", \"minorgridcolor\": \"white\", \"startlinecolor\": \"#2a3f5f\"}, \"type\": \"carpet\"}], \"choropleth\": [{\"colorbar\": {\"outlinewidth\": 0, \"ticks\": \"\"}, \"type\": \"choropleth\"}], \"contour\": [{\"colorbar\": {\"outlinewidth\": 0, \"ticks\": \"\"}, \"colorscale\": [[0.0, \"#0d0887\"], [0.1111111111111111, \"#46039f\"], [0.2222222222222222, \"#7201a8\"], [0.3333333333333333, \"#9c179e\"], [0.4444444444444444, \"#bd3786\"], [0.5555555555555556, \"#d8576b\"], [0.6666666666666666, \"#ed7953\"], [0.7777777777777778, \"#fb9f3a\"], [0.8888888888888888, \"#fdca26\"], [1.0, \"#f0f921\"]], \"type\": \"contour\"}], \"contourcarpet\": [{\"colorbar\": {\"outlinewidth\": 0, \"ticks\": \"\"}, \"type\": \"contourcarpet\"}], \"heatmap\": [{\"colorbar\": {\"outlinewidth\": 0, \"ticks\": \"\"}, \"colorscale\": [[0.0, \"#0d0887\"], [0.1111111111111111, \"#46039f\"], [0.2222222222222222, \"#7201a8\"], [0.3333333333333333, \"#9c179e\"], [0.4444444444444444, \"#bd3786\"], [0.5555555555555556, \"#d8576b\"], [0.6666666666666666, \"#ed7953\"], [0.7777777777777778, \"#fb9f3a\"], [0.8888888888888888, \"#fdca26\"], [1.0, \"#f0f921\"]], \"type\": \"heatmap\"}], \"heatmapgl\": [{\"colorbar\": {\"outlinewidth\": 0, \"ticks\": \"\"}, \"colorscale\": [[0.0, \"#0d0887\"], [0.1111111111111111, \"#46039f\"], [0.2222222222222222, \"#7201a8\"], [0.3333333333333333, \"#9c179e\"], [0.4444444444444444, \"#bd3786\"], [0.5555555555555556, \"#d8576b\"], [0.6666666666666666, \"#ed7953\"], [0.7777777777777778, \"#fb9f3a\"], [0.8888888888888888, \"#fdca26\"], [1.0, \"#f0f921\"]], \"type\": \"heatmapgl\"}], \"histogram\": [{\"marker\": {\"colorbar\": {\"outlinewidth\": 0, \"ticks\": \"\"}}, \"type\": \"histogram\"}], \"histogram2d\": [{\"colorbar\": {\"outlinewidth\": 0, \"ticks\": \"\"}, \"colorscale\": [[0.0, \"#0d0887\"], [0.1111111111111111, \"#46039f\"], [0.2222222222222222, \"#7201a8\"], [0.3333333333333333, \"#9c179e\"], [0.4444444444444444, \"#bd3786\"], [0.5555555555555556, \"#d8576b\"], [0.6666666666666666, \"#ed7953\"], [0.7777777777777778, \"#fb9f3a\"], [0.8888888888888888, \"#fdca26\"], [1.0, \"#f0f921\"]], \"type\": \"histogram2d\"}], \"histogram2dcontour\": [{\"colorbar\": {\"outlinewidth\": 0, \"ticks\": \"\"}, \"colorscale\": [[0.0, \"#0d0887\"], [0.1111111111111111, \"#46039f\"], [0.2222222222222222, \"#7201a8\"], [0.3333333333333333, \"#9c179e\"], [0.4444444444444444, \"#bd3786\"], [0.5555555555555556, \"#d8576b\"], [0.6666666666666666, \"#ed7953\"], [0.7777777777777778, \"#fb9f3a\"], [0.8888888888888888, \"#fdca26\"], [1.0, \"#f0f921\"]], \"type\": \"histogram2dcontour\"}], \"mesh3d\": [{\"colorbar\": {\"outlinewidth\": 0, \"ticks\": \"\"}, \"type\": \"mesh3d\"}], \"parcoords\": [{\"line\": {\"colorbar\": {\"outlinewidth\": 0, \"ticks\": \"\"}}, \"type\": \"parcoords\"}], \"pie\": [{\"automargin\": true, \"type\": \"pie\"}], \"scatter\": [{\"marker\": {\"colorbar\": {\"outlinewidth\": 0, \"ticks\": \"\"}}, \"type\": \"scatter\"}], \"scatter3d\": [{\"line\": {\"colorbar\": {\"outlinewidth\": 0, \"ticks\": \"\"}}, \"marker\": {\"colorbar\": {\"outlinewidth\": 0, \"ticks\": \"\"}}, \"type\": \"scatter3d\"}], \"scattercarpet\": [{\"marker\": {\"colorbar\": {\"outlinewidth\": 0, \"ticks\": \"\"}}, \"type\": \"scattercarpet\"}], \"scattergeo\": [{\"marker\": {\"colorbar\": {\"outlinewidth\": 0, \"ticks\": \"\"}}, \"type\": \"scattergeo\"}], \"scattergl\": [{\"marker\": {\"colorbar\": {\"outlinewidth\": 0, \"ticks\": \"\"}}, \"type\": \"scattergl\"}], \"scattermapbox\": [{\"marker\": {\"colorbar\": {\"outlinewidth\": 0, \"ticks\": \"\"}}, \"type\": \"scattermapbox\"}], \"scatterpolar\": [{\"marker\": {\"colorbar\": {\"outlinewidth\": 0, \"ticks\": \"\"}}, \"type\": \"scatterpolar\"}], \"scatterpolargl\": [{\"marker\": {\"colorbar\": {\"outlinewidth\": 0, \"ticks\": \"\"}}, \"type\": \"scatterpolargl\"}], \"scatterternary\": [{\"marker\": {\"colorbar\": {\"outlinewidth\": 0, \"ticks\": \"\"}}, \"type\": \"scatterternary\"}], \"surface\": [{\"colorbar\": {\"outlinewidth\": 0, \"ticks\": \"\"}, \"colorscale\": [[0.0, \"#0d0887\"], [0.1111111111111111, \"#46039f\"], [0.2222222222222222, \"#7201a8\"], [0.3333333333333333, \"#9c179e\"], [0.4444444444444444, \"#bd3786\"], [0.5555555555555556, \"#d8576b\"], [0.6666666666666666, \"#ed7953\"], [0.7777777777777778, \"#fb9f3a\"], [0.8888888888888888, \"#fdca26\"], [1.0, \"#f0f921\"]], \"type\": \"surface\"}], \"table\": [{\"cells\": {\"fill\": {\"color\": \"#EBF0F8\"}, \"line\": {\"color\": \"white\"}}, \"header\": {\"fill\": {\"color\": \"#C8D4E3\"}, \"line\": {\"color\": \"white\"}}, \"type\": \"table\"}]}, \"layout\": {\"annotationdefaults\": {\"arrowcolor\": \"#2a3f5f\", \"arrowhead\": 0, \"arrowwidth\": 1}, \"coloraxis\": {\"colorbar\": {\"outlinewidth\": 0, \"ticks\": \"\"}}, \"colorscale\": {\"diverging\": [[0, \"#8e0152\"], [0.1, \"#c51b7d\"], [0.2, \"#de77ae\"], [0.3, \"#f1b6da\"], [0.4, \"#fde0ef\"], [0.5, \"#f7f7f7\"], [0.6, \"#e6f5d0\"], [0.7, \"#b8e186\"], [0.8, \"#7fbc41\"], [0.9, \"#4d9221\"], [1, \"#276419\"]], \"sequential\": [[0.0, \"#0d0887\"], [0.1111111111111111, \"#46039f\"], [0.2222222222222222, \"#7201a8\"], [0.3333333333333333, \"#9c179e\"], [0.4444444444444444, \"#bd3786\"], [0.5555555555555556, \"#d8576b\"], [0.6666666666666666, \"#ed7953\"], [0.7777777777777778, \"#fb9f3a\"], [0.8888888888888888, \"#fdca26\"], [1.0, \"#f0f921\"]], \"sequentialminus\": [[0.0, \"#0d0887\"], [0.1111111111111111, \"#46039f\"], [0.2222222222222222, \"#7201a8\"], [0.3333333333333333, \"#9c179e\"], [0.4444444444444444, \"#bd3786\"], [0.5555555555555556, \"#d8576b\"], [0.6666666666666666, \"#ed7953\"], [0.7777777777777778, \"#fb9f3a\"], [0.8888888888888888, \"#fdca26\"], [1.0, \"#f0f921\"]]}, \"colorway\": [\"#636efa\", \"#EF553B\", \"#00cc96\", \"#ab63fa\", \"#FFA15A\", \"#19d3f3\", \"#FF6692\", \"#B6E880\", \"#FF97FF\", \"#FECB52\"], \"font\": {\"color\": \"#2a3f5f\"}, \"geo\": {\"bgcolor\": \"white\", \"lakecolor\": \"white\", \"landcolor\": \"#E5ECF6\", \"showlakes\": true, \"showland\": true, \"subunitcolor\": \"white\"}, \"hoverlabel\": {\"align\": \"left\"}, \"hovermode\": \"closest\", \"mapbox\": {\"style\": \"light\"}, \"paper_bgcolor\": \"white\", \"plot_bgcolor\": \"#E5ECF6\", \"polar\": {\"angularaxis\": {\"gridcolor\": \"white\", \"linecolor\": \"white\", \"ticks\": \"\"}, \"bgcolor\": \"#E5ECF6\", \"radialaxis\": {\"gridcolor\": \"white\", \"linecolor\": \"white\", \"ticks\": \"\"}}, \"scene\": {\"xaxis\": {\"backgroundcolor\": \"#E5ECF6\", \"gridcolor\": \"white\", \"gridwidth\": 2, \"linecolor\": \"white\", \"showbackground\": true, \"ticks\": \"\", \"zerolinecolor\": \"white\"}, \"yaxis\": {\"backgroundcolor\": \"#E5ECF6\", \"gridcolor\": \"white\", \"gridwidth\": 2, \"linecolor\": \"white\", \"showbackground\": true, \"ticks\": \"\", \"zerolinecolor\": \"white\"}, \"zaxis\": {\"backgroundcolor\": \"#E5ECF6\", \"gridcolor\": \"white\", \"gridwidth\": 2, \"linecolor\": \"white\", \"showbackground\": true, \"ticks\": \"\", \"zerolinecolor\": \"white\"}}, \"shapedefaults\": {\"line\": {\"color\": \"#2a3f5f\"}}, \"ternary\": {\"aaxis\": {\"gridcolor\": \"white\", \"linecolor\": \"white\", \"ticks\": \"\"}, \"baxis\": {\"gridcolor\": \"white\", \"linecolor\": \"white\", \"ticks\": \"\"}, \"bgcolor\": \"#E5ECF6\", \"caxis\": {\"gridcolor\": \"white\", \"linecolor\": \"white\", \"ticks\": \"\"}}, \"title\": {\"x\": 0.05}, \"xaxis\": {\"automargin\": true, \"gridcolor\": \"white\", \"linecolor\": \"white\", \"ticks\": \"\", \"title\": {\"standoff\": 15}, \"zerolinecolor\": \"white\", \"zerolinewidth\": 2}, \"yaxis\": {\"automargin\": true, \"gridcolor\": \"white\", \"linecolor\": \"white\", \"ticks\": \"\", \"title\": {\"standoff\": 15}, \"zerolinecolor\": \"white\", \"zerolinewidth\": 2}}}},\n",
              "                        {\"responsive\": true}\n",
              "                    ).then(function(){\n",
              "                            \n",
              "var gd = document.getElementById('a44754f0-86fa-4338-9beb-0bd63df044ff');\n",
              "var x = new MutationObserver(function (mutations, observer) {{\n",
              "        var display = window.getComputedStyle(gd).display;\n",
              "        if (!display || display === 'none') {{\n",
              "            console.log([gd, 'removed!']);\n",
              "            Plotly.purge(gd);\n",
              "            observer.disconnect();\n",
              "        }}\n",
              "}});\n",
              "\n",
              "// Listen for the removal of the full notebook cells\n",
              "var notebookContainer = gd.closest('#notebook-container');\n",
              "if (notebookContainer) {{\n",
              "    x.observe(notebookContainer, {childList: true});\n",
              "}}\n",
              "\n",
              "// Listen for the clearing of the current output cell\n",
              "var outputEl = gd.closest('.output');\n",
              "if (outputEl) {{\n",
              "    x.observe(outputEl, {childList: true});\n",
              "}}\n",
              "\n",
              "                        })\n",
              "                };\n",
              "                \n",
              "            </script>\n",
              "        </div>\n",
              "</body>\n",
              "</html>"
            ]
          },
          "metadata": {
            "tags": []
          }
        }
      ]
    },
    {
      "cell_type": "markdown",
      "metadata": {
        "id": "knP01H5teAox",
        "colab_type": "text"
      },
      "source": [
        "Test ICA also"
      ]
    },
    {
      "cell_type": "code",
      "metadata": {
        "id": "_lWCL_42eAN_",
        "colab_type": "code",
        "colab": {}
      },
      "source": [
        "ica = FastICA(n_components=4)\n",
        "npf_ica = ica.fit_transform(X)\n",
        "\n",
        "test_ica = ica.transform(test)"
      ],
      "execution_count": 0,
      "outputs": []
    },
    {
      "cell_type": "code",
      "metadata": {
        "id": "pFAhLCgmiWjR",
        "colab_type": "code",
        "colab": {
          "base_uri": "https://localhost:8080/",
          "height": 34
        },
        "outputId": "77dbde94-6195-488a-835f-9b7f008593f9"
      },
      "source": [
        "npf_ica.shape, type(npf_ica), test_ica.shape, type(test_ica)"
      ],
      "execution_count": 26,
      "outputs": [
        {
          "output_type": "execute_result",
          "data": {
            "text/plain": [
              "((724, 4), numpy.ndarray, (724, 4), numpy.ndarray)"
            ]
          },
          "metadata": {
            "tags": []
          },
          "execution_count": 26
        }
      ]
    },
    {
      "cell_type": "code",
      "metadata": {
        "id": "bO7kvwypidsk",
        "colab_type": "code",
        "colab": {
          "base_uri": "https://localhost:8080/",
          "height": 542
        },
        "outputId": "1e076fc8-e469-4f21-c515-5f5f5319260c"
      },
      "source": [
        "npf_ica = pd.DataFrame(npf_ica, columns=[\"ica1\",\"ica2\",\"ica3\",\"ica4\"])\n",
        "\n",
        "test_ica = pd.DataFrame(test_ica, columns=[\"ica1\",\"ica2\",\"ica3\",\"ica4\"])\n",
        "\n",
        "px.scatter_3d(data_frame=npf_ica,\n",
        "              x=\"ica1\",\n",
        "              y=\"ica2\",\n",
        "              z=\"ica3\",\n",
        "              color=klabels,\n",
        "              color_discrete_sequence=own_cmap,\n",
        "              hover_name=npf_ica.index,\n",
        "              opacity=0.5)"
      ],
      "execution_count": 27,
      "outputs": [
        {
          "output_type": "display_data",
          "data": {
            "text/html": [
              "<html>\n",
              "<head><meta charset=\"utf-8\" /></head>\n",
              "<body>\n",
              "    <div>\n",
              "            <script src=\"https://cdnjs.cloudflare.com/ajax/libs/mathjax/2.7.5/MathJax.js?config=TeX-AMS-MML_SVG\"></script><script type=\"text/javascript\">if (window.MathJax) {MathJax.Hub.Config({SVG: {font: \"STIX-Web\"}});}</script>\n",
              "                <script type=\"text/javascript\">window.PlotlyConfig = {MathJaxConfig: 'local'};</script>\n",
              "        <script src=\"https://cdn.plot.ly/plotly-latest.min.js\"></script>    \n",
              "            <div id=\"969d35be-d48f-4379-8014-9b55de773e3a\" class=\"plotly-graph-div\" style=\"height:525px; width:100%;\"></div>\n",
              "            <script type=\"text/javascript\">\n",
              "                \n",
              "                    window.PLOTLYENV=window.PLOTLYENV || {};\n",
              "                    \n",
              "                if (document.getElementById(\"969d35be-d48f-4379-8014-9b55de773e3a\")) {\n",
              "                    Plotly.newPlot(\n",
              "                        '969d35be-d48f-4379-8014-9b55de773e3a',\n",
              "                        [{\"hoverlabel\": {\"namelength\": 0}, \"hovertemplate\": \"<b>%{hovertext}</b><br><br>color=nonevent<br>ica1=%{x}<br>ica2=%{y}<br>ica3=%{z}\", \"hovertext\": [0.0, 1.0, 2.0, 3.0, 4.0, 5.0, 11.0, 12.0, 13.0, 18.0, 25.0, 26.0, 27.0, 28.0, 29.0, 31.0, 33.0, 34.0, 35.0, 36.0, 37.0, 39.0, 43.0, 45.0, 50.0, 51.0, 54.0, 57.0, 58.0, 60.0, 61.0, 62.0, 67.0, 68.0, 69.0, 71.0, 79.0, 81.0, 92.0, 93.0, 94.0, 98.0, 99.0, 104.0, 106.0, 107.0, 108.0, 109.0, 117.0, 119.0, 123.0, 127.0, 129.0, 130.0, 131.0, 132.0, 133.0, 135.0, 136.0, 137.0, 138.0, 139.0, 140.0, 141.0, 142.0, 143.0, 144.0, 146.0, 147.0, 155.0, 156.0, 171.0, 178.0, 179.0, 188.0, 195.0, 196.0, 201.0, 203.0, 204.0, 208.0, 209.0, 213.0, 214.0, 215.0, 216.0, 217.0, 219.0, 231.0, 232.0, 233.0, 234.0, 235.0, 236.0, 237.0, 238.0, 239.0, 240.0, 241.0, 242.0, 243.0, 244.0, 245.0, 246.0, 247.0, 248.0, 249.0, 250.0, 252.0, 262.0, 265.0, 267.0, 268.0, 273.0, 276.0, 280.0, 281.0, 282.0, 283.0, 284.0, 286.0, 287.0, 288.0, 289.0, 290.0, 291.0, 293.0, 302.0, 303.0, 306.0, 307.0, 308.0, 309.0, 313.0, 314.0, 315.0, 316.0, 317.0, 318.0, 319.0, 321.0, 322.0, 323.0, 324.0, 325.0, 327.0, 328.0, 329.0, 330.0, 331.0, 332.0, 333.0, 334.0, 337.0, 340.0, 341.0, 342.0, 350.0, 351.0, 352.0, 355.0, 358.0, 359.0, 361.0, 362.0, 363.0, 364.0, 365.0, 367.0, 369.0, 370.0, 371.0, 372.0, 373.0, 378.0, 379.0, 380.0, 381.0, 382.0, 383.0, 384.0, 385.0, 397.0, 399.0, 404.0, 407.0, 413.0, 417.0, 419.0, 420.0, 421.0, 422.0, 423.0, 424.0, 426.0, 427.0, 428.0, 429.0, 430.0, 431.0, 437.0, 438.0, 439.0, 440.0, 441.0, 446.0, 450.0, 451.0, 452.0, 453.0, 454.0, 455.0, 456.0, 457.0, 458.0, 459.0, 460.0, 463.0, 464.0, 465.0, 466.0, 479.0, 481.0, 483.0, 486.0, 487.0, 488.0, 490.0, 491.0, 494.0, 496.0, 498.0, 499.0, 500.0, 501.0, 502.0, 503.0, 504.0, 505.0, 506.0, 507.0, 508.0, 509.0, 510.0, 511.0, 513.0, 517.0, 520.0, 521.0, 535.0, 536.0, 538.0, 539.0, 540.0, 541.0, 542.0, 543.0, 545.0, 546.0, 547.0, 548.0, 549.0, 550.0, 551.0, 552.0, 553.0, 554.0, 555.0, 558.0, 559.0, 561.0, 566.0, 569.0, 570.0, 571.0, 572.0, 573.0, 574.0, 575.0, 576.0, 577.0, 578.0, 579.0, 580.0, 581.0, 582.0, 583.0, 584.0, 585.0, 586.0, 587.0, 588.0, 589.0, 590.0, 591.0, 592.0, 593.0, 594.0, 595.0, 596.0, 597.0, 598.0, 599.0, 600.0, 601.0, 602.0, 603.0, 604.0, 605.0, 606.0, 607.0, 608.0, 609.0, 610.0, 611.0, 612.0, 619.0, 622.0, 623.0, 626.0, 627.0, 629.0, 630.0, 631.0, 632.0, 634.0, 635.0, 636.0, 637.0, 638.0, 639.0, 640.0, 641.0, 642.0, 643.0, 644.0, 645.0, 646.0, 648.0, 649.0, 650.0, 651.0, 652.0, 656.0, 658.0, 659.0, 660.0, 661.0, 662.0, 663.0, 664.0, 665.0, 670.0, 671.0, 673.0, 674.0, 675.0, 676.0, 677.0, 678.0, 680.0, 681.0, 682.0, 683.0, 684.0, 685.0, 686.0, 687.0, 688.0, 689.0, 690.0, 691.0, 692.0, 693.0, 694.0, 695.0, 696.0, 699.0, 702.0, 703.0, 704.0, 705.0, 706.0, 707.0, 708.0, 709.0, 711.0, 715.0, 718.0, 719.0, 720.0, 721.0, 722.0, 723.0], \"legendgroup\": \"color=nonevent\", \"marker\": {\"color\": \"red\", \"opacity\": 0.5, \"symbol\": \"circle\"}, \"mode\": \"markers\", \"name\": \"color=nonevent\", \"scene\": \"scene\", \"showlegend\": true, \"type\": \"scatter3d\", \"x\": [-0.0322898140464036, -0.03353819549927465, -0.052430120325491845, -0.03998086415172726, 0.01316626330237802, 0.01113087086573949, -0.006506879275647104, -0.012511489292754203, -0.02319725888598344, -0.04615216651955631, -0.007127642618777379, 0.004586704438752598, 0.02644999991065403, 0.008136760045123757, 0.0027713873761047543, 0.007709094841100803, 0.005754940432170946, -0.010938638516460444, -0.03333238646152665, -0.05845591081746442, -0.04540392918139827, -0.03305553511137289, -0.023338483826330313, -0.04557552706444176, 0.031099549606293277, -0.04075466310851091, 0.010820992363996279, 0.0020358800680957633, -0.044316016586417165, -0.038798719330517914, -0.0024182589150024895, -0.0705169903096237, -0.05273900401383275, 0.013119875972983369, -0.0011611667412201247, -0.057952351347872126, 0.014850704220059992, -0.0150931287624416, -0.05329023631001972, -0.043469731420980325, -0.016010589100687783, -0.05296901029442526, -0.0094257264382359, 0.023205530605761554, -0.038180894340048704, 0.014124284000700402, 0.0014234670621686566, 0.014235959291266467, -0.01319522378466091, -0.02658817114238802, -0.017326102768137265, -0.03365027853677399, -0.04856824037964984, -0.04463581803397736, -0.04424492854408703, -0.038209871158846595, -0.052560639076138234, -0.05823240133295449, -0.04839647224053307, -0.04022367836924377, -0.04203517222932111, -0.04117850896404881, -0.05293446026348474, -0.01836340848685666, -0.07125279046955267, -0.03881103879310156, -0.031977251981317886, -0.04003873464254412, -0.021517267517722084, -0.04926395018756637, -0.03004800659507008, 0.03027046855738816, 0.031681022475441654, -0.022479367530443276, -0.016278419502662466, -0.004267094621474581, -0.012191963033536191, 0.007321769057981578, -0.025109986359872258, 0.00308983210838472, -0.038099734213170706, -0.05754819322144378, -0.04287648575010031, -0.03648867286068284, -0.01426516473576591, -0.03682828272045924, -0.02756313553282143, -0.03634088934296506, -0.042144121224579285, -0.04535784126905956, -0.05323251689921827, -0.043031216818130325, -0.055049685523901486, -0.030079117488114992, -0.03865271804709698, -0.04786205078117767, -0.04996399291845963, -0.04128840562953377, -0.02848582599516896, -0.039125269694047185, -0.030450767114182452, -0.007434423107240516, -0.02956791216545258, -0.053051285350016374, -0.03159106328031616, -0.03141695545629228, -0.033795213012651676, -0.027522846234374922, -0.03547147973411201, -0.012080710428509328, -0.027180065755795346, -0.03317733346091019, -0.013158688920451968, -0.04486167116626397, 0.025558123100410012, 0.05612909966458835, 0.02566582244474588, 0.055414213369844346, 0.04956255763056526, 0.050137633922770146, 0.02248630287881532, -0.013900960934966042, -0.04497003692707494, -0.0007800874020386043, -0.0031952926816373687, -0.015298947261078045, 0.0005774148865124284, -0.030480496928708897, -0.006744338628707889, -0.027713301452473964, -0.014516348308717682, 0.003966499654183143, -0.017060135074656622, -0.03227974126950175, -0.006495205726719781, -0.03147257759833379, -0.05020381007465877, -0.04898979170274873, -0.02841641583144586, -0.03856150761160623, -0.04011204349869038, -0.029991466975484056, -0.04340897114547886, -0.026791427148786327, -0.020838483554739145, -0.02045965190068756, -0.03643956300269771, -0.011273400859669337, 0.029702604556046976, -0.039183747197483715, -0.006818321062460893, -0.0267790961077138, -0.0015068697411211773, 0.014360451038248649, -0.03215503022535736, -0.03112094963288082, 0.03340714956756395, -0.05235538420954819, 0.007439420381428828, 0.03700417652245787, 0.0619093456014982, 0.00011704197655731424, 0.05640934453965424, 0.026727421085481255, 0.058807678073114156, -0.014381131732983759, 0.06014623771489868, -0.014071220001028305, -0.01211857168156506, -0.016374897507108768, 0.028133035663344103, -0.0009841806042215353, -0.05861257827066298, -0.03873959157201732, -0.04990952242024635, -0.057235592975617255, -0.08296898540975482, -0.053119615437307165, -0.04929165781789067, -0.05002173790948768, -0.037720929265559824, -0.06026269712011316, -0.04069261646039522, -0.020025489914158808, 0.01629913210177393, 0.008742258229609771, -0.03672426574133726, 0.008290326691707655, -0.05628060410664711, -0.06777121566813409, 0.031647677792802024, 0.031033051948196205, -0.04219109454633125, -0.01022800140612499, 0.026965447373809286, 0.03720416806795593, -0.015639160064011517, 0.02059113499174042, 0.044434923280573045, 0.01082023195480081, -0.04702622085293659, -0.030583850289398203, -0.04529986842926269, -0.029461479502760745, -0.01251266890971629, -0.03494030862189719, -0.04270429983097598, -0.006854883657197804, -0.035864316584548424, -0.04609968978210971, -0.0535423302095339, -0.038797074007393136, -0.05141000056789795, -0.03796719456646771, -0.029592738357908613, -0.021898093933356212, -0.030262656863153235, -0.015877416229635875, -0.0518890350475714, -0.05697878837884643, -0.05855464122097573, -0.056660557482529864, -0.016180245319043354, 0.009454634200712025, -0.04017602882092209, -0.006424316348054695, -0.037555535385343786, 0.006951909867300071, -0.017934341420121794, -0.0284514911377833, -0.045001110414119215, -0.0485385905474646, -0.048497242867147836, -0.04476086992870701, -0.046177489768230995, -0.04694008439044159, -0.03338930961174236, -0.047813949670624065, -0.05643184519231264, -0.05450412530020777, -0.050295216858491865, -0.018135300131875767, -0.04696216147238723, -0.0501712648402983, -0.045599920729514146, -0.04702749584666227, -0.03098240461369491, -0.03659977402939825, -0.03880528188201538, 0.06292878442950167, 0.004170179605230758, -0.041660380651655365, 0.04305645525073283, 0.04750666614693034, 0.05086064839675619, 0.05091914299870595, 0.036581880505076866, -0.025283830474585357, -0.038659095325300125, 0.022810213345398764, 0.03925231054030066, -0.05378126551190238, 0.009518323383539135, -0.024785156145416945, 0.016856996275440763, 0.005192456524989989, 0.02442270588069441, -0.00443511161255629, -0.02443062795690464, -0.02637039561278748, -0.009443973936862827, -0.01725060851959346, -0.03868643197701297, -0.012233730948577135, -0.017394079742009787, -0.0350453730583868, -0.06316551667576066, -0.020508991049468274, -0.037213180176024964, -0.024818672606140575, -0.05160429502683996, -0.04891153490012032, -0.0355010917295001, -0.06283441140605825, -0.057765606411483594, -0.060743674355670685, -0.05916541857989379, -0.049752602295236655, -0.05101681441228309, -0.0459672449232586, -0.04056866743604286, -0.036334705884286084, -0.03632965570062183, -0.06737726392074139, -0.05144064867823354, -0.051607401007140084, -0.05355943210922259, -0.05475968010817032, -0.04259048618602942, -0.044709939076035425, -0.03678989591598296, -0.028486289457430678, 0.00012150813101064965, -0.04327673261691086, -0.042582805059556694, -0.03569019299161336, 0.027796746969525304, -0.0044834962928899475, -0.035360194665529504, -0.017583439101906115, 0.02311130450685512, -0.02778944892686637, 0.03302967322325497, -0.03348369608404074, -0.02573904261253507, -0.03368414246958415, 0.012397509550526037, -0.003841238636870813, -0.001966290976716143, -0.014139016529379286, 0.041523048954460094, 0.038502691885693746, -0.04882479735341402, 0.012387008455890997, 0.009370619231040581, 0.018338565283432584, -0.02291609804497719, 0.016623402496807552, 0.019689204571005352, 0.006924013418886345, -0.01248125722303384, 0.00539755398241599, 0.0036071924070261324, 0.01011183870008366, -0.029422353286896935, -0.01692653738313935, 0.014939235684160751, -0.01780255100267949, -0.006057871589876661, -0.017773843083722197, -0.027259177467154602, -0.027166046512321487, -0.0037119058552135143, -0.015228222700323592, -0.06492980348845444, -0.03154863604854767, -0.03538953592280235, -0.038858924510546775, -0.05168907797252099, -0.00026448711765809105, 0.0004317243433132069, -0.04454039301377363, -0.04094407250320797, -0.05408373999192082, -0.04856468677525755, -0.05020452302826062, -0.0441360818185607, -0.04549506526731123, -0.04218076672605881, -0.03220315049320587, -0.05937073707082064, -0.05704784293546109, -0.05372108421336933, -0.051204002691090614, -0.05363675799514994, -0.06721526025575793, -0.05443363959517598, -0.038463032875416275, -0.05493459768354855, -0.03478781012957332, -0.03318030025167189, -0.00034437457547200733, -0.004697881279151241, 0.006229760423146083, -0.010848851148290314, -0.052903549497939496, -0.013998888269313373, 0.010307422415037232, -0.04192109154630931, -0.027836028788742972, 0.01164944848247849, 0.0039017601369682113, -0.017588358748575957, -0.025164083702596363, 0.03525857649132678, -0.0454311322683009, 0.03471183971754947, -0.02775195263371414, 0.03336984264113127, 0.03596965116386242, -0.012734323286148676, -0.02668644960911604, -0.03710235821188628, 0.026912016297458846], \"y\": [-0.015763328713062397, 0.004423427629573981, 0.024585574257234125, -0.03700687757488536, -0.030509943355272014, 0.003185561182190661, -0.01037548792214992, 0.06573769804182845, 0.09645220081760074, 0.05351499077793118, 0.039560330019339354, 0.07486981882279248, 0.13671620304550935, 0.0770193578122915, 0.07652711932597799, 0.026028093878899667, 0.08822649809177939, 0.032911887497764615, 0.04184162633505305, -0.003633574529462801, 0.01975516268614808, -0.02699133672960883, 0.07781461536067155, 0.06127429812613462, 0.030905204562019974, -0.022282104894555645, 0.06346259259632077, 0.05837959476731843, 0.06450837078001288, 0.06192006685681785, 0.05999586061457359, 0.04401086705596457, -0.0002337938686471786, -0.047504401604714246, -0.03283860973156904, -0.007605697623652024, 0.03050965637381055, 0.029279702383632034, 0.026129969397928134, 0.04636002472645845, 0.017225139053674298, 0.038464124889453104, -0.015204467646035632, 0.02863706275910986, -0.033252927914560304, 0.04589644481640875, 0.05954862263577734, 0.08115726759434543, -0.024931748935371055, 0.02070001364895004, -0.046773969711371606, -0.019811345997583718, -0.05177975353396614, -0.05887007358513763, -0.0584067872670222, -0.04025128986589751, -0.020802423011892585, -0.023161323271928092, -0.013096346135928189, -0.027212799664827106, -0.02773177623569879, -0.036648963782591436, -0.026857084247847517, -0.019536706006459802, 0.04148167698225646, -0.008853794748681816, -0.028300852416408225, 0.006141189384059219, -0.008628688363086627, 0.005881288541589776, -0.016184369586983497, 0.05853137857736824, 0.1700335521283271, -0.010687635425322606, -0.01207795515726554, 0.04141375102864727, -0.013688544995734356, 0.0007743843559073329, -0.024895405835958336, 0.0015332366467694389, -0.021126843223830065, 0.03174902195465195, -0.018867464937556668, -0.007842458335225837, -0.026028287769619712, -0.024949785174118163, -0.0374869999415725, -0.03087844098610587, 0.004930841933737688, -0.018953196298611266, 0.00040439079433930096, 0.0025177111937195024, 0.02210880128427895, -0.014032909228109201, -0.028967272744463753, 0.0035976608544107513, -0.0057113833614826455, -0.02111072619539016, -0.0224068383264298, -0.028298295354983575, 0.0040231228291125205, 0.023270169210890267, 0.041003330603593964, 0.08095601607232723, -0.0009796910001384532, 0.038587085693117855, 0.014189626710884943, 0.0032415437881946098, 0.04788637429011051, 0.052721390030749306, 0.02140106789918055, 0.04902785408117187, 0.04337487151506962, 0.033157257313801695, 0.023934579061455862, 0.0039408263318495, 0.012454578461664903, 0.0014807345040564255, 0.010937315617144205, -0.01881562794264516, 0.04862324767986216, 0.04634849467056884, 0.04172008597590524, 0.022292198931462538, 0.023257022387361694, -0.01193043459424574, 0.012641727327735138, -0.00403786197809847, -0.045380267535199595, 0.06598046030896061, 0.09863865959198045, -0.026006322365152976, -0.006617771596394957, 0.0694663860216905, -0.03782935992883801, -0.053810440366854825, -0.048133433910776666, -0.047744748861958286, -0.02189542374857622, -0.044740064613738355, -0.010384530775142412, 0.007888369456841498, -0.009747840371366896, -0.008616059412884092, -0.039016505951441204, -0.043501087872400354, 0.0010259233861747731, 0.0418924131291401, -0.00010221368568326641, 0.03358175980594034, 0.026851518449469293, 0.04681710817225482, -0.004219039074759288, 0.03714392463760256, 0.05074539914668811, 0.022601111782163445, 0.14656942291267624, 0.05691636249976959, 0.0060659345633950305, -0.017689618199059245, -0.018566026338983837, -0.014785569638259406, -0.012494491903135637, -0.039339286826522976, -0.019491250032293687, 0.05890999221460306, -0.01369283227464192, 0.07319525153046791, 0.04773600090098925, 0.03206132882533327, 0.006314339668757263, -0.009724132994651448, 0.030277227747640138, -0.03897439411841652, -0.04335996593589357, -0.000791499847814241, -0.005895578157505411, 0.001971920166357819, -0.012192262884407584, 0.015833638262651138, -0.015110700371293202, 0.014966397487280195, 0.0015933664354740576, -0.015172798196001215, -0.02215131663334842, 0.01385429215748933, 0.06611792890791919, -0.004987325543490752, 0.010993750634376733, 0.023756365684199587, 0.0374731222907743, 0.004984061599404786, -0.017937182644679906, 0.010208582366791268, -0.035635841464639856, -0.030914124319816792, 0.028916032034267406, 0.019009487804727554, 0.010480739384767547, 0.03363980158262698, -0.005978763956872251, -0.02427780911278078, -0.02328207862991879, -0.07382971474319096, -0.02568245186912752, -0.0038923918671133046, 0.006509001463463102, -0.0046298646381170054, 0.0060934815192657515, 0.013480194739312857, 0.04735893268846899, 0.06909158524525784, 0.03017934451231355, 0.012354476316745565, -3.8058497680714565e-05, -0.014693495500935192, 0.003106258028637685, 0.15091816812530348, 0.04938890944544835, 0.05207608643651607, 0.017600212990236733, 0.05603317193462002, 0.045881260562473984, -0.02733283460408078, 0.017379057668512082, -0.019296661756544254, 0.025717451766285225, -0.05491374099711371, -0.04312049082904586, -0.027146370664212285, -0.038573909509864675, -0.035436009664522594, -0.0456239216322006, -0.05212658635808753, -0.03912277812129556, -0.027693850011896858, -0.04061244397255579, -0.04291850573169356, -0.012501133453337126, -0.04962374300565901, -0.041128934289414804, -0.033101582855913275, -0.01078790657574623, -0.014691384424108582, -0.023813251269646913, -0.009160411059299677, 0.018957718749018165, 0.0038554913055049472, 0.013438790665066981, 0.007416139689048123, 0.006732719107275086, -0.021961618335338436, 0.004724148367238101, 0.009720296372347432, -0.00906280927641133, 0.012752349273665656, 0.022167368391310477, 0.025035518018719626, -0.0005411684397584683, 0.004962106799970771, -0.0351440150349277, 0.011455072879892267, 0.016566555505962265, 0.0031124289297658767, -0.030042551988529943, 0.0008229481101157914, -0.012063286162475657, -0.0512432364320074, 0.014970106315300682, -0.007742549485222382, -0.0385244608153458, -0.05173819913341526, -0.060586701194411806, -0.0411876193891776, -0.04146284724186867, -0.05509409896509811, -0.025310313177213592, -0.026931219614684945, -0.03463447470361235, -0.04532545898671154, -0.04856020746552796, -0.0341382318375412, -0.04526207155233303, -0.013131869044104409, -0.0348708259681208, 0.016260532030763913, 0.006970877101093547, -0.06575102335736703, -0.06235830817867435, -0.07390807133707743, -0.04058166374753385, -0.008763861963640231, -0.019918953028452587, 0.019197622195700946, -0.04985114554299858, -0.038345505138665185, -0.02411016037804924, 0.02344883959486863, -0.019858151770802437, -0.0062636428890528225, -0.019864164709860306, 0.004813810214294906, 0.04304521447969264, 0.028585805878213168, -0.010504853198711875, -0.014094832626218948, -0.024471960682795103, 0.01921420757393616, -0.008840846113687878, -0.02108566563457944, -0.03645460437017707, -0.013158183995935102, -0.0061632358384559926, -0.01165932727550207, -0.028207556345999682, -0.002270063081650213, 0.016693426395205338, 0.0014924328190744666, 0.05669565369379993, 0.009926313579718193, 0.08554964016333978, 0.07040883718709023, 0.03756207819386333, 0.014429912642786657, 0.009247710058303958, 0.07503385295038438, 0.05512126438714092, 0.034029567548436085, 0.1359314840646086, 0.0798065345207989, 0.08869775295803269, 0.16311029250500145, 0.04429094185408318, 0.007191977080700812, 0.039010642482768566, 0.022480688986406386, 0.08151031678642198, 0.08834843122621525, 0.001487983489635858, -0.02154893370135527, -0.06526923253727777, -0.04371400029184921, -0.047160649213125704, -0.016437486472031422, 0.04034040338213732, -0.004993663762377008, -0.013809992461032901, 0.004638944115168656, 0.06484857014145297, -0.009933988896007955, -0.011684867937288478, 0.000720588084134502, 0.017251747941134998, -0.004762597697009029, -0.030337336305068425, -0.035900284841840484, -0.024975010254229994, -0.025315252426803117, -0.016445537114676344, -0.040667208422555404, -0.018339337372731683, -0.004272513664535447, 0.005229574311766788, -0.004306358595172852, -0.01759942217232704, -0.017891537793313282, 0.0221255146347087, -0.007492208448242154, 0.021788152050211018, 0.012123971195698385, 0.027680875884028986, -0.02532412600935346, -0.017157381425474693, 0.002723992897142899, 0.05443559705540631, 0.0716654716337112, 0.056057788894998364, 0.11157340816641072, 0.04262623288474175, 0.012344885285002074, -0.007879653462355056, 0.08001605942976908, 0.06380997400868832, -0.0569858191907134, 0.005497191644536052, 0.03233368882289558, 0.009944634578539275, 0.047841465351239405, -0.05854118161250496, -0.04574450110192111, -0.0315507616239124, -0.010582844839513116, -0.007308790651182917, -0.020374912581187343], \"z\": [0.04838380435399057, 0.004842768346425329, 0.012570554262928803, -0.012521076274932028, 0.03688040680528515, 0.036508305420763255, -0.03528686469227107, 0.01755261834411511, -0.01443275159938659, -0.029554041007585127, -0.03064608467350791, -0.02861102774176981, -0.01406863984741538, -0.0252205625555543, -0.021485462311985833, -0.06305036063355914, -0.04059681222567983, -0.02717949725281162, -0.06272501276378604, -0.07378315095809002, -0.06063391170724755, -0.058374991735615736, -0.03203504814731891, -0.01737128959984845, -0.0036066702365026436, -0.0519418135223028, -0.0442915351234656, -0.06339780253775872, -0.07330655473514396, -0.07365556392521261, -0.045902521140261804, -0.07210813343734163, -0.07121987544197286, -0.053312179540005104, -0.0733622538115212, -0.0698352270889603, 0.027523638441294303, 0.031764307509326385, -0.018355489556496317, -0.022935105489217195, -0.011437559528381273, -0.02654765475317134, -0.03611174561250187, -0.05315134728264261, -0.06625153204473826, -0.0813519711774216, -0.06548378726355086, -0.048272795917116564, -0.04817109868858238, -0.04235864718589863, -0.0035094671257670496, 0.025247587103551437, -0.04006892155038751, -0.03429327755682318, -0.01820194610702317, 0.03639247019925713, 0.021174566362066723, 0.009195147828973523, 0.02905180347179144, 0.01987826651529798, 0.01998223587512295, 0.010723015870537813, 0.016514722439140695, 0.01795277792420202, 0.018221462258237193, 0.030714527568895724, 0.01879070483654066, 0.032681478809374415, 0.03346677665130772, 0.019149315458460246, 0.02426869556025759, 0.014066300971126242, 0.04132072905792309, -0.017972956940427345, -0.00889916866429922, -0.024668285181255654, -0.0677950299331083, -0.06979956452236047, -0.0795243127967566, -0.07714625926061992, -0.033638770106421204, -0.030301562012311774, 0.02840501475261251, 0.003609022348556695, -0.010078755042323657, 0.03147371321606802, 0.030161929156101507, 0.01741134446424661, 0.028459544717854994, 0.018590659072527924, 0.013247915956555521, 0.023853850971202947, 0.013244382172796923, 0.031926527203422525, 0.013815905407215591, -0.00357428530191733, -0.0019628906385700195, 0.01762443280676515, 0.027607384985127412, 0.023212705164042644, 0.03776386717669791, 0.03318100768619535, 0.04863930263920385, 0.05397316886316283, 0.02575384485925855, 0.05604752454056984, 0.0241971463374974, 0.05119939738394271, 0.05650608365050556, 0.019930765501345822, 0.043597219893781194, 0.013972706085838003, 0.0106376583665804, -0.02790251449803114, -0.04170313544509455, -0.037941124625405186, -0.04848721721245667, -0.043820217003995965, -0.041638062200090434, -0.05185794336829226, -0.03682505357694692, -0.06695884114670472, -0.06289785527314419, -0.0447063196149332, -0.08510781279332245, -0.060077184731117894, -0.06378361352011509, -0.04554412239926389, -0.019454639482378473, -0.02696754430841796, -0.03184632812345298, -0.03237300419074996, -0.033302471077126174, -0.022421383256361425, 0.0012464071082901027, 0.002706083269866316, -0.004273048316046334, -0.006072120872375683, 0.00947618929818902, -0.011849910777786563, 0.039382036345730814, 0.01904295975756124, -0.05380773293024934, 0.07055209390609822, 0.06173715934958281, 0.0641247833540044, 0.023737483967804816, 0.05948860649876693, -0.039200283569116395, 0.026912256601424128, 0.044055021499029574, 0.051934191097240776, 0.055858128684552914, 0.053778899744010907, 0.03284454488247932, 0.03298907893028519, 0.0493336089039737, -0.02537197353043771, -0.0013183204758792707, -0.003373380412017379, -0.04201708698841608, -0.06362029706167731, -0.044500868348511094, -0.04579699119432943, -0.04090614833536043, -0.05846261071014819, -0.03553111077786557, -0.05001787697283963, -0.0552689336847149, -0.0469415793592882, -0.035735524822670714, -0.03796552693977974, -0.05244914813674896, -0.05263210675977129, -0.04279113856965515, -0.034073333274348416, -0.02162082235194693, -0.018980503889198697, -0.012772226859274195, 0.006588303237271512, 0.0062914604835135595, 0.007571725807332221, 0.011183211851621029, -0.00353821516992229, 0.028223802696269992, 0.00784845990415256, -0.01484748740290851, -0.01915194122608226, -0.042009274491640956, -0.03751319287500319, -0.03255963542684014, -0.04179575810551159, -0.06302880952665396, -0.04917688068661773, -0.035787742637839313, -0.03789314561806157, -0.0442285752560071, -0.04297186344277961, -0.04598994415016414, -0.05620080762289721, -0.004320705885341523, -0.03298872964085852, 0.0031838705642614905, -0.02830929291108377, -0.016885887559362926, 0.003968492940925007, 0.00047250786646955864, 0.028834207674012277, 0.04657488310646288, 0.021768692063138598, 0.011555909489713296, 0.013377103459126067, 0.026780691963795598, 0.05064040770240289, 0.042253769227039724, 0.030178393617080454, 0.042944691654722165, 0.05291289835970876, 0.032963359757298076, 0.02429071220233701, 0.03326743093370538, -0.020489950637930264, -0.03550802081658844, -0.04015454449082827, -0.061331196277003945, -0.056998981336225746, -0.05091024225794695, -0.0530039230064431, -0.03443481013065716, -0.039698947999040037, -0.013012055385858633, 0.002686447821767163, 0.027802096109783698, 0.02071224081056069, 0.013631025970116081, 0.051906924237889826, 0.04349726748086422, 0.011082341802622683, 0.025856545366504242, 0.02818117104795829, 0.016869300874231854, 0.0604848346004487, 0.041297701287609324, 0.03151785727651117, 0.00018990063508071283, 0.048772983013959305, 0.05662200670744467, 0.04678721017721218, 0.05237849877982509, -0.010793529307142235, -0.01788728661628382, -0.03757735749278854, -0.019050151530289123, -0.019460498156026827, -0.029771289579777795, -0.023917153133427623, -0.0348075784305814, -0.03740458982245474, -0.038490735550549826, -0.03857669597821272, -0.047396255648482495, -0.055705167468521354, -0.05381994882234809, -0.0600772521060602, -0.05048920523558013, -0.05283441738761637, -0.05113113321725171, -0.04763020044738247, -0.043532336721872594, -0.054539776772670794, -0.04340628625841694, 0.0030408677991743847, -0.0014506033068834923, -0.030844905439595054, 0.005539982192481363, -0.0006244956705199572, -0.017643416396129773, 0.006840306845177116, 0.009386964735549085, 0.018795492287680855, 0.0013914999745502368, 0.0074483481419866165, 0.01959829952320017, -0.004991314764571497, -0.003979377224267757, 0.0024321485454478907, 0.0008217767377154555, -0.0029935312033722485, 0.004513243782219998, -0.0049966026563663364, 0.04269953737907575, 0.03843581369071535, -0.0019927033252090127, 0.030717430967556664, 0.04672251339080835, 0.05886954812443933, 0.047060196483416236, 0.03943751110310802, 0.04740955643286511, 0.04408073960253317, 0.027594603659100086, 0.046848938034363824, -0.015490048503286108, 0.04654396979677882, 0.03722842709794788, 0.043172975710076555, -0.004786178109031851, 0.016868916374969862, 0.05225748303125428, 0.049696955253326666, 0.04287495034652329, 0.07075270972563351, 0.01887550370512695, 0.004802582810385879, 0.007393432736556137, 0.047098293131601826, 0.01496270426852153, 0.03721628178747963, 0.03671310890062127, -0.0021934510652599788, 0.0165922993870085, 0.004460037681224216, -0.02285263232530365, -0.029805896343889356, -0.032640252400040703, -0.021817525223318108, -0.059768835344669806, -0.0272977739942973, -0.01511065385004654, -0.03573126370208849, -0.06068288101371463, -0.011693288741406516, -0.02862529228293785, -0.04886312435958443, -0.049120690646050416, -0.04943019346017764, -0.031146138330855673, -0.04663885257525127, -0.04230842490531965, -0.0496282599661821, -0.046639183554794246, -0.03523017800647906, -0.025629231422811333, -0.0399904268386119, -0.03783642756675565, -0.020657498662705748, -0.01785905919118984, -0.027415416452693322, -0.015986292732025287, -0.00647351848222973, -0.0038910530363302645, -0.025902328630699085, 0.01599089813508595, -0.011086395979833923, 0.019380107891313763, 0.028763780269069797, 0.04591099979024971, 0.045934125804080884, 0.051493661762975755, 0.04557980357638386, 0.030387378748981207, 0.04067629734819366, 0.029070816928821717, 0.06580918366517864, 0.05283759594903942, 0.0010589351141591233, 0.0370286401525169, 0.0738037614525943, 0.034832862258230964, 0.07332931827232488, 0.05033608757318421, 0.07060737415486437, 0.06666802531939023, 0.03095976459449234, 0.014572099927126698, 0.06460587812780635, 0.06156693803045339, -0.0163354732906102, -0.02164296177811309, -0.02839884291530505, -0.029441353336641992, -0.05131755586497442, -0.0625966170090036, -0.04740337871509102, -0.04470909066561222, -0.039201007276194966, -0.030550315134354123, -0.03674734105626712, -0.03879745474134705, -0.0364580757394249, -0.0597737537792062, -0.0649438113104057, -0.04356615319678773, -0.03708331446362188]}, {\"hoverlabel\": {\"namelength\": 0}, \"hovertemplate\": \"<b>%{hovertext}</b><br><br>color=Ib<br>ica1=%{x}<br>ica2=%{y}<br>ica3=%{z}\", \"hovertext\": [6.0, 8.0, 10.0, 17.0, 19.0, 20.0, 22.0, 38.0, 42.0, 44.0, 46.0, 49.0, 64.0, 66.0, 72.0, 75.0, 78.0, 80.0, 83.0, 86.0, 88.0, 97.0, 101.0, 105.0, 111.0, 112.0, 114.0, 148.0, 152.0, 153.0, 158.0, 159.0, 160.0, 163.0, 164.0, 165.0, 166.0, 170.0, 172.0, 173.0, 174.0, 185.0, 187.0, 190.0, 192.0, 193.0, 199.0, 200.0, 210.0, 254.0, 255.0, 256.0, 257.0, 258.0, 259.0, 260.0, 261.0, 263.0, 266.0, 272.0, 278.0, 279.0, 292.0, 295.0, 299.0, 300.0, 301.0, 305.0, 312.0, 320.0, 326.0, 336.0, 339.0, 343.0, 345.0, 346.0, 347.0, 348.0, 349.0, 354.0, 357.0, 360.0, 366.0, 376.0, 387.0, 389.0, 392.0, 393.0, 395.0, 396.0, 400.0, 402.0, 403.0, 406.0, 408.0, 409.0, 414.0, 418.0, 432.0, 442.0, 444.0, 472.0, 482.0, 484.0, 489.0, 514.0, 516.0, 519.0, 524.0, 525.0, 526.0, 529.0, 530.0, 531.0, 534.0, 568.0, 657.0, 666.0, 700.0], \"legendgroup\": \"color=Ib\", \"marker\": {\"color\": \"gold\", \"opacity\": 0.5, \"symbol\": \"circle\"}, \"mode\": \"markers\", \"name\": \"color=Ib\", \"scene\": \"scene\", \"showlegend\": true, \"type\": \"scatter3d\", \"x\": [0.029349842533494038, 0.025076234298316118, 0.0516501079485626, 0.051472327471101254, 0.05817513014197478, 0.02231820587144822, 0.042056153064228906, 0.013843510737095064, 0.03318820447233218, 0.06682049239485122, 0.037055190442980494, -0.004197567322328215, 0.06274251542904082, 0.028310942063265537, 0.0008108756478884847, 0.012269381516727974, 0.05923501548047691, 0.044904609630008065, 0.06278647457987596, 0.055534612464055555, 0.03927307946554154, 0.029223279175581957, 0.05104232552307968, 0.03540995285042146, 0.02781449899249614, 0.037783183554887516, 0.034791762642832715, -0.00496339911776392, 0.03993928954178896, 0.029359515609600314, 0.03654438309773792, 0.04154438305709414, 0.05259887845613704, 0.05998761241311793, 0.04926384332528743, 0.051253720219339056, 0.00737180460061197, 0.05185405250389041, 0.056325980420412015, 0.054223783117691396, 0.05653586255975116, 0.03286579739296669, 0.03614272328799501, 0.030124228920376594, 0.02806931948636376, 0.03971480172057171, 0.030090731643703, 0.07053633382374337, 0.0016773330056154604, 0.035064268051194905, 0.041001783249549284, 0.038638627470715024, 0.03009454437391787, 0.019802302722871326, 0.04514717213153052, 0.036204645744992346, 0.03422545780228594, 0.01669233040811482, 0.03254549702576828, 0.04021364152301022, 0.054446081768260164, 0.0630690867664007, 0.02892405808747844, 0.04897898368213849, 0.050283456543346004, 0.027403334163656316, 0.03364776857197745, 0.01605508304899135, 0.011895888795010766, -0.013656924297934258, -0.016381603981683708, 0.021811965997067587, 0.014742595363444608, 0.07704739364756999, 0.06891304076419794, 0.013037996547689178, 0.05207352093084994, 0.033327622122022116, -0.01780599410529498, 0.061992853797518975, 0.05566479008928525, 0.041103452228995925, 0.025974377509933155, -0.011588326794261146, 0.032601908922561845, 0.022838471313711715, 0.02831024773926469, 0.04991336852284352, 0.005008928559622874, 0.03722352689950463, 0.045905445603880234, 0.052579479689592167, 0.05174985221469999, 0.04413302903166014, 0.05959082568881189, 0.059084413182499615, 0.06928111023401311, 0.006109434514038474, 0.010196062040231673, 0.009942381444114306, -0.025646991206381784, 0.036198188168029964, 0.058022792445461234, 0.04567863439290921, 0.028175146329008693, -0.02137731415003339, -0.013195989881138256, -0.015518487932004936, 0.009890969478024467, 0.02508498029253885, 0.009605190813397895, 0.06231328018142427, 0.03793248909366383, 0.05701176453768683, 0.05678954600883608, 0.018707182546053445, 0.007826387852274961, -0.006552187668628481, 0.07416664937284449], \"y\": [0.010819126189672722, 0.009269894040777592, 0.01755321964283809, -0.006269983214249387, 0.02771508745252072, 0.1594419331780782, -0.014169021806527968, -0.004739763229199418, -0.004155406177773095, 0.023591780704838347, -0.0019392426022675638, 0.012110543373150933, -0.05811750856614744, -0.04108557744015809, 0.015170282010667955, 0.016228641258359273, -0.04462446179382464, 0.022370890990961494, 0.021262738612646045, -0.005683285622750076, 0.013558301962321648, -0.01862535354385962, 0.0107256884427318, -0.01985221422373208, -0.007252801037493992, -0.03280142213179431, -0.004424985430876887, -0.001939788324669232, 0.001250232896172958, 0.020746751875789567, 0.015606447944889608, 0.007565951412260341, -0.001976719843560864, 0.05240276378997746, 0.05528899716923877, 0.08385917237653588, 0.0008529582644607717, 0.0659072044634479, -0.013922961532344031, -0.002870577700248358, 0.04022086654869878, -0.023826059218244225, -0.013756337571698085, -0.0172034694804252, -0.017472533201413013, 0.005057263328984905, 0.03561730334410415, -0.026121440065356646, -0.022578597978829083, -0.0030873414605468224, 0.0011649639329589412, -0.009082484512667029, 0.012649369775072812, 0.011483999456106972, 0.017100505664690905, 0.09347246663359578, 0.007748198141024644, 0.008754212981886394, -0.006028421212243059, -0.015956410400242437, -0.04434172671137126, -0.029083999957598177, 0.007819449061955589, -0.04264237481643717, -0.03672634014300366, -0.046715812559472075, -0.050306481057547585, -0.02339373371311169, 0.002622601272505929, -0.021245415684486003, 0.0008346370713695727, 0.021527337780560752, -0.00999555767921656, 0.050678065861207544, 0.04396848415164706, 0.07546546766484091, -0.016297877758857045, -0.013603157772091347, 0.00920169283684691, -0.06620607184246614, -0.05107998170018069, 0.00939798856286341, 0.0028715145225728217, 0.011557124683599873, -0.009786709742210723, -0.014490629300661952, 0.008418607296935377, -0.011393404058705701, 0.008337991530216885, -0.004224453645493159, -0.04445703881597495, -0.04572564421411991, -0.0257072411238015, 0.04866361368722185, -0.02321567291179618, -0.03114314964552526, -0.02490989009365203, -0.004219795304714126, -0.02952399287885569, -0.0222038867357461, -0.0021209254230649026, 0.00012812562038028773, -0.03308480201599757, -0.06377842845239881, -0.04270648367598952, -0.016308572218103074, -0.030411673329537425, -0.016501315030653597, -0.003456264540284478, -0.031333126677198425, 0.03283002959508558, -0.019240470460588514, 0.020900822353550185, 0.022937510979851222, -0.013287870170537537, -0.06155217500300493, 0.0095695962105767, -0.015762901464480658, -0.02358951032645599], \"z\": [0.05295394140084901, 0.038756499708452, 0.03867327194121109, 0.0013772341972595665, -0.005406094164230467, 0.010813330435507765, -0.00208383087832859, -0.05726821605468022, -0.024089935331450974, 0.022155247159321392, 0.028606626277246278, -0.016682403722084946, -0.03395937020693576, -0.06391911216133618, 0.026154898958701975, 0.021690817650351173, 0.041651646826552875, 0.034102977369770845, 0.04836752708361941, 0.02191541307051753, 0.010195075872284477, -0.005247895314355347, -0.014406981040485146, -0.046453980407440865, -0.04102771368302733, -0.030374498244005406, -0.035678480452917896, 0.037284094085844266, 0.02430742042367968, 0.02961897557398449, 0.04660269288600331, 0.03850934639637127, 0.046542213635494496, 0.04929304508332889, 0.048610317308114256, 0.049185543023891, 0.02791839610966871, 0.022765098394336804, 0.02531858535647862, 0.028707161648811094, 0.038087979143655984, 0.0025419217090726512, -0.003532211771281617, -0.0013489566045824272, 4.632077733634541e-05, -0.005896083988477892, -0.03344174849436072, -0.029625279163761047, 0.011386857021837555, 0.05193180983419838, 0.04484469193163283, 0.045513373486457544, 0.04677056453395149, 0.04609350202631225, 0.04215544526684319, 0.045857247913026644, 0.0336036395922669, 0.020842681904920134, 0.02619470065283054, -0.017664636235240106, -0.042276123639737366, -0.030409836784056808, -0.04845765183833525, -0.02606615591642992, -0.016153561347855398, -0.02428544535441501, -0.0275247983758671, -0.02888963191095207, -0.018257565862085427, 0.02194959005956119, 0.03160171333356187, 0.05504364923032021, 0.04787329391561836, 0.0571725676998661, 0.026773182361574506, 0.012736596744134108, 0.01508079533682922, 0.018667047452538096, -0.02380516420078351, -0.033096017661345005, -0.03203606951857732, -0.04436049924637993, -0.043964123412825726, -0.028960427460545772, 0.028589555864456283, 0.0340699666414905, 0.026157052210500045, 0.02151500882594763, 0.022512277655335, 0.03070600524670914, 0.028371792373036147, 0.036620873669339096, 0.03843702320669223, 0.0250752346649606, 0.024909206416235296, 0.014063807677697033, 0.0034198282718715086, -0.014627484686589044, -0.02612865333144441, 0.06427503154395102, 0.03818613189767241, 0.038684008167398046, -0.034574476244079416, -0.032600778615354375, -0.0403385556531818, 0.0637900148486365, 0.05722336634226616, 0.06058988710467385, 0.0661425013381482, 0.06009679886571626, 0.050850136514841056, 0.05002924638520596, 0.044179833006541706, 0.03959762173172685, -0.014826771759798083, 0.018859681750777856, -0.024805501349497328, 0.017655448521356743, 0.018179134695489204]}, {\"hoverlabel\": {\"namelength\": 0}, \"hovertemplate\": \"<b>%{hovertext}</b><br><br>color=II<br>ica1=%{x}<br>ica2=%{y}<br>ica3=%{z}\", \"hovertext\": [7.0, 14.0, 15.0, 16.0, 21.0, 23.0, 24.0, 30.0, 32.0, 40.0, 47.0, 48.0, 52.0, 53.0, 55.0, 56.0, 59.0, 63.0, 65.0, 73.0, 77.0, 82.0, 84.0, 85.0, 87.0, 89.0, 91.0, 96.0, 100.0, 102.0, 103.0, 110.0, 115.0, 116.0, 118.0, 120.0, 121.0, 122.0, 126.0, 128.0, 134.0, 145.0, 149.0, 150.0, 151.0, 154.0, 157.0, 169.0, 175.0, 177.0, 181.0, 182.0, 183.0, 184.0, 186.0, 189.0, 191.0, 194.0, 197.0, 198.0, 202.0, 206.0, 207.0, 211.0, 212.0, 218.0, 251.0, 264.0, 269.0, 270.0, 274.0, 275.0, 277.0, 294.0, 296.0, 297.0, 298.0, 304.0, 310.0, 311.0, 338.0, 344.0, 353.0, 356.0, 368.0, 374.0, 377.0, 386.0, 388.0, 390.0, 391.0, 398.0, 401.0, 405.0, 410.0, 412.0, 415.0, 416.0, 425.0, 433.0, 434.0, 435.0, 436.0, 443.0, 447.0, 448.0, 449.0, 461.0, 462.0, 467.0, 468.0, 469.0, 470.0, 471.0, 473.0, 474.0, 475.0, 476.0, 477.0, 478.0, 480.0, 485.0, 492.0, 493.0, 495.0, 497.0, 512.0, 515.0, 518.0, 527.0, 528.0, 532.0, 533.0, 537.0, 544.0, 556.0, 557.0, 560.0, 562.0, 563.0, 564.0, 565.0, 567.0, 613.0, 614.0, 615.0, 616.0, 617.0, 618.0, 620.0, 621.0, 624.0, 625.0, 628.0, 633.0, 647.0, 653.0, 654.0, 655.0, 667.0, 668.0, 669.0, 672.0, 679.0, 697.0, 698.0, 701.0, 710.0, 712.0, 713.0, 714.0, 716.0, 717.0], \"legendgroup\": \"color=II\", \"marker\": {\"color\": \"darkgreen\", \"opacity\": 0.5, \"symbol\": \"circle\"}, \"mode\": \"markers\", \"name\": \"color=II\", \"scene\": \"scene\", \"showlegend\": true, \"type\": \"scatter3d\", \"x\": [0.059569659275847904, 0.014973801959410985, 0.03010056305828079, 0.043405627245417064, 0.01920173680929928, 0.015834070703923193, 0.05243695960675507, 0.014325193943540471, 0.032012747699089676, 0.035798602980260844, 0.011049087886384201, -0.004587274780552517, 0.034985887163429395, 0.06280822047360313, 0.004997693381879071, 0.021146842057993605, 0.00035581910881238884, 0.021636328527220805, -0.019325171500176888, 0.01927632604112838, 0.04323425499136267, 0.0667816385581889, -0.0026423740661199657, 0.024247489509088196, -0.02784410144334014, 0.050937947308580506, 0.039028863502219895, 0.0458009011113423, 0.04866976008012711, -0.00492352693767002, 0.01218640862321389, 0.001963146553917313, 0.04554220271150346, -0.005415393896759302, 0.019267952734420103, 0.03528544632692513, 0.0031426328803691823, -0.021228642124336793, -0.0036787515982693647, -0.012911516186930701, -0.057341693012215623, -0.02471371593543304, 0.012935829491261878, 0.023116936515652227, 0.0055911684620992535, 0.03835203250027226, 0.034581312428557505, 0.03809867859716079, 0.058514088850642236, 0.050692335324886435, 0.05096273182784469, 0.013040834467872672, 0.048420589395437856, 0.061327602556252914, -0.012977727189142946, 0.06745793134256274, 0.0254475624077721, 0.015209162172745306, 0.0362479223123696, 0.06330904213755567, 0.03043726021009188, 0.010820437360112857, 0.03644217489658013, -0.030478049090302634, -0.025955556829437253, -0.02708758681991544, -0.001790685813619432, 0.034215221358084656, 0.012793285255145642, 0.05924742407254361, 0.06465808811627502, 0.06000916505282992, 0.0020432823716751533, 0.02248272424205364, 0.05714314059954969, 0.032657055658054705, 0.030973478287522716, 0.026849037150116443, 0.022110991609107084, 0.019187037300809884, -0.013681122913674943, 0.05177043911031833, 0.030106632922238145, 0.0426514432120568, 0.03639529880894169, 0.024524154690157094, 0.016823420324969543, 0.040929895900934, 0.039245518054186454, 0.03745407685251804, 0.027537911449059652, 0.05177649606587099, 0.029356841596935527, 0.02421350068179454, 0.003999946838333048, 0.03773617133014789, 0.0753072038445279, 0.05689100964325829, 0.030578799021766263, 0.021136790667129503, -0.004334948172298953, -0.0011829854081539823, -0.030625219532716345, -0.039025716842338486, -0.040219416134019616, -0.007705302738058622, -0.0016883661097214758, 0.030849711182354796, 0.03162937367380942, 0.02170358406806416, 0.03512228768506707, 0.05571449628334853, 0.05251310386604836, 0.010193964405857191, 0.02089332893082118, 0.05475228828220669, 0.03516880022248333, 0.05998034963079138, -0.031652115332561355, 0.04369487790006641, -0.007630187518958139, 0.010556769630507145, 0.010185224622389267, -0.00407933733559345, 0.016008363755082793, -0.005386175987436905, -0.007352515867260248, -0.01475340390618184, -0.010003354316027195, 0.013319319342752784, 0.0567962732053799, 0.05028312569607772, 0.059108659356547105, 0.047097994537336735, 0.02737843081457586, 0.035601721329677156, 0.041628072712073846, -0.0027841296975052695, 0.030052901866441675, 0.015784354237475536, -0.008179134194597199, 0.015869332650478775, 0.017598747510958114, 0.01619595517264488, 0.01086418313778091, -0.012682631238344304, 0.030973486428426827, 0.04008071102977685, 0.02730535021128669, 0.038643794869205925, 0.004776185089910667, 0.06379728091794541, 0.04628351193984505, 0.05886009244591248, 0.049912248814909986, 0.05695089012932952, 0.00883043702853554, 0.005937482407375389, 0.008211903571967903, 0.0023716257967739047, -0.000584123411847953, 0.00429800181827409, -0.006089928446517264, -0.03737945670107512, 0.034539418296334425, 0.03436422882553127, -0.00397671540581136, -0.06437932153082089, 0.028259951933055857, 0.022690676604989374, 0.018034256911311174, 0.007401626533913033, 0.026409518797299854], \"y\": [0.015404209653807099, 0.043958385250072105, 0.0021375973104642266, 0.058699907994233975, 0.021994405193135745, -0.018866337846868232, -0.03115411346377153, 0.03592229077382445, -0.04049347618457834, -0.024678620669276178, -0.04214622948216581, 0.03800472674612596, -0.006964202605803379, -0.02174468729824376, 0.005986663633865486, 0.036297437237654905, 0.048043614310705744, -0.041148491954636504, -0.0018190436138942772, 0.006253697352576366, -0.06744104405780664, 0.04993126768197693, 0.0044146093677519555, -0.015181039384136641, 0.03559660094832597, 0.014062170623764029, 0.03137191696399267, 0.021270960665577956, 0.02665279991336901, 0.012935471784903953, -0.006496685796774104, 0.08052180148896251, -0.03509485250195455, -0.02030394084378387, -0.002258472428065293, -0.037724345191914505, 0.0008960600022947011, -0.014546499903385697, -0.040218793502618935, -0.04209678483714916, 0.008248878825893027, -0.007273154801536373, -0.018282679233954553, -0.027065484085396514, -0.007981832344070183, -0.0013131594029156786, 0.008262371572069183, 0.007362831113143764, 0.0243786215882103, 0.018941093786954348, -0.023800423317120747, 0.01237843847565904, -0.024989882841735523, -0.017327690887713625, -0.01342490115062274, -0.021585396811700644, -0.009874436651956236, 0.024683600607365134, 0.01236251032210487, -0.021826346517985068, 0.015252333370150533, -0.005648950552989403, -0.03604150868765964, -0.022115338947205333, -0.017700409269585778, -0.007746588501450423, -0.010266989371736868, 0.0008671430066768524, 0.006175909079610598, -0.005484296056207641, -0.030387033472477603, -0.004265813832614019, -0.0325375850267875, -0.03256672477330818, -0.04718262328861534, -0.039510896984792404, -0.035477604012248226, -0.0552882571919776, -0.040871651637870425, -0.03133595438284831, 0.01710443161730399, 0.06217847823967415, 0.07178574205058211, -0.06108919137339555, -0.015849935240593836, -0.03024319055095042, -0.011507962932189222, 0.0502008160202167, -0.030017630979762795, -0.025168526848481067, -0.04073158417436233, -0.03828739391433841, -0.02428491951868117, 0.01878010042650755, 0.035110368095117486, 0.012643593106435598, -0.005972661019541526, -0.025118934181660082, -0.04384971394426888, -0.05550685330930898, -0.028323339278871686, -0.04185080266328056, 0.003152577143729712, 0.0072774949247428385, 0.028894953845070875, -0.0003627188718448349, 0.007485723620675679, -0.006662380224116615, 0.055855591064783223, 0.007306980338962133, 0.013224302266634893, 0.019348261910885928, 0.024026719885735126, 0.04473766820968618, -0.016896693014109877, 0.029445348915268395, 0.020336975845043574, 0.011430007377347923, -0.0498447325523666, 0.0015064338779513398, -0.0062615031107220226, -0.052992235461560774, -0.04522832308592925, -0.04168530734119785, -0.04243602428577115, -0.047487750579209925, -0.026417546247419144, -0.029168773163434945, 0.002532459873026162, 0.015199157932637134, -0.01879097710554135, 0.05017661419032856, 0.04990494596617326, -0.027507953200613576, -0.028900414795031644, -0.011534857830200093, -0.015530124283711729, 0.0895703238662563, -0.03632268218405233, -0.04141759542458302, -0.04288022662779327, -0.05343612319392028, -0.07366875481834272, -0.016430174078764924, -0.007459383007178588, 0.005954615095992555, -0.010631245909888733, -0.0067491037741842135, 0.015574455498819657, 0.0032515077258537905, 0.0015731718519062712, -0.044350513800565664, -0.029518487309420725, 0.07701346054424395, 0.03831769470599413, -0.04197654846424459, -0.05128219965065906, -0.03593661895507199, -0.041355227154241087, -0.022272788431083858, -0.037596771195274346, -0.011285734841618603, -0.01787297156794362, -0.04369315503311709, 0.01722063436946544, -0.02509148969506504, 0.008707466075897593, 0.05460840960338141, 0.028075175934602247, 0.041790493428877855, 0.023658731483374194, -0.06856367873683464, -0.06499059872557694], \"z\": [0.05778675124746236, 0.0064843387535559, 0.02145948591563389, 0.011727505896297619, -0.021716685554560612, -0.008410506729709145, -0.00423119249076376, -0.037896164317440466, -0.05031589402314322, -0.03964307679173741, -0.0031584751647360135, -0.013277972861181556, -0.029795046079928635, -0.029291320007359522, -0.042251372023908815, -0.05664247631035767, -0.054086952135035886, -0.06979966232325602, -0.055924498094344174, 0.0404184659917961, 0.029387468170641324, 0.042219690784782375, 0.021897730667117313, 0.019481543791939903, -0.000841439507460849, 0.015564581301512902, 0.006864520238897068, -0.003872423632971463, -0.01172516827777175, -0.016239501162869006, -0.04819618256262878, -0.04206481446663181, -0.0313564644984745, -0.034936980672198775, -0.028631228540190304, -0.022594928608801284, -0.016551908619629276, -0.031074844508761856, 0.020347951196584713, 0.013357466411573558, 0.01115175455596817, 0.013792349571038212, 0.05424654188768681, 0.047701404863031475, 0.031056324272112294, 0.00866472473101259, 0.02604801919863187, -0.01660058529986418, 0.037774881327499614, 0.030790510158288095, 0.028564444698008618, 0.01378756554456865, 0.022375952212286106, 0.01398260718763777, -0.007691071849421356, 0.011918085561513905, -0.0006929926737947109, -0.009747980433114376, -0.027638724775125526, -0.03151123925959309, -0.04144627299289748, -0.05902939728203412, -0.025795175804210056, 0.008187517782345522, 0.03229301274989959, 0.03307727638184602, 0.06631963672696548, 0.03326088196693531, 0.009126560250345646, 0.016898314870927557, -0.02030867827215689, -0.015607181932415285, -0.03361210141337955, -0.029174323147816855, -0.036322112439121805, -0.02934728085921785, -0.03892629561347303, -0.01066512838410073, -0.02318387231348839, -0.04153270145819415, 0.047819902868652266, 0.014010303615077893, -0.021503861250918643, -0.034360088507830434, -0.050267795892657154, -0.03170684956843891, -0.03037985308950224, 0.0383102188625777, 0.044965889665951365, 0.04100795916802723, 0.0370537057178225, 0.02608908312963444, 0.029661882036699044, 0.012219831626711445, 0.003991128166408206, 0.0030013951756404506, -0.0031941309673209632, -0.0032009285967754693, -0.036818091130760046, -0.03302461556504101, -0.03204893241174535, -0.0307218409973035, 0.013877276720860608, 0.036861520384215835, 0.03369693180103453, 0.04186918479120488, 0.04289866241680604, 0.050515800849959255, 0.06781426169788544, 0.004194680136631605, 0.04922820940150205, 0.03944002449672525, 0.036887457567836526, 0.024055402899663476, 0.02355226029747567, 0.036659123651847064, 0.04109531888515299, -0.0007327275709134534, -0.026571225341303007, -0.004824482094834314, -0.019295106393927747, -0.03164393108577059, -0.026842403773517935, -0.02629331529049892, -0.011588978811964063, 0.019406740332308863, 0.0375960025965148, 0.05949693419312755, 0.05386022558798669, 0.05219421228136096, 0.05956173281492453, 0.036690021718727386, 0.0403867680079812, 0.00017875418773492696, -0.023982611258042654, -0.03989791545500106, -0.036692245418073005, -0.017070965335557645, -0.033238315575475935, -0.009238047915820223, -0.016933118659595122, 0.006062237320411311, 0.012369073321499096, 0.0708650338339206, 0.05818933791381936, 0.04655127730520752, 0.057532053432982636, 0.06361906452744048, 0.05707841799494159, 0.042175602622966685, 0.032516649839940286, 0.03185632759998865, 0.02905380674458663, 0.025831075385736542, -0.01630913194998146, -0.01845119524274406, -0.02495419493038794, -0.03129449104847932, -0.008765479485123831, 0.012457185993383862, 0.008519044010555662, 0.005885730338328933, 0.024278917245985344, 0.06015096109348858, 0.015696627340850308, 0.010704605903398336, -0.02542342268188506, -0.06676435829567992, -0.034347947494556885, -0.0511986995760799, -0.053476747456378905, -0.04965953396815192, -0.04090220045489407]}, {\"hoverlabel\": {\"namelength\": 0}, \"hovertemplate\": \"<b>%{hovertext}</b><br><br>color=Ia<br>ica1=%{x}<br>ica2=%{y}<br>ica3=%{z}\", \"hovertext\": [9.0, 41.0, 70.0, 74.0, 76.0, 90.0, 95.0, 113.0, 124.0, 125.0, 161.0, 162.0, 167.0, 168.0, 176.0, 180.0, 205.0, 220.0, 221.0, 222.0, 223.0, 224.0, 225.0, 226.0, 227.0, 228.0, 229.0, 230.0, 253.0, 271.0, 285.0, 335.0, 375.0, 394.0, 411.0, 445.0, 522.0, 523.0], \"legendgroup\": \"color=Ia\", \"marker\": {\"color\": \"cyan\", \"opacity\": 0.5, \"symbol\": \"circle\"}, \"mode\": \"markers\", \"name\": \"color=Ia\", \"scene\": \"scene\", \"showlegend\": true, \"type\": \"scatter3d\", \"x\": [0.0483258850995016, 0.03533494531769443, 0.054343505237835744, 0.055762892106024434, 0.03930731784863526, 0.06730836429943546, 0.025938289557005462, 0.04445188312060023, 0.017103887609015368, 0.009408534029701982, 0.06456547867768393, 0.06867124236998201, 0.04285960239692073, 0.06680732232280868, 0.07500597290099598, 0.05562652553794613, -0.03700498648589506, -0.027814585343205064, -0.043712721770785605, -0.05294080057730964, -0.04346434606878315, -0.06308028911199916, -0.03388925089271934, -0.024676657533410192, -0.04077577482745594, -0.03244556498304534, -0.034577040371074876, -0.0284160755898532, 0.025397139659881003, 0.06482370484613587, 0.0610657848550907, 0.035111334974812024, 0.042335649854722775, 0.04048265811614351, 0.034006394515381434, -0.017884948035680002, 0.026292658468127658, 0.00916317524308715], \"y\": [0.006373761777375441, -0.054998501859264026, -0.07275752156990223, -0.021472915008133444, 0.0025987969024204253, 0.020188689247609214, -0.011964961261434327, -0.058884438400394784, -0.05064011779591643, -0.03133222382479637, -0.02952891755232445, -0.0008361883445025561, -0.010345573039375007, -0.01538403549778069, 0.011481660457779335, -0.027799218237877576, 0.017511303300508655, -0.03646127927918307, -0.016758496730504457, -0.02736413756841366, -0.003828223982200918, -0.03899814745890575, -0.018014534784462712, -0.01877633569659229, -0.0021109805775115092, -0.021518797486864947, -0.01926001321253978, -0.013521887937896975, 0.0025060478617402317, 0.022759865315908224, -0.036305328066343526, 0.0030307764558520633, -0.05608473160636528, 0.013013171089759086, 0.008391004346431316, -0.0008098184074667475, -0.025773569175931585, -0.01847324609460462], \"z\": [0.04244757925720967, -0.030255443508608607, -0.05063307974328734, 0.043106606335272184, 0.03656438470984324, 0.021914998422091565, -0.014878462172840353, -0.04380543432746339, 0.014578123819911467, 0.020632852205413933, 0.05471448932266113, 0.036662402505281376, 0.03500229147908832, 0.03828157186180939, 0.04144888991923083, 0.022881946608843688, -0.10040490166550882, 0.012334690358126772, 0.0069412062057549965, -0.015834009344669487, 0.01681294421493905, -0.009149011225434793, 0.03393667608878078, 0.04361128975948225, 0.018693306850507824, 0.03775357121951655, 0.029740869675122527, 0.022073523583263387, 0.051592256359803954, 0.01898373862948524, -0.03231900940344341, 0.04292283472190163, -0.008330879805494202, 0.009506161161731155, 0.022794549825818862, 0.05523686181198263, 0.052808138813780485, 0.05165877412041566]}],\n",
              "                        {\"legend\": {\"tracegroupgap\": 0}, \"margin\": {\"t\": 60}, \"scene\": {\"domain\": {\"x\": [0.0, 1.0], \"y\": [0.0, 1.0]}, \"xaxis\": {\"title\": {\"text\": \"ica1\"}}, \"yaxis\": {\"title\": {\"text\": \"ica2\"}}, \"zaxis\": {\"title\": {\"text\": \"ica3\"}}}, \"template\": {\"data\": {\"bar\": [{\"error_x\": {\"color\": \"#2a3f5f\"}, \"error_y\": {\"color\": \"#2a3f5f\"}, \"marker\": {\"line\": {\"color\": \"#E5ECF6\", \"width\": 0.5}}, \"type\": \"bar\"}], \"barpolar\": [{\"marker\": {\"line\": {\"color\": \"#E5ECF6\", \"width\": 0.5}}, \"type\": \"barpolar\"}], \"carpet\": [{\"aaxis\": {\"endlinecolor\": \"#2a3f5f\", \"gridcolor\": \"white\", \"linecolor\": \"white\", \"minorgridcolor\": \"white\", \"startlinecolor\": \"#2a3f5f\"}, \"baxis\": {\"endlinecolor\": \"#2a3f5f\", \"gridcolor\": \"white\", \"linecolor\": \"white\", \"minorgridcolor\": \"white\", \"startlinecolor\": \"#2a3f5f\"}, \"type\": \"carpet\"}], \"choropleth\": [{\"colorbar\": {\"outlinewidth\": 0, \"ticks\": \"\"}, \"type\": \"choropleth\"}], \"contour\": [{\"colorbar\": {\"outlinewidth\": 0, \"ticks\": \"\"}, \"colorscale\": [[0.0, \"#0d0887\"], [0.1111111111111111, \"#46039f\"], [0.2222222222222222, \"#7201a8\"], [0.3333333333333333, \"#9c179e\"], [0.4444444444444444, \"#bd3786\"], [0.5555555555555556, \"#d8576b\"], [0.6666666666666666, \"#ed7953\"], [0.7777777777777778, \"#fb9f3a\"], [0.8888888888888888, \"#fdca26\"], [1.0, \"#f0f921\"]], \"type\": \"contour\"}], \"contourcarpet\": [{\"colorbar\": {\"outlinewidth\": 0, \"ticks\": \"\"}, \"type\": \"contourcarpet\"}], \"heatmap\": [{\"colorbar\": {\"outlinewidth\": 0, \"ticks\": \"\"}, \"colorscale\": [[0.0, \"#0d0887\"], [0.1111111111111111, \"#46039f\"], [0.2222222222222222, \"#7201a8\"], [0.3333333333333333, \"#9c179e\"], [0.4444444444444444, \"#bd3786\"], [0.5555555555555556, \"#d8576b\"], [0.6666666666666666, \"#ed7953\"], [0.7777777777777778, \"#fb9f3a\"], [0.8888888888888888, \"#fdca26\"], [1.0, \"#f0f921\"]], \"type\": \"heatmap\"}], \"heatmapgl\": [{\"colorbar\": {\"outlinewidth\": 0, \"ticks\": \"\"}, \"colorscale\": [[0.0, \"#0d0887\"], [0.1111111111111111, \"#46039f\"], [0.2222222222222222, \"#7201a8\"], [0.3333333333333333, \"#9c179e\"], [0.4444444444444444, \"#bd3786\"], [0.5555555555555556, \"#d8576b\"], [0.6666666666666666, \"#ed7953\"], [0.7777777777777778, \"#fb9f3a\"], [0.8888888888888888, \"#fdca26\"], [1.0, \"#f0f921\"]], \"type\": \"heatmapgl\"}], \"histogram\": [{\"marker\": {\"colorbar\": {\"outlinewidth\": 0, \"ticks\": \"\"}}, \"type\": \"histogram\"}], \"histogram2d\": [{\"colorbar\": {\"outlinewidth\": 0, \"ticks\": \"\"}, \"colorscale\": [[0.0, \"#0d0887\"], [0.1111111111111111, \"#46039f\"], [0.2222222222222222, \"#7201a8\"], [0.3333333333333333, \"#9c179e\"], [0.4444444444444444, \"#bd3786\"], [0.5555555555555556, \"#d8576b\"], [0.6666666666666666, \"#ed7953\"], [0.7777777777777778, \"#fb9f3a\"], [0.8888888888888888, \"#fdca26\"], [1.0, \"#f0f921\"]], \"type\": \"histogram2d\"}], \"histogram2dcontour\": [{\"colorbar\": {\"outlinewidth\": 0, \"ticks\": \"\"}, \"colorscale\": [[0.0, \"#0d0887\"], [0.1111111111111111, \"#46039f\"], [0.2222222222222222, \"#7201a8\"], [0.3333333333333333, \"#9c179e\"], [0.4444444444444444, \"#bd3786\"], [0.5555555555555556, \"#d8576b\"], [0.6666666666666666, \"#ed7953\"], [0.7777777777777778, \"#fb9f3a\"], [0.8888888888888888, \"#fdca26\"], [1.0, \"#f0f921\"]], \"type\": \"histogram2dcontour\"}], \"mesh3d\": [{\"colorbar\": {\"outlinewidth\": 0, \"ticks\": \"\"}, \"type\": \"mesh3d\"}], \"parcoords\": [{\"line\": {\"colorbar\": {\"outlinewidth\": 0, \"ticks\": \"\"}}, \"type\": \"parcoords\"}], \"pie\": [{\"automargin\": true, \"type\": \"pie\"}], \"scatter\": [{\"marker\": {\"colorbar\": {\"outlinewidth\": 0, \"ticks\": \"\"}}, \"type\": \"scatter\"}], \"scatter3d\": [{\"line\": {\"colorbar\": {\"outlinewidth\": 0, \"ticks\": \"\"}}, \"marker\": {\"colorbar\": {\"outlinewidth\": 0, \"ticks\": \"\"}}, \"type\": \"scatter3d\"}], \"scattercarpet\": [{\"marker\": {\"colorbar\": {\"outlinewidth\": 0, \"ticks\": \"\"}}, \"type\": \"scattercarpet\"}], \"scattergeo\": [{\"marker\": {\"colorbar\": {\"outlinewidth\": 0, \"ticks\": \"\"}}, \"type\": \"scattergeo\"}], \"scattergl\": [{\"marker\": {\"colorbar\": {\"outlinewidth\": 0, \"ticks\": \"\"}}, \"type\": \"scattergl\"}], \"scattermapbox\": [{\"marker\": {\"colorbar\": {\"outlinewidth\": 0, \"ticks\": \"\"}}, \"type\": \"scattermapbox\"}], \"scatterpolar\": [{\"marker\": {\"colorbar\": {\"outlinewidth\": 0, \"ticks\": \"\"}}, \"type\": \"scatterpolar\"}], \"scatterpolargl\": [{\"marker\": {\"colorbar\": {\"outlinewidth\": 0, \"ticks\": \"\"}}, \"type\": \"scatterpolargl\"}], \"scatterternary\": [{\"marker\": {\"colorbar\": {\"outlinewidth\": 0, \"ticks\": \"\"}}, \"type\": \"scatterternary\"}], \"surface\": [{\"colorbar\": {\"outlinewidth\": 0, \"ticks\": \"\"}, \"colorscale\": [[0.0, \"#0d0887\"], [0.1111111111111111, \"#46039f\"], [0.2222222222222222, \"#7201a8\"], [0.3333333333333333, \"#9c179e\"], [0.4444444444444444, \"#bd3786\"], [0.5555555555555556, \"#d8576b\"], [0.6666666666666666, \"#ed7953\"], [0.7777777777777778, \"#fb9f3a\"], [0.8888888888888888, \"#fdca26\"], [1.0, \"#f0f921\"]], \"type\": \"surface\"}], \"table\": [{\"cells\": {\"fill\": {\"color\": \"#EBF0F8\"}, \"line\": {\"color\": \"white\"}}, \"header\": {\"fill\": {\"color\": \"#C8D4E3\"}, \"line\": {\"color\": \"white\"}}, \"type\": \"table\"}]}, \"layout\": {\"annotationdefaults\": {\"arrowcolor\": \"#2a3f5f\", \"arrowhead\": 0, \"arrowwidth\": 1}, \"coloraxis\": {\"colorbar\": {\"outlinewidth\": 0, \"ticks\": \"\"}}, \"colorscale\": {\"diverging\": [[0, \"#8e0152\"], [0.1, \"#c51b7d\"], [0.2, \"#de77ae\"], [0.3, \"#f1b6da\"], [0.4, \"#fde0ef\"], [0.5, \"#f7f7f7\"], [0.6, \"#e6f5d0\"], [0.7, \"#b8e186\"], [0.8, \"#7fbc41\"], [0.9, \"#4d9221\"], [1, \"#276419\"]], \"sequential\": [[0.0, \"#0d0887\"], [0.1111111111111111, \"#46039f\"], [0.2222222222222222, \"#7201a8\"], [0.3333333333333333, \"#9c179e\"], [0.4444444444444444, \"#bd3786\"], [0.5555555555555556, \"#d8576b\"], [0.6666666666666666, \"#ed7953\"], [0.7777777777777778, \"#fb9f3a\"], [0.8888888888888888, \"#fdca26\"], [1.0, \"#f0f921\"]], \"sequentialminus\": [[0.0, \"#0d0887\"], [0.1111111111111111, \"#46039f\"], [0.2222222222222222, \"#7201a8\"], [0.3333333333333333, \"#9c179e\"], [0.4444444444444444, \"#bd3786\"], [0.5555555555555556, \"#d8576b\"], [0.6666666666666666, \"#ed7953\"], [0.7777777777777778, \"#fb9f3a\"], [0.8888888888888888, \"#fdca26\"], [1.0, \"#f0f921\"]]}, \"colorway\": [\"#636efa\", \"#EF553B\", \"#00cc96\", \"#ab63fa\", \"#FFA15A\", \"#19d3f3\", \"#FF6692\", \"#B6E880\", \"#FF97FF\", \"#FECB52\"], \"font\": {\"color\": \"#2a3f5f\"}, \"geo\": {\"bgcolor\": \"white\", \"lakecolor\": \"white\", \"landcolor\": \"#E5ECF6\", \"showlakes\": true, \"showland\": true, \"subunitcolor\": \"white\"}, \"hoverlabel\": {\"align\": \"left\"}, \"hovermode\": \"closest\", \"mapbox\": {\"style\": \"light\"}, \"paper_bgcolor\": \"white\", \"plot_bgcolor\": \"#E5ECF6\", \"polar\": {\"angularaxis\": {\"gridcolor\": \"white\", \"linecolor\": \"white\", \"ticks\": \"\"}, \"bgcolor\": \"#E5ECF6\", \"radialaxis\": {\"gridcolor\": \"white\", \"linecolor\": \"white\", \"ticks\": \"\"}}, \"scene\": {\"xaxis\": {\"backgroundcolor\": \"#E5ECF6\", \"gridcolor\": \"white\", \"gridwidth\": 2, \"linecolor\": \"white\", \"showbackground\": true, \"ticks\": \"\", \"zerolinecolor\": \"white\"}, \"yaxis\": {\"backgroundcolor\": \"#E5ECF6\", \"gridcolor\": \"white\", \"gridwidth\": 2, \"linecolor\": \"white\", \"showbackground\": true, \"ticks\": \"\", \"zerolinecolor\": \"white\"}, \"zaxis\": {\"backgroundcolor\": \"#E5ECF6\", \"gridcolor\": \"white\", \"gridwidth\": 2, \"linecolor\": \"white\", \"showbackground\": true, \"ticks\": \"\", \"zerolinecolor\": \"white\"}}, \"shapedefaults\": {\"line\": {\"color\": \"#2a3f5f\"}}, \"ternary\": {\"aaxis\": {\"gridcolor\": \"white\", \"linecolor\": \"white\", \"ticks\": \"\"}, \"baxis\": {\"gridcolor\": \"white\", \"linecolor\": \"white\", \"ticks\": \"\"}, \"bgcolor\": \"#E5ECF6\", \"caxis\": {\"gridcolor\": \"white\", \"linecolor\": \"white\", \"ticks\": \"\"}}, \"title\": {\"x\": 0.05}, \"xaxis\": {\"automargin\": true, \"gridcolor\": \"white\", \"linecolor\": \"white\", \"ticks\": \"\", \"title\": {\"standoff\": 15}, \"zerolinecolor\": \"white\", \"zerolinewidth\": 2}, \"yaxis\": {\"automargin\": true, \"gridcolor\": \"white\", \"linecolor\": \"white\", \"ticks\": \"\", \"title\": {\"standoff\": 15}, \"zerolinecolor\": \"white\", \"zerolinewidth\": 2}}}},\n",
              "                        {\"responsive\": true}\n",
              "                    ).then(function(){\n",
              "                            \n",
              "var gd = document.getElementById('969d35be-d48f-4379-8014-9b55de773e3a');\n",
              "var x = new MutationObserver(function (mutations, observer) {{\n",
              "        var display = window.getComputedStyle(gd).display;\n",
              "        if (!display || display === 'none') {{\n",
              "            console.log([gd, 'removed!']);\n",
              "            Plotly.purge(gd);\n",
              "            observer.disconnect();\n",
              "        }}\n",
              "}});\n",
              "\n",
              "// Listen for the removal of the full notebook cells\n",
              "var notebookContainer = gd.closest('#notebook-container');\n",
              "if (notebookContainer) {{\n",
              "    x.observe(notebookContainer, {childList: true});\n",
              "}}\n",
              "\n",
              "// Listen for the clearing of the current output cell\n",
              "var outputEl = gd.closest('.output');\n",
              "if (outputEl) {{\n",
              "    x.observe(outputEl, {childList: true});\n",
              "}}\n",
              "\n",
              "                        })\n",
              "                };\n",
              "                \n",
              "            </script>\n",
              "        </div>\n",
              "</body>\n",
              "</html>"
            ]
          },
          "metadata": {
            "tags": []
          }
        }
      ]
    },
    {
      "cell_type": "markdown",
      "metadata": {
        "id": "3E4_EjRCps8I",
        "colab_type": "text"
      },
      "source": [
        "Try t-SNE for visualisation"
      ]
    },
    {
      "cell_type": "code",
      "metadata": {
        "id": "-6aVpkWLpsnO",
        "colab_type": "code",
        "colab": {
          "base_uri": "https://localhost:8080/",
          "height": 542
        },
        "outputId": "3840395b-4515-444e-dbc7-4e152d28cf53"
      },
      "source": [
        "npf_tsne = TSNE(n_components=3,random_state=0).fit_transform(X)\n",
        "\n",
        "npf_tsne = pd.DataFrame(npf_tsne,columns=['tsne1','tsne2','tsne3'])\n",
        "\n",
        "px.scatter_3d(data_frame=npf_tsne,\n",
        "              x=\"tsne1\",\n",
        "              y=\"tsne2\",\n",
        "              z=\"tsne3\",\n",
        "              color=klabels,\n",
        "              color_discrete_sequence=own_cmap,\n",
        "              hover_name=npf_tsne.index,\n",
        "              opacity=0.5)"
      ],
      "execution_count": 28,
      "outputs": [
        {
          "output_type": "display_data",
          "data": {
            "text/html": [
              "<html>\n",
              "<head><meta charset=\"utf-8\" /></head>\n",
              "<body>\n",
              "    <div>\n",
              "            <script src=\"https://cdnjs.cloudflare.com/ajax/libs/mathjax/2.7.5/MathJax.js?config=TeX-AMS-MML_SVG\"></script><script type=\"text/javascript\">if (window.MathJax) {MathJax.Hub.Config({SVG: {font: \"STIX-Web\"}});}</script>\n",
              "                <script type=\"text/javascript\">window.PlotlyConfig = {MathJaxConfig: 'local'};</script>\n",
              "        <script src=\"https://cdn.plot.ly/plotly-latest.min.js\"></script>    \n",
              "            <div id=\"704c8a86-ec95-4ddf-ad61-23353cde0f4a\" class=\"plotly-graph-div\" style=\"height:525px; width:100%;\"></div>\n",
              "            <script type=\"text/javascript\">\n",
              "                \n",
              "                    window.PLOTLYENV=window.PLOTLYENV || {};\n",
              "                    \n",
              "                if (document.getElementById(\"704c8a86-ec95-4ddf-ad61-23353cde0f4a\")) {\n",
              "                    Plotly.newPlot(\n",
              "                        '704c8a86-ec95-4ddf-ad61-23353cde0f4a',\n",
              "                        [{\"hoverlabel\": {\"namelength\": 0}, \"hovertemplate\": \"<b>%{hovertext}</b><br><br>color=nonevent<br>tsne1=%{x}<br>tsne2=%{y}<br>tsne3=%{z}\", \"hovertext\": [0.0, 1.0, 2.0, 3.0, 4.0, 5.0, 11.0, 12.0, 13.0, 18.0, 25.0, 26.0, 27.0, 28.0, 29.0, 31.0, 33.0, 34.0, 35.0, 36.0, 37.0, 39.0, 43.0, 45.0, 50.0, 51.0, 54.0, 57.0, 58.0, 60.0, 61.0, 62.0, 67.0, 68.0, 69.0, 71.0, 79.0, 81.0, 92.0, 93.0, 94.0, 98.0, 99.0, 104.0, 106.0, 107.0, 108.0, 109.0, 117.0, 119.0, 123.0, 127.0, 129.0, 130.0, 131.0, 132.0, 133.0, 135.0, 136.0, 137.0, 138.0, 139.0, 140.0, 141.0, 142.0, 143.0, 144.0, 146.0, 147.0, 155.0, 156.0, 171.0, 178.0, 179.0, 188.0, 195.0, 196.0, 201.0, 203.0, 204.0, 208.0, 209.0, 213.0, 214.0, 215.0, 216.0, 217.0, 219.0, 231.0, 232.0, 233.0, 234.0, 235.0, 236.0, 237.0, 238.0, 239.0, 240.0, 241.0, 242.0, 243.0, 244.0, 245.0, 246.0, 247.0, 248.0, 249.0, 250.0, 252.0, 262.0, 265.0, 267.0, 268.0, 273.0, 276.0, 280.0, 281.0, 282.0, 283.0, 284.0, 286.0, 287.0, 288.0, 289.0, 290.0, 291.0, 293.0, 302.0, 303.0, 306.0, 307.0, 308.0, 309.0, 313.0, 314.0, 315.0, 316.0, 317.0, 318.0, 319.0, 321.0, 322.0, 323.0, 324.0, 325.0, 327.0, 328.0, 329.0, 330.0, 331.0, 332.0, 333.0, 334.0, 337.0, 340.0, 341.0, 342.0, 350.0, 351.0, 352.0, 355.0, 358.0, 359.0, 361.0, 362.0, 363.0, 364.0, 365.0, 367.0, 369.0, 370.0, 371.0, 372.0, 373.0, 378.0, 379.0, 380.0, 381.0, 382.0, 383.0, 384.0, 385.0, 397.0, 399.0, 404.0, 407.0, 413.0, 417.0, 419.0, 420.0, 421.0, 422.0, 423.0, 424.0, 426.0, 427.0, 428.0, 429.0, 430.0, 431.0, 437.0, 438.0, 439.0, 440.0, 441.0, 446.0, 450.0, 451.0, 452.0, 453.0, 454.0, 455.0, 456.0, 457.0, 458.0, 459.0, 460.0, 463.0, 464.0, 465.0, 466.0, 479.0, 481.0, 483.0, 486.0, 487.0, 488.0, 490.0, 491.0, 494.0, 496.0, 498.0, 499.0, 500.0, 501.0, 502.0, 503.0, 504.0, 505.0, 506.0, 507.0, 508.0, 509.0, 510.0, 511.0, 513.0, 517.0, 520.0, 521.0, 535.0, 536.0, 538.0, 539.0, 540.0, 541.0, 542.0, 543.0, 545.0, 546.0, 547.0, 548.0, 549.0, 550.0, 551.0, 552.0, 553.0, 554.0, 555.0, 558.0, 559.0, 561.0, 566.0, 569.0, 570.0, 571.0, 572.0, 573.0, 574.0, 575.0, 576.0, 577.0, 578.0, 579.0, 580.0, 581.0, 582.0, 583.0, 584.0, 585.0, 586.0, 587.0, 588.0, 589.0, 590.0, 591.0, 592.0, 593.0, 594.0, 595.0, 596.0, 597.0, 598.0, 599.0, 600.0, 601.0, 602.0, 603.0, 604.0, 605.0, 606.0, 607.0, 608.0, 609.0, 610.0, 611.0, 612.0, 619.0, 622.0, 623.0, 626.0, 627.0, 629.0, 630.0, 631.0, 632.0, 634.0, 635.0, 636.0, 637.0, 638.0, 639.0, 640.0, 641.0, 642.0, 643.0, 644.0, 645.0, 646.0, 648.0, 649.0, 650.0, 651.0, 652.0, 656.0, 658.0, 659.0, 660.0, 661.0, 662.0, 663.0, 664.0, 665.0, 670.0, 671.0, 673.0, 674.0, 675.0, 676.0, 677.0, 678.0, 680.0, 681.0, 682.0, 683.0, 684.0, 685.0, 686.0, 687.0, 688.0, 689.0, 690.0, 691.0, 692.0, 693.0, 694.0, 695.0, 696.0, 699.0, 702.0, 703.0, 704.0, 705.0, 706.0, 707.0, 708.0, 709.0, 711.0, 715.0, 718.0, 719.0, 720.0, 721.0, 722.0, 723.0], \"legendgroup\": \"color=nonevent\", \"marker\": {\"color\": \"red\", \"opacity\": 0.5, \"symbol\": \"circle\"}, \"mode\": \"markers\", \"name\": \"color=nonevent\", \"scene\": \"scene\", \"showlegend\": true, \"type\": \"scatter3d\", \"x\": [6.303386688232422, 8.429411888122559, 7.097261428833008, 7.197192668914795, 5.542469501495361, 1.8383018970489502, 7.611544609069824, -1.6792271137237549, -7.01209831237793, 2.0101585388183594, -6.090142726898193, -6.498405456542969, -5.948763847351074, -6.226102828979492, -6.240310192108154, -5.839330673217773, -6.482178211212158, 0.7115612030029297, -4.0640435218811035, -3.3506925106048584, -2.860264778137207, -3.8045554161071777, -6.9180073738098145, 1.9482694864273071, -4.6373138427734375, -3.6925230026245117, -6.08450174331665, -5.667609214782715, -3.9755406379699707, -3.880490779876709, -6.459362506866455, -1.8995280265808105, -2.9790399074554443, -6.0116496086120605, -6.0411834716796875, 0.5246683359146118, -0.13515453040599823, 2.7456657886505127, 1.8726239204406738, 1.6384347677230835, 0.26975369453430176, 2.3834328651428223, -1.2830085754394531, -6.180981636047363, -3.7922916412353516, -5.626232624053955, -6.147622108459473, -5.478209018707275, -3.4381446838378906, -2.642366409301758, 2.5037436485290527, 5.767154216766357, 5.088436603546143, 5.544172286987305, 4.258589744567871, 6.19011926651001, 5.523407459259033, 5.5868682861328125, 5.602601051330566, 6.124748706817627, 5.641265392303467, 6.229042053222656, 6.238310813903809, 8.15587043762207, 5.368756294250488, 41.08132553100586, 6.4409613609313965, 6.244948863983154, 4.428543567657471, 4.25160551071167, 4.039796352386475, -4.268531322479248, -5.503477573394775, -0.44005095958709717, -0.23187316954135895, 0.7685169577598572, -4.381627082824707, -5.615947723388672, -4.186358451843262, -5.661872863769531, -1.822907567024231, 1.1650434732437134, 5.826735496520996, 7.564255714416504, 8.055930137634277, 5.7548828125, 6.155093669891357, 4.66266393661499, 4.990664005279541, 5.788128852844238, 4.918188095092773, 5.629552364349365, 4.395656108856201, 4.558199405670166, 5.022439479827881, 6.854469299316406, 6.448883056640625, 6.206079483032227, 5.800212383270264, 5.688324451446533, 5.8955206871032715, 5.8677754402160645, 5.38305139541626, 6.253625392913818, 7.1286211013793945, 5.97526741027832, 7.137243270874023, 4.179505348205566, 6.813097953796387, -1.5761737823486328, 3.208268165588379, 1.444535493850708, 0.2554069757461548, 1.6076043844223022, -5.714011192321777, -5.071966648101807, -6.2093610763549805, -4.982733726501465, -4.701607704162598, -4.732121467590332, -5.724119186401367, -4.853729724884033, -2.4600062370300293, -5.206137180328369, -5.374488830566406, -3.5634284019470215, -5.5907979011535645, 0.8141761422157288, -1.4220236539840698, -6.755033016204834, -7.0955491065979, -4.3919901847839355, -3.8859715461730957, -6.8242926597595215, 2.554593801498413, 5.059210777282715, 5.439631938934326, 5.569354057312012, 8.271488189697266, 7.397497177124023, 6.222168922424316, 6.983319282531738, 8.622777938842773, 3.5406908988952637, 3.481698989868164, 3.580643653869629, 6.931854248046875, 6.359789848327637, 7.872745037078857, 7.175212860107422, 6.800442695617676, 6.720327377319336, 5.716924667358398, 1.155118465423584, 7.164945602416992, 5.811622142791748, -4.872626781463623, 1.8284885883331299, -1.0363272428512573, -3.56754469871521, -5.0759406089782715, -5.101940631866455, -5.260590076446533, -5.936665058135986, -5.474501609802246, -4.1033549308776855, -5.758186340332031, -3.660525321960449, -3.614861488342285, -2.3862686157226562, -4.743410110473633, -1.6731616258621216, -1.8148152828216553, -2.444648504257202, 3.2014739513397217, 3.105835199356079, 4.114430904388428, 4.311224460601807, 4.213859558105469, 3.0174131393432617, 2.452864170074463, 4.0050530433654785, 3.43658709526062, -0.21365967392921448, 2.697707414627075, -0.3188937306404114, 1.293221116065979, -1.0826373100280762, 0.1717570424079895, 1.0183895826339722, -4.151714324951172, -4.184401035308838, -1.8482753038406372, -2.7267229557037354, -3.5509002208709717, -3.6303327083587646, -2.758833169937134, -4.10880184173584, -3.210606098175049, -2.6917929649353027, 6.21355676651001, 7.8755998611450195, 4.214865207672119, 6.227267265319824, 7.6450700759887695, 7.572482109069824, 7.889573574066162, 5.1960129737854, 1.6780664920806885, 2.673708915710449, 0.6180881261825562, 0.041087787598371506, 2.2547929286956787, 2.6747522354125977, 2.579742670059204, 2.4990227222442627, 2.568589210510254, -5.160325527191162, 1.605494499206543, 1.4441829919815063, 3.86293888092041, 1.260634422302246, -1.3696397542953491, -2.9433796405792236, -1.8966879844665527, -3.6984753608703613, -2.0273499488830566, -3.386983633041382, -2.2647318840026855, 5.108468055725098, 3.8869035243988037, 3.6202011108398438, 1.3973429203033447, 1.820934534072876, 4.02632474899292, 1.110276222229004, 2.003582715988159, 4.479811668395996, 2.139981269836426, 2.324373245239258, 4.1242780685424805, 2.920715093612671, 2.306992769241333, 4.088088035583496, 6.656202793121338, -26.240041732788086, 4.23162317276001, 2.529721975326538, 2.5723483562469482, -1.55820894241333, -0.8596682548522949, -1.0396192073822021, -2.098771333694458, -2.450960397720337, -2.621436357498169, -2.3644487857818604, -3.440863847732544, 0.06578758358955383, -0.5752853751182556, -2.770631790161133, -3.4553616046905518, -0.638447642326355, -3.2121100425720215, -1.8856685161590576, -2.6336147785186768, -2.840348720550537, -3.050704002380371, -2.8883612155914307, -1.708877682685852, -2.330416440963745, -2.910217523574829, 2.3886959552764893, 2.6373257637023926, 6.769025802612305, 0.5805625915527344, 2.8195815086364746, 3.0193288326263428, 4.78578519821167, 4.3080220222473145, 2.269227981567383, 3.269397497177124, 4.001902103424072, 3.967567205429077, 3.2822041511535645, 2.99750018119812, 3.4807310104370117, 3.50006103515625, 3.517591953277588, 3.4876155853271484, 3.761889934539795, 3.1921041011810303, 7.125844478607178, 8.005589485168457, 6.024221420288086, 2.5417425632476807, 2.348968982696533, 4.109766006469727, 6.034780502319336, 3.908825397491455, 2.533306837081909, 7.191287040710449, 7.287455081939697, 7.938752174377441, 6.900394916534424, 4.528448581695557, 3.5575547218322754, 7.350394248962402, 7.5444769859313965, 3.0811891555786133, 4.511015892028809, 6.407025337219238, 4.032385349273682, 6.802094459533691, 5.90521764755249, 5.671692848205566, 2.375218152999878, -0.9469700455665588, 1.3449116945266724, 1.3507963418960571, -1.4390101432800293, -1.7014471292495728, -1.7898406982421875, 0.8034077882766724, -1.3416813611984253, -1.5491596460342407, -3.6865110397338867, -2.2775936126708984, -2.8161239624023438, -3.1598942279815674, -3.567011594772339, -2.350109338760376, -3.1033775806427, -2.814523696899414, -3.061527967453003, -0.9961336851119995, -1.5748417377471924, -2.9905340671539307, -2.2593982219696045, -1.8197230100631714, -1.5768033266067505, -2.449514150619507, -1.6404486894607544, -2.324254274368286, -3.65102481842041, 0.8586640357971191, -0.7902458310127258, -0.8979559540748596, 0.6685040593147278, 1.3220250606536865, -1.699152946472168, -1.6263011693954468, 4.77840518951416, 1.8904566764831543, 3.783576011657715, 1.6032681465148926, 1.551729679107666, 1.7270828485488892, 1.321603775024414, 1.3631577491760254, 2.725611925125122, 4.075576305389404, 2.654682159423828, 6.4148430824279785, 1.6121309995651245, 2.4369170665740967, 4.44442081451416, 2.5979514122009277, 2.6594998836517334, 5.934683799743652, 2.7209980487823486, 2.600391149520874, 4.704822540283203, 3.758540630340576, 7.269320011138916, 7.747844219207764, 3.7377841472625732, 6.983994960784912, -3.871222496032715, 0.8522729873657227, -0.5268988609313965, -1.540422797203064, -2.918022871017456, -2.0143110752105713, -2.6891355514526367, -2.7139976024627686, 0.3030567765235901, -2.633193016052246, -1.8524386882781982, -3.0583815574645996, -2.9809536933898926, -2.75268816947937, -2.493452310562134, -0.9203696250915527, -2.1223418712615967], \"y\": [1.511405110359192, 4.370923042297363, -0.7213173508644104, 0.8791068196296692, 6.865602493286133, 4.403759956359863, 3.3756518363952637, 3.4819815158843994, -4.280324935913086, -6.365231990814209, -3.1667351722717285, -6.585081577301025, 6.851920127868652, -6.286837100982666, -6.450646877288818, -7.35439395904541, -7.068730354309082, -2.743187665939331, -9.585369110107422, -9.665914535522461, -10.208596229553223, -8.949213981628418, -4.463642597198486, -6.328836441040039, 3.253992795944214, -8.89311695098877, -7.279356479644775, -7.9712324142456055, -10.302679061889648, -10.314225196838379, -7.668472766876221, -10.478656768798828, -10.174144744873047, -3.651655673980713, -6.722311019897461, -8.399569511413574, 5.772398948669434, 2.495546817779541, -6.981367588043213, -6.626412868499756, -3.81695294380188, -7.162687301635742, -3.342411518096924, -6.741726875305176, -9.050889015197754, -8.562129020690918, -8.060032844543457, -7.668629169464111, -2.5127739906311035, -8.976160049438477, -1.91548490524292, 0.4460684061050415, -1.7386637926101685, -1.3217922449111938, -0.9094497561454773, 1.4484325647354126, -2.7749640941619873, -2.004094362258911, 0.9389758110046387, 1.4027901887893677, 0.861613929271698, 1.2022442817687988, -1.3021491765975952, 3.9859619140625, -3.973665952682495, 116.15320587158203, 1.7022837400436401, 0.015469178557395935, 1.9735631942749023, -0.05311722308397293, 0.6826585531234741, 6.688808441162109, 7.060818672180176, -4.260610103607178, -3.3799891471862793, -2.7898354530334473, -7.910680770874023, -7.413144588470459, -9.04024887084961, -7.502890110015869, -7.252758502960205, -6.81193208694458, 0.29299768805503845, 2.6851367950439453, 4.124212741851807, 1.0573984384536743, 1.7157940864562988, 0.3846156895160675, 0.14621496200561523, -1.1514381170272827, -2.238292694091797, -0.19336152076721191, -2.9034948348999023, 0.9399146437644958, 0.03736588731408119, 0.6483900547027588, 0.607238233089447, -1.1518923044204712, 2.0606963634490967, 1.471736192703247, 3.255734443664551, 3.820899724960327, 3.86348032951355, 5.400102615356445, 2.3224217891693115, 5.500511169433594, 4.12448263168335, 5.609740257263184, 5.023692607879639, 3.4829039573669434, 2.5064992904663086, -3.8735511302948, 0.5901305675506592, -6.677421569824219, -4.715269565582275, -0.4040578603744507, -3.855466365814209, -0.6053525805473328, -0.9241234660148621, -1.2815492153167725, -5.079805850982666, -8.636425018310547, -9.889443397521973, -6.140377044677734, -8.336353302001953, -7.669931888580322, -7.325562000274658, -7.471642017364502, -4.196501731872559, -4.46987247467041, -4.5644659996032715, -2.079829216003418, -2.7421350479125977, -4.432246208190918, -1.7583266496658325, -0.594428300857544, -2.174801826477051, -1.7089602947235107, 1.9558360576629639, 1.1622908115386963, 0.3987307846546173, 3.0839521884918213, 4.366811275482178, 7.541147232055664, 7.43557071685791, 7.204553604125977, 2.7885396480560303, 6.150481224060059, 6.427715301513672, 4.154346942901611, 5.579578399658203, 4.988494396209717, 6.599764823913574, 7.52797269821167, 4.721199989318848, 2.453481912612915, 8.016672134399414, -6.678133964538574, -0.8496109247207642, 1.2515333890914917, -0.24017935991287231, -7.71914529800415, -0.38971394300460815, -2.7674102783203125, -0.13044534623622894, -9.172419548034668, 0.1362612098455429, -9.432039260864258, -8.967482566833496, -8.164031982421875, -4.298586368560791, -5.697654724121094, -9.664627075195312, -7.659561634063721, -3.3710079193115234, -3.857733726501465, -4.863790988922119, -2.4975881576538086, -1.7777513265609741, -0.4526628255844116, -0.8090746998786926, -3.8339812755584717, -0.15649333596229553, -1.764528512954712, 3.082634925842285, 1.4663110971450806, -6.983923435211182, -3.9012107849121094, -9.172295570373535, -9.708309173583984, -3.6347384452819824, -3.950146436691284, -8.537113189697266, -7.961604595184326, -2.765822172164917, -2.6948702335357666, -8.369742393493652, -4.369696140289307, -2.9036149978637695, -6.154638290405273, 1.8364219665527344, 4.052772045135498, 0.07407486438751221, 1.531870722770691, 3.656707286834717, 2.455575942993164, 1.8902676105499268, 5.263566493988037, 3.940009355545044, 1.35675048828125, 0.9840158224105835, 1.0250020027160645, 1.2281029224395752, 3.3042640686035156, 4.250802993774414, 4.351384162902832, 3.799482583999634, 8.213616371154785, 1.0589100122451782, 1.051087498664856, -3.874880313873291, -8.26053524017334, -7.818539142608643, -2.9943785667419434, -8.765132904052734, -7.432897090911865, -9.03575325012207, -5.213942050933838, -5.1816511154174805, -2.994119882583618, -1.4306734800338745, -0.3828279376029968, 0.2158481627702713, 0.344059556722641, 0.6553746461868286, 4.119768142700195, 4.8932600021362305, 1.6873079538345337, 1.0441038608551025, 1.0317741632461548, 1.8728405237197876, 5.430792331695557, 3.149886131286621, 2.375059127807617, 3.6035354137420654, 166.48892211914062, 5.564988613128662, 3.126711368560791, 3.3225271701812744, -0.4105532467365265, -3.6577939987182617, -7.906637668609619, -1.477230429649353, -1.3258635997772217, -1.3889392614364624, -1.3057126998901367, -3.1168367862701416, -8.526885986328125, -8.181586265563965, -4.616715431213379, -2.610607385635376, -9.209311485290527, -5.884312629699707, -8.070823669433594, -4.929224491119385, -6.002462863922119, -3.641960859298706, -4.4034810066223145, -7.932170391082764, -7.837895393371582, -6.360622406005859, -1.043210506439209, -0.5585543513298035, 1.9545891284942627, -1.6187347173690796, -0.6320290565490723, -2.7057042121887207, 1.2153288125991821, 0.5059013366699219, -0.9667829871177673, -0.14481142163276672, 0.3048362731933594, 1.7450764179229736, -2.5704541206359863, -1.9317165613174438, -3.120103120803833, -3.0996921062469482, 0.051333751529455185, 0.12142246961593628, 0.33122143149375916, 5.4448089599609375, 3.949773073196411, 4.642977714538574, 3.440250873565674, 2.980694055557251, 3.0557522773742676, 4.557842254638672, 3.040294647216797, 4.9475884437561035, 3.392972707748413, 3.4175174236297607, 5.671195030212402, 6.401579856872559, 5.386714935302734, 3.5030388832092285, 4.174434661865234, 6.373784065246582, 5.791579246520996, 4.339465618133545, 6.17137336730957, 6.840121269226074, 6.162355899810791, 6.595950126647949, 2.7421669960021973, 2.7350282669067383, 4.694488048553467, 8.219442367553711, 2.258787155151367, 1.7911194562911987, -1.0194026231765747, 4.32972526550293, 4.12944221496582, -9.105026245117188, -4.793713092803955, -4.996308326721191, -6.05194091796875, -8.138891220092773, -4.715926647186279, -6.713759899139404, -6.345542907714844, -7.753042697906494, -6.758501052856445, -5.07472562789917, -5.803930759429932, -8.344393730163574, -7.9213175773620605, -6.7378458976745605, -7.9002251625061035, -6.448077201843262, -7.336512088775635, -7.024466037750244, -7.138379096984863, -3.677215814590454, -6.570147514343262, -9.471484184265137, -7.143370151519775, -7.150737285614014, -6.678792476654053, -7.231976509094238, -0.7900242209434509, -0.8735800385475159, -2.7612125873565674, -0.33098238706588745, -2.679637908935547, 0.2786387503147125, 1.9742883443832397, 3.1504461765289307, 2.9696366786956787, 3.200641393661499, 4.755832195281982, 2.4318530559539795, 1.962608814239502, 3.129197835922241, 3.4577155113220215, 3.0378050804138184, 1.230419397354126, 1.689626693725586, 5.838976860046387, 3.039506435394287, 5.853257656097412, 2.967211961746216, 6.4964776039123535, 6.302793979644775, 6.085994720458984, 5.930034160614014, 3.406049966812134, 5.930959701538086, -6.422382354736328, -8.351993560791016, -7.605820178985596, -4.891323566436768, -7.028273582458496, -7.922434329986572, -6.884065628051758, -3.7650179862976074, -8.97284984588623, -3.582204818725586, -8.258359909057617, -3.4997973442077637, -3.139763593673706, -7.13894510269165, -7.7789530754089355, -8.20084285736084, -4.411625862121582], \"z\": [-3.8592028617858887, -13.343977928161621, -5.206958770751953, -9.206148147583008, -9.366177558898926, 0.271664023399353, -14.419269561767578, -0.5520458221435547, -3.202415704727173, -1.1086279153823853, -1.7668803930282593, 9.109329223632812, 7.231597423553467, 9.208468437194824, 9.158538818359375, 6.1656694412231445, 8.97765827178955, 2.163282632827759, 3.3220903873443604, 0.2842312753200531, 1.1308761835098267, -0.055386029183864594, -2.435516595840454, -1.269227385520935, 5.819552898406982, -0.23821669816970825, 8.18742847442627, 7.303945541381836, 3.743098258972168, 3.835574150085449, 7.973700046539307, 1.1917630434036255, 0.8216707706451416, 2.1270344257354736, 2.74788236618042, -2.0757431983947754, 0.25994688272476196, 0.18174180388450623, 0.2676708400249481, 0.6111506819725037, 0.9222496151924133, 0.17607352137565613, 1.115889072418213, 7.175020694732666, -0.04921715706586838, 7.399546146392822, 7.612275123596191, 8.489419937133789, -2.4735164642333984, 4.645565509796143, -1.6226601600646973, -3.400885581970215, -10.126526832580566, -10.060419082641602, -8.644078254699707, -5.29288387298584, -6.1949872970581055, -6.60551643371582, -6.209743976593018, -8.357025146484375, -7.07719087600708, -8.919474601745605, -6.882931232452393, -12.379204750061035, -6.395350456237793, 47.69667434692383, -9.4033203125, -5.292392253875732, -3.3335371017456055, -4.904577255249023, -4.1967291831970215, 4.734508037567139, 6.837638854980469, -0.7838954925537109, -1.2576984167099, 2.490307569503784, 2.6012954711914062, 4.640524387359619, 0.5968829989433289, 4.953209400177002, -1.6630668640136719, -1.350838303565979, -4.439565658569336, -11.667109489440918, -13.77230167388916, -6.299175262451172, -7.7562360763549805, -6.609493255615234, -4.019302845001221, -5.9211835861206055, -5.4544525146484375, -5.517211437225342, -5.274801254272461, -3.8021016120910645, -6.932960033416748, -11.190155982971191, -11.17186164855957, -6.157106399536133, -8.229122161865234, -9.848103523254395, -7.9845499992370605, -6.792267322540283, -6.228781700134277, -7.024238586425781, -8.281472206115723, -7.057129383087158, -10.28982925415039, -7.149064540863037, -7.490880012512207, -0.5153309106826782, -3.5040159225463867, 0.01550646498799324, 1.6822075843811035, 0.2721101641654968, 8.12973403930664, 8.528874397277832, 7.856451511383057, 8.713369369506836, 8.93857479095459, 7.96171760559082, 8.657849311828613, 5.829098224639893, 2.1543431282043457, 5.479392051696777, 5.733396053314209, 2.60937762260437, 4.943717002868652, -2.1227991580963135, -2.1291120052337646, -2.2170469760894775, -2.338685989379883, -1.9418270587921143, -2.1292219161987305, -2.924036979675293, -1.5109156370162964, -7.246883869171143, -7.171512126922607, -7.328989028930664, -7.175724029541016, -11.19262981414795, -3.2295262813568115, -7.767942905426025, -14.01492977142334, -8.615771293640137, -8.76919937133789, -8.945991516113281, -7.657190322875977, -10.50197982788086, -14.673345565795898, -10.3063325881958, -9.102025032043457, -7.573452472686768, -8.967076301574707, -0.561331570148468, -7.998525142669678, -2.831524610519409, 5.4034104347229, -1.0011008977890015, 1.9486653804779053, 3.516333818435669, 7.843876838684082, 3.4225478172302246, 7.940089702606201, 2.998551845550537, 7.602684020996094, 6.140959739685059, 8.363621711730957, 6.426418304443359, 6.201315402984619, 4.566065788269043, 6.96278190612793, 3.685591220855713, 1.6585545539855957, -0.9327278733253479, -10.160568237304688, -9.745123863220215, -6.740388870239258, -9.844608306884766, -9.268388748168945, -4.828108787536621, -6.286655902862549, -5.8658576011657715, -4.720361232757568, -3.4122049808502197, 3.4577999114990234, 1.9158960580825806, 2.130718469619751, 3.162546157836914, 0.07152819633483887, -0.04735780879855156, 8.833364486694336, 7.68496036529541, 0.918067216873169, 4.519763469696045, 4.104683876037598, 5.133818626403809, 4.7804694175720215, 7.782293319702148, 8.690553665161133, 7.860570430755615, -12.006308555603027, -14.01125431060791, -9.599954605102539, -13.606878280639648, -14.249817848205566, -12.799763679504395, -9.70788860321045, -9.270576477050781, -4.816500186920166, -6.089692115783691, -5.931416034698486, -6.050442695617676, -5.7533416748046875, -4.564216136932373, -4.981116771697998, -4.8623366355896, -4.642743110656738, 5.308002948760986, -5.537593364715576, -5.591545581817627, -5.702493667602539, 0.9999018907546997, 4.45402717590332, 1.5872936248779297, 2.034940719604492, 2.6572134494781494, 2.439626455307007, 1.729799509048462, -0.6384502053260803, -10.993815422058105, -8.96575927734375, -9.750452041625977, -8.84908676147461, -8.917684555053711, -10.894248008728027, -9.674359321594238, -10.486844062805176, -11.709880828857422, -9.113081932067871, -10.492634773254395, -11.619026184082031, -9.749835014343262, -8.985708236694336, -11.29871940612793, -13.313459396362305, 67.58612823486328, -7.118948459625244, -5.758982181549072, -5.697239875793457, 9.001675605773926, 3.0244858264923096, -0.04804808646440506, 8.669302940368652, 8.832132339477539, 8.577665328979492, 9.153380393981934, 8.714566230773926, 2.5481457710266113, 0.9804644584655762, 6.751664638519287, 5.621277809143066, 0.8722457885742188, 6.644634246826172, 2.512341260910034, 4.737630844116211, 5.155439376831055, 6.943689346313477, 0.0024373349733650684, 2.9360532760620117, 1.9986276626586914, 1.1097172498703003, -7.087780475616455, -8.4293851852417, -13.530159950256348, -3.5379891395568848, -8.18190860748291, -10.10863208770752, -9.337985038757324, -9.83866024017334, -7.289796352386475, -10.550950050354004, -10.425374031066895, -10.803668975830078, -9.211273193359375, -9.579741477966309, -8.127793312072754, -8.250505447387695, -11.265754699707031, -11.159031867980957, -11.72001838684082, -12.621788024902344, -11.963127136230469, -13.75851821899414, -11.543830871582031, -11.211343765258789, -11.18910026550293, -12.519912719726562, -10.259676933288574, -12.577619552612305, -8.814067840576172, -12.033145904541016, -12.677664756774902, -14.73656940460205, -11.58560848236084, -11.700933456420898, -9.787111282348633, -13.964746475219727, -13.78671932220459, -9.347610473632812, -10.810813903808594, -13.081836700439453, -10.069674491882324, -13.402571678161621, -13.100530624389648, -13.150443077087402, -5.461636066436768, -2.7614173889160156, -1.1962323188781738, 2.4804859161376953, -3.389315366744995, 9.427152633666992, 9.577120780944824, 1.0953350067138672, 6.314951419830322, 5.627736568450928, 9.787732124328613, 7.4247965812683105, 9.038822174072266, 10.953167915344238, 9.544476509094238, 8.376266479492188, 11.03350830078125, 9.201028823852539, 5.897535800933838, 3.4337170124053955, 3.8046767711639404, 9.508501052856445, 8.272143363952637, 3.776538848876953, 1.5766483545303345, -0.9001803398132324, -0.6406440138816833, -0.2752443253993988, 0.7697934508323669, 0.6863912343978882, -0.26139888167381287, -0.38752424716949463, -1.1739901304244995, 1.8046271800994873, -3.1242001056671143, -3.1313400268554688, -10.659432411193848, -5.625906467437744, -9.59762191772461, -8.836560249328613, -8.7666654586792, -8.797341346740723, -8.511988639831543, -8.452554702758789, -9.304439544677734, -11.587580680847168, -9.37680435180664, -11.369014739990234, -8.918474197387695, -9.823144912719727, -12.306769371032715, -5.6288347244262695, -12.14741325378418, -10.181227684020996, -12.189509391784668, -4.198258876800537, -10.789267539978027, -11.549263000488281, -13.393083572387695, -14.123035430908203, -6.278923511505127, -9.401244163513184, 10.362081527709961, 1.300213098526001, 1.5552990436553955, 5.199245452880859, 9.095845222473145, 8.180031776428223, -0.3744925260543823, 8.235671043395996, 1.4599504470825195, 8.316221237182617, 4.430397987365723, 4.096217632293701, 4.628289222717285, 1.7095462083816528, 1.9416640996932983, 0.9212433695793152, 5.5523762702941895]}, {\"hoverlabel\": {\"namelength\": 0}, \"hovertemplate\": \"<b>%{hovertext}</b><br><br>color=Ib<br>tsne1=%{x}<br>tsne2=%{y}<br>tsne3=%{z}\", \"hovertext\": [6.0, 8.0, 10.0, 17.0, 19.0, 20.0, 22.0, 38.0, 42.0, 44.0, 46.0, 49.0, 64.0, 66.0, 72.0, 75.0, 78.0, 80.0, 83.0, 86.0, 88.0, 97.0, 101.0, 105.0, 111.0, 112.0, 114.0, 148.0, 152.0, 153.0, 158.0, 159.0, 160.0, 163.0, 164.0, 165.0, 166.0, 170.0, 172.0, 173.0, 174.0, 185.0, 187.0, 190.0, 192.0, 193.0, 199.0, 200.0, 210.0, 254.0, 255.0, 256.0, 257.0, 258.0, 259.0, 260.0, 261.0, 263.0, 266.0, 272.0, 278.0, 279.0, 292.0, 295.0, 299.0, 300.0, 301.0, 305.0, 312.0, 320.0, 326.0, 336.0, 339.0, 343.0, 345.0, 346.0, 347.0, 348.0, 349.0, 354.0, 357.0, 360.0, 366.0, 376.0, 387.0, 389.0, 392.0, 393.0, 395.0, 396.0, 400.0, 402.0, 403.0, 406.0, 408.0, 409.0, 414.0, 418.0, 432.0, 442.0, 444.0, 472.0, 482.0, 484.0, 489.0, 514.0, 516.0, 519.0, 524.0, 525.0, 526.0, 529.0, 530.0, 531.0, 534.0, 568.0, 657.0, 666.0, 700.0], \"legendgroup\": \"color=Ib\", \"marker\": {\"color\": \"gold\", \"opacity\": 0.5, \"symbol\": \"circle\"}, \"mode\": \"markers\", \"name\": \"color=Ib\", \"scene\": \"scene\", \"showlegend\": true, \"type\": \"scatter3d\", \"x\": [1.3220587968826294, 1.2601600885391235, -0.40357115864753723, -3.092334032058716, -4.230282306671143, -5.869039058685303, -3.2468605041503906, -5.818995952606201, -5.930466651916504, -2.620098352432251, -0.43751442432403564, -0.4380035102367401, -5.751840114593506, -6.1267781257629395, 1.9957219362258911, 1.2592095136642456, 2.3629019260406494, -0.0582498162984848, -1.5849480628967285, -1.8370226621627808, -3.039245128631592, -3.353428602218628, -4.655654430389404, -6.402472972869873, -6.524791240692139, -5.718624114990234, -6.594616889953613, 2.4912261962890625, -0.3897596299648285, -0.1376042366027832, 0.5714555382728577, 0.4668496549129486, 0.5009986162185669, -3.2142791748046875, -2.3696563243865967, -3.656480312347412, 1.5240451097488403, -3.8346383571624756, -1.347713589668274, -1.554289698600769, -2.87007737159729, -2.1246047019958496, -3.4489009380340576, -2.2599034309387207, -3.006774425506592, -3.712047815322876, -6.468995094299316, -4.011639595031738, 2.9356632232666016, 1.356866478919983, 0.7532809972763062, 1.296260952949524, 0.5951354503631592, 0.6770716309547424, 0.19785094261169434, -3.822291851043701, 0.5998134016990662, -0.16172364354133606, 1.417990803718567, -3.4222888946533203, -4.597388744354248, -4.5042266845703125, 232.7066192626953, -5.472198009490967, -4.316145420074463, 27.969850540161133, -5.662741661071777, -4.530588150024414, -5.415954113006592, 3.4571568965911865, 4.958820819854736, 1.010371208190918, 2.256850242614746, -2.2030584812164307, -2.4832069873809814, -4.695001125335693, -2.0932273864746094, -0.6467364430427551, 0.008915784768760204, -5.239004611968994, -5.433337688446045, -5.631317138671875, -4.6335015296936035, -0.4183213412761688, 1.953921914100647, -0.14185366034507751, 0.9709376692771912, 0.7284060716629028, 0.8345677256584167, 1.4175138473510742, 2.737290859222412, 2.8856656551361084, 2.4604082107543945, -1.3482757806777954, 1.290282130241394, 0.5668156743049622, -0.7392252683639526, -1.0233879089355469, -2.6147301197052, 4.126631736755371, 3.0692479610443115, 1.6641303300857544, -3.699455499649048, -4.451631546020508, -3.8918702602386475, 3.243238925933838, 2.7885990142822266, 2.946136236190796, 4.531668663024902, 4.504861354827881, -0.17218010127544403, 2.6421618461608887, 1.1359448432922363, -0.10648676753044128, -1.4288218021392822, 0.7419906258583069, -0.6208266019821167, 0.23638975620269775, 0.11053833365440369], \"y\": [5.529293060302734, 5.057803630828857, 7.332891941070557, 2.6425352096557617, 2.9932069778442383, 6.890480041503906, 1.8747937679290771, -5.893532752990723, -0.8263334035873413, 5.235377788543701, 4.304159164428711, -1.69632887840271, -0.1142411008477211, -4.68735933303833, 2.9906504154205322, 3.7942728996276855, 7.903877258300781, 7.232701778411865, 7.401571750640869, 4.465517520904541, 3.796372413635254, 0.8787257671356201, 2.591287851333618, -3.519333839416504, -3.5965864658355713, -1.941896915435791, -2.6273038387298584, 3.3390893936157227, 8.716301918029785, 8.166723251342773, 6.160500526428223, 6.222038745880127, 6.884350776672363, 8.062260627746582, 7.984470844268799, 8.076834678649902, 3.650946617126465, 7.863671779632568, 5.513278007507324, 6.04856538772583, 7.265713691711426, 1.8776333332061768, 2.702157735824585, 1.7041480541229248, 1.6941710710525513, 2.966506004333496, -4.324117183685303, 0.40557923913002014, -0.338873028755188, 6.450199604034424, 6.553915023803711, 6.383917808532715, 6.549203872680664, 6.130176544189453, 7.070037364959717, 7.87800407409668, 5.594354152679443, 3.1778855323791504, 3.757810592651367, 0.7143973708152771, -0.6154928207397461, 0.260440468788147, -16.830801010131836, -0.24154655635356903, 0.6350319385528564, 64.49324035644531, -0.8723571300506592, -1.7843817472457886, -1.4579097032546997, -0.6511988639831543, 2.2910447120666504, 7.524860858917236, 4.973741054534912, 6.753908634185791, 5.5854716300964355, 5.548494338989258, 3.4386699199676514, 3.643785238265991, -4.161159515380859, -0.18211853504180908, -0.2024441808462143, -1.7267565727233887, -4.442458629608154, -4.691301345825195, 3.6704213619232178, 4.954859256744385, 3.00644588470459, 2.9488704204559326, 1.6968785524368286, 3.3817100524902344, 2.7837369441986084, 2.992478132247925, 3.23313307762146, 4.3057379722595215, 2.150911331176758, 1.7944016456604004, 1.0390344858169556, -3.7139477729797363, -2.819519519805908, 4.672274112701416, 2.6461992263793945, 4.020691871643066, -0.7026735544204712, -1.3748005628585815, -2.826261043548584, 5.6001362800598145, 5.279938697814941, 5.504028797149658, 5.51507043838501, 5.700101375579834, 5.472580909729004, 3.841761827468872, 4.5463643074035645, 5.019671440124512, -0.6530706882476807, -0.6329602599143982, -4.579452037811279, 0.8460358381271362, 1.6790698766708374], \"z\": [1.5522102117538452, 1.4649169445037842, 3.382228136062622, 4.76732873916626, 7.117016792297363, 7.161605358123779, 3.8563034534454346, 4.886818885803223, -0.34740597009658813, 7.006847858428955, 3.1505088806152344, 1.9594346284866333, 5.093963623046875, 3.822006940841675, 0.21579286456108093, 0.7042201161384583, 2.722303628921509, 4.290063381195068, 4.665948390960693, 4.959091663360596, 5.182969570159912, 2.991597890853882, 6.7412261962890625, 4.946572303771973, 4.957420825958252, 3.8781611919403076, 5.144173622131348, -1.2152138948440552, -1.7188787460327148, -1.4743294715881348, 2.1306912899017334, 3.206857681274414, 3.5001089572906494, 4.605770111083984, 4.542001247406006, 4.646300315856934, 0.16799062490463257, 4.466026306152344, 4.452653408050537, 4.601109504699707, 5.327414035797119, 2.474099636077881, 2.6415481567382812, 2.4504361152648926, 2.1309070587158203, 2.7721614837646484, 8.723976135253906, 7.548758029937744, -1.0677719116210938, 1.1912602186203003, 2.690199613571167, 2.8647570610046387, 0.23050478100776672, 0.48904481530189514, 3.9693894386291504, 4.782192707061768, 2.692307949066162, 0.8711497783660889, 4.0131659507751465, 4.800845623016357, 6.173880577087402, 7.188025951385498, 28.381671905517578, 3.896132707595825, 3.549429416656494, -3.520209312438965, 2.0203752517700195, 1.4921551942825317, -0.5590269565582275, -1.3980474472045898, -1.8253165483474731, -0.5845298767089844, -0.3996163606643677, 7.2703962326049805, 7.713563442230225, 4.479455471038818, 4.130372047424316, 2.715519905090332, 0.9006134867668152, 5.2095160484313965, 4.9104695320129395, 9.196001052856445, 6.797675132751465, 1.969107985496521, 4.328850746154785, -1.9051151275634766, 3.946995973587036, 6.3340983390808105, -0.22854116559028625, 5.190168380737305, 5.72036600112915, 6.035114288330078, 6.1823930740356445, 7.573045253753662, 7.214967727661133, 7.134110927581787, 8.163122177124023, 2.811929225921631, 1.5332410335540771, -0.9491315484046936, -3.9032862186431885, 4.810929775238037, 7.0811944007873535, 4.390635967254639, 3.698892593383789, -7.039341449737549, -8.723828315734863, -6.899928092956543, 0.70565265417099, 0.9893965125083923, -1.216990351676941, 7.036796569824219, 5.970578670501709, 7.424838066101074, 8.688286781311035, -2.067551612854004, 4.8168768882751465, -1.381577730178833, 8.119327545166016]}, {\"hoverlabel\": {\"namelength\": 0}, \"hovertemplate\": \"<b>%{hovertext}</b><br><br>color=II<br>tsne1=%{x}<br>tsne2=%{y}<br>tsne3=%{z}\", \"hovertext\": [7.0, 14.0, 15.0, 16.0, 21.0, 23.0, 24.0, 30.0, 32.0, 40.0, 47.0, 48.0, 52.0, 53.0, 55.0, 56.0, 59.0, 63.0, 65.0, 73.0, 77.0, 82.0, 84.0, 85.0, 87.0, 89.0, 91.0, 96.0, 100.0, 102.0, 103.0, 110.0, 115.0, 116.0, 118.0, 120.0, 121.0, 122.0, 126.0, 128.0, 134.0, 145.0, 149.0, 150.0, 151.0, 154.0, 157.0, 169.0, 175.0, 177.0, 181.0, 182.0, 183.0, 184.0, 186.0, 189.0, 191.0, 194.0, 197.0, 198.0, 202.0, 206.0, 207.0, 211.0, 212.0, 218.0, 251.0, 264.0, 269.0, 270.0, 274.0, 275.0, 277.0, 294.0, 296.0, 297.0, 298.0, 304.0, 310.0, 311.0, 338.0, 344.0, 353.0, 356.0, 368.0, 374.0, 377.0, 386.0, 388.0, 390.0, 391.0, 398.0, 401.0, 405.0, 410.0, 412.0, 415.0, 416.0, 425.0, 433.0, 434.0, 435.0, 436.0, 443.0, 447.0, 448.0, 449.0, 461.0, 462.0, 467.0, 468.0, 469.0, 470.0, 471.0, 473.0, 474.0, 475.0, 476.0, 477.0, 478.0, 480.0, 485.0, 492.0, 493.0, 495.0, 497.0, 512.0, 515.0, 518.0, 527.0, 528.0, 532.0, 533.0, 537.0, 544.0, 556.0, 557.0, 560.0, 562.0, 563.0, 564.0, 565.0, 567.0, 613.0, 614.0, 615.0, 616.0, 617.0, 618.0, 620.0, 621.0, 624.0, 625.0, 628.0, 633.0, 647.0, 653.0, 654.0, 655.0, 667.0, 668.0, 669.0, 672.0, 679.0, 697.0, 698.0, 701.0, 710.0, 712.0, 713.0, 714.0, 716.0, 717.0], \"legendgroup\": \"color=II\", \"marker\": {\"color\": \"darkgreen\", \"opacity\": 0.5, \"symbol\": \"circle\"}, \"mode\": \"markers\", \"name\": \"color=II\", \"scene\": \"scene\", \"showlegend\": true, \"type\": \"scatter3d\", \"x\": [-0.9451115131378174, -4.6638593673706055, -1.4276102781295776, -4.3109869956970215, -6.7604265213012695, -1.5374282598495483, -3.9387478828430176, -6.366828441619873, -5.903861999511719, -5.341125011444092, -1.7829760313034058, 0.728857159614563, -7.115971565246582, -5.259838581085205, -6.020190715789795, -5.920226573944092, -5.459141254425049, -6.176924705505371, -4.406089782714844, 1.308904767036438, 2.5902698040008545, -2.3152594566345215, 1.6503411531448364, 0.04580662399530411, 1.0890491008758545, -2.7278034687042236, -3.8221120834350586, -4.514368534088135, -4.798696041107178, -0.07520341873168945, -6.1518354415893555, -5.263798236846924, -6.00965690612793, -3.0105626583099365, -6.9490885734558105, -5.117899417877197, -0.7135165929794312, -2.346268653869629, 3.709216594696045, 8.019937515258789, 4.4491705894470215, 4.413878440856934, 2.807466745376587, 2.3996100425720215, 2.4046273231506348, -0.6951143145561218, -0.8866119384765625, -1.0917304754257202, -2.457598924636841, -2.295117139816284, -1.1152737140655518, -0.679559051990509, -1.039650321006775, -1.6075471639633179, -0.33687540888786316, -1.5615726709365845, -2.529005765914917, -4.773562908172607, -6.796679973602295, -4.159992218017578, -6.338583469390869, -5.60536003112793, -4.68034029006958, 4.778290271759033, 5.194819927215576, 5.165787696838379, 2.9930551052093506, 0.8720601201057434, -0.07577161490917206, -1.773819088935852, -3.361419439315796, -3.6026623249053955, -2.3888378143310547, -4.376882553100586, -6.483730792999268, -5.826355934143066, -5.1392717361450195, -2.2259039878845215, -4.863394737243652, -5.28513765335083, 4.820533752441406, -2.9241011142730713, -6.529492378234863, -5.1892900466918945, -6.124040126800537, -4.419734477996826, -4.257226943969727, 0.10531731694936752, 3.4586544036865234, 4.134696960449219, 4.051191806793213, 2.3500585556030273, 2.474034070968628, 0.18307580053806305, 0.24898038804531097, -0.7446824312210083, -1.393367886543274, -0.9026072025299072, -4.3058390617370605, -3.3487789630889893, -2.304762125015259, -1.8374375104904175, 7.487652778625488, 3.1970763206481934, 2.90820050239563, 1.668392539024353, 1.9400256872177124, 3.740841865539551, 0.8537179827690125, -0.9122539162635803, 1.033856749534607, -0.044746771454811096, -0.24098743498325348, 1.0506336688995361, 2.4593379497528076, -0.605121374130249, 0.9445464015007019, -1.6584689617156982, -2.081244468688965, -1.1072719097137451, -0.788042426109314, -2.729780912399292, -2.71525502204895, -1.615134358406067, -1.632511854171753, 0.9799997806549072, 0.3691728711128235, 2.7442467212677, 2.6134121417999268, 3.0223357677459717, 2.758993625640869, -0.7605472207069397, -0.862531304359436, -0.2623444199562073, -3.141693115234375, -4.783164024353027, -4.793225288391113, -4.509933948516846, -2.7838454246520996, -1.6676297187805176, -1.6774991750717163, -0.46160051226615906, 0.53486567735672, 4.037851333618164, 4.0253376960754395, 4.697511672973633, 4.021209716796875, 3.883838415145874, 0.33175498247146606, 1.5358705520629883, 0.9238715767860413, 2.46203351020813, 2.1464006900787354, -1.6791744232177734, -2.3014519214630127, -1.9251978397369385, -2.4647772312164307, -2.583888053894043, -2.1531822681427, 0.07336892932653427, -0.07122178375720978, -1.5693163871765137, 0.36060160398483276, 1.421226978302002, -0.03837849944829941, 1.1884033679962158, -1.2807539701461792, -0.3408699929714203, -2.7426469326019287, -2.5225656032562256, -2.519848346710205, -3.4227006435394287, -3.3920235633850098], \"y\": [8.009507179260254, 4.664828300476074, 4.903934478759766, 6.05909538269043, -5.075406551361084, -0.7855079770088196, 1.1634916067123413, -5.39647912979126, -4.219641208648682, -1.3005776405334473, -1.2725034952163696, -2.497748374938965, -2.0477652549743652, 0.24010536074638367, -5.9831037521362305, -6.905515193939209, -7.6149983406066895, -5.105632781982422, -8.954511642456055, 4.8870415687561035, 7.962113857269287, 6.017419338226318, 2.781388282775879, 3.389869213104248, -3.9802095890045166, 4.26364278793335, 4.290000915527344, 3.014580249786377, 2.679548740386963, -2.7172017097473145, -5.5461015701293945, -7.352015018463135, -0.6596812605857849, -3.797438621520996, -2.3592305183410645, -0.7607378363609314, -2.7108025550842285, -4.305965423583984, 0.28668826818466187, 2.0670619010925293, -2.524966239929199, 1.5409015417099, 6.43859338760376, 6.693454742431641, 6.483234405517578, 7.911863327026367, 8.218058586120605, 8.806602478027344, 6.999196529388428, 6.64205265045166, 5.073871612548828, 3.397298812866211, 4.819928169250488, 5.253645896911621, -3.6718101501464844, 4.231910228729248, 1.6212100982666016, 3.9972176551818848, -3.8896310329437256, 0.7455741167068481, -4.128190517425537, -6.672632217407227, -0.7020266652107239, -0.07118458300828934, 0.9047784805297852, 1.6900831460952759, 5.008772373199463, 4.01861047744751, 2.1528210639953613, 4.457876205444336, 0.3648030161857605, 0.9347456097602844, -3.949878454208374, -1.5071251392364502, 0.22540105879306793, -1.0911651849746704, -1.8625686168670654, -0.610062837600708, -1.333919882774353, -1.5510058403015137, 2.6955084800720215, 5.427281856536865, -4.781645774841309, -0.8304027318954468, -3.2280819416046143, -2.572868824005127, -2.71036958694458, 6.944417476654053, 3.299997091293335, 3.3152499198913574, 3.277418375015259, 2.4518444538116455, 3.1915078163146973, 2.0801568031311035, 1.2704954147338867, 2.136867046356201, 0.36157095432281494, 1.0908452272415161, -2.538581609725952, -3.772146701812744, -3.8156142234802246, -3.332902669906616, 3.1199984550476074, 2.2508225440979004, 0.44887447357177734, 2.6362497806549072, 3.1089189052581787, 6.145832538604736, 6.916499614715576, 8.192543983459473, 4.630314826965332, 5.109934329986572, 4.947668075561523, 1.8792526721954346, 3.0441701412200928, 5.4251933097839355, 4.681954860687256, 0.6549986600875854, -6.921367645263672, 1.6226178407669067, -4.37852668762207, -3.120108127593994, -2.8693487644195557, -3.896453857421875, -1.1863348484039307, -0.8886821269989014, 4.319817066192627, 5.301085472106934, 3.5063328742980957, 1.8001482486724854, 3.9216790199279785, 4.906947612762451, 5.121891975402832, 1.1835216283798218, -2.3197481632232666, -2.5664706230163574, -2.4837353229522705, -6.558492183685303, -2.7860705852508545, -1.3740315437316895, -3.5124707221984863, -0.3525528311729431, -0.5817972421646118, 7.034382343292236, 6.415083408355713, 5.125662326812744, 6.036922931671143, 6.111018180847168, 6.214992523193359, 4.172918796539307, 1.8002618551254272, 2.8403615951538086, 2.7852094173431396, 4.7154645919799805, -1.2536356449127197, 0.6060431599617004, -3.0634024143218994, -1.8095362186431885, -2.313983201980591, 0.5954035520553589, 0.2352142184972763, -0.29953595995903015, 1.0775084495544434, 4.758492946624756, 2.1878535747528076, 1.6848052740097046, -5.485065937042236, -10.127345085144043, -4.08734130859375, -6.02890682220459, -5.887461185455322, -4.829529762268066, -3.592461585998535], \"z\": [3.95918345451355, 4.095370769500732, 2.689523696899414, 5.043440341949463, 7.426349639892578, 1.7491216659545898, 4.1816020011901855, 7.9349541664123535, 3.7036209106445312, -1.4602967500686646, 0.08521612733602524, 2.2230260372161865, 4.411461353302002, 7.148477077484131, 4.826843738555908, 7.378551483154297, 7.149692535400391, 3.7525436878204346, 2.7901928424835205, 1.4003642797470093, 2.590078353881836, 7.680827617645264, 0.037675388157367706, 2.0937530994415283, 0.1908748745918274, 5.501569747924805, 5.123585224151611, 6.24922513961792, 6.780214309692383, 1.8852760791778564, 4.710318565368652, 8.786528587341309, 3.8254709243774414, -1.5097359418869019, 3.7088873386383057, 2.6359119415283203, 1.9513299465179443, -1.9017366170883179, -2.0863149166107178, -7.823243141174316, -4.953050136566162, -2.704601526260376, -1.2301852703094482, -1.372450590133667, -1.6793144941329956, -1.8574168682098389, -2.2828636169433594, -2.553502321243286, 5.452591419219971, 5.445698261260986, 3.9043781757354736, 0.285569965839386, 3.98099946975708, 4.8621110916137695, -0.8559800982475281, 5.717435836791992, 2.4137074947357178, 3.54288911819458, 8.64963436126709, 7.86897611618042, 8.253030776977539, 4.710938453674316, 3.139178514480591, -4.092554092407227, -3.810048818588257, -3.0315701961517334, -1.4122731685638428, 4.409887313842773, 1.7562810182571411, 5.6553449630737305, 7.0232744216918945, 7.639164447784424, 1.3671704530715942, 1.6095752716064453, 3.6310536861419678, 2.6203038692474365, 2.0923757553100586, 0.2543747127056122, 0.6720239520072937, -0.6687380075454712, -1.3822517395019531, 8.114540100097656, 10.001810073852539, 4.256594181060791, 5.65204381942749, 3.1222479343414307, 2.57021164894104, 6.200011253356934, 5.186661243438721, 4.885931491851807, 4.786104679107666, 6.233084678649902, 4.222705841064453, 2.7241573333740234, 2.320122241973877, 5.984030723571777, 8.814176559448242, 7.01532506942749, 3.790827989578247, 2.4497036933898926, -0.5176278352737427, -1.266618013381958, -12.428925514221191, -4.099175453186035, -4.1534271240234375, -1.8075534105300903, -1.6927824020385742, 1.5615260601043701, 5.643618583679199, -2.7141530513763428, 5.373233318328857, 7.0411763191223145, 7.300587177276611, 2.825932025909424, 3.652799606323242, 7.8867363929748535, 5.241611003875732, 8.622453689575195, -1.2662973403930664, 6.285956859588623, 2.1909077167510986, 0.21014556288719177, 0.7010644674301147, -1.6189309358596802, -0.6071949005126953, -3.082054376602173, -3.583482265472412, -8.816078186035156, -2.584385633468628, 3.032318592071533, 6.936448574066162, 8.019244194030762, 8.266358375549316, 6.688049793243408, 3.7600982189178467, 6.474893093109131, 6.442533493041992, 9.621943473815918, 4.39765739440918, -0.16333888471126556, -0.7983863949775696, -1.0776383876800537, -1.891228199005127, -0.6681538224220276, 0.15361177921295166, -9.239282608032227, 1.5758347511291504, 2.2778501510620117, -0.47853153944015503, 5.504726886749268, -0.6764268279075623, 6.856266021728516, 6.012223243713379, 9.11656665802002, 9.628717422485352, 6.644430637359619, -0.08849500119686127, -2.678924322128296, -0.12092822045087814, -1.5068905353546143, -1.8740930557250977, -3.0085179805755615, -1.6193004846572876, -10.279708862304688, 5.706080436706543, 5.713508605957031, 4.528880596160889, 2.028442621231079, 8.625051498413086, 8.300134658813477, 7.978868007659912, 1.3841506242752075, 3.0257790088653564]}, {\"hoverlabel\": {\"namelength\": 0}, \"hovertemplate\": \"<b>%{hovertext}</b><br><br>color=Ia<br>tsne1=%{x}<br>tsne2=%{y}<br>tsne3=%{z}\", \"hovertext\": [9.0, 41.0, 70.0, 74.0, 76.0, 90.0, 95.0, 113.0, 124.0, 125.0, 161.0, 162.0, 167.0, 168.0, 176.0, 180.0, 205.0, 220.0, 221.0, 222.0, 223.0, 224.0, 225.0, 226.0, 227.0, 228.0, 229.0, 230.0, 253.0, 271.0, 285.0, 335.0, 375.0, 394.0, 411.0, 445.0, 522.0, 523.0], \"legendgroup\": \"color=Ia\", \"marker\": {\"color\": \"cyan\", \"opacity\": 0.5, \"symbol\": \"circle\"}, \"mode\": \"markers\", \"name\": \"color=Ia\", \"scene\": \"scene\", \"showlegend\": true, \"type\": \"scatter3d\", \"x\": [0.09469453245401382, -6.0034918785095215, -6.4150919914245605, -0.07963002473115921, 0.5553088188171387, -2.4548065662384033, -5.474005699157715, -5.931370735168457, 2.3646905422210693, 2.825382709503174, 1.5067684650421143, -0.5232111215591431, 0.9413180947303772, -0.8593881130218506, -2.102543830871582, -1.6191879510879517, -3.829025983810425, 7.470248222351074, 4.635457515716553, 6.990750789642334, 5.034764289855957, 5.013208866119385, 5.368180751800537, 7.985306739807129, 5.337584495544434, 7.930786609649658, 6.351891994476318, 7.031167984008789, 1.417702555656433, -2.064901113510132, -3.9615111351013184, 0.4537842571735382, -5.513828754425049, -0.6273784041404724, 0.15837210416793823, 2.9864654541015625, 4.14604377746582, 4.404961109161377], \"y\": [6.994045257568359, -0.9288735389709473, -0.6225777268409729, 8.345803260803223, 6.122067928314209, 5.288549423217773, -0.90831458568573, -0.9911033511161804, -0.7255780100822449, -0.49887996912002563, 7.6974968910217285, 8.666979789733887, 6.396354675292969, 6.484886646270752, 6.629411697387695, 4.050454616546631, -10.477601051330566, 1.812599539756775, 0.1742955595254898, 0.43381839990615845, -0.24195460975170135, -3.289119005203247, 0.7516911029815674, 1.3762069940567017, -0.26785799860954285, 1.315619945526123, 0.1777205467224121, 2.2820956707000732, 6.110466957092285, 5.042858600616455, -0.09675067663192749, 7.953660011291504, 0.6728200316429138, 2.361564874649048, 3.5418081283569336, 3.5125954151153564, 5.980264663696289, 5.584636211395264], \"z\": [2.9131076335906982, 0.8189966082572937, 4.786668300628662, -0.4968533217906952, 2.4969027042388916, 6.893050193786621, 0.08340156078338623, 3.753394603729248, -1.1526789665222168, -1.0531333684921265, 3.5203468799591064, -0.5341728925704956, 2.374964475631714, 4.277054309844971, 6.343841075897217, 4.033255577087402, 2.4300482273101807, -11.142989158630371, -6.778247356414795, -11.234708786010742, -5.514866828918457, -7.215921878814697, -4.0894389152526855, -5.609476089477539, -5.485042572021484, -5.694913387298584, -5.724052429199219, -7.941567420959473, 0.9121881127357483, 7.057661533355713, 6.831152439117432, -0.8251717686653137, 2.3188419342041016, 6.184942245483398, 4.912389755249023, -2.832237720489502, 1.2808598279953003, 0.7482430934906006]}],\n",
              "                        {\"legend\": {\"tracegroupgap\": 0}, \"margin\": {\"t\": 60}, \"scene\": {\"domain\": {\"x\": [0.0, 1.0], \"y\": [0.0, 1.0]}, \"xaxis\": {\"title\": {\"text\": \"tsne1\"}}, \"yaxis\": {\"title\": {\"text\": \"tsne2\"}}, \"zaxis\": {\"title\": {\"text\": \"tsne3\"}}}, \"template\": {\"data\": {\"bar\": [{\"error_x\": {\"color\": \"#2a3f5f\"}, \"error_y\": {\"color\": \"#2a3f5f\"}, \"marker\": {\"line\": {\"color\": \"#E5ECF6\", \"width\": 0.5}}, \"type\": \"bar\"}], \"barpolar\": [{\"marker\": {\"line\": {\"color\": \"#E5ECF6\", \"width\": 0.5}}, \"type\": \"barpolar\"}], \"carpet\": [{\"aaxis\": {\"endlinecolor\": \"#2a3f5f\", \"gridcolor\": \"white\", \"linecolor\": \"white\", \"minorgridcolor\": \"white\", \"startlinecolor\": \"#2a3f5f\"}, \"baxis\": {\"endlinecolor\": \"#2a3f5f\", \"gridcolor\": \"white\", \"linecolor\": \"white\", \"minorgridcolor\": \"white\", \"startlinecolor\": \"#2a3f5f\"}, \"type\": \"carpet\"}], \"choropleth\": [{\"colorbar\": {\"outlinewidth\": 0, \"ticks\": \"\"}, \"type\": \"choropleth\"}], \"contour\": [{\"colorbar\": {\"outlinewidth\": 0, \"ticks\": \"\"}, \"colorscale\": [[0.0, \"#0d0887\"], [0.1111111111111111, \"#46039f\"], [0.2222222222222222, \"#7201a8\"], [0.3333333333333333, \"#9c179e\"], [0.4444444444444444, \"#bd3786\"], [0.5555555555555556, \"#d8576b\"], [0.6666666666666666, \"#ed7953\"], [0.7777777777777778, \"#fb9f3a\"], [0.8888888888888888, \"#fdca26\"], [1.0, \"#f0f921\"]], \"type\": \"contour\"}], \"contourcarpet\": [{\"colorbar\": {\"outlinewidth\": 0, \"ticks\": \"\"}, \"type\": \"contourcarpet\"}], \"heatmap\": [{\"colorbar\": {\"outlinewidth\": 0, \"ticks\": \"\"}, \"colorscale\": [[0.0, \"#0d0887\"], [0.1111111111111111, \"#46039f\"], [0.2222222222222222, \"#7201a8\"], [0.3333333333333333, \"#9c179e\"], [0.4444444444444444, \"#bd3786\"], [0.5555555555555556, \"#d8576b\"], [0.6666666666666666, \"#ed7953\"], [0.7777777777777778, \"#fb9f3a\"], [0.8888888888888888, \"#fdca26\"], [1.0, \"#f0f921\"]], \"type\": \"heatmap\"}], \"heatmapgl\": [{\"colorbar\": {\"outlinewidth\": 0, \"ticks\": \"\"}, \"colorscale\": [[0.0, \"#0d0887\"], [0.1111111111111111, \"#46039f\"], [0.2222222222222222, \"#7201a8\"], [0.3333333333333333, \"#9c179e\"], [0.4444444444444444, \"#bd3786\"], [0.5555555555555556, \"#d8576b\"], [0.6666666666666666, \"#ed7953\"], [0.7777777777777778, \"#fb9f3a\"], [0.8888888888888888, \"#fdca26\"], [1.0, \"#f0f921\"]], \"type\": \"heatmapgl\"}], \"histogram\": [{\"marker\": {\"colorbar\": {\"outlinewidth\": 0, \"ticks\": \"\"}}, \"type\": \"histogram\"}], \"histogram2d\": [{\"colorbar\": {\"outlinewidth\": 0, \"ticks\": \"\"}, \"colorscale\": [[0.0, \"#0d0887\"], [0.1111111111111111, \"#46039f\"], [0.2222222222222222, \"#7201a8\"], [0.3333333333333333, \"#9c179e\"], [0.4444444444444444, \"#bd3786\"], [0.5555555555555556, \"#d8576b\"], [0.6666666666666666, \"#ed7953\"], [0.7777777777777778, \"#fb9f3a\"], [0.8888888888888888, \"#fdca26\"], [1.0, \"#f0f921\"]], \"type\": \"histogram2d\"}], \"histogram2dcontour\": [{\"colorbar\": {\"outlinewidth\": 0, \"ticks\": \"\"}, \"colorscale\": [[0.0, \"#0d0887\"], [0.1111111111111111, \"#46039f\"], [0.2222222222222222, \"#7201a8\"], [0.3333333333333333, \"#9c179e\"], [0.4444444444444444, \"#bd3786\"], [0.5555555555555556, \"#d8576b\"], [0.6666666666666666, \"#ed7953\"], [0.7777777777777778, \"#fb9f3a\"], [0.8888888888888888, \"#fdca26\"], [1.0, \"#f0f921\"]], \"type\": \"histogram2dcontour\"}], \"mesh3d\": [{\"colorbar\": {\"outlinewidth\": 0, \"ticks\": \"\"}, \"type\": \"mesh3d\"}], \"parcoords\": [{\"line\": {\"colorbar\": {\"outlinewidth\": 0, \"ticks\": \"\"}}, \"type\": \"parcoords\"}], \"pie\": [{\"automargin\": true, \"type\": \"pie\"}], \"scatter\": [{\"marker\": {\"colorbar\": {\"outlinewidth\": 0, \"ticks\": \"\"}}, \"type\": \"scatter\"}], \"scatter3d\": [{\"line\": {\"colorbar\": {\"outlinewidth\": 0, \"ticks\": \"\"}}, \"marker\": {\"colorbar\": {\"outlinewidth\": 0, \"ticks\": \"\"}}, \"type\": \"scatter3d\"}], \"scattercarpet\": [{\"marker\": {\"colorbar\": {\"outlinewidth\": 0, \"ticks\": \"\"}}, \"type\": \"scattercarpet\"}], \"scattergeo\": [{\"marker\": {\"colorbar\": {\"outlinewidth\": 0, \"ticks\": \"\"}}, \"type\": \"scattergeo\"}], \"scattergl\": [{\"marker\": {\"colorbar\": {\"outlinewidth\": 0, \"ticks\": \"\"}}, \"type\": \"scattergl\"}], \"scattermapbox\": [{\"marker\": {\"colorbar\": {\"outlinewidth\": 0, \"ticks\": \"\"}}, \"type\": \"scattermapbox\"}], \"scatterpolar\": [{\"marker\": {\"colorbar\": {\"outlinewidth\": 0, \"ticks\": \"\"}}, \"type\": \"scatterpolar\"}], \"scatterpolargl\": [{\"marker\": {\"colorbar\": {\"outlinewidth\": 0, \"ticks\": \"\"}}, \"type\": \"scatterpolargl\"}], \"scatterternary\": [{\"marker\": {\"colorbar\": {\"outlinewidth\": 0, \"ticks\": \"\"}}, \"type\": \"scatterternary\"}], \"surface\": [{\"colorbar\": {\"outlinewidth\": 0, \"ticks\": \"\"}, \"colorscale\": [[0.0, \"#0d0887\"], [0.1111111111111111, \"#46039f\"], [0.2222222222222222, \"#7201a8\"], [0.3333333333333333, \"#9c179e\"], [0.4444444444444444, \"#bd3786\"], [0.5555555555555556, \"#d8576b\"], [0.6666666666666666, \"#ed7953\"], [0.7777777777777778, \"#fb9f3a\"], [0.8888888888888888, \"#fdca26\"], [1.0, \"#f0f921\"]], \"type\": \"surface\"}], \"table\": [{\"cells\": {\"fill\": {\"color\": \"#EBF0F8\"}, \"line\": {\"color\": \"white\"}}, \"header\": {\"fill\": {\"color\": \"#C8D4E3\"}, \"line\": {\"color\": \"white\"}}, \"type\": \"table\"}]}, \"layout\": {\"annotationdefaults\": {\"arrowcolor\": \"#2a3f5f\", \"arrowhead\": 0, \"arrowwidth\": 1}, \"coloraxis\": {\"colorbar\": {\"outlinewidth\": 0, \"ticks\": \"\"}}, \"colorscale\": {\"diverging\": [[0, \"#8e0152\"], [0.1, \"#c51b7d\"], [0.2, \"#de77ae\"], [0.3, \"#f1b6da\"], [0.4, \"#fde0ef\"], [0.5, \"#f7f7f7\"], [0.6, \"#e6f5d0\"], [0.7, \"#b8e186\"], [0.8, \"#7fbc41\"], [0.9, \"#4d9221\"], [1, \"#276419\"]], \"sequential\": [[0.0, \"#0d0887\"], [0.1111111111111111, \"#46039f\"], [0.2222222222222222, \"#7201a8\"], [0.3333333333333333, \"#9c179e\"], [0.4444444444444444, \"#bd3786\"], [0.5555555555555556, \"#d8576b\"], [0.6666666666666666, \"#ed7953\"], [0.7777777777777778, \"#fb9f3a\"], [0.8888888888888888, \"#fdca26\"], [1.0, \"#f0f921\"]], \"sequentialminus\": [[0.0, \"#0d0887\"], [0.1111111111111111, \"#46039f\"], [0.2222222222222222, \"#7201a8\"], [0.3333333333333333, \"#9c179e\"], [0.4444444444444444, \"#bd3786\"], [0.5555555555555556, \"#d8576b\"], [0.6666666666666666, \"#ed7953\"], [0.7777777777777778, \"#fb9f3a\"], [0.8888888888888888, \"#fdca26\"], [1.0, \"#f0f921\"]]}, \"colorway\": [\"#636efa\", \"#EF553B\", \"#00cc96\", \"#ab63fa\", \"#FFA15A\", \"#19d3f3\", \"#FF6692\", \"#B6E880\", \"#FF97FF\", \"#FECB52\"], \"font\": {\"color\": \"#2a3f5f\"}, \"geo\": {\"bgcolor\": \"white\", \"lakecolor\": \"white\", \"landcolor\": \"#E5ECF6\", \"showlakes\": true, \"showland\": true, \"subunitcolor\": \"white\"}, \"hoverlabel\": {\"align\": \"left\"}, \"hovermode\": \"closest\", \"mapbox\": {\"style\": \"light\"}, \"paper_bgcolor\": \"white\", \"plot_bgcolor\": \"#E5ECF6\", \"polar\": {\"angularaxis\": {\"gridcolor\": \"white\", \"linecolor\": \"white\", \"ticks\": \"\"}, \"bgcolor\": \"#E5ECF6\", \"radialaxis\": {\"gridcolor\": \"white\", \"linecolor\": \"white\", \"ticks\": \"\"}}, \"scene\": {\"xaxis\": {\"backgroundcolor\": \"#E5ECF6\", \"gridcolor\": \"white\", \"gridwidth\": 2, \"linecolor\": \"white\", \"showbackground\": true, \"ticks\": \"\", \"zerolinecolor\": \"white\"}, \"yaxis\": {\"backgroundcolor\": \"#E5ECF6\", \"gridcolor\": \"white\", \"gridwidth\": 2, \"linecolor\": \"white\", \"showbackground\": true, \"ticks\": \"\", \"zerolinecolor\": \"white\"}, \"zaxis\": {\"backgroundcolor\": \"#E5ECF6\", \"gridcolor\": \"white\", \"gridwidth\": 2, \"linecolor\": \"white\", \"showbackground\": true, \"ticks\": \"\", \"zerolinecolor\": \"white\"}}, \"shapedefaults\": {\"line\": {\"color\": \"#2a3f5f\"}}, \"ternary\": {\"aaxis\": {\"gridcolor\": \"white\", \"linecolor\": \"white\", \"ticks\": \"\"}, \"baxis\": {\"gridcolor\": \"white\", \"linecolor\": \"white\", \"ticks\": \"\"}, \"bgcolor\": \"#E5ECF6\", \"caxis\": {\"gridcolor\": \"white\", \"linecolor\": \"white\", \"ticks\": \"\"}}, \"title\": {\"x\": 0.05}, \"xaxis\": {\"automargin\": true, \"gridcolor\": \"white\", \"linecolor\": \"white\", \"ticks\": \"\", \"title\": {\"standoff\": 15}, \"zerolinecolor\": \"white\", \"zerolinewidth\": 2}, \"yaxis\": {\"automargin\": true, \"gridcolor\": \"white\", \"linecolor\": \"white\", \"ticks\": \"\", \"title\": {\"standoff\": 15}, \"zerolinecolor\": \"white\", \"zerolinewidth\": 2}}}},\n",
              "                        {\"responsive\": true}\n",
              "                    ).then(function(){\n",
              "                            \n",
              "var gd = document.getElementById('704c8a86-ec95-4ddf-ad61-23353cde0f4a');\n",
              "var x = new MutationObserver(function (mutations, observer) {{\n",
              "        var display = window.getComputedStyle(gd).display;\n",
              "        if (!display || display === 'none') {{\n",
              "            console.log([gd, 'removed!']);\n",
              "            Plotly.purge(gd);\n",
              "            observer.disconnect();\n",
              "        }}\n",
              "}});\n",
              "\n",
              "// Listen for the removal of the full notebook cells\n",
              "var notebookContainer = gd.closest('#notebook-container');\n",
              "if (notebookContainer) {{\n",
              "    x.observe(notebookContainer, {childList: true});\n",
              "}}\n",
              "\n",
              "// Listen for the clearing of the current output cell\n",
              "var outputEl = gd.closest('.output');\n",
              "if (outputEl) {{\n",
              "    x.observe(outputEl, {childList: true});\n",
              "}}\n",
              "\n",
              "                        })\n",
              "                };\n",
              "                \n",
              "            </script>\n",
              "        </div>\n",
              "</body>\n",
              "</html>"
            ]
          },
          "metadata": {
            "tags": []
          }
        }
      ]
    },
    {
      "cell_type": "markdown",
      "metadata": {
        "id": "Zf0ZQcX5A-Xh",
        "colab_type": "text"
      },
      "source": [
        "Split the train data into train and validation \n",
        "\n",
        "```X_train``` = training features  \n",
        "```X_test``` = validation features  \n",
        "```Y_train``` = training labels  \n",
        "```Y_test``` = validation labels  "
      ]
    },
    {
      "cell_type": "code",
      "metadata": {
        "id": "4XKd2oUSBotf",
        "colab_type": "code",
        "colab": {}
      },
      "source": [
        "X_train,X_test,Y_train,Y_test = train_test_split(npf_ica,Y,random_state=42)"
      ],
      "execution_count": 0,
      "outputs": []
    },
    {
      "cell_type": "code",
      "metadata": {
        "id": "Mla1y2mHHyLL",
        "colab_type": "code",
        "outputId": "d46d90a0-4c15-4ce2-9d40-5ae6a5c47307",
        "colab": {
          "base_uri": "https://localhost:8080/",
          "height": 34
        }
      },
      "source": [
        "X_train.shape,X_test.shape,Y_train.shape,Y_test.shape"
      ],
      "execution_count": 30,
      "outputs": [
        {
          "output_type": "execute_result",
          "data": {
            "text/plain": [
              "((543, 4), (181, 4), (543,), (181,))"
            ]
          },
          "metadata": {
            "tags": []
          },
          "execution_count": 30
        }
      ]
    },
    {
      "cell_type": "markdown",
      "metadata": {
        "id": "xJJamKEsKBP_",
        "colab_type": "text"
      },
      "source": [
        "# Try different classification models"
      ]
    },
    {
      "cell_type": "code",
      "metadata": {
        "id": "x_2BjQkcKAy2",
        "colab_type": "code",
        "colab": {}
      },
      "source": [
        "names = [\"Nearest Neighbors\", \"Linear SVM\", \"RBF SVM\", \"Gaussian Process\",\n",
        "         \"Decision Tree\", \"Random Forest\", \"Neural Net\", \"AdaBoost\",\n",
        "         \"Naive Bayes\", \"QDA\"]\n",
        "\n",
        "classifiers = [\n",
        "    KNeighborsClassifier(3),\n",
        "    SVC(kernel=\"linear\", C=0.025),\n",
        "    SVC(gamma=2, C=1),\n",
        "    GaussianProcessClassifier(1.0 * RBF(1.0)),\n",
        "    DecisionTreeClassifier(max_depth=5),\n",
        "    RandomForestClassifier(max_depth=5, n_estimators=10, max_features=1),\n",
        "    MLPClassifier(alpha=1, max_iter=1000),\n",
        "    AdaBoostClassifier(),\n",
        "    GaussianNB(),\n",
        "    QuadraticDiscriminantAnalysis()]"
      ],
      "execution_count": 0,
      "outputs": []
    },
    {
      "cell_type": "markdown",
      "metadata": {
        "id": "R_IwFcxGBHYr",
        "colab_type": "text"
      },
      "source": [
        "Use cross-validation to find the best model"
      ]
    },
    {
      "cell_type": "code",
      "metadata": {
        "id": "d8MTiBzrNpQD",
        "colab_type": "code",
        "outputId": "1c5624e7-4cee-4bdb-8bda-1ce060c4bbff",
        "colab": {
          "base_uri": "https://localhost:8080/",
          "height": 187
        }
      },
      "source": [
        "# iterate over classifiers\n",
        "for name, clf in zip(names, classifiers):\n",
        "    clf.fit(X_train, Y_train)\n",
        "    score = clf.score(X_test, Y_test)\n",
        "    print(\"%s:  %0.2f %%\" % (name,score*100))"
      ],
      "execution_count": 32,
      "outputs": [
        {
          "output_type": "stream",
          "text": [
            "Nearest Neighbors:  64.64 %\n",
            "Linear SVM:  55.25 %\n",
            "RBF SVM:  59.12 %\n",
            "Gaussian Process:  65.75 %\n",
            "Decision Tree:  61.33 %\n",
            "Random Forest:  64.09 %\n",
            "Neural Net:  61.33 %\n",
            "AdaBoost:  58.56 %\n",
            "Naive Bayes:  60.77 %\n",
            "QDA:  63.54 %\n"
          ],
          "name": "stdout"
        }
      ]
    },
    {
      "cell_type": "markdown",
      "metadata": {
        "id": "cdFqJLiNBspt",
        "colab_type": "text"
      },
      "source": [
        "Use 10-fold cross-validation to find the best model"
      ]
    },
    {
      "cell_type": "code",
      "metadata": {
        "id": "sg7M0yD6Wm9U",
        "colab_type": "code",
        "outputId": "5f8b4122-22c4-4531-d0bf-a08a5074039d",
        "colab": {
          "base_uri": "https://localhost:8080/",
          "height": 187
        }
      },
      "source": [
        "#cross validation\n",
        "# DECLARATION #\n",
        "kf = KFold(n_splits=10)\n",
        "# CODE #\n",
        "scores=[]\n",
        "# iterate over k-folds\n",
        "for train, val in kf.split(npf_pca):\n",
        "    scores_iter=[]\n",
        "    # iterate over classifiers\n",
        "    for name, clf in zip(names, classifiers):\n",
        "        clf.fit(npf_pca.iloc[train], Y[train])\n",
        "        score = clf.score(npf_pca.iloc[val], Y[val])\n",
        "        scores_iter.append(score)\n",
        "        #print(\"{}:  {}\".format(name,score))\n",
        "    scores.append(scores_iter)\n",
        "#print(scores)\n",
        "scores=np.mean(scores,axis=0)\n",
        "#print(scores)\n",
        "for name, score in zip(names, scores):\n",
        "     print(\"%s:  %0.2f %%\" % (name,score*100))"
      ],
      "execution_count": 33,
      "outputs": [
        {
          "output_type": "stream",
          "text": [
            "Nearest Neighbors:  62.87 %\n",
            "Linear SVM:  61.08 %\n",
            "RBF SVM:  57.52 %\n",
            "Gaussian Process:  68.41 %\n",
            "Decision Tree:  61.92 %\n",
            "Random Forest:  64.82 %\n",
            "Neural Net:  67.58 %\n",
            "AdaBoost:  59.70 %\n",
            "Naive Bayes:  64.81 %\n",
            "QDA:  65.21 %\n"
          ],
          "name": "stdout"
        }
      ]
    },
    {
      "cell_type": "markdown",
      "metadata": {
        "id": "5Ze8xKTsBOaZ",
        "colab_type": "text"
      },
      "source": [
        "Train the model \n",
        "\n",
        "We pick Gaussian processes "
      ]
    },
    {
      "cell_type": "code",
      "metadata": {
        "id": "9gKo1jdq-o_i",
        "colab_type": "code",
        "colab": {}
      },
      "source": [
        "model = GaussianProcessClassifier(1.0 * RBF(1.0))\n",
        "# Wanted to test also the neural net\n",
        "#model = MLPClassifier(alpha=1, max_iter=1000)   "
      ],
      "execution_count": 0,
      "outputs": []
    },
    {
      "cell_type": "markdown",
      "metadata": {
        "id": "Cv8ZAhvovh1W",
        "colab_type": "text"
      },
      "source": [
        "Fit the model"
      ]
    },
    {
      "cell_type": "code",
      "metadata": {
        "id": "x9_Hbi0biJMA",
        "colab_type": "code",
        "outputId": "cc96848d-9193-497e-b96b-035083a2d450",
        "colab": {
          "base_uri": "https://localhost:8080/",
          "height": 102
        }
      },
      "source": [
        "model.fit(npf_ica,Y)"
      ],
      "execution_count": 35,
      "outputs": [
        {
          "output_type": "execute_result",
          "data": {
            "text/plain": [
              "GaussianProcessClassifier(copy_X_train=True, kernel=1**2 * RBF(length_scale=1),\n",
              "                          max_iter_predict=100, multi_class='one_vs_rest',\n",
              "                          n_jobs=None, n_restarts_optimizer=0,\n",
              "                          optimizer='fmin_l_bfgs_b', random_state=None,\n",
              "                          warm_start=False)"
            ]
          },
          "metadata": {
            "tags": []
          },
          "execution_count": 35
        }
      ]
    },
    {
      "cell_type": "markdown",
      "metadata": {
        "id": "AkkpHtLXi5ZN",
        "colab_type": "text"
      },
      "source": [
        "Predict values for npf_test_hidden.csv  \n",
        "Using ICA transformed data"
      ]
    },
    {
      "cell_type": "code",
      "metadata": {
        "id": "feu8zwhuizTT",
        "colab_type": "code",
        "colab": {}
      },
      "source": [
        "prediction = model.predict(test_ica)\n",
        "#prediction = model.predict(npf_ica)    # this is a test\n",
        "prediction = labeler.inverse_transform(prediction)\n",
        "\n",
        "probs = model.predict_proba(test_ica)\n",
        "#probs = model.predict_proba(npf_ica)    # this is a test\n",
        "#probs = np.max(probs, axis=1) "
      ],
      "execution_count": 0,
      "outputs": []
    },
    {
      "cell_type": "code",
      "metadata": {
        "id": "bYq0eP9A8QbG",
        "colab_type": "code",
        "colab": {}
      },
      "source": [
        "# sum probabilities of event = p(1a) + p(1b) + p(2), p(nonevent) is 3rd column\n",
        "probs = np.sum(probs[:,:3], axis=1)"
      ],
      "execution_count": 0,
      "outputs": []
    },
    {
      "cell_type": "code",
      "metadata": {
        "id": "_rh-LzZcmUy2",
        "colab_type": "code",
        "colab": {}
      },
      "source": [
        "results_df = pd.DataFrame(zip(prediction,probs),columns=[\"event\",\"p_event\"])"
      ],
      "execution_count": 0,
      "outputs": []
    },
    {
      "cell_type": "code",
      "metadata": {
        "id": "coD3k3nvqxHi",
        "colab_type": "code",
        "outputId": "9e1a920c-fb83-435e-e64e-4379d44ee02d",
        "colab": {
          "base_uri": "https://localhost:8080/",
          "height": 359
        }
      },
      "source": [
        "results_df.head(10)"
      ],
      "execution_count": 45,
      "outputs": [
        {
          "output_type": "execute_result",
          "data": {
            "text/html": [
              "<div>\n",
              "<style scoped>\n",
              "    .dataframe tbody tr th:only-of-type {\n",
              "        vertical-align: middle;\n",
              "    }\n",
              "\n",
              "    .dataframe tbody tr th {\n",
              "        vertical-align: top;\n",
              "    }\n",
              "\n",
              "    .dataframe thead th {\n",
              "        text-align: right;\n",
              "    }\n",
              "</style>\n",
              "<table border=\"1\" class=\"dataframe\">\n",
              "  <thead>\n",
              "    <tr style=\"text-align: right;\">\n",
              "      <th></th>\n",
              "      <th>event</th>\n",
              "      <th>p_event</th>\n",
              "    </tr>\n",
              "  </thead>\n",
              "  <tbody>\n",
              "    <tr>\n",
              "      <th>0</th>\n",
              "      <td>nonevent</td>\n",
              "      <td>0.467028</td>\n",
              "    </tr>\n",
              "    <tr>\n",
              "      <th>1</th>\n",
              "      <td>nonevent</td>\n",
              "      <td>0.170441</td>\n",
              "    </tr>\n",
              "    <tr>\n",
              "      <th>2</th>\n",
              "      <td>nonevent</td>\n",
              "      <td>0.093543</td>\n",
              "    </tr>\n",
              "    <tr>\n",
              "      <th>3</th>\n",
              "      <td>nonevent</td>\n",
              "      <td>0.334076</td>\n",
              "    </tr>\n",
              "    <tr>\n",
              "      <th>4</th>\n",
              "      <td>nonevent</td>\n",
              "      <td>0.433850</td>\n",
              "    </tr>\n",
              "    <tr>\n",
              "      <th>5</th>\n",
              "      <td>nonevent</td>\n",
              "      <td>0.153963</td>\n",
              "    </tr>\n",
              "    <tr>\n",
              "      <th>6</th>\n",
              "      <td>nonevent</td>\n",
              "      <td>0.166439</td>\n",
              "    </tr>\n",
              "    <tr>\n",
              "      <th>7</th>\n",
              "      <td>II</td>\n",
              "      <td>0.946102</td>\n",
              "    </tr>\n",
              "    <tr>\n",
              "      <th>8</th>\n",
              "      <td>nonevent</td>\n",
              "      <td>0.058983</td>\n",
              "    </tr>\n",
              "    <tr>\n",
              "      <th>9</th>\n",
              "      <td>II</td>\n",
              "      <td>0.710914</td>\n",
              "    </tr>\n",
              "  </tbody>\n",
              "</table>\n",
              "</div>"
            ],
            "text/plain": [
              "      event   p_event\n",
              "0  nonevent  0.467028\n",
              "1  nonevent  0.170441\n",
              "2  nonevent  0.093543\n",
              "3  nonevent  0.334076\n",
              "4  nonevent  0.433850\n",
              "5  nonevent  0.153963\n",
              "6  nonevent  0.166439\n",
              "7        II  0.946102\n",
              "8  nonevent  0.058983\n",
              "9        II  0.710914"
            ]
          },
          "metadata": {
            "tags": []
          },
          "execution_count": 45
        }
      ]
    },
    {
      "cell_type": "markdown",
      "metadata": {
        "id": "n-psZgXNvyKb",
        "colab_type": "text"
      },
      "source": [
        "Print out a csv"
      ]
    },
    {
      "cell_type": "code",
      "metadata": {
        "id": "jCPu6zctuPow",
        "colab_type": "code",
        "colab": {}
      },
      "source": [
        "results_df.to_csv(\"/content/drive/My Drive/Colab Notebooks/answers.csv\",index=False)"
      ],
      "execution_count": 0,
      "outputs": []
    },
    {
      "cell_type": "code",
      "metadata": {
        "id": "z71gEpjOCmSC",
        "colab_type": "code",
        "colab": {}
      },
      "source": [
        ""
      ],
      "execution_count": 0,
      "outputs": []
    }
  ]
}