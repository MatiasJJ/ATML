{
  "nbformat": 4,
  "nbformat_minor": 0,
  "metadata": {
    "colab": {
      "name": "Project_Matias_Jakub_Madeleine.ipynb",
      "provenance": [],
      "collapsed_sections": [],
      "toc_visible": true,
      "include_colab_link": true
    },
    "kernelspec": {
      "name": "python3",
      "display_name": "Python 3"
    }
  },
  "cells": [
    {
      "cell_type": "markdown",
      "metadata": {
        "id": "view-in-github",
        "colab_type": "text"
      },
      "source": [
        "<a href=\"https://colab.research.google.com/github/MatiasJJ/ATML/blob/edits/Project/Project_Matias_Jakub_Madeleine.ipynb\" target=\"_parent\"><img src=\"https://colab.research.google.com/assets/colab-badge.svg\" alt=\"Open In Colab\"/></a>"
      ]
    },
    {
      "cell_type": "code",
      "metadata": {
        "id": "qOBIG5XR9VFU",
        "colab_type": "code",
        "colab": {}
      },
      "source": [
        "import numpy as np\n",
        "import pandas as pd\n",
        "import matplotlib.pyplot as plt\n",
        "import seaborn as sns\n",
        "import plotly.express as px\n",
        "\n",
        "from sklearn.preprocessing import LabelEncoder\n",
        "from sklearn.model_selection import cross_val_score\n",
        "\n",
        "# Supervised learning\n",
        "from sklearn.neural_network import MLPClassifier\n",
        "from sklearn.neighbors import KNeighborsClassifier\n",
        "from sklearn.svm import SVC\n",
        "from sklearn.gaussian_process import GaussianProcessClassifier\n",
        "from sklearn.gaussian_process.kernels import RBF\n",
        "from sklearn.tree import DecisionTreeClassifier\n",
        "from sklearn.ensemble import RandomForestClassifier, AdaBoostClassifier\n",
        "from sklearn.naive_bayes import GaussianNB\n",
        "from sklearn.discriminant_analysis import QuadraticDiscriminantAnalysis\n",
        "from sklearn.model_selection import KFold, train_test_split\n",
        "import statsmodels.formula.api as smf\n",
        "import statsmodels.api as sm\n",
        "\n",
        "# Unsupervised learning\n",
        "from sklearn.decomposition import PCA\n",
        "from sklearn.cluster import KMeans\n",
        "from sklearn.preprocessing import StandardScaler, Normalizer\n",
        "from scipy.optimize import linear_sum_assignment"
      ],
      "execution_count": 0,
      "outputs": []
    },
    {
      "cell_type": "markdown",
      "metadata": {
        "id": "SAl7tPDK8fUv",
        "colab_type": "text"
      },
      "source": [
        "# Project\n",
        "\n",
        "Madeleine Ekblom, Matias Jääskeläinen, Jakub Kubečka\n",
        "\n",
        "Time used: many hours"
      ]
    },
    {
      "cell_type": "markdown",
      "metadata": {
        "id": "k8pE_E499dqE",
        "colab_type": "text"
      },
      "source": [
        "Read in the data"
      ]
    },
    {
      "cell_type": "code",
      "metadata": {
        "id": "xF_7rZFg8Zva",
        "colab_type": "code",
        "colab": {}
      },
      "source": [
        "dummy = pd.read_csv(\"/content/sample_data/dummy.csv\")\n",
        "npf_train = pd.read_csv(\"/content/sample_data/npf_train.csv\")\n",
        "npf_test_hidden = pd.read_csv(\"/content/sample_data/npf_test_hidden.csv\")"
      ],
      "execution_count": 0,
      "outputs": []
    },
    {
      "cell_type": "markdown",
      "metadata": {
        "id": "XXW8aSH49iH3",
        "colab_type": "text"
      },
      "source": [
        "See the columns"
      ]
    },
    {
      "cell_type": "code",
      "metadata": {
        "id": "8jGoKNEu-jom",
        "colab_type": "code",
        "outputId": "2351d9f3-f616-44fe-e588-3a9717d5afe1",
        "colab": {
          "base_uri": "https://localhost:8080/",
          "height": 194
        }
      },
      "source": [
        "npf_train.head(2)"
      ],
      "execution_count": 0,
      "outputs": [
        {
          "output_type": "execute_result",
          "data": {
            "text/html": [
              "<div>\n",
              "<style scoped>\n",
              "    .dataframe tbody tr th:only-of-type {\n",
              "        vertical-align: middle;\n",
              "    }\n",
              "\n",
              "    .dataframe tbody tr th {\n",
              "        vertical-align: top;\n",
              "    }\n",
              "\n",
              "    .dataframe thead th {\n",
              "        text-align: right;\n",
              "    }\n",
              "</style>\n",
              "<table border=\"1\" class=\"dataframe\">\n",
              "  <thead>\n",
              "    <tr style=\"text-align: right;\">\n",
              "      <th></th>\n",
              "      <th>id</th>\n",
              "      <th>date</th>\n",
              "      <th>event</th>\n",
              "      <th>partlybad</th>\n",
              "      <th>HYY_META.CO2168.mean</th>\n",
              "      <th>HYY_META.CO2168.std</th>\n",
              "      <th>HYY_META.CO2336.mean</th>\n",
              "      <th>HYY_META.CO2336.std</th>\n",
              "      <th>HYY_META.CO242.mean</th>\n",
              "      <th>HYY_META.CO242.std</th>\n",
              "      <th>HYY_META.CO2504.mean</th>\n",
              "      <th>HYY_META.CO2504.std</th>\n",
              "      <th>HYY_META.Glob.mean</th>\n",
              "      <th>HYY_META.Glob.std</th>\n",
              "      <th>HYY_META.H2O168.mean</th>\n",
              "      <th>HYY_META.H2O168.std</th>\n",
              "      <th>HYY_META.H2O336.mean</th>\n",
              "      <th>HYY_META.H2O336.std</th>\n",
              "      <th>HYY_META.H2O42.mean</th>\n",
              "      <th>HYY_META.H2O42.std</th>\n",
              "      <th>HYY_META.H2O504.mean</th>\n",
              "      <th>HYY_META.H2O504.std</th>\n",
              "      <th>HYY_META.H2O672.mean</th>\n",
              "      <th>HYY_META.H2O672.std</th>\n",
              "      <th>HYY_META.H2O84.mean</th>\n",
              "      <th>HYY_META.H2O84.std</th>\n",
              "      <th>HYY_META.NET.mean</th>\n",
              "      <th>HYY_META.NET.std</th>\n",
              "      <th>HYY_META.NO168.mean</th>\n",
              "      <th>HYY_META.NO168.std</th>\n",
              "      <th>HYY_META.NO336.mean</th>\n",
              "      <th>HYY_META.NO336.std</th>\n",
              "      <th>HYY_META.NO42.mean</th>\n",
              "      <th>HYY_META.NO42.std</th>\n",
              "      <th>HYY_META.NO504.mean</th>\n",
              "      <th>HYY_META.NO504.std</th>\n",
              "      <th>HYY_META.NO672.mean</th>\n",
              "      <th>HYY_META.NO672.std</th>\n",
              "      <th>HYY_META.NO84.mean</th>\n",
              "      <th>HYY_META.NO84.std</th>\n",
              "      <th>...</th>\n",
              "      <th>HYY_META.PAR.mean</th>\n",
              "      <th>HYY_META.PAR.std</th>\n",
              "      <th>HYY_META.PTG.mean</th>\n",
              "      <th>HYY_META.PTG.std</th>\n",
              "      <th>HYY_META.RGlob.mean</th>\n",
              "      <th>HYY_META.RGlob.std</th>\n",
              "      <th>HYY_META.RHIRGA168.mean</th>\n",
              "      <th>HYY_META.RHIRGA168.std</th>\n",
              "      <th>HYY_META.RHIRGA336.mean</th>\n",
              "      <th>HYY_META.RHIRGA336.std</th>\n",
              "      <th>HYY_META.RHIRGA42.mean</th>\n",
              "      <th>HYY_META.RHIRGA42.std</th>\n",
              "      <th>HYY_META.RHIRGA504.mean</th>\n",
              "      <th>HYY_META.RHIRGA504.std</th>\n",
              "      <th>HYY_META.RHIRGA672.mean</th>\n",
              "      <th>HYY_META.RHIRGA672.std</th>\n",
              "      <th>HYY_META.RHIRGA84.mean</th>\n",
              "      <th>HYY_META.RHIRGA84.std</th>\n",
              "      <th>HYY_META.RPAR.mean</th>\n",
              "      <th>HYY_META.RPAR.std</th>\n",
              "      <th>HYY_META.SO2168.mean</th>\n",
              "      <th>HYY_META.SO2168.std</th>\n",
              "      <th>HYY_META.SWS.mean</th>\n",
              "      <th>HYY_META.SWS.std</th>\n",
              "      <th>HYY_META.T168.mean</th>\n",
              "      <th>HYY_META.T168.std</th>\n",
              "      <th>HYY_META.T42.mean</th>\n",
              "      <th>HYY_META.T42.std</th>\n",
              "      <th>HYY_META.T504.mean</th>\n",
              "      <th>HYY_META.T504.std</th>\n",
              "      <th>HYY_META.T672.mean</th>\n",
              "      <th>HYY_META.T672.std</th>\n",
              "      <th>HYY_META.T84.mean</th>\n",
              "      <th>HYY_META.T84.std</th>\n",
              "      <th>HYY_META.UV_A.mean</th>\n",
              "      <th>HYY_META.UV_A.std</th>\n",
              "      <th>HYY_META.UV_B.mean</th>\n",
              "      <th>HYY_META.UV_B.std</th>\n",
              "      <th>CS.mean</th>\n",
              "      <th>CS.std</th>\n",
              "    </tr>\n",
              "  </thead>\n",
              "  <tbody>\n",
              "    <tr>\n",
              "      <th>0</th>\n",
              "      <td>1</td>\n",
              "      <td>2000-01-23</td>\n",
              "      <td>nonevent</td>\n",
              "      <td>False</td>\n",
              "      <td>373.496585</td>\n",
              "      <td>0.189497</td>\n",
              "      <td>373.382593</td>\n",
              "      <td>0.172958</td>\n",
              "      <td>373.961481</td>\n",
              "      <td>0.235107</td>\n",
              "      <td>373.275062</td>\n",
              "      <td>0.165500</td>\n",
              "      <td>29.800885</td>\n",
              "      <td>22.892316</td>\n",
              "      <td>2.741951</td>\n",
              "      <td>0.253662</td>\n",
              "      <td>2.741975</td>\n",
              "      <td>0.238125</td>\n",
              "      <td>2.749136</td>\n",
              "      <td>0.256988</td>\n",
              "      <td>2.736543</td>\n",
              "      <td>0.226292</td>\n",
              "      <td>2.739259</td>\n",
              "      <td>0.211889</td>\n",
              "      <td>2.748902</td>\n",
              "      <td>0.257644</td>\n",
              "      <td>7.673882</td>\n",
              "      <td>18.320279</td>\n",
              "      <td>0.020366</td>\n",
              "      <td>0.028391</td>\n",
              "      <td>0.020617</td>\n",
              "      <td>0.029510</td>\n",
              "      <td>0.012716</td>\n",
              "      <td>0.031145</td>\n",
              "      <td>0.020741</td>\n",
              "      <td>0.032664</td>\n",
              "      <td>0.016790</td>\n",
              "      <td>0.031774</td>\n",
              "      <td>0.017439</td>\n",
              "      <td>0.029136</td>\n",
              "      <td>...</td>\n",
              "      <td>64.461794</td>\n",
              "      <td>34.106856</td>\n",
              "      <td>0.002187</td>\n",
              "      <td>0.005561</td>\n",
              "      <td>8.881671</td>\n",
              "      <td>6.029484</td>\n",
              "      <td>93.162439</td>\n",
              "      <td>0.736300</td>\n",
              "      <td>93.532469</td>\n",
              "      <td>0.693400</td>\n",
              "      <td>91.761728</td>\n",
              "      <td>0.672199</td>\n",
              "      <td>93.913827</td>\n",
              "      <td>0.774957</td>\n",
              "      <td>96.277654</td>\n",
              "      <td>0.933980</td>\n",
              "      <td>92.153537</td>\n",
              "      <td>0.718172</td>\n",
              "      <td>11.132826</td>\n",
              "      <td>6.353457</td>\n",
              "      <td>0.158171</td>\n",
              "      <td>0.122969</td>\n",
              "      <td>934.925926</td>\n",
              "      <td>1.517232</td>\n",
              "      <td>-9.811155</td>\n",
              "      <td>1.205806</td>\n",
              "      <td>-9.580934</td>\n",
              "      <td>1.243517</td>\n",
              "      <td>-9.941204</td>\n",
              "      <td>1.071755</td>\n",
              "      <td>-10.224472</td>\n",
              "      <td>0.965988</td>\n",
              "      <td>-9.651155</td>\n",
              "      <td>1.238891</td>\n",
              "      <td>2.677545</td>\n",
              "      <td>1.261612</td>\n",
              "      <td>0.044759</td>\n",
              "      <td>0.023748</td>\n",
              "      <td>0.000764</td>\n",
              "      <td>0.000048</td>\n",
              "    </tr>\n",
              "    <tr>\n",
              "      <th>1</th>\n",
              "      <td>2</td>\n",
              "      <td>2000-01-25</td>\n",
              "      <td>nonevent</td>\n",
              "      <td>False</td>\n",
              "      <td>381.752738</td>\n",
              "      <td>1.701439</td>\n",
              "      <td>381.392651</td>\n",
              "      <td>1.573735</td>\n",
              "      <td>382.373735</td>\n",
              "      <td>1.754803</td>\n",
              "      <td>380.980000</td>\n",
              "      <td>1.464652</td>\n",
              "      <td>18.389856</td>\n",
              "      <td>9.566668</td>\n",
              "      <td>2.313333</td>\n",
              "      <td>0.328202</td>\n",
              "      <td>2.310000</td>\n",
              "      <td>0.315463</td>\n",
              "      <td>2.308916</td>\n",
              "      <td>0.321506</td>\n",
              "      <td>2.320361</td>\n",
              "      <td>0.297872</td>\n",
              "      <td>2.342651</td>\n",
              "      <td>0.299325</td>\n",
              "      <td>2.312143</td>\n",
              "      <td>0.329732</td>\n",
              "      <td>29.663765</td>\n",
              "      <td>10.891472</td>\n",
              "      <td>0.483810</td>\n",
              "      <td>0.295051</td>\n",
              "      <td>0.494337</td>\n",
              "      <td>0.312692</td>\n",
              "      <td>0.404337</td>\n",
              "      <td>0.246385</td>\n",
              "      <td>0.488675</td>\n",
              "      <td>0.311784</td>\n",
              "      <td>0.421325</td>\n",
              "      <td>0.265687</td>\n",
              "      <td>0.435595</td>\n",
              "      <td>0.265177</td>\n",
              "      <td>...</td>\n",
              "      <td>39.684245</td>\n",
              "      <td>22.195953</td>\n",
              "      <td>0.009353</td>\n",
              "      <td>0.011258</td>\n",
              "      <td>5.547266</td>\n",
              "      <td>3.204514</td>\n",
              "      <td>95.802857</td>\n",
              "      <td>1.748414</td>\n",
              "      <td>95.578675</td>\n",
              "      <td>1.830929</td>\n",
              "      <td>93.989639</td>\n",
              "      <td>1.612301</td>\n",
              "      <td>95.268916</td>\n",
              "      <td>1.772817</td>\n",
              "      <td>97.426867</td>\n",
              "      <td>2.306357</td>\n",
              "      <td>94.580714</td>\n",
              "      <td>1.530332</td>\n",
              "      <td>7.345012</td>\n",
              "      <td>4.787854</td>\n",
              "      <td>2.050476</td>\n",
              "      <td>0.262710</td>\n",
              "      <td>888.285714</td>\n",
              "      <td>63.666293</td>\n",
              "      <td>-12.377122</td>\n",
              "      <td>1.930159</td>\n",
              "      <td>-12.144724</td>\n",
              "      <td>1.899699</td>\n",
              "      <td>-12.271055</td>\n",
              "      <td>1.774972</td>\n",
              "      <td>-12.399808</td>\n",
              "      <td>1.671699</td>\n",
              "      <td>-12.230048</td>\n",
              "      <td>1.918075</td>\n",
              "      <td>1.548098</td>\n",
              "      <td>0.804746</td>\n",
              "      <td>0.033443</td>\n",
              "      <td>0.020402</td>\n",
              "      <td>0.003630</td>\n",
              "      <td>0.000650</td>\n",
              "    </tr>\n",
              "  </tbody>\n",
              "</table>\n",
              "<p>2 rows × 104 columns</p>\n",
              "</div>"
            ],
            "text/plain": [
              "   id        date     event  ...  HYY_META.UV_B.std   CS.mean    CS.std\n",
              "0   1  2000-01-23  nonevent  ...           0.023748  0.000764  0.000048\n",
              "1   2  2000-01-25  nonevent  ...           0.020402  0.003630  0.000650\n",
              "\n",
              "[2 rows x 104 columns]"
            ]
          },
          "metadata": {
            "tags": []
          },
          "execution_count": 206
        }
      ]
    },
    {
      "cell_type": "code",
      "metadata": {
        "id": "TtleVPjTjTQN",
        "colab_type": "code",
        "outputId": "cfb682ce-76a5-45c7-c47c-ac21a06f1a5e",
        "colab": {
          "base_uri": "https://localhost:8080/",
          "height": 160
        }
      },
      "source": [
        "npf_test_hidden.head(2)"
      ],
      "execution_count": 0,
      "outputs": [
        {
          "output_type": "execute_result",
          "data": {
            "text/html": [
              "<div>\n",
              "<style scoped>\n",
              "    .dataframe tbody tr th:only-of-type {\n",
              "        vertical-align: middle;\n",
              "    }\n",
              "\n",
              "    .dataframe tbody tr th {\n",
              "        vertical-align: top;\n",
              "    }\n",
              "\n",
              "    .dataframe thead th {\n",
              "        text-align: right;\n",
              "    }\n",
              "</style>\n",
              "<table border=\"1\" class=\"dataframe\">\n",
              "  <thead>\n",
              "    <tr style=\"text-align: right;\">\n",
              "      <th></th>\n",
              "      <th>id</th>\n",
              "      <th>date</th>\n",
              "      <th>event</th>\n",
              "      <th>partlybad</th>\n",
              "      <th>HYY_META.CO2168.mean</th>\n",
              "      <th>HYY_META.CO2168.std</th>\n",
              "      <th>HYY_META.CO2336.mean</th>\n",
              "      <th>HYY_META.CO2336.std</th>\n",
              "      <th>HYY_META.CO242.mean</th>\n",
              "      <th>HYY_META.CO242.std</th>\n",
              "      <th>HYY_META.CO2504.mean</th>\n",
              "      <th>HYY_META.CO2504.std</th>\n",
              "      <th>HYY_META.Glob.mean</th>\n",
              "      <th>HYY_META.Glob.std</th>\n",
              "      <th>HYY_META.H2O168.mean</th>\n",
              "      <th>HYY_META.H2O168.std</th>\n",
              "      <th>HYY_META.H2O336.mean</th>\n",
              "      <th>HYY_META.H2O336.std</th>\n",
              "      <th>HYY_META.H2O42.mean</th>\n",
              "      <th>HYY_META.H2O42.std</th>\n",
              "      <th>HYY_META.H2O504.mean</th>\n",
              "      <th>HYY_META.H2O504.std</th>\n",
              "      <th>HYY_META.H2O672.mean</th>\n",
              "      <th>HYY_META.H2O672.std</th>\n",
              "      <th>HYY_META.H2O84.mean</th>\n",
              "      <th>HYY_META.H2O84.std</th>\n",
              "      <th>HYY_META.NET.mean</th>\n",
              "      <th>HYY_META.NET.std</th>\n",
              "      <th>HYY_META.NO168.mean</th>\n",
              "      <th>HYY_META.NO168.std</th>\n",
              "      <th>HYY_META.NO336.mean</th>\n",
              "      <th>HYY_META.NO336.std</th>\n",
              "      <th>HYY_META.NO42.mean</th>\n",
              "      <th>HYY_META.NO42.std</th>\n",
              "      <th>HYY_META.NO504.mean</th>\n",
              "      <th>HYY_META.NO504.std</th>\n",
              "      <th>HYY_META.NO672.mean</th>\n",
              "      <th>HYY_META.NO672.std</th>\n",
              "      <th>HYY_META.NO84.mean</th>\n",
              "      <th>HYY_META.NO84.std</th>\n",
              "      <th>...</th>\n",
              "      <th>HYY_META.PAR.mean</th>\n",
              "      <th>HYY_META.PAR.std</th>\n",
              "      <th>HYY_META.PTG.mean</th>\n",
              "      <th>HYY_META.PTG.std</th>\n",
              "      <th>HYY_META.RGlob.mean</th>\n",
              "      <th>HYY_META.RGlob.std</th>\n",
              "      <th>HYY_META.RHIRGA168.mean</th>\n",
              "      <th>HYY_META.RHIRGA168.std</th>\n",
              "      <th>HYY_META.RHIRGA336.mean</th>\n",
              "      <th>HYY_META.RHIRGA336.std</th>\n",
              "      <th>HYY_META.RHIRGA42.mean</th>\n",
              "      <th>HYY_META.RHIRGA42.std</th>\n",
              "      <th>HYY_META.RHIRGA504.mean</th>\n",
              "      <th>HYY_META.RHIRGA504.std</th>\n",
              "      <th>HYY_META.RHIRGA672.mean</th>\n",
              "      <th>HYY_META.RHIRGA672.std</th>\n",
              "      <th>HYY_META.RHIRGA84.mean</th>\n",
              "      <th>HYY_META.RHIRGA84.std</th>\n",
              "      <th>HYY_META.RPAR.mean</th>\n",
              "      <th>HYY_META.RPAR.std</th>\n",
              "      <th>HYY_META.SO2168.mean</th>\n",
              "      <th>HYY_META.SO2168.std</th>\n",
              "      <th>HYY_META.SWS.mean</th>\n",
              "      <th>HYY_META.SWS.std</th>\n",
              "      <th>HYY_META.T168.mean</th>\n",
              "      <th>HYY_META.T168.std</th>\n",
              "      <th>HYY_META.T42.mean</th>\n",
              "      <th>HYY_META.T42.std</th>\n",
              "      <th>HYY_META.T504.mean</th>\n",
              "      <th>HYY_META.T504.std</th>\n",
              "      <th>HYY_META.T672.mean</th>\n",
              "      <th>HYY_META.T672.std</th>\n",
              "      <th>HYY_META.T84.mean</th>\n",
              "      <th>HYY_META.T84.std</th>\n",
              "      <th>HYY_META.UV_A.mean</th>\n",
              "      <th>HYY_META.UV_A.std</th>\n",
              "      <th>HYY_META.UV_B.mean</th>\n",
              "      <th>HYY_META.UV_B.std</th>\n",
              "      <th>CS.mean</th>\n",
              "      <th>CS.std</th>\n",
              "    </tr>\n",
              "  </thead>\n",
              "  <tbody>\n",
              "    <tr>\n",
              "      <th>0</th>\n",
              "      <td>725</td>\n",
              "      <td>NaN</td>\n",
              "      <td>NaN</td>\n",
              "      <td>False</td>\n",
              "      <td>372.575187</td>\n",
              "      <td>10.051405</td>\n",
              "      <td>372.324439</td>\n",
              "      <td>9.107661</td>\n",
              "      <td>376.135989</td>\n",
              "      <td>12.831791</td>\n",
              "      <td>371.386237</td>\n",
              "      <td>7.303040</td>\n",
              "      <td>269.903167</td>\n",
              "      <td>253.728948</td>\n",
              "      <td>11.326120</td>\n",
              "      <td>1.246964</td>\n",
              "      <td>11.103279</td>\n",
              "      <td>1.277171</td>\n",
              "      <td>11.606448</td>\n",
              "      <td>1.298689</td>\n",
              "      <td>10.976133</td>\n",
              "      <td>1.345701</td>\n",
              "      <td>10.862582</td>\n",
              "      <td>1.389345</td>\n",
              "      <td>11.481858</td>\n",
              "      <td>1.268772</td>\n",
              "      <td>180.063033</td>\n",
              "      <td>219.267336</td>\n",
              "      <td>0.058824</td>\n",
              "      <td>0.075489</td>\n",
              "      <td>0.054064</td>\n",
              "      <td>0.081356</td>\n",
              "      <td>0.043743</td>\n",
              "      <td>0.055309</td>\n",
              "      <td>0.052581</td>\n",
              "      <td>0.076757</td>\n",
              "      <td>0.052246</td>\n",
              "      <td>0.068645</td>\n",
              "      <td>0.041551</td>\n",
              "      <td>0.06289</td>\n",
              "      <td>...</td>\n",
              "      <td>548.023479</td>\n",
              "      <td>514.421794</td>\n",
              "      <td>0.006218</td>\n",
              "      <td>0.020115</td>\n",
              "      <td>31.465575</td>\n",
              "      <td>28.78014</td>\n",
              "      <td>52.933060</td>\n",
              "      <td>9.374112</td>\n",
              "      <td>52.057268</td>\n",
              "      <td>8.589410</td>\n",
              "      <td>54.637049</td>\n",
              "      <td>11.665914</td>\n",
              "      <td>51.287845</td>\n",
              "      <td>8.064915</td>\n",
              "      <td>50.870055</td>\n",
              "      <td>7.907991</td>\n",
              "      <td>53.912459</td>\n",
              "      <td>10.862380</td>\n",
              "      <td>17.697698</td>\n",
              "      <td>16.009260</td>\n",
              "      <td>0.180053</td>\n",
              "      <td>0.180034</td>\n",
              "      <td>916.453333</td>\n",
              "      <td>18.655695</td>\n",
              "      <td>18.670526</td>\n",
              "      <td>2.821519</td>\n",
              "      <td>18.668475</td>\n",
              "      <td>3.217741</td>\n",
              "      <td>18.561106</td>\n",
              "      <td>2.285093</td>\n",
              "      <td>18.477101</td>\n",
              "      <td>2.031505</td>\n",
              "      <td>18.679402</td>\n",
              "      <td>3.114372</td>\n",
              "      <td>16.014534</td>\n",
              "      <td>13.978402</td>\n",
              "      <td>0.741939</td>\n",
              "      <td>0.752346</td>\n",
              "      <td>0.005233</td>\n",
              "      <td>0.000738</td>\n",
              "    </tr>\n",
              "    <tr>\n",
              "      <th>1</th>\n",
              "      <td>726</td>\n",
              "      <td>NaN</td>\n",
              "      <td>NaN</td>\n",
              "      <td>False</td>\n",
              "      <td>382.408306</td>\n",
              "      <td>0.752684</td>\n",
              "      <td>382.442846</td>\n",
              "      <td>0.717088</td>\n",
              "      <td>382.687016</td>\n",
              "      <td>0.785072</td>\n",
              "      <td>382.450488</td>\n",
              "      <td>0.700048</td>\n",
              "      <td>53.022065</td>\n",
              "      <td>41.385137</td>\n",
              "      <td>5.967984</td>\n",
              "      <td>0.086579</td>\n",
              "      <td>5.916992</td>\n",
              "      <td>0.075877</td>\n",
              "      <td>6.047984</td>\n",
              "      <td>0.107333</td>\n",
              "      <td>5.897317</td>\n",
              "      <td>0.074141</td>\n",
              "      <td>5.916260</td>\n",
              "      <td>0.106651</td>\n",
              "      <td>6.027500</td>\n",
              "      <td>0.114350</td>\n",
              "      <td>59.956085</td>\n",
              "      <td>38.963142</td>\n",
              "      <td>0.017984</td>\n",
              "      <td>0.029631</td>\n",
              "      <td>0.018618</td>\n",
              "      <td>0.028867</td>\n",
              "      <td>0.011855</td>\n",
              "      <td>0.025129</td>\n",
              "      <td>0.023659</td>\n",
              "      <td>0.031212</td>\n",
              "      <td>0.021707</td>\n",
              "      <td>0.030291</td>\n",
              "      <td>0.012742</td>\n",
              "      <td>0.02703</td>\n",
              "      <td>...</td>\n",
              "      <td>114.508435</td>\n",
              "      <td>87.058692</td>\n",
              "      <td>0.000000</td>\n",
              "      <td>0.000000</td>\n",
              "      <td>11.640675</td>\n",
              "      <td>8.03055</td>\n",
              "      <td>92.657903</td>\n",
              "      <td>1.784042</td>\n",
              "      <td>93.296748</td>\n",
              "      <td>1.999155</td>\n",
              "      <td>93.342419</td>\n",
              "      <td>1.338689</td>\n",
              "      <td>93.529024</td>\n",
              "      <td>2.012421</td>\n",
              "      <td>95.117805</td>\n",
              "      <td>1.979480</td>\n",
              "      <td>93.283387</td>\n",
              "      <td>1.472433</td>\n",
              "      <td>11.634858</td>\n",
              "      <td>8.699266</td>\n",
              "      <td>0.014194</td>\n",
              "      <td>0.061355</td>\n",
              "      <td>927.346939</td>\n",
              "      <td>1.714534</td>\n",
              "      <td>0.173819</td>\n",
              "      <td>0.290968</td>\n",
              "      <td>0.251781</td>\n",
              "      <td>0.288592</td>\n",
              "      <td>-0.118664</td>\n",
              "      <td>0.259984</td>\n",
              "      <td>-0.309150</td>\n",
              "      <td>0.241349</td>\n",
              "      <td>0.217341</td>\n",
              "      <td>0.301404</td>\n",
              "      <td>4.273595</td>\n",
              "      <td>2.935296</td>\n",
              "      <td>0.104488</td>\n",
              "      <td>0.085755</td>\n",
              "      <td>0.001142</td>\n",
              "      <td>0.000171</td>\n",
              "    </tr>\n",
              "  </tbody>\n",
              "</table>\n",
              "<p>2 rows × 104 columns</p>\n",
              "</div>"
            ],
            "text/plain": [
              "    id  date  event  ...  HYY_META.UV_B.std   CS.mean    CS.std\n",
              "0  725   NaN    NaN  ...           0.752346  0.005233  0.000738\n",
              "1  726   NaN    NaN  ...           0.085755  0.001142  0.000171\n",
              "\n",
              "[2 rows x 104 columns]"
            ]
          },
          "metadata": {
            "tags": []
          },
          "execution_count": 207
        }
      ]
    },
    {
      "cell_type": "markdown",
      "metadata": {
        "id": "774QxEAe9kqf",
        "colab_type": "text"
      },
      "source": [
        "Split the data into features and labels"
      ]
    },
    {
      "cell_type": "code",
      "metadata": {
        "id": "DeC_2fOeC0RO",
        "colab_type": "code",
        "colab": {}
      },
      "source": [
        "X = npf_train.iloc[:,4::2]\n",
        "Y = npf_train.iloc[:,2]\n",
        "\n",
        "test = npf_test_hidden.iloc[:,4::2]"
      ],
      "execution_count": 0,
      "outputs": []
    },
    {
      "cell_type": "markdown",
      "metadata": {
        "id": "m54EBzrjHmNE",
        "colab_type": "text"
      },
      "source": [
        "Make Y (labels) categorical"
      ]
    },
    {
      "cell_type": "code",
      "metadata": {
        "id": "kAaWjluJDeZY",
        "colab_type": "code",
        "outputId": "753f3794-0e5a-4747-9497-233338e24a05",
        "colab": {
          "base_uri": "https://localhost:8080/",
          "height": 34
        }
      },
      "source": [
        "labeler = LabelEncoder()\n",
        "Y = labeler.fit_transform(Y.astype('str'))\n",
        "list(labeler.classes_), set(Y)"
      ],
      "execution_count": 0,
      "outputs": [
        {
          "output_type": "execute_result",
          "data": {
            "text/plain": [
              "(['II', 'Ia', 'Ib', 'nonevent'], {0, 1, 2, 3})"
            ]
          },
          "metadata": {
            "tags": []
          },
          "execution_count": 209
        }
      ]
    },
    {
      "cell_type": "markdown",
      "metadata": {
        "id": "FGHvqd_C94F-",
        "colab_type": "text"
      },
      "source": [
        "Scale X (features)"
      ]
    },
    {
      "cell_type": "code",
      "metadata": {
        "id": "mncYMVWOFKO9",
        "colab_type": "code",
        "colab": {}
      },
      "source": [
        "scaler = StandardScaler()\n",
        "X = scaler.fit(X).transform(X)\n",
        "\n",
        "test = scaler.transform(test)"
      ],
      "execution_count": 0,
      "outputs": []
    },
    {
      "cell_type": "code",
      "metadata": {
        "id": "CE6P24Z8FbPj",
        "colab_type": "code",
        "outputId": "6bcbec3a-9e1d-4140-edf5-e6653119531b",
        "colab": {
          "base_uri": "https://localhost:8080/",
          "height": 34
        }
      },
      "source": [
        "X.shape, test.shape"
      ],
      "execution_count": 0,
      "outputs": [
        {
          "output_type": "execute_result",
          "data": {
            "text/plain": [
              "((724, 50), (724, 50))"
            ]
          },
          "metadata": {
            "tags": []
          },
          "execution_count": 211
        }
      ]
    },
    {
      "cell_type": "markdown",
      "metadata": {
        "id": "kZahMRm8Ct2K",
        "colab_type": "text"
      },
      "source": [
        "Reduce the number of dimensions\n",
        "\n",
        "First test how many PCA-components should be used"
      ]
    },
    {
      "cell_type": "code",
      "metadata": {
        "id": "9XT1OUgGCzzU",
        "colab_type": "code",
        "colab": {
          "base_uri": "https://localhost:8080/",
          "height": 51
        },
        "outputId": "966a9741-8b21-4345-fe37-33ca477714cb"
      },
      "source": [
        "pca_test = PCA(n_components=30)\n",
        "pca_test.fit(X)"
      ],
      "execution_count": 232,
      "outputs": [
        {
          "output_type": "execute_result",
          "data": {
            "text/plain": [
              "PCA(copy=True, iterated_power='auto', n_components=30, random_state=None,\n",
              "    svd_solver='auto', tol=0.0, whiten=False)"
            ]
          },
          "metadata": {
            "tags": []
          },
          "execution_count": 232
        }
      ]
    },
    {
      "cell_type": "code",
      "metadata": {
        "id": "9p4fBzPtmBdg",
        "colab_type": "code",
        "outputId": "b7e3846a-383b-4ac9-d7cd-48575919ff47",
        "colab": {
          "base_uri": "https://localhost:8080/",
          "height": 34
        }
      },
      "source": [
        "np.sum(pca_test.explained_variance_)"
      ],
      "execution_count": 233,
      "outputs": [
        {
          "output_type": "execute_result",
          "data": {
            "text/plain": [
              "50.06549781998029"
            ]
          },
          "metadata": {
            "tags": []
          },
          "execution_count": 233
        }
      ]
    },
    {
      "cell_type": "code",
      "metadata": {
        "id": "cE9K5eqamocf",
        "colab_type": "code",
        "outputId": "432a4aa3-200f-4019-a461-b35dae7af18f",
        "colab": {
          "base_uri": "https://localhost:8080/",
          "height": 265
        }
      },
      "source": [
        "plt.plot(np.arange(1,31),pca_test.explained_variance_,'o-');\n",
        "plt.plot(np.arange(1,31),np.cumsum(pca_test.explained_variance_),'o-');"
      ],
      "execution_count": 234,
      "outputs": [
        {
          "output_type": "display_data",
          "data": {
            "image/png": "[encoded data removed]",
            "text/plain": [
              "<Figure size 432x288 with 1 Axes>"
            ]
          },
          "metadata": {
            "tags": [],
            "needs_background": "light"
          }
        }
      ]
    },
    {
      "cell_type": "markdown",
      "metadata": {
        "id": "r0bLjruI-vHA",
        "colab_type": "text"
      },
      "source": [
        "# Why do we have this at max=50???"
      ]
    },
    {
      "cell_type": "markdown",
      "metadata": {
        "id": "MmnkTJSJ-5ec",
        "colab_type": "text"
      },
      "source": [
        "Transform the labels and the test set into 4 PC:s"
      ]
    },
    {
      "cell_type": "code",
      "metadata": {
        "id": "esJKhVc0n8fT",
        "colab_type": "code",
        "colab": {}
      },
      "source": [
        "pca = PCA(n_components=4)\n",
        "npf_pca = pca.fit_transform(X)\n",
        "\n",
        "test_pca = pca.transform(test)"
      ],
      "execution_count": 0,
      "outputs": []
    },
    {
      "cell_type": "code",
      "metadata": {
        "id": "_L1voUuQCuas",
        "colab_type": "code",
        "outputId": "072303f1-68fd-4e0a-858a-b356683b8a0d",
        "colab": {
          "base_uri": "https://localhost:8080/",
          "height": 34
        }
      },
      "source": [
        "npf_pca.shape, type(npf_pca), test_pca.shape, type(test_pca)"
      ],
      "execution_count": 0,
      "outputs": [
        {
          "output_type": "execute_result",
          "data": {
            "text/plain": [
              "((724, 4), numpy.ndarray, (724, 4), numpy.ndarray)"
            ]
          },
          "metadata": {
            "tags": []
          },
          "execution_count": 216
        }
      ]
    },
    {
      "cell_type": "code",
      "metadata": {
        "id": "0gHNnsKiEx3m",
        "colab_type": "code",
        "colab": {}
      },
      "source": [
        "npf_pca = pd.DataFrame(npf_pca, columns=[\"pca1\",\"pca2\",\"pca3\",\"pca4\"])\n",
        "\n",
        "test_pca = pd.DataFrame(test_pca, columns=[\"pca1\",\"pca2\",\"pca3\",\"pca4\"])\n",
        "\n",
        "#px.scatter_3d(data_frame=npf_pca,x=\"pca1\",y=\"pca2\",z=\"pca3\",color=Y)"
      ],
      "execution_count": 0,
      "outputs": []
    },
    {
      "cell_type": "markdown",
      "metadata": {
        "id": "Zf0ZQcX5A-Xh",
        "colab_type": "text"
      },
      "source": [
        "Split the train data into train and validation \n",
        "\n",
        "```X_train``` = training features  \n",
        "```X_test``` = validation features  \n",
        "```Y_train``` = training labels  \n",
        "```Y_test``` = validation labels  "
      ]
    },
    {
      "cell_type": "code",
      "metadata": {
        "id": "4XKd2oUSBotf",
        "colab_type": "code",
        "colab": {}
      },
      "source": [
        "X_train,X_test,Y_train,Y_test = train_test_split(npf_pca,Y,random_state=42)"
      ],
      "execution_count": 0,
      "outputs": []
    },
    {
      "cell_type": "code",
      "metadata": {
        "id": "Mla1y2mHHyLL",
        "colab_type": "code",
        "outputId": "ce8e3683-22c9-46a3-ed2a-691e15d60626",
        "colab": {
          "base_uri": "https://localhost:8080/",
          "height": 34
        }
      },
      "source": [
        "X_train.shape,X_test.shape,Y_train.shape,Y_test.shape"
      ],
      "execution_count": 0,
      "outputs": [
        {
          "output_type": "execute_result",
          "data": {
            "text/plain": [
              "((543, 4), (181, 4), (543,), (181,))"
            ]
          },
          "metadata": {
            "tags": []
          },
          "execution_count": 219
        }
      ]
    },
    {
      "cell_type": "markdown",
      "metadata": {
        "id": "xJJamKEsKBP_",
        "colab_type": "text"
      },
      "source": [
        "# Try different classification models"
      ]
    },
    {
      "cell_type": "code",
      "metadata": {
        "id": "x_2BjQkcKAy2",
        "colab_type": "code",
        "colab": {}
      },
      "source": [
        "names = [\"Nearest Neighbors\", \"Linear SVM\", \"RBF SVM\", \"Gaussian Process\",\n",
        "         \"Decision Tree\", \"Random Forest\", \"Neural Net\", \"AdaBoost\",\n",
        "         \"Naive Bayes\", \"QDA\"]\n",
        "\n",
        "classifiers = [\n",
        "    KNeighborsClassifier(3),\n",
        "    SVC(kernel=\"linear\", C=0.025),\n",
        "    SVC(gamma=2, C=1),\n",
        "    GaussianProcessClassifier(1.0 * RBF(1.0)),\n",
        "    DecisionTreeClassifier(max_depth=5),\n",
        "    RandomForestClassifier(max_depth=5, n_estimators=10, max_features=1),\n",
        "    MLPClassifier(alpha=1, max_iter=1000),\n",
        "    AdaBoostClassifier(),\n",
        "    GaussianNB(),\n",
        "    QuadraticDiscriminantAnalysis()]"
      ],
      "execution_count": 0,
      "outputs": []
    },
    {
      "cell_type": "markdown",
      "metadata": {
        "id": "R_IwFcxGBHYr",
        "colab_type": "text"
      },
      "source": [
        "Use cross-validation to find the best model"
      ]
    },
    {
      "cell_type": "code",
      "metadata": {
        "id": "d8MTiBzrNpQD",
        "colab_type": "code",
        "outputId": "de837498-2f17-4f5b-837a-edf569a3ccf3",
        "colab": {
          "base_uri": "https://localhost:8080/",
          "height": 187
        }
      },
      "source": [
        "# iterate over classifiers\n",
        "for name, clf in zip(names, classifiers):\n",
        "    clf.fit(X_train, Y_train)\n",
        "    score = clf.score(X_test, Y_test)\n",
        "    print(\"%s:  %0.2f %%\" % (name,score*100))"
      ],
      "execution_count": 0,
      "outputs": [
        {
          "output_type": "stream",
          "text": [
            "Nearest Neighbors:  61.88 %\n",
            "Linear SVM:  60.77 %\n",
            "RBF SVM:  58.56 %\n",
            "Gaussian Process:  66.30 %\n",
            "Decision Tree:  65.75 %\n",
            "Random Forest:  62.43 %\n",
            "Neural Net:  65.19 %\n",
            "AdaBoost:  59.67 %\n",
            "Naive Bayes:  60.77 %\n",
            "QDA:  63.54 %\n"
          ],
          "name": "stdout"
        }
      ]
    },
    {
      "cell_type": "markdown",
      "metadata": {
        "id": "cdFqJLiNBspt",
        "colab_type": "text"
      },
      "source": [
        "Use 10-fold cross-validation to find the best model"
      ]
    },
    {
      "cell_type": "code",
      "metadata": {
        "id": "sg7M0yD6Wm9U",
        "colab_type": "code",
        "outputId": "dc947a84-d4d5-4ed5-e735-526b2217fbb2",
        "colab": {
          "base_uri": "https://localhost:8080/",
          "height": 187
        }
      },
      "source": [
        "#cross validation\n",
        "# DECLARATION #\n",
        "kf = KFold(n_splits=10)\n",
        "# CODE #\n",
        "scores=[]\n",
        "# iterate over k-folds\n",
        "for train, val in kf.split(npf_pca):\n",
        "    scores_iter=[]\n",
        "    # iterate over classifiers\n",
        "    for name, clf in zip(names, classifiers):\n",
        "        clf.fit(npf_pca.iloc[train], Y[train])\n",
        "        score = clf.score(npf_pca.iloc[val], Y[val])\n",
        "        scores_iter.append(score)\n",
        "        #print(\"{}:  {}\".format(name,score))\n",
        "    scores.append(scores_iter)\n",
        "#print(scores)\n",
        "scores=np.mean(scores,axis=0)\n",
        "#print(scores)\n",
        "for name, score in zip(names, scores):\n",
        "     print(\"%s:  %0.2f %%\" % (name,score*100))"
      ],
      "execution_count": 0,
      "outputs": [
        {
          "output_type": "stream",
          "text": [
            "Nearest Neighbors:  62.87 %\n",
            "Linear SVM:  61.08 %\n",
            "RBF SVM:  57.52 %\n",
            "Gaussian Process:  68.41 %\n",
            "Decision Tree:  61.51 %\n",
            "Random Forest:  63.60 %\n",
            "Neural Net:  67.17 %\n",
            "AdaBoost:  59.70 %\n",
            "Naive Bayes:  64.81 %\n",
            "QDA:  65.21 %\n"
          ],
          "name": "stdout"
        }
      ]
    },
    {
      "cell_type": "markdown",
      "metadata": {
        "id": "5Ze8xKTsBOaZ",
        "colab_type": "text"
      },
      "source": [
        "Train the model \n",
        "\n",
        "We pick Gaussian processes "
      ]
    },
    {
      "cell_type": "code",
      "metadata": {
        "id": "9gKo1jdq-o_i",
        "colab_type": "code",
        "colab": {}
      },
      "source": [
        "model = GaussianProcessClassifier(1.0 * RBF(1.0))\n",
        "#model = MLPClassifier(alpha=1, max_iter=1000)   # Wanted to test also the neural net"
      ],
      "execution_count": 0,
      "outputs": []
    },
    {
      "cell_type": "code",
      "metadata": {
        "id": "x9_Hbi0biJMA",
        "colab_type": "code",
        "outputId": "871aded1-26f0-4904-a098-3eb4c84ab8b8",
        "colab": {
          "base_uri": "https://localhost:8080/",
          "height": 102
        }
      },
      "source": [
        "model.fit(npf_pca,Y)"
      ],
      "execution_count": 0,
      "outputs": [
        {
          "output_type": "execute_result",
          "data": {
            "text/plain": [
              "GaussianProcessClassifier(copy_X_train=True, kernel=1**2 * RBF(length_scale=1),\n",
              "                          max_iter_predict=100, multi_class='one_vs_rest',\n",
              "                          n_jobs=None, n_restarts_optimizer=0,\n",
              "                          optimizer='fmin_l_bfgs_b', random_state=None,\n",
              "                          warm_start=False)"
            ]
          },
          "metadata": {
            "tags": []
          },
          "execution_count": 224
        }
      ]
    },
    {
      "cell_type": "markdown",
      "metadata": {
        "id": "AkkpHtLXi5ZN",
        "colab_type": "text"
      },
      "source": [
        "Predict values for npf_test_hidden.csv"
      ]
    },
    {
      "cell_type": "code",
      "metadata": {
        "id": "feu8zwhuizTT",
        "colab_type": "code",
        "colab": {}
      },
      "source": [
        "#prediction = model.predict(test_pca)\n",
        "prediction = model.predict(npf_pca)    # this is a test\n",
        "prediction = labeler.inverse_transform(prediction)\n",
        "#probs = model.predict_proba(test_pca)\n",
        "probs = model.predict_proba(npf_pca)    # this is a test\n",
        "#probs = np.max(probs, axis=1) "
      ],
      "execution_count": 0,
      "outputs": []
    },
    {
      "cell_type": "code",
      "metadata": {
        "id": "bYq0eP9A8QbG",
        "colab_type": "code",
        "colab": {}
      },
      "source": [
        "# sum probabilities of event = p(1a) + p(1b) + p(2), which column contains p(nonevent)?\n",
        "probs = np.sum(probs[:,:3], axis=1)"
      ],
      "execution_count": 0,
      "outputs": []
    },
    {
      "cell_type": "code",
      "metadata": {
        "id": "_rh-LzZcmUy2",
        "colab_type": "code",
        "colab": {}
      },
      "source": [
        "results_df = pd.DataFrame(zip(prediction,probs),columns=[\"event\",\"p_event\"])"
      ],
      "execution_count": 0,
      "outputs": []
    },
    {
      "cell_type": "code",
      "metadata": {
        "id": "coD3k3nvqxHi",
        "colab_type": "code",
        "outputId": "0698a6fe-863c-421d-c85e-b761e8824114",
        "colab": {
          "base_uri": "https://localhost:8080/",
          "height": 359
        }
      },
      "source": [
        "results_df.head(10)"
      ],
      "execution_count": 248,
      "outputs": [
        {
          "output_type": "execute_result",
          "data": {
            "text/html": [
              "<div>\n",
              "<style scoped>\n",
              "    .dataframe tbody tr th:only-of-type {\n",
              "        vertical-align: middle;\n",
              "    }\n",
              "\n",
              "    .dataframe tbody tr th {\n",
              "        vertical-align: top;\n",
              "    }\n",
              "\n",
              "    .dataframe thead th {\n",
              "        text-align: right;\n",
              "    }\n",
              "</style>\n",
              "<table border=\"1\" class=\"dataframe\">\n",
              "  <thead>\n",
              "    <tr style=\"text-align: right;\">\n",
              "      <th></th>\n",
              "      <th>event</th>\n",
              "      <th>p_event</th>\n",
              "    </tr>\n",
              "  </thead>\n",
              "  <tbody>\n",
              "    <tr>\n",
              "      <th>0</th>\n",
              "      <td>nonevent</td>\n",
              "      <td>0.345689</td>\n",
              "    </tr>\n",
              "    <tr>\n",
              "      <th>1</th>\n",
              "      <td>nonevent</td>\n",
              "      <td>0.101492</td>\n",
              "    </tr>\n",
              "    <tr>\n",
              "      <th>2</th>\n",
              "      <td>nonevent</td>\n",
              "      <td>0.080002</td>\n",
              "    </tr>\n",
              "    <tr>\n",
              "      <th>3</th>\n",
              "      <td>nonevent</td>\n",
              "      <td>0.088518</td>\n",
              "    </tr>\n",
              "    <tr>\n",
              "      <th>4</th>\n",
              "      <td>nonevent</td>\n",
              "      <td>0.566253</td>\n",
              "    </tr>\n",
              "    <tr>\n",
              "      <th>5</th>\n",
              "      <td>II</td>\n",
              "      <td>0.933953</td>\n",
              "    </tr>\n",
              "    <tr>\n",
              "      <th>6</th>\n",
              "      <td>Ib</td>\n",
              "      <td>0.982578</td>\n",
              "    </tr>\n",
              "    <tr>\n",
              "      <th>7</th>\n",
              "      <td>Ib</td>\n",
              "      <td>0.993046</td>\n",
              "    </tr>\n",
              "    <tr>\n",
              "      <th>8</th>\n",
              "      <td>II</td>\n",
              "      <td>0.970542</td>\n",
              "    </tr>\n",
              "    <tr>\n",
              "      <th>9</th>\n",
              "      <td>Ib</td>\n",
              "      <td>0.990402</td>\n",
              "    </tr>\n",
              "  </tbody>\n",
              "</table>\n",
              "</div>"
            ],
            "text/plain": [
              "      event   p_event\n",
              "0  nonevent  0.345689\n",
              "1  nonevent  0.101492\n",
              "2  nonevent  0.080002\n",
              "3  nonevent  0.088518\n",
              "4  nonevent  0.566253\n",
              "5        II  0.933953\n",
              "6        Ib  0.982578\n",
              "7        Ib  0.993046\n",
              "8        II  0.970542\n",
              "9        Ib  0.990402"
            ]
          },
          "metadata": {
            "tags": []
          },
          "execution_count": 248
        }
      ]
    },
    {
      "cell_type": "code",
      "metadata": {
        "id": "jCPu6zctuPow",
        "colab_type": "code",
        "colab": {}
      },
      "source": [
        "results_df.to_csv(\"/content/drive/My Drive/Colab Notebooks/answers.csv\",index=False)"
      ],
      "execution_count": 0,
      "outputs": []
    },
    {
      "cell_type": "code",
      "metadata": {
        "id": "z71gEpjOCmSC",
        "colab_type": "code",
        "colab": {}
      },
      "source": [
        ""
      ],
      "execution_count": 0,
      "outputs": []
    }
  ]
}