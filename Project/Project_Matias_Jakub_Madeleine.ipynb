{
  "nbformat": 4,
  "nbformat_minor": 0,
  "metadata": {
    "colab": {
      "name": "Project_Matias_Jakub_Madeleine.ipynb",
      "provenance": [],
      "collapsed_sections": [],
      "toc_visible": true,
      "include_colab_link": true
    },
    "kernelspec": {
      "name": "python3",
      "display_name": "Python 3"
    }
  },
  "cells": [
    {
      "cell_type": "markdown",
      "metadata": {
        "id": "view-in-github",
        "colab_type": "text"
      },
      "source": [
        "<a href=\"https://colab.research.google.com/github/MatiasJJ/ATML/blob/edits/Project/Project_Matias_Jakub_Madeleine.ipynb\" target=\"_parent\"><img src=\"https://colab.research.google.com/assets/colab-badge.svg\" alt=\"Open In Colab\"/></a>"
      ]
    },
    {
      "cell_type": "code",
      "metadata": {
        "id": "qOBIG5XR9VFU",
        "colab_type": "code",
        "colab": {}
      },
      "source": [
        "import numpy as np\n",
        "import pandas as pd\n",
        "import matplotlib.pyplot as plt\n",
        "import seaborn as sns\n",
        "import plotly.express as px\n",
        "\n",
        "from sklearn.preprocessing import LabelEncoder\n",
        "from sklearn.model_selection import cross_val_score\n",
        "\n",
        "# Supervised learning\n",
        "from sklearn.neural_network import MLPClassifier\n",
        "from sklearn.neighbors import KNeighborsClassifier\n",
        "from sklearn.svm import SVC\n",
        "from sklearn.gaussian_process import GaussianProcessClassifier\n",
        "from sklearn.gaussian_process.kernels import RBF\n",
        "from sklearn.tree import DecisionTreeClassifier\n",
        "from sklearn.ensemble import RandomForestClassifier, AdaBoostClassifier\n",
        "from sklearn.naive_bayes import GaussianNB\n",
        "from sklearn.discriminant_analysis import QuadraticDiscriminantAnalysis\n",
        "from sklearn.model_selection import KFold, train_test_split\n",
        "import statsmodels.formula.api as smf\n",
        "import statsmodels.api as sm\n",
        "\n",
        "# Unsupervised learning\n",
        "from sklearn.decomposition import PCA, FastICA\n",
        "from sklearn.manifold import TSNE\n",
        "from sklearn.cluster import KMeans\n",
        "from sklearn.preprocessing import StandardScaler, Normalizer\n",
        "from scipy.optimize import linear_sum_assignment"
      ],
      "execution_count": 0,
      "outputs": []
    },
    {
      "cell_type": "markdown",
      "metadata": {
        "id": "SAl7tPDK8fUv",
        "colab_type": "text"
      },
      "source": [
        "# Project\n",
        "\n",
        "Madeleine Ekblom, Matias Jääskeläinen, Jakub Kubečka\n",
        "\n",
        "Time used: many hours"
      ]
    },
    {
      "cell_type": "markdown",
      "metadata": {
        "id": "k8pE_E499dqE",
        "colab_type": "text"
      },
      "source": [
        "Read in the data"
      ]
    },
    {
      "cell_type": "code",
      "metadata": {
        "id": "xF_7rZFg8Zva",
        "colab_type": "code",
        "colab": {}
      },
      "source": [
        "dummy = pd.read_csv(\"/content/sample_data/dummy.csv\")\n",
        "npf_train = pd.read_csv(\"/content/sample_data/npf_train.csv\")\n",
        "npf_test_hidden = pd.read_csv(\"/content/sample_data/npf_test_hidden.csv\")"
      ],
      "execution_count": 0,
      "outputs": []
    },
    {
      "cell_type": "markdown",
      "metadata": {
        "id": "XXW8aSH49iH3",
        "colab_type": "text"
      },
      "source": [
        "See the columns"
      ]
    },
    {
      "cell_type": "code",
      "metadata": {
        "id": "8jGoKNEu-jom",
        "colab_type": "code",
        "outputId": "3e08a2b7-c922-4686-f0e1-6bea47143754",
        "colab": {
          "base_uri": "https://localhost:8080/",
          "height": 194
        }
      },
      "source": [
        "npf_train.head(2)"
      ],
      "execution_count": 8,
      "outputs": [
        {
          "output_type": "execute_result",
          "data": {
            "text/html": [
              "<div>\n",
              "<style scoped>\n",
              "    .dataframe tbody tr th:only-of-type {\n",
              "        vertical-align: middle;\n",
              "    }\n",
              "\n",
              "    .dataframe tbody tr th {\n",
              "        vertical-align: top;\n",
              "    }\n",
              "\n",
              "    .dataframe thead th {\n",
              "        text-align: right;\n",
              "    }\n",
              "</style>\n",
              "<table border=\"1\" class=\"dataframe\">\n",
              "  <thead>\n",
              "    <tr style=\"text-align: right;\">\n",
              "      <th></th>\n",
              "      <th>id</th>\n",
              "      <th>date</th>\n",
              "      <th>event</th>\n",
              "      <th>partlybad</th>\n",
              "      <th>HYY_META.CO2168.mean</th>\n",
              "      <th>HYY_META.CO2168.std</th>\n",
              "      <th>HYY_META.CO2336.mean</th>\n",
              "      <th>HYY_META.CO2336.std</th>\n",
              "      <th>HYY_META.CO242.mean</th>\n",
              "      <th>HYY_META.CO242.std</th>\n",
              "      <th>HYY_META.CO2504.mean</th>\n",
              "      <th>HYY_META.CO2504.std</th>\n",
              "      <th>HYY_META.Glob.mean</th>\n",
              "      <th>HYY_META.Glob.std</th>\n",
              "      <th>HYY_META.H2O168.mean</th>\n",
              "      <th>HYY_META.H2O168.std</th>\n",
              "      <th>HYY_META.H2O336.mean</th>\n",
              "      <th>HYY_META.H2O336.std</th>\n",
              "      <th>HYY_META.H2O42.mean</th>\n",
              "      <th>HYY_META.H2O42.std</th>\n",
              "      <th>HYY_META.H2O504.mean</th>\n",
              "      <th>HYY_META.H2O504.std</th>\n",
              "      <th>HYY_META.H2O672.mean</th>\n",
              "      <th>HYY_META.H2O672.std</th>\n",
              "      <th>HYY_META.H2O84.mean</th>\n",
              "      <th>HYY_META.H2O84.std</th>\n",
              "      <th>HYY_META.NET.mean</th>\n",
              "      <th>HYY_META.NET.std</th>\n",
              "      <th>HYY_META.NO168.mean</th>\n",
              "      <th>HYY_META.NO168.std</th>\n",
              "      <th>HYY_META.NO336.mean</th>\n",
              "      <th>HYY_META.NO336.std</th>\n",
              "      <th>HYY_META.NO42.mean</th>\n",
              "      <th>HYY_META.NO42.std</th>\n",
              "      <th>HYY_META.NO504.mean</th>\n",
              "      <th>HYY_META.NO504.std</th>\n",
              "      <th>HYY_META.NO672.mean</th>\n",
              "      <th>HYY_META.NO672.std</th>\n",
              "      <th>HYY_META.NO84.mean</th>\n",
              "      <th>HYY_META.NO84.std</th>\n",
              "      <th>...</th>\n",
              "      <th>HYY_META.PAR.mean</th>\n",
              "      <th>HYY_META.PAR.std</th>\n",
              "      <th>HYY_META.PTG.mean</th>\n",
              "      <th>HYY_META.PTG.std</th>\n",
              "      <th>HYY_META.RGlob.mean</th>\n",
              "      <th>HYY_META.RGlob.std</th>\n",
              "      <th>HYY_META.RHIRGA168.mean</th>\n",
              "      <th>HYY_META.RHIRGA168.std</th>\n",
              "      <th>HYY_META.RHIRGA336.mean</th>\n",
              "      <th>HYY_META.RHIRGA336.std</th>\n",
              "      <th>HYY_META.RHIRGA42.mean</th>\n",
              "      <th>HYY_META.RHIRGA42.std</th>\n",
              "      <th>HYY_META.RHIRGA504.mean</th>\n",
              "      <th>HYY_META.RHIRGA504.std</th>\n",
              "      <th>HYY_META.RHIRGA672.mean</th>\n",
              "      <th>HYY_META.RHIRGA672.std</th>\n",
              "      <th>HYY_META.RHIRGA84.mean</th>\n",
              "      <th>HYY_META.RHIRGA84.std</th>\n",
              "      <th>HYY_META.RPAR.mean</th>\n",
              "      <th>HYY_META.RPAR.std</th>\n",
              "      <th>HYY_META.SO2168.mean</th>\n",
              "      <th>HYY_META.SO2168.std</th>\n",
              "      <th>HYY_META.SWS.mean</th>\n",
              "      <th>HYY_META.SWS.std</th>\n",
              "      <th>HYY_META.T168.mean</th>\n",
              "      <th>HYY_META.T168.std</th>\n",
              "      <th>HYY_META.T42.mean</th>\n",
              "      <th>HYY_META.T42.std</th>\n",
              "      <th>HYY_META.T504.mean</th>\n",
              "      <th>HYY_META.T504.std</th>\n",
              "      <th>HYY_META.T672.mean</th>\n",
              "      <th>HYY_META.T672.std</th>\n",
              "      <th>HYY_META.T84.mean</th>\n",
              "      <th>HYY_META.T84.std</th>\n",
              "      <th>HYY_META.UV_A.mean</th>\n",
              "      <th>HYY_META.UV_A.std</th>\n",
              "      <th>HYY_META.UV_B.mean</th>\n",
              "      <th>HYY_META.UV_B.std</th>\n",
              "      <th>CS.mean</th>\n",
              "      <th>CS.std</th>\n",
              "    </tr>\n",
              "  </thead>\n",
              "  <tbody>\n",
              "    <tr>\n",
              "      <th>0</th>\n",
              "      <td>1</td>\n",
              "      <td>2000-01-23</td>\n",
              "      <td>nonevent</td>\n",
              "      <td>False</td>\n",
              "      <td>373.496585</td>\n",
              "      <td>0.189497</td>\n",
              "      <td>373.382593</td>\n",
              "      <td>0.172958</td>\n",
              "      <td>373.961481</td>\n",
              "      <td>0.235107</td>\n",
              "      <td>373.275062</td>\n",
              "      <td>0.165500</td>\n",
              "      <td>29.800885</td>\n",
              "      <td>22.892316</td>\n",
              "      <td>2.741951</td>\n",
              "      <td>0.253662</td>\n",
              "      <td>2.741975</td>\n",
              "      <td>0.238125</td>\n",
              "      <td>2.749136</td>\n",
              "      <td>0.256988</td>\n",
              "      <td>2.736543</td>\n",
              "      <td>0.226292</td>\n",
              "      <td>2.739259</td>\n",
              "      <td>0.211889</td>\n",
              "      <td>2.748902</td>\n",
              "      <td>0.257644</td>\n",
              "      <td>7.673882</td>\n",
              "      <td>18.320279</td>\n",
              "      <td>0.020366</td>\n",
              "      <td>0.028391</td>\n",
              "      <td>0.020617</td>\n",
              "      <td>0.029510</td>\n",
              "      <td>0.012716</td>\n",
              "      <td>0.031145</td>\n",
              "      <td>0.020741</td>\n",
              "      <td>0.032664</td>\n",
              "      <td>0.016790</td>\n",
              "      <td>0.031774</td>\n",
              "      <td>0.017439</td>\n",
              "      <td>0.029136</td>\n",
              "      <td>...</td>\n",
              "      <td>64.461794</td>\n",
              "      <td>34.106856</td>\n",
              "      <td>0.002187</td>\n",
              "      <td>0.005561</td>\n",
              "      <td>8.881671</td>\n",
              "      <td>6.029484</td>\n",
              "      <td>93.162439</td>\n",
              "      <td>0.736300</td>\n",
              "      <td>93.532469</td>\n",
              "      <td>0.693400</td>\n",
              "      <td>91.761728</td>\n",
              "      <td>0.672199</td>\n",
              "      <td>93.913827</td>\n",
              "      <td>0.774957</td>\n",
              "      <td>96.277654</td>\n",
              "      <td>0.933980</td>\n",
              "      <td>92.153537</td>\n",
              "      <td>0.718172</td>\n",
              "      <td>11.132826</td>\n",
              "      <td>6.353457</td>\n",
              "      <td>0.158171</td>\n",
              "      <td>0.122969</td>\n",
              "      <td>934.925926</td>\n",
              "      <td>1.517232</td>\n",
              "      <td>-9.811155</td>\n",
              "      <td>1.205806</td>\n",
              "      <td>-9.580934</td>\n",
              "      <td>1.243517</td>\n",
              "      <td>-9.941204</td>\n",
              "      <td>1.071755</td>\n",
              "      <td>-10.224472</td>\n",
              "      <td>0.965988</td>\n",
              "      <td>-9.651155</td>\n",
              "      <td>1.238891</td>\n",
              "      <td>2.677545</td>\n",
              "      <td>1.261612</td>\n",
              "      <td>0.044759</td>\n",
              "      <td>0.023748</td>\n",
              "      <td>0.000764</td>\n",
              "      <td>0.000048</td>\n",
              "    </tr>\n",
              "    <tr>\n",
              "      <th>1</th>\n",
              "      <td>2</td>\n",
              "      <td>2000-01-25</td>\n",
              "      <td>nonevent</td>\n",
              "      <td>False</td>\n",
              "      <td>381.752738</td>\n",
              "      <td>1.701439</td>\n",
              "      <td>381.392651</td>\n",
              "      <td>1.573735</td>\n",
              "      <td>382.373735</td>\n",
              "      <td>1.754803</td>\n",
              "      <td>380.980000</td>\n",
              "      <td>1.464652</td>\n",
              "      <td>18.389856</td>\n",
              "      <td>9.566668</td>\n",
              "      <td>2.313333</td>\n",
              "      <td>0.328202</td>\n",
              "      <td>2.310000</td>\n",
              "      <td>0.315463</td>\n",
              "      <td>2.308916</td>\n",
              "      <td>0.321506</td>\n",
              "      <td>2.320361</td>\n",
              "      <td>0.297872</td>\n",
              "      <td>2.342651</td>\n",
              "      <td>0.299325</td>\n",
              "      <td>2.312143</td>\n",
              "      <td>0.329732</td>\n",
              "      <td>29.663765</td>\n",
              "      <td>10.891472</td>\n",
              "      <td>0.483810</td>\n",
              "      <td>0.295051</td>\n",
              "      <td>0.494337</td>\n",
              "      <td>0.312692</td>\n",
              "      <td>0.404337</td>\n",
              "      <td>0.246385</td>\n",
              "      <td>0.488675</td>\n",
              "      <td>0.311784</td>\n",
              "      <td>0.421325</td>\n",
              "      <td>0.265687</td>\n",
              "      <td>0.435595</td>\n",
              "      <td>0.265177</td>\n",
              "      <td>...</td>\n",
              "      <td>39.684245</td>\n",
              "      <td>22.195953</td>\n",
              "      <td>0.009353</td>\n",
              "      <td>0.011258</td>\n",
              "      <td>5.547266</td>\n",
              "      <td>3.204514</td>\n",
              "      <td>95.802857</td>\n",
              "      <td>1.748414</td>\n",
              "      <td>95.578675</td>\n",
              "      <td>1.830929</td>\n",
              "      <td>93.989639</td>\n",
              "      <td>1.612301</td>\n",
              "      <td>95.268916</td>\n",
              "      <td>1.772817</td>\n",
              "      <td>97.426867</td>\n",
              "      <td>2.306357</td>\n",
              "      <td>94.580714</td>\n",
              "      <td>1.530332</td>\n",
              "      <td>7.345012</td>\n",
              "      <td>4.787854</td>\n",
              "      <td>2.050476</td>\n",
              "      <td>0.262710</td>\n",
              "      <td>888.285714</td>\n",
              "      <td>63.666293</td>\n",
              "      <td>-12.377122</td>\n",
              "      <td>1.930159</td>\n",
              "      <td>-12.144724</td>\n",
              "      <td>1.899699</td>\n",
              "      <td>-12.271055</td>\n",
              "      <td>1.774972</td>\n",
              "      <td>-12.399808</td>\n",
              "      <td>1.671699</td>\n",
              "      <td>-12.230048</td>\n",
              "      <td>1.918075</td>\n",
              "      <td>1.548098</td>\n",
              "      <td>0.804746</td>\n",
              "      <td>0.033443</td>\n",
              "      <td>0.020402</td>\n",
              "      <td>0.003630</td>\n",
              "      <td>0.000650</td>\n",
              "    </tr>\n",
              "  </tbody>\n",
              "</table>\n",
              "<p>2 rows × 104 columns</p>\n",
              "</div>"
            ],
            "text/plain": [
              "   id        date     event  ...  HYY_META.UV_B.std   CS.mean    CS.std\n",
              "0   1  2000-01-23  nonevent  ...           0.023748  0.000764  0.000048\n",
              "1   2  2000-01-25  nonevent  ...           0.020402  0.003630  0.000650\n",
              "\n",
              "[2 rows x 104 columns]"
            ]
          },
          "metadata": {
            "tags": []
          },
          "execution_count": 8
        }
      ]
    },
    {
      "cell_type": "code",
      "metadata": {
        "id": "TtleVPjTjTQN",
        "colab_type": "code",
        "outputId": "69b0377b-ecf2-4e49-ff01-05ef4da1a9ae",
        "colab": {
          "base_uri": "https://localhost:8080/",
          "height": 160
        }
      },
      "source": [
        "npf_test_hidden.head(2)"
      ],
      "execution_count": 9,
      "outputs": [
        {
          "output_type": "execute_result",
          "data": {
            "text/html": [
              "<div>\n",
              "<style scoped>\n",
              "    .dataframe tbody tr th:only-of-type {\n",
              "        vertical-align: middle;\n",
              "    }\n",
              "\n",
              "    .dataframe tbody tr th {\n",
              "        vertical-align: top;\n",
              "    }\n",
              "\n",
              "    .dataframe thead th {\n",
              "        text-align: right;\n",
              "    }\n",
              "</style>\n",
              "<table border=\"1\" class=\"dataframe\">\n",
              "  <thead>\n",
              "    <tr style=\"text-align: right;\">\n",
              "      <th></th>\n",
              "      <th>id</th>\n",
              "      <th>date</th>\n",
              "      <th>event</th>\n",
              "      <th>partlybad</th>\n",
              "      <th>HYY_META.CO2168.mean</th>\n",
              "      <th>HYY_META.CO2168.std</th>\n",
              "      <th>HYY_META.CO2336.mean</th>\n",
              "      <th>HYY_META.CO2336.std</th>\n",
              "      <th>HYY_META.CO242.mean</th>\n",
              "      <th>HYY_META.CO242.std</th>\n",
              "      <th>HYY_META.CO2504.mean</th>\n",
              "      <th>HYY_META.CO2504.std</th>\n",
              "      <th>HYY_META.Glob.mean</th>\n",
              "      <th>HYY_META.Glob.std</th>\n",
              "      <th>HYY_META.H2O168.mean</th>\n",
              "      <th>HYY_META.H2O168.std</th>\n",
              "      <th>HYY_META.H2O336.mean</th>\n",
              "      <th>HYY_META.H2O336.std</th>\n",
              "      <th>HYY_META.H2O42.mean</th>\n",
              "      <th>HYY_META.H2O42.std</th>\n",
              "      <th>HYY_META.H2O504.mean</th>\n",
              "      <th>HYY_META.H2O504.std</th>\n",
              "      <th>HYY_META.H2O672.mean</th>\n",
              "      <th>HYY_META.H2O672.std</th>\n",
              "      <th>HYY_META.H2O84.mean</th>\n",
              "      <th>HYY_META.H2O84.std</th>\n",
              "      <th>HYY_META.NET.mean</th>\n",
              "      <th>HYY_META.NET.std</th>\n",
              "      <th>HYY_META.NO168.mean</th>\n",
              "      <th>HYY_META.NO168.std</th>\n",
              "      <th>HYY_META.NO336.mean</th>\n",
              "      <th>HYY_META.NO336.std</th>\n",
              "      <th>HYY_META.NO42.mean</th>\n",
              "      <th>HYY_META.NO42.std</th>\n",
              "      <th>HYY_META.NO504.mean</th>\n",
              "      <th>HYY_META.NO504.std</th>\n",
              "      <th>HYY_META.NO672.mean</th>\n",
              "      <th>HYY_META.NO672.std</th>\n",
              "      <th>HYY_META.NO84.mean</th>\n",
              "      <th>HYY_META.NO84.std</th>\n",
              "      <th>...</th>\n",
              "      <th>HYY_META.PAR.mean</th>\n",
              "      <th>HYY_META.PAR.std</th>\n",
              "      <th>HYY_META.PTG.mean</th>\n",
              "      <th>HYY_META.PTG.std</th>\n",
              "      <th>HYY_META.RGlob.mean</th>\n",
              "      <th>HYY_META.RGlob.std</th>\n",
              "      <th>HYY_META.RHIRGA168.mean</th>\n",
              "      <th>HYY_META.RHIRGA168.std</th>\n",
              "      <th>HYY_META.RHIRGA336.mean</th>\n",
              "      <th>HYY_META.RHIRGA336.std</th>\n",
              "      <th>HYY_META.RHIRGA42.mean</th>\n",
              "      <th>HYY_META.RHIRGA42.std</th>\n",
              "      <th>HYY_META.RHIRGA504.mean</th>\n",
              "      <th>HYY_META.RHIRGA504.std</th>\n",
              "      <th>HYY_META.RHIRGA672.mean</th>\n",
              "      <th>HYY_META.RHIRGA672.std</th>\n",
              "      <th>HYY_META.RHIRGA84.mean</th>\n",
              "      <th>HYY_META.RHIRGA84.std</th>\n",
              "      <th>HYY_META.RPAR.mean</th>\n",
              "      <th>HYY_META.RPAR.std</th>\n",
              "      <th>HYY_META.SO2168.mean</th>\n",
              "      <th>HYY_META.SO2168.std</th>\n",
              "      <th>HYY_META.SWS.mean</th>\n",
              "      <th>HYY_META.SWS.std</th>\n",
              "      <th>HYY_META.T168.mean</th>\n",
              "      <th>HYY_META.T168.std</th>\n",
              "      <th>HYY_META.T42.mean</th>\n",
              "      <th>HYY_META.T42.std</th>\n",
              "      <th>HYY_META.T504.mean</th>\n",
              "      <th>HYY_META.T504.std</th>\n",
              "      <th>HYY_META.T672.mean</th>\n",
              "      <th>HYY_META.T672.std</th>\n",
              "      <th>HYY_META.T84.mean</th>\n",
              "      <th>HYY_META.T84.std</th>\n",
              "      <th>HYY_META.UV_A.mean</th>\n",
              "      <th>HYY_META.UV_A.std</th>\n",
              "      <th>HYY_META.UV_B.mean</th>\n",
              "      <th>HYY_META.UV_B.std</th>\n",
              "      <th>CS.mean</th>\n",
              "      <th>CS.std</th>\n",
              "    </tr>\n",
              "  </thead>\n",
              "  <tbody>\n",
              "    <tr>\n",
              "      <th>0</th>\n",
              "      <td>725</td>\n",
              "      <td>NaN</td>\n",
              "      <td>NaN</td>\n",
              "      <td>False</td>\n",
              "      <td>372.575187</td>\n",
              "      <td>10.051405</td>\n",
              "      <td>372.324439</td>\n",
              "      <td>9.107661</td>\n",
              "      <td>376.135989</td>\n",
              "      <td>12.831791</td>\n",
              "      <td>371.386237</td>\n",
              "      <td>7.303040</td>\n",
              "      <td>269.903167</td>\n",
              "      <td>253.728948</td>\n",
              "      <td>11.326120</td>\n",
              "      <td>1.246964</td>\n",
              "      <td>11.103279</td>\n",
              "      <td>1.277171</td>\n",
              "      <td>11.606448</td>\n",
              "      <td>1.298689</td>\n",
              "      <td>10.976133</td>\n",
              "      <td>1.345701</td>\n",
              "      <td>10.862582</td>\n",
              "      <td>1.389345</td>\n",
              "      <td>11.481858</td>\n",
              "      <td>1.268772</td>\n",
              "      <td>180.063033</td>\n",
              "      <td>219.267336</td>\n",
              "      <td>0.058824</td>\n",
              "      <td>0.075489</td>\n",
              "      <td>0.054064</td>\n",
              "      <td>0.081356</td>\n",
              "      <td>0.043743</td>\n",
              "      <td>0.055309</td>\n",
              "      <td>0.052581</td>\n",
              "      <td>0.076757</td>\n",
              "      <td>0.052246</td>\n",
              "      <td>0.068645</td>\n",
              "      <td>0.041551</td>\n",
              "      <td>0.06289</td>\n",
              "      <td>...</td>\n",
              "      <td>548.023479</td>\n",
              "      <td>514.421794</td>\n",
              "      <td>0.006218</td>\n",
              "      <td>0.020115</td>\n",
              "      <td>31.465575</td>\n",
              "      <td>28.78014</td>\n",
              "      <td>52.933060</td>\n",
              "      <td>9.374112</td>\n",
              "      <td>52.057268</td>\n",
              "      <td>8.589410</td>\n",
              "      <td>54.637049</td>\n",
              "      <td>11.665914</td>\n",
              "      <td>51.287845</td>\n",
              "      <td>8.064915</td>\n",
              "      <td>50.870055</td>\n",
              "      <td>7.907991</td>\n",
              "      <td>53.912459</td>\n",
              "      <td>10.862380</td>\n",
              "      <td>17.697698</td>\n",
              "      <td>16.009260</td>\n",
              "      <td>0.180053</td>\n",
              "      <td>0.180034</td>\n",
              "      <td>916.453333</td>\n",
              "      <td>18.655695</td>\n",
              "      <td>18.670526</td>\n",
              "      <td>2.821519</td>\n",
              "      <td>18.668475</td>\n",
              "      <td>3.217741</td>\n",
              "      <td>18.561106</td>\n",
              "      <td>2.285093</td>\n",
              "      <td>18.477101</td>\n",
              "      <td>2.031505</td>\n",
              "      <td>18.679402</td>\n",
              "      <td>3.114372</td>\n",
              "      <td>16.014534</td>\n",
              "      <td>13.978402</td>\n",
              "      <td>0.741939</td>\n",
              "      <td>0.752346</td>\n",
              "      <td>0.005233</td>\n",
              "      <td>0.000738</td>\n",
              "    </tr>\n",
              "    <tr>\n",
              "      <th>1</th>\n",
              "      <td>726</td>\n",
              "      <td>NaN</td>\n",
              "      <td>NaN</td>\n",
              "      <td>False</td>\n",
              "      <td>382.408306</td>\n",
              "      <td>0.752684</td>\n",
              "      <td>382.442846</td>\n",
              "      <td>0.717088</td>\n",
              "      <td>382.687016</td>\n",
              "      <td>0.785072</td>\n",
              "      <td>382.450488</td>\n",
              "      <td>0.700048</td>\n",
              "      <td>53.022065</td>\n",
              "      <td>41.385137</td>\n",
              "      <td>5.967984</td>\n",
              "      <td>0.086579</td>\n",
              "      <td>5.916992</td>\n",
              "      <td>0.075877</td>\n",
              "      <td>6.047984</td>\n",
              "      <td>0.107333</td>\n",
              "      <td>5.897317</td>\n",
              "      <td>0.074141</td>\n",
              "      <td>5.916260</td>\n",
              "      <td>0.106651</td>\n",
              "      <td>6.027500</td>\n",
              "      <td>0.114350</td>\n",
              "      <td>59.956085</td>\n",
              "      <td>38.963142</td>\n",
              "      <td>0.017984</td>\n",
              "      <td>0.029631</td>\n",
              "      <td>0.018618</td>\n",
              "      <td>0.028867</td>\n",
              "      <td>0.011855</td>\n",
              "      <td>0.025129</td>\n",
              "      <td>0.023659</td>\n",
              "      <td>0.031212</td>\n",
              "      <td>0.021707</td>\n",
              "      <td>0.030291</td>\n",
              "      <td>0.012742</td>\n",
              "      <td>0.02703</td>\n",
              "      <td>...</td>\n",
              "      <td>114.508435</td>\n",
              "      <td>87.058692</td>\n",
              "      <td>0.000000</td>\n",
              "      <td>0.000000</td>\n",
              "      <td>11.640675</td>\n",
              "      <td>8.03055</td>\n",
              "      <td>92.657903</td>\n",
              "      <td>1.784042</td>\n",
              "      <td>93.296748</td>\n",
              "      <td>1.999155</td>\n",
              "      <td>93.342419</td>\n",
              "      <td>1.338689</td>\n",
              "      <td>93.529024</td>\n",
              "      <td>2.012421</td>\n",
              "      <td>95.117805</td>\n",
              "      <td>1.979480</td>\n",
              "      <td>93.283387</td>\n",
              "      <td>1.472433</td>\n",
              "      <td>11.634858</td>\n",
              "      <td>8.699266</td>\n",
              "      <td>0.014194</td>\n",
              "      <td>0.061355</td>\n",
              "      <td>927.346939</td>\n",
              "      <td>1.714534</td>\n",
              "      <td>0.173819</td>\n",
              "      <td>0.290968</td>\n",
              "      <td>0.251781</td>\n",
              "      <td>0.288592</td>\n",
              "      <td>-0.118664</td>\n",
              "      <td>0.259984</td>\n",
              "      <td>-0.309150</td>\n",
              "      <td>0.241349</td>\n",
              "      <td>0.217341</td>\n",
              "      <td>0.301404</td>\n",
              "      <td>4.273595</td>\n",
              "      <td>2.935296</td>\n",
              "      <td>0.104488</td>\n",
              "      <td>0.085755</td>\n",
              "      <td>0.001142</td>\n",
              "      <td>0.000171</td>\n",
              "    </tr>\n",
              "  </tbody>\n",
              "</table>\n",
              "<p>2 rows × 104 columns</p>\n",
              "</div>"
            ],
            "text/plain": [
              "    id  date  event  ...  HYY_META.UV_B.std   CS.mean    CS.std\n",
              "0  725   NaN    NaN  ...           0.752346  0.005233  0.000738\n",
              "1  726   NaN    NaN  ...           0.085755  0.001142  0.000171\n",
              "\n",
              "[2 rows x 104 columns]"
            ]
          },
          "metadata": {
            "tags": []
          },
          "execution_count": 9
        }
      ]
    },
    {
      "cell_type": "markdown",
      "metadata": {
        "id": "774QxEAe9kqf",
        "colab_type": "text"
      },
      "source": [
        "Split the data into features and labels"
      ]
    },
    {
      "cell_type": "code",
      "metadata": {
        "id": "DeC_2fOeC0RO",
        "colab_type": "code",
        "colab": {}
      },
      "source": [
        "#del X\n",
        "X = npf_train.iloc[:,4::2].copy()\n",
        "#X = npf_train.iloc[:,4:]\n",
        "\n",
        "#del test\n",
        "test = npf_test_hidden.iloc[:,4::2].copy()\n",
        "#test = npf_test_hidden.iloc[:,4:]\n",
        "\n",
        "#del Y\n",
        "Y = npf_train.iloc[:,2]"
      ],
      "execution_count": 0,
      "outputs": []
    },
    {
      "cell_type": "code",
      "metadata": {
        "id": "KzbmXArMcnex",
        "colab_type": "code",
        "colab": {
          "base_uri": "https://localhost:8080/",
          "height": 100
        },
        "outputId": "c6f34c31-7d4c-4373-b8af-a034606fdaa7"
      },
      "source": [
        "X.head(1)"
      ],
      "execution_count": 11,
      "outputs": [
        {
          "output_type": "execute_result",
          "data": {
            "text/html": [
              "<div>\n",
              "<style scoped>\n",
              "    .dataframe tbody tr th:only-of-type {\n",
              "        vertical-align: middle;\n",
              "    }\n",
              "\n",
              "    .dataframe tbody tr th {\n",
              "        vertical-align: top;\n",
              "    }\n",
              "\n",
              "    .dataframe thead th {\n",
              "        text-align: right;\n",
              "    }\n",
              "</style>\n",
              "<table border=\"1\" class=\"dataframe\">\n",
              "  <thead>\n",
              "    <tr style=\"text-align: right;\">\n",
              "      <th></th>\n",
              "      <th>HYY_META.CO2168.mean</th>\n",
              "      <th>HYY_META.CO2336.mean</th>\n",
              "      <th>HYY_META.CO242.mean</th>\n",
              "      <th>HYY_META.CO2504.mean</th>\n",
              "      <th>HYY_META.Glob.mean</th>\n",
              "      <th>HYY_META.H2O168.mean</th>\n",
              "      <th>HYY_META.H2O336.mean</th>\n",
              "      <th>HYY_META.H2O42.mean</th>\n",
              "      <th>HYY_META.H2O504.mean</th>\n",
              "      <th>HYY_META.H2O672.mean</th>\n",
              "      <th>HYY_META.H2O84.mean</th>\n",
              "      <th>HYY_META.NET.mean</th>\n",
              "      <th>HYY_META.NO168.mean</th>\n",
              "      <th>HYY_META.NO336.mean</th>\n",
              "      <th>HYY_META.NO42.mean</th>\n",
              "      <th>HYY_META.NO504.mean</th>\n",
              "      <th>HYY_META.NO672.mean</th>\n",
              "      <th>HYY_META.NO84.mean</th>\n",
              "      <th>HYY_META.NOx168.mean</th>\n",
              "      <th>HYY_META.NOx336.mean</th>\n",
              "      <th>HYY_META.NOx42.mean</th>\n",
              "      <th>HYY_META.NOx504.mean</th>\n",
              "      <th>HYY_META.NOx672.mean</th>\n",
              "      <th>HYY_META.NOx84.mean</th>\n",
              "      <th>HYY_META.O3168.mean</th>\n",
              "      <th>HYY_META.O342.mean</th>\n",
              "      <th>HYY_META.O3504.mean</th>\n",
              "      <th>HYY_META.O3672.mean</th>\n",
              "      <th>HYY_META.O384.mean</th>\n",
              "      <th>HYY_META.Pamb0.mean</th>\n",
              "      <th>HYY_META.PAR.mean</th>\n",
              "      <th>HYY_META.PTG.mean</th>\n",
              "      <th>HYY_META.RGlob.mean</th>\n",
              "      <th>HYY_META.RHIRGA168.mean</th>\n",
              "      <th>HYY_META.RHIRGA336.mean</th>\n",
              "      <th>HYY_META.RHIRGA42.mean</th>\n",
              "      <th>HYY_META.RHIRGA504.mean</th>\n",
              "      <th>HYY_META.RHIRGA672.mean</th>\n",
              "      <th>HYY_META.RHIRGA84.mean</th>\n",
              "      <th>HYY_META.RPAR.mean</th>\n",
              "      <th>HYY_META.SO2168.mean</th>\n",
              "      <th>HYY_META.SWS.mean</th>\n",
              "      <th>HYY_META.T168.mean</th>\n",
              "      <th>HYY_META.T42.mean</th>\n",
              "      <th>HYY_META.T504.mean</th>\n",
              "      <th>HYY_META.T672.mean</th>\n",
              "      <th>HYY_META.T84.mean</th>\n",
              "      <th>HYY_META.UV_A.mean</th>\n",
              "      <th>HYY_META.UV_B.mean</th>\n",
              "      <th>CS.mean</th>\n",
              "    </tr>\n",
              "  </thead>\n",
              "  <tbody>\n",
              "    <tr>\n",
              "      <th>0</th>\n",
              "      <td>373.496585</td>\n",
              "      <td>373.382593</td>\n",
              "      <td>373.961481</td>\n",
              "      <td>373.275062</td>\n",
              "      <td>29.800885</td>\n",
              "      <td>2.741951</td>\n",
              "      <td>2.741975</td>\n",
              "      <td>2.749136</td>\n",
              "      <td>2.736543</td>\n",
              "      <td>2.739259</td>\n",
              "      <td>2.748902</td>\n",
              "      <td>7.673882</td>\n",
              "      <td>0.020366</td>\n",
              "      <td>0.020617</td>\n",
              "      <td>0.012716</td>\n",
              "      <td>0.020741</td>\n",
              "      <td>0.01679</td>\n",
              "      <td>0.017439</td>\n",
              "      <td>0.752927</td>\n",
              "      <td>0.758765</td>\n",
              "      <td>0.759012</td>\n",
              "      <td>0.744568</td>\n",
              "      <td>0.749506</td>\n",
              "      <td>0.758049</td>\n",
              "      <td>36.088902</td>\n",
              "      <td>35.995926</td>\n",
              "      <td>36.221235</td>\n",
              "      <td>36.205185</td>\n",
              "      <td>36.026951</td>\n",
              "      <td>990.886093</td>\n",
              "      <td>64.461794</td>\n",
              "      <td>0.002187</td>\n",
              "      <td>8.881671</td>\n",
              "      <td>93.162439</td>\n",
              "      <td>93.532469</td>\n",
              "      <td>91.761728</td>\n",
              "      <td>93.913827</td>\n",
              "      <td>96.277654</td>\n",
              "      <td>92.153537</td>\n",
              "      <td>11.132826</td>\n",
              "      <td>0.158171</td>\n",
              "      <td>934.925926</td>\n",
              "      <td>-9.811155</td>\n",
              "      <td>-9.580934</td>\n",
              "      <td>-9.941204</td>\n",
              "      <td>-10.224472</td>\n",
              "      <td>-9.651155</td>\n",
              "      <td>2.677545</td>\n",
              "      <td>0.044759</td>\n",
              "      <td>0.000764</td>\n",
              "    </tr>\n",
              "  </tbody>\n",
              "</table>\n",
              "</div>"
            ],
            "text/plain": [
              "   HYY_META.CO2168.mean  HYY_META.CO2336.mean  ...  HYY_META.UV_B.mean   CS.mean\n",
              "0            373.496585            373.382593  ...            0.044759  0.000764\n",
              "\n",
              "[1 rows x 50 columns]"
            ]
          },
          "metadata": {
            "tags": []
          },
          "execution_count": 11
        }
      ]
    },
    {
      "cell_type": "code",
      "metadata": {
        "id": "Yx1sdO9tcuvU",
        "colab_type": "code",
        "colab": {
          "base_uri": "https://localhost:8080/",
          "height": 68
        },
        "outputId": "5f5811f8-f341-4f04-a56d-53174cd29d4e"
      },
      "source": [
        "Y[:2]"
      ],
      "execution_count": 12,
      "outputs": [
        {
          "output_type": "execute_result",
          "data": {
            "text/plain": [
              "0    nonevent\n",
              "1    nonevent\n",
              "Name: event, dtype: object"
            ]
          },
          "metadata": {
            "tags": []
          },
          "execution_count": 12
        }
      ]
    },
    {
      "cell_type": "code",
      "metadata": {
        "id": "tkjnsDz4c0Rs",
        "colab_type": "code",
        "colab": {
          "base_uri": "https://localhost:8080/",
          "height": 100
        },
        "outputId": "373ec0fd-bd91-47d9-b9e2-d85677bb598d"
      },
      "source": [
        "test.head(1)"
      ],
      "execution_count": 13,
      "outputs": [
        {
          "output_type": "execute_result",
          "data": {
            "text/html": [
              "<div>\n",
              "<style scoped>\n",
              "    .dataframe tbody tr th:only-of-type {\n",
              "        vertical-align: middle;\n",
              "    }\n",
              "\n",
              "    .dataframe tbody tr th {\n",
              "        vertical-align: top;\n",
              "    }\n",
              "\n",
              "    .dataframe thead th {\n",
              "        text-align: right;\n",
              "    }\n",
              "</style>\n",
              "<table border=\"1\" class=\"dataframe\">\n",
              "  <thead>\n",
              "    <tr style=\"text-align: right;\">\n",
              "      <th></th>\n",
              "      <th>HYY_META.CO2168.mean</th>\n",
              "      <th>HYY_META.CO2336.mean</th>\n",
              "      <th>HYY_META.CO242.mean</th>\n",
              "      <th>HYY_META.CO2504.mean</th>\n",
              "      <th>HYY_META.Glob.mean</th>\n",
              "      <th>HYY_META.H2O168.mean</th>\n",
              "      <th>HYY_META.H2O336.mean</th>\n",
              "      <th>HYY_META.H2O42.mean</th>\n",
              "      <th>HYY_META.H2O504.mean</th>\n",
              "      <th>HYY_META.H2O672.mean</th>\n",
              "      <th>HYY_META.H2O84.mean</th>\n",
              "      <th>HYY_META.NET.mean</th>\n",
              "      <th>HYY_META.NO168.mean</th>\n",
              "      <th>HYY_META.NO336.mean</th>\n",
              "      <th>HYY_META.NO42.mean</th>\n",
              "      <th>HYY_META.NO504.mean</th>\n",
              "      <th>HYY_META.NO672.mean</th>\n",
              "      <th>HYY_META.NO84.mean</th>\n",
              "      <th>HYY_META.NOx168.mean</th>\n",
              "      <th>HYY_META.NOx336.mean</th>\n",
              "      <th>HYY_META.NOx42.mean</th>\n",
              "      <th>HYY_META.NOx504.mean</th>\n",
              "      <th>HYY_META.NOx672.mean</th>\n",
              "      <th>HYY_META.NOx84.mean</th>\n",
              "      <th>HYY_META.O3168.mean</th>\n",
              "      <th>HYY_META.O342.mean</th>\n",
              "      <th>HYY_META.O3504.mean</th>\n",
              "      <th>HYY_META.O3672.mean</th>\n",
              "      <th>HYY_META.O384.mean</th>\n",
              "      <th>HYY_META.Pamb0.mean</th>\n",
              "      <th>HYY_META.PAR.mean</th>\n",
              "      <th>HYY_META.PTG.mean</th>\n",
              "      <th>HYY_META.RGlob.mean</th>\n",
              "      <th>HYY_META.RHIRGA168.mean</th>\n",
              "      <th>HYY_META.RHIRGA336.mean</th>\n",
              "      <th>HYY_META.RHIRGA42.mean</th>\n",
              "      <th>HYY_META.RHIRGA504.mean</th>\n",
              "      <th>HYY_META.RHIRGA672.mean</th>\n",
              "      <th>HYY_META.RHIRGA84.mean</th>\n",
              "      <th>HYY_META.RPAR.mean</th>\n",
              "      <th>HYY_META.SO2168.mean</th>\n",
              "      <th>HYY_META.SWS.mean</th>\n",
              "      <th>HYY_META.T168.mean</th>\n",
              "      <th>HYY_META.T42.mean</th>\n",
              "      <th>HYY_META.T504.mean</th>\n",
              "      <th>HYY_META.T672.mean</th>\n",
              "      <th>HYY_META.T84.mean</th>\n",
              "      <th>HYY_META.UV_A.mean</th>\n",
              "      <th>HYY_META.UV_B.mean</th>\n",
              "      <th>CS.mean</th>\n",
              "    </tr>\n",
              "  </thead>\n",
              "  <tbody>\n",
              "    <tr>\n",
              "      <th>0</th>\n",
              "      <td>372.575187</td>\n",
              "      <td>372.324439</td>\n",
              "      <td>376.135989</td>\n",
              "      <td>371.386237</td>\n",
              "      <td>269.903167</td>\n",
              "      <td>11.32612</td>\n",
              "      <td>11.103279</td>\n",
              "      <td>11.606448</td>\n",
              "      <td>10.976133</td>\n",
              "      <td>10.862582</td>\n",
              "      <td>11.481858</td>\n",
              "      <td>180.063033</td>\n",
              "      <td>0.058824</td>\n",
              "      <td>0.054064</td>\n",
              "      <td>0.043743</td>\n",
              "      <td>0.052581</td>\n",
              "      <td>0.052246</td>\n",
              "      <td>0.041551</td>\n",
              "      <td>1.704545</td>\n",
              "      <td>1.651604</td>\n",
              "      <td>1.681604</td>\n",
              "      <td>1.602366</td>\n",
              "      <td>1.586257</td>\n",
              "      <td>1.687807</td>\n",
              "      <td>35.860963</td>\n",
              "      <td>33.714011</td>\n",
              "      <td>37.439409</td>\n",
              "      <td>38.014866</td>\n",
              "      <td>35.042139</td>\n",
              "      <td>989.913113</td>\n",
              "      <td>548.023479</td>\n",
              "      <td>0.006218</td>\n",
              "      <td>31.465575</td>\n",
              "      <td>52.93306</td>\n",
              "      <td>52.057268</td>\n",
              "      <td>54.637049</td>\n",
              "      <td>51.287845</td>\n",
              "      <td>50.870055</td>\n",
              "      <td>53.912459</td>\n",
              "      <td>17.697698</td>\n",
              "      <td>0.180053</td>\n",
              "      <td>916.453333</td>\n",
              "      <td>18.670526</td>\n",
              "      <td>18.668475</td>\n",
              "      <td>18.561106</td>\n",
              "      <td>18.477101</td>\n",
              "      <td>18.679402</td>\n",
              "      <td>16.014534</td>\n",
              "      <td>0.741939</td>\n",
              "      <td>0.005233</td>\n",
              "    </tr>\n",
              "  </tbody>\n",
              "</table>\n",
              "</div>"
            ],
            "text/plain": [
              "   HYY_META.CO2168.mean  HYY_META.CO2336.mean  ...  HYY_META.UV_B.mean   CS.mean\n",
              "0            372.575187            372.324439  ...            0.741939  0.005233\n",
              "\n",
              "[1 rows x 50 columns]"
            ]
          },
          "metadata": {
            "tags": []
          },
          "execution_count": 13
        }
      ]
    },
    {
      "cell_type": "markdown",
      "metadata": {
        "id": "m54EBzrjHmNE",
        "colab_type": "text"
      },
      "source": [
        "Make Y (labels) categorical"
      ]
    },
    {
      "cell_type": "code",
      "metadata": {
        "id": "kAaWjluJDeZY",
        "colab_type": "code",
        "outputId": "b1372366-7e69-41c3-b222-93ccd533ed90",
        "colab": {
          "base_uri": "https://localhost:8080/",
          "height": 34
        }
      },
      "source": [
        "labeler = LabelEncoder()\n",
        "Y = labeler.fit_transform(Y.astype('str'))\n",
        "list(labeler.classes_), set(Y)"
      ],
      "execution_count": 14,
      "outputs": [
        {
          "output_type": "execute_result",
          "data": {
            "text/plain": [
              "(['II', 'Ia', 'Ib', 'nonevent'], {0, 1, 2, 3})"
            ]
          },
          "metadata": {
            "tags": []
          },
          "execution_count": 14
        }
      ]
    },
    {
      "cell_type": "code",
      "metadata": {
        "id": "8_nP-FgQc5ke",
        "colab_type": "code",
        "colab": {
          "base_uri": "https://localhost:8080/",
          "height": 34
        },
        "outputId": "2346861e-886c-419b-f374-a05ad47be1b3"
      },
      "source": [
        "Y[:2]"
      ],
      "execution_count": 15,
      "outputs": [
        {
          "output_type": "execute_result",
          "data": {
            "text/plain": [
              "array([3, 3])"
            ]
          },
          "metadata": {
            "tags": []
          },
          "execution_count": 15
        }
      ]
    },
    {
      "cell_type": "markdown",
      "metadata": {
        "id": "FGHvqd_C94F-",
        "colab_type": "text"
      },
      "source": [
        "Scale X (features)"
      ]
    },
    {
      "cell_type": "code",
      "metadata": {
        "id": "mncYMVWOFKO9",
        "colab_type": "code",
        "colab": {}
      },
      "source": [
        "scaler = StandardScaler()\n",
        "X = scaler.fit(X).transform(X)\n",
        "\n",
        "test = scaler.transform(test)"
      ],
      "execution_count": 0,
      "outputs": []
    },
    {
      "cell_type": "code",
      "metadata": {
        "id": "CE6P24Z8FbPj",
        "colab_type": "code",
        "outputId": "4bcbd6a4-c53a-4cf6-f4d3-ab5e2f45eace",
        "colab": {
          "base_uri": "https://localhost:8080/",
          "height": 34
        }
      },
      "source": [
        "X.shape, test.shape"
      ],
      "execution_count": 17,
      "outputs": [
        {
          "output_type": "execute_result",
          "data": {
            "text/plain": [
              "((724, 50), (724, 50))"
            ]
          },
          "metadata": {
            "tags": []
          },
          "execution_count": 17
        }
      ]
    },
    {
      "cell_type": "markdown",
      "metadata": {
        "id": "kZahMRm8Ct2K",
        "colab_type": "text"
      },
      "source": [
        "Reduce the number of dimensions\n",
        "\n",
        "First test how many PCA-components should be used"
      ]
    },
    {
      "cell_type": "code",
      "metadata": {
        "id": "9XT1OUgGCzzU",
        "colab_type": "code",
        "outputId": "905ebc58-6d95-45b7-8ab6-e18b37c66a38",
        "colab": {
          "base_uri": "https://localhost:8080/",
          "height": 51
        }
      },
      "source": [
        "pca_test = PCA(n_components=30)\n",
        "pca_test.fit(X)"
      ],
      "execution_count": 18,
      "outputs": [
        {
          "output_type": "execute_result",
          "data": {
            "text/plain": [
              "PCA(copy=True, iterated_power='auto', n_components=30, random_state=None,\n",
              "    svd_solver='auto', tol=0.0, whiten=False)"
            ]
          },
          "metadata": {
            "tags": []
          },
          "execution_count": 18
        }
      ]
    },
    {
      "cell_type": "code",
      "metadata": {
        "id": "9p4fBzPtmBdg",
        "colab_type": "code",
        "outputId": "5b3c850a-1eca-42df-f01c-6e56ea92d7dc",
        "colab": {
          "base_uri": "https://localhost:8080/",
          "height": 34
        }
      },
      "source": [
        "np.sum(pca_test.explained_variance_ratio_)"
      ],
      "execution_count": 19,
      "outputs": [
        {
          "output_type": "execute_result",
          "data": {
            "text/plain": [
              "0.9999269315979487"
            ]
          },
          "metadata": {
            "tags": []
          },
          "execution_count": 19
        }
      ]
    },
    {
      "cell_type": "code",
      "metadata": {
        "id": "cE9K5eqamocf",
        "colab_type": "code",
        "outputId": "00b353ac-6915-470b-b1c2-f2bb5b767c56",
        "colab": {
          "base_uri": "https://localhost:8080/",
          "height": 265
        }
      },
      "source": [
        "plt.plot(np.arange(1,31),pca_test.explained_variance_ratio_,'o-');\n",
        "plt.plot(np.arange(1,31),np.cumsum(pca_test.explained_variance_ratio_),'o-');"
      ],
      "execution_count": 20,
      "outputs": [
        {
          "output_type": "display_data",
          "data": {
            "image/png": "[encoded data removed]",
            "text/plain": [
              "<Figure size 432x288 with 1 Axes>"
            ]
          },
          "metadata": {
            "tags": [],
            "needs_background": "light"
          }
        }
      ]
    },
    {
      "cell_type": "markdown",
      "metadata": {
        "id": "r0bLjruI-vHA",
        "colab_type": "text"
      },
      "source": [
        "# Why this depends in which columns we choose from npf_jtn?\n"
      ]
    },
    {
      "cell_type": "markdown",
      "metadata": {
        "id": "MmnkTJSJ-5ec",
        "colab_type": "text"
      },
      "source": [
        "Transform the labels and the test set into 4 PC:s"
      ]
    },
    {
      "cell_type": "code",
      "metadata": {
        "id": "esJKhVc0n8fT",
        "colab_type": "code",
        "colab": {}
      },
      "source": [
        "pca = PCA(n_components=4)\n",
        "npf_pca = pca.fit_transform(X)\n",
        "\n",
        "test_pca = pca.transform(test)"
      ],
      "execution_count": 0,
      "outputs": []
    },
    {
      "cell_type": "code",
      "metadata": {
        "id": "_L1voUuQCuas",
        "colab_type": "code",
        "outputId": "395fae67-b84e-481a-ba4f-d71affd2de1a",
        "colab": {
          "base_uri": "https://localhost:8080/",
          "height": 34
        }
      },
      "source": [
        "npf_pca.shape, type(npf_pca), test_pca.shape, type(test_pca)"
      ],
      "execution_count": 22,
      "outputs": [
        {
          "output_type": "execute_result",
          "data": {
            "text/plain": [
              "((724, 4), numpy.ndarray, (724, 4), numpy.ndarray)"
            ]
          },
          "metadata": {
            "tags": []
          },
          "execution_count": 22
        }
      ]
    },
    {
      "cell_type": "code",
      "metadata": {
        "id": "FgiwkDYYk5tB",
        "colab_type": "code",
        "colab": {}
      },
      "source": [
        "own_cmap = [\n",
        "    \"red\",\n",
        "    \"gold\",\n",
        "    \"darkgreen\",\n",
        "    \"cyan\",\n",
        "    \"dodgerblue\",\n",
        "    \"royalblue\",\n",
        "    \"blue\",\n",
        "    \"blueviolet\",\n",
        "    \"plum\",\n",
        "    \"deeppink\",\n",
        "    \"magenta\",\n",
        "    \"purple\",\n",
        "    \"saddlebrown\",\n",
        "    \"lightsalmon\",\n",
        "    \"k\"]"
      ],
      "execution_count": 0,
      "outputs": []
    },
    {
      "cell_type": "code",
      "metadata": {
        "id": "0gHNnsKiEx3m",
        "colab_type": "code",
        "colab": {
          "base_uri": "https://localhost:8080/",
          "height": 542
        },
        "outputId": "837733bd-d9f5-4a66-d8f0-902e93d34cf9"
      },
      "source": [
        "npf_pca = pd.DataFrame(npf_pca, columns=[\"pca1\",\"pca2\",\"pca3\",\"pca4\"])\n",
        "\n",
        "test_pca = pd.DataFrame(test_pca, columns=[\"pca1\",\"pca2\",\"pca3\",\"pca4\"])\n",
        "\n",
        "klabels = labeler.inverse_transform(Y)\n",
        "px.scatter_3d(data_frame=npf_pca,\n",
        "              x=\"pca1\",\n",
        "              y=\"pca2\",\n",
        "              z=\"pca3\",\n",
        "              color=klabels,\n",
        "              color_discrete_sequence=own_cmap,\n",
        "              hover_name=npf_pca.index,\n",
        "              opacity=0.5)"
      ],
      "execution_count": 24,
      "outputs": [
        {
          "output_type": "display_data",
          "data": {
            "text/html": [
              "<html>\n",
              "<head><meta charset=\"utf-8\" /></head>\n",
              "<body>\n",
              "    <div>\n",
              "            <script src=\"https://cdnjs.cloudflare.com/ajax/libs/mathjax/2.7.5/MathJax.js?config=TeX-AMS-MML_SVG\"></script><script type=\"text/javascript\">if (window.MathJax) {MathJax.Hub.Config({SVG: {font: \"STIX-Web\"}});}</script>\n",
              "                <script type=\"text/javascript\">window.PlotlyConfig = {MathJaxConfig: 'local'};</script>\n",
              "        <script src=\"https://cdn.plot.ly/plotly-latest.min.js\"></script>    \n",
              "            <div id=\"a44754f0-86fa-4338-9beb-0bd63df044ff\" class=\"plotly-graph-div\" style=\"height:525px; width:100%;\"></div>\n",
              "            <script type=\"text/javascript\">\n",
              "                \n",
              "                    window.PLOTLYENV=window.PLOTLYENV || {};\n",
              "                    \n",
              "                if (document.getElementById(\"a44754f0-86fa-4338-9beb-0bd63df044ff\")) {\n",
              "                    Plotly.newPlot(\n",
              "                        'a44754f0-86fa-4338-9beb-0bd63df044ff',\n",
              "                        [{\"hoverlabel\": {\"namelength\": 0}, \"hovertemplate\": \"<b>%{hovertext}</b><br><br>color=nonevent<br>pca1=%{x}<br>pca2=%{y}<br>pca3=%{z}\", \"hovertext\": [0.0, 1.0, 2.0, 3.0, 4.0, 5.0, 11.0, 12.0, 13.0, 18.0, 25.0, 26.0, 27.0, 28.0, 29.0, 31.0, 33.0, 34.0, 35.0, 36.0, 37.0, 39.0, 43.0, 45.0, 50.0, 51.0, 54.0, 57.0, 58.0, 60.0, 61.0, 62.0, 67.0, 68.0, 69.0, 71.0, 79.0, 81.0, 92.0, 93.0, 94.0, 98.0, 99.0, 104.0, 106.0, 107.0, 108.0, 109.0, 117.0, 119.0, 123.0, 127.0, 129.0, 130.0, 131.0, 132.0, 133.0, 135.0, 136.0, 137.0, 138.0, 139.0, 140.0, 141.0, 142.0, 143.0, 144.0, 146.0, 147.0, 155.0, 156.0, 171.0, 178.0, 179.0, 188.0, 195.0, 196.0, 201.0, 203.0, 204.0, 208.0, 209.0, 213.0, 214.0, 215.0, 216.0, 217.0, 219.0, 231.0, 232.0, 233.0, 234.0, 235.0, 236.0, 237.0, 238.0, 239.0, 240.0, 241.0, 242.0, 243.0, 244.0, 245.0, 246.0, 247.0, 248.0, 249.0, 250.0, 252.0, 262.0, 265.0, 267.0, 268.0, 273.0, 276.0, 280.0, 281.0, 282.0, 283.0, 284.0, 286.0, 287.0, 288.0, 289.0, 290.0, 291.0, 293.0, 302.0, 303.0, 306.0, 307.0, 308.0, 309.0, 313.0, 314.0, 315.0, 316.0, 317.0, 318.0, 319.0, 321.0, 322.0, 323.0, 324.0, 325.0, 327.0, 328.0, 329.0, 330.0, 331.0, 332.0, 333.0, 334.0, 337.0, 340.0, 341.0, 342.0, 350.0, 351.0, 352.0, 355.0, 358.0, 359.0, 361.0, 362.0, 363.0, 364.0, 365.0, 367.0, 369.0, 370.0, 371.0, 372.0, 373.0, 378.0, 379.0, 380.0, 381.0, 382.0, 383.0, 384.0, 385.0, 397.0, 399.0, 404.0, 407.0, 413.0, 417.0, 419.0, 420.0, 421.0, 422.0, 423.0, 424.0, 426.0, 427.0, 428.0, 429.0, 430.0, 431.0, 437.0, 438.0, 439.0, 440.0, 441.0, 446.0, 450.0, 451.0, 452.0, 453.0, 454.0, 455.0, 456.0, 457.0, 458.0, 459.0, 460.0, 463.0, 464.0, 465.0, 466.0, 479.0, 481.0, 483.0, 486.0, 487.0, 488.0, 490.0, 491.0, 494.0, 496.0, 498.0, 499.0, 500.0, 501.0, 502.0, 503.0, 504.0, 505.0, 506.0, 507.0, 508.0, 509.0, 510.0, 511.0, 513.0, 517.0, 520.0, 521.0, 535.0, 536.0, 538.0, 539.0, 540.0, 541.0, 542.0, 543.0, 545.0, 546.0, 547.0, 548.0, 549.0, 550.0, 551.0, 552.0, 553.0, 554.0, 555.0, 558.0, 559.0, 561.0, 566.0, 569.0, 570.0, 571.0, 572.0, 573.0, 574.0, 575.0, 576.0, 577.0, 578.0, 579.0, 580.0, 581.0, 582.0, 583.0, 584.0, 585.0, 586.0, 587.0, 588.0, 589.0, 590.0, 591.0, 592.0, 593.0, 594.0, 595.0, 596.0, 597.0, 598.0, 599.0, 600.0, 601.0, 602.0, 603.0, 604.0, 605.0, 606.0, 607.0, 608.0, 609.0, 610.0, 611.0, 612.0, 619.0, 622.0, 623.0, 626.0, 627.0, 629.0, 630.0, 631.0, 632.0, 634.0, 635.0, 636.0, 637.0, 638.0, 639.0, 640.0, 641.0, 642.0, 643.0, 644.0, 645.0, 646.0, 648.0, 649.0, 650.0, 651.0, 652.0, 656.0, 658.0, 659.0, 660.0, 661.0, 662.0, 663.0, 664.0, 665.0, 670.0, 671.0, 673.0, 674.0, 675.0, 676.0, 677.0, 678.0, 680.0, 681.0, 682.0, 683.0, 684.0, 685.0, 686.0, 687.0, 688.0, 689.0, 690.0, 691.0, 692.0, 693.0, 694.0, 695.0, 696.0, 699.0, 702.0, 703.0, 704.0, 705.0, 706.0, 707.0, 708.0, 709.0, 711.0, 715.0, 718.0, 719.0, 720.0, 721.0, 722.0, 723.0], \"legendgroup\": \"color=nonevent\", \"marker\": {\"color\": \"red\", \"opacity\": 0.5, \"symbol\": \"circle\"}, \"mode\": \"markers\", \"name\": \"color=nonevent\", \"scene\": \"scene\", \"showlegend\": true, \"type\": \"scatter3d\", \"x\": [3.243456258782384, 12.651091821025181, 3.8982875728009962, 5.837187063105638, 5.416745236569369, -0.3939132102410764, 8.373659597290771, 0.033880493125920313, 1.900762311123293, 0.3207019142350971, -0.7671384444547032, -4.026290569343947, -6.7234759593287, -4.648152860681345, -4.400741114090338, -4.545626127816334, -5.30439268331682, -2.610914814866886, -2.6790332338373664, -0.5627940871705007, 0.28716543426071, -0.9109086358501097, -0.6459243994560525, 1.3332416928229862, -4.817173171211553, -0.16128376093382216, -5.728290319737451, -5.484412034284511, -3.2148897606053732, -3.338950682209452, -4.976127790059423, -0.8114271108244456, 0.7370647309208957, -3.3401134652304787, -3.2121113931231684, 1.1135205145883627, -0.5178038438490007, 0.0369692531016067, 0.5545365394721603, -0.8914778904838415, -1.252328578712756, -0.8193598566175521, -2.4330766914759785, -6.347728020721082, -0.753178542271851, -7.079346791839205, -5.819155841441155, -6.858435762439819, 0.9158246287314108, -1.9385579838245135, 0.47520605970464314, 2.248158362226804, 4.90041710002952, 5.583961393904136, 3.9973882909421676, 4.56488710539415, 5.082909183396069, 4.278674485225976, 4.135762359190201, 5.8068047259265, 4.6601168513433135, 6.223554941613603, 5.025971922096632, 10.513225750265171, 5.892938127588059, 4.20567108339613, 6.362423762013466, 3.9673618721550383, 2.6162418163262426, 2.998975740705624, 2.066131537272801, -1.7508656126660045, -5.7882132746225095, 0.7316827089093505, 0.2830236987530939, -3.160950565671252, -1.1558772910094863, -3.85588192162727, -1.7770908822715703, -4.370942164793173, 0.45251886694330384, 1.6333569810109099, 3.8130953540949273, 8.698189372191564, 11.566088411570252, 4.253954768240821, 5.572261567125303, 3.105893116832587, 2.311669167969437, 4.295446161915899, 3.518708097570896, 3.969785596708563, 2.738707417447073, 1.9362372107841344, 3.9409592309726076, 5.754976816360444, 6.007254757525654, 4.061573771359248, 5.006243583437087, 6.300763687735678, 5.647398107064914, 3.549680398702871, 2.751986478859998, 4.940483590620586, 4.873749242882333, 4.967017980937724, 7.103010109013649, 4.614408762684155, 5.579886179357689, 1.41701320055591, 1.456933551584258, 0.6244189069702243, -1.043209854678822, -0.2769066579528135, -4.663900734341182, -6.679411785706188, -4.252856270697233, -6.791548041448785, -6.645082521815116, -6.083660192733876, -5.500399455255666, -3.9243171118482763, -0.7964434586559178, -3.186274308543042, -5.090499504792381, -2.215609168591253, -3.629586003880717, 1.1578674363614028, -0.7701525613010719, -1.3856097537927552, -1.7764951218979068, 1.5985540934423759, 0.8876176911281943, 1.1242123095281997, -0.24253857418893648, 3.890369730351604, 4.247986006287965, 4.637669044754734, 5.733600026712928, 7.257180112835752, 2.7567230420461284, 5.018507829546432, 13.245023161552881, 6.8289479583935515, 6.684876129641553, 7.3214989594687365, 5.010332952681688, 7.76696142015159, 21.721144771371755, 7.328332085555351, 6.298547114231184, 4.752661206155366, 4.825347162617735, 1.1860049201961396, 4.90660649536577, 2.9282339536261395, -3.0615040835385234, 0.4686865867591175, -2.5921166516099095, -3.887803754120736, -6.641319784652188, -2.4923612273698197, -6.620638270981704, -4.048478693523601, -6.6635170122919005, -4.139038922214836, -6.666977983219075, -4.070286486269924, -3.710562507977595, -3.283792929373562, -5.383838276727557, -2.7744059493046263, -0.15397572846207444, 0.2774620832827568, 3.957207683731631, 2.238081727344885, 5.749301719603089, 3.837654336865174, 3.533687208538272, 1.792442098496396, 2.284766974982147, 3.2098759371714807, 2.1254914671048, 1.0346683276995765, -1.1006052715486827, -2.048388515727548, -1.4976778399058037, -3.065035356198283, 0.4708399224723723, 0.8103492801080032, -6.614100208717614, -5.769455745826434, -0.4133255900421419, -3.543696089496025, -4.003947478546459, -4.9555589918681955, -2.963259891494955, -5.2448470135615795, -6.759777142718434, -5.565344541562665, 7.717832655640708, 11.580396049813817, 4.7535364934351145, 8.124745957431807, 10.58638464918327, 8.326611438369817, 6.149346989262099, 5.2185185631133715, 4.315822113640471, 4.313861784915214, 4.11936419030826, 3.967940000514427, 3.303469772035284, 2.822643745707422, 2.6984095172864104, 2.889793021972434, 2.5880113154001574, -0.13528347314792777, 2.6486741920511547, 2.52367563118064, 2.8257048602035604, -0.5887494592531977, -3.4081535387675834, -3.047130801291406, -1.1393346988648279, -2.2750903392204185, -1.373258998212438, -1.919712154278992, -0.8952745958168363, 2.920586278856688, 3.657603434316994, 4.6935326941000435, 4.269183533028718, 4.324069445204242, 6.733063117879568, 5.4910209601595135, 7.160168379104276, 7.983182838343191, 4.6521641135671485, 6.3996125142822695, 7.850333554182791, 6.448076942603647, 5.411662355661841, 7.178808236937437, 11.319450349630483, 5.028411538422431, 5.279218731702575, 3.0000963594547962, 3.6493862445656693, -6.741263201634558, -2.8538868218307303, 0.25037761666452457, -5.698422975263732, -6.285124474308241, -6.150302032680794, -6.999114597234605, -6.410196921373148, -2.478080807859778, -0.647539701930285, -5.0721650928275315, -5.094243398862995, -0.5739663454202283, -4.865293188009127, -2.4139139415801134, -3.4915976104969646, -3.295328998999865, -5.268302016745664, -1.3851745783605212, -2.148659814385317, -1.5358580686959695, -0.9668057975059894, 2.752240248844562, 3.112669729034779, 6.3850429800378, 1.3468275167100843, 2.8864536927952624, 4.854077026357567, 4.743527598529633, 5.01686207710521, 3.4198454183004965, 5.322983570474377, 5.726092642656929, 6.649003853058106, 4.423073927344869, 4.471695858623286, 3.562409773436918, 3.9418177062683624, 6.268073951919923, 6.347857727762457, 7.633663588884411, 10.755749803191527, 10.512216240019024, 14.896148828326336, 10.193332876228874, 8.282696375355348, 7.864275528391662, 10.458288046334294, 6.8821729620009675, 11.56188457507056, 5.257835516087479, 9.973793838473773, 15.117071648567801, 25.555559887843344, 10.868676826329041, 8.78332995753819, 6.486750485329316, 17.211604963978818, 15.476983967825275, 6.090760121549752, 9.09910697834207, 11.164567688525151, 8.135130448061725, 12.258352216772655, 8.075834494623987, 7.059378991676569, 4.582712352297178, 3.4540873667485843, -0.18308062003391615, -0.8544283784704914, 1.2336122228398416, -6.732028595801802, -6.622008782190752, 0.06161914684502945, -4.1006163050622275, -3.299884867497607, -5.930383539357105, -4.12572474787403, -4.982300121643338, -8.35680342733579, -6.351019640665923, -5.966710471166922, -7.826683578899719, -4.685595713708219, -4.0727906479256495, -2.8525789079886947, -3.2807572917423347, -6.424877332805068, -4.4094164879464985, -2.2137208745169867, -1.2056128712553047, 0.4473806608945579, 0.2165005083002819, -1.0283472355817327, -0.6791942256370976, 0.5315871728713681, -0.373773772168615, 0.19962976801945143, 0.9961508033050758, -0.5420491829686995, 0.9652622971441643, 0.27028466289194025, 4.006349583812278, 1.850171489955695, 4.347435584450295, 3.7423165891603456, 4.693831697504674, 5.1660127000293885, 4.301012931246411, 4.236675350218894, 6.0512094453761724, 8.230408315894827, 5.979131524456329, 8.97592794695696, 5.7701024444819815, 7.286618854856467, 7.82438625431233, 3.751290538785145, 7.147213157629802, 6.641389553313567, 7.417716284755673, 2.8755809929474645, 8.870273560738326, 8.399861478958469, 14.85950255076626, 18.142198468727493, 4.027895172649699, 6.5063701357555646, -5.085452351477414, -0.508818867323724, -0.9494336637103737, -3.163462619445177, -6.1786096431972926, -4.377242181747368, 0.49862122456483216, -5.800563220080024, -1.2842470320232706, -5.282655616472515, -2.6986462609949675, -3.1527876044161385, -4.053475641218165, -2.1960995997592563, -2.2274489352174407, -0.7079990155133081, -3.79160883096614], \"y\": [-0.8600515372542109, 2.834005726887304, -2.160397417428945, -2.436945071463891, 3.7034158495229286, 1.8149299530953955, 2.0663316883328595, 1.1049297350841636, 1.0604377296614464, -3.373649120169208, -0.6256533065926164, 0.03535301600931305, 2.9444476078733586, 0.22646041489644966, -0.09031447782092014, -2.0929504400892855, -0.3416858668604171, -1.925120764693853, -4.642489542720791, -7.578308874096011, -5.0007138437361816, -5.648186773921465, -1.0475059366944797, -2.354770382509127, 1.515236316669724, -5.746037038541895, -0.8426573281181855, -2.149058407953395, -5.527378308465319, -5.1472693039817825, -1.8784813784087036, -7.442438597256292, -6.296246596871487, -2.877728868034316, -4.218792814214753, -6.78912989662308, 2.6646164457006347, 0.1733544018204741, -4.443582678000659, -3.7174934776382607, -1.854731021022122, -4.882918345464741, -3.266646860116677, -1.1507458982581116, -6.419030458453409, -2.513285950839666, -2.3746536373212312, -0.6312136434424158, -2.658270644379073, -3.7889077822342165, -2.8078971970361923, -2.0982721556988633, -4.7320552289547795, -4.11646503936823, -4.407621724221498, -1.787069221134661, -2.709276786831068, -3.9547600079383485, -2.3461510696262544, -1.434632866571389, -2.1370274436117636, -1.8162367235208503, -3.0502974224591433, 2.92185393382612, -2.412081037274016, -1.2569152472992846, -0.46533359988059725, -1.011997444855636, -0.2850821618245839, -2.6427661345924593, -1.764053913744448, 4.02251893256986, 6.101760834823691, -2.500350539453764, -1.9477170650309823, -1.2506704486032676, -3.650320740961124, -2.685762492226079, -5.735379973626313, -3.4681266046890697, -4.7547834852343795, -4.476735333929426, -2.1524732499049604, 0.3893743188663155, 2.940930864313297, -1.4839965317349089, -0.40044402141451413, -2.4573632806836105, -2.094303489495097, -2.3999454964716733, -3.0722366756454313, -1.6014714076971572, -2.9860816069674403, -1.5849688093198895, -2.3261813667773055, -1.860270226090086, -2.1668527903499664, -2.207879392620068, -0.3797610678939346, -1.0594446559906208, 0.7097512381952883, 2.349962654902044, 0.7752565186002565, 0.8156163652959162, -0.17196667113195505, 1.7135528258292643, 1.0230080607362293, 0.8101482690757547, 1.8838286129901007, 1.4628142638678159, -0.25874127675274594, -1.1197094786207011, -0.23659415963694083, -4.057624776672218, -0.02858383914668411, 1.4500848035489469, -0.3147611135996027, 1.1244299386526155, 0.9595460447416407, 0.1904155389553981, 0.11323268227647626, -3.3581384376398784, -4.887139810882042, -1.9451796098454806, -3.9605225569435416, -4.191309302729588, -2.7399959263319547, -3.5198491476995923, -2.717060269198952, -2.0070049078554515, -0.14285278112229244, -0.39695156723571173, -2.1680066674594283, -1.0911740768436884, -1.7541204625202615, -2.6364091240004823, -4.23557514524231, -3.97633578142637, -0.4559726724922538, -1.8612039521435835, -1.8753004973729164, 0.13512136422358184, 0.39728383597535444, 2.0060294834216865, 1.4360098693057024, 1.6905159235817728, -0.5557904049812809, 5.047376232974766, 11.715998704443875, 1.2294188793091452, 4.012088875453218, 2.1858750864351437, 3.2456778441715093, 4.197022153812766, 1.412306455679871, -0.17685458902860152, 7.029650050351241, -3.6940501720012895, -0.3389553664016781, 1.129106758002504, 1.2802554389454759, -3.0348889820722436, 0.8861104051630051, -1.5162046648849343, 0.9794333107555503, -2.9470409503705732, 1.3931663095643652, -2.2859262506507707, -2.7795255121162885, -3.2298350957760786, -0.4689078517688139, -2.519332114704362, -5.950831876875854, -5.843827203592337, -5.113123142283353, -5.177338045904302, -5.8476458085760035, -3.6321202556028127, -3.6632641449032763, -3.2772901664526435, -2.7777943011397452, -3.5957684375011327, -2.5435836898512365, -1.9188184958287908, 1.070960939817289, 0.4650514348687316, -2.613546479736922, -1.2048826203733949, -5.745135844976202, -6.203749387006356, 0.25386563751788516, -0.5521189197818875, -6.134101284781831, -3.438735309791651, -1.133664297398195, -0.5220073287841567, -3.039948704548197, -0.9264942637683461, 0.31122215285067856, -1.888383583184713, -1.1781673689460979, 0.9264412719049521, -2.671405053507392, -1.8202308699270127, 2.510067995620059, 0.48557036256188346, -1.0203363656346267, 2.274279033712054, -0.1363804455121828, -1.4738306867081705, -1.5476013204496204, 0.42090480907119754, -1.8424803730882144, -0.739257564736863, -0.5564579836015373, -0.4447625423224491, -0.5646459884722995, 3.9419881662287524, -1.4984511682809245, -2.1612516838337847, -2.930416077382214, -4.487491315775957, -2.6098362282913152, -2.2110384683435664, -5.2410100113406415, -3.5206966448219386, -4.621289990192534, -3.0128278558667496, -4.112666112868606, -3.0420656555094023, -3.9524918711615014, -3.356030882397022, -3.2396087169201997, -3.214261306120524, -2.054948135971743, -1.4667719228653155, -3.642163268724456e-05, -1.8079727596743553, -2.9239577479983545, -2.9398104409749455, -1.9142784984402594, 1.7189764915750465, -1.2791887007637026, -1.1184848323787255, 0.19448958389045964, -1.2373245770251007, 1.357275853627575, -0.8603732351077167, -0.37123975952721544, 2.7971064828400367, -1.1359603920955932, -5.296730288513318, 1.1363207562659206, 1.418342715260618, 1.0227262335541296, 1.3946898438959316, 0.3255909085004082, -3.6727161376361037, -4.841604429812593, -0.9316633640283826, -0.7357479649368698, -6.294548709508782, -2.117044887258574, -4.747768723361053, -2.0382108264102343, -2.2300247277596483, -1.6442024197269172, -3.608338852604953, -3.8707546854705437, -4.6729160184835505, -3.430914186909746, -1.7528650466641114, -3.954448730569425, -0.13536750881244633, -2.0561177609028967, -3.541633036673941, -4.849086466103939, -0.36742130037489446, -1.9667267928168461, -1.6081030586344471, -3.757652015571391, -2.773745374088092, -1.1239232726982769, -4.37291159260751, -4.463211029368581, -3.565583410733565, -3.544684158097682, -3.7420666259133855, -3.5521187958927123, -3.044044714379048, 0.9403334410883974, 2.0215945765167995, 2.7451038623255783, -0.42967048573011457, -1.367543738561278, -0.963179011662903, 0.1531306249096476, -0.42382526345174504, 1.8105165344911134, -0.9449145744719318, 1.1668673976587591, 5.427483752276014, 12.454198201483178, 2.7740835794788277, 0.5736394137292068, 0.2169727596050962, 9.616089958502458, 7.5407354289107635, 0.4300713117073822, 3.0576165413443506, 7.218391752318029, 2.382097222050398, 8.931708064989767, 0.3095232417743016, 0.1700962863460468, -0.033761795402059334, 3.5522945953771012, 0.47547232516739146, 1.8878626652587642, -0.5386669982657036, 3.6371011824723234, 2.6919605729495, -4.032795200559343, -0.995339522364142, -1.1274449855402822, 0.6257081638776807, -3.8788253827904455, -0.3876250349450893, 1.5225711335556986, -0.8292357433660225, -2.812511760816561, 1.2679155550910532, -1.216315751209666, -1.8487095990880618, -4.113660527800615, -3.608360834965935, 0.04492495996700905, -2.283846715357299, -2.5276287431940627, -3.989520868028826, -5.288582976281115, -4.509401358474096, -2.745387070422439, -3.1410252966671366, -5.60481409234434, -3.7556208313721964, -4.0377428169057445, -3.7077930999053033, -3.645930322507717, -0.018775820278615084, -0.2572664920085661, -2.9492392452130245, -2.1383114328718187, -3.4946885885712002, -3.2533795237519643, -2.910813389221043, -1.4160539839619504, -1.9450596096254666, -1.282901967544152, -0.344496616584613, -1.6333304686837806, -1.7989178356116813, -0.1331119741941045, -0.7545192626277809, -0.9740946097478757, -3.231668729203178, -1.9079793649823071, 1.1640454895432615, -0.7047008321818826, 2.172171045882752, 0.1577216043159496, 4.943971360587031, 4.459152302218297, 8.133344552877727, 9.089969808509844, 0.4044865670560504, 4.667209470651517, 1.4130515964984676, -3.473208122896425, -3.3632520079535975, -1.258298691658995, -1.3957643496777612, -3.315472754067718, -4.853804629612361, -0.2241415863304756, -4.857512397812494, 0.41830466920532644, -3.347189879481864, -0.8620883555518588, -0.6118525819525733, -4.486765551690622, -5.34141861598919, -5.033012520833101, -0.6435026583479105], \"z\": [-4.421773872565779, 6.062747800608361, -0.46429976757805574, 0.8432580019049327, -0.07155473654976949, -2.443909085978194, 7.4801213183296325, 0.7689566181887366, 5.326915191932863, 2.2945748987914225, 3.3365059615619406, 3.299131980038733, 4.372957649675337, 2.920788942283067, 2.4419521945943887, 3.7922686965670507, 4.105838071088214, 1.3392674415275188, 3.283387865784501, 2.082095858101914, 3.3581098707917993, 1.0473997646577284, 4.275469996065622, 2.335497568193491, 0.34692796840080936, 0.7687169886787637, 3.3316373992929833, 4.311277478315631, 4.160666627671641, 4.315940597398773, 3.0258030864305896, 3.188480010096859, 3.2014860696009872, 0.8427916916970503, 2.377371505702586, 2.7026778249897445, -0.3652199655323603, -2.1524232133791195, -0.09545271557063549, 0.8069683606289598, -0.052479546202027876, 0.24485309597223212, 0.14258383087741913, 2.8335769155691004, 1.2163123928815722, 4.892809720591395, 4.279981100988644, 3.904495061308116, 2.6517083536150414, 1.5608890023949185, -2.4857569183397725, -3.439387150566271, 1.3272992502271974, 1.215886538815271, -1.0843311254255754, -4.014055025331637, -2.4127229747759733, -2.3932303739314973, -3.08671932824153, -1.400476130696611, -2.2825953060975195, -0.8560926039196034, -2.3592902516022596, 3.4294689522677184, 0.019919561939095113, -2.429899809506064, -0.5177466150755919, -2.15327907739581, -2.667985474562051, -2.2282149849070017, -3.107091725092825, 2.0713303152351634, 2.2413226974897884, 0.15701749641585194, -0.5744251708858109, 1.5425589981478072, 3.4628260250701386, 3.6508819643519543, 2.76645944058141, 3.702271542407553, -0.11968866982490017, 1.580218326207183, -3.1768675222368388, 2.8803681595586106, 6.352246750360882, -3.057043711567908, -2.107723928127461, -2.889571123011862, -3.060907741240056, -2.211396815574069, -1.8830343634896, -1.7664780209948652, -1.5350717799475386, -3.7228378865816945, -2.1040503911522785, 1.3968828753092846, 0.8947313504888353, -2.1425306885665325, -1.6535636316829432, -1.335540172100044, -1.010709797492976, 0.19506404697678495, -2.0910835588966976, -0.7067294264599597, -0.8214343550365619, -1.471238555933776, 1.2965037782374649, -2.6416627414248697, -0.9355620039833555, 0.9226687181924261, -3.249191663996927, -0.500619848996093, -0.39400743178552244, 0.9460317768675329, 2.922717254510285, 2.205454628298867, 3.2415035788816353, 2.461659368196262, 2.4558089295491685, 2.3712616584526973, 2.8945671754211273, 4.153034128306538, 3.8361154651519156, 2.518177967062853, 4.478890916068072, 2.0412104807007045, 3.4387136578216833, 2.5106242628419015, -1.314857096182127, 2.602546484562315, 4.961841398552102, 2.760245243272779, 2.0052595797157906, 3.7500220243647564, -2.312255354371416, -1.91092866937121, -1.9509753492497073, -1.4629978382065372, 0.3248537644486493, 1.4516468918555279, -4.2220109350069, 0.30586503705594076, 10.030419159622806, -3.263824014395942, -3.636183154664181, -3.5937206286974126, -0.762359431589343, 1.3887190961641347, 19.03831007270687, 1.7650896017856164, 1.2882214803681176, -0.6401123447598993, -1.6967965316004596, -1.1353123100128275, 0.8774335320310492, -1.6047358371269451, 2.421474000867481, 1.8380876393915289, -0.8739537765310441, -0.8741725512787631, 1.9040492388686507, 2.9236529184702413, 2.0678666989593175, 0.9247986232022676, 1.5770692606278653, 3.8482351178359817, 1.4710036383320555, 3.854182918384517, 3.5036110308120723, 2.1595180806145238, 1.3386663230711056, 0.8071476056449323, 2.098665106596084, 0.488996332974077, 1.2309323500216547, 0.859078725076786, 0.39689467194168393, 1.029413863178842, -0.07797628611139071, -1.5911145936478261, -1.8986230551748307, -1.3864178924035266, -1.835402800528678, -0.8790583848139629, -3.046777050274464, -0.8478939391502683, 1.0212418642274907, -0.16575063688941566, 0.935626164430814, 0.6836762684617051, 1.8642026439051147, 1.6929024745866104, 1.617933543962297, 1.5646866969597808, 0.31491834891865794, 0.6748228552188343, 2.05017145421283, 2.1410320513809955, 2.4169308314104385, 3.0893454578271644, 2.35799009818356, 7.35586335773611, -0.8450360521699011, 2.6018131974791388, 6.388668363908822, 2.8747814223572514, 1.7527323143289482, 0.43308520949660956, -2.8188899255388034, -1.0667692658415715, 0.7049604874492318, 2.280096601433425, -1.7029822841537774, -3.966287915701654, -3.4225293038607183, -2.5125891496761668, -3.450568738501402, 1.3472182584544556, -1.8106851064559255, -1.3624313415704898, -3.516114892579983, 0.4625220068040164, 1.7688523109729166, 0.6384499552986183, 2.6881431603781425, 1.9433099500594868, 2.2078908019899592, 1.0526613521929105, -0.7269624129160105, 2.274755724116926, -0.89497606843059, -1.5702465790626632, -4.343355885022122, -3.7990215564757026, -1.1634848985369042, -4.631810665540985, -2.6423044429378164, -0.40684309552314074, -2.9330768726605276, -3.5177037650988683, -1.0308593586237753, -3.268381512915093, -3.0710139262245435, -1.4850689496850293, 3.623894426383356, -3.8616487865578177, -2.1585495152408853, -3.8329500910329295, -3.571895366674773, 0.50104564561589, 0.14646932236224505, -0.17439775064358085, 0.5734674580738979, 0.7065390236352233, 0.9998393825689683, 0.939557917325324, 1.7906771252899303, 1.07417133004335, 0.4397778153672661, 1.402515892446699, 1.2923448932066453, 1.540445807171482, 2.518429814219916, 2.0245281246303026, 1.5048440717910745, 2.508896098123475, 1.640009156640659, 0.4595211189853874, 1.3924814389311106, 1.5703660225956213, 0.6572799742226623, -1.7560963433358097, -2.7978535335707755, 4.128142608918516, -2.4267104918801627, -2.5567036607155136, -0.21278695689426733, 0.13523384549505305, -1.2105258288417866, -2.765504408742576, -1.8153137494207834, -1.2522438392853508, -1.3536244049234565, -0.9667578480478879, -1.6839396587861988, -0.7088834642701628, -0.6500029866996264, -1.49624341570332, -1.9804685677563107, -0.5857267992336845, -0.6588318875534488, 1.1858332348693823, 6.838887183752746, 1.0343446224433241, -3.638280609838413, -4.401695037479038, -1.23696642740127, -0.9038684879498632, 0.2797053720195029, -3.0663760671667344, 1.2027272703424172, 4.54989881657311, 19.778342745276674, 2.003635853913747, -0.28049256399661227, -2.0141636770009725, 12.11138837470679, 9.267385025528569, -2.760815072989218, -0.10205483853983201, 3.490826404815009, -2.6908315000995104, 8.078544404024735, 2.385107272369546, 1.2329963923893503, -2.9310851005262215, 2.4854286056645427, -3.3132457705456786, -1.1561269037680177, 0.5946286016040873, 0.48131980847755335, 0.6963398777218991, 0.7176488951438332, 1.1289240641956222, 1.4750442859669013, 2.317547539942228, 3.2977762946822033, 1.466006668470766, 2.9676225715263747, 2.7245497138341253, 4.27099345747268, 3.4020071249484762, 1.4616506830095217, 2.2486979858185823, 2.163637949515923, 1.9083731832405555, 2.8455842470911215, 3.811014966744042, 1.7258152615342564, 1.2748807892377232, -0.383230331877688, -0.5047215397059784, -0.880699465534154, 1.2053249737019602, 1.4286070928880525, -0.6193816434535201, -1.0894147406439039, 0.8216484079323613, 0.8056218014127245, 0.7002052701994763, 0.0011585827427676952, 2.148938919975935, -1.7282619025851798, 0.3623119555887634, -3.3260393544935636, -3.815266550781074, -4.069868178180783, -4.728073831221516, -4.63754700394965, -3.465873316830336, -1.407865451357835, -2.95183637390279, 0.5565025941865736, -4.798555885300952, -3.485248657481254, 0.2831358474258946, -2.7809256721590665, -3.9536456480354043, -0.7683327248007089, -2.6567071957271087, -2.9495374255068154, -1.1383057284876168, -1.0151742668691872, 7.612060207970935, 12.373455760565685, -2.569557607452392, 0.8679976735564073, 3.5675416870287537, 0.8752923248879019, 0.6220759474626186, 0.6777590825342812, 3.941055414638242, 4.060433603769957, 0.20120639910525087, 2.179637878931655, 1.1436818107737918, 1.5258985474169777, 1.742435809970766, 0.47353797476462967, 0.41550421020616357, 1.3105498774743871, 1.8257204770968043, 0.6059250940057316, 1.230765025282222]}, {\"hoverlabel\": {\"namelength\": 0}, \"hovertemplate\": \"<b>%{hovertext}</b><br><br>color=Ib<br>pca1=%{x}<br>pca2=%{y}<br>pca3=%{z}\", \"hovertext\": [6.0, 8.0, 10.0, 17.0, 19.0, 20.0, 22.0, 38.0, 42.0, 44.0, 46.0, 49.0, 64.0, 66.0, 72.0, 75.0, 78.0, 80.0, 83.0, 86.0, 88.0, 97.0, 101.0, 105.0, 111.0, 112.0, 114.0, 148.0, 152.0, 153.0, 158.0, 159.0, 160.0, 163.0, 164.0, 165.0, 166.0, 170.0, 172.0, 173.0, 174.0, 185.0, 187.0, 190.0, 192.0, 193.0, 199.0, 200.0, 210.0, 254.0, 255.0, 256.0, 257.0, 258.0, 259.0, 260.0, 261.0, 263.0, 266.0, 272.0, 278.0, 279.0, 292.0, 295.0, 299.0, 300.0, 301.0, 305.0, 312.0, 320.0, 326.0, 336.0, 339.0, 343.0, 345.0, 346.0, 347.0, 348.0, 349.0, 354.0, 357.0, 360.0, 366.0, 376.0, 387.0, 389.0, 392.0, 393.0, 395.0, 396.0, 400.0, 402.0, 403.0, 406.0, 408.0, 409.0, 414.0, 418.0, 432.0, 442.0, 444.0, 472.0, 482.0, 484.0, 489.0, 514.0, 516.0, 519.0, 524.0, 525.0, 526.0, 529.0, 530.0, 531.0, 534.0, 568.0, 657.0, 666.0, 700.0], \"legendgroup\": \"color=Ib\", \"marker\": {\"color\": \"gold\", \"opacity\": 0.5, \"symbol\": \"circle\"}, \"mode\": \"markers\", \"name\": \"color=Ib\", \"scene\": \"scene\", \"showlegend\": true, \"type\": \"scatter3d\", \"x\": [-1.5810832422811651, -1.884889973927186, -2.9159419032777487, -5.007350417262398, -6.189873328210404, -6.684582289722932, -4.394642885378812, -4.358056555380021, -1.7692786094268222, -5.620816024283685, -3.4862295192195702, -2.630089224991565, -5.619874539345861, -4.521711125995748, -0.45252997828869623, -1.3245602347031145, -1.2898544891703818, -2.431512115378421, -2.9818844371016464, -3.951031766979996, -4.069896137729013, -3.5206359565146417, -5.8606033602883985, -5.495715118943567, -5.424333556034174, -4.89569933444881, -4.9879792319987075, 0.9558702759657952, 3.522671218725954, 1.6619025653298094, -1.9566928473522651, -2.1759757597432423, -2.2544083272370137, -1.6273563415760808, -2.723619439211395, -1.267836245580561, -0.22534086261147324, -1.4511109094362349, -2.7630414009952258, -2.3640802378715846, -2.2272598206137837, -2.4861980621617987, -2.312775216490064, -3.2554229868432056, -2.933563764594726, -3.1990999296309828, -4.496404807228175, -6.04734600772404, -0.02720136473837554, -0.6995027440683638, -2.498045293965526, -1.923585052724666, -0.19717673918806466, -0.5596651079216445, -2.911300282993131, -1.6823539720193035, -2.2101800686925017, -0.8387607602211866, -2.358017755868194, -3.723403975592591, -5.140703943815836, -5.807742646632329, -4.592930438920135, -4.350701250719208, -4.4307771115859875, -2.8355991978346333, -2.6140436703132583, -2.7008173313231483, -0.8848467355341523, 0.6784199209147231, 0.9080138280462015, 0.9028229178256274, 1.2000877324929673, -5.434137990582177, -6.621481999579603, -2.6460453817066543, -4.09368252825871, -2.5981786005940033, -1.098894185734844, -5.054650081898578, -5.146405866260942, -6.831273051923424, -5.053001109396736, -1.920641778167346, -2.413854010598531, 1.4875304760805732, -2.250889169045499, -3.678680251163223, -1.6285740428787319, -2.901339641057965, -2.3631562954264957, -2.342099782042717, -2.835071786767455, -4.6380197306145305, -3.7698895125561718, -4.121852295288014, -5.243048169382191, -2.8449572360470077, -2.885173845169979, 1.0066357442018823, 2.443095197414822, -2.680475641950359, -6.19535247983028, -4.1741437229866865, -3.811565240636802, 4.532407698882147, 4.938090658495027, 3.7965030389970056, 1.2287583377269944, 1.099702997989335, 1.101490725873055, -2.5574486284798303, -3.03386288618421, -4.332188031897913, -5.827107164297686, 0.6174280187438054, -2.161898516196224, -0.42341857276878736, -4.890702799631019], \"y\": [3.5871156504899724, 2.6703687514987013, 4.925831074574712, 2.411182416988003, 3.2994971570890197, 3.8001636070647167, 1.502344023368552, -2.161884015057404, 1.6252552530816242, 4.901888830348098, 2.512682385894516, -1.6395002478392842, 0.8990393271990387, -2.0585264539552828, 0.9136998161194573, 1.517235540775911, 4.695993085982451, 4.5408841013391426, 6.273103473450522, 3.771898404157971, 2.458049154679438, 0.49549238719024585, 2.0899267495648015, -0.825881188158816, -1.023531402543387, -0.31649596690231463, 0.0344352287489279, 0.7921066580829778, 5.952150150700013, 4.789165677947999, 4.076465020521622, 4.0290026750213945, 4.950958524703135, 7.523151278020818, 6.085055513286819, 7.749617734669487, 1.2708741035519895, 6.595236434791621, 4.2335805640491735, 4.608241617302582, 6.320487624512177, 1.3437392779613961, 1.8699537339460786, 0.8322005916592312, 0.8108367885494946, 2.2763595864450914, 0.9958323150005295, 2.4382782106295844, -0.22196781452201803, 4.1077820200260655, 3.80114431343797, 3.567654375835737, 4.190765020519874, 3.012265475075196, 4.387355841656982, 6.342158872382628, 3.2166153240798243, 1.9222333672994103, 2.4298343547980625, 1.2167697891821723, 0.5300037310286232, 1.7448512462434496, -0.29320930199029244, 0.8054743164528675, 1.2914580130061206, -0.6031376792274719, -0.09429412412129824, -1.058632915736787, 0.35777152595085643, -1.0535426277711721, -0.3563036402250088, 4.357818923081467, 2.7739265460572944, 7.532781400648983, 5.326116171328228, 2.445215165353505, 2.9229150560295625, 2.0037506454297587, -2.470597085438291, 0.8780048352695438, 0.6934017472560633, -0.025739098717354154, -0.8119557734442286, -2.3155554902230207, 2.3604773107406474, 3.211976163659372, 2.4867954855780483, 3.1982144851658267, 0.49571186492641145, 2.7790557083395426, 2.6506498642532317, 3.444796467331326, 3.7492577323576315, 3.99424555596789, 3.8118050987043968, 3.1260500406223053, 3.4981656918300463, -1.1813620439519916, -1.7992019915217012, 2.2789131890220027, -0.45669126662773246, 3.093533069991854, 0.8850116033180954, -0.17251703857115477, -1.2390491244675073, 1.0959304454610361, 1.49584100659544, 1.2306466325315355, 2.946317818324763, 3.38603715609413, 3.5223269761891034, 5.320988501999887, 3.809711306227773, 4.959263978651143, 1.9586657420062858, 0.747325625993202, -0.5622273902965209, -0.8341441249756574, 4.501128618737204], \"z\": [-3.155982775794985, -2.513012214749175, -1.2589258459749637, -0.6395231326019614, 1.0406259947366188, 3.132839309655381, -0.8580810215995038, 2.4388274721899057, 2.56853246233725, -0.5162080007627688, -2.522346653376717, -0.05671743167148953, 0.2086888096266146, 2.1109293968408767, -1.7091645209957356, -1.1960647221812322, -2.7543560867472214, -0.7517610559835682, -1.2786898795111032, -1.365827495391656, -0.5842697714421129, -0.9781309681092248, 0.8208549215836254, 1.407127863095813, 1.1251574503687913, 0.050589785297793184, 1.5044990449972595, -2.7961931113278, 2.69130461045185, 1.2945004920123153, -2.2502038929276615, -1.7964398761444471, -2.2799829833818612, 0.7404778207729585, -0.41404915941391407, 1.8651836397827235, -1.9561670766083878, 3.1421987790150805, -1.1901050558994448, -0.8409410786450779, 0.5244015824600134, -0.9591978521621838, 0.2858237478828375, -1.0084249519078765, -1.0449637792016557, 0.9438152571765348, 3.139003476254762, 1.4480280702246449, -1.8479056256671869, -2.7817992314050013, -2.837448083297548, -3.11014536334831, -1.6279965108001069, -2.4603825692931216, -1.9394770462971858, 1.414699218064122, -1.837436721961183, -0.8839350936570584, -2.0367016907624693, 0.6625239985910918, 1.3239949956137196, 1.1008846356826418, 3.003162952441762, 0.270974787084941, -0.25183621052365607, -0.32918219847714564, 0.2845038806046019, 0.5038655853063005, 1.7248257117385675, -3.0869837231229527, -2.90718262713727, -1.6787275143688887, -2.7080576552872624, -1.4563908626674202, -0.5192576315167301, 1.3420764822247808, -1.5725826875144453, -1.8681559069710107, 0.5963750410470073, 0.10379103121117746, 0.2578129988186689, 1.9952418167943038, 1.9466057675840516, 0.9501235725712036, -2.431373831431828, -1.1217169378935714, -1.571858360522064, -1.7369042610756487, -2.2334126087795756, -2.404934901873037, -3.1386172804958505, -3.4646265113423333, -3.095629345215884, -0.3302895547261441, -2.0315383274297614, -1.7557518754238868, -0.7449847366954923, -0.485181325651617, -0.45430202209570486, -4.992167139511751, -3.1184849051637404, -2.7795346768770925, 0.7173347446180155, -0.20908447130780028, 0.5688720384615977, -4.228641102771896, -3.5760545309825544, -4.112327090161756, -4.173604986602641, -4.111239126918268, -1.4196487254524466, -2.958448921267525, -2.4370670108846926, -1.7033150886444006, 0.14958214140970713, -2.769701738274217, 1.4993182968691787, -2.7953164555648, -1.3766803329015322]}, {\"hoverlabel\": {\"namelength\": 0}, \"hovertemplate\": \"<b>%{hovertext}</b><br><br>color=II<br>pca1=%{x}<br>pca2=%{y}<br>pca3=%{z}\", \"hovertext\": [7.0, 14.0, 15.0, 16.0, 21.0, 23.0, 24.0, 30.0, 32.0, 40.0, 47.0, 48.0, 52.0, 53.0, 55.0, 56.0, 59.0, 63.0, 65.0, 73.0, 77.0, 82.0, 84.0, 85.0, 87.0, 89.0, 91.0, 96.0, 100.0, 102.0, 103.0, 110.0, 115.0, 116.0, 118.0, 120.0, 121.0, 122.0, 126.0, 128.0, 134.0, 145.0, 149.0, 150.0, 151.0, 154.0, 157.0, 169.0, 175.0, 177.0, 181.0, 182.0, 183.0, 184.0, 186.0, 189.0, 191.0, 194.0, 197.0, 198.0, 202.0, 206.0, 207.0, 211.0, 212.0, 218.0, 251.0, 264.0, 269.0, 270.0, 274.0, 275.0, 277.0, 294.0, 296.0, 297.0, 298.0, 304.0, 310.0, 311.0, 338.0, 344.0, 353.0, 356.0, 368.0, 374.0, 377.0, 386.0, 388.0, 390.0, 391.0, 398.0, 401.0, 405.0, 410.0, 412.0, 415.0, 416.0, 425.0, 433.0, 434.0, 435.0, 436.0, 443.0, 447.0, 448.0, 449.0, 461.0, 462.0, 467.0, 468.0, 469.0, 470.0, 471.0, 473.0, 474.0, 475.0, 476.0, 477.0, 478.0, 480.0, 485.0, 492.0, 493.0, 495.0, 497.0, 512.0, 515.0, 518.0, 527.0, 528.0, 532.0, 533.0, 537.0, 544.0, 556.0, 557.0, 560.0, 562.0, 563.0, 564.0, 565.0, 567.0, 613.0, 614.0, 615.0, 616.0, 617.0, 618.0, 620.0, 621.0, 624.0, 625.0, 628.0, 633.0, 647.0, 653.0, 654.0, 655.0, 667.0, 668.0, 669.0, 672.0, 679.0, 697.0, 698.0, 701.0, 710.0, 712.0, 713.0, 714.0, 716.0, 717.0], \"legendgroup\": \"color=II\", \"marker\": {\"color\": \"darkgreen\", \"opacity\": 0.5, \"symbol\": \"circle\"}, \"mode\": \"markers\", \"name\": \"color=II\", \"scene\": \"scene\", \"showlegend\": true, \"type\": \"scatter3d\", \"x\": [-2.077199224097373, -2.4958097952462266, -2.3302013860578548, -3.9437120129751913, -4.0651630557866785, -2.4406812260671105, -4.240595936578638, -4.230637589275894, -3.806504557709897, -0.10255107693922379, -1.2011209649605847, -2.3230686678956722, -5.303018383893045, -6.312724128289204, -3.4823045341633647, -6.143416258603519, -5.0220513916437675, -4.406358892536854, -1.9506534050486304, -1.6169314773117638, -0.2514108782431881, -6.01814693683502, -0.7780357798945601, -1.545733864729364, 0.009769526145900377, -4.27358629828912, -3.5407279099464817, -5.415188851319764, -6.380264813902231, -2.6107521901675304, -4.31094789339018, -5.702879201314667, -4.50725343380175, -0.8832525390935646, -3.7749375207505156, -3.49701155837235, -2.9308106490561574, -0.4177626255345008, 2.018972461560768, 5.607348018394231, 2.0887877267448025, 1.8967810267365142, 2.0538191787837916, 2.2365399934147527, 2.077916692995686, 0.8940225942070424, 2.3383244979492064, 2.4549827581727928, -2.7272423562642634, -3.2333843215599423, -2.5786043135411574, 0.20796786672981632, -2.7903924226628742, -3.2288491891828963, -0.1333440187353131, -4.6494006609867045, -3.055899281089944, -2.962860850101677, -3.8193392393743624, -5.308024163939688, -4.304103925916533, -4.018678131505858, -3.862745498464185, 2.290006483066776, 2.7513174670241693, 2.8300463941485283, 2.0918030765668427, -2.5278670475083076, -1.7212712159728483, -4.182477500133479, -5.328055762076457, -5.198642750636452, -1.6639085673710752, -3.098493634699686, -3.761207825525281, -3.6382249554063324, -2.8625999497767687, -1.7882657050816495, -1.8626339570353818, -1.05650627663389, 0.7406560697345356, -6.19221217427532, -5.7628757169008455, -3.892906541440319, -5.405168247345586, -3.8176708925270404, -2.910037396116933, -2.7766901965592505, -1.6224394875358688, -1.9223856783338875, -0.9086062611709872, -2.8195216195028006, -2.041383076529138, -2.181657079954002, -2.183967035040681, -3.8741436129127975, -6.676588246789731, -4.991447625568844, -4.012895753108939, -2.201111756743392, -1.1538181272455457, 0.07972142682483771, 8.467488881441096, 1.9060498511625668, 1.8067868230451878, 0.5091906482124362, 1.016025018886026, -0.5883768837502245, -1.8362304159872025, 1.976554175172248, -3.0435673815915023, -3.6795165400065626, -4.617811154748315, -2.5291796807591376, -1.711826542793978, -5.340609149280774, -3.5916431401646585, -6.295045231613062, 1.0690174958348846, -3.9775600860750906, -1.7379705122996014, -1.9672155531500137, -2.388168221274918, -0.06174939802713958, -0.5307507551456184, 2.5344930126264926, 4.1936141843139945, 4.809484492376862, 1.8323857511910286, -1.494716598031248, -2.825370856578401, -5.31516861412902, -5.99557469346585, -3.7305466109800314, -3.668802244494004, -4.039818531823506, -4.165402562619857, -5.072111395108902, -3.027825894297766, -1.9586805285438502, 0.20721452692272696, -0.6211403656336054, 0.5711652715904912, 2.613015686494589, 1.2038296046746433, 5.016585711929709, -0.5062130499203612, -1.25377280037652, 0.45535208196854865, -2.591235951712526, -0.6044822239051724, -2.9121781343696944, -2.5649277654733518, -7.079081981016095, -7.038339821799256, -4.415153514342717, -1.312557658476748, 0.3618865908613932, -1.3907032133375794, -0.19396932867005393, 1.0322218549262265, 1.4383503156519286, 0.747963957867005, 5.759489581384181, -2.890432290711051, -2.160200841233434, -2.404654342878832, -1.3240288093281078, -5.783314609180749, -6.4345866801131715, -5.638899366264122, -1.7039208043410516, -3.0913982788348506], \"y\": [6.439041965388428, 1.661239556619892, 2.3313308574408897, 4.208972293753619, 0.06327294117663364, -0.35145372203151115, 2.017385828957092, -0.458522319016796, -1.0496466385977683, 1.6825920279517743, -0.7689261959934601, -0.7280302476826485, -0.02314100268452794, 1.7240637370715, -1.9385275286807315, -1.1178484755128941, -2.168232903636618, -2.772484267520781, -4.066375844151204, 2.2023136931632643, 2.735722241859854, 5.931679109312185, 0.03923087041947496, 1.6045424788258966, -1.625333441267743, 3.600302660818921, 3.0979615586332514, 2.3453448964890122, 2.1428640277450666, -1.6651675730038566, -2.131609989423805, -1.1294760847679666, 0.4998070531788645, -2.3030325531635727, -0.6440376911547449, 0.12874461989780012, -1.3999798543386164, -3.32189607005662, -0.08092290537058137, 0.4639937972811915, -3.935192403669169, -1.3367419144728034, 2.9088982484101273, 3.5453681199013833, 1.974438286553036, 4.1697840548125775, 5.150489686406082, 4.503194973688109, 5.826061760576511, 4.545281156393751, 3.6128639895628054, 1.9905059715739424, 3.0990747331991946, 4.1284235873379, -1.836530528954431, 3.890314257059504, 0.705779318037736, 0.5466734408029403, 1.3630201633502865, 2.172353403340932, 0.3540739333523074, -2.3584735743323058, 0.043210550630990836, -2.248526830797344, -0.9229085037051511, -0.6948400415246881, 2.054942294603796, 2.8698312903032765, 0.8075168742965015, 3.9024769596555715, 2.3128784310243935, 2.7812433556987073, -2.270720698910642, -0.9010426029164006, 1.4692994799332497, -0.39119051691979734, -0.30933215860125707, -0.10013319169521026, -0.46759996584911245, -0.5400471652850021, 0.6608450599906462, 4.124785737921259, 1.721412928089642, -0.294596799924655, -0.6696370684369917, -1.0302348291696397, -0.7822383391695731, 4.893544763739538, 3.1593542730733866, 2.898402583895299, 1.8974388636125004, 3.1139729083916494, 1.8425383621608464, 2.0971342514599427, 0.4658889717909455, 2.207520372417193, 3.7897513617066734, 2.288451176199385, -1.0542008887755583, -1.356148487376119, -2.482049858668529, -1.9759825559568187, 1.3858445917736784, -1.7219338474860646, -1.3453180442513317, 0.4846505872078915, 1.5240075256692693, 3.629003121394371, 5.302257371159729, 3.2368249895924297, 3.4447239077309146, 5.029080630277886, 4.374531331594612, 1.633714058355825, 1.2622375949906994, 4.403604929955991, 3.20886842957712, 3.0730282771578485, -4.511744570447123, 2.2217322499070082, -2.1350238864296585, -2.1389960520006763, -2.0333150968441465, -2.202825309599559, -0.20638672738923816, -0.23379472379163135, 1.355990563550534, 1.3799498456693902, 1.2335331949776722, 2.228191321204865, 4.919222349784253, 4.579970656722776, 5.178378186084554, 1.9545950428314254, -0.47522805407545377, 0.24122531241417497, 0.712551537387271, -0.44504898917583885, -0.3604120679972793, -0.7913297663144925, -2.2783674296237755, -0.15404791544304325, 0.12857749086441142, 3.912058972360326, 2.726281159033593, 2.3512750660542534, 3.7315426932430396, 4.499070881941952, 4.5504318196642854, 3.5335263070248297, 0.9839892936780416, 4.164611688798798, 3.0308853965310116, 5.083104307458141, 2.180940654344931, 1.7220227731289557, -1.7981079863397995, -1.0272446800419346, -1.2308927481541203, -0.19870913915215746, -0.4433869793464917, 0.876959390074172, -0.16254761886831712, -0.7041727158494444, 2.781971508362311, 1.7889173214569625, -1.8181674658228284, -6.675377486443025, 0.0066141907370474064, -0.8223932637921656, -1.4618070774270384, -3.1779512774101666, -1.7180444769808725], \"z\": [-1.9063385409427485, 0.6684788729236526, -1.4136228188901463, 1.6114035834645069, 1.224397266339972, -0.8104282310047809, -0.7287047683197344, 2.7686413589317094, 1.707992790354506, 4.164362954944301, -1.7429697515998908, 0.9881167110011307, 0.7188033035787619, 0.991114140052372, 1.7411661657930178, 3.4699858849929117, 3.296641050674139, 2.2733726594773187, 2.087068954618583, -2.946412232429185, -3.022477440462107, -1.24796372184818, -2.2507764075525207, -1.8505130767493343, 0.02548302722648174, -0.4517156906894277, 0.8052593536714849, 0.41159402223502695, 0.8308132103538305, -0.08614363294455597, 1.5548720824759938, 3.4045205692912512, 0.73431690035745, 1.0619649384218852, 0.9076959586824652, -0.038991588278553334, -0.3306878040555559, 0.3813642179934308, -2.342768417953745, -0.06303771579591702, -2.5336440630560615, -1.6568331733191963, -3.1455021510489725, -2.2874042253913993, -1.2106597311332663, 2.053670743370774, 1.7775229764747886, 5.49813840443153, -0.36049110603755896, -0.8165322722230304, -2.085126441683761, 0.31898216590963036, -1.9188145593946015, -0.42672436668045266, -0.81049532356448, -1.0118899298273514, -0.8808801517126013, 0.8501240481901111, 2.435663089739081, 1.850555873172181, 3.0360087710828068, 2.5863641030960776, 0.12644992150708648, -1.9372459029577898, -3.1448835500941272, -2.7833016651827083, -4.6103724954805285, -2.3209594822019226, -0.843046923215838, -0.8814331603861608, 0.6235003397476873, 1.2086499866572709, 0.3405673198789134, 0.23786930550058363, 1.766129869155425, 0.1877171500217349, 1.5533431912814075, -1.1716291895872935, 0.1628589686764747, 2.434880568426153, -3.4615003377978493, 0.6064006719748134, 2.9437194270145386, 0.059521864900329936, 2.0116970269638377, 0.19918859417924567, 1.0603125008001868, -0.3196641156212773, -3.7608319525614586, -3.5227507747384363, -3.8088262451256694, -2.63328216503681, -3.1077902354437903, -0.1703783623817398, 0.04261270061803994, -0.00037047805118442013, 0.05289369192555468, -0.7736033317177783, 0.24052821058551543, 0.041321746196410325, 0.3587457141016162, 0.6371819344231486, 2.7214555922392867, -3.7240813218838458, -2.6434432932056877, -3.550655946510843, -2.6069732293425125, -2.998202980667986, -2.408152772337296, 2.5316513668435054, -3.3589052792919256, -1.5009610659682093, -1.8820725444277648, -1.0311176279909389, -2.5621554733124983, -1.9625867097828713, -2.7340106546627285, -0.02427026499084104, -1.1903439978275612, 0.4257568704363063, -0.2772650009348612, -0.4254343284992442, -0.7687530026624775, 0.022301332317568846, -0.34311397517588316, -2.352353056665707, -1.9407503821946468, -3.880965765148887, -3.675252617294819, -3.7794547350017464, -4.212225415436716, -1.291968554056912, -1.5326493723008388, -0.9072983433029292, -0.10829317029203855, 2.197364795454786, 2.029091928366509, 1.89864931547466, 0.8908474807615621, -1.4305989208089853, -0.8586926194837786, -2.336755565209264, -2.8710885615318986, -3.865786023247487, -3.6613155014668806, -1.015185421492535, -3.6856345951493243, -3.9646990229809655, -2.07832171135167, -2.7254963683669335, -2.6972074637702743, -2.730872009705001, -2.6422308405722705, 0.13600703144376233, 1.3659408125238186, 0.10247880938574018, -0.5709496082583894, 1.544407184739677, -1.5392483268144217, -1.9895257833767332, -1.7221962578648984, 0.2056607534896711, -2.6410643270975522, -5.2800924938733855, -0.38098467989671864, -1.381904576680013, 0.6651537859882981, 3.2465879777950915, 1.9362887975661802, 3.1698608546633005, 2.798586377511882, 0.3422223046707524, -0.006400652475769425]}, {\"hoverlabel\": {\"namelength\": 0}, \"hovertemplate\": \"<b>%{hovertext}</b><br><br>color=Ia<br>pca1=%{x}<br>pca2=%{y}<br>pca3=%{z}\", \"hovertext\": [9.0, 41.0, 70.0, 74.0, 76.0, 90.0, 95.0, 113.0, 124.0, 125.0, 161.0, 162.0, 167.0, 168.0, 176.0, 180.0, 205.0, 220.0, 221.0, 222.0, 223.0, 224.0, 225.0, 226.0, 227.0, 228.0, 229.0, 230.0, 253.0, 271.0, 285.0, 335.0, 375.0, 394.0, 411.0, 445.0, 522.0, 523.0], \"legendgroup\": \"color=Ia\", \"marker\": {\"color\": \"cyan\", \"opacity\": 0.5, \"symbol\": \"circle\"}, \"mode\": \"markers\", \"name\": \"color=Ia\", \"scene\": \"scene\", \"showlegend\": true, \"type\": \"scatter3d\", \"x\": [-3.0244320540964935, -1.5188830509946634, -4.64147447986582, 0.6990394869310522, -2.687019675188773, -5.128706117334435, -1.9892465947452154, -4.04173502229191, -0.41876360067464885, -0.7136301013209978, -2.081325775703036, 0.35688933194751327, -1.6010207665599525, -2.72970983588829, -4.40837466462415, -3.2900908003214537, -2.305091601445135, 7.3768686453231505, 3.3183902182475347, 6.549168449954254, 3.391141743030149, 5.290574516696445, 3.1598711691873778, 3.939850981120923, 3.2246015194601596, 4.952151178086887, 4.433242809804032, 4.93316440702197, -0.24583391635959517, -5.217909498101714, -5.520989769049029, 1.090977624465635, -2.8008028834245557, -4.466168562773756, -3.23489279992149, 2.456158813936039, -0.07758090369475176, 0.46958803768678814], \"y\": [4.339241634565298, 0.36457155663237234, -0.249394348922714, 5.958495824163884, 3.4017264917532657, 5.069556390613567, 0.8428097939174483, -0.3537830428799419, 0.3328680624486921, 0.16318887394457357, 5.569208181252831, 7.442611129266866, 3.8267214575288047, 5.496015668126138, 6.333625038066529, 3.4810215064307557, -6.389474107839112, 0.0037233757531476117, -2.901748207924862, -3.1360921926533987, -2.2490898758762006, -4.827971858471783, -1.4516961582864791, -0.02723548037667764, -1.9798992943749834, -0.5116474613656269, -1.0722566610782647, -0.28679711921916734, 3.556367847931241, 4.799325296074298, 1.4389533936178804, 4.884560897369754, 0.92541012853322, 2.3601009618342443, 2.494491206278036, 0.7158121584694475, 2.949753252248437, 1.76984468525849], \"z\": [-2.3260034497116404, 1.1095909026286754, 1.0666896420038576, -0.7590386709263299, -2.3201120915809286, -0.2990221839178042, 0.9055094423796289, 0.9360295753379502, -2.704263206339817, -2.984415652662995, -3.3552226143423916, 1.2108222842676848, -1.852659464972948, -1.679072693370294, -1.3608136909305166, -1.9885835597934731, 5.309409592055504, 0.5497913869419907, -1.7026555495223443, 1.2465794853947105, -1.8740793703122995, -1.2229372548565585, -3.4903861703905106, -3.269091034902292, -1.9028117632665893, -2.708214976265271, -2.4160541133237903, -0.8523316359905441, -2.7759259470678157, -0.149037075429091, 1.0064882987419492, -0.6101159788348318, -1.1514774166241848, -0.7390566654608921, -1.6056649252717639, -3.990108491694438, -3.964971056510174, -4.192182920289909]}],\n",
              "                        {\"legend\": {\"tracegroupgap\": 0}, \"margin\": {\"t\": 60}, \"scene\": {\"domain\": {\"x\": [0.0, 1.0], \"y\": [0.0, 1.0]}, \"xaxis\": {\"title\": {\"text\": \"pca1\"}}, \"yaxis\": {\"title\": {\"text\": \"pca2\"}}, \"zaxis\": {\"title\": {\"text\": \"pca3\"}}}, \"template\": {\"data\": {\"bar\": [{\"error_x\": {\"color\": \"#2a3f5f\"}, \"error_y\": {\"color\": \"#2a3f5f\"}, \"marker\": {\"line\": {\"color\": \"#E5ECF6\", \"width\": 0.5}}, \"type\": \"bar\"}], \"barpolar\": [{\"marker\": {\"line\": {\"color\": \"#E5ECF6\", \"width\": 0.5}}, \"type\": \"barpolar\"}], \"carpet\": [{\"aaxis\": {\"endlinecolor\": \"#2a3f5f\", \"gridcolor\": \"white\", \"linecolor\": \"white\", \"minorgridcolor\": \"white\", \"startlinecolor\": \"#2a3f5f\"}, \"baxis\": {\"endlinecolor\": \"#2a3f5f\", \"gridcolor\": \"white\", \"linecolor\": \"white\", \"minorgridcolor\": \"white\", \"startlinecolor\": \"#2a3f5f\"}, \"type\": \"carpet\"}], \"choropleth\": [{\"colorbar\": {\"outlinewidth\": 0, \"ticks\": \"\"}, \"type\": \"choropleth\"}], \"contour\": [{\"colorbar\": {\"outlinewidth\": 0, \"ticks\": \"\"}, \"colorscale\": [[0.0, \"#0d0887\"], [0.1111111111111111, \"#46039f\"], [0.2222222222222222, \"#7201a8\"], [0.3333333333333333, \"#9c179e\"], [0.4444444444444444, \"#bd3786\"], [0.5555555555555556, \"#d8576b\"], [0.6666666666666666, \"#ed7953\"], [0.7777777777777778, \"#fb9f3a\"], [0.8888888888888888, \"#fdca26\"], [1.0, \"#f0f921\"]], \"type\": \"contour\"}], \"contourcarpet\": [{\"colorbar\": {\"outlinewidth\": 0, \"ticks\": \"\"}, \"type\": \"contourcarpet\"}], \"heatmap\": [{\"colorbar\": {\"outlinewidth\": 0, \"ticks\": \"\"}, \"colorscale\": [[0.0, \"#0d0887\"], [0.1111111111111111, \"#46039f\"], [0.2222222222222222, \"#7201a8\"], [0.3333333333333333, \"#9c179e\"], [0.4444444444444444, \"#bd3786\"], [0.5555555555555556, \"#d8576b\"], [0.6666666666666666, \"#ed7953\"], [0.7777777777777778, \"#fb9f3a\"], [0.8888888888888888, \"#fdca26\"], [1.0, \"#f0f921\"]], \"type\": \"heatmap\"}], \"heatmapgl\": [{\"colorbar\": {\"outlinewidth\": 0, \"ticks\": \"\"}, \"colorscale\": [[0.0, \"#0d0887\"], [0.1111111111111111, \"#46039f\"], [0.2222222222222222, \"#7201a8\"], [0.3333333333333333, \"#9c179e\"], [0.4444444444444444, \"#bd3786\"], [0.5555555555555556, \"#d8576b\"], [0.6666666666666666, \"#ed7953\"], [0.7777777777777778, \"#fb9f3a\"], [0.8888888888888888, \"#fdca26\"], [1.0, \"#f0f921\"]], \"type\": \"heatmapgl\"}], \"histogram\": [{\"marker\": {\"colorbar\": {\"outlinewidth\": 0, \"ticks\": \"\"}}, \"type\": \"histogram\"}], \"histogram2d\": [{\"colorbar\": {\"outlinewidth\": 0, \"ticks\": \"\"}, \"colorscale\": [[0.0, \"#0d0887\"], [0.1111111111111111, \"#46039f\"], [0.2222222222222222, \"#7201a8\"], [0.3333333333333333, \"#9c179e\"], [0.4444444444444444, \"#bd3786\"], [0.5555555555555556, \"#d8576b\"], [0.6666666666666666, \"#ed7953\"], [0.7777777777777778, \"#fb9f3a\"], [0.8888888888888888, \"#fdca26\"], [1.0, \"#f0f921\"]], \"type\": \"histogram2d\"}], \"histogram2dcontour\": [{\"colorbar\": {\"outlinewidth\": 0, \"ticks\": \"\"}, \"colorscale\": [[0.0, \"#0d0887\"], [0.1111111111111111, \"#46039f\"], [0.2222222222222222, \"#7201a8\"], [0.3333333333333333, \"#9c179e\"], [0.4444444444444444, \"#bd3786\"], [0.5555555555555556, \"#d8576b\"], [0.6666666666666666, \"#ed7953\"], [0.7777777777777778, \"#fb9f3a\"], [0.8888888888888888, \"#fdca26\"], [1.0, \"#f0f921\"]], \"type\": \"histogram2dcontour\"}], \"mesh3d\": [{\"colorbar\": {\"outlinewidth\": 0, \"ticks\": \"\"}, \"type\": \"mesh3d\"}], \"parcoords\": [{\"line\": {\"colorbar\": {\"outlinewidth\": 0, \"ticks\": \"\"}}, \"type\": \"parcoords\"}], \"pie\": [{\"automargin\": true, \"type\": \"pie\"}], \"scatter\": [{\"marker\": {\"colorbar\": {\"outlinewidth\": 0, \"ticks\": \"\"}}, \"type\": \"scatter\"}], \"scatter3d\": [{\"line\": {\"colorbar\": {\"outlinewidth\": 0, \"ticks\": \"\"}}, \"marker\": {\"colorbar\": {\"outlinewidth\": 0, \"ticks\": \"\"}}, \"type\": \"scatter3d\"}], \"scattercarpet\": [{\"marker\": {\"colorbar\": {\"outlinewidth\": 0, \"ticks\": \"\"}}, \"type\": \"scattercarpet\"}], \"scattergeo\": [{\"marker\": {\"colorbar\": {\"outlinewidth\": 0, \"ticks\": \"\"}}, \"type\": \"scattergeo\"}], \"scattergl\": [{\"marker\": {\"colorbar\": {\"outlinewidth\": 0, \"ticks\": \"\"}}, \"type\": \"scattergl\"}], \"scattermapbox\": [{\"marker\": {\"colorbar\": {\"outlinewidth\": 0, \"ticks\": \"\"}}, \"type\": \"scattermapbox\"}], \"scatterpolar\": [{\"marker\": {\"colorbar\": {\"outlinewidth\": 0, \"ticks\": \"\"}}, \"type\": \"scatterpolar\"}], \"scatterpolargl\": [{\"marker\": {\"colorbar\": {\"outlinewidth\": 0, \"ticks\": \"\"}}, \"type\": \"scatterpolargl\"}], \"scatterternary\": [{\"marker\": {\"colorbar\": {\"outlinewidth\": 0, \"ticks\": \"\"}}, \"type\": \"scatterternary\"}], \"surface\": [{\"colorbar\": {\"outlinewidth\": 0, \"ticks\": \"\"}, \"colorscale\": [[0.0, \"#0d0887\"], [0.1111111111111111, \"#46039f\"], [0.2222222222222222, \"#7201a8\"], [0.3333333333333333, \"#9c179e\"], [0.4444444444444444, \"#bd3786\"], [0.5555555555555556, \"#d8576b\"], [0.6666666666666666, \"#ed7953\"], [0.7777777777777778, \"#fb9f3a\"], [0.8888888888888888, \"#fdca26\"], [1.0, \"#f0f921\"]], \"type\": \"surface\"}], \"table\": [{\"cells\": {\"fill\": {\"color\": \"#EBF0F8\"}, \"line\": {\"color\": \"white\"}}, \"header\": {\"fill\": {\"color\": \"#C8D4E3\"}, \"line\": {\"color\": \"white\"}}, \"type\": \"table\"}]}, \"layout\": {\"annotationdefaults\": {\"arrowcolor\": \"#2a3f5f\", \"arrowhead\": 0, \"arrowwidth\": 1}, \"coloraxis\": {\"colorbar\": {\"outlinewidth\": 0, \"ticks\": \"\"}}, \"colorscale\": {\"diverging\": [[0, \"#8e0152\"], [0.1, \"#c51b7d\"], [0.2, \"#de77ae\"], [0.3, \"#f1b6da\"], [0.4, \"#fde0ef\"], [0.5, \"#f7f7f7\"], [0.6, \"#e6f5d0\"], [0.7, \"#b8e186\"], [0.8, \"#7fbc41\"], [0.9, \"#4d9221\"], [1, \"#276419\"]], \"sequential\": [[0.0, \"#0d0887\"], [0.1111111111111111, \"#46039f\"], [0.2222222222222222, \"#7201a8\"], [0.3333333333333333, \"#9c179e\"], [0.4444444444444444, \"#bd3786\"], [0.5555555555555556, \"#d8576b\"], [0.6666666666666666, \"#ed7953\"], [0.7777777777777778, \"#fb9f3a\"], [0.8888888888888888, \"#fdca26\"], [1.0, \"#f0f921\"]], \"sequentialminus\": [[0.0, \"#0d0887\"], [0.1111111111111111, \"#46039f\"], [0.2222222222222222, \"#7201a8\"], [0.3333333333333333, \"#9c179e\"], [0.4444444444444444, \"#bd3786\"], [0.5555555555555556, \"#d8576b\"], [0.6666666666666666, \"#ed7953\"], [0.7777777777777778, \"#fb9f3a\"], [0.8888888888888888, \"#fdca26\"], [1.0, \"#f0f921\"]]}, \"colorway\": [\"#636efa\", \"#EF553B\", \"#00cc96\", \"#ab63fa\", \"#FFA15A\", \"#19d3f3\", \"#FF6692\", \"#B6E880\", \"#FF97FF\", \"#FECB52\"], \"font\": {\"color\": \"#2a3f5f\"}, \"geo\": {\"bgcolor\": \"white\", \"lakecolor\": \"white\", \"landcolor\": \"#E5ECF6\", \"showlakes\": true, \"showland\": true, \"subunitcolor\": \"white\"}, \"hoverlabel\": {\"align\": \"left\"}, \"hovermode\": \"closest\", \"mapbox\": {\"style\": \"light\"}, \"paper_bgcolor\": \"white\", \"plot_bgcolor\": \"#E5ECF6\", \"polar\": {\"angularaxis\": {\"gridcolor\": \"white\", \"linecolor\": \"white\", \"ticks\": \"\"}, \"bgcolor\": \"#E5ECF6\", \"radialaxis\": {\"gridcolor\": \"white\", \"linecolor\": \"white\", \"ticks\": \"\"}}, \"scene\": {\"xaxis\": {\"backgroundcolor\": \"#E5ECF6\", \"gridcolor\": \"white\", \"gridwidth\": 2, \"linecolor\": \"white\", \"showbackground\": true, \"ticks\": \"\", \"zerolinecolor\": \"white\"}, \"yaxis\": {\"backgroundcolor\": \"#E5ECF6\", \"gridcolor\": \"white\", \"gridwidth\": 2, \"linecolor\": \"white\", \"showbackground\": true, \"ticks\": \"\", \"zerolinecolor\": \"white\"}, \"zaxis\": {\"backgroundcolor\": \"#E5ECF6\", \"gridcolor\": \"white\", \"gridwidth\": 2, \"linecolor\": \"white\", \"showbackground\": true, \"ticks\": \"\", \"zerolinecolor\": \"white\"}}, \"shapedefaults\": {\"line\": {\"color\": \"#2a3f5f\"}}, \"ternary\": {\"aaxis\": {\"gridcolor\": \"white\", \"linecolor\": \"white\", \"ticks\": \"\"}, \"baxis\": {\"gridcolor\": \"white\", \"linecolor\": \"white\", \"ticks\": \"\"}, \"bgcolor\": \"#E5ECF6\", \"caxis\": {\"gridcolor\": \"white\", \"linecolor\": \"white\", \"ticks\": \"\"}}, \"title\": {\"x\": 0.05}, \"xaxis\": {\"automargin\": true, \"gridcolor\": \"white\", \"linecolor\": \"white\", \"ticks\": \"\", \"title\": {\"standoff\": 15}, \"zerolinecolor\": \"white\", \"zerolinewidth\": 2}, \"yaxis\": {\"automargin\": true, \"gridcolor\": \"white\", \"linecolor\": \"white\", \"ticks\": \"\", \"title\": {\"standoff\": 15}, \"zerolinecolor\": \"white\", \"zerolinewidth\": 2}}}},\n",
              "                        {\"responsive\": true}\n",
              "                    ).then(function(){\n",
              "                            \n",
              "var gd = document.getElementById('a44754f0-86fa-4338-9beb-0bd63df044ff');\n",
              "var x = new MutationObserver(function (mutations, observer) {{\n",
              "        var display = window.getComputedStyle(gd).display;\n",
              "        if (!display || display === 'none') {{\n",
              "            console.log([gd, 'removed!']);\n",
              "            Plotly.purge(gd);\n",
              "            observer.disconnect();\n",
              "        }}\n",
              "}});\n",
              "\n",
              "// Listen for the removal of the full notebook cells\n",
              "var notebookContainer = gd.closest('#notebook-container');\n",
              "if (notebookContainer) {{\n",
              "    x.observe(notebookContainer, {childList: true});\n",
              "}}\n",
              "\n",
              "// Listen for the clearing of the current output cell\n",
              "var outputEl = gd.closest('.output');\n",
              "if (outputEl) {{\n",
              "    x.observe(outputEl, {childList: true});\n",
              "}}\n",
              "\n",
              "                        })\n",
              "                };\n",
              "                \n",
              "            </script>\n",
              "        </div>\n",
              "</body>\n",
              "</html>"
            ]
          },
          "metadata": {
            "tags": []
          }
        }
      ]
    },
    {
      "cell_type": "markdown",
      "metadata": {
        "id": "knP01H5teAox",
        "colab_type": "text"
      },
      "source": [
        "Test ICA also"
      ]
    },
    {
      "cell_type": "code",
      "metadata": {
        "id": "_lWCL_42eAN_",
        "colab_type": "code",
        "colab": {}
      },
      "source": [
        "ica = FastICA(n_components=4)\n",
        "npf_ica = ica.fit_transform(X)\n",
        "\n",
        "test_ica = ica.transform(test)"
      ],
      "execution_count": 0,
      "outputs": []
    },
    {
      "cell_type": "code",
      "metadata": {
        "id": "pFAhLCgmiWjR",
        "colab_type": "code",
        "colab": {
          "base_uri": "https://localhost:8080/",
          "height": 34
        },
        "outputId": "77dbde94-6195-488a-835f-9b7f008593f9"
      },
      "source": [
        "npf_ica.shape, type(npf_ica), test_ica.shape, type(test_ica)"
      ],
      "execution_count": 26,
      "outputs": [
        {
          "output_type": "execute_result",
          "data": {
            "text/plain": [
              "((724, 4), numpy.ndarray, (724, 4), numpy.ndarray)"
            ]
          },
          "metadata": {
            "tags": []
          },
          "execution_count": 26
        }
      ]
    },
    {
      "cell_type": "code",
      "metadata": {
        "id": "bO7kvwypidsk",
        "colab_type": "code",
        "colab": {
          "base_uri": "https://localhost:8080/",
          "height": 542
        },
        "outputId": "1e076fc8-e469-4f21-c515-5f5f5319260c"
      },
      "source": [
        "npf_ica = pd.DataFrame(npf_ica, columns=[\"ica1\",\"ica2\",\"ica3\",\"ica4\"])\n",
        "\n",
        "test_ica = pd.DataFrame(test_ica, columns=[\"ica1\",\"ica2\",\"ica3\",\"ica4\"])\n",
        "\n",
        "px.scatter_3d(data_frame=npf_ica,\n",
        "              x=\"ica1\",\n",
        "              y=\"ica2\",\n",
        "              z=\"ica3\",\n",
        "              color=klabels,\n",
        "              color_discrete_sequence=own_cmap,\n",
        "              hover_name=npf_ica.index,\n",
        "              opacity=0.5)"
      ],
      "execution_count": 27,
      "outputs": [
        {
          "output_type": "display_data",
          "data": {
            "text/html": [
              "<html>\n",
              "<head><meta charset=\"utf-8\" /></head>\n",
              "<body>\n",
              "    <div>\n",
              "            <script src=\"https://cdnjs.cloudflare.com/ajax/libs/mathjax/2.7.5/MathJax.js?config=TeX-AMS-MML_SVG\"></script><script type=\"text/javascript\">if (window.MathJax) {MathJax.Hub.Config({SVG: {font: \"STIX-Web\"}});}</script>\n",
              "                <script type=\"text/javascript\">window.PlotlyConfig = {MathJaxConfig: 'local'};</script>\n",
              "        <script src=\"https://cdn.plot.ly/plotly-latest.min.js\"></script>    \n",
              "            <div id=\"969d35be-d48f-4379-8014-9b55de773e3a\" class=\"plotly-graph-div\" style=\"height:525px; width:100%;\"></div>\n",
              "            <script type=\"text/javascript\">\n",
              "                \n",
              "                    window.PLOTLYENV=window.PLOTLYENV || {};\n",
              "                    \n",
              "                if (document.getElementById(\"969d35be-d48f-4379-8014-9b55de773e3a\")) {\n",
              "                    Plotly.newPlot(\n",
              "                        '969d35be-d48f-4379-8014-9b55de773e3a',\n",
              "                        [{\"hoverlabel\": {\"namelength\": 0}, \"hovertemplate\": \"<b>%{hovertext}</b><br><br>color=nonevent<br>ica1=%{x}<br>ica2=%{y}<br>ica3=%{z}\", \"hovertext\": [0.0, 1.0, 2.0, 3.0, 4.0, 5.0, 11.0, 12.0, 13.0, 18.0, 25.0, 26.0, 27.0, 28.0, 29.0, 31.0, 33.0, 34.0, 35.0, 36.0, 37.0, 39.0, 43.0, 45.0, 50.0, 51.0, 54.0, 57.0, 58.0, 60.0, 61.0, 62.0, 67.0, 68.0, 69.0, 71.0, 79.0, 81.0, 92.0, 93.0, 94.0, 98.0, 99.0, 104.0, 106.0, 107.0, 108.0, 109.0, 117.0, 119.0, 123.0, 127.0, 129.0, 130.0, 131.0, 132.0, 133.0, 135.0, 136.0, 137.0, 138.0, 139.0, 140.0, 141.0, 142.0, 143.0, 144.0, 146.0, 147.0, 155.0, 156.0, 171.0, 178.0, 179.0, 188.0, 195.0, 196.0, 201.0, 203.0, 204.0, 208.0, 209.0, 213.0, 214.0, 215.0, 216.0, 217.0, 219.0, 231.0, 232.0, 233.0, 234.0, 235.0, 236.0, 237.0, 238.0, 239.0, 240.0, 241.0, 242.0, 243.0, 244.0, 245.0, 246.0, 247.0, 248.0, 249.0, 250.0, 252.0, 262.0, 265.0, 267.0, 268.0, 273.0, 276.0, 280.0, 281.0, 282.0, 283.0, 284.0, 286.0, 287.0, 288.0, 289.0, 290.0, 291.0, 293.0, 302.0, 303.0, 306.0, 307.0, 308.0, 309.0, 313.0, 314.0, 315.0, 316.0, 317.0, 318.0, 319.0, 321.0, 322.0, 323.0, 324.0, 325.0, 327.0, 328.0, 329.0, 330.0, 331.0, 332.0, 333.0, 334.0, 337.0, 340.0, 341.0, 342.0, 350.0, 351.0, 352.0, 355.0, 358.0, 359.0, 361.0, 362.0, 363.0, 364.0, 365.0, 367.0, 369.0, 370.0, 371.0, 372.0, 373.0, 378.0, 379.0, 380.0, 381.0, 382.0, 383.0, 384.0, 385.0, 397.0, 399.0, 404.0, 407.0, 413.0, 417.0, 419.0, 420.0, 421.0, 422.0, 423.0, 424.0, 426.0, 427.0, 428.0, 429.0, 430.0, 431.0, 437.0, 438.0, 439.0, 440.0, 441.0, 446.0, 450.0, 451.0, 452.0, 453.0, 454.0, 455.0, 456.0, 457.0, 458.0, 459.0, 460.0, 463.0, 464.0, 465.0, 466.0, 479.0, 481.0, 483.0, 486.0, 487.0, 488.0, 490.0, 491.0, 494.0, 496.0, 498.0, 499.0, 500.0, 501.0, 502.0, 503.0, 504.0, 505.0, 506.0, 507.0, 508.0, 509.0, 510.0, 511.0, 513.0, 517.0, 520.0, 521.0, 535.0, 536.0, 538.0, 539.0, 540.0, 541.0, 542.0, 543.0, 545.0, 546.0, 547.0, 548.0, 549.0, 550.0, 551.0, 552.0, 553.0, 554.0, 555.0, 558.0, 559.0, 561.0, 566.0, 569.0, 570.0, 571.0, 572.0, 573.0, 574.0, 575.0, 576.0, 577.0, 578.0, 579.0, 580.0, 581.0, 582.0, 583.0, 584.0, 585.0, 586.0, 587.0, 588.0, 589.0, 590.0, 591.0, 592.0, 593.0, 594.0, 595.0, 596.0, 597.0, 598.0, 599.0, 600.0, 601.0, 602.0, 603.0, 604.0, 605.0, 606.0, 607.0, 608.0, 609.0, 610.0, 611.0, 612.0, 619.0, 622.0, 623.0, 626.0, 627.0, 629.0, 630.0, 631.0, 632.0, 634.0, 635.0, 636.0, 637.0, 638.0, 639.0, 640.0, 641.0, 642.0, 643.0, 644.0, 645.0, 646.0, 648.0, 649.0, 650.0, 651.0, 652.0, 656.0, 658.0, 659.0, 660.0, 661.0, 662.0, 663.0, 664.0, 665.0, 670.0, 671.0, 673.0, 674.0, 675.0, 676.0, 677.0, 678.0, 680.0, 681.0, 682.0, 683.0, 684.0, 685.0, 686.0, 687.0, 688.0, 689.0, 690.0, 691.0, 692.0, 693.0, 694.0, 695.0, 696.0, 699.0, 702.0, 703.0, 704.0, 705.0, 706.0, 707.0, 708.0, 709.0, 711.0, 715.0, 718.0, 719.0, 720.0, 721.0, 722.0, 723.0], \"legendgroup\": \"color=nonevent\", \"marker\": {\"color\": \"red\", \"opacity\": 0.5, \"symbol\": \"circle\"}, \"mode\": \"markers\", \"name\": \"color=nonevent\", \"scene\": \"scene\", \"showlegend\": true, \"type\": \"scatter3d\", \"x\": [-0.0322898140464036, -0.03353819549927465, -0.052430120325491845, -0.03998086415172726, 0.01316626330237802, 0.01113087086573949, -0.006506879275647104, -0.012511489292754203, -0.02319725888598344, -0.04615216651955631, -0.007127642618777379, 0.004586704438752598, 0.02644999991065403, 0.008136760045123757, 0.0027713873761047543, 0.007709094841100803, 0.005754940432170946, -0.010938638516460444, -0.03333238646152665, -0.05845591081746442, -0.04540392918139827, -0.03305553511137289, -0.023338483826330313, -0.04557552706444176, 0.031099549606293277, -0.04075466310851091, 0.010820992363996279, 0.0020358800680957633, -0.044316016586417165, -0.038798719330517914, -0.0024182589150024895, -0.0705169903096237, -0.05273900401383275, 0.013119875972983369, -0.0011611667412201247, -0.057952351347872126, 0.014850704220059992, -0.0150931287624416, -0.05329023631001972, -0.043469731420980325, -0.016010589100687783, -0.05296901029442526, -0.0094257264382359, 0.023205530605761554, -0.038180894340048704, 0.014124284000700402, 0.0014234670621686566, 0.014235959291266467, -0.01319522378466091, -0.02658817114238802, -0.017326102768137265, -0.03365027853677399, -0.04856824037964984, -0.04463581803397736, -0.04424492854408703, -0.038209871158846595, -0.052560639076138234, -0.05823240133295449, -0.04839647224053307, -0.04022367836924377, -0.04203517222932111, -0.04117850896404881, -0.05293446026348474, -0.01836340848685666, -0.07125279046955267, -0.03881103879310156, -0.031977251981317886, -0.04003873464254412, -0.021517267517722084, -0.04926395018756637, -0.03004800659507008, 0.03027046855738816, 0.031681022475441654, -0.022479367530443276, -0.016278419502662466, -0.004267094621474581, -0.012191963033536191, 0.007321769057981578, -0.025109986359872258, 0.00308983210838472, -0.038099734213170706, -0.05754819322144378, -0.04287648575010031, -0.03648867286068284, -0.01426516473576591, -0.03682828272045924, -0.02756313553282143, -0.03634088934296506, -0.042144121224579285, -0.04535784126905956, -0.05323251689921827, -0.043031216818130325, -0.055049685523901486, -0.030079117488114992, -0.03865271804709698, -0.04786205078117767, -0.04996399291845963, -0.04128840562953377, -0.02848582599516896, -0.039125269694047185, -0.030450767114182452, -0.007434423107240516, -0.02956791216545258, -0.053051285350016374, -0.03159106328031616, -0.03141695545629228, -0.033795213012651676, -0.027522846234374922, -0.03547147973411201, -0.012080710428509328, -0.027180065755795346, -0.03317733346091019, -0.013158688920451968, -0.04486167116626397, 0.025558123100410012, 0.05612909966458835, 0.02566582244474588, 0.055414213369844346, 0.04956255763056526, 0.050137633922770146, 0.02248630287881532, -0.013900960934966042, -0.04497003692707494, -0.0007800874020386043, -0.0031952926816373687, -0.015298947261078045, 0.0005774148865124284, -0.030480496928708897, -0.006744338628707889, -0.027713301452473964, -0.014516348308717682, 0.003966499654183143, -0.017060135074656622, -0.03227974126950175, -0.006495205726719781, -0.03147257759833379, -0.05020381007465877, -0.04898979170274873, -0.02841641583144586, -0.03856150761160623, -0.04011204349869038, -0.029991466975484056, -0.04340897114547886, -0.026791427148786327, -0.020838483554739145, -0.02045965190068756, -0.03643956300269771, -0.011273400859669337, 0.029702604556046976, -0.039183747197483715, -0.006818321062460893, -0.0267790961077138, -0.0015068697411211773, 0.014360451038248649, -0.03215503022535736, -0.03112094963288082, 0.03340714956756395, -0.05235538420954819, 0.007439420381428828, 0.03700417652245787, 0.0619093456014982, 0.00011704197655731424, 0.05640934453965424, 0.026727421085481255, 0.058807678073114156, -0.014381131732983759, 0.06014623771489868, -0.014071220001028305, -0.01211857168156506, -0.016374897507108768, 0.028133035663344103, -0.0009841806042215353, -0.05861257827066298, -0.03873959157201732, -0.04990952242024635, -0.057235592975617255, -0.08296898540975482, -0.053119615437307165, -0.04929165781789067, -0.05002173790948768, -0.037720929265559824, -0.06026269712011316, -0.04069261646039522, -0.020025489914158808, 0.01629913210177393, 0.008742258229609771, -0.03672426574133726, 0.008290326691707655, -0.05628060410664711, -0.06777121566813409, 0.031647677792802024, 0.031033051948196205, -0.04219109454633125, -0.01022800140612499, 0.026965447373809286, 0.03720416806795593, -0.015639160064011517, 0.02059113499174042, 0.044434923280573045, 0.01082023195480081, -0.04702622085293659, -0.030583850289398203, -0.04529986842926269, -0.029461479502760745, -0.01251266890971629, -0.03494030862189719, -0.04270429983097598, -0.006854883657197804, -0.035864316584548424, -0.04609968978210971, -0.0535423302095339, -0.038797074007393136, -0.05141000056789795, -0.03796719456646771, -0.029592738357908613, -0.021898093933356212, -0.030262656863153235, -0.015877416229635875, -0.0518890350475714, -0.05697878837884643, -0.05855464122097573, -0.056660557482529864, -0.016180245319043354, 0.009454634200712025, -0.04017602882092209, -0.006424316348054695, -0.037555535385343786, 0.006951909867300071, -0.017934341420121794, -0.0284514911377833, -0.045001110414119215, -0.0485385905474646, -0.048497242867147836, -0.04476086992870701, -0.046177489768230995, -0.04694008439044159, -0.03338930961174236, -0.047813949670624065, -0.05643184519231264, -0.05450412530020777, -0.050295216858491865, -0.018135300131875767, -0.04696216147238723, -0.0501712648402983, -0.045599920729514146, -0.04702749584666227, -0.03098240461369491, -0.03659977402939825, -0.03880528188201538, 0.06292878442950167, 0.004170179605230758, -0.041660380651655365, 0.04305645525073283, 0.04750666614693034, 0.05086064839675619, 0.05091914299870595, 0.036581880505076866, -0.025283830474585357, -0.038659095325300125, 0.022810213345398764, 0.03925231054030066, -0.05378126551190238, 0.009518323383539135, -0.024785156145416945, 0.016856996275440763, 0.005192456524989989, 0.02442270588069441, -0.00443511161255629, -0.02443062795690464, -0.02637039561278748, -0.009443973936862827, -0.01725060851959346, -0.03868643197701297, -0.012233730948577135, -0.017394079742009787, -0.0350453730583868, -0.06316551667576066, -0.020508991049468274, -0.037213180176024964, -0.024818672606140575, -0.05160429502683996, -0.04891153490012032, -0.0355010917295001, -0.06283441140605825, -0.057765606411483594, -0.060743674355670685, -0.05916541857989379, -0.049752602295236655, -0.05101681441228309, -0.0459672449232586, -0.04056866743604286, -0.036334705884286084, -0.03632965570062183, -0.06737726392074139, -0.05144064867823354, -0.051607401007140084, -0.05355943210922259, -0.05475968010817032, -0.04259048618602942, -0.044709939076035425, -0.03678989591598296, -0.028486289457430678, 0.00012150813101064965, -0.04327673261691086, -0.042582805059556694, -0.03569019299161336, 0.027796746969525304, -0.0044834962928899475, -0.035360194665529504, -0.017583439101906115, 0.02311130450685512, -0.02778944892686637, 0.03302967322325497, -0.03348369608404074, -0.02573904261253507, -0.03368414246958415, 0.012397509550526037, -0.003841238636870813, -0.001966290976716143, -0.014139016529379286, 0.041523048954460094, 0.038502691885693746, -0.04882479735341402, 0.012387008455890997, 0.009370619231040581, 0.018338565283432584, -0.02291609804497719, 0.016623402496807552, 0.019689204571005352, 0.006924013418886345, -0.01248125722303384, 0.00539755398241599, 0.0036071924070261324, 0.01011183870008366, -0.029422353286896935, -0.01692653738313935, 0.014939235684160751, -0.01780255100267949, -0.006057871589876661, -0.017773843083722197, -0.027259177467154602, -0.027166046512321487, -0.0037119058552135143, -0.015228222700323592, -0.06492980348845444, -0.03154863604854767, -0.03538953592280235, -0.038858924510546775, -0.05168907797252099, -0.00026448711765809105, 0.0004317243433132069, -0.04454039301377363, -0.04094407250320797, -0.05408373999192082, -0.04856468677525755, -0.05020452302826062, -0.0441360818185607, -0.04549506526731123, -0.04218076672605881, -0.03220315049320587, -0.05937073707082064, -0.05704784293546109, -0.05372108421336933, -0.051204002691090614, -0.05363675799514994, -0.06721526025575793, -0.05443363959517598, -0.038463032875416275, -0.05493459768354855, -0.03478781012957332, -0.03318030025167189, -0.00034437457547200733, -0.004697881279151241, 0.006229760423146083, -0.010848851148290314, -0.052903549497939496, -0.013998888269313373, 0.010307422415037232, -0.04192109154630931, -0.027836028788742972, 0.01164944848247849, 0.0039017601369682113, -0.017588358748575957, -0.025164083702596363, 0.03525857649132678, -0.0454311322683009, 0.03471183971754947, -0.02775195263371414, 0.03336984264113127, 0.03596965116386242, -0.012734323286148676, -0.02668644960911604, -0.03710235821188628, 0.026912016297458846], \"y\": [-0.015763328713062397, 0.004423427629573981, 0.024585574257234125, -0.03700687757488536, -0.030509943355272014, 0.003185561182190661, -0.01037548792214992, 0.06573769804182845, 0.09645220081760074, 0.05351499077793118, 0.039560330019339354, 0.07486981882279248, 0.13671620304550935, 0.0770193578122915, 0.07652711932597799, 0.026028093878899667, 0.08822649809177939, 0.032911887497764615, 0.04184162633505305, -0.003633574529462801, 0.01975516268614808, -0.02699133672960883, 0.07781461536067155, 0.06127429812613462, 0.030905204562019974, -0.022282104894555645, 0.06346259259632077, 0.05837959476731843, 0.06450837078001288, 0.06192006685681785, 0.05999586061457359, 0.04401086705596457, -0.0002337938686471786, -0.047504401604714246, -0.03283860973156904, -0.007605697623652024, 0.03050965637381055, 0.029279702383632034, 0.026129969397928134, 0.04636002472645845, 0.017225139053674298, 0.038464124889453104, -0.015204467646035632, 0.02863706275910986, -0.033252927914560304, 0.04589644481640875, 0.05954862263577734, 0.08115726759434543, -0.024931748935371055, 0.02070001364895004, -0.046773969711371606, -0.019811345997583718, -0.05177975353396614, -0.05887007358513763, -0.0584067872670222, -0.04025128986589751, -0.020802423011892585, -0.023161323271928092, -0.013096346135928189, -0.027212799664827106, -0.02773177623569879, -0.036648963782591436, -0.026857084247847517, -0.019536706006459802, 0.04148167698225646, -0.008853794748681816, -0.028300852416408225, 0.006141189384059219, -0.008628688363086627, 0.005881288541589776, -0.016184369586983497, 0.05853137857736824, 0.1700335521283271, -0.010687635425322606, -0.01207795515726554, 0.04141375102864727, -0.013688544995734356, 0.0007743843559073329, -0.024895405835958336, 0.0015332366467694389, -0.021126843223830065, 0.03174902195465195, -0.018867464937556668, -0.007842458335225837, -0.026028287769619712, -0.024949785174118163, -0.0374869999415725, -0.03087844098610587, 0.004930841933737688, -0.018953196298611266, 0.00040439079433930096, 0.0025177111937195024, 0.02210880128427895, -0.014032909228109201, -0.028967272744463753, 0.0035976608544107513, -0.0057113833614826455, -0.02111072619539016, -0.0224068383264298, -0.028298295354983575, 0.0040231228291125205, 0.023270169210890267, 0.041003330603593964, 0.08095601607232723, -0.0009796910001384532, 0.038587085693117855, 0.014189626710884943, 0.0032415437881946098, 0.04788637429011051, 0.052721390030749306, 0.02140106789918055, 0.04902785408117187, 0.04337487151506962, 0.033157257313801695, 0.023934579061455862, 0.0039408263318495, 0.012454578461664903, 0.0014807345040564255, 0.010937315617144205, -0.01881562794264516, 0.04862324767986216, 0.04634849467056884, 0.04172008597590524, 0.022292198931462538, 0.023257022387361694, -0.01193043459424574, 0.012641727327735138, -0.00403786197809847, -0.045380267535199595, 0.06598046030896061, 0.09863865959198045, -0.026006322365152976, -0.006617771596394957, 0.0694663860216905, -0.03782935992883801, -0.053810440366854825, -0.048133433910776666, -0.047744748861958286, -0.02189542374857622, -0.044740064613738355, -0.010384530775142412, 0.007888369456841498, -0.009747840371366896, -0.008616059412884092, -0.039016505951441204, -0.043501087872400354, 0.0010259233861747731, 0.0418924131291401, -0.00010221368568326641, 0.03358175980594034, 0.026851518449469293, 0.04681710817225482, -0.004219039074759288, 0.03714392463760256, 0.05074539914668811, 0.022601111782163445, 0.14656942291267624, 0.05691636249976959, 0.0060659345633950305, -0.017689618199059245, -0.018566026338983837, -0.014785569638259406, -0.012494491903135637, -0.039339286826522976, -0.019491250032293687, 0.05890999221460306, -0.01369283227464192, 0.07319525153046791, 0.04773600090098925, 0.03206132882533327, 0.006314339668757263, -0.009724132994651448, 0.030277227747640138, -0.03897439411841652, -0.04335996593589357, -0.000791499847814241, -0.005895578157505411, 0.001971920166357819, -0.012192262884407584, 0.015833638262651138, -0.015110700371293202, 0.014966397487280195, 0.0015933664354740576, -0.015172798196001215, -0.02215131663334842, 0.01385429215748933, 0.06611792890791919, -0.004987325543490752, 0.010993750634376733, 0.023756365684199587, 0.0374731222907743, 0.004984061599404786, -0.017937182644679906, 0.010208582366791268, -0.035635841464639856, -0.030914124319816792, 0.028916032034267406, 0.019009487804727554, 0.010480739384767547, 0.03363980158262698, -0.005978763956872251, -0.02427780911278078, -0.02328207862991879, -0.07382971474319096, -0.02568245186912752, -0.0038923918671133046, 0.006509001463463102, -0.0046298646381170054, 0.0060934815192657515, 0.013480194739312857, 0.04735893268846899, 0.06909158524525784, 0.03017934451231355, 0.012354476316745565, -3.8058497680714565e-05, -0.014693495500935192, 0.003106258028637685, 0.15091816812530348, 0.04938890944544835, 0.05207608643651607, 0.017600212990236733, 0.05603317193462002, 0.045881260562473984, -0.02733283460408078, 0.017379057668512082, -0.019296661756544254, 0.025717451766285225, -0.05491374099711371, -0.04312049082904586, -0.027146370664212285, -0.038573909509864675, -0.035436009664522594, -0.0456239216322006, -0.05212658635808753, -0.03912277812129556, -0.027693850011896858, -0.04061244397255579, -0.04291850573169356, -0.012501133453337126, -0.04962374300565901, -0.041128934289414804, -0.033101582855913275, -0.01078790657574623, -0.014691384424108582, -0.023813251269646913, -0.009160411059299677, 0.018957718749018165, 0.0038554913055049472, 0.013438790665066981, 0.007416139689048123, 0.006732719107275086, -0.021961618335338436, 0.004724148367238101, 0.009720296372347432, -0.00906280927641133, 0.012752349273665656, 0.022167368391310477, 0.025035518018719626, -0.0005411684397584683, 0.004962106799970771, -0.0351440150349277, 0.011455072879892267, 0.016566555505962265, 0.0031124289297658767, -0.030042551988529943, 0.0008229481101157914, -0.012063286162475657, -0.0512432364320074, 0.014970106315300682, -0.007742549485222382, -0.0385244608153458, -0.05173819913341526, -0.060586701194411806, -0.0411876193891776, -0.04146284724186867, -0.05509409896509811, -0.025310313177213592, -0.026931219614684945, -0.03463447470361235, -0.04532545898671154, -0.04856020746552796, -0.0341382318375412, -0.04526207155233303, -0.013131869044104409, -0.0348708259681208, 0.016260532030763913, 0.006970877101093547, -0.06575102335736703, -0.06235830817867435, -0.07390807133707743, -0.04058166374753385, -0.008763861963640231, -0.019918953028452587, 0.019197622195700946, -0.04985114554299858, -0.038345505138665185, -0.02411016037804924, 0.02344883959486863, -0.019858151770802437, -0.0062636428890528225, -0.019864164709860306, 0.004813810214294906, 0.04304521447969264, 0.028585805878213168, -0.010504853198711875, -0.014094832626218948, -0.024471960682795103, 0.01921420757393616, -0.008840846113687878, -0.02108566563457944, -0.03645460437017707, -0.013158183995935102, -0.0061632358384559926, -0.01165932727550207, -0.028207556345999682, -0.002270063081650213, 0.016693426395205338, 0.0014924328190744666, 0.05669565369379993, 0.009926313579718193, 0.08554964016333978, 0.07040883718709023, 0.03756207819386333, 0.014429912642786657, 0.009247710058303958, 0.07503385295038438, 0.05512126438714092, 0.034029567548436085, 0.1359314840646086, 0.0798065345207989, 0.08869775295803269, 0.16311029250500145, 0.04429094185408318, 0.007191977080700812, 0.039010642482768566, 0.022480688986406386, 0.08151031678642198, 0.08834843122621525, 0.001487983489635858, -0.02154893370135527, -0.06526923253727777, -0.04371400029184921, -0.047160649213125704, -0.016437486472031422, 0.04034040338213732, -0.004993663762377008, -0.013809992461032901, 0.004638944115168656, 0.06484857014145297, -0.009933988896007955, -0.011684867937288478, 0.000720588084134502, 0.017251747941134998, -0.004762597697009029, -0.030337336305068425, -0.035900284841840484, -0.024975010254229994, -0.025315252426803117, -0.016445537114676344, -0.040667208422555404, -0.018339337372731683, -0.004272513664535447, 0.005229574311766788, -0.004306358595172852, -0.01759942217232704, -0.017891537793313282, 0.0221255146347087, -0.007492208448242154, 0.021788152050211018, 0.012123971195698385, 0.027680875884028986, -0.02532412600935346, -0.017157381425474693, 0.002723992897142899, 0.05443559705540631, 0.0716654716337112, 0.056057788894998364, 0.11157340816641072, 0.04262623288474175, 0.012344885285002074, -0.007879653462355056, 0.08001605942976908, 0.06380997400868832, -0.0569858191907134, 0.005497191644536052, 0.03233368882289558, 0.009944634578539275, 0.047841465351239405, -0.05854118161250496, -0.04574450110192111, -0.0315507616239124, -0.010582844839513116, -0.007308790651182917, -0.020374912581187343], \"z\": [0.04838380435399057, 0.004842768346425329, 0.012570554262928803, -0.012521076274932028, 0.03688040680528515, 0.036508305420763255, -0.03528686469227107, 0.01755261834411511, -0.01443275159938659, -0.029554041007585127, -0.03064608467350791, -0.02861102774176981, -0.01406863984741538, -0.0252205625555543, -0.021485462311985833, -0.06305036063355914, -0.04059681222567983, -0.02717949725281162, -0.06272501276378604, -0.07378315095809002, -0.06063391170724755, -0.058374991735615736, -0.03203504814731891, -0.01737128959984845, -0.0036066702365026436, -0.0519418135223028, -0.0442915351234656, -0.06339780253775872, -0.07330655473514396, -0.07365556392521261, -0.045902521140261804, -0.07210813343734163, -0.07121987544197286, -0.053312179540005104, -0.0733622538115212, -0.0698352270889603, 0.027523638441294303, 0.031764307509326385, -0.018355489556496317, -0.022935105489217195, -0.011437559528381273, -0.02654765475317134, -0.03611174561250187, -0.05315134728264261, -0.06625153204473826, -0.0813519711774216, -0.06548378726355086, -0.048272795917116564, -0.04817109868858238, -0.04235864718589863, -0.0035094671257670496, 0.025247587103551437, -0.04006892155038751, -0.03429327755682318, -0.01820194610702317, 0.03639247019925713, 0.021174566362066723, 0.009195147828973523, 0.02905180347179144, 0.01987826651529798, 0.01998223587512295, 0.010723015870537813, 0.016514722439140695, 0.01795277792420202, 0.018221462258237193, 0.030714527568895724, 0.01879070483654066, 0.032681478809374415, 0.03346677665130772, 0.019149315458460246, 0.02426869556025759, 0.014066300971126242, 0.04132072905792309, -0.017972956940427345, -0.00889916866429922, -0.024668285181255654, -0.0677950299331083, -0.06979956452236047, -0.0795243127967566, -0.07714625926061992, -0.033638770106421204, -0.030301562012311774, 0.02840501475261251, 0.003609022348556695, -0.010078755042323657, 0.03147371321606802, 0.030161929156101507, 0.01741134446424661, 0.028459544717854994, 0.018590659072527924, 0.013247915956555521, 0.023853850971202947, 0.013244382172796923, 0.031926527203422525, 0.013815905407215591, -0.00357428530191733, -0.0019628906385700195, 0.01762443280676515, 0.027607384985127412, 0.023212705164042644, 0.03776386717669791, 0.03318100768619535, 0.04863930263920385, 0.05397316886316283, 0.02575384485925855, 0.05604752454056984, 0.0241971463374974, 0.05119939738394271, 0.05650608365050556, 0.019930765501345822, 0.043597219893781194, 0.013972706085838003, 0.0106376583665804, -0.02790251449803114, -0.04170313544509455, -0.037941124625405186, -0.04848721721245667, -0.043820217003995965, -0.041638062200090434, -0.05185794336829226, -0.03682505357694692, -0.06695884114670472, -0.06289785527314419, -0.0447063196149332, -0.08510781279332245, -0.060077184731117894, -0.06378361352011509, -0.04554412239926389, -0.019454639482378473, -0.02696754430841796, -0.03184632812345298, -0.03237300419074996, -0.033302471077126174, -0.022421383256361425, 0.0012464071082901027, 0.002706083269866316, -0.004273048316046334, -0.006072120872375683, 0.00947618929818902, -0.011849910777786563, 0.039382036345730814, 0.01904295975756124, -0.05380773293024934, 0.07055209390609822, 0.06173715934958281, 0.0641247833540044, 0.023737483967804816, 0.05948860649876693, -0.039200283569116395, 0.026912256601424128, 0.044055021499029574, 0.051934191097240776, 0.055858128684552914, 0.053778899744010907, 0.03284454488247932, 0.03298907893028519, 0.0493336089039737, -0.02537197353043771, -0.0013183204758792707, -0.003373380412017379, -0.04201708698841608, -0.06362029706167731, -0.044500868348511094, -0.04579699119432943, -0.04090614833536043, -0.05846261071014819, -0.03553111077786557, -0.05001787697283963, -0.0552689336847149, -0.0469415793592882, -0.035735524822670714, -0.03796552693977974, -0.05244914813674896, -0.05263210675977129, -0.04279113856965515, -0.034073333274348416, -0.02162082235194693, -0.018980503889198697, -0.012772226859274195, 0.006588303237271512, 0.0062914604835135595, 0.007571725807332221, 0.011183211851621029, -0.00353821516992229, 0.028223802696269992, 0.00784845990415256, -0.01484748740290851, -0.01915194122608226, -0.042009274491640956, -0.03751319287500319, -0.03255963542684014, -0.04179575810551159, -0.06302880952665396, -0.04917688068661773, -0.035787742637839313, -0.03789314561806157, -0.0442285752560071, -0.04297186344277961, -0.04598994415016414, -0.05620080762289721, -0.004320705885341523, -0.03298872964085852, 0.0031838705642614905, -0.02830929291108377, -0.016885887559362926, 0.003968492940925007, 0.00047250786646955864, 0.028834207674012277, 0.04657488310646288, 0.021768692063138598, 0.011555909489713296, 0.013377103459126067, 0.026780691963795598, 0.05064040770240289, 0.042253769227039724, 0.030178393617080454, 0.042944691654722165, 0.05291289835970876, 0.032963359757298076, 0.02429071220233701, 0.03326743093370538, -0.020489950637930264, -0.03550802081658844, -0.04015454449082827, -0.061331196277003945, -0.056998981336225746, -0.05091024225794695, -0.0530039230064431, -0.03443481013065716, -0.039698947999040037, -0.013012055385858633, 0.002686447821767163, 0.027802096109783698, 0.02071224081056069, 0.013631025970116081, 0.051906924237889826, 0.04349726748086422, 0.011082341802622683, 0.025856545366504242, 0.02818117104795829, 0.016869300874231854, 0.0604848346004487, 0.041297701287609324, 0.03151785727651117, 0.00018990063508071283, 0.048772983013959305, 0.05662200670744467, 0.04678721017721218, 0.05237849877982509, -0.010793529307142235, -0.01788728661628382, -0.03757735749278854, -0.019050151530289123, -0.019460498156026827, -0.029771289579777795, -0.023917153133427623, -0.0348075784305814, -0.03740458982245474, -0.038490735550549826, -0.03857669597821272, -0.047396255648482495, -0.055705167468521354, -0.05381994882234809, -0.0600772521060602, -0.05048920523558013, -0.05283441738761637, -0.05113113321725171, -0.04763020044738247, -0.043532336721872594, -0.054539776772670794, -0.04340628625841694, 0.0030408677991743847, -0.0014506033068834923, -0.030844905439595054, 0.005539982192481363, -0.0006244956705199572, -0.017643416396129773, 0.006840306845177116, 0.009386964735549085, 0.018795492287680855, 0.0013914999745502368, 0.0074483481419866165, 0.01959829952320017, -0.004991314764571497, -0.003979377224267757, 0.0024321485454478907, 0.0008217767377154555, -0.0029935312033722485, 0.004513243782219998, -0.0049966026563663364, 0.04269953737907575, 0.03843581369071535, -0.0019927033252090127, 0.030717430967556664, 0.04672251339080835, 0.05886954812443933, 0.047060196483416236, 0.03943751110310802, 0.04740955643286511, 0.04408073960253317, 0.027594603659100086, 0.046848938034363824, -0.015490048503286108, 0.04654396979677882, 0.03722842709794788, 0.043172975710076555, -0.004786178109031851, 0.016868916374969862, 0.05225748303125428, 0.049696955253326666, 0.04287495034652329, 0.07075270972563351, 0.01887550370512695, 0.004802582810385879, 0.007393432736556137, 0.047098293131601826, 0.01496270426852153, 0.03721628178747963, 0.03671310890062127, -0.0021934510652599788, 0.0165922993870085, 0.004460037681224216, -0.02285263232530365, -0.029805896343889356, -0.032640252400040703, -0.021817525223318108, -0.059768835344669806, -0.0272977739942973, -0.01511065385004654, -0.03573126370208849, -0.06068288101371463, -0.011693288741406516, -0.02862529228293785, -0.04886312435958443, -0.049120690646050416, -0.04943019346017764, -0.031146138330855673, -0.04663885257525127, -0.04230842490531965, -0.0496282599661821, -0.046639183554794246, -0.03523017800647906, -0.025629231422811333, -0.0399904268386119, -0.03783642756675565, -0.020657498662705748, -0.01785905919118984, -0.027415416452693322, -0.015986292732025287, -0.00647351848222973, -0.0038910530363302645, -0.025902328630699085, 0.01599089813508595, -0.011086395979833923, 0.019380107891313763, 0.028763780269069797, 0.04591099979024971, 0.045934125804080884, 0.051493661762975755, 0.04557980357638386, 0.030387378748981207, 0.04067629734819366, 0.029070816928821717, 0.06580918366517864, 0.05283759594903942, 0.0010589351141591233, 0.0370286401525169, 0.0738037614525943, 0.034832862258230964, 0.07332931827232488, 0.05033608757318421, 0.07060737415486437, 0.06666802531939023, 0.03095976459449234, 0.014572099927126698, 0.06460587812780635, 0.06156693803045339, -0.0163354732906102, -0.02164296177811309, -0.02839884291530505, -0.029441353336641992, -0.05131755586497442, -0.0625966170090036, -0.04740337871509102, -0.04470909066561222, -0.039201007276194966, -0.030550315134354123, -0.03674734105626712, -0.03879745474134705, -0.0364580757394249, -0.0597737537792062, -0.0649438113104057, -0.04356615319678773, -0.03708331446362188]}, {\"hoverlabel\": {\"namelength\": 0}, \"hovertemplate\": \"<b>%{hovertext}</b><br><br>color=Ib<br>ica1=%{x}<br>ica2=%{y}<br>ica3=%{z}\", \"hovertext\": [6.0, 8.0, 10.0, 17.0, 19.0, 20.0, 22.0, 38.0, 42.0, 44.0, 46.0, 49.0, 64.0, 66.0, 72.0, 75.0, 78.0, 80.0, 83.0, 86.0, 88.0, 97.0, 101.0, 105.0, 111.0, 112.0, 114.0, 148.0, 152.0, 153.0, 158.0, 159.0, 160.0, 163.0, 164.0, 165.0, 166.0, 170.0, 172.0, 173.0, 174.0, 185.0, 187.0, 190.0, 192.0, 193.0, 199.0, 200.0, 210.0, 254.0, 255.0, 256.0, 257.0, 258.0, 259.0, 260.0, 261.0, 263.0, 266.0, 272.0, 278.0, 279.0, 292.0, 295.0, 299.0, 300.0, 301.0, 305.0, 312.0, 320.0, 326.0, 336.0, 339.0, 343.0, 345.0, 346.0, 347.0, 348.0, 349.0, 354.0, 357.0, 360.0, 366.0, 376.0, 387.0, 389.0, 392.0, 393.0, 395.0, 396.0, 400.0, 402.0, 403.0, 406.0, 408.0, 409.0, 414.0, 418.0, 432.0, 442.0, 444.0, 472.0, 482.0, 484.0, 489.0, 514.0, 516.0, 519.0, 524.0, 525.0, 526.0, 529.0, 530.0, 531.0, 534.0, 568.0, 657.0, 666.0, 700.0], \"legendgroup\": \"color=Ib\", \"marker\": {\"color\": \"gold\", \"opacity\": 0.5, \"symbol\": \"circle\"}, \"mode\": \"markers\", \"name\": \"color=Ib\", \"scene\": \"scene\", \"showlegend\": true, \"type\": \"scatter3d\", \"x\": [0.029349842533494038, 0.025076234298316118, 0.0516501079485626, 0.051472327471101254, 0.05817513014197478, 0.02231820587144822, 0.042056153064228906, 0.013843510737095064, 0.03318820447233218, 0.06682049239485122, 0.037055190442980494, -0.004197567322328215, 0.06274251542904082, 0.028310942063265537, 0.0008108756478884847, 0.012269381516727974, 0.05923501548047691, 0.044904609630008065, 0.06278647457987596, 0.055534612464055555, 0.03927307946554154, 0.029223279175581957, 0.05104232552307968, 0.03540995285042146, 0.02781449899249614, 0.037783183554887516, 0.034791762642832715, -0.00496339911776392, 0.03993928954178896, 0.029359515609600314, 0.03654438309773792, 0.04154438305709414, 0.05259887845613704, 0.05998761241311793, 0.04926384332528743, 0.051253720219339056, 0.00737180460061197, 0.05185405250389041, 0.056325980420412015, 0.054223783117691396, 0.05653586255975116, 0.03286579739296669, 0.03614272328799501, 0.030124228920376594, 0.02806931948636376, 0.03971480172057171, 0.030090731643703, 0.07053633382374337, 0.0016773330056154604, 0.035064268051194905, 0.041001783249549284, 0.038638627470715024, 0.03009454437391787, 0.019802302722871326, 0.04514717213153052, 0.036204645744992346, 0.03422545780228594, 0.01669233040811482, 0.03254549702576828, 0.04021364152301022, 0.054446081768260164, 0.0630690867664007, 0.02892405808747844, 0.04897898368213849, 0.050283456543346004, 0.027403334163656316, 0.03364776857197745, 0.01605508304899135, 0.011895888795010766, -0.013656924297934258, -0.016381603981683708, 0.021811965997067587, 0.014742595363444608, 0.07704739364756999, 0.06891304076419794, 0.013037996547689178, 0.05207352093084994, 0.033327622122022116, -0.01780599410529498, 0.061992853797518975, 0.05566479008928525, 0.041103452228995925, 0.025974377509933155, -0.011588326794261146, 0.032601908922561845, 0.022838471313711715, 0.02831024773926469, 0.04991336852284352, 0.005008928559622874, 0.03722352689950463, 0.045905445603880234, 0.052579479689592167, 0.05174985221469999, 0.04413302903166014, 0.05959082568881189, 0.059084413182499615, 0.06928111023401311, 0.006109434514038474, 0.010196062040231673, 0.009942381444114306, -0.025646991206381784, 0.036198188168029964, 0.058022792445461234, 0.04567863439290921, 0.028175146329008693, -0.02137731415003339, -0.013195989881138256, -0.015518487932004936, 0.009890969478024467, 0.02508498029253885, 0.009605190813397895, 0.06231328018142427, 0.03793248909366383, 0.05701176453768683, 0.05678954600883608, 0.018707182546053445, 0.007826387852274961, -0.006552187668628481, 0.07416664937284449], \"y\": [0.010819126189672722, 0.009269894040777592, 0.01755321964283809, -0.006269983214249387, 0.02771508745252072, 0.1594419331780782, -0.014169021806527968, -0.004739763229199418, -0.004155406177773095, 0.023591780704838347, -0.0019392426022675638, 0.012110543373150933, -0.05811750856614744, -0.04108557744015809, 0.015170282010667955, 0.016228641258359273, -0.04462446179382464, 0.022370890990961494, 0.021262738612646045, -0.005683285622750076, 0.013558301962321648, -0.01862535354385962, 0.0107256884427318, -0.01985221422373208, -0.007252801037493992, -0.03280142213179431, -0.004424985430876887, -0.001939788324669232, 0.001250232896172958, 0.020746751875789567, 0.015606447944889608, 0.007565951412260341, -0.001976719843560864, 0.05240276378997746, 0.05528899716923877, 0.08385917237653588, 0.0008529582644607717, 0.0659072044634479, -0.013922961532344031, -0.002870577700248358, 0.04022086654869878, -0.023826059218244225, -0.013756337571698085, -0.0172034694804252, -0.017472533201413013, 0.005057263328984905, 0.03561730334410415, -0.026121440065356646, -0.022578597978829083, -0.0030873414605468224, 0.0011649639329589412, -0.009082484512667029, 0.012649369775072812, 0.011483999456106972, 0.017100505664690905, 0.09347246663359578, 0.007748198141024644, 0.008754212981886394, -0.006028421212243059, -0.015956410400242437, -0.04434172671137126, -0.029083999957598177, 0.007819449061955589, -0.04264237481643717, -0.03672634014300366, -0.046715812559472075, -0.050306481057547585, -0.02339373371311169, 0.002622601272505929, -0.021245415684486003, 0.0008346370713695727, 0.021527337780560752, -0.00999555767921656, 0.050678065861207544, 0.04396848415164706, 0.07546546766484091, -0.016297877758857045, -0.013603157772091347, 0.00920169283684691, -0.06620607184246614, -0.05107998170018069, 0.00939798856286341, 0.0028715145225728217, 0.011557124683599873, -0.009786709742210723, -0.014490629300661952, 0.008418607296935377, -0.011393404058705701, 0.008337991530216885, -0.004224453645493159, -0.04445703881597495, -0.04572564421411991, -0.0257072411238015, 0.04866361368722185, -0.02321567291179618, -0.03114314964552526, -0.02490989009365203, -0.004219795304714126, -0.02952399287885569, -0.0222038867357461, -0.0021209254230649026, 0.00012812562038028773, -0.03308480201599757, -0.06377842845239881, -0.04270648367598952, -0.016308572218103074, -0.030411673329537425, -0.016501315030653597, -0.003456264540284478, -0.031333126677198425, 0.03283002959508558, -0.019240470460588514, 0.020900822353550185, 0.022937510979851222, -0.013287870170537537, -0.06155217500300493, 0.0095695962105767, -0.015762901464480658, -0.02358951032645599], \"z\": [0.05295394140084901, 0.038756499708452, 0.03867327194121109, 0.0013772341972595665, -0.005406094164230467, 0.010813330435507765, -0.00208383087832859, -0.05726821605468022, -0.024089935331450974, 0.022155247159321392, 0.028606626277246278, -0.016682403722084946, -0.03395937020693576, -0.06391911216133618, 0.026154898958701975, 0.021690817650351173, 0.041651646826552875, 0.034102977369770845, 0.04836752708361941, 0.02191541307051753, 0.010195075872284477, -0.005247895314355347, -0.014406981040485146, -0.046453980407440865, -0.04102771368302733, -0.030374498244005406, -0.035678480452917896, 0.037284094085844266, 0.02430742042367968, 0.02961897557398449, 0.04660269288600331, 0.03850934639637127, 0.046542213635494496, 0.04929304508332889, 0.048610317308114256, 0.049185543023891, 0.02791839610966871, 0.022765098394336804, 0.02531858535647862, 0.028707161648811094, 0.038087979143655984, 0.0025419217090726512, -0.003532211771281617, -0.0013489566045824272, 4.632077733634541e-05, -0.005896083988477892, -0.03344174849436072, -0.029625279163761047, 0.011386857021837555, 0.05193180983419838, 0.04484469193163283, 0.045513373486457544, 0.04677056453395149, 0.04609350202631225, 0.04215544526684319, 0.045857247913026644, 0.0336036395922669, 0.020842681904920134, 0.02619470065283054, -0.017664636235240106, -0.042276123639737366, -0.030409836784056808, -0.04845765183833525, -0.02606615591642992, -0.016153561347855398, -0.02428544535441501, -0.0275247983758671, -0.02888963191095207, -0.018257565862085427, 0.02194959005956119, 0.03160171333356187, 0.05504364923032021, 0.04787329391561836, 0.0571725676998661, 0.026773182361574506, 0.012736596744134108, 0.01508079533682922, 0.018667047452538096, -0.02380516420078351, -0.033096017661345005, -0.03203606951857732, -0.04436049924637993, -0.043964123412825726, -0.028960427460545772, 0.028589555864456283, 0.0340699666414905, 0.026157052210500045, 0.02151500882594763, 0.022512277655335, 0.03070600524670914, 0.028371792373036147, 0.036620873669339096, 0.03843702320669223, 0.0250752346649606, 0.024909206416235296, 0.014063807677697033, 0.0034198282718715086, -0.014627484686589044, -0.02612865333144441, 0.06427503154395102, 0.03818613189767241, 0.038684008167398046, -0.034574476244079416, -0.032600778615354375, -0.0403385556531818, 0.0637900148486365, 0.05722336634226616, 0.06058988710467385, 0.0661425013381482, 0.06009679886571626, 0.050850136514841056, 0.05002924638520596, 0.044179833006541706, 0.03959762173172685, -0.014826771759798083, 0.018859681750777856, -0.024805501349497328, 0.017655448521356743, 0.018179134695489204]}, {\"hoverlabel\": {\"namelength\": 0}, \"hovertemplate\": \"<b>%{hovertext}</b><br><br>color=II<br>ica1=%{x}<br>ica2=%{y}<br>ica3=%{z}\", \"hovertext\": [7.0, 14.0, 15.0, 16.0, 21.0, 23.0, 24.0, 30.0, 32.0, 40.0, 47.0, 48.0, 52.0, 53.0, 55.0, 56.0, 59.0, 63.0, 65.0, 73.0, 77.0, 82.0, 84.0, 85.0, 87.0, 89.0, 91.0, 96.0, 100.0, 102.0, 103.0, 110.0, 115.0, 116.0, 118.0, 120.0, 121.0, 122.0, 126.0, 128.0, 134.0, 145.0, 149.0, 150.0, 151.0, 154.0, 157.0, 169.0, 175.0, 177.0, 181.0, 182.0, 183.0, 184.0, 186.0, 189.0, 191.0, 194.0, 197.0, 198.0, 202.0, 206.0, 207.0, 211.0, 212.0, 218.0, 251.0, 264.0, 269.0, 270.0, 274.0, 275.0, 277.0, 294.0, 296.0, 297.0, 298.0, 304.0, 310.0, 311.0, 338.0, 344.0, 353.0, 356.0, 368.0, 374.0, 377.0, 386.0, 388.0, 390.0, 391.0, 398.0, 401.0, 405.0, 410.0, 412.0, 415.0, 416.0, 425.0, 433.0, 434.0, 435.0, 436.0, 443.0, 447.0, 448.0, 449.0, 461.0, 462.0, 467.0, 468.0, 469.0, 470.0, 471.0, 473.0, 474.0, 475.0, 476.0, 477.0, 478.0, 480.0, 485.0, 492.0, 493.0, 495.0, 497.0, 512.0, 515.0, 518.0, 527.0, 528.0, 532.0, 533.0, 537.0, 544.0, 556.0, 557.0, 560.0, 562.0, 563.0, 564.0, 565.0, 567.0, 613.0, 614.0, 615.0, 616.0, 617.0, 618.0, 620.0, 621.0, 624.0, 625.0, 628.0, 633.0, 647.0, 653.0, 654.0, 655.0, 667.0, 668.0, 669.0, 672.0, 679.0, 697.0, 698.0, 701.0, 710.0, 712.0, 713.0, 714.0, 716.0, 717.0], \"legendgroup\": \"color=II\", \"marker\": {\"color\": \"darkgreen\", \"opacity\": 0.5, \"symbol\": \"circle\"}, \"mode\": \"markers\", \"name\": \"color=II\", \"scene\": \"scene\", \"showlegend\": true, \"type\": \"scatter3d\", \"x\": [0.059569659275847904, 0.014973801959410985, 0.03010056305828079, 0.043405627245417064, 0.01920173680929928, 0.015834070703923193, 0.05243695960675507, 0.014325193943540471, 0.032012747699089676, 0.035798602980260844, 0.011049087886384201, -0.004587274780552517, 0.034985887163429395, 0.06280822047360313, 0.004997693381879071, 0.021146842057993605, 0.00035581910881238884, 0.021636328527220805, -0.019325171500176888, 0.01927632604112838, 0.04323425499136267, 0.0667816385581889, -0.0026423740661199657, 0.024247489509088196, -0.02784410144334014, 0.050937947308580506, 0.039028863502219895, 0.0458009011113423, 0.04866976008012711, -0.00492352693767002, 0.01218640862321389, 0.001963146553917313, 0.04554220271150346, -0.005415393896759302, 0.019267952734420103, 0.03528544632692513, 0.0031426328803691823, -0.021228642124336793, -0.0036787515982693647, -0.012911516186930701, -0.057341693012215623, -0.02471371593543304, 0.012935829491261878, 0.023116936515652227, 0.0055911684620992535, 0.03835203250027226, 0.034581312428557505, 0.03809867859716079, 0.058514088850642236, 0.050692335324886435, 0.05096273182784469, 0.013040834467872672, 0.048420589395437856, 0.061327602556252914, -0.012977727189142946, 0.06745793134256274, 0.0254475624077721, 0.015209162172745306, 0.0362479223123696, 0.06330904213755567, 0.03043726021009188, 0.010820437360112857, 0.03644217489658013, -0.030478049090302634, -0.025955556829437253, -0.02708758681991544, -0.001790685813619432, 0.034215221358084656, 0.012793285255145642, 0.05924742407254361, 0.06465808811627502, 0.06000916505282992, 0.0020432823716751533, 0.02248272424205364, 0.05714314059954969, 0.032657055658054705, 0.030973478287522716, 0.026849037150116443, 0.022110991609107084, 0.019187037300809884, -0.013681122913674943, 0.05177043911031833, 0.030106632922238145, 0.0426514432120568, 0.03639529880894169, 0.024524154690157094, 0.016823420324969543, 0.040929895900934, 0.039245518054186454, 0.03745407685251804, 0.027537911449059652, 0.05177649606587099, 0.029356841596935527, 0.02421350068179454, 0.003999946838333048, 0.03773617133014789, 0.0753072038445279, 0.05689100964325829, 0.030578799021766263, 0.021136790667129503, -0.004334948172298953, -0.0011829854081539823, -0.030625219532716345, -0.039025716842338486, -0.040219416134019616, -0.007705302738058622, -0.0016883661097214758, 0.030849711182354796, 0.03162937367380942, 0.02170358406806416, 0.03512228768506707, 0.05571449628334853, 0.05251310386604836, 0.010193964405857191, 0.02089332893082118, 0.05475228828220669, 0.03516880022248333, 0.05998034963079138, -0.031652115332561355, 0.04369487790006641, -0.007630187518958139, 0.010556769630507145, 0.010185224622389267, -0.00407933733559345, 0.016008363755082793, -0.005386175987436905, -0.007352515867260248, -0.01475340390618184, -0.010003354316027195, 0.013319319342752784, 0.0567962732053799, 0.05028312569607772, 0.059108659356547105, 0.047097994537336735, 0.02737843081457586, 0.035601721329677156, 0.041628072712073846, -0.0027841296975052695, 0.030052901866441675, 0.015784354237475536, -0.008179134194597199, 0.015869332650478775, 0.017598747510958114, 0.01619595517264488, 0.01086418313778091, -0.012682631238344304, 0.030973486428426827, 0.04008071102977685, 0.02730535021128669, 0.038643794869205925, 0.004776185089910667, 0.06379728091794541, 0.04628351193984505, 0.05886009244591248, 0.049912248814909986, 0.05695089012932952, 0.00883043702853554, 0.005937482407375389, 0.008211903571967903, 0.0023716257967739047, -0.000584123411847953, 0.00429800181827409, -0.006089928446517264, -0.03737945670107512, 0.034539418296334425, 0.03436422882553127, -0.00397671540581136, -0.06437932153082089, 0.028259951933055857, 0.022690676604989374, 0.018034256911311174, 0.007401626533913033, 0.026409518797299854], \"y\": [0.015404209653807099, 0.043958385250072105, 0.0021375973104642266, 0.058699907994233975, 0.021994405193135745, -0.018866337846868232, -0.03115411346377153, 0.03592229077382445, -0.04049347618457834, -0.024678620669276178, -0.04214622948216581, 0.03800472674612596, -0.006964202605803379, -0.02174468729824376, 0.005986663633865486, 0.036297437237654905, 0.048043614310705744, -0.041148491954636504, -0.0018190436138942772, 0.006253697352576366, -0.06744104405780664, 0.04993126768197693, 0.0044146093677519555, -0.015181039384136641, 0.03559660094832597, 0.014062170623764029, 0.03137191696399267, 0.021270960665577956, 0.02665279991336901, 0.012935471784903953, -0.006496685796774104, 0.08052180148896251, -0.03509485250195455, -0.02030394084378387, -0.002258472428065293, -0.037724345191914505, 0.0008960600022947011, -0.014546499903385697, -0.040218793502618935, -0.04209678483714916, 0.008248878825893027, -0.007273154801536373, -0.018282679233954553, -0.027065484085396514, -0.007981832344070183, -0.0013131594029156786, 0.008262371572069183, 0.007362831113143764, 0.0243786215882103, 0.018941093786954348, -0.023800423317120747, 0.01237843847565904, -0.024989882841735523, -0.017327690887713625, -0.01342490115062274, -0.021585396811700644, -0.009874436651956236, 0.024683600607365134, 0.01236251032210487, -0.021826346517985068, 0.015252333370150533, -0.005648950552989403, -0.03604150868765964, -0.022115338947205333, -0.017700409269585778, -0.007746588501450423, -0.010266989371736868, 0.0008671430066768524, 0.006175909079610598, -0.005484296056207641, -0.030387033472477603, -0.004265813832614019, -0.0325375850267875, -0.03256672477330818, -0.04718262328861534, -0.039510896984792404, -0.035477604012248226, -0.0552882571919776, -0.040871651637870425, -0.03133595438284831, 0.01710443161730399, 0.06217847823967415, 0.07178574205058211, -0.06108919137339555, -0.015849935240593836, -0.03024319055095042, -0.011507962932189222, 0.0502008160202167, -0.030017630979762795, -0.025168526848481067, -0.04073158417436233, -0.03828739391433841, -0.02428491951868117, 0.01878010042650755, 0.035110368095117486, 0.012643593106435598, -0.005972661019541526, -0.025118934181660082, -0.04384971394426888, -0.05550685330930898, -0.028323339278871686, -0.04185080266328056, 0.003152577143729712, 0.0072774949247428385, 0.028894953845070875, -0.0003627188718448349, 0.007485723620675679, -0.006662380224116615, 0.055855591064783223, 0.007306980338962133, 0.013224302266634893, 0.019348261910885928, 0.024026719885735126, 0.04473766820968618, -0.016896693014109877, 0.029445348915268395, 0.020336975845043574, 0.011430007377347923, -0.0498447325523666, 0.0015064338779513398, -0.0062615031107220226, -0.052992235461560774, -0.04522832308592925, -0.04168530734119785, -0.04243602428577115, -0.047487750579209925, -0.026417546247419144, -0.029168773163434945, 0.002532459873026162, 0.015199157932637134, -0.01879097710554135, 0.05017661419032856, 0.04990494596617326, -0.027507953200613576, -0.028900414795031644, -0.011534857830200093, -0.015530124283711729, 0.0895703238662563, -0.03632268218405233, -0.04141759542458302, -0.04288022662779327, -0.05343612319392028, -0.07366875481834272, -0.016430174078764924, -0.007459383007178588, 0.005954615095992555, -0.010631245909888733, -0.0067491037741842135, 0.015574455498819657, 0.0032515077258537905, 0.0015731718519062712, -0.044350513800565664, -0.029518487309420725, 0.07701346054424395, 0.03831769470599413, -0.04197654846424459, -0.05128219965065906, -0.03593661895507199, -0.041355227154241087, -0.022272788431083858, -0.037596771195274346, -0.011285734841618603, -0.01787297156794362, -0.04369315503311709, 0.01722063436946544, -0.02509148969506504, 0.008707466075897593, 0.05460840960338141, 0.028075175934602247, 0.041790493428877855, 0.023658731483374194, -0.06856367873683464, -0.06499059872557694], \"z\": [0.05778675124746236, 0.0064843387535559, 0.02145948591563389, 0.011727505896297619, -0.021716685554560612, -0.008410506729709145, -0.00423119249076376, -0.037896164317440466, -0.05031589402314322, -0.03964307679173741, -0.0031584751647360135, -0.013277972861181556, -0.029795046079928635, -0.029291320007359522, -0.042251372023908815, -0.05664247631035767, -0.054086952135035886, -0.06979966232325602, -0.055924498094344174, 0.0404184659917961, 0.029387468170641324, 0.042219690784782375, 0.021897730667117313, 0.019481543791939903, -0.000841439507460849, 0.015564581301512902, 0.006864520238897068, -0.003872423632971463, -0.01172516827777175, -0.016239501162869006, -0.04819618256262878, -0.04206481446663181, -0.0313564644984745, -0.034936980672198775, -0.028631228540190304, -0.022594928608801284, -0.016551908619629276, -0.031074844508761856, 0.020347951196584713, 0.013357466411573558, 0.01115175455596817, 0.013792349571038212, 0.05424654188768681, 0.047701404863031475, 0.031056324272112294, 0.00866472473101259, 0.02604801919863187, -0.01660058529986418, 0.037774881327499614, 0.030790510158288095, 0.028564444698008618, 0.01378756554456865, 0.022375952212286106, 0.01398260718763777, -0.007691071849421356, 0.011918085561513905, -0.0006929926737947109, -0.009747980433114376, -0.027638724775125526, -0.03151123925959309, -0.04144627299289748, -0.05902939728203412, -0.025795175804210056, 0.008187517782345522, 0.03229301274989959, 0.03307727638184602, 0.06631963672696548, 0.03326088196693531, 0.009126560250345646, 0.016898314870927557, -0.02030867827215689, -0.015607181932415285, -0.03361210141337955, -0.029174323147816855, -0.036322112439121805, -0.02934728085921785, -0.03892629561347303, -0.01066512838410073, -0.02318387231348839, -0.04153270145819415, 0.047819902868652266, 0.014010303615077893, -0.021503861250918643, -0.034360088507830434, -0.050267795892657154, -0.03170684956843891, -0.03037985308950224, 0.0383102188625777, 0.044965889665951365, 0.04100795916802723, 0.0370537057178225, 0.02608908312963444, 0.029661882036699044, 0.012219831626711445, 0.003991128166408206, 0.0030013951756404506, -0.0031941309673209632, -0.0032009285967754693, -0.036818091130760046, -0.03302461556504101, -0.03204893241174535, -0.0307218409973035, 0.013877276720860608, 0.036861520384215835, 0.03369693180103453, 0.04186918479120488, 0.04289866241680604, 0.050515800849959255, 0.06781426169788544, 0.004194680136631605, 0.04922820940150205, 0.03944002449672525, 0.036887457567836526, 0.024055402899663476, 0.02355226029747567, 0.036659123651847064, 0.04109531888515299, -0.0007327275709134534, -0.026571225341303007, -0.004824482094834314, -0.019295106393927747, -0.03164393108577059, -0.026842403773517935, -0.02629331529049892, -0.011588978811964063, 0.019406740332308863, 0.0375960025965148, 0.05949693419312755, 0.05386022558798669, 0.05219421228136096, 0.05956173281492453, 0.036690021718727386, 0.0403867680079812, 0.00017875418773492696, -0.023982611258042654, -0.03989791545500106, -0.036692245418073005, -0.017070965335557645, -0.033238315575475935, -0.009238047915820223, -0.016933118659595122, 0.006062237320411311, 0.012369073321499096, 0.0708650338339206, 0.05818933791381936, 0.04655127730520752, 0.057532053432982636, 0.06361906452744048, 0.05707841799494159, 0.042175602622966685, 0.032516649839940286, 0.03185632759998865, 0.02905380674458663, 0.025831075385736542, -0.01630913194998146, -0.01845119524274406, -0.02495419493038794, -0.03129449104847932, -0.008765479485123831, 0.012457185993383862, 0.008519044010555662, 0.005885730338328933, 0.024278917245985344, 0.06015096109348858, 0.015696627340850308, 0.010704605903398336, -0.02542342268188506, -0.06676435829567992, -0.034347947494556885, -0.0511986995760799, -0.053476747456378905, -0.04965953396815192, -0.04090220045489407]}, {\"hoverlabel\": {\"namelength\": 0}, \"hovertemplate\": \"<b>%{hovertext}</b><br><br>color=Ia<br>ica1=%{x}<br>ica2=%{y}<br>ica3=%{z}\", \"hovertext\": [9.0, 41.0, 70.0, 74.0, 76.0, 90.0, 95.0, 113.0, 124.0, 125.0, 161.0, 162.0, 167.0, 168.0, 176.0, 180.0, 205.0, 220.0, 221.0, 222.0, 223.0, 224.0, 225.0, 226.0, 227.0, 228.0, 229.0, 230.0, 253.0, 271.0, 285.0, 335.0, 375.0, 394.0, 411.0, 445.0, 522.0, 523.0], \"legendgroup\": \"color=Ia\", \"marker\": {\"color\": \"cyan\", \"opacity\": 0.5, \"symbol\": \"circle\"}, \"mode\": \"markers\", \"name\": \"color=Ia\", \"scene\": \"scene\", \"showlegend\": true, \"type\": \"scatter3d\", \"x\": [0.0483258850995016, 0.03533494531769443, 0.054343505237835744, 0.055762892106024434, 0.03930731784863526, 0.06730836429943546, 0.025938289557005462, 0.04445188312060023, 0.017103887609015368, 0.009408534029701982, 0.06456547867768393, 0.06867124236998201, 0.04285960239692073, 0.06680732232280868, 0.07500597290099598, 0.05562652553794613, -0.03700498648589506, -0.027814585343205064, -0.043712721770785605, -0.05294080057730964, -0.04346434606878315, -0.06308028911199916, -0.03388925089271934, -0.024676657533410192, -0.04077577482745594, -0.03244556498304534, -0.034577040371074876, -0.0284160755898532, 0.025397139659881003, 0.06482370484613587, 0.0610657848550907, 0.035111334974812024, 0.042335649854722775, 0.04048265811614351, 0.034006394515381434, -0.017884948035680002, 0.026292658468127658, 0.00916317524308715], \"y\": [0.006373761777375441, -0.054998501859264026, -0.07275752156990223, -0.021472915008133444, 0.0025987969024204253, 0.020188689247609214, -0.011964961261434327, -0.058884438400394784, -0.05064011779591643, -0.03133222382479637, -0.02952891755232445, -0.0008361883445025561, -0.010345573039375007, -0.01538403549778069, 0.011481660457779335, -0.027799218237877576, 0.017511303300508655, -0.03646127927918307, -0.016758496730504457, -0.02736413756841366, -0.003828223982200918, -0.03899814745890575, -0.018014534784462712, -0.01877633569659229, -0.0021109805775115092, -0.021518797486864947, -0.01926001321253978, -0.013521887937896975, 0.0025060478617402317, 0.022759865315908224, -0.036305328066343526, 0.0030307764558520633, -0.05608473160636528, 0.013013171089759086, 0.008391004346431316, -0.0008098184074667475, -0.025773569175931585, -0.01847324609460462], \"z\": [0.04244757925720967, -0.030255443508608607, -0.05063307974328734, 0.043106606335272184, 0.03656438470984324, 0.021914998422091565, -0.014878462172840353, -0.04380543432746339, 0.014578123819911467, 0.020632852205413933, 0.05471448932266113, 0.036662402505281376, 0.03500229147908832, 0.03828157186180939, 0.04144888991923083, 0.022881946608843688, -0.10040490166550882, 0.012334690358126772, 0.0069412062057549965, -0.015834009344669487, 0.01681294421493905, -0.009149011225434793, 0.03393667608878078, 0.04361128975948225, 0.018693306850507824, 0.03775357121951655, 0.029740869675122527, 0.022073523583263387, 0.051592256359803954, 0.01898373862948524, -0.03231900940344341, 0.04292283472190163, -0.008330879805494202, 0.009506161161731155, 0.022794549825818862, 0.05523686181198263, 0.052808138813780485, 0.05165877412041566]}],\n",
              "                        {\"legend\": {\"tracegroupgap\": 0}, \"margin\": {\"t\": 60}, \"scene\": {\"domain\": {\"x\": [0.0, 1.0], \"y\": [0.0, 1.0]}, \"xaxis\": {\"title\": {\"text\": \"ica1\"}}, \"yaxis\": {\"title\": {\"text\": \"ica2\"}}, \"zaxis\": {\"title\": {\"text\": \"ica3\"}}}, \"template\": {\"data\": {\"bar\": [{\"error_x\": {\"color\": \"#2a3f5f\"}, \"error_y\": {\"color\": \"#2a3f5f\"}, \"marker\": {\"line\": {\"color\": \"#E5ECF6\", \"width\": 0.5}}, \"type\": \"bar\"}], \"barpolar\": [{\"marker\": {\"line\": {\"color\": \"#E5ECF6\", \"width\": 0.5}}, \"type\": \"barpolar\"}], \"carpet\": [{\"aaxis\": {\"endlinecolor\": \"#2a3f5f\", \"gridcolor\": \"white\", \"linecolor\": \"white\", \"minorgridcolor\": \"white\", \"startlinecolor\": \"#2a3f5f\"}, \"baxis\": {\"endlinecolor\": \"#2a3f5f\", \"gridcolor\": \"white\", \"linecolor\": \"white\", \"minorgridcolor\": \"white\", \"startlinecolor\": \"#2a3f5f\"}, \"type\": \"carpet\"}], \"choropleth\": [{\"colorbar\": {\"outlinewidth\": 0, \"ticks\": \"\"}, \"type\": \"choropleth\"}], \"contour\": [{\"colorbar\": {\"outlinewidth\": 0, \"ticks\": \"\"}, \"colorscale\": [[0.0, \"#0d0887\"], [0.1111111111111111, \"#46039f\"], [0.2222222222222222, \"#7201a8\"], [0.3333333333333333, \"#9c179e\"], [0.4444444444444444, \"#bd3786\"], [0.5555555555555556, \"#d8576b\"], [0.6666666666666666, \"#ed7953\"], [0.7777777777777778, \"#fb9f3a\"], [0.8888888888888888, \"#fdca26\"], [1.0, \"#f0f921\"]], \"type\": \"contour\"}], \"contourcarpet\": [{\"colorbar\": {\"outlinewidth\": 0, \"ticks\": \"\"}, \"type\": \"contourcarpet\"}], \"heatmap\": [{\"colorbar\": {\"outlinewidth\": 0, \"ticks\": \"\"}, \"colorscale\": [[0.0, \"#0d0887\"], [0.1111111111111111, \"#46039f\"], [0.2222222222222222, \"#7201a8\"], [0.3333333333333333, \"#9c179e\"], [0.4444444444444444, \"#bd3786\"], [0.5555555555555556, \"#d8576b\"], [0.6666666666666666, \"#ed7953\"], [0.7777777777777778, \"#fb9f3a\"], [0.8888888888888888, \"#fdca26\"], [1.0, \"#f0f921\"]], \"type\": \"heatmap\"}], \"heatmapgl\": [{\"colorbar\": {\"outlinewidth\": 0, \"ticks\": \"\"}, \"colorscale\": [[0.0, \"#0d0887\"], [0.1111111111111111, \"#46039f\"], [0.2222222222222222, \"#7201a8\"], [0.3333333333333333, \"#9c179e\"], [0.4444444444444444, \"#bd3786\"], [0.5555555555555556, \"#d8576b\"], [0.6666666666666666, \"#ed7953\"], [0.7777777777777778, \"#fb9f3a\"], [0.8888888888888888, \"#fdca26\"], [1.0, \"#f0f921\"]], \"type\": \"heatmapgl\"}], \"histogram\": [{\"marker\": {\"colorbar\": {\"outlinewidth\": 0, \"ticks\": \"\"}}, \"type\": \"histogram\"}], \"histogram2d\": [{\"colorbar\": {\"outlinewidth\": 0, \"ticks\": \"\"}, \"colorscale\": [[0.0, \"#0d0887\"], [0.1111111111111111, \"#46039f\"], [0.2222222222222222, \"#7201a8\"], [0.3333333333333333, \"#9c179e\"], [0.4444444444444444, \"#bd3786\"], [0.5555555555555556, \"#d8576b\"], [0.6666666666666666, \"#ed7953\"], [0.7777777777777778, \"#fb9f3a\"], [0.8888888888888888, \"#fdca26\"], [1.0, \"#f0f921\"]], \"type\": \"histogram2d\"}], \"histogram2dcontour\": [{\"colorbar\": {\"outlinewidth\": 0, \"ticks\": \"\"}, \"colorscale\": [[0.0, \"#0d0887\"], [0.1111111111111111, \"#46039f\"], [0.2222222222222222, \"#7201a8\"], [0.3333333333333333, \"#9c179e\"], [0.4444444444444444, \"#bd3786\"], [0.5555555555555556, \"#d8576b\"], [0.6666666666666666, \"#ed7953\"], [0.7777777777777778, \"#fb9f3a\"], [0.8888888888888888, \"#fdca26\"], [1.0, \"#f0f921\"]], \"type\": \"histogram2dcontour\"}], \"mesh3d\": [{\"colorbar\": {\"outlinewidth\": 0, \"ticks\": \"\"}, \"type\": \"mesh3d\"}], \"parcoords\": [{\"line\": {\"colorbar\": {\"outlinewidth\": 0, \"ticks\": \"\"}}, \"type\": \"parcoords\"}], \"pie\": [{\"automargin\": true, \"type\": \"pie\"}], \"scatter\": [{\"marker\": {\"colorbar\": {\"outlinewidth\": 0, \"ticks\": \"\"}}, \"type\": \"scatter\"}], \"scatter3d\": [{\"line\": {\"colorbar\": {\"outlinewidth\": 0, \"ticks\": \"\"}}, \"marker\": {\"colorbar\": {\"outlinewidth\": 0, \"ticks\": \"\"}}, \"type\": \"scatter3d\"}], \"scattercarpet\": [{\"marker\": {\"colorbar\": {\"outlinewidth\": 0, \"ticks\": \"\"}}, \"type\": \"scattercarpet\"}], \"scattergeo\": [{\"marker\": {\"colorbar\": {\"outlinewidth\": 0, \"ticks\": \"\"}}, \"type\": \"scattergeo\"}], \"scattergl\": [{\"marker\": {\"colorbar\": {\"outlinewidth\": 0, \"ticks\": \"\"}}, \"type\": \"scattergl\"}], \"scattermapbox\": [{\"marker\": {\"colorbar\": {\"outlinewidth\": 0, \"ticks\": \"\"}}, \"type\": \"scattermapbox\"}], \"scatterpolar\": [{\"marker\": {\"colorbar\": {\"outlinewidth\": 0, \"ticks\": \"\"}}, \"type\": \"scatterpolar\"}], \"scatterpolargl\": [{\"marker\": {\"colorbar\": {\"outlinewidth\": 0, \"ticks\": \"\"}}, \"type\": \"scatterpolargl\"}], \"scatterternary\": [{\"marker\": {\"colorbar\": {\"outlinewidth\": 0, \"ticks\": \"\"}}, \"type\": \"scatterternary\"}], \"surface\": [{\"colorbar\": {\"outlinewidth\": 0, \"ticks\": \"\"}, \"colorscale\": [[0.0, \"#0d0887\"], [0.1111111111111111, \"#46039f\"], [0.2222222222222222, \"#7201a8\"], [0.3333333333333333, \"#9c179e\"], [0.4444444444444444, \"#bd3786\"], [0.5555555555555556, \"#d8576b\"], [0.6666666666666666, \"#ed7953\"], [0.7777777777777778, \"#fb9f3a\"], [0.8888888888888888, \"#fdca26\"], [1.0, \"#f0f921\"]], \"type\": \"surface\"}], \"table\": [{\"cells\": {\"fill\": {\"color\": \"#EBF0F8\"}, \"line\": {\"color\": \"white\"}}, \"header\": {\"fill\": {\"color\": \"#C8D4E3\"}, \"line\": {\"color\": \"white\"}}, \"type\": \"table\"}]}, \"layout\": {\"annotationdefaults\": {\"arrowcolor\": \"#2a3f5f\", \"arrowhead\": 0, \"arrowwidth\": 1}, \"coloraxis\": {\"colorbar\": {\"outlinewidth\": 0, \"ticks\": \"\"}}, \"colorscale\": {\"diverging\": [[0, \"#8e0152\"], [0.1, \"#c51b7d\"], [0.2, \"#de77ae\"], [0.3, \"#f1b6da\"], [0.4, \"#fde0ef\"], [0.5, \"#f7f7f7\"], [0.6, \"#e6f5d0\"], [0.7, \"#b8e186\"], [0.8, \"#7fbc41\"], [0.9, \"#4d9221\"], [1, \"#276419\"]], \"sequential\": [[0.0, \"#0d0887\"], [0.1111111111111111, \"#46039f\"], [0.2222222222222222, \"#7201a8\"], [0.3333333333333333, \"#9c179e\"], [0.4444444444444444, \"#bd3786\"], [0.5555555555555556, \"#d8576b\"], [0.6666666666666666, \"#ed7953\"], [0.7777777777777778, \"#fb9f3a\"], [0.8888888888888888, \"#fdca26\"], [1.0, \"#f0f921\"]], \"sequentialminus\": [[0.0, \"#0d0887\"], [0.1111111111111111, \"#46039f\"], [0.2222222222222222, \"#7201a8\"], [0.3333333333333333, \"#9c179e\"], [0.4444444444444444, \"#bd3786\"], [0.5555555555555556, \"#d8576b\"], [0.6666666666666666, \"#ed7953\"], [0.7777777777777778, \"#fb9f3a\"], [0.8888888888888888, \"#fdca26\"], [1.0, \"#f0f921\"]]}, \"colorway\": [\"#636efa\", \"#EF553B\", \"#00cc96\", \"#ab63fa\", \"#FFA15A\", \"#19d3f3\", \"#FF6692\", \"#B6E880\", \"#FF97FF\", \"#FECB52\"], \"font\": {\"color\": \"#2a3f5f\"}, \"geo\": {\"bgcolor\": \"white\", \"lakecolor\": \"white\", \"landcolor\": \"#E5ECF6\", \"showlakes\": true, \"showland\": true, \"subunitcolor\": \"white\"}, \"hoverlabel\": {\"align\": \"left\"}, \"hovermode\": \"closest\", \"mapbox\": {\"style\": \"light\"}, \"paper_bgcolor\": \"white\", \"plot_bgcolor\": \"#E5ECF6\", \"polar\": {\"angularaxis\": {\"gridcolor\": \"white\", \"linecolor\": \"white\", \"ticks\": \"\"}, \"bgcolor\": \"#E5ECF6\", \"radialaxis\": {\"gridcolor\": \"white\", \"linecolor\": \"white\", \"ticks\": \"\"}}, \"scene\": {\"xaxis\": {\"backgroundcolor\": \"#E5ECF6\", \"gridcolor\": \"white\", \"gridwidth\": 2, \"linecolor\": \"white\", \"showbackground\": true, \"ticks\": \"\", \"zerolinecolor\": \"white\"}, \"yaxis\": {\"backgroundcolor\": \"#E5ECF6\", \"gridcolor\": \"white\", \"gridwidth\": 2, \"linecolor\": \"white\", \"showbackground\": true, \"ticks\": \"\", \"zerolinecolor\": \"white\"}, \"zaxis\": {\"backgroundcolor\": \"#E5ECF6\", \"gridcolor\": \"white\", \"gridwidth\": 2, \"linecolor\": \"white\", \"showbackground\": true, \"ticks\": \"\", \"zerolinecolor\": \"white\"}}, \"shapedefaults\": {\"line\": {\"color\": \"#2a3f5f\"}}, \"ternary\": {\"aaxis\": {\"gridcolor\": \"white\", \"linecolor\": \"white\", \"ticks\": \"\"}, \"baxis\": {\"gridcolor\": \"white\", \"linecolor\": \"white\", \"ticks\": \"\"}, \"bgcolor\": \"#E5ECF6\", \"caxis\": {\"gridcolor\": \"white\", \"linecolor\": \"white\", \"ticks\": \"\"}}, \"title\": {\"x\": 0.05}, \"xaxis\": {\"automargin\": true, \"gridcolor\": \"white\", \"linecolor\": \"white\", \"ticks\": \"\", \"title\": {\"standoff\": 15}, \"zerolinecolor\": \"white\", \"zerolinewidth\": 2}, \"yaxis\": {\"automargin\": true, \"gridcolor\": \"white\", \"linecolor\": \"white\", \"ticks\": \"\", \"title\": {\"standoff\": 15}, \"zerolinecolor\": \"white\", \"zerolinewidth\": 2}}}},\n",
              "                        {\"responsive\": true}\n",
              "                    ).then(function(){\n",
              "                            \n",
              "var gd = document.getElementById('969d35be-d48f-4379-8014-9b55de773e3a');\n",
              "var x = new MutationObserver(function (mutations, observer) {{\n",
              "        var display = window.getComputedStyle(gd).display;\n",
              "        if (!display || display === 'none') {{\n",
              "            console.log([gd, 'removed!']);\n",
              "            Plotly.purge(gd);\n",
              "            observer.disconnect();\n",
              "        }}\n",
              "}});\n",
              "\n",
              "// Listen for the removal of the full notebook cells\n",
              "var notebookContainer = gd.closest('#notebook-container');\n",
              "if (notebookContainer) {{\n",
              "    x.observe(notebookContainer, {childList: true});\n",
              "}}\n",
              "\n",
              "// Listen for the clearing of the current output cell\n",
              "var outputEl = gd.closest('.output');\n",
              "if (outputEl) {{\n",
              "    x.observe(outputEl, {childList: true});\n",
              "}}\n",
              "\n",
              "                        })\n",
              "                };\n",
              "                \n",
              "            </script>\n",
              "        </div>\n",
              "</body>\n",
              "</html>"
            ]
          },
          "metadata": {
            "tags": []
          }
        }
      ]
    },
    {
      "cell_type": "markdown",
      "metadata": {
        "id": "3E4_EjRCps8I",
        "colab_type": "text"
      },
      "source": [
        "Try t-SNE for visualisation"
      ]
    },
    {
      "cell_type": "code",
      "metadata": {
        "id": "-6aVpkWLpsnO",
        "colab_type": "code",
        "colab": {
          "base_uri": "https://localhost:8080/",
          "height": 542
        },
        "outputId": "a069c755-042a-40ad-d217-d47b04c38066"
      },
      "source": [
        "npf_tsne = TSNE(n_components=3,perplexity=100,random_state=1).fit_transform(X)\n",
        "\n",
        "npf_tsne = pd.DataFrame(npf_tsne,columns=['tsne1','tsne2','tsne3'])\n",
        "\n",
        "px.scatter_3d(data_frame=npf_tsne,\n",
        "              x=\"tsne1\",\n",
        "              y=\"tsne2\",\n",
        "              z=\"tsne3\",\n",
        "              color=klabels,\n",
        "              color_discrete_sequence=own_cmap,\n",
        "              hover_name=npf_tsne.index,\n",
        "              opacity=0.5)"
      ],
      "execution_count": 53,
      "outputs": [
        {
          "output_type": "display_data",
          "data": {
            "text/html": [
              "<html>\n",
              "<head><meta charset=\"utf-8\" /></head>\n",
              "<body>\n",
              "    <div>\n",
              "            <script src=\"https://cdnjs.cloudflare.com/ajax/libs/mathjax/2.7.5/MathJax.js?config=TeX-AMS-MML_SVG\"></script><script type=\"text/javascript\">if (window.MathJax) {MathJax.Hub.Config({SVG: {font: \"STIX-Web\"}});}</script>\n",
              "                <script type=\"text/javascript\">window.PlotlyConfig = {MathJaxConfig: 'local'};</script>\n",
              "        <script src=\"https://cdn.plot.ly/plotly-latest.min.js\"></script>    \n",
              "            <div id=\"b7b198f1-f128-4402-8405-e6b6be6edfa3\" class=\"plotly-graph-div\" style=\"height:525px; width:100%;\"></div>\n",
              "            <script type=\"text/javascript\">\n",
              "                \n",
              "                    window.PLOTLYENV=window.PLOTLYENV || {};\n",
              "                    \n",
              "                if (document.getElementById(\"b7b198f1-f128-4402-8405-e6b6be6edfa3\")) {\n",
              "                    Plotly.newPlot(\n",
              "                        'b7b198f1-f128-4402-8405-e6b6be6edfa3',\n",
              "                        [{\"hoverlabel\": {\"namelength\": 0}, \"hovertemplate\": \"<b>%{hovertext}</b><br><br>color=nonevent<br>tsne1=%{x}<br>tsne2=%{y}<br>tsne3=%{z}\", \"hovertext\": [0.0, 1.0, 2.0, 3.0, 4.0, 5.0, 11.0, 12.0, 13.0, 18.0, 25.0, 26.0, 27.0, 28.0, 29.0, 31.0, 33.0, 34.0, 35.0, 36.0, 37.0, 39.0, 43.0, 45.0, 50.0, 51.0, 54.0, 57.0, 58.0, 60.0, 61.0, 62.0, 67.0, 68.0, 69.0, 71.0, 79.0, 81.0, 92.0, 93.0, 94.0, 98.0, 99.0, 104.0, 106.0, 107.0, 108.0, 109.0, 117.0, 119.0, 123.0, 127.0, 129.0, 130.0, 131.0, 132.0, 133.0, 135.0, 136.0, 137.0, 138.0, 139.0, 140.0, 141.0, 142.0, 143.0, 144.0, 146.0, 147.0, 155.0, 156.0, 171.0, 178.0, 179.0, 188.0, 195.0, 196.0, 201.0, 203.0, 204.0, 208.0, 209.0, 213.0, 214.0, 215.0, 216.0, 217.0, 219.0, 231.0, 232.0, 233.0, 234.0, 235.0, 236.0, 237.0, 238.0, 239.0, 240.0, 241.0, 242.0, 243.0, 244.0, 245.0, 246.0, 247.0, 248.0, 249.0, 250.0, 252.0, 262.0, 265.0, 267.0, 268.0, 273.0, 276.0, 280.0, 281.0, 282.0, 283.0, 284.0, 286.0, 287.0, 288.0, 289.0, 290.0, 291.0, 293.0, 302.0, 303.0, 306.0, 307.0, 308.0, 309.0, 313.0, 314.0, 315.0, 316.0, 317.0, 318.0, 319.0, 321.0, 322.0, 323.0, 324.0, 325.0, 327.0, 328.0, 329.0, 330.0, 331.0, 332.0, 333.0, 334.0, 337.0, 340.0, 341.0, 342.0, 350.0, 351.0, 352.0, 355.0, 358.0, 359.0, 361.0, 362.0, 363.0, 364.0, 365.0, 367.0, 369.0, 370.0, 371.0, 372.0, 373.0, 378.0, 379.0, 380.0, 381.0, 382.0, 383.0, 384.0, 385.0, 397.0, 399.0, 404.0, 407.0, 413.0, 417.0, 419.0, 420.0, 421.0, 422.0, 423.0, 424.0, 426.0, 427.0, 428.0, 429.0, 430.0, 431.0, 437.0, 438.0, 439.0, 440.0, 441.0, 446.0, 450.0, 451.0, 452.0, 453.0, 454.0, 455.0, 456.0, 457.0, 458.0, 459.0, 460.0, 463.0, 464.0, 465.0, 466.0, 479.0, 481.0, 483.0, 486.0, 487.0, 488.0, 490.0, 491.0, 494.0, 496.0, 498.0, 499.0, 500.0, 501.0, 502.0, 503.0, 504.0, 505.0, 506.0, 507.0, 508.0, 509.0, 510.0, 511.0, 513.0, 517.0, 520.0, 521.0, 535.0, 536.0, 538.0, 539.0, 540.0, 541.0, 542.0, 543.0, 545.0, 546.0, 547.0, 548.0, 549.0, 550.0, 551.0, 552.0, 553.0, 554.0, 555.0, 558.0, 559.0, 561.0, 566.0, 569.0, 570.0, 571.0, 572.0, 573.0, 574.0, 575.0, 576.0, 577.0, 578.0, 579.0, 580.0, 581.0, 582.0, 583.0, 584.0, 585.0, 586.0, 587.0, 588.0, 589.0, 590.0, 591.0, 592.0, 593.0, 594.0, 595.0, 596.0, 597.0, 598.0, 599.0, 600.0, 601.0, 602.0, 603.0, 604.0, 605.0, 606.0, 607.0, 608.0, 609.0, 610.0, 611.0, 612.0, 619.0, 622.0, 623.0, 626.0, 627.0, 629.0, 630.0, 631.0, 632.0, 634.0, 635.0, 636.0, 637.0, 638.0, 639.0, 640.0, 641.0, 642.0, 643.0, 644.0, 645.0, 646.0, 648.0, 649.0, 650.0, 651.0, 652.0, 656.0, 658.0, 659.0, 660.0, 661.0, 662.0, 663.0, 664.0, 665.0, 670.0, 671.0, 673.0, 674.0, 675.0, 676.0, 677.0, 678.0, 680.0, 681.0, 682.0, 683.0, 684.0, 685.0, 686.0, 687.0, 688.0, 689.0, 690.0, 691.0, 692.0, 693.0, 694.0, 695.0, 696.0, 699.0, 702.0, 703.0, 704.0, 705.0, 706.0, 707.0, 708.0, 709.0, 711.0, 715.0, 718.0, 719.0, 720.0, 721.0, 722.0, 723.0], \"legendgroup\": \"color=nonevent\", \"marker\": {\"color\": \"red\", \"opacity\": 0.5, \"symbol\": \"circle\"}, \"mode\": \"markers\", \"name\": \"color=nonevent\", \"scene\": \"scene\", \"showlegend\": true, \"type\": \"scatter3d\", \"x\": [-0.1287781000137329, -2.3963685035705566, 0.30576953291893005, -0.5079492330551147, -3.5097267627716064, -1.6343472003936768, -1.9883372783660889, -2.3741588592529297, 3.5879063606262207, 2.7241718769073486, 2.7394893169403076, 3.3067591190338135, 3.0265462398529053, 3.274942398071289, 3.273841619491577, 3.1500797271728516, 3.533796548843384, 1.9786609411239624, 3.6486706733703613, 2.5016350746154785, 2.9344491958618164, 1.8370063304901123, 3.543433904647827, 2.6731274127960205, 0.8527007102966309, 1.7459608316421509, 3.5007193088531494, 3.772841691970825, 4.127514839172363, 4.045444488525391, 3.5772674083709717, 3.4747557640075684, 2.721482992172241, 0.2987057864665985, 1.8733420372009277, 2.540796995162964, -2.345285177230835, -0.47261661291122437, 2.3845863342285156, 2.718679189682007, 1.317254662513733, 2.4858274459838867, 1.0219708681106567, 2.967761754989624, 1.9227296113967896, 4.017972946166992, 3.8374783992767334, 3.8063859939575195, -0.3755134046077728, 2.5478851795196533, -0.06299607455730438, 0.18893226981163025, -0.5778316855430603, -0.5328588485717773, -0.6888903975486755, -0.2490660846233368, 0.8285662531852722, 0.3684457838535309, -0.468114972114563, -1.0341500043869019, -0.7461702227592468, -0.9799896478652954, -0.3046925663948059, -2.521430253982544, 1.4684972763061523, -0.7826569676399231, -1.298036813735962, -0.37251928448677063, -0.8785644173622131, -0.10610523819923401, -0.4112248420715332, 1.5178089141845703, 2.4054243564605713, 0.5517727732658386, 0.2283567488193512, 2.257330894470215, 2.3502001762390137, 2.8591840267181396, 2.232494354248047, 3.0683279037475586, 1.1094999313354492, 2.2672314643859863, 0.062478017061948776, -1.6398648023605347, -2.3111257553100586, -0.6884211897850037, -1.1418389081954956, -0.7035198211669922, 0.16019977629184723, 0.08450420945882797, 0.7366651892662048, -0.27399808168411255, 1.311302900314331, -0.35666418075561523, -0.5855955481529236, -0.8012680411338806, -0.7817561626434326, 0.16573286056518555, -1.3476104736328125, -1.6124038696289062, -1.8484007120132446, -1.6778613328933716, -1.525834560394287, -1.8085123300552368, -1.002083659172058, -2.0950329303741455, -1.9894654750823975, -2.733473300933838, -1.7856782674789429, -2.492734432220459, -1.0101689100265503, 1.1143971681594849, 0.5568293929100037, 2.426107168197632, 2.2795028686523438, 0.7566673159599304, 2.1891160011291504, 0.8816550374031067, 1.2119371891021729, 0.8979745507240295, 2.699709892272949, 3.8009424209594727, 3.399847984313965, 2.5335230827331543, 3.675715446472168, 2.2320022583007812, 2.9270291328430176, 1.6809972524642944, 0.1164160668849945, 3.3927502632141113, 3.6742045879364014, -1.452368974685669, -0.0773632600903511, 3.5735578536987305, -0.06629811227321625, -0.40866348147392273, 0.2744898200035095, -0.05558685213327408, -0.5263400077819824, -0.8275573253631592, 0.46054607629776, -1.147896647453308, -2.3230786323547363, -3.83353853225708, -3.922407388687134, -3.810870409011841, -1.0646708011627197, -3.214705228805542, -3.2230236530303955, -1.9649299383163452, -2.389261484146118, -1.7591198682785034, -3.0764546394348145, -3.269071340560913, -1.5514194965362549, -0.5051993727684021, 2.057403326034546, 2.5844149589538574, 0.2713153660297394, -0.6003044247627258, 0.354227751493454, 2.540889263153076, 0.5354105234146118, 0.07009895890951157, 0.2577309310436249, 3.922239303588867, 0.2173537313938141, 4.006591796875, 3.7901158332824707, 2.9365575313568115, 1.7500793933868408, 1.6414767503738403, 2.9791042804718018, 1.4123272895812988, -0.023055292665958405, 1.8136063814163208, 1.8346927165985107, -0.35816243290901184, -0.4644742012023926, 0.5127580761909485, -0.6080045700073242, 1.506717324256897, 0.18752549588680267, -0.6553118228912354, -0.8731235861778259, -0.014180796220898628, 3.034271001815796, 0.9367631673812866, 2.677096128463745, 2.889739990234375, 2.2365779876708984, 1.778121829032898, 2.2830991744995117, 2.6428613662719727, 0.2832241654396057, 0.5586310625076294, 2.961618185043335, 2.3322339057922363, 1.862757921218872, 3.283160448074341, -1.6703410148620605, -2.2723560333251953, -1.1941499710083008, -1.86343514919281, -2.2023653984069824, -1.705384612083435, -1.0169519186019897, -2.810270309448242, -1.9189718961715698, -1.1170825958251953, 0.3838956952095032, -0.5263510942459106, -0.565215528011322, -1.6757533550262451, -2.186851739883423, -2.162684917449951, -1.861329197883606, -3.871680498123169, -0.09618548303842545, 0.04116687923669815, 1.6096446514129639, 3.0473854541778564, 3.1090915203094482, 0.5096127390861511, 2.986675262451172, 1.9248167276382446, 2.9200639724731445, 0.7439317107200623, 0.6629523634910583, -0.46079322695732117, -0.6723414659500122, -1.0030255317687988, -1.5920062065124512, -1.7228851318359375, -1.826037883758545, -2.895465612411499, -3.5306248664855957, -2.0140438079833984, -1.6824091672897339, -2.310964822769165, -2.264005422592163, -3.6093194484710693, -2.4822940826416016, -2.3501248359680176, -2.3270645141601562, -2.303717613220215, -2.774946689605713, -1.9847067594528198, -2.1502325534820557, 0.6475974917411804, 1.0029077529907227, 1.8919408321380615, 1.1617546081542969, 1.122147798538208, 0.9968578219413757, 1.219022512435913, 1.9593828916549683, 3.3242008686065674, 2.490973472595215, 2.0294349193573, 0.6749721765518188, 2.8970587253570557, 2.70937180519104, 2.7547130584716797, 1.3380646705627441, 2.359977960586548, 1.8510730266571045, 0.4385385513305664, 2.6659820079803467, 2.2965548038482666, 1.0565121173858643, -1.0447217226028442, -1.207908034324646, -1.5646235942840576, -0.9252085089683533, -1.1126055717468262, -0.5803307294845581, -1.4022225141525269, -1.3499958515167236, -1.3557653427124023, -1.5006424188613892, -1.4384294748306274, -2.2784931659698486, -0.26017099618911743, -0.932755172252655, 0.4356350600719452, 0.3365688621997833, -1.6860036849975586, -1.7629331350326538, -1.8586442470550537, -4.4455671310424805, -2.6572165489196777, -2.552692174911499, -2.465214729309082, -3.093305826187134, -3.2849063873291016, -3.426884174346924, -1.60244882106781, -3.9153897762298584, -2.4030685424804688, -2.1552276611328125, -3.0950839519500732, -3.20975923538208, -2.9952828884124756, -2.832024574279785, -2.7980992794036865, -3.239225149154663, -3.020359992980957, -2.9386565685272217, -3.569211483001709, -3.626767635345459, -3.543051242828369, -3.377514123916626, -2.291720151901245, -2.3742213249206543, -2.601142406463623, -4.309201717376709, -0.9598360061645508, -0.07450145483016968, -1.4009807109832764, 1.1841071844100952, 1.3635129928588867, 3.149029016494751, 2.0806081295013428, 2.006884813308716, 3.3296725749969482, 4.101722240447998, 2.6894419193267822, 3.8181705474853516, 3.692561388015747, 4.232582092285156, 3.911947250366211, 3.008019208908081, 2.3547616004943848, 3.412778615951538, 2.964850425720215, 3.713610887527466, 4.28427267074585, 2.1101975440979004, 1.9562052488327026, 0.9279071092605591, 1.1763243675231934, 0.12359660118818283, 0.9639055728912354, 3.1427886486053467, 1.6191672086715698, 1.4423216581344604, 1.6673393249511719, 3.049039363861084, -1.5534327030181885, -1.45405113697052, -0.5497806668281555, 0.12242735922336578, -0.329103946685791, -1.4382328987121582, -2.086636781692505, -2.543792247772217, -2.5287437438964844, -2.498538017272949, -3.1766490936279297, -2.464747905731201, -2.0503597259521484, -1.9352763891220093, -2.7706756591796875, -2.729994297027588, -1.7823549509048462, -1.1558743715286255, -4.553612232208252, -1.8044254779815674, -4.5844926834106445, -1.6172677278518677, -3.8083152770996094, -4.297616958618164, -3.205319881439209, -3.088639974594116, -2.0588386058807373, -2.8433780670166016, 3.769927501678467, 2.986469268798828, 2.3741660118103027, 1.689394235610962, 3.9350109100341797, 4.3091044425964355, 0.9748907089233398, 2.1137590408325195, 3.22027850151062, 2.0317318439483643, 3.0621564388275146, 0.09237783402204514, 0.27621084451675415, 1.7694458961486816, 2.4070751667022705, 2.3433330059051514, 1.418554663658142], \"y\": [-2.154918670654297, -6.984457492828369, -3.822531223297119, -5.115411281585693, -3.9707772731781006, 1.0578795671463013, -7.102116107940674, 0.9116842150688171, 0.615730345249176, -0.8024454116821289, 0.9764629602432251, 3.093559503555298, 4.399631500244141, 3.5137038230895996, 3.304490089416504, 2.4207563400268555, 3.2168099880218506, 1.1550331115722656, 0.5403195023536682, -1.4624654054641724, -1.3023813962936401, -1.2184200286865234, 0.8356572985649109, -0.8012557625770569, 3.761291265487671, -1.3864967823028564, 3.1316397190093994, 2.7581562995910645, 0.7325971126556396, 0.8127678036689758, 2.7091495990753174, -1.3327442407608032, -1.6051080226898193, 1.2789394855499268, 0.7595498561859131, -2.5485448837280273, 1.6629036664962769, 0.12473771721124649, -1.371471643447876, -0.6281932592391968, 0.21939212083816528, -1.2343218326568604, 0.40825918316841125, 3.096761465072632, -1.3381181955337524, 2.9447476863861084, 2.6909549236297607, 3.4488465785980225, -1.1545608043670654, 0.34120994806289673, -0.972046434879303, -2.101046562194824, -5.385913372039795, -5.565874099731445, -4.499817371368408, -2.9776883125305176, -4.008536338806152, -3.854090452194214, -3.2446184158325195, -4.384793281555176, -3.8092074394226074, -4.813618183135986, -4.09964656829834, -6.350848197937012, -4.360744476318359, -3.3023681640625, -4.835686683654785, -3.1210029125213623, -2.0335326194763184, -2.736896514892578, -2.1426689624786377, 3.9663827419281006, 4.7054443359375, -1.0563454627990723, -0.8495329022407532, 1.6218340396881104, 0.22677120566368103, 1.917532205581665, -0.6895761489868164, 1.9366354942321777, -1.6607080698013306, -1.8413509130477905, -2.823319673538208, -6.276013374328613, -7.028926372528076, -3.2764391899108887, -4.0501484870910645, -3.0776994228363037, -2.3355207443237305, -3.539130449295044, -3.319373369216919, -3.329406976699829, -3.257657527923584, -1.9480822086334229, -3.6769027709960938, -5.830888748168945, -5.904647350311279, -3.6990342140197754, -4.098369598388672, -4.909595966339111, -4.041856288909912, -3.1016414165496826, -2.5134382247924805, -3.44675874710083, -3.9373021125793457, -3.3851099014282227, -5.20053243637085, -3.0684218406677246, -3.811445713043213, 0.7656689882278442, -1.3130621910095215, -0.9445992708206177, 1.0759103298187256, -0.9108999967575073, 3.678182363510132, 4.9874162673950195, 3.4851365089416504, 5.007416725158691, 5.090976238250732, 4.632938861846924, 3.8719053268432617, 1.8130279779434204, -0.6219231486320496, 1.8562531471252441, 2.059311628341675, 0.12473743408918381, 1.8729758262634277, -1.676592230796814, -0.24035218358039856, 0.7328922152519226, 1.1511391401290894, -0.30845314264297485, -1.1007609367370605, 0.5626753568649292, -0.6379308104515076, -3.82100510597229, -4.274984836578369, -4.358089447021484, -4.618324279785156, -6.034111976623535, -2.0764245986938477, -4.216925621032715, -7.316101551055908, -3.047342300415039, -3.174642324447632, -3.4138307571411133, -3.938283920288086, -4.723073959350586, -7.155458450317383, -5.242004871368408, -4.414036273956299, -3.7301583290100098, -3.57991099357605, 1.3670459985733032, -4.046084880828857, -2.241992235183716, 4.482277870178223, -1.2168281078338623, 1.5981359481811523, 3.123729944229126, 4.916368007659912, 1.0751876831054688, 4.787324905395508, 2.486478090286255, 4.727922439575195, 1.780629277229309, 5.1421895027160645, 1.637479543685913, 1.70615553855896, 0.921786367893219, 3.6565487384796143, 0.9104309678077698, -1.2755239009857178, -1.5969781875610352, -5.018211841583252, -2.635631561279297, -4.045090198516846, -5.098170280456543, -4.519373416900635, -2.4684081077575684, -3.0026402473449707, -3.64638090133667, -2.453158378601074, -1.6065788269042969, 1.859496831893921, 1.7831289768218994, -0.18748515844345093, 1.3374183177947998, -2.1955504417419434, -2.790843963623047, 4.616894245147705, 4.042417049407959, -1.2687948942184448, 0.9385556578636169, 2.5457961559295654, 3.450004816055298, 0.9326719641685486, 3.6655330657958984, 4.894038200378418, 3.6701245307922363, -6.0775017738342285, -7.110471725463867, -4.53746223449707, -6.643229007720947, -7.038477420806885, -6.327761173248291, -5.6633992195129395, -4.324098587036133, -2.1965856552124023, -3.2858500480651855, -3.1766862869262695, -4.6134796142578125, -2.64633846282959, -1.886784315109253, -1.9001375436782837, -1.8683297634124756, -1.8016679286956787, 3.1121459007263184, -2.3841969966888428, -2.4880504608154297, -3.4843904972076416, -1.5860013961791992, 0.8699839115142822, 1.2411988973617554, -0.6745080947875977, 0.40710052847862244, -0.4700238108634949, 0.43293440341949463, -0.8572678565979004, -4.9731340408325195, -4.265949726104736, -4.651834011077881, -3.361912250518799, -3.7073593139648438, -5.142561435699463, -3.3908979892730713, -4.26990270614624, -5.614293575286865, -3.787091016769409, -4.561077117919922, -5.410697937011719, -3.8300492763519287, -3.641186237335205, -5.078476905822754, -6.694983959197998, -3.30332612991333, -3.1023778915405273, -2.3781027793884277, -2.3916714191436768, 6.038369655609131, 1.3339524269104004, -1.7658452987670898, 5.640516757965088, 5.509239673614502, 5.414098262786865, 5.623277187347412, 4.745229721069336, -0.6676516532897949, -1.4310156106948853, 3.678532123565674, 3.7444732189178467, -1.6444627046585083, 2.9701852798461914, -0.23293787240982056, 2.1662704944610596, 1.8471453189849854, 3.8038737773895264, -0.1840585172176361, -0.08803585171699524, -0.4638015031814575, -0.46386638283729553, -2.843135356903076, -3.7447898387908936, -6.692270278930664, -1.9006346464157104, -3.574208974838257, -5.082320690155029, -4.753232955932617, -4.659413814544678, -3.3236594200134277, -4.822198867797852, -4.938193321228027, -4.953845500946045, -4.546535968780518, -4.606654167175293, -3.8504011631011963, -4.119601726531982, -5.262614727020264, -5.157256126403809, -5.632818698883057, -5.277975082397461, -5.928093910217285, -7.047420978546143, -6.321004867553711, -4.648308277130127, -4.334207057952881, -5.661601543426514, -5.157589435577393, -5.571251392364502, -3.5549590587615967, -6.145716190338135, -6.406628608703613, -7.193093299865723, -5.6165289878845215, -5.370929718017578, -4.208093643188477, -6.896366596221924, -6.905706882476807, -3.735403060913086, -4.870317459106445, -5.97144079208374, -4.145858287811279, -6.49870491027832, -6.074263095855713, -5.903294563293457, -2.2826132774353027, 0.5891964435577393, 0.5383785367012024, 1.7758104801177979, -1.1857268810272217, 5.9841508865356445, 5.867814540863037, -1.9966239929199219, 3.3307063579559326, 2.764101982116699, 4.579652786254883, 2.017652988433838, 4.374931335449219, 5.030497074127197, 4.293458938598633, 3.593419313430786, 5.086738109588623, 3.940958261489868, 2.542696714401245, -0.11044640839099884, 0.48619410395622253, 4.52803373336792, 3.4634757041931152, 0.6352526545524597, -0.6095938086509705, -1.6778137683868408, -1.5644618272781372, -0.15356992185115814, -0.6434088349342346, -2.2534563541412354, -1.4159493446350098, -1.6664067506790161, -1.7363569736480713, -0.8550792932510376, -0.9143779873847961, -0.8928657174110413, -5.473885536193848, -2.56070613861084, -4.862678527832031, -3.4435248374938965, -3.6451971530914307, -3.4082186222076416, -3.1634280681610107, -3.040536880493164, -3.6602485179901123, -5.3876633644104, -3.987783908843994, -6.005744934082031, -3.3276212215423584, -4.193376541137695, -5.932829856872559, -2.6112959384918213, -4.903401851654053, -4.955822467803955, -4.972908973693848, -1.702752947807312, -4.61652135848999, -4.8438496589660645, -6.685620307922363, -7.040473461151123, -2.3877599239349365, -4.492153167724609, 4.636877059936523, -1.4389313459396362, -0.7832781076431274, 2.521996021270752, 4.020442485809326, 3.3213555812835693, -1.561516523361206, 4.574325084686279, -1.584663987159729, 4.580079555511475, 0.3815213143825531, 2.4510302543640137, 2.9601876735687256, -0.2815720736980438, -0.45412394404411316, -1.3266823291778564, 3.100843906402588], \"z\": [-2.52207088470459, -3.3379814624786377, -2.3167917728424072, -1.9474033117294312, -3.8482115268707275, -1.3639694452285767, -3.317640542984009, 0.14041516184806824, 0.25963470339775085, 1.2343981266021729, 0.8505433201789856, 1.438494324684143, 0.41209354996681213, 1.598798394203186, 1.5377644300460815, 2.675814390182495, 1.5423600673675537, 1.5039345026016235, 3.4151439666748047, 4.144130229949951, 3.6622159481048584, 4.068057060241699, 0.7000918388366699, 0.9188989996910095, 0.6998775005340576, 3.9775590896606445, 2.001471519470215, 2.517404079437256, 3.46557879447937, 3.4999566078186035, 2.0050222873687744, 3.6790316104888916, 3.9456162452697754, 3.710054636001587, 4.618526935577393, 3.4506444931030273, -1.0272479057312012, -1.3526239395141602, 1.7142008543014526, 1.9140920639038086, 1.528202772140503, 1.4435150623321533, 2.4663562774658203, 2.3962433338165283, 4.208709716796875, 2.8032000064849854, 2.33082914352417, 2.149540901184082, 2.8838770389556885, 2.3606371879577637, 0.48974987864494324, -2.0098845958709717, 0.15321281552314758, -0.583943784236908, -0.1991216540336609, -2.3412816524505615, -1.1645203828811646, -1.0635086297988892, -1.7769567966461182, -1.9915558099746704, -1.6368250846862793, -1.7993477582931519, -1.2171169519424438, -3.2082359790802, -0.48695412278175354, -2.0193777084350586, -2.206350088119507, -2.0408804416656494, -1.8785313367843628, -1.2451436519622803, -1.337007761001587, -1.3675142526626587, -0.6289219260215759, 1.711987018585205, 1.4490641355514526, 1.7792104482650757, 4.1966681480407715, 3.29758882522583, 4.476412296295166, 3.366297721862793, 2.6117284297943115, 1.5480331182479858, -1.892222285270691, -2.725771903991699, -3.334394931793213, -1.9256852865219116, -2.3091084957122803, -1.090382695198059, -1.6383039951324463, -1.4644289016723633, -1.0640426874160767, -1.8273049592971802, -0.5159425735473633, -1.5762420892715454, -1.2479643821716309, -1.6981837749481201, -1.4558374881744385, -1.488273024559021, -2.0102272033691406, -1.5792334079742432, -2.730895519256592, -3.6243276596069336, -3.2993063926696777, -3.893134593963623, -2.471033811569214, -3.742330312728882, -3.0270724296569824, -2.8072946071624756, -3.739532947540283, 0.04993950575590134, -1.748627781867981, 0.2173786461353302, -0.15369856357574463, 1.8957985639572144, 2.4918365478515625, 2.41976261138916, 2.4938693046569824, 2.544901132583618, 2.4804513454437256, 2.9387030601501465, 2.159022331237793, 3.1624531745910645, 3.477843999862671, 2.640660047531128, 3.198101282119751, 3.682018518447876, 3.042389154434204, 1.6808992624282837, 1.7141690254211426, 0.9987307190895081, 0.7598407864570618, 2.7076385021209717, 2.422894239425659, 0.4594685733318329, 0.32521969079971313, -1.0492644309997559, -0.743279218673706, -0.8819609880447388, -3.1372790336608887, -1.8816252946853638, -2.2947561740875244, -3.000657796859741, -3.29929256439209, -3.2893309593200684, -3.0343408584594727, -2.9780497550964355, -2.686424732208252, -3.9318690299987793, -4.2870965003967285, -3.187527656555176, -3.905121326446533, -3.7546188831329346, -3.6786441802978516, -1.9911673069000244, -3.7987935543060303, -2.7926676273345947, -1.5251384973526, 1.3509443998336792, 0.8846761584281921, 1.1840531826019287, 2.6459076404571533, 4.215752601623535, 2.708608388900757, 2.928537130355835, 2.7354564666748047, 2.38912296295166, 2.7762739658355713, 1.7675094604492188, 2.6139426231384277, 2.8815624713897705, 3.0001418590545654, 3.440936326980591, 3.248215913772583, 3.421135902404785, 0.727077305316925, 2.2470815181732178, 0.7667703032493591, 0.3266039490699768, 0.04148612916469574, -0.45496848225593567, 0.04008591175079346, 0.07239750772714615, -0.7329214215278625, 1.0759252309799194, -2.03039288520813, -0.2841884195804596, 1.9699492454528809, 2.5889084339141846, 2.5344021320343018, 2.0979220867156982, 2.4372963905334473, 3.0077433586120605, 3.5424113273620605, 3.1203105449676514, 3.561899185180664, 3.561753511428833, 2.789222478866577, 3.0122854709625244, 2.85369610786438, 3.5013277530670166, -1.931730031967163, -3.2273736000061035, -0.6249569058418274, -1.373331069946289, -3.2970120906829834, -2.8605945110321045, -2.698363780975342, -3.37042498588562, -1.7959216833114624, -1.368249773979187, 0.2598206102848053, -4.428804397583008, -0.6754859089851379, -1.6475220918655396, -1.7487279176712036, -1.679153561592102, -1.6863638162612915, 0.5722166299819946, -0.36808663606643677, -0.050944067537784576, 0.000572683522477746, 2.0891544818878174, 2.945502758026123, 2.9588303565979004, 3.5752291679382324, 3.643946409225464, 3.1793811321258545, 3.7965569496154785, 2.9275310039520264, 1.3950104713439941, 0.04670942947268486, -0.12697704136371613, -0.16873708367347717, -0.09460841119289398, -0.8167678713798523, -1.0068944692611694, -1.5757323503494263, -1.21205472946167, -0.5260830521583557, -0.34690576791763306, -1.0456838607788086, -2.1506097316741943, -1.2727960348129272, -1.3384056091308594, -2.5543131828308105, -1.2571585178375244, -2.792278289794922, -1.250726580619812, -1.55426824092865, 1.1961220502853394, 2.185795783996582, 2.9244606494903564, 1.8600013256072998, 1.8175734281539917, 2.1706535816192627, 1.8539434671401978, 2.6958882808685303, 2.7493791580200195, 2.9178829193115234, 3.7539703845977783, 3.8920884132385254, 3.0517218112945557, 3.482532024383545, 3.542983055114746, 4.109635353088379, 3.775320053100586, 3.8558590412139893, 3.1804981231689453, 3.2313172817230225, 3.5558271408081055, 3.6218223571777344, 0.21472954750061035, 0.2563084363937378, -2.432213306427002, 0.42746952176094055, 0.2291668802499771, 0.5286728143692017, -1.6358208656311035, -0.8362301588058472, 0.07862696796655655, -0.13173547387123108, -0.5958247184753418, -1.2021511793136597, 0.2472621500492096, 0.2906677722930908, 0.06743831932544708, 0.10055392980575562, -0.21552079916000366, -0.2612011134624481, -0.4652894139289856, -2.037637948989868, -2.8351566791534424, -3.4286158084869385, -1.8578593730926514, -1.0744518041610718, -1.06498122215271, -1.9877066612243652, -2.397301197052002, -2.2348532676696777, -1.4717100858688354, -2.6521735191345215, -3.743872880935669, -4.289377689361572, -3.4507932662963867, -2.125458240509033, -1.9828474521636963, -4.160391807556152, -3.935180425643921, -1.8814518451690674, -3.04801344871521, -4.04897403717041, -2.8279666900634766, -4.103855133056641, -2.3259057998657227, -2.192906141281128, -1.9500161409378052, -0.8983136415481567, -1.7155773639678955, -1.4184238910675049, 1.3402115106582642, -0.09385992586612701, 0.3369269073009491, 2.4246160984039307, 4.5085577964782715, 4.445313930511475, 2.454296350479126, 3.6384966373443604, 3.253235340118408, 2.1372358798980713, 2.7427120208740234, 3.5125138759613037, 2.159111976623535, 3.460782289505005, 3.6101059913635254, 3.213104248046875, 3.237367630004883, 2.816075563430786, 3.578718423843384, 3.393833637237549, 3.3519556522369385, 3.301886796951294, 2.9698643684387207, 2.5826096534729004, 4.341082572937012, 2.4202067852020264, 2.575627565383911, 2.6088356971740723, 1.9331402778625488, 1.946436882019043, 1.3776613473892212, 1.3410255908966064, 0.5992738604545593, 0.026765290647745132, 0.25389307737350464, -0.19134314358234406, -0.49930521845817566, -1.1153498888015747, -0.8832219839096069, -1.1145328283309937, -1.7153011560440063, -1.20611572265625, -1.1644412279129028, -2.166325092315674, -1.2543766498565674, -1.2464572191238403, -0.7580276131629944, -1.0046237707138062, -1.9737045764923096, -2.228440284729004, -2.0248279571533203, -1.7741057872772217, -3.3725225925445557, -2.6873891353607178, -4.012718677520752, -4.073746204376221, -2.832873821258545, -3.8832855224609375, 2.1581835746765137, 2.331113576889038, 2.8305203914642334, 4.507136821746826, 3.031567096710205, 3.873957872390747, 3.5391898155212402, 3.3452839851379395, 2.7075464725494385, 3.2329111099243164, 2.6810450553894043, 4.152379512786865, 4.12921667098999, 3.8217227458953857, 3.7965500354766846, 3.086198329925537, 4.3660478591918945]}, {\"hoverlabel\": {\"namelength\": 0}, \"hovertemplate\": \"<b>%{hovertext}</b><br><br>color=Ib<br>tsne1=%{x}<br>tsne2=%{y}<br>tsne3=%{z}\", \"hovertext\": [6.0, 8.0, 10.0, 17.0, 19.0, 20.0, 22.0, 38.0, 42.0, 44.0, 46.0, 49.0, 64.0, 66.0, 72.0, 75.0, 78.0, 80.0, 83.0, 86.0, 88.0, 97.0, 101.0, 105.0, 111.0, 112.0, 114.0, 148.0, 152.0, 153.0, 158.0, 159.0, 160.0, 163.0, 164.0, 165.0, 166.0, 170.0, 172.0, 173.0, 174.0, 185.0, 187.0, 190.0, 192.0, 193.0, 199.0, 200.0, 210.0, 254.0, 255.0, 256.0, 257.0, 258.0, 259.0, 260.0, 261.0, 263.0, 266.0, 272.0, 278.0, 279.0, 292.0, 295.0, 299.0, 300.0, 301.0, 305.0, 312.0, 320.0, 326.0, 336.0, 339.0, 343.0, 345.0, 346.0, 347.0, 348.0, 349.0, 354.0, 357.0, 360.0, 366.0, 376.0, 387.0, 389.0, 392.0, 393.0, 395.0, 396.0, 400.0, 402.0, 403.0, 406.0, 408.0, 409.0, 414.0, 418.0, 432.0, 442.0, 444.0, 472.0, 482.0, 484.0, 489.0, 514.0, 516.0, 519.0, 524.0, 525.0, 526.0, 529.0, 530.0, 531.0, 534.0, 568.0, 657.0, 666.0, 700.0], \"legendgroup\": \"color=Ib\", \"marker\": {\"color\": \"gold\", \"opacity\": 0.5, \"symbol\": \"circle\"}, \"mode\": \"markers\", \"name\": \"color=Ib\", \"scene\": \"scene\", \"showlegend\": true, \"type\": \"scatter3d\", \"x\": [-2.2678444385528564, -1.9492536783218384, -2.2710750102996826, -0.48263949155807495, 0.71494060754776, 2.9112470149993896, -0.623587965965271, 2.2209794521331787, -1.9074307680130005, 0.3509960472583771, -1.2203387022018433, 1.2321430444717407, -0.6526381969451904, 1.1522502899169922, -1.0779930353164673, -1.4978883266448975, -2.8008999824523926, -2.0242745876312256, 0.03542627766728401, -0.9490433931350708, -0.31203165650367737, -0.4717516005039215, 0.6285374760627747, 0.9114375710487366, 1.153538703918457, -0.033911000937223434, 1.0088728666305542, -1.2557352781295776, -4.305081367492676, -3.9870471954345703, -2.327100992202759, -1.9306427240371704, -2.189108371734619, 1.3072384595870972, 0.8095812201499939, 1.582122564315796, -1.3731162548065186, 1.6096115112304688, -1.3672679662704468, -1.2807283401489258, 1.0399070978164673, -0.7779045104980469, -0.5231424570083618, -0.6519448161125183, -0.5792403817176819, 0.05898933857679367, 2.162616014480591, 0.02087218128144741, -0.37651950120925903, -2.4025466442108154, -2.1065378189086914, -1.928924322128296, -2.6473522186279297, -2.152042865753174, -2.046386480331421, 1.5409440994262695, -1.635274052619934, -1.1972473859786987, -1.0378060340881348, -0.20162275433540344, -0.0901552066206932, -0.0728093832731247, 1.887024998664856, -0.5536494851112366, -0.6977090239524841, -0.5242113471031189, -0.8203129172325134, -0.08450198173522949, -1.6322284936904907, -0.008578850887715816, -0.3080485463142395, -3.2179203033447266, -2.1207354068756104, 0.686598539352417, 0.6089837551116943, 1.5205481052398682, -1.1337065696716309, -1.2177016735076904, 1.353135108947754, -0.7072867155075073, -0.5585947632789612, 1.1417820453643799, 1.9838167428970337, 1.6911534070968628, -1.0190881490707397, -2.734189748764038, -0.5798212885856628, -1.066730260848999, -0.44152867794036865, -0.9007941484451294, -1.3750547170639038, -1.4527877569198608, -1.2899072170257568, 0.06664188206195831, -1.4637821912765503, -1.365060806274414, -0.6509773135185242, 0.6518268585205078, 0.2295033186674118, -1.5443910360336304, -1.2401750087738037, -1.1010457277297974, 0.16640251874923706, -0.5398533940315247, 0.20025241374969482, -3.153517484664917, -3.299830198287964, -3.120962619781494, -1.7997196912765503, -1.8979912996292114, -2.71671462059021, -1.440480351448059, -0.7639429569244385, -0.4782256782054901, 0.4671926200389862, -1.4668552875518799, 1.6239575147628784, -1.056933879852295, -1.1791446208953857], \"y\": [2.4125518798828125, 2.2094547748565674, 3.723271131515503, 4.159554481506348, 4.8835978507995605, 4.512526512145996, 3.4127042293548584, 2.36824107170105, 1.5647807121276855, 4.998541355133057, 3.144512414932251, 1.097520112991333, 3.9866466522216797, 2.4959518909454346, 0.7697402238845825, 1.5403028726577759, 2.958312749862671, 3.9078712463378906, 4.521912097930908, 4.130792140960693, 3.870208978652954, 2.632246494293213, 4.563226699829102, 3.177173614501953, 2.9959497451782227, 3.110543727874756, 3.505455493927002, -0.2328760027885437, 1.0309923887252808, 1.1644883155822754, 2.7893214225769043, 3.175884962081909, 3.468646287918091, 4.333197593688965, 4.429014205932617, 4.297073841094971, 1.016165018081665, 4.202143669128418, 3.961548089981079, 4.126646995544434, 4.413585662841797, 2.5653915405273438, 2.935009479522705, 2.5509068965911865, 2.43365478515625, 3.3638341426849365, 3.834672212600708, 5.082427501678467, -0.15882077813148499, 2.362698554992676, 3.029395818710327, 2.9132561683654785, 2.08445405960083, 1.9405169486999512, 3.622689962387085, 4.284890651702881, 2.8526546955108643, 1.669485092163086, 3.0202784538269043, 3.770521402359009, 4.117311477661133, 4.738994121551514, 3.2934799194335938, 3.3876919746398926, 3.410159111022949, 2.0261294841766357, 2.2632718086242676, 1.662649393081665, 1.0021392107009888, -0.8127296566963196, -0.940214991569519, 1.4570090770721436, 0.5788232088088989, 5.438290596008301, 5.475024700164795, 3.4952189922332764, 3.7595860958099365, 2.8166325092315674, 0.018345676362514496, 4.091658592224121, 3.9250528812408447, 5.472496509552002, 3.499925136566162, 0.4902971386909485, 3.0940701961517334, 0.6649630069732666, 2.961613893508911, 4.577880859375, 1.3013113737106323, 3.514176368713379, 3.596755266189575, 3.7190921306610107, 3.9240827560424805, 5.2226409912109375, 4.893083572387695, 5.007089614868164, 5.585581302642822, 1.203747272491455, 1.1538735628128052, 0.6106504797935486, -1.772031307220459, 3.330526828765869, 4.827374458312988, 3.193307876586914, 2.3780012130737305, -2.654330253601074, -3.163756847381592, -2.3977596759796143, 1.0864073038101196, 1.475386619567871, 1.0530750751495361, 4.367606163024902, 4.052949905395508, 5.217015266418457, 6.044793605804443, -0.4938620328903198, 2.10884428024292, -0.14596916735172272, 5.63751745223999], \"z\": [-1.3225209712982178, -1.1035634279251099, -1.15280282497406, 0.6603279709815979, 0.7399851083755493, 0.12118278443813324, 0.9243067502975464, 3.115978956222534, 2.7327215671539307, -0.6870523691177368, -0.774576723575592, 1.5144239664077759, 2.860119104385376, 3.4852547645568848, -0.9773845672607422, -0.872018575668335, -2.5498850345611572, -1.2581223249435425, -1.8658429384231567, -0.7075303792953491, -0.0638943761587143, 1.4091156721115112, 1.3398118019104004, 2.799647331237793, 2.6189308166503906, 2.6496541500091553, 2.5970520973205566, -1.6613694429397583, -1.1908414363861084, -1.3432106971740723, -1.3855535984039307, -1.3918155431747437, -1.6331779956817627, -2.0924789905548096, -2.013084650039673, -2.014728546142578, -1.1908413171768188, -1.9290235042572021, -0.9998294711112976, -1.1335642337799072, -1.8641891479492188, 0.44346949458122253, 0.49620094895362854, 0.6412773728370667, 0.8083593249320984, 0.4989459812641144, 1.8170545101165771, 2.1696622371673584, -0.2456493228673935, -1.8350322246551514, -1.5523579120635986, -1.77406644821167, -1.8488869667053223, -1.6588032245635986, -1.414881706237793, -1.8742715120315552, -1.2326618432998657, -0.7631016969680786, -1.5798351764678955, 1.666904330253601, 3.1086158752441406, 2.3712637424468994, 2.4527549743652344, 2.5241785049438477, 1.7823864221572876, 2.5330967903137207, 2.6949994564056396, 2.423943519592285, 2.4508960247039795, -0.7030419111251831, -2.211200475692749, -1.9499237537384033, -1.9419184923171997, -1.6195342540740967, -0.7914740443229675, -0.5410491228103638, -0.03694050759077072, -0.38743263483047485, 1.8196414709091187, 2.9160561561584473, 2.770446538925171, 3.3662168979644775, 3.252967357635498, 2.432126998901367, -2.154489040374756, -1.0179415941238403, -1.6322811841964722, -1.6706764698028564, -1.219995379447937, -1.9271507263183594, -2.652747869491577, -2.734010696411133, -2.413620948791504, -0.8510737419128418, -1.5597151517868042, -0.7035356760025024, 0.4120175838470459, 2.0317745208740234, 2.5068273544311523, -2.814028739929199, -1.5740891695022583, -2.00750732421875, 2.7476210594177246, 3.3265726566314697, 3.439779758453369, -2.3825371265411377, -2.0067710876464844, -2.250627279281616, -2.910609245300293, -3.069990634918213, -1.1147079467773438, -2.67224383354187, -2.054161310195923, -1.5619637966156006, 1.385507345199585, 0.1848437637090683, 4.74472188949585, -0.1691828966140747, -0.7420907616615295]}, {\"hoverlabel\": {\"namelength\": 0}, \"hovertemplate\": \"<b>%{hovertext}</b><br><br>color=II<br>tsne1=%{x}<br>tsne2=%{y}<br>tsne3=%{z}\", \"hovertext\": [7.0, 14.0, 15.0, 16.0, 21.0, 23.0, 24.0, 30.0, 32.0, 40.0, 47.0, 48.0, 52.0, 53.0, 55.0, 56.0, 59.0, 63.0, 65.0, 73.0, 77.0, 82.0, 84.0, 85.0, 87.0, 89.0, 91.0, 96.0, 100.0, 102.0, 103.0, 110.0, 115.0, 116.0, 118.0, 120.0, 121.0, 122.0, 126.0, 128.0, 134.0, 145.0, 149.0, 150.0, 151.0, 154.0, 157.0, 169.0, 175.0, 177.0, 181.0, 182.0, 183.0, 184.0, 186.0, 189.0, 191.0, 194.0, 197.0, 198.0, 202.0, 206.0, 207.0, 211.0, 212.0, 218.0, 251.0, 264.0, 269.0, 270.0, 274.0, 275.0, 277.0, 294.0, 296.0, 297.0, 298.0, 304.0, 310.0, 311.0, 338.0, 344.0, 353.0, 356.0, 368.0, 374.0, 377.0, 386.0, 388.0, 390.0, 391.0, 398.0, 401.0, 405.0, 410.0, 412.0, 415.0, 416.0, 425.0, 433.0, 434.0, 435.0, 436.0, 443.0, 447.0, 448.0, 449.0, 461.0, 462.0, 467.0, 468.0, 469.0, 470.0, 471.0, 473.0, 474.0, 475.0, 476.0, 477.0, 478.0, 480.0, 485.0, 492.0, 493.0, 495.0, 497.0, 512.0, 515.0, 518.0, 527.0, 528.0, 532.0, 533.0, 537.0, 544.0, 556.0, 557.0, 560.0, 562.0, 563.0, 564.0, 565.0, 567.0, 613.0, 614.0, 615.0, 616.0, 617.0, 618.0, 620.0, 621.0, 624.0, 625.0, 628.0, 633.0, 647.0, 653.0, 654.0, 655.0, 667.0, 668.0, 669.0, 672.0, 679.0, 697.0, 698.0, 701.0, 710.0, 712.0, 713.0, 714.0, 716.0, 717.0], \"legendgroup\": \"color=II\", \"marker\": {\"color\": \"darkgreen\", \"opacity\": 0.5, \"symbol\": \"circle\"}, \"mode\": \"markers\", \"name\": \"color=II\", \"scene\": \"scene\", \"showlegend\": true, \"type\": \"scatter3d\", \"x\": [-2.8713393211364746, 0.9517093896865845, -0.8482345342636108, 1.297859787940979, 1.6528279781341553, -0.1603630781173706, -0.7821508049964905, 2.5740771293640137, 0.5830427408218384, -2.0615956783294678, -0.4849533140659332, 1.6881142854690552, 0.4624082148075104, -0.033559467643499374, 2.0412092208862305, 3.1041676998138428, 3.444014310836792, 1.4981626272201538, 2.636474132537842, -1.692144513130188, -2.8142848014831543, 0.6041982769966125, -0.7926084399223328, -1.0962151288986206, 1.3681640625, -0.32208579778671265, 0.40981990098953247, 0.5965633392333984, 0.9744301438331604, 1.2329566478729248, 1.7744786739349365, 3.753509283065796, -0.35677632689476013, 0.15515178442001343, 0.6492761969566345, -0.5487841963768005, 0.7013524174690247, 0.692033588886261, -0.5639615058898926, -0.7815626859664917, 1.1859846115112305, -0.46671974658966064, -2.712749481201172, -2.967423439025879, -2.6467459201812744, -4.205448150634766, -4.214016437530518, -4.447626113891602, 0.5999503135681152, 0.22573348879814148, -1.3546658754348755, -2.05429744720459, -1.2260844707489014, -1.0309479236602783, 0.49557164311408997, -0.9322986006736755, -0.486187607049942, 0.9478839039802551, 1.4615166187286377, 0.031344443559646606, 2.001836061477661, 2.423292398452759, -0.34526386857032776, 0.07926636189222336, -0.27293694019317627, -0.4494690001010895, -1.9692511558532715, -1.0062401294708252, -0.47009533643722534, -0.7571461796760559, -0.3596193492412567, 0.03570621460676193, 0.4760608375072479, -0.2828301787376404, -1.0148967504501343, -0.5492562055587769, -0.36968180537223816, -0.7629180550575256, -0.9438871741294861, -1.4961762428283691, -0.4406396150588989, 1.0228925943374634, 2.551891803741455, -0.8028193712234497, 1.019567847251892, 0.25687265396118164, 0.7372035384178162, 0.2127191722393036, -1.2921302318572998, -0.8773691654205322, -0.8883509039878845, -1.4995530843734741, -0.9858051538467407, -0.24414490163326263, 0.4101784825325012, -0.5040665864944458, 0.15822574496269226, -0.8017969727516174, 0.0852898433804512, -0.04935124143958092, 0.376132994890213, -0.07538137584924698, -1.9808204174041748, -0.9907246828079224, 0.2876272201538086, -1.2119251489639282, -1.4344875812530518, -1.9976986646652222, -0.1580938845872879, -4.2704243659973145, -0.6580422520637512, -0.540553867816925, -0.46189603209495544, 0.03390916436910629, -0.7637964487075806, -0.0890389010310173, -0.7178795337677002, 0.21555593609809875, 0.7642309069633484, -0.5599649548530579, 0.9906833171844482, -0.12858179211616516, -0.049500271677970886, 0.10292436927556992, -0.6991421580314636, -1.57734215259552, -2.788642406463623, -3.379143714904785, -1.657896876335144, -0.3374815285205841, -1.574910044670105, 0.0071777040138840675, 0.1728842556476593, -1.1965315341949463, -0.009334544651210308, 1.0738396644592285, 0.8047823905944824, 3.706010341644287, -0.025847122073173523, -0.43219056725502014, -0.09688316285610199, -1.0577055215835571, -1.416566014289856, -2.9463348388671875, -2.2529282569885254, -3.0330252647399902, -1.8507705926895142, -1.9344481229782104, -2.6575334072113037, -1.0315301418304443, -0.7407116889953613, -1.5286439657211304, -1.2904093265533447, 0.9052550196647644, 1.4288830757141113, -0.8102218508720398, -0.1693873554468155, -0.995109498500824, -0.407495379447937, -1.143100619316101, -1.2778396606445312, -1.7999180555343628, -1.2610926628112793, -3.7609128952026367, -1.0770682096481323, -1.4970906972885132, 1.7736945152282715, 3.9453964233398438, 2.501473903656006, 3.3314032554626465, 3.0743813514709473, 0.34989598393440247, -0.09573011100292206], \"y\": [3.883352756500244, 2.939668655395508, 2.9165351390838623, 4.236690521240234, 2.941741704940796, 1.6496492624282837, 3.8407137393951416, 3.0758140087127686, 2.726623296737671, 0.8712992668151855, 0.5464832186698914, 1.3842449188232422, 3.543219566345215, 4.685479640960693, 1.9178563356399536, 3.2164323329925537, 2.711117744445801, 2.2401037216186523, 0.17852230370044708, 1.9735108613967896, 2.5540597438812256, 5.468014240264893, 0.6747027635574341, 2.142345905303955, -0.4852713346481323, 4.284664630889893, 3.848240852355957, 4.225036144256592, 4.638138294219971, 1.0360174179077148, 2.2657337188720703, 3.430588483810425, 3.4114162921905518, -0.3187252879142761, 2.371457576751709, 2.521562099456787, 1.237684965133667, -0.7300553321838379, -1.2014604806900024, -4.501129627227783, -2.8780417442321777, -1.7843891382217407, 0.34295445680618286, 0.5759979486465454, 0.034407589584589005, 1.038690447807312, 0.8923258185386658, 0.7489867806434631, 4.480915546417236, 4.317514419555664, 3.673316478729248, 1.1082278490066528, 3.6257400512695312, 4.269163131713867, -0.46434688568115234, 4.780747890472412, 2.449246883392334, 2.465007781982422, 3.697167158126831, 5.002784252166748, 3.6105856895446777, 2.1324849128723145, 2.7871999740600586, -2.4542431831359863, -2.266570806503296, -1.9643688201904297, -0.17678433656692505, 3.2610068321228027, 1.8141069412231445, 4.552647113800049, 4.9712982177734375, 5.081092357635498, 0.5210474133491516, 1.8158749341964722, 3.647609233856201, 2.521223306655884, 2.206188201904297, 1.3341565132141113, 1.3916693925857544, 0.9117248058319092, -0.5964234471321106, 5.328596115112305, 4.23642635345459, 3.0068960189819336, 3.5820438861846924, 2.3326799869537354, 1.8751739263534546, 4.800034999847412, 2.96242094039917, 2.790384292602539, 2.35904598236084, 4.037204742431641, 2.8013763427734375, 2.588728427886963, 1.8554388284683228, 4.760765075683594, 5.897430419921875, 5.057747840881348, 2.613015651702881, 1.3483078479766846, -0.07120143622159958, -0.45511987805366516, -6.230461597442627, -1.8298532962799072, -1.7455569505691528, -0.08631256222724915, 0.06715713441371918, 2.1364541053771973, 4.03451681137085, 0.6932148337364197, 3.597745895385742, 4.802860260009766, 5.04806661605835, 2.383495569229126, 2.280078172683716, 5.512054920196533, 3.647771120071411, 5.5175628662109375, -1.8401225805282593, 4.833188533782959, 0.4284299612045288, 0.5096365809440613, 0.8325217366218567, -0.48335808515548706, 0.4505666196346283, -1.8736052513122559, -1.5677334070205688, -3.205768346786499, -0.6985588669776917, 2.2435243129730225, 4.008769989013672, 5.627040863037109, 5.793661117553711, 4.880578517913818, 2.4494659900665283, 3.756260395050049, 3.8818657398223877, 4.0694966316223145, 2.537677049636841, 0.8429141640663147, -0.6664360165596008, 0.19005584716796875, -0.4200282394886017, 0.09458515793085098, 0.8569342494010925, -4.029684066772461, 2.107140064239502, 2.738020181655884, 1.8388209342956543, 3.5892417430877686, 1.1325732469558716, 4.383440017700195, 3.9358606338500977, 5.937393665313721, 5.659533977508545, 4.743277072906494, 0.2625700831413269, -0.7675607800483704, 0.3458191156387329, -0.09953688830137253, -0.6221352219581604, -0.6949658393859863, -0.3352198302745819, -3.748932123184204, 5.096184730529785, 4.713122844696045, 1.2479972839355469, -1.3690252304077148, 4.604732036590576, 4.271316051483154, 4.011895179748535, 0.21759970486164093, 1.794048547744751], \"z\": [-1.4975937604904175, -0.10841812938451767, -0.7786781787872314, -0.8546669483184814, 1.6991621255874634, 1.4307016134262085, 1.3581632375717163, 2.0719969272613525, 3.49183988571167, 2.843512535095215, 1.2724194526672363, 1.1975229978561401, 2.234541416168213, 2.4661598205566406, 2.615692377090454, 2.4206268787384033, 2.647434949874878, 3.6868748664855957, 4.091729164123535, -1.2648582458496094, -2.91261887550354, -1.1608141660690308, -0.8815385699272156, -0.8503783345222473, 0.831373393535614, -0.4512023329734802, -0.13042497634887695, 0.7512794733047485, 1.0851588249206543, 1.6141178607940674, 2.8951656818389893, 2.1303279399871826, 2.691857099533081, 2.6961829662323, 2.2481400966644287, 2.3685944080352783, 1.7309260368347168, 2.127840757369995, -0.9215018153190613, -3.0997769832611084, -0.8709317445755005, -1.369361400604248, -2.597810983657837, -2.361759662628174, -2.1353933811187744, -1.023400068283081, -0.9881402850151062, -0.8038510084152222, -1.7567447423934937, -1.4123591184616089, -1.0271669626235962, -0.19413937628269196, -0.9506596922874451, -0.7331192493438721, 1.4210398197174072, -0.41545921564102173, 0.7120266556739807, 0.891673743724823, 1.594786524772644, 2.1853792667388916, 2.213608741760254, 3.3086562156677246, 2.366074562072754, -1.4272921085357666, -1.9037107229232788, -2.140465021133423, -2.530216932296753, -1.5949974060058594, -0.3891172409057617, -0.6977993845939636, 1.8428869247436523, 1.5342673063278198, 2.8519046306610107, 2.37376070022583, 2.7993826866149902, 2.660649538040161, 2.860797166824341, 1.5607578754425049, 2.459700584411621, 2.84090256690979, -2.455749273300171, -0.49923068284988403, 0.9991118311882019, 3.0345699787139893, 2.936436414718628, 2.9643468856811523, 2.780439615249634, -2.2550289630889893, -2.712155342102051, -3.0703439712524414, -2.9471564292907715, -2.5195446014404297, -2.2668168544769287, -0.777026891708374, -0.47620323300361633, -0.029826849699020386, 0.8666821122169495, 0.6605177521705627, 3.3039870262145996, 3.3624107837677, 2.5691819190979004, 2.3465089797973633, -2.8755128383636475, -1.4596495628356934, -1.2125356197357178, -1.7807104587554932, -1.6975430250167847, -2.600459337234497, -2.7362446784973145, -0.8869359493255615, -2.1427271366119385, -1.6293846368789673, -1.3922603130340576, -1.2422418594360352, -1.8668009042739868, -1.2791436910629272, -1.7324252128601074, 0.6396734118461609, 2.780210494995117, 0.5341880917549133, 2.313124656677246, 2.709322214126587, 2.5998477935791016, 2.1192221641540527, 1.5221693515777588, 0.17893290519714355, -1.019016146659851, -1.9634425640106201, -1.9755995273590088, -2.4587621688842773, -2.8748528957366943, -1.1267074346542358, -1.0640894174575806, 0.2639325261116028, 3.3664138317108154, 3.2868595123291016, 3.268537759780884, 2.122042179107666, 3.825259208679199, 1.6269642114639282, 1.9001340866088867, 0.5830555558204651, 0.31196025013923645, -3.3215479850769043, -2.9635651111602783, -2.860790491104126, -2.931777238845825, -2.9249331951141357, -2.074598550796509, -2.1839542388916016, -1.6535900831222534, -2.603778839111328, -2.416012763977051, -0.45036786794662476, 1.496813416481018, 1.6008319854736328, 2.598109722137451, 2.340184450149536, 1.8630653619766235, 0.03819121792912483, 0.28908035159111023, 0.9498472809791565, -0.5548556447029114, -1.234300971031189, -1.4254257678985596, -2.3014845848083496, 3.86712908744812, 3.287015438079834, 3.157832622528076, 3.433913230895996, 3.681126594543457, 3.760025978088379, 3.7047998905181885]}, {\"hoverlabel\": {\"namelength\": 0}, \"hovertemplate\": \"<b>%{hovertext}</b><br><br>color=Ia<br>tsne1=%{x}<br>tsne2=%{y}<br>tsne3=%{z}\", \"hovertext\": [9.0, 41.0, 70.0, 74.0, 76.0, 90.0, 95.0, 113.0, 124.0, 125.0, 161.0, 162.0, 167.0, 168.0, 176.0, 180.0, 205.0, 220.0, 221.0, 222.0, 223.0, 224.0, 225.0, 226.0, 227.0, 228.0, 229.0, 230.0, 253.0, 271.0, 285.0, 335.0, 375.0, 394.0, 411.0, 445.0, 522.0, 523.0], \"legendgroup\": \"color=Ia\", \"marker\": {\"color\": \"cyan\", \"opacity\": 0.5, \"symbol\": \"circle\"}, \"mode\": \"markers\", \"name\": \"color=Ia\", \"scene\": \"scene\", \"showlegend\": true, \"type\": \"scatter3d\", \"x\": [-2.268200159072876, -1.4384410381317139, -0.8631981015205383, -3.7300853729248047, -2.0745089054107666, 0.2352454513311386, -1.2679754495620728, -0.49334532022476196, -0.4636300206184387, -0.31071996688842773, -2.5486395359039307, -4.109328269958496, -2.112169027328491, -1.8523579835891724, 0.24467375874519348, -1.4151116609573364, 3.7848289012908936, -1.2324005365371704, -0.5160526037216187, -0.7720959782600403, -0.21935398876667023, 0.9013335704803467, -0.2175777703523636, -0.1883646845817566, -0.13352619111537933, -0.20841822028160095, -0.40713897347450256, -0.9073954820632935, -2.2791635990142822, 0.08436821401119232, -0.20821459591388702, -3.5608696937561035, -1.3251842260360718, -0.4850709140300751, -0.2921160161495209, -1.4744402170181274, -1.8770724534988403, -1.6591445207595825], \"y\": [3.317394971847534, 1.7529022693634033, 3.510006904602051, 1.8564215898513794, 2.9332668781280518, 4.992257118225098, 1.830782413482666, 3.030985116958618, -0.1122443899512291, -0.06742880493402481, 3.6143364906311035, 1.8446428775787354, 2.8684558868408203, 4.1363348960876465, 4.94943380355835, 3.7600257396698, -0.04288043826818466, -5.718216419219971, -3.483194351196289, -5.988471508026123, -3.140664577484131, -4.482577800750732, -2.4614999294281006, -3.0484731197357178, -3.162386417388916, -3.4042904376983643, -3.3892757892608643, -4.05109167098999, 1.9006067514419556, 5.181799411773682, 4.717259407043457, 1.4612196683883667, 2.759678840637207, 5.161611080169678, 3.6448938846588135, -1.1500988006591797, 1.8700131177902222, 1.1473407745361328], \"z\": [-1.2301963567733765, 2.8986129760742188, 3.3772425651550293, -1.6367110013961792, -1.2148034572601318, -0.7947659492492676, 2.1900923252105713, 3.1710171699523926, 0.028281332924962044, -0.28079167008399963, -2.2350919246673584, -1.3634611368179321, -1.5895240306854248, -1.454254388809204, -1.5603954792022705, -0.5889289975166321, 4.143299579620361, -2.327047824859619, -1.063386082649231, -1.3303682804107666, -1.3740578889846802, -0.2106299102306366, -1.8850709199905396, -3.064173460006714, -1.5587055683135986, -2.875174045562744, -2.027022123336792, -2.501126766204834, -1.7778434753417969, -0.7410880327224731, 2.442548990249634, -1.777970790863037, 2.264554500579834, -0.1425483077764511, -1.4738205671310425, -1.9626349210739136, -2.9530670642852783, -2.827439308166504]}],\n",
              "                        {\"legend\": {\"tracegroupgap\": 0}, \"margin\": {\"t\": 60}, \"scene\": {\"domain\": {\"x\": [0.0, 1.0], \"y\": [0.0, 1.0]}, \"xaxis\": {\"title\": {\"text\": \"tsne1\"}}, \"yaxis\": {\"title\": {\"text\": \"tsne2\"}}, \"zaxis\": {\"title\": {\"text\": \"tsne3\"}}}, \"template\": {\"data\": {\"bar\": [{\"error_x\": {\"color\": \"#2a3f5f\"}, \"error_y\": {\"color\": \"#2a3f5f\"}, \"marker\": {\"line\": {\"color\": \"#E5ECF6\", \"width\": 0.5}}, \"type\": \"bar\"}], \"barpolar\": [{\"marker\": {\"line\": {\"color\": \"#E5ECF6\", \"width\": 0.5}}, \"type\": \"barpolar\"}], \"carpet\": [{\"aaxis\": {\"endlinecolor\": \"#2a3f5f\", \"gridcolor\": \"white\", \"linecolor\": \"white\", \"minorgridcolor\": \"white\", \"startlinecolor\": \"#2a3f5f\"}, \"baxis\": {\"endlinecolor\": \"#2a3f5f\", \"gridcolor\": \"white\", \"linecolor\": \"white\", \"minorgridcolor\": \"white\", \"startlinecolor\": \"#2a3f5f\"}, \"type\": \"carpet\"}], \"choropleth\": [{\"colorbar\": {\"outlinewidth\": 0, \"ticks\": \"\"}, \"type\": \"choropleth\"}], \"contour\": [{\"colorbar\": {\"outlinewidth\": 0, \"ticks\": \"\"}, \"colorscale\": [[0.0, \"#0d0887\"], [0.1111111111111111, \"#46039f\"], [0.2222222222222222, \"#7201a8\"], [0.3333333333333333, \"#9c179e\"], [0.4444444444444444, \"#bd3786\"], [0.5555555555555556, \"#d8576b\"], [0.6666666666666666, \"#ed7953\"], [0.7777777777777778, \"#fb9f3a\"], [0.8888888888888888, \"#fdca26\"], [1.0, \"#f0f921\"]], \"type\": \"contour\"}], \"contourcarpet\": [{\"colorbar\": {\"outlinewidth\": 0, \"ticks\": \"\"}, \"type\": \"contourcarpet\"}], \"heatmap\": [{\"colorbar\": {\"outlinewidth\": 0, \"ticks\": \"\"}, \"colorscale\": [[0.0, \"#0d0887\"], [0.1111111111111111, \"#46039f\"], [0.2222222222222222, \"#7201a8\"], [0.3333333333333333, \"#9c179e\"], [0.4444444444444444, \"#bd3786\"], [0.5555555555555556, \"#d8576b\"], [0.6666666666666666, \"#ed7953\"], [0.7777777777777778, \"#fb9f3a\"], [0.8888888888888888, \"#fdca26\"], [1.0, \"#f0f921\"]], \"type\": \"heatmap\"}], \"heatmapgl\": [{\"colorbar\": {\"outlinewidth\": 0, \"ticks\": \"\"}, \"colorscale\": [[0.0, \"#0d0887\"], [0.1111111111111111, \"#46039f\"], [0.2222222222222222, \"#7201a8\"], [0.3333333333333333, \"#9c179e\"], [0.4444444444444444, \"#bd3786\"], [0.5555555555555556, \"#d8576b\"], [0.6666666666666666, \"#ed7953\"], [0.7777777777777778, \"#fb9f3a\"], [0.8888888888888888, \"#fdca26\"], [1.0, \"#f0f921\"]], \"type\": \"heatmapgl\"}], \"histogram\": [{\"marker\": {\"colorbar\": {\"outlinewidth\": 0, \"ticks\": \"\"}}, \"type\": \"histogram\"}], \"histogram2d\": [{\"colorbar\": {\"outlinewidth\": 0, \"ticks\": \"\"}, \"colorscale\": [[0.0, \"#0d0887\"], [0.1111111111111111, \"#46039f\"], [0.2222222222222222, \"#7201a8\"], [0.3333333333333333, \"#9c179e\"], [0.4444444444444444, \"#bd3786\"], [0.5555555555555556, \"#d8576b\"], [0.6666666666666666, \"#ed7953\"], [0.7777777777777778, \"#fb9f3a\"], [0.8888888888888888, \"#fdca26\"], [1.0, \"#f0f921\"]], \"type\": \"histogram2d\"}], \"histogram2dcontour\": [{\"colorbar\": {\"outlinewidth\": 0, \"ticks\": \"\"}, \"colorscale\": [[0.0, \"#0d0887\"], [0.1111111111111111, \"#46039f\"], [0.2222222222222222, \"#7201a8\"], [0.3333333333333333, \"#9c179e\"], [0.4444444444444444, \"#bd3786\"], [0.5555555555555556, \"#d8576b\"], [0.6666666666666666, \"#ed7953\"], [0.7777777777777778, \"#fb9f3a\"], [0.8888888888888888, \"#fdca26\"], [1.0, \"#f0f921\"]], \"type\": \"histogram2dcontour\"}], \"mesh3d\": [{\"colorbar\": {\"outlinewidth\": 0, \"ticks\": \"\"}, \"type\": \"mesh3d\"}], \"parcoords\": [{\"line\": {\"colorbar\": {\"outlinewidth\": 0, \"ticks\": \"\"}}, \"type\": \"parcoords\"}], \"pie\": [{\"automargin\": true, \"type\": \"pie\"}], \"scatter\": [{\"marker\": {\"colorbar\": {\"outlinewidth\": 0, \"ticks\": \"\"}}, \"type\": \"scatter\"}], \"scatter3d\": [{\"line\": {\"colorbar\": {\"outlinewidth\": 0, \"ticks\": \"\"}}, \"marker\": {\"colorbar\": {\"outlinewidth\": 0, \"ticks\": \"\"}}, \"type\": \"scatter3d\"}], \"scattercarpet\": [{\"marker\": {\"colorbar\": {\"outlinewidth\": 0, \"ticks\": \"\"}}, \"type\": \"scattercarpet\"}], \"scattergeo\": [{\"marker\": {\"colorbar\": {\"outlinewidth\": 0, \"ticks\": \"\"}}, \"type\": \"scattergeo\"}], \"scattergl\": [{\"marker\": {\"colorbar\": {\"outlinewidth\": 0, \"ticks\": \"\"}}, \"type\": \"scattergl\"}], \"scattermapbox\": [{\"marker\": {\"colorbar\": {\"outlinewidth\": 0, \"ticks\": \"\"}}, \"type\": \"scattermapbox\"}], \"scatterpolar\": [{\"marker\": {\"colorbar\": {\"outlinewidth\": 0, \"ticks\": \"\"}}, \"type\": \"scatterpolar\"}], \"scatterpolargl\": [{\"marker\": {\"colorbar\": {\"outlinewidth\": 0, \"ticks\": \"\"}}, \"type\": \"scatterpolargl\"}], \"scatterternary\": [{\"marker\": {\"colorbar\": {\"outlinewidth\": 0, \"ticks\": \"\"}}, \"type\": \"scatterternary\"}], \"surface\": [{\"colorbar\": {\"outlinewidth\": 0, \"ticks\": \"\"}, \"colorscale\": [[0.0, \"#0d0887\"], [0.1111111111111111, \"#46039f\"], [0.2222222222222222, \"#7201a8\"], [0.3333333333333333, \"#9c179e\"], [0.4444444444444444, \"#bd3786\"], [0.5555555555555556, \"#d8576b\"], [0.6666666666666666, \"#ed7953\"], [0.7777777777777778, \"#fb9f3a\"], [0.8888888888888888, \"#fdca26\"], [1.0, \"#f0f921\"]], \"type\": \"surface\"}], \"table\": [{\"cells\": {\"fill\": {\"color\": \"#EBF0F8\"}, \"line\": {\"color\": \"white\"}}, \"header\": {\"fill\": {\"color\": \"#C8D4E3\"}, \"line\": {\"color\": \"white\"}}, \"type\": \"table\"}]}, \"layout\": {\"annotationdefaults\": {\"arrowcolor\": \"#2a3f5f\", \"arrowhead\": 0, \"arrowwidth\": 1}, \"coloraxis\": {\"colorbar\": {\"outlinewidth\": 0, \"ticks\": \"\"}}, \"colorscale\": {\"diverging\": [[0, \"#8e0152\"], [0.1, \"#c51b7d\"], [0.2, \"#de77ae\"], [0.3, \"#f1b6da\"], [0.4, \"#fde0ef\"], [0.5, \"#f7f7f7\"], [0.6, \"#e6f5d0\"], [0.7, \"#b8e186\"], [0.8, \"#7fbc41\"], [0.9, \"#4d9221\"], [1, \"#276419\"]], \"sequential\": [[0.0, \"#0d0887\"], [0.1111111111111111, \"#46039f\"], [0.2222222222222222, \"#7201a8\"], [0.3333333333333333, \"#9c179e\"], [0.4444444444444444, \"#bd3786\"], [0.5555555555555556, \"#d8576b\"], [0.6666666666666666, \"#ed7953\"], [0.7777777777777778, \"#fb9f3a\"], [0.8888888888888888, \"#fdca26\"], [1.0, \"#f0f921\"]], \"sequentialminus\": [[0.0, \"#0d0887\"], [0.1111111111111111, \"#46039f\"], [0.2222222222222222, \"#7201a8\"], [0.3333333333333333, \"#9c179e\"], [0.4444444444444444, \"#bd3786\"], [0.5555555555555556, \"#d8576b\"], [0.6666666666666666, \"#ed7953\"], [0.7777777777777778, \"#fb9f3a\"], [0.8888888888888888, \"#fdca26\"], [1.0, \"#f0f921\"]]}, \"colorway\": [\"#636efa\", \"#EF553B\", \"#00cc96\", \"#ab63fa\", \"#FFA15A\", \"#19d3f3\", \"#FF6692\", \"#B6E880\", \"#FF97FF\", \"#FECB52\"], \"font\": {\"color\": \"#2a3f5f\"}, \"geo\": {\"bgcolor\": \"white\", \"lakecolor\": \"white\", \"landcolor\": \"#E5ECF6\", \"showlakes\": true, \"showland\": true, \"subunitcolor\": \"white\"}, \"hoverlabel\": {\"align\": \"left\"}, \"hovermode\": \"closest\", \"mapbox\": {\"style\": \"light\"}, \"paper_bgcolor\": \"white\", \"plot_bgcolor\": \"#E5ECF6\", \"polar\": {\"angularaxis\": {\"gridcolor\": \"white\", \"linecolor\": \"white\", \"ticks\": \"\"}, \"bgcolor\": \"#E5ECF6\", \"radialaxis\": {\"gridcolor\": \"white\", \"linecolor\": \"white\", \"ticks\": \"\"}}, \"scene\": {\"xaxis\": {\"backgroundcolor\": \"#E5ECF6\", \"gridcolor\": \"white\", \"gridwidth\": 2, \"linecolor\": \"white\", \"showbackground\": true, \"ticks\": \"\", \"zerolinecolor\": \"white\"}, \"yaxis\": {\"backgroundcolor\": \"#E5ECF6\", \"gridcolor\": \"white\", \"gridwidth\": 2, \"linecolor\": \"white\", \"showbackground\": true, \"ticks\": \"\", \"zerolinecolor\": \"white\"}, \"zaxis\": {\"backgroundcolor\": \"#E5ECF6\", \"gridcolor\": \"white\", \"gridwidth\": 2, \"linecolor\": \"white\", \"showbackground\": true, \"ticks\": \"\", \"zerolinecolor\": \"white\"}}, \"shapedefaults\": {\"line\": {\"color\": \"#2a3f5f\"}}, \"ternary\": {\"aaxis\": {\"gridcolor\": \"white\", \"linecolor\": \"white\", \"ticks\": \"\"}, \"baxis\": {\"gridcolor\": \"white\", \"linecolor\": \"white\", \"ticks\": \"\"}, \"bgcolor\": \"#E5ECF6\", \"caxis\": {\"gridcolor\": \"white\", \"linecolor\": \"white\", \"ticks\": \"\"}}, \"title\": {\"x\": 0.05}, \"xaxis\": {\"automargin\": true, \"gridcolor\": \"white\", \"linecolor\": \"white\", \"ticks\": \"\", \"title\": {\"standoff\": 15}, \"zerolinecolor\": \"white\", \"zerolinewidth\": 2}, \"yaxis\": {\"automargin\": true, \"gridcolor\": \"white\", \"linecolor\": \"white\", \"ticks\": \"\", \"title\": {\"standoff\": 15}, \"zerolinecolor\": \"white\", \"zerolinewidth\": 2}}}},\n",
              "                        {\"responsive\": true}\n",
              "                    ).then(function(){\n",
              "                            \n",
              "var gd = document.getElementById('b7b198f1-f128-4402-8405-e6b6be6edfa3');\n",
              "var x = new MutationObserver(function (mutations, observer) {{\n",
              "        var display = window.getComputedStyle(gd).display;\n",
              "        if (!display || display === 'none') {{\n",
              "            console.log([gd, 'removed!']);\n",
              "            Plotly.purge(gd);\n",
              "            observer.disconnect();\n",
              "        }}\n",
              "}});\n",
              "\n",
              "// Listen for the removal of the full notebook cells\n",
              "var notebookContainer = gd.closest('#notebook-container');\n",
              "if (notebookContainer) {{\n",
              "    x.observe(notebookContainer, {childList: true});\n",
              "}}\n",
              "\n",
              "// Listen for the clearing of the current output cell\n",
              "var outputEl = gd.closest('.output');\n",
              "if (outputEl) {{\n",
              "    x.observe(outputEl, {childList: true});\n",
              "}}\n",
              "\n",
              "                        })\n",
              "                };\n",
              "                \n",
              "            </script>\n",
              "        </div>\n",
              "</body>\n",
              "</html>"
            ]
          },
          "metadata": {
            "tags": []
          }
        }
      ]
    },
    {
      "cell_type": "markdown",
      "metadata": {
        "id": "Zf0ZQcX5A-Xh",
        "colab_type": "text"
      },
      "source": [
        "Split the train data into train and validation \n",
        "\n",
        "```X_train``` = training features  \n",
        "```X_test``` = validation features  \n",
        "```Y_train``` = training labels  \n",
        "```Y_test``` = validation labels  "
      ]
    },
    {
      "cell_type": "code",
      "metadata": {
        "id": "4XKd2oUSBotf",
        "colab_type": "code",
        "colab": {}
      },
      "source": [
        "X_train,X_test,Y_train,Y_test = train_test_split(npf_ica,Y,random_state=42)"
      ],
      "execution_count": 0,
      "outputs": []
    },
    {
      "cell_type": "code",
      "metadata": {
        "id": "Mla1y2mHHyLL",
        "colab_type": "code",
        "outputId": "d46d90a0-4c15-4ce2-9d40-5ae6a5c47307",
        "colab": {
          "base_uri": "https://localhost:8080/",
          "height": 34
        }
      },
      "source": [
        "X_train.shape,X_test.shape,Y_train.shape,Y_test.shape"
      ],
      "execution_count": 30,
      "outputs": [
        {
          "output_type": "execute_result",
          "data": {
            "text/plain": [
              "((543, 4), (181, 4), (543,), (181,))"
            ]
          },
          "metadata": {
            "tags": []
          },
          "execution_count": 30
        }
      ]
    },
    {
      "cell_type": "markdown",
      "metadata": {
        "id": "xJJamKEsKBP_",
        "colab_type": "text"
      },
      "source": [
        "# Try different classification models"
      ]
    },
    {
      "cell_type": "code",
      "metadata": {
        "id": "x_2BjQkcKAy2",
        "colab_type": "code",
        "colab": {}
      },
      "source": [
        "names = [\"Nearest Neighbors\", \"Linear SVM\", \"RBF SVM\", \"Gaussian Process\",\n",
        "         \"Decision Tree\", \"Random Forest\", \"Neural Net\", \"AdaBoost\",\n",
        "         \"Naive Bayes\", \"QDA\"]\n",
        "\n",
        "classifiers = [\n",
        "    KNeighborsClassifier(3),\n",
        "    SVC(kernel=\"linear\", C=0.025),\n",
        "    SVC(gamma=2, C=1),\n",
        "    GaussianProcessClassifier(1.0 * RBF(1.0)),\n",
        "    DecisionTreeClassifier(max_depth=5),\n",
        "    RandomForestClassifier(max_depth=5, n_estimators=10, max_features=1),\n",
        "    MLPClassifier(alpha=1, max_iter=1000),\n",
        "    AdaBoostClassifier(),\n",
        "    GaussianNB(),\n",
        "    QuadraticDiscriminantAnalysis()]"
      ],
      "execution_count": 0,
      "outputs": []
    },
    {
      "cell_type": "markdown",
      "metadata": {
        "id": "R_IwFcxGBHYr",
        "colab_type": "text"
      },
      "source": [
        "Use cross-validation to find the best model"
      ]
    },
    {
      "cell_type": "code",
      "metadata": {
        "id": "d8MTiBzrNpQD",
        "colab_type": "code",
        "outputId": "1c5624e7-4cee-4bdb-8bda-1ce060c4bbff",
        "colab": {
          "base_uri": "https://localhost:8080/",
          "height": 187
        }
      },
      "source": [
        "# iterate over classifiers\n",
        "for name, clf in zip(names, classifiers):\n",
        "    clf.fit(X_train, Y_train)\n",
        "    score = clf.score(X_test, Y_test)\n",
        "    print(\"%s:  %0.2f %%\" % (name,score*100))"
      ],
      "execution_count": 32,
      "outputs": [
        {
          "output_type": "stream",
          "text": [
            "Nearest Neighbors:  64.64 %\n",
            "Linear SVM:  55.25 %\n",
            "RBF SVM:  59.12 %\n",
            "Gaussian Process:  65.75 %\n",
            "Decision Tree:  61.33 %\n",
            "Random Forest:  64.09 %\n",
            "Neural Net:  61.33 %\n",
            "AdaBoost:  58.56 %\n",
            "Naive Bayes:  60.77 %\n",
            "QDA:  63.54 %\n"
          ],
          "name": "stdout"
        }
      ]
    },
    {
      "cell_type": "markdown",
      "metadata": {
        "id": "cdFqJLiNBspt",
        "colab_type": "text"
      },
      "source": [
        "Use 10-fold cross-validation to find the best model"
      ]
    },
    {
      "cell_type": "code",
      "metadata": {
        "id": "sg7M0yD6Wm9U",
        "colab_type": "code",
        "outputId": "5f8b4122-22c4-4531-d0bf-a08a5074039d",
        "colab": {
          "base_uri": "https://localhost:8080/",
          "height": 187
        }
      },
      "source": [
        "#cross validation\n",
        "# DECLARATION #\n",
        "kf = KFold(n_splits=10)\n",
        "# CODE #\n",
        "scores=[]\n",
        "# iterate over k-folds\n",
        "for train, val in kf.split(npf_pca):\n",
        "    scores_iter=[]\n",
        "    # iterate over classifiers\n",
        "    for name, clf in zip(names, classifiers):\n",
        "        clf.fit(npf_pca.iloc[train], Y[train])\n",
        "        score = clf.score(npf_pca.iloc[val], Y[val])\n",
        "        scores_iter.append(score)\n",
        "        #print(\"{}:  {}\".format(name,score))\n",
        "    scores.append(scores_iter)\n",
        "#print(scores)\n",
        "scores=np.mean(scores,axis=0)\n",
        "#print(scores)\n",
        "for name, score in zip(names, scores):\n",
        "     print(\"%s:  %0.2f %%\" % (name,score*100))"
      ],
      "execution_count": 33,
      "outputs": [
        {
          "output_type": "stream",
          "text": [
            "Nearest Neighbors:  62.87 %\n",
            "Linear SVM:  61.08 %\n",
            "RBF SVM:  57.52 %\n",
            "Gaussian Process:  68.41 %\n",
            "Decision Tree:  61.92 %\n",
            "Random Forest:  64.82 %\n",
            "Neural Net:  67.58 %\n",
            "AdaBoost:  59.70 %\n",
            "Naive Bayes:  64.81 %\n",
            "QDA:  65.21 %\n"
          ],
          "name": "stdout"
        }
      ]
    },
    {
      "cell_type": "markdown",
      "metadata": {
        "id": "5Ze8xKTsBOaZ",
        "colab_type": "text"
      },
      "source": [
        "Train the model \n",
        "\n",
        "We pick Gaussian processes "
      ]
    },
    {
      "cell_type": "code",
      "metadata": {
        "id": "9gKo1jdq-o_i",
        "colab_type": "code",
        "colab": {}
      },
      "source": [
        "model = GaussianProcessClassifier(1.0 * RBF(1.0))\n",
        "# Wanted to test also the neural net\n",
        "#model = MLPClassifier(alpha=1, max_iter=1000)   "
      ],
      "execution_count": 0,
      "outputs": []
    },
    {
      "cell_type": "markdown",
      "metadata": {
        "id": "Cv8ZAhvovh1W",
        "colab_type": "text"
      },
      "source": [
        "Fit the model"
      ]
    },
    {
      "cell_type": "code",
      "metadata": {
        "id": "x9_Hbi0biJMA",
        "colab_type": "code",
        "outputId": "cc96848d-9193-497e-b96b-035083a2d450",
        "colab": {
          "base_uri": "https://localhost:8080/",
          "height": 102
        }
      },
      "source": [
        "model.fit(npf_ica,Y)"
      ],
      "execution_count": 35,
      "outputs": [
        {
          "output_type": "execute_result",
          "data": {
            "text/plain": [
              "GaussianProcessClassifier(copy_X_train=True, kernel=1**2 * RBF(length_scale=1),\n",
              "                          max_iter_predict=100, multi_class='one_vs_rest',\n",
              "                          n_jobs=None, n_restarts_optimizer=0,\n",
              "                          optimizer='fmin_l_bfgs_b', random_state=None,\n",
              "                          warm_start=False)"
            ]
          },
          "metadata": {
            "tags": []
          },
          "execution_count": 35
        }
      ]
    },
    {
      "cell_type": "markdown",
      "metadata": {
        "id": "AkkpHtLXi5ZN",
        "colab_type": "text"
      },
      "source": [
        "Predict values for npf_test_hidden.csv  \n",
        "Using ICA transformed data"
      ]
    },
    {
      "cell_type": "code",
      "metadata": {
        "id": "feu8zwhuizTT",
        "colab_type": "code",
        "colab": {}
      },
      "source": [
        "prediction = model.predict(test_ica)\n",
        "#prediction = model.predict(npf_ica)    # this is a test\n",
        "prediction = labeler.inverse_transform(prediction)\n",
        "\n",
        "probs = model.predict_proba(test_ica)\n",
        "#probs = model.predict_proba(npf_ica)    # this is a test\n",
        "#probs = np.max(probs, axis=1) "
      ],
      "execution_count": 0,
      "outputs": []
    },
    {
      "cell_type": "code",
      "metadata": {
        "id": "bYq0eP9A8QbG",
        "colab_type": "code",
        "colab": {}
      },
      "source": [
        "# sum probabilities of event = p(1a) + p(1b) + p(2), p(nonevent) is 3rd column\n",
        "probs = np.sum(probs[:,:3], axis=1)"
      ],
      "execution_count": 0,
      "outputs": []
    },
    {
      "cell_type": "code",
      "metadata": {
        "id": "_rh-LzZcmUy2",
        "colab_type": "code",
        "colab": {}
      },
      "source": [
        "results_df = pd.DataFrame(zip(prediction,probs),columns=[\"event\",\"p_event\"])"
      ],
      "execution_count": 0,
      "outputs": []
    },
    {
      "cell_type": "code",
      "metadata": {
        "id": "coD3k3nvqxHi",
        "colab_type": "code",
        "outputId": "9e1a920c-fb83-435e-e64e-4379d44ee02d",
        "colab": {
          "base_uri": "https://localhost:8080/",
          "height": 359
        }
      },
      "source": [
        "results_df.head(10)"
      ],
      "execution_count": 45,
      "outputs": [
        {
          "output_type": "execute_result",
          "data": {
            "text/html": [
              "<div>\n",
              "<style scoped>\n",
              "    .dataframe tbody tr th:only-of-type {\n",
              "        vertical-align: middle;\n",
              "    }\n",
              "\n",
              "    .dataframe tbody tr th {\n",
              "        vertical-align: top;\n",
              "    }\n",
              "\n",
              "    .dataframe thead th {\n",
              "        text-align: right;\n",
              "    }\n",
              "</style>\n",
              "<table border=\"1\" class=\"dataframe\">\n",
              "  <thead>\n",
              "    <tr style=\"text-align: right;\">\n",
              "      <th></th>\n",
              "      <th>event</th>\n",
              "      <th>p_event</th>\n",
              "    </tr>\n",
              "  </thead>\n",
              "  <tbody>\n",
              "    <tr>\n",
              "      <th>0</th>\n",
              "      <td>nonevent</td>\n",
              "      <td>0.467028</td>\n",
              "    </tr>\n",
              "    <tr>\n",
              "      <th>1</th>\n",
              "      <td>nonevent</td>\n",
              "      <td>0.170441</td>\n",
              "    </tr>\n",
              "    <tr>\n",
              "      <th>2</th>\n",
              "      <td>nonevent</td>\n",
              "      <td>0.093543</td>\n",
              "    </tr>\n",
              "    <tr>\n",
              "      <th>3</th>\n",
              "      <td>nonevent</td>\n",
              "      <td>0.334076</td>\n",
              "    </tr>\n",
              "    <tr>\n",
              "      <th>4</th>\n",
              "      <td>nonevent</td>\n",
              "      <td>0.433850</td>\n",
              "    </tr>\n",
              "    <tr>\n",
              "      <th>5</th>\n",
              "      <td>nonevent</td>\n",
              "      <td>0.153963</td>\n",
              "    </tr>\n",
              "    <tr>\n",
              "      <th>6</th>\n",
              "      <td>nonevent</td>\n",
              "      <td>0.166439</td>\n",
              "    </tr>\n",
              "    <tr>\n",
              "      <th>7</th>\n",
              "      <td>II</td>\n",
              "      <td>0.946102</td>\n",
              "    </tr>\n",
              "    <tr>\n",
              "      <th>8</th>\n",
              "      <td>nonevent</td>\n",
              "      <td>0.058983</td>\n",
              "    </tr>\n",
              "    <tr>\n",
              "      <th>9</th>\n",
              "      <td>II</td>\n",
              "      <td>0.710914</td>\n",
              "    </tr>\n",
              "  </tbody>\n",
              "</table>\n",
              "</div>"
            ],
            "text/plain": [
              "      event   p_event\n",
              "0  nonevent  0.467028\n",
              "1  nonevent  0.170441\n",
              "2  nonevent  0.093543\n",
              "3  nonevent  0.334076\n",
              "4  nonevent  0.433850\n",
              "5  nonevent  0.153963\n",
              "6  nonevent  0.166439\n",
              "7        II  0.946102\n",
              "8  nonevent  0.058983\n",
              "9        II  0.710914"
            ]
          },
          "metadata": {
            "tags": []
          },
          "execution_count": 45
        }
      ]
    },
    {
      "cell_type": "markdown",
      "metadata": {
        "id": "n-psZgXNvyKb",
        "colab_type": "text"
      },
      "source": [
        "Print out a csv"
      ]
    },
    {
      "cell_type": "code",
      "metadata": {
        "id": "jCPu6zctuPow",
        "colab_type": "code",
        "colab": {}
      },
      "source": [
        "results_df.to_csv(\"/content/drive/My Drive/Colab Notebooks/answers.csv\",index=False)"
      ],
      "execution_count": 0,
      "outputs": []
    },
    {
      "cell_type": "code",
      "metadata": {
        "id": "z71gEpjOCmSC",
        "colab_type": "code",
        "colab": {}
      },
      "source": [
        ""
      ],
      "execution_count": 0,
      "outputs": []
    }
  ]
}