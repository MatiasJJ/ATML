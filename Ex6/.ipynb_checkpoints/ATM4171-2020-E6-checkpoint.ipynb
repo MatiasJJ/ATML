{
 "cells": [
  {
   "cell_type": "markdown",
   "metadata": {},
   "source": [
    "# Exercise Set 6\n",
    "\n",
    "Please write the name(s) of the student(s) to the answer sheet! Submission DL 19 May 9:15. The solutions will be presented in a session at noon 19 May, where you should be present (you may be asked to present your solutions)."
   ]
  },
  {
   "cell_type": "markdown",
   "metadata": {},
   "source": [
    "## Problem 1\n",
    "\n",
    "*Learning objective: familiarity with the concepts of k-means clustering*\n",
    "\n",
    "For this problem you can use the challenge dataset in file npf_train.csv. Your task is to cluster the data matrix, where the rows are given by the days and columns by various observations during that day.\n",
    "\n",
    "### Tasks\n",
    "\n",
    "* Cluster both the rows and columns of the data matrix and plot the kmeans loss as a function of the number of clusters. Do you see any differences between clustering days (rows) or variables (columns)? What effect does the normalization have? (Hint: you can use the Python code used in the lectures.)\n",
    "* Cluster the days into four clusters and make a confusion matrix (contingency table where the rows are the true classes, columns the cluster indices, and entries the counts). Order the rows and columns so that the sum of diagonal entries in your contingency table is maximized. Where are most \"errors\" made (if you would use your clusters as a classifier)? (Hint: use the Hungarian algorithm as shown in L6 to re-order the rows and columns of your contingency table.)\n"
   ]
  },
  {
   "cell_type": "markdown",
   "metadata": {},
   "source": [
    "## Problem 2\n",
    "\n",
    "*Learning objective: familiarity with hierarchical clustering and tools.*\n",
    "\n",
    "Continue with the same dataset as in Problem 1 above.\n",
    "\n",
    "### Tasks\n",
    "\n",
    "* Try clustering of your matrix (rows or columns) with hierarchical clustering. Produce a dendrogram and corresponding flat clustering (e.g., by splitting the dendrogram with [fcluster](https://docs.scipy.org/doc/scipy/reference/generated/scipy.cluster.hierarchy.fcluster.html)). Try to find at least one interesting feature and/or reproduce some of the properties of hierarchical clustering (e.g., differences between linkage function) discussed in the lecture. "
   ]
  }
 ],
 "metadata": {
  "kernelspec": {
   "display_name": "Python 3",
   "language": "python",
   "name": "python3"
  },
  "language_info": {
   "codemirror_mode": {
    "name": "ipython",
    "version": 3
   },
   "file_extension": ".py",
   "mimetype": "text/x-python",
   "name": "python",
   "nbconvert_exporter": "python",
   "pygments_lexer": "ipython3",
   "version": "3.7.3"
  }
 },
 "nbformat": 4,
 "nbformat_minor": 4
}
