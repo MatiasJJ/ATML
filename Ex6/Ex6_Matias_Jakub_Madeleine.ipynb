{
  "nbformat": 4,
  "nbformat_minor": 0,
  "metadata": {
    "colab": {
      "name": "Ex6_Matias_Jakub_Madeleine.ipynb",
      "provenance": [],
      "collapsed_sections": [],
      "toc_visible": true,
      "include_colab_link": true
    },
    "kernelspec": {
      "display_name": "Python 3",
      "language": "python",
      "name": "python3"
    },
    "language_info": {
      "codemirror_mode": {
        "name": "ipython",
        "version": 3
      },
      "file_extension": ".py",
      "mimetype": "text/x-python",
      "name": "python",
      "nbconvert_exporter": "python",
      "pygments_lexer": "ipython3",
      "version": "3.7.3"
    }
  },
  "cells": [
    {
      "cell_type": "markdown",
      "metadata": {
        "id": "view-in-github",
        "colab_type": "text"
      },
      "source": [
        "<a href=\"https://colab.research.google.com/github/MatiasJJ/ATML/blob/edits/Ex6/Ex6_Matias_Jakub_Madeleine.ipynb\" target=\"_parent\"><img src=\"https://colab.research.google.com/assets/colab-badge.svg\" alt=\"Open In Colab\"/></a>"
      ]
    },
    {
      "cell_type": "code",
      "metadata": {
        "id": "lC_mc5JTLiIy",
        "colab_type": "code",
        "colab": {}
      },
      "source": [
        "import numpy as np                        # for numerics\n",
        "import pandas as pd                       # for dataframes\n",
        "import seaborn as sns                     # for nice plotting\n",
        "import matplotlib.pyplot as plt           # for plotting at all\n",
        "import plotly.express as px\n",
        "\n",
        "from sklearn.cluster import KMeans\n",
        "from sklearn.preprocessing import StandardScaler, Normalizer\n",
        "from scipy.optimize import linear_sum_assignment"
      ],
      "execution_count": 0,
      "outputs": []
    },
    {
      "cell_type": "markdown",
      "metadata": {
        "id": "ZpyA0F-hJ_Tq",
        "colab_type": "text"
      },
      "source": [
        "# Exercise Set 6\n",
        "\n",
        "Submission DL 19 May 9:15. The solutions will be presented in a session at noon 19 May\n",
        "\n",
        "Madeleine Ekblom, Matias Jääskeläinen, Jakub Kubečka"
      ]
    },
    {
      "cell_type": "markdown",
      "metadata": {
        "id": "o6Zm0SPgJ_Ts",
        "colab_type": "text"
      },
      "source": [
        "## Problem 1\n",
        "\n",
        "*Learning objective: familiarity with the concepts of k-means clustering*\n",
        "\n",
        "For this problem you can use the challenge dataset in file npf_train.csv. Your task is to cluster the data matrix, where the rows are given by the days and columns by various observations during that day.\n"
      ]
    },
    {
      "cell_type": "code",
      "metadata": {
        "id": "TOZL85G9Lr73",
        "colab_type": "code",
        "colab": {}
      },
      "source": [
        "# Read in the data\n",
        "\n",
        "npf = pd.read_csv(\"/content/npf_train.csv\")"
      ],
      "execution_count": 0,
      "outputs": []
    },
    {
      "cell_type": "code",
      "metadata": {
        "id": "mRm_YKrTeLCj",
        "colab_type": "code",
        "outputId": "740d29b3-1861-4e3c-a821-2e2af8b95636",
        "colab": {
          "base_uri": "https://localhost:8080/",
          "height": 338
        }
      },
      "source": [
        "npf.head()"
      ],
      "execution_count": 145,
      "outputs": [
        {
          "output_type": "execute_result",
          "data": {
            "text/html": [
              "<div>\n",
              "<style scoped>\n",
              "    .dataframe tbody tr th:only-of-type {\n",
              "        vertical-align: middle;\n",
              "    }\n",
              "\n",
              "    .dataframe tbody tr th {\n",
              "        vertical-align: top;\n",
              "    }\n",
              "\n",
              "    .dataframe thead th {\n",
              "        text-align: right;\n",
              "    }\n",
              "</style>\n",
              "<table border=\"1\" class=\"dataframe\">\n",
              "  <thead>\n",
              "    <tr style=\"text-align: right;\">\n",
              "      <th></th>\n",
              "      <th>id</th>\n",
              "      <th>date</th>\n",
              "      <th>event</th>\n",
              "      <th>partlybad</th>\n",
              "      <th>HYY_META.CO2168.mean</th>\n",
              "      <th>HYY_META.CO2168.std</th>\n",
              "      <th>HYY_META.CO2336.mean</th>\n",
              "      <th>HYY_META.CO2336.std</th>\n",
              "      <th>HYY_META.CO242.mean</th>\n",
              "      <th>HYY_META.CO242.std</th>\n",
              "      <th>HYY_META.CO2504.mean</th>\n",
              "      <th>HYY_META.CO2504.std</th>\n",
              "      <th>HYY_META.Glob.mean</th>\n",
              "      <th>HYY_META.Glob.std</th>\n",
              "      <th>HYY_META.H2O168.mean</th>\n",
              "      <th>HYY_META.H2O168.std</th>\n",
              "      <th>HYY_META.H2O336.mean</th>\n",
              "      <th>HYY_META.H2O336.std</th>\n",
              "      <th>HYY_META.H2O42.mean</th>\n",
              "      <th>HYY_META.H2O42.std</th>\n",
              "      <th>HYY_META.H2O504.mean</th>\n",
              "      <th>HYY_META.H2O504.std</th>\n",
              "      <th>HYY_META.H2O672.mean</th>\n",
              "      <th>HYY_META.H2O672.std</th>\n",
              "      <th>HYY_META.H2O84.mean</th>\n",
              "      <th>HYY_META.H2O84.std</th>\n",
              "      <th>HYY_META.NET.mean</th>\n",
              "      <th>HYY_META.NET.std</th>\n",
              "      <th>HYY_META.NO168.mean</th>\n",
              "      <th>HYY_META.NO168.std</th>\n",
              "      <th>HYY_META.NO336.mean</th>\n",
              "      <th>HYY_META.NO336.std</th>\n",
              "      <th>HYY_META.NO42.mean</th>\n",
              "      <th>HYY_META.NO42.std</th>\n",
              "      <th>HYY_META.NO504.mean</th>\n",
              "      <th>HYY_META.NO504.std</th>\n",
              "      <th>HYY_META.NO672.mean</th>\n",
              "      <th>HYY_META.NO672.std</th>\n",
              "      <th>HYY_META.NO84.mean</th>\n",
              "      <th>HYY_META.NO84.std</th>\n",
              "      <th>...</th>\n",
              "      <th>HYY_META.PAR.mean</th>\n",
              "      <th>HYY_META.PAR.std</th>\n",
              "      <th>HYY_META.PTG.mean</th>\n",
              "      <th>HYY_META.PTG.std</th>\n",
              "      <th>HYY_META.RGlob.mean</th>\n",
              "      <th>HYY_META.RGlob.std</th>\n",
              "      <th>HYY_META.RHIRGA168.mean</th>\n",
              "      <th>HYY_META.RHIRGA168.std</th>\n",
              "      <th>HYY_META.RHIRGA336.mean</th>\n",
              "      <th>HYY_META.RHIRGA336.std</th>\n",
              "      <th>HYY_META.RHIRGA42.mean</th>\n",
              "      <th>HYY_META.RHIRGA42.std</th>\n",
              "      <th>HYY_META.RHIRGA504.mean</th>\n",
              "      <th>HYY_META.RHIRGA504.std</th>\n",
              "      <th>HYY_META.RHIRGA672.mean</th>\n",
              "      <th>HYY_META.RHIRGA672.std</th>\n",
              "      <th>HYY_META.RHIRGA84.mean</th>\n",
              "      <th>HYY_META.RHIRGA84.std</th>\n",
              "      <th>HYY_META.RPAR.mean</th>\n",
              "      <th>HYY_META.RPAR.std</th>\n",
              "      <th>HYY_META.SO2168.mean</th>\n",
              "      <th>HYY_META.SO2168.std</th>\n",
              "      <th>HYY_META.SWS.mean</th>\n",
              "      <th>HYY_META.SWS.std</th>\n",
              "      <th>HYY_META.T168.mean</th>\n",
              "      <th>HYY_META.T168.std</th>\n",
              "      <th>HYY_META.T42.mean</th>\n",
              "      <th>HYY_META.T42.std</th>\n",
              "      <th>HYY_META.T504.mean</th>\n",
              "      <th>HYY_META.T504.std</th>\n",
              "      <th>HYY_META.T672.mean</th>\n",
              "      <th>HYY_META.T672.std</th>\n",
              "      <th>HYY_META.T84.mean</th>\n",
              "      <th>HYY_META.T84.std</th>\n",
              "      <th>HYY_META.UV_A.mean</th>\n",
              "      <th>HYY_META.UV_A.std</th>\n",
              "      <th>HYY_META.UV_B.mean</th>\n",
              "      <th>HYY_META.UV_B.std</th>\n",
              "      <th>CS.mean</th>\n",
              "      <th>CS.std</th>\n",
              "    </tr>\n",
              "  </thead>\n",
              "  <tbody>\n",
              "    <tr>\n",
              "      <th>0</th>\n",
              "      <td>1</td>\n",
              "      <td>2000-01-23</td>\n",
              "      <td>nonevent</td>\n",
              "      <td>False</td>\n",
              "      <td>373.496585</td>\n",
              "      <td>0.189497</td>\n",
              "      <td>373.382593</td>\n",
              "      <td>0.172958</td>\n",
              "      <td>373.961481</td>\n",
              "      <td>0.235107</td>\n",
              "      <td>373.275062</td>\n",
              "      <td>0.165500</td>\n",
              "      <td>29.800885</td>\n",
              "      <td>22.892316</td>\n",
              "      <td>2.741951</td>\n",
              "      <td>0.253662</td>\n",
              "      <td>2.741975</td>\n",
              "      <td>0.238125</td>\n",
              "      <td>2.749136</td>\n",
              "      <td>0.256988</td>\n",
              "      <td>2.736543</td>\n",
              "      <td>0.226292</td>\n",
              "      <td>2.739259</td>\n",
              "      <td>0.211889</td>\n",
              "      <td>2.748902</td>\n",
              "      <td>0.257644</td>\n",
              "      <td>7.673882</td>\n",
              "      <td>18.320279</td>\n",
              "      <td>0.020366</td>\n",
              "      <td>0.028391</td>\n",
              "      <td>0.020617</td>\n",
              "      <td>0.029510</td>\n",
              "      <td>0.012716</td>\n",
              "      <td>0.031145</td>\n",
              "      <td>0.020741</td>\n",
              "      <td>0.032664</td>\n",
              "      <td>0.016790</td>\n",
              "      <td>0.031774</td>\n",
              "      <td>0.017439</td>\n",
              "      <td>0.029136</td>\n",
              "      <td>...</td>\n",
              "      <td>64.461794</td>\n",
              "      <td>34.106856</td>\n",
              "      <td>0.002187</td>\n",
              "      <td>0.005561</td>\n",
              "      <td>8.881671</td>\n",
              "      <td>6.029484</td>\n",
              "      <td>93.162439</td>\n",
              "      <td>0.736300</td>\n",
              "      <td>93.532469</td>\n",
              "      <td>0.693400</td>\n",
              "      <td>91.761728</td>\n",
              "      <td>0.672199</td>\n",
              "      <td>93.913827</td>\n",
              "      <td>0.774957</td>\n",
              "      <td>96.277654</td>\n",
              "      <td>0.933980</td>\n",
              "      <td>92.153537</td>\n",
              "      <td>0.718172</td>\n",
              "      <td>11.132826</td>\n",
              "      <td>6.353457</td>\n",
              "      <td>0.158171</td>\n",
              "      <td>0.122969</td>\n",
              "      <td>934.925926</td>\n",
              "      <td>1.517232</td>\n",
              "      <td>-9.811155</td>\n",
              "      <td>1.205806</td>\n",
              "      <td>-9.580934</td>\n",
              "      <td>1.243517</td>\n",
              "      <td>-9.941204</td>\n",
              "      <td>1.071755</td>\n",
              "      <td>-10.224472</td>\n",
              "      <td>0.965988</td>\n",
              "      <td>-9.651155</td>\n",
              "      <td>1.238891</td>\n",
              "      <td>2.677545</td>\n",
              "      <td>1.261612</td>\n",
              "      <td>0.044759</td>\n",
              "      <td>0.023748</td>\n",
              "      <td>0.000764</td>\n",
              "      <td>0.000048</td>\n",
              "    </tr>\n",
              "    <tr>\n",
              "      <th>1</th>\n",
              "      <td>2</td>\n",
              "      <td>2000-01-25</td>\n",
              "      <td>nonevent</td>\n",
              "      <td>False</td>\n",
              "      <td>381.752738</td>\n",
              "      <td>1.701439</td>\n",
              "      <td>381.392651</td>\n",
              "      <td>1.573735</td>\n",
              "      <td>382.373735</td>\n",
              "      <td>1.754803</td>\n",
              "      <td>380.980000</td>\n",
              "      <td>1.464652</td>\n",
              "      <td>18.389856</td>\n",
              "      <td>9.566668</td>\n",
              "      <td>2.313333</td>\n",
              "      <td>0.328202</td>\n",
              "      <td>2.310000</td>\n",
              "      <td>0.315463</td>\n",
              "      <td>2.308916</td>\n",
              "      <td>0.321506</td>\n",
              "      <td>2.320361</td>\n",
              "      <td>0.297872</td>\n",
              "      <td>2.342651</td>\n",
              "      <td>0.299325</td>\n",
              "      <td>2.312143</td>\n",
              "      <td>0.329732</td>\n",
              "      <td>29.663765</td>\n",
              "      <td>10.891472</td>\n",
              "      <td>0.483810</td>\n",
              "      <td>0.295051</td>\n",
              "      <td>0.494337</td>\n",
              "      <td>0.312692</td>\n",
              "      <td>0.404337</td>\n",
              "      <td>0.246385</td>\n",
              "      <td>0.488675</td>\n",
              "      <td>0.311784</td>\n",
              "      <td>0.421325</td>\n",
              "      <td>0.265687</td>\n",
              "      <td>0.435595</td>\n",
              "      <td>0.265177</td>\n",
              "      <td>...</td>\n",
              "      <td>39.684245</td>\n",
              "      <td>22.195953</td>\n",
              "      <td>0.009353</td>\n",
              "      <td>0.011258</td>\n",
              "      <td>5.547266</td>\n",
              "      <td>3.204514</td>\n",
              "      <td>95.802857</td>\n",
              "      <td>1.748414</td>\n",
              "      <td>95.578675</td>\n",
              "      <td>1.830929</td>\n",
              "      <td>93.989639</td>\n",
              "      <td>1.612301</td>\n",
              "      <td>95.268916</td>\n",
              "      <td>1.772817</td>\n",
              "      <td>97.426867</td>\n",
              "      <td>2.306357</td>\n",
              "      <td>94.580714</td>\n",
              "      <td>1.530332</td>\n",
              "      <td>7.345012</td>\n",
              "      <td>4.787854</td>\n",
              "      <td>2.050476</td>\n",
              "      <td>0.262710</td>\n",
              "      <td>888.285714</td>\n",
              "      <td>63.666293</td>\n",
              "      <td>-12.377122</td>\n",
              "      <td>1.930159</td>\n",
              "      <td>-12.144724</td>\n",
              "      <td>1.899699</td>\n",
              "      <td>-12.271055</td>\n",
              "      <td>1.774972</td>\n",
              "      <td>-12.399808</td>\n",
              "      <td>1.671699</td>\n",
              "      <td>-12.230048</td>\n",
              "      <td>1.918075</td>\n",
              "      <td>1.548098</td>\n",
              "      <td>0.804746</td>\n",
              "      <td>0.033443</td>\n",
              "      <td>0.020402</td>\n",
              "      <td>0.003630</td>\n",
              "      <td>0.000650</td>\n",
              "    </tr>\n",
              "    <tr>\n",
              "      <th>2</th>\n",
              "      <td>3</td>\n",
              "      <td>2000-02-13</td>\n",
              "      <td>nonevent</td>\n",
              "      <td>False</td>\n",
              "      <td>376.723579</td>\n",
              "      <td>0.468817</td>\n",
              "      <td>376.660842</td>\n",
              "      <td>0.466072</td>\n",
              "      <td>377.282447</td>\n",
              "      <td>0.498498</td>\n",
              "      <td>376.628105</td>\n",
              "      <td>0.461868</td>\n",
              "      <td>23.891954</td>\n",
              "      <td>13.275049</td>\n",
              "      <td>5.937684</td>\n",
              "      <td>0.143159</td>\n",
              "      <td>5.899053</td>\n",
              "      <td>0.142486</td>\n",
              "      <td>6.057340</td>\n",
              "      <td>0.132350</td>\n",
              "      <td>5.870000</td>\n",
              "      <td>0.149089</td>\n",
              "      <td>5.868737</td>\n",
              "      <td>0.144982</td>\n",
              "      <td>5.996632</td>\n",
              "      <td>0.138776</td>\n",
              "      <td>17.175105</td>\n",
              "      <td>10.329247</td>\n",
              "      <td>0.024526</td>\n",
              "      <td>0.033794</td>\n",
              "      <td>0.030842</td>\n",
              "      <td>0.035957</td>\n",
              "      <td>0.018723</td>\n",
              "      <td>0.039710</td>\n",
              "      <td>0.027895</td>\n",
              "      <td>0.039028</td>\n",
              "      <td>0.028000</td>\n",
              "      <td>0.039373</td>\n",
              "      <td>0.024526</td>\n",
              "      <td>0.036255</td>\n",
              "      <td>...</td>\n",
              "      <td>46.248851</td>\n",
              "      <td>26.678515</td>\n",
              "      <td>0.000000</td>\n",
              "      <td>0.000000</td>\n",
              "      <td>4.605295</td>\n",
              "      <td>2.383141</td>\n",
              "      <td>95.210316</td>\n",
              "      <td>3.447666</td>\n",
              "      <td>94.992526</td>\n",
              "      <td>3.539572</td>\n",
              "      <td>95.997553</td>\n",
              "      <td>3.213463</td>\n",
              "      <td>95.143263</td>\n",
              "      <td>3.644205</td>\n",
              "      <td>97.430316</td>\n",
              "      <td>3.727059</td>\n",
              "      <td>95.332737</td>\n",
              "      <td>3.347619</td>\n",
              "      <td>4.219557</td>\n",
              "      <td>2.818613</td>\n",
              "      <td>1.413263</td>\n",
              "      <td>0.316539</td>\n",
              "      <td>925.323529</td>\n",
              "      <td>15.328169</td>\n",
              "      <td>-0.039684</td>\n",
              "      <td>0.215015</td>\n",
              "      <td>0.119051</td>\n",
              "      <td>0.197613</td>\n",
              "      <td>-0.190570</td>\n",
              "      <td>0.217772</td>\n",
              "      <td>-0.523692</td>\n",
              "      <td>0.218085</td>\n",
              "      <td>0.080127</td>\n",
              "      <td>0.209476</td>\n",
              "      <td>1.644059</td>\n",
              "      <td>0.882067</td>\n",
              "      <td>0.023938</td>\n",
              "      <td>0.015601</td>\n",
              "      <td>0.005318</td>\n",
              "      <td>0.000479</td>\n",
              "    </tr>\n",
              "    <tr>\n",
              "      <th>3</th>\n",
              "      <td>4</td>\n",
              "      <td>2000-02-17</td>\n",
              "      <td>nonevent</td>\n",
              "      <td>False</td>\n",
              "      <td>378.600367</td>\n",
              "      <td>1.934180</td>\n",
              "      <td>378.464862</td>\n",
              "      <td>1.946536</td>\n",
              "      <td>379.785872</td>\n",
              "      <td>2.865022</td>\n",
              "      <td>378.316909</td>\n",
              "      <td>1.983430</td>\n",
              "      <td>23.795211</td>\n",
              "      <td>16.178905</td>\n",
              "      <td>5.710000</td>\n",
              "      <td>0.080335</td>\n",
              "      <td>5.715229</td>\n",
              "      <td>0.064873</td>\n",
              "      <td>5.795780</td>\n",
              "      <td>0.067058</td>\n",
              "      <td>5.688818</td>\n",
              "      <td>0.086743</td>\n",
              "      <td>5.662200</td>\n",
              "      <td>0.069218</td>\n",
              "      <td>5.748532</td>\n",
              "      <td>0.072748</td>\n",
              "      <td>18.218229</td>\n",
              "      <td>12.720477</td>\n",
              "      <td>0.218257</td>\n",
              "      <td>0.235922</td>\n",
              "      <td>0.227615</td>\n",
              "      <td>0.247734</td>\n",
              "      <td>0.175688</td>\n",
              "      <td>0.185429</td>\n",
              "      <td>0.222182</td>\n",
              "      <td>0.211527</td>\n",
              "      <td>0.205455</td>\n",
              "      <td>0.207659</td>\n",
              "      <td>0.199450</td>\n",
              "      <td>0.198843</td>\n",
              "      <td>...</td>\n",
              "      <td>30.705657</td>\n",
              "      <td>20.805843</td>\n",
              "      <td>0.000000</td>\n",
              "      <td>0.000000</td>\n",
              "      <td>10.818993</td>\n",
              "      <td>6.163719</td>\n",
              "      <td>98.730642</td>\n",
              "      <td>1.201051</td>\n",
              "      <td>99.466147</td>\n",
              "      <td>1.024843</td>\n",
              "      <td>97.505229</td>\n",
              "      <td>1.090446</td>\n",
              "      <td>99.637818</td>\n",
              "      <td>1.168720</td>\n",
              "      <td>101.382300</td>\n",
              "      <td>1.138114</td>\n",
              "      <td>97.847890</td>\n",
              "      <td>1.144319</td>\n",
              "      <td>13.915824</td>\n",
              "      <td>8.306276</td>\n",
              "      <td>0.212569</td>\n",
              "      <td>0.116527</td>\n",
              "      <td>904.942857</td>\n",
              "      <td>53.208769</td>\n",
              "      <td>-1.049451</td>\n",
              "      <td>0.108633</td>\n",
              "      <td>-0.669048</td>\n",
              "      <td>0.165462</td>\n",
              "      <td>-1.221172</td>\n",
              "      <td>0.112492</td>\n",
              "      <td>-1.535183</td>\n",
              "      <td>0.122651</td>\n",
              "      <td>-0.829524</td>\n",
              "      <td>0.134191</td>\n",
              "      <td>2.261805</td>\n",
              "      <td>1.345651</td>\n",
              "      <td>0.030893</td>\n",
              "      <td>0.021903</td>\n",
              "      <td>0.002038</td>\n",
              "      <td>0.000751</td>\n",
              "    </tr>\n",
              "    <tr>\n",
              "      <th>4</th>\n",
              "      <td>5</td>\n",
              "      <td>2000-02-23</td>\n",
              "      <td>nonevent</td>\n",
              "      <td>False</td>\n",
              "      <td>380.528120</td>\n",
              "      <td>0.802001</td>\n",
              "      <td>380.371466</td>\n",
              "      <td>0.889550</td>\n",
              "      <td>381.816207</td>\n",
              "      <td>1.292593</td>\n",
              "      <td>380.296466</td>\n",
              "      <td>0.968884</td>\n",
              "      <td>236.605353</td>\n",
              "      <td>145.160571</td>\n",
              "      <td>2.663504</td>\n",
              "      <td>0.319427</td>\n",
              "      <td>2.695603</td>\n",
              "      <td>0.304894</td>\n",
              "      <td>2.548879</td>\n",
              "      <td>0.382813</td>\n",
              "      <td>2.694138</td>\n",
              "      <td>0.306606</td>\n",
              "      <td>2.771071</td>\n",
              "      <td>0.366386</td>\n",
              "      <td>2.613362</td>\n",
              "      <td>0.348996</td>\n",
              "      <td>81.699876</td>\n",
              "      <td>109.164607</td>\n",
              "      <td>0.319316</td>\n",
              "      <td>0.179649</td>\n",
              "      <td>0.336724</td>\n",
              "      <td>0.183974</td>\n",
              "      <td>0.235517</td>\n",
              "      <td>0.157543</td>\n",
              "      <td>0.332500</td>\n",
              "      <td>0.183478</td>\n",
              "      <td>0.287241</td>\n",
              "      <td>0.172559</td>\n",
              "      <td>0.286638</td>\n",
              "      <td>0.160141</td>\n",
              "      <td>...</td>\n",
              "      <td>339.171515</td>\n",
              "      <td>211.125658</td>\n",
              "      <td>0.000964</td>\n",
              "      <td>0.007481</td>\n",
              "      <td>67.500843</td>\n",
              "      <td>30.529852</td>\n",
              "      <td>95.104103</td>\n",
              "      <td>1.612618</td>\n",
              "      <td>96.532586</td>\n",
              "      <td>2.382040</td>\n",
              "      <td>92.189052</td>\n",
              "      <td>1.781872</td>\n",
              "      <td>96.752672</td>\n",
              "      <td>2.326736</td>\n",
              "      <td>101.351071</td>\n",
              "      <td>4.571036</td>\n",
              "      <td>93.293534</td>\n",
              "      <td>1.981996</td>\n",
              "      <td>84.476919</td>\n",
              "      <td>49.764321</td>\n",
              "      <td>0.559316</td>\n",
              "      <td>0.374688</td>\n",
              "      <td>936.605263</td>\n",
              "      <td>0.916500</td>\n",
              "      <td>-10.272530</td>\n",
              "      <td>1.575415</td>\n",
              "      <td>-10.489828</td>\n",
              "      <td>2.085275</td>\n",
              "      <td>-10.346540</td>\n",
              "      <td>1.347401</td>\n",
              "      <td>-10.730843</td>\n",
              "      <td>1.381815</td>\n",
              "      <td>-10.282754</td>\n",
              "      <td>1.870056</td>\n",
              "      <td>8.356761</td>\n",
              "      <td>4.534937</td>\n",
              "      <td>0.178084</td>\n",
              "      <td>0.123402</td>\n",
              "      <td>0.002546</td>\n",
              "      <td>0.000686</td>\n",
              "    </tr>\n",
              "  </tbody>\n",
              "</table>\n",
              "<p>5 rows × 104 columns</p>\n",
              "</div>"
            ],
            "text/plain": [
              "   id        date     event  ...  HYY_META.UV_B.std   CS.mean    CS.std\n",
              "0   1  2000-01-23  nonevent  ...           0.023748  0.000764  0.000048\n",
              "1   2  2000-01-25  nonevent  ...           0.020402  0.003630  0.000650\n",
              "2   3  2000-02-13  nonevent  ...           0.015601  0.005318  0.000479\n",
              "3   4  2000-02-17  nonevent  ...           0.021903  0.002038  0.000751\n",
              "4   5  2000-02-23  nonevent  ...           0.123402  0.002546  0.000686\n",
              "\n",
              "[5 rows x 104 columns]"
            ]
          },
          "metadata": {
            "tags": []
          },
          "execution_count": 145
        }
      ]
    },
    {
      "cell_type": "code",
      "metadata": {
        "id": "01eNEl3GNxc9",
        "colab_type": "code",
        "colab": {}
      },
      "source": [
        "# So i took only these cols\n",
        "#list(npf.columns[4:])"
      ],
      "execution_count": 0,
      "outputs": []
    },
    {
      "cell_type": "code",
      "metadata": {
        "id": "QRTIAQEkOD47",
        "colab_type": "code",
        "colab": {}
      },
      "source": [
        "npf2rows = npf.iloc[:,4:]"
      ],
      "execution_count": 0,
      "outputs": []
    },
    {
      "cell_type": "code",
      "metadata": {
        "id": "MgRzpgNEOU1_",
        "colab_type": "code",
        "outputId": "0fa71310-cf2b-4026-b6d1-eac095bcb603",
        "colab": {
          "base_uri": "https://localhost:8080/",
          "height": 34
        }
      },
      "source": [
        "npf2rows.shape"
      ],
      "execution_count": 148,
      "outputs": [
        {
          "output_type": "execute_result",
          "data": {
            "text/plain": [
              "(724, 100)"
            ]
          },
          "metadata": {
            "tags": []
          },
          "execution_count": 148
        }
      ]
    },
    {
      "cell_type": "code",
      "metadata": {
        "id": "0wqh2KcENeSC",
        "colab_type": "code",
        "outputId": "3b283ad1-b394-4642-f8f3-6423c23e9ecc",
        "colab": {
          "base_uri": "https://localhost:8080/",
          "height": 253
        }
      },
      "source": [
        "npf2rows.head()"
      ],
      "execution_count": 149,
      "outputs": [
        {
          "output_type": "execute_result",
          "data": {
            "text/html": [
              "<div>\n",
              "<style scoped>\n",
              "    .dataframe tbody tr th:only-of-type {\n",
              "        vertical-align: middle;\n",
              "    }\n",
              "\n",
              "    .dataframe tbody tr th {\n",
              "        vertical-align: top;\n",
              "    }\n",
              "\n",
              "    .dataframe thead th {\n",
              "        text-align: right;\n",
              "    }\n",
              "</style>\n",
              "<table border=\"1\" class=\"dataframe\">\n",
              "  <thead>\n",
              "    <tr style=\"text-align: right;\">\n",
              "      <th></th>\n",
              "      <th>HYY_META.CO2168.mean</th>\n",
              "      <th>HYY_META.CO2168.std</th>\n",
              "      <th>HYY_META.CO2336.mean</th>\n",
              "      <th>HYY_META.CO2336.std</th>\n",
              "      <th>HYY_META.CO242.mean</th>\n",
              "      <th>HYY_META.CO242.std</th>\n",
              "      <th>HYY_META.CO2504.mean</th>\n",
              "      <th>HYY_META.CO2504.std</th>\n",
              "      <th>HYY_META.Glob.mean</th>\n",
              "      <th>HYY_META.Glob.std</th>\n",
              "      <th>HYY_META.H2O168.mean</th>\n",
              "      <th>HYY_META.H2O168.std</th>\n",
              "      <th>HYY_META.H2O336.mean</th>\n",
              "      <th>HYY_META.H2O336.std</th>\n",
              "      <th>HYY_META.H2O42.mean</th>\n",
              "      <th>HYY_META.H2O42.std</th>\n",
              "      <th>HYY_META.H2O504.mean</th>\n",
              "      <th>HYY_META.H2O504.std</th>\n",
              "      <th>HYY_META.H2O672.mean</th>\n",
              "      <th>HYY_META.H2O672.std</th>\n",
              "      <th>HYY_META.H2O84.mean</th>\n",
              "      <th>HYY_META.H2O84.std</th>\n",
              "      <th>HYY_META.NET.mean</th>\n",
              "      <th>HYY_META.NET.std</th>\n",
              "      <th>HYY_META.NO168.mean</th>\n",
              "      <th>HYY_META.NO168.std</th>\n",
              "      <th>HYY_META.NO336.mean</th>\n",
              "      <th>HYY_META.NO336.std</th>\n",
              "      <th>HYY_META.NO42.mean</th>\n",
              "      <th>HYY_META.NO42.std</th>\n",
              "      <th>HYY_META.NO504.mean</th>\n",
              "      <th>HYY_META.NO504.std</th>\n",
              "      <th>HYY_META.NO672.mean</th>\n",
              "      <th>HYY_META.NO672.std</th>\n",
              "      <th>HYY_META.NO84.mean</th>\n",
              "      <th>HYY_META.NO84.std</th>\n",
              "      <th>HYY_META.NOx168.mean</th>\n",
              "      <th>HYY_META.NOx168.std</th>\n",
              "      <th>HYY_META.NOx336.mean</th>\n",
              "      <th>HYY_META.NOx336.std</th>\n",
              "      <th>...</th>\n",
              "      <th>HYY_META.PAR.mean</th>\n",
              "      <th>HYY_META.PAR.std</th>\n",
              "      <th>HYY_META.PTG.mean</th>\n",
              "      <th>HYY_META.PTG.std</th>\n",
              "      <th>HYY_META.RGlob.mean</th>\n",
              "      <th>HYY_META.RGlob.std</th>\n",
              "      <th>HYY_META.RHIRGA168.mean</th>\n",
              "      <th>HYY_META.RHIRGA168.std</th>\n",
              "      <th>HYY_META.RHIRGA336.mean</th>\n",
              "      <th>HYY_META.RHIRGA336.std</th>\n",
              "      <th>HYY_META.RHIRGA42.mean</th>\n",
              "      <th>HYY_META.RHIRGA42.std</th>\n",
              "      <th>HYY_META.RHIRGA504.mean</th>\n",
              "      <th>HYY_META.RHIRGA504.std</th>\n",
              "      <th>HYY_META.RHIRGA672.mean</th>\n",
              "      <th>HYY_META.RHIRGA672.std</th>\n",
              "      <th>HYY_META.RHIRGA84.mean</th>\n",
              "      <th>HYY_META.RHIRGA84.std</th>\n",
              "      <th>HYY_META.RPAR.mean</th>\n",
              "      <th>HYY_META.RPAR.std</th>\n",
              "      <th>HYY_META.SO2168.mean</th>\n",
              "      <th>HYY_META.SO2168.std</th>\n",
              "      <th>HYY_META.SWS.mean</th>\n",
              "      <th>HYY_META.SWS.std</th>\n",
              "      <th>HYY_META.T168.mean</th>\n",
              "      <th>HYY_META.T168.std</th>\n",
              "      <th>HYY_META.T42.mean</th>\n",
              "      <th>HYY_META.T42.std</th>\n",
              "      <th>HYY_META.T504.mean</th>\n",
              "      <th>HYY_META.T504.std</th>\n",
              "      <th>HYY_META.T672.mean</th>\n",
              "      <th>HYY_META.T672.std</th>\n",
              "      <th>HYY_META.T84.mean</th>\n",
              "      <th>HYY_META.T84.std</th>\n",
              "      <th>HYY_META.UV_A.mean</th>\n",
              "      <th>HYY_META.UV_A.std</th>\n",
              "      <th>HYY_META.UV_B.mean</th>\n",
              "      <th>HYY_META.UV_B.std</th>\n",
              "      <th>CS.mean</th>\n",
              "      <th>CS.std</th>\n",
              "    </tr>\n",
              "  </thead>\n",
              "  <tbody>\n",
              "    <tr>\n",
              "      <th>0</th>\n",
              "      <td>373.496585</td>\n",
              "      <td>0.189497</td>\n",
              "      <td>373.382593</td>\n",
              "      <td>0.172958</td>\n",
              "      <td>373.961481</td>\n",
              "      <td>0.235107</td>\n",
              "      <td>373.275062</td>\n",
              "      <td>0.165500</td>\n",
              "      <td>29.800885</td>\n",
              "      <td>22.892316</td>\n",
              "      <td>2.741951</td>\n",
              "      <td>0.253662</td>\n",
              "      <td>2.741975</td>\n",
              "      <td>0.238125</td>\n",
              "      <td>2.749136</td>\n",
              "      <td>0.256988</td>\n",
              "      <td>2.736543</td>\n",
              "      <td>0.226292</td>\n",
              "      <td>2.739259</td>\n",
              "      <td>0.211889</td>\n",
              "      <td>2.748902</td>\n",
              "      <td>0.257644</td>\n",
              "      <td>7.673882</td>\n",
              "      <td>18.320279</td>\n",
              "      <td>0.020366</td>\n",
              "      <td>0.028391</td>\n",
              "      <td>0.020617</td>\n",
              "      <td>0.029510</td>\n",
              "      <td>0.012716</td>\n",
              "      <td>0.031145</td>\n",
              "      <td>0.020741</td>\n",
              "      <td>0.032664</td>\n",
              "      <td>0.016790</td>\n",
              "      <td>0.031774</td>\n",
              "      <td>0.017439</td>\n",
              "      <td>0.029136</td>\n",
              "      <td>0.752927</td>\n",
              "      <td>0.101001</td>\n",
              "      <td>0.758765</td>\n",
              "      <td>0.102803</td>\n",
              "      <td>...</td>\n",
              "      <td>64.461794</td>\n",
              "      <td>34.106856</td>\n",
              "      <td>0.002187</td>\n",
              "      <td>0.005561</td>\n",
              "      <td>8.881671</td>\n",
              "      <td>6.029484</td>\n",
              "      <td>93.162439</td>\n",
              "      <td>0.736300</td>\n",
              "      <td>93.532469</td>\n",
              "      <td>0.693400</td>\n",
              "      <td>91.761728</td>\n",
              "      <td>0.672199</td>\n",
              "      <td>93.913827</td>\n",
              "      <td>0.774957</td>\n",
              "      <td>96.277654</td>\n",
              "      <td>0.933980</td>\n",
              "      <td>92.153537</td>\n",
              "      <td>0.718172</td>\n",
              "      <td>11.132826</td>\n",
              "      <td>6.353457</td>\n",
              "      <td>0.158171</td>\n",
              "      <td>0.122969</td>\n",
              "      <td>934.925926</td>\n",
              "      <td>1.517232</td>\n",
              "      <td>-9.811155</td>\n",
              "      <td>1.205806</td>\n",
              "      <td>-9.580934</td>\n",
              "      <td>1.243517</td>\n",
              "      <td>-9.941204</td>\n",
              "      <td>1.071755</td>\n",
              "      <td>-10.224472</td>\n",
              "      <td>0.965988</td>\n",
              "      <td>-9.651155</td>\n",
              "      <td>1.238891</td>\n",
              "      <td>2.677545</td>\n",
              "      <td>1.261612</td>\n",
              "      <td>0.044759</td>\n",
              "      <td>0.023748</td>\n",
              "      <td>0.000764</td>\n",
              "      <td>0.000048</td>\n",
              "    </tr>\n",
              "    <tr>\n",
              "      <th>1</th>\n",
              "      <td>381.752738</td>\n",
              "      <td>1.701439</td>\n",
              "      <td>381.392651</td>\n",
              "      <td>1.573735</td>\n",
              "      <td>382.373735</td>\n",
              "      <td>1.754803</td>\n",
              "      <td>380.980000</td>\n",
              "      <td>1.464652</td>\n",
              "      <td>18.389856</td>\n",
              "      <td>9.566668</td>\n",
              "      <td>2.313333</td>\n",
              "      <td>0.328202</td>\n",
              "      <td>2.310000</td>\n",
              "      <td>0.315463</td>\n",
              "      <td>2.308916</td>\n",
              "      <td>0.321506</td>\n",
              "      <td>2.320361</td>\n",
              "      <td>0.297872</td>\n",
              "      <td>2.342651</td>\n",
              "      <td>0.299325</td>\n",
              "      <td>2.312143</td>\n",
              "      <td>0.329732</td>\n",
              "      <td>29.663765</td>\n",
              "      <td>10.891472</td>\n",
              "      <td>0.483810</td>\n",
              "      <td>0.295051</td>\n",
              "      <td>0.494337</td>\n",
              "      <td>0.312692</td>\n",
              "      <td>0.404337</td>\n",
              "      <td>0.246385</td>\n",
              "      <td>0.488675</td>\n",
              "      <td>0.311784</td>\n",
              "      <td>0.421325</td>\n",
              "      <td>0.265687</td>\n",
              "      <td>0.435595</td>\n",
              "      <td>0.265177</td>\n",
              "      <td>9.496905</td>\n",
              "      <td>1.741562</td>\n",
              "      <td>9.326867</td>\n",
              "      <td>1.673249</td>\n",
              "      <td>...</td>\n",
              "      <td>39.684245</td>\n",
              "      <td>22.195953</td>\n",
              "      <td>0.009353</td>\n",
              "      <td>0.011258</td>\n",
              "      <td>5.547266</td>\n",
              "      <td>3.204514</td>\n",
              "      <td>95.802857</td>\n",
              "      <td>1.748414</td>\n",
              "      <td>95.578675</td>\n",
              "      <td>1.830929</td>\n",
              "      <td>93.989639</td>\n",
              "      <td>1.612301</td>\n",
              "      <td>95.268916</td>\n",
              "      <td>1.772817</td>\n",
              "      <td>97.426867</td>\n",
              "      <td>2.306357</td>\n",
              "      <td>94.580714</td>\n",
              "      <td>1.530332</td>\n",
              "      <td>7.345012</td>\n",
              "      <td>4.787854</td>\n",
              "      <td>2.050476</td>\n",
              "      <td>0.262710</td>\n",
              "      <td>888.285714</td>\n",
              "      <td>63.666293</td>\n",
              "      <td>-12.377122</td>\n",
              "      <td>1.930159</td>\n",
              "      <td>-12.144724</td>\n",
              "      <td>1.899699</td>\n",
              "      <td>-12.271055</td>\n",
              "      <td>1.774972</td>\n",
              "      <td>-12.399808</td>\n",
              "      <td>1.671699</td>\n",
              "      <td>-12.230048</td>\n",
              "      <td>1.918075</td>\n",
              "      <td>1.548098</td>\n",
              "      <td>0.804746</td>\n",
              "      <td>0.033443</td>\n",
              "      <td>0.020402</td>\n",
              "      <td>0.003630</td>\n",
              "      <td>0.000650</td>\n",
              "    </tr>\n",
              "    <tr>\n",
              "      <th>2</th>\n",
              "      <td>376.723579</td>\n",
              "      <td>0.468817</td>\n",
              "      <td>376.660842</td>\n",
              "      <td>0.466072</td>\n",
              "      <td>377.282447</td>\n",
              "      <td>0.498498</td>\n",
              "      <td>376.628105</td>\n",
              "      <td>0.461868</td>\n",
              "      <td>23.891954</td>\n",
              "      <td>13.275049</td>\n",
              "      <td>5.937684</td>\n",
              "      <td>0.143159</td>\n",
              "      <td>5.899053</td>\n",
              "      <td>0.142486</td>\n",
              "      <td>6.057340</td>\n",
              "      <td>0.132350</td>\n",
              "      <td>5.870000</td>\n",
              "      <td>0.149089</td>\n",
              "      <td>5.868737</td>\n",
              "      <td>0.144982</td>\n",
              "      <td>5.996632</td>\n",
              "      <td>0.138776</td>\n",
              "      <td>17.175105</td>\n",
              "      <td>10.329247</td>\n",
              "      <td>0.024526</td>\n",
              "      <td>0.033794</td>\n",
              "      <td>0.030842</td>\n",
              "      <td>0.035957</td>\n",
              "      <td>0.018723</td>\n",
              "      <td>0.039710</td>\n",
              "      <td>0.027895</td>\n",
              "      <td>0.039028</td>\n",
              "      <td>0.028000</td>\n",
              "      <td>0.039373</td>\n",
              "      <td>0.024526</td>\n",
              "      <td>0.036255</td>\n",
              "      <td>2.799053</td>\n",
              "      <td>0.210582</td>\n",
              "      <td>2.813684</td>\n",
              "      <td>0.213103</td>\n",
              "      <td>...</td>\n",
              "      <td>46.248851</td>\n",
              "      <td>26.678515</td>\n",
              "      <td>0.000000</td>\n",
              "      <td>0.000000</td>\n",
              "      <td>4.605295</td>\n",
              "      <td>2.383141</td>\n",
              "      <td>95.210316</td>\n",
              "      <td>3.447666</td>\n",
              "      <td>94.992526</td>\n",
              "      <td>3.539572</td>\n",
              "      <td>95.997553</td>\n",
              "      <td>3.213463</td>\n",
              "      <td>95.143263</td>\n",
              "      <td>3.644205</td>\n",
              "      <td>97.430316</td>\n",
              "      <td>3.727059</td>\n",
              "      <td>95.332737</td>\n",
              "      <td>3.347619</td>\n",
              "      <td>4.219557</td>\n",
              "      <td>2.818613</td>\n",
              "      <td>1.413263</td>\n",
              "      <td>0.316539</td>\n",
              "      <td>925.323529</td>\n",
              "      <td>15.328169</td>\n",
              "      <td>-0.039684</td>\n",
              "      <td>0.215015</td>\n",
              "      <td>0.119051</td>\n",
              "      <td>0.197613</td>\n",
              "      <td>-0.190570</td>\n",
              "      <td>0.217772</td>\n",
              "      <td>-0.523692</td>\n",
              "      <td>0.218085</td>\n",
              "      <td>0.080127</td>\n",
              "      <td>0.209476</td>\n",
              "      <td>1.644059</td>\n",
              "      <td>0.882067</td>\n",
              "      <td>0.023938</td>\n",
              "      <td>0.015601</td>\n",
              "      <td>0.005318</td>\n",
              "      <td>0.000479</td>\n",
              "    </tr>\n",
              "    <tr>\n",
              "      <th>3</th>\n",
              "      <td>378.600367</td>\n",
              "      <td>1.934180</td>\n",
              "      <td>378.464862</td>\n",
              "      <td>1.946536</td>\n",
              "      <td>379.785872</td>\n",
              "      <td>2.865022</td>\n",
              "      <td>378.316909</td>\n",
              "      <td>1.983430</td>\n",
              "      <td>23.795211</td>\n",
              "      <td>16.178905</td>\n",
              "      <td>5.710000</td>\n",
              "      <td>0.080335</td>\n",
              "      <td>5.715229</td>\n",
              "      <td>0.064873</td>\n",
              "      <td>5.795780</td>\n",
              "      <td>0.067058</td>\n",
              "      <td>5.688818</td>\n",
              "      <td>0.086743</td>\n",
              "      <td>5.662200</td>\n",
              "      <td>0.069218</td>\n",
              "      <td>5.748532</td>\n",
              "      <td>0.072748</td>\n",
              "      <td>18.218229</td>\n",
              "      <td>12.720477</td>\n",
              "      <td>0.218257</td>\n",
              "      <td>0.235922</td>\n",
              "      <td>0.227615</td>\n",
              "      <td>0.247734</td>\n",
              "      <td>0.175688</td>\n",
              "      <td>0.185429</td>\n",
              "      <td>0.222182</td>\n",
              "      <td>0.211527</td>\n",
              "      <td>0.205455</td>\n",
              "      <td>0.207659</td>\n",
              "      <td>0.199450</td>\n",
              "      <td>0.198843</td>\n",
              "      <td>3.130275</td>\n",
              "      <td>1.236873</td>\n",
              "      <td>3.082844</td>\n",
              "      <td>1.107381</td>\n",
              "      <td>...</td>\n",
              "      <td>30.705657</td>\n",
              "      <td>20.805843</td>\n",
              "      <td>0.000000</td>\n",
              "      <td>0.000000</td>\n",
              "      <td>10.818993</td>\n",
              "      <td>6.163719</td>\n",
              "      <td>98.730642</td>\n",
              "      <td>1.201051</td>\n",
              "      <td>99.466147</td>\n",
              "      <td>1.024843</td>\n",
              "      <td>97.505229</td>\n",
              "      <td>1.090446</td>\n",
              "      <td>99.637818</td>\n",
              "      <td>1.168720</td>\n",
              "      <td>101.382300</td>\n",
              "      <td>1.138114</td>\n",
              "      <td>97.847890</td>\n",
              "      <td>1.144319</td>\n",
              "      <td>13.915824</td>\n",
              "      <td>8.306276</td>\n",
              "      <td>0.212569</td>\n",
              "      <td>0.116527</td>\n",
              "      <td>904.942857</td>\n",
              "      <td>53.208769</td>\n",
              "      <td>-1.049451</td>\n",
              "      <td>0.108633</td>\n",
              "      <td>-0.669048</td>\n",
              "      <td>0.165462</td>\n",
              "      <td>-1.221172</td>\n",
              "      <td>0.112492</td>\n",
              "      <td>-1.535183</td>\n",
              "      <td>0.122651</td>\n",
              "      <td>-0.829524</td>\n",
              "      <td>0.134191</td>\n",
              "      <td>2.261805</td>\n",
              "      <td>1.345651</td>\n",
              "      <td>0.030893</td>\n",
              "      <td>0.021903</td>\n",
              "      <td>0.002038</td>\n",
              "      <td>0.000751</td>\n",
              "    </tr>\n",
              "    <tr>\n",
              "      <th>4</th>\n",
              "      <td>380.528120</td>\n",
              "      <td>0.802001</td>\n",
              "      <td>380.371466</td>\n",
              "      <td>0.889550</td>\n",
              "      <td>381.816207</td>\n",
              "      <td>1.292593</td>\n",
              "      <td>380.296466</td>\n",
              "      <td>0.968884</td>\n",
              "      <td>236.605353</td>\n",
              "      <td>145.160571</td>\n",
              "      <td>2.663504</td>\n",
              "      <td>0.319427</td>\n",
              "      <td>2.695603</td>\n",
              "      <td>0.304894</td>\n",
              "      <td>2.548879</td>\n",
              "      <td>0.382813</td>\n",
              "      <td>2.694138</td>\n",
              "      <td>0.306606</td>\n",
              "      <td>2.771071</td>\n",
              "      <td>0.366386</td>\n",
              "      <td>2.613362</td>\n",
              "      <td>0.348996</td>\n",
              "      <td>81.699876</td>\n",
              "      <td>109.164607</td>\n",
              "      <td>0.319316</td>\n",
              "      <td>0.179649</td>\n",
              "      <td>0.336724</td>\n",
              "      <td>0.183974</td>\n",
              "      <td>0.235517</td>\n",
              "      <td>0.157543</td>\n",
              "      <td>0.332500</td>\n",
              "      <td>0.183478</td>\n",
              "      <td>0.287241</td>\n",
              "      <td>0.172559</td>\n",
              "      <td>0.286638</td>\n",
              "      <td>0.160141</td>\n",
              "      <td>2.657949</td>\n",
              "      <td>0.672278</td>\n",
              "      <td>2.650259</td>\n",
              "      <td>0.667324</td>\n",
              "      <td>...</td>\n",
              "      <td>339.171515</td>\n",
              "      <td>211.125658</td>\n",
              "      <td>0.000964</td>\n",
              "      <td>0.007481</td>\n",
              "      <td>67.500843</td>\n",
              "      <td>30.529852</td>\n",
              "      <td>95.104103</td>\n",
              "      <td>1.612618</td>\n",
              "      <td>96.532586</td>\n",
              "      <td>2.382040</td>\n",
              "      <td>92.189052</td>\n",
              "      <td>1.781872</td>\n",
              "      <td>96.752672</td>\n",
              "      <td>2.326736</td>\n",
              "      <td>101.351071</td>\n",
              "      <td>4.571036</td>\n",
              "      <td>93.293534</td>\n",
              "      <td>1.981996</td>\n",
              "      <td>84.476919</td>\n",
              "      <td>49.764321</td>\n",
              "      <td>0.559316</td>\n",
              "      <td>0.374688</td>\n",
              "      <td>936.605263</td>\n",
              "      <td>0.916500</td>\n",
              "      <td>-10.272530</td>\n",
              "      <td>1.575415</td>\n",
              "      <td>-10.489828</td>\n",
              "      <td>2.085275</td>\n",
              "      <td>-10.346540</td>\n",
              "      <td>1.347401</td>\n",
              "      <td>-10.730843</td>\n",
              "      <td>1.381815</td>\n",
              "      <td>-10.282754</td>\n",
              "      <td>1.870056</td>\n",
              "      <td>8.356761</td>\n",
              "      <td>4.534937</td>\n",
              "      <td>0.178084</td>\n",
              "      <td>0.123402</td>\n",
              "      <td>0.002546</td>\n",
              "      <td>0.000686</td>\n",
              "    </tr>\n",
              "  </tbody>\n",
              "</table>\n",
              "<p>5 rows × 100 columns</p>\n",
              "</div>"
            ],
            "text/plain": [
              "   HYY_META.CO2168.mean  HYY_META.CO2168.std  ...   CS.mean    CS.std\n",
              "0            373.496585             0.189497  ...  0.000764  0.000048\n",
              "1            381.752738             1.701439  ...  0.003630  0.000650\n",
              "2            376.723579             0.468817  ...  0.005318  0.000479\n",
              "3            378.600367             1.934180  ...  0.002038  0.000751\n",
              "4            380.528120             0.802001  ...  0.002546  0.000686\n",
              "\n",
              "[5 rows x 100 columns]"
            ]
          },
          "metadata": {
            "tags": []
          },
          "execution_count": 149
        }
      ]
    },
    {
      "cell_type": "markdown",
      "metadata": {
        "id": "0-8tttxkKpr7",
        "colab_type": "text"
      },
      "source": [
        "### Tasks\n",
        "\n",
        "* Cluster both the rows and columns of the data matrix and plot the kmeans loss as a function of the number of clusters. Do you see any differences between clustering days (rows) or variables (columns)? What effect does the normalization have? (Hint: you can use the Python code used in the lectures.)\n"
      ]
    },
    {
      "cell_type": "markdown",
      "metadata": {
        "id": "pZZqPef_Y4Vv",
        "colab_type": "text"
      },
      "source": [
        "#### Clustering Rows without normalisation"
      ]
    },
    {
      "cell_type": "code",
      "metadata": {
        "id": "pYmVBRcdQDzS",
        "colab_type": "code",
        "colab": {}
      },
      "source": [
        "#kmeans.labels_ == kmeans_results ## TRUE"
      ],
      "execution_count": 0,
      "outputs": []
    },
    {
      "cell_type": "code",
      "metadata": {
        "id": "Pnno8yxNUSq7",
        "colab_type": "code",
        "colab": {}
      },
      "source": [
        "def plotScore(scores,scorename):\n",
        "    plt.scatter(K,scores,s=100,edgecolor='k')\n",
        "    plt.title(\"Loss function = {} score\".format(scorename),fontsize=16)\n",
        "    plt.xlabel(\"Number of clusters\",fontsize=14)\n",
        "    plt.ylabel(\"{} score\".format(scorename),fontsize=14)\n",
        "    #plt.xticks(K,fontsize=12)\n",
        "    plt.yticks(fontsize=15)\n",
        "    #plt.savefig(\"{}/score_{}.png\".format(path_output,scorename),dpi=400)\n",
        "    #plt.close()"
      ],
      "execution_count": 0,
      "outputs": []
    },
    {
      "cell_type": "code",
      "metadata": {
        "id": "ceRo3Y09VFZt",
        "colab_type": "code",
        "outputId": "17684004-8b8d-4bd9-87a8-51fbd1e2a124",
        "colab": {
          "base_uri": "https://localhost:8080/",
          "height": 301
        }
      },
      "source": [
        "#km_score = []\n",
        "km_inertia = []\n",
        "\n",
        "K = range(2,40)\n",
        "for k in K:\n",
        "    km = KMeans(n_clusters=k,n_init=10,random_state=0).fit(npf2rows)\n",
        "    preds = km.predict(npf2rows)\n",
        "    \n",
        "    #km_score.append(km.score(npf2rows))\n",
        "    km_inertia.append(km.inertia_)  # Almost the same as the -(previous)\n",
        "    \n",
        "#plotScore(km_score,\"km_score\")\n",
        "plotScore(km_inertia/km_inertia[0],\"inertia\")\n"
      ],
      "execution_count": 152,
      "outputs": [
        {
          "output_type": "display_data",
          "data": {
            "image/png": "[encoded data removed]",
            "text/plain": [
              "<Figure size 432x288 with 1 Axes>"
            ]
          },
          "metadata": {
            "tags": [],
            "needs_background": "light"
          }
        }
      ]
    },
    {
      "cell_type": "code",
      "metadata": {
        "id": "WoDhJ4igNRt1",
        "colab_type": "code",
        "colab": {}
      },
      "source": [
        "kmeans = KMeans(n_clusters=6,n_init=10,algorithm='full')#,random_state=42)\n",
        "kmeans.fit(npf2rows)\n",
        "# Predict the closest cluster each sample in npf belongs to\n",
        "kmeans_results = kmeans.predict(npf2rows)"
      ],
      "execution_count": 0,
      "outputs": []
    },
    {
      "cell_type": "code",
      "metadata": {
        "id": "H0EGIjdSdi0B",
        "colab_type": "code",
        "outputId": "b89caa33-8c58-42f8-ff9e-f08ba168df6e",
        "colab": {
          "base_uri": "https://localhost:8080/",
          "height": 282
        }
      },
      "source": [
        "fig = plt.figure()\n",
        "ax = fig.add_subplot(111, projection='3d')\n",
        "\n",
        "ax.scatter(npf[\"HYY_META.H2O168.mean\"], npf[\"CS.mean\"], npf[\"HYY_META.RHIRGA168.mean\"],c=kmeans_results)\n",
        "plt.legend()"
      ],
      "execution_count": 154,
      "outputs": [
        {
          "output_type": "stream",
          "text": [
            "No handles with labels found to put in legend.\n"
          ],
          "name": "stderr"
        },
        {
          "output_type": "execute_result",
          "data": {
            "text/plain": [
              "<matplotlib.legend.Legend at 0x7f97433fae10>"
            ]
          },
          "metadata": {
            "tags": []
          },
          "execution_count": 154
        },
        {
          "output_type": "display_data",
          "data": {
            "image/png": "[encoded data removed]",
            "text/plain": [
              "<Figure size 432x288 with 1 Axes>"
            ]
          },
          "metadata": {
            "tags": [],
            "needs_background": "light"
          }
        }
      ]
    },
    {
      "cell_type": "code",
      "metadata": {
        "id": "EzLGUqeSfmha",
        "colab_type": "code",
        "outputId": "ac0bec39-b7dd-46aa-d1eb-25e7b3a8d888",
        "colab": {
          "base_uri": "https://localhost:8080/",
          "height": 542
        }
      },
      "source": [
        "px.scatter_3d(data_frame=npf, x=\"HYY_META.H2O168.mean\", y=\"CS.mean\", z=\"HYY_META.SO2168.mean\",color=kmeans_results)"
      ],
      "execution_count": 155,
      "outputs": [
        {
          "output_type": "display_data",
          "data": {
            "text/html": [
              "<html>\n",
              "<head><meta charset=\"utf-8\" /></head>\n",
              "<body>\n",
              "    <div>\n",
              "            <script src=\"https://cdnjs.cloudflare.com/ajax/libs/mathjax/2.7.5/MathJax.js?config=TeX-AMS-MML_SVG\"></script><script type=\"text/javascript\">if (window.MathJax) {MathJax.Hub.Config({SVG: {font: \"STIX-Web\"}});}</script>\n",
              "                <script type=\"text/javascript\">window.PlotlyConfig = {MathJaxConfig: 'local'};</script>\n",
              "        <script src=\"https://cdn.plot.ly/plotly-latest.min.js\"></script>    \n",
              "            <div id=\"9db9c499-c925-4a01-9b3c-7a7909096a5a\" class=\"plotly-graph-div\" style=\"height:525px; width:100%;\"></div>\n",
              "            <script type=\"text/javascript\">\n",
              "                \n",
              "                    window.PLOTLYENV=window.PLOTLYENV || {};\n",
              "                    \n",
              "                if (document.getElementById(\"9db9c499-c925-4a01-9b3c-7a7909096a5a\")) {\n",
              "                    Plotly.newPlot(\n",
              "                        '9db9c499-c925-4a01-9b3c-7a7909096a5a',\n",
              "                        [{\"hoverlabel\": {\"namelength\": 0}, \"hovertemplate\": \"HYY_META.H2O168.mean=%{x}<br>CS.mean=%{y}<br>HYY_META.SO2168.mean=%{z}<br>color=%{marker.color}\", \"legendgroup\": \"\", \"marker\": {\"color\": [2, 2, 2, 2, 0, 3, 3, 4, 4, 4, 1, 5, 0, 3, 3, 3, 4, 1, 5, 1, 1, 4, 1, 4, 1, 3, 4, 1, 1, 4, 4, 4, 1, 4, 0, 3, 5, 5, 1, 0, 4, 4, 3, 0, 1, 5, 4, 3, 3, 4, 4, 5, 4, 1, 4, 3, 1, 1, 0, 4, 3, 4, 5, 1, 1, 3, 1, 5, 3, 3, 4, 2, 0, 3, 3, 3, 4, 4, 4, 3, 4, 5, 1, 1, 3, 4, 1, 0, 1, 1, 1, 1, 5, 0, 3, 3, 1, 4, 5, 0, 1, 1, 0, 4, 1, 1, 5, 1, 4, 1, 3, 4, 1, 4, 4, 4, 0, 0, 3, 0, 3, 0, 5, 5, 0, 0, 5, 2, 5, 2, 2, 2, 2, 2, 2, 2, 2, 2, 2, 2, 2, 2, 2, 2, 2, 5, 2, 5, 0, 3, 3, 3, 3, 3, 3, 2, 5, 3, 4, 4, 4, 4, 4, 4, 4, 4, 3, 4, 1, 3, 1, 3, 1, 4, 4, 4, 1, 4, 4, 5, 1, 4, 3, 4, 1, 4, 3, 4, 0, 1, 4, 4, 3, 4, 4, 3, 3, 4, 1, 4, 1, 3, 4, 0, 4, 0, 4, 4, 5, 2, 5, 5, 5, 2, 2, 2, 2, 2, 2, 2, 2, 2, 2, 2, 2, 2, 2, 2, 2, 2, 2, 2, 2, 2, 2, 2, 2, 2, 2, 2, 2, 2, 2, 2, 5, 2, 2, 5, 5, 5, 5, 0, 5, 3, 3, 4, 3, 4, 3, 4, 4, 4, 3, 3, 4, 0, 4, 0, 3, 4, 1, 1, 4, 5, 1, 1, 1, 4, 1, 1, 1, 1, 1, 1, 1, 1, 1, 4, 0, 4, 4, 3, 4, 4, 3, 1, 4, 3, 4, 4, 4, 4, 5, 0, 3, 3, 0, 3, 0, 0, 3, 3, 3, 5, 5, 2, 2, 2, 2, 2, 2, 2, 2, 2, 5, 5, 5, 5, 2, 0, 5, 2, 0, 5, 0, 3, 3, 3, 0, 3, 5, 5, 4, 1, 1, 1, 3, 1, 1, 0, 5, 4, 4, 4, 1, 1, 4, 1, 3, 1, 1, 4, 1, 3, 1, 0, 1, 3, 4, 0, 1, 3, 5, 5, 4, 4, 3, 3, 2, 2, 2, 2, 2, 2, 2, 2, 4, 4, 4, 3, 4, 3, 4, 1, 4, 0, 4, 5, 1, 0, 4, 4, 1, 1, 4, 4, 1, 4, 1, 1, 4, 3, 4, 0, 1, 1, 1, 3, 3, 5, 5, 1, 1, 5, 3, 4, 4, 1, 0, 4, 1, 4, 3, 4, 0, 0, 2, 2, 2, 2, 2, 5, 0, 5, 5, 2, 5, 5, 0, 0, 2, 0, 5, 2, 5, 5, 2, 5, 5, 0, 5, 4, 4, 0, 2, 2, 2, 4, 4, 1, 1, 3, 1, 4, 1, 4, 1, 5, 1, 5, 0, 3, 1, 3, 1, 0, 0, 3, 0, 4, 3, 5, 3, 0, 5, 3, 2, 5, 2, 2, 2, 2, 2, 5, 2, 2, 2, 2, 5, 2, 2, 2, 5, 2, 0, 0, 0, 5, 0, 0, 2, 5, 3, 3, 3, 4, 0, 3, 1, 1, 4, 1, 1, 1, 1, 1, 3, 1, 5, 1, 1, 1, 1, 1, 4, 3, 5, 1, 1, 5, 4, 3, 4, 4, 4, 0, 1, 1, 3, 0, 3, 0, 4, 3, 5, 3, 5, 0, 0, 2, 5, 5, 2, 2, 5, 2, 2, 2, 2, 5, 2, 2, 2, 2, 2, 2, 2, 2, 2, 2, 2, 2, 2, 2, 2, 2, 2, 2, 2, 2, 2, 2, 5, 5, 5, 2, 5, 0, 5, 0, 5, 5, 5, 3, 3, 0, 4, 4, 3, 3, 4, 0, 3, 3, 1, 1, 3, 1, 1, 1, 0, 4, 1, 1, 1, 3, 4, 1, 4, 4, 4, 4, 4, 3, 3, 4, 4, 1, 3, 3, 5, 5, 0, 3, 3, 0, 0, 3, 5, 0, 0, 5, 5, 0, 0, 2, 0, 0, 0, 0, 2, 2, 0, 2, 2, 2, 2, 2, 5, 2, 2, 2, 2, 2, 2, 2, 2, 5, 2, 5, 5, 0, 0, 0, 5, 2, 0, 4, 4, 1, 1, 4, 5, 0, 4, 4, 4, 5, 1, 0, 0, 1, 1, 1, 1, 0, 3, 4, 4, 1, 0, 0, 5, 1], \"coloraxis\": \"coloraxis\", \"symbol\": \"circle\"}, \"mode\": \"markers\", \"name\": \"\", \"scene\": \"scene\", \"showlegend\": false, \"type\": \"scatter3d\", \"x\": [2.7419512195122, 2.3133333333333304, 5.937684210526309, 5.71, 2.66350427350427, 4.2536, 3.2536842105263197, 2.30891025641025, 4.45904191616767, 3.93547619047619, 4.2873529411764695, 6.61343023255814, 7.6264088397790095, 10.0361202185792, 7.934171122994651, 4.8048691099476395, 6.8632863849765195, 6.89727678571429, 11.893777777777801, 8.11364806866953, 11.230042735042698, 10.144224137931, 6.833617021276599, 7.34546610169491, 6.03347457627118, 10.870254237288101, 12.4128813559322, 13.0, 12.662584745762699, 12.480296610169498, 12.328369098712402, 14.7128888888889, 10.148820960698698, 14.311150442477901, 11.080488888888901, 15.725982142857099, 15.730651162790698, 13.824564102564098, 13.253368421052599, 12.476666666666699, 8.30872483221477, 7.13761904761905, 7.58986301369863, 11.9757664233577, 5.09972789115646, 10.272757009345801, 4.72538116591928, 5.92466666666667, 9.50371179039302, 9.831176470588241, 8.4552380952381, 12.002203389830502, 9.352711864406778, 8.3312340425532, 14.269316239316199, 11.9099570815451, 14.4485152838428, 16.534887892376698, 18.2585589519651, 15.4045945945946, 19.0994170403588, 14.6581363636364, 17.6654337899543, 12.8315137614679, 7.50429268292683, 12.838673469387802, 11.9076165803109, 14.5040883977901, 10.3808823529412, 13.1462204724409, 8.07292517006803, 12.4694326241135, 5.75720338983051, 4.337520661157019, 2.08813008130081, 6.3125, 4.52838461538462, 2.80597122302158, 2.5051079136690695, 5.73904109589041, 4.88425675675676, 6.05186666666666, 4.7066013071895405, 2.96899371069182, 5.839506172839509, 4.91745454545454, 4.74153846153846, 8.619473684210531, 6.7912865497076105, 6.14161849710983, 5.2919075144508705, 7.22494318181818, 10.8646629213483, 12.321731843575401, 9.56927374301675, 7.145561797752809, 7.922102564102559, 7.12704081632653, 11.8232142857143, 10.5064285714286, 8.818673469387749, 8.60933673469388, 9.73239795918368, 12.0310769230769, 14.172974358974303, 11.090680628272299, 13.16, 18.7765425531915, 16.530546448087403, 16.326770186335402, 15.5006145251397, 11.390843373494, 8.97090909090909, 8.7836231884058, 10.5523913043478, 8.33325925925926, 9.33863636363636, 10.350977443609, 9.76572519083969, 12.399000000000001, 7.60165354330709, 9.0765873015873, 9.07822580645161, 6.032233009708741, 4.13821782178218, 4.28816326530612, 3.7368478260869598, 4.57858695652174, 3.4374390243902404, 8.95256097560976, 7.296981132075469, 6.689, 2.70679245283019, 3.6711320754717005, 6.69698113207547, 5.16854166666667, 3.96375, 3.6769642857142903, 3.9289473684210496, 3.8251724137931, 4.54868852459016, 2.1970588235294097, 5.06513157894737, 3.9617391304347795, 3.4530000000000003, 6.12968085106383, 4.05333333333333, 4.14421568627451, 4.33682692307692, 2.5586792452830203, 2.3898113207547205, 4.22845454545454, 3.3942477876106203, 4.39191304347826, 5.31516393442623, 6.03442622950819, 5.10545454545455, 3.80907692307692, 4.2076923076923105, 4.18901515151515, 3.2502985074626802, 1.9152985074626898, 2.62644444444444, 3.3625179856115097, 4.40298507462687, 3.7180985915493, 5.08034722222222, 3.9042068965517207, 2.97376712328767, 6.30319727891157, 5.28573333333334, 6.05880794701987, 3.84587096774193, 3.5610828025477703, 3.3348427672956, 3.20125, 2.8325465838509305, 3.92135802469136, 8.410235294117651, 8.55174418604652, 3.91219653179191, 3.3021839080459796, 5.34408284023668, 3.9849717514124303, 4.33117318435754, 6.09314917127072, 7.55313186813187, 6.264130434782599, 7.925343915343911, 4.70551546391752, 6.870612244897949, 7.0567346938775595, 6.2545918367347, 6.87413265306123, 8.92086734693877, 11.5658163265306, 13.308205128205099, 9.507277486911, 8.33924324324324, 11.3299453551913, 8.21651933701658, 14.00843575419, 11.4588414634146, 14.714, 15.7290643274854, 18.5321052631579, 13.576303030302999, 8.05900621118013, 9.96325203252033, 10.755272727272699, 5.4265476190476205, 5.781780821917809, 3.85086956521739, 3.9768115942029, 3.71044776119403, 3.1133846153846196, 3.33415384615385, 2.6522222222222203, 4.38523809523809, 4.796296296296299, 3.13377358490566, 6.051132075471701, 6.26716981132076, 5.546981132075469, 5.7146153846153895, 3.84711538461538, 2.70557692307692, 5.12288461538462, 2.73346153846154, 3.5416981132075502, 4.05018867924528, 5.05145454545454, 4.5258928571428605, 5.77701754385965, 4.84086956521739, 6.48183333333333, 4.468225806451611, 4.71269841269841, 6.01953125, 4.98692307692308, 4.38746268656716, 3.41138888888889, 3.1802702702702703, 3.28115384615385, 4.130963855421689, 3.87333333333333, 3.87435294117647, 4.28218390804598, 2.7914606741573, 3.92106382978723, 2.9356179775280897, 2.07673267326733, 2.8706422018348596, 3.1538211382113794, 2.8128, 3.92359375, 3.2581395348837203, 3.45684615384615, 3.85870229007634, 4.46624060150376, 4.95014598540146, 4.702733812949639, 6.137857142857139, 5.4538620689655195, 4.48590604026846, 4.508, 4.98555555555555, 7.82568862275449, 8.13674556213018, 6.88584269662921, 5.071338028169009, 5.48093922651934, 8.082410256410249, 12.072205128205098, 7.42045685279187, 7.398324873096451, 12.248477157360401, 9.41627551020408, 9.17425641025641, 8.16268041237113, 9.93306878306878, 12.142303664921501, 10.6232631578947, 10.896613756613801, 11.2006349206349, 8.2475935828877, 12.7531182795699, 16.4265697674419, 15.961693989071, 12.906298342541401, 17.4287116564417, 13.6091925465838, 11.877290322580599, 14.0765562913907, 8.5008275862069, 7.65277777777778, 7.61846153846154, 8.24057142857143, 9.04870503597122, 6.9623214285714194, 7.560444444444441, 7.268195488721799, 10.265639097744401, 7.15868217054263, 5.7475968992248, 9.096349206349212, 11.555596330275199, 12.630677966101699, 8.33198275862069, 9.528157894736848, 7.46677083333333, 9.39909090909091, 8.4725, 9.465882352941179, 5.6719, 4.71235294117647, 5.24031746031746, 5.48524590163934, 3.7019298245614, 4.26160714285714, 4.33909090909091, 3.45309523809524, 4.42910714285714, 6.21847457627119, 0.8931343283582092, 0.8246268656716421, 5.05666666666667, 1.0226582278481, 4.46528735632184, 2.18483516483517, 2.13118279569892, 3.94, 2.4963809523809504, 2.9527777777777797, 1.94266055045871, 3.04620689655173, 2.96491379310345, 3.52296610169492, 4.0902479338843, 2.57282258064516, 4.47138461538462, 4.661969696969701, 4.9263125, 2.60296296296296, 7.29194117647059, 5.472117647058821, 7.681907514450869, 5.08857954545455, 4.96960227272728, 9.86346153846154, 11.452295081967199, 7.859301075268821, 6.7286458333333306, 10.9607344632768, 7.24486631016043, 9.49416216216216, 7.45697297297297, 7.44011049723758, 12.5247513812155, 10.140773480663, 11.1616176470588, 9.65499999999999, 9.45556338028168, 15.2515555555556, 8.34552147239264, 13.7942236024845, 12.643076923076901, 14.6603246753247, 11.283026315789499, 14.051733333333301, 11.718125, 11.7436633663366, 15.031418439716301, 11.78, 9.70740740740741, 5.793178294573639, 11.006422764227601, 10.154098360655698, 9.400089285714289, 11.2485454545454, 7.669841269841269, 8.946393442622949, 8.015438596491231, 8.16222222222222, 6.77075471698113, 6.8422, 5.29452380952381, 5.25129770992366, 2.8880451127819504, 3.24681481481481, 3.1127407407407404, 3.01744525547445, 5.50791666666667, 5.33590277777778, 7.25424657534246, 5.968445945945951, 4.61263513513514, 6.86984375, 3.97611842105263, 7.52948051948051, 3.5963291139240496, 4.39408805031447, 2.7955625, 3.2296273291925495, 4.5615337423312905, 6.8075757575757505, 6.426586826347309, 7.57153846153846, 3.92520958083832, 4.87947674418604, 8.57549132947977, 5.15271186440678, 7.39189944134078, 12.1403846153846, 5.880655737704919, 6.56904255319149, 6.5258549222798, 9.3334375, 8.86502590673575, 12.1859585492228, 11.8413089005236, 12.0447894736842, 11.6879661016949, 14.0158918918919, 13.3490810810811, 9.28033333333333, 9.647722222222221, 9.94586592178771, 13.170479041916199, 12.436666666666698, 12.606585365853698, 15.199937106918199, 9.03696551724138, 8.56811594202899, 9.40522058823529, 8.27112903225806, 4.10532258064516, 5.4246153846153895, 5.60675324675325, 6.073164556962019, 5.96222222222222, 4.958902439024389, 2.06070588235294, 5.44471264367816, 4.4625974025974005, 3.1463636363636405, 4.398235294117651, 6.27010869565218, 4.533908045977009, 4.2009375, 6.26572916666667, 4.2159793814433, 3.66029702970297, 5.83196261682243, 7.02046296296296, 6.52518518518518, 6.07718181818182, 4.277946428571431, 4.72070175438596, 5.0763157894736795, 4.740517241379309, 3.45464, 3.5659523809523797, 5.936153846153849, 6.248507462686571, 7.53459259259259, 5.310070921985821, 6.18826388888889, 3.8763758389261698, 4.354966887417221, 4.905259740259741, 7.2468831168831205, 4.41005847953216, 5.07491428571429, 4.763888888888889, 4.80411764705883, 7.5262566844919805, 8.5288947368421, 7.23204188481675, 12.3046596858639, 9.52908045977012, 13.8457065217391, 9.20151162790698, 10.0834337349398, 7.544817073170741, 8.1777300613497, 15.6740789473684, 12.622052980132501, 14.430206185567, 9.65517006802721, 10.7842068965517, 9.6009090909091, 8.35214285714286, 7.347299270073, 9.282288135593221, 6.557247706422019, 7.37925925925926, 3.94413333333333, 5.205753424657541, 3.95216666666667, 4.4903921568627405, 4.19914893617021, 2.6258, 2.2353448275862102, 3.96366666666667, 5.021111111111111, 3.7444615384615396, 3.98686567164179, 1.80154929577465, 3.77450704225352, 3.6278947368421, 3.9487012987013, 3.04759493670886, 3.29650602409639, 2.31616279069767, 2.21597701149425, 2.22125, 3.05065934065934, 3.6348421052631497, 2.83121212121212, 4.28788461538462, 4.0916666666666694, 2.8868141592920296, 3.3353781512605, 2.44578512396694, 2.03617886178862, 3.57255474452555, 3.94283333333333, 2.3556043956044, 2.52302521008403, 4.61112582781457, 4.69006578947368, 6.01572368421052, 5.6556875, 8.58635869565217, 8.54907608695652, 9.369788359788359, 5.96261780104712, 10.959476439790599, 9.88142857142857, 9.638952879581149, 9.61535519125683, 10.107905759162302, 11.8912631578947, 8.300161290322581, 13.0363736263736, 12.356956521739098, 12.1067597765363, 10.419664804469301, 14.5436516853933, 13.8116, 15.075402298850602, 11.7141279069767, 13.130818713450301, 12.646604938271599, 9.94703947368421, 10.4291946308725, 9.81574324324324, 13.785314685314699, 13.7226056338028, 13.516160000000001, 10.872519685039402, 9.0892, 7.01793103448276, 7.28452173913043, 4.99745098039216, 4.8480612244898, 3.69887755102041, 3.69479166666667, 5.8488172043010795, 6.55494505494506, 5.7756179775281, 5.849080459770111, 8.63658823529412, 4.9553164556962, 4.58571428571429, 3.9384, 5.43346153846154, 5.32084507042253, 3.7379411764705894, 7.768620689655171, 7.25396551724138, 7.837241379310339, 7.5159649122807, 5.103, 4.60933333333333, 4.52897959183674, 1.4904255319148898, 2.17702127659574, 2.6336170212766, 3.2359574468085097, 1.9942553191489398, 1.6934693877551001, 1.579, 3.9184, 1.45196078431373, 3.80296296296296, 2.63089285714286, 1.0010447761194, 1.46695652173913, 2.3631884057971, 2.9491549295774706, 3.20467741935484, 2.205125, 2.18974358974359, 2.9057317073170696, 2.0566265060241, 1.8845238095238102, 1.42426966292135, 2.8609473684210496, 5.49280487804878, 4.99277777777778, 4.055346534653459, 2.68394230769231, 3.39160377358491, 3.27217391304348, 3.016, 2.5545454545454502, 3.01016393442623, 5.41170731707317, 4.28794326241135, 5.2436893203883495, 4.81273333333333, 6.0859602649006606, 3.15333333333333, 3.92903703703704, 7.957916666666669, 9.2981976744186, 7.30416184971098, 10.236875, 11.5966242038217, 10.7771052631579, 11.4817368421053, 10.425638297872302, 13.0999465240642, 17.0774468085107, 12.2260326086957, 15.5197826086957, 15.607514450866999, 18.760838709677397, 16.1833333333333, 13.126144578313301, 12.994756097561, 16.0348734177215, 14.5058860759494, 14.9462820512821, 17.8467948717949, 6.94609271523179, 12.149463087248302, 12.4432653061224, 10.06, 9.679788732394359, 8.31156028368794, 7.983, 8.591007194244611, 6.82558823529412, 11.7039393939394, 10.3484496124031, 13.5220472440945, 10.2587704918033, 9.78595041322314, 10.2195726495726, 11.9938793103448, 7.034622641509429, 7.06761904761905, 8.79892156862745, 5.9018, 5.7192, 5.285918367346941, 5.82354838709678, 6.41608695652174, 7.8086813186813195, 4.8667045454545494, 5.36, 4.1321875, 3.18079365079365, 3.4614516129032302, 3.1991935483871, 2.73116666666667, 1.75357142857143, 3.18396226415094, 3.6569230769230803, 3.38212765957447, 2.2702127659574503, 2.32, 5.948867924528299, 5.57951219512195, 1.36754385964912, 4.63296875, 1.6655384615384599, 4.844647887323941, 1.24048192771084, 1.6248809523809498, 1.62044943820225, 2.01095744680851, 4.466526315789469, 3.10453608247423, 6.76647727272727, 5.72216666666667, 13.7373369565217, 4.68614973262032, 11.1114136125654, 11.9816753926702, 11.6251308900524, 10.9583246073298, 16.7163636363636, 18.662264150943397, 10.8522222222222, 12.2935664335664, 14.0904494382023, 19.1478089887641, 11.338505747126401, 12.516379310344801, 15.474210526315801, 14.847017543859598, 13.7699390243902, 9.84175, 8.84145569620253, 8.94132911392405, 9.28828025477707, 13.134967741935501, 15.121298701298699, 12.851447368421098, 10.946556291390701], \"y\": [0.000763534, 0.00362992619047619, 0.00531764509803921, 0.00203846679245283, 0.00254623448275862, 0.000705776266666667, 0.00066211987012987, 0.00189572205128205, 0.000541491097560975, 0.000850576666666667, 0.00208334651162791, 0.00371013132530121, 0.00441136222222222, 0.0106547744444444, 0.00368043404255319, 0.0020290840425531897, 0.00474943571428571, 0.00178965982142857, 0.00646792123893805, 0.00431538034188034, 0.0107008452991453, 0.00336649491525424, 0.00131558068965517, 0.00143368923076923, 0.0018884974576271198, 0.0049361922413793105, 0.0077091313559322, 0.009253098290598291, 0.007523733050847459, 0.00608304830508474, 0.00436981355932204, 0.00491080086206896, 0.00260182368421053, 0.007068260360360359, 0.00312837345132743, 0.0051911857142857105, 0.00193354355140187, 0.0061425793814433, 0.00297133720930233, 0.00174208355555556, 0.00330246133333333, 0.0023364, 0.00607928904109589, 0.0101771826086957, 0.00282832803738318, 0.007673175728155341, 0.0014103472972973, 0.00108212637168142, 0.005078500869565221, 0.00251588260869565, 0.00323739210526316, 0.00315998620689655, 0.00348997457627119, 0.0033085059322033898, 0.00763818376068376, 0.0032243000000000003, 0.00560719537037037, 0.007290446728971959, 0.00632098947368421, 0.00550913963963964, 0.00569639459459459, 0.00548501909090909, 0.00717343577981652, 0.0034529174311926604, 0.0016840219417475699, 0.00302458271604938, 0.00254023645833333, 0.00425734673913043, 0.00245627173913044, 0.00407574777777778, 0.00246740454545455, 0.005160392941176471, 0.0010761454166666698, 0.0005956963888888889, 0.00153797055555556, 0.00196277466666667, 0.000714559090909091, 0.000761810602409638, 0.00107776380952381, 0.004515600000000001, 0.00235541818181818, 0.00206889204545455, 0.00284334673913043, 0.003430834375, 0.0017251306122449, 0.00171541868686869, 0.0018915448999999999, 0.0038051676470588205, 0.0023386323300970896, 0.00237906796116505, 0.00255075096153846, 0.0035492676190476205, 0.0026885370093457897, 0.0053910887850467295, 0.00308625, 0.00367995526315789, 0.00347363703703704, 0.0015014042372881401, 0.00301632542372881, 0.00259128389830509, 0.0035401559322033897, 0.0033257847457627103, 0.00213823906779661, 0.00331723931623932, 0.00397688974358974, 0.0019941119565217397, 0.00145747408695652, 0.0055822221238938, 0.00723754774774775, 0.006094310377358489, 0.005790661682242989, 0.00173530737373737, 0.0014617074747474699, 0.00242898095238095, 0.00403680602409639, 0.0033696370370370396, 0.0039619240506329105, 0.00470598987341772, 0.00380042911392405, 0.0066691128205128205, 0.0020617283116883102, 0.00271754157894737, 0.003458872, 0.0006109936065573769, 0.000754985901639344, 0.0005728177966101691, 0.00122314038461538, 0.0008110639999999999, 0.00124964943396226, 0.0028309591836734697, 0.000991937837837838, 0.000792381666666667, 0.0014437, 0.0013130322580645198, 0.000969063125, 0.0024774671875, 0.0021793424242424198, 0.0020344363636363603, 0.00250581470588235, 0.0033162571428571397, 0.0036138333333333296, 0.0025622073170731697, 0.008487086666666671, 0.00221662340425532, 0.00324468367346939, 0.00122486666666667, 0.0038620220338983, 0.002755495, 0.0012750366129032301, 0.0020372583333333302, 0.00166793125, 0.00243899848484849, 0.00282758088235294, 0.00327675285714286, 0.00285304794520548, 0.00221073513513513, 0.0010980233333333302, 0.0025289025974026, 0.000694287088607595, 0.000756599240506329, 0.000886235624999999, 0.00070472375, 0.00264930493827161, 0.00390627108433735, 0.0032980433734939698, 0.00647448928571429, 0.000801355, 0.00122947011494253, 0.00136082840909091, 0.00437303888888889, 0.0072109966666666706, 0.00789035555555556, 0.00200648695652174, 0.00380208510638298, 0.00516635625, 0.004237858333333329, 0.00261682291666667, 0.0036598336842105297, 0.00937342450980392, 0.00236851455445545, 0.00107533182692308, 0.00164370384615385, 0.00244823238095238, 0.00153265607476635, 0.00239062395833333, 0.0014102635514018698, 0.00162317155963303, 0.00267647962962963, 0.0017735610619469, 0.00221858849557522, 0.0010456944067796599, 0.00153883130434783, 0.00155972305084746, 0.0034179491525423698, 0.00323659322033898, 0.00476041949152542, 0.0027779789473684198, 0.0035046852173913, 0.0031319000000000004, 0.0047461648648648705, 0.0026277641509434, 0.00484556915887851, 0.00468752524271845, 0.00237602095238095, 0.0037056990291262203, 0.00627445230769231, 0.00245519494949495, 0.00132594260416667, 0.00161374153846154, 0.00646413484848485, 0.000358291, 0.000803601627906977, 0.000647854634146342, 0.00114722102564103, 0.00247187073170732, 0.00212559487179487, 0.0021025358974359, 0.00183674473684211, 0.000460658378378378, 0.0014789000000000002, 0.001954228125, 0.001033689375, 0.000644968387096774, 0.00130122, 0.0023426022580645104, 0.00041321935483871, 0.000867287419354839, 0.00236333870967742, 0.001728709375, 0.001757409375, 0.001694825, 0.00121241515151515, 0.0011676203030303, 0.000510910571428571, 0.00129015971428571, 0.0009237061111111109, 0.00037895891891891897, 0.00146852368421053, 0.0045989078947368395, 0.00914437567567568, 0.002829685, 0.00339088571428571, 0.00584672222222223, 0.00467371333333333, 0.0036518740000000003, 0.00560275882352941, 0.009588251020408159, 0.00206842884615385, 0.00662892452830189, 0.00639329649122807, 0.0049253403508771896, 0.000820259508196721, 0.00600430606060606, 0.000932511756756757, 0.0012522228, 0.000829348831168831, 0.00135897688311688, 0.00379451012658228, 0.0021485645569620303, 0.0015030321794871802, 0.00670806585365854, 0.0011738197590361401, 0.0058130783132530105, 0.00163500517241379, 0.0016991970000000002, 0.0024438623655914, 0.00178409278350515, 0.00412302323232323, 0.00393891584158416, 0.0019696619626168197, 0.00209088256880734, 0.00367990642201835, 0.00194631228070175, 0.0031177161016949103, 0.00257767435897436, 0.0043502333333333395, 0.00484070254237288, 0.00127852237288136, 0.00217811452991453, 0.0027715615384615398, 0.00500850086206897, 0.0052325669565217395, 0.00528730695652174, 0.00584861403508772, 0.00341302477876106, 0.0025983330275229396, 0.0052137639639639605, 0.00681566936936937, 0.004357941818181821, 0.0032183403669724803, 0.005774062626262629, 0.0020577659793814397, 0.00466089892473118, 0.00509877, 0.000992921264367816, 0.00162548093023256, 0.00255037142857143, 0.00156799071428571, 0.00214566024096385, 0.000835635694444445, 0.00128879234567901, 0.00215434197530864, 0.0030989607594936698, 0.000829951184210526, 0.000586635844155844, 0.00112398986842105, 0.0104156623188406, 0.0126874328358209, 0.00238356086956522, 0.00364299411764706, 0.00112456164179105, 0.00226888333333333, 0.00223018253968254, 0.0137056564516129, 0.000748486949152542, 0.0011516112195122, 0.00237867027027027, 0.0021214891891891898, 0.00564996470588235, 0.00290829117647059, 0.0003611721875, 0.00035695064516129, 0.00398030967741935, 0.0038972571428571396, 0.00278132, 0.0042036025, 0.00042909255813953503, 0.00287668510638298, 0.00204346923076923, 0.00693894545454545, 0.008801299999999991, 0.00753255, 0.00516038, 0.00636040769230769, 0.00407147727272727, 0.00210223333333333, 0.00342373428571429, 0.00452928823529412, 0.00047999304347826104, 0.0012375784, 0.0040843844155844106, 0.00278126, 0.0158368854166667, 0.0056794824742268, 0.005301811764705879, 0.00456922233009709, 0.00583037843137255, 0.00142412476190476, 0.0012741335238095198, 0.00355810183486239, 0.00579045090909091, 0.0018648258928571399, 0.0018940443478260899, 0.00758214035087719, 0.0019391610619469, 0.00435948828828829, 0.00174550630630631, 0.00239552870370371, 0.004422041284403671, 0.00483730825688073, 0.00431457943925234, 0.0025925171428571397, 0.00343223725490196, 0.0097456412371134, 0.00617648571428571, 0.014929829787234, 0.00272702659574468, 0.0106502384615385, 0.00349110760869565, 0.00444960777777778, 0.00264002023809524, 0.00232599534883721, 0.00337497108433735, 0.00084463987804878, 0.00133275493827161, 0.0015669346153846199, 0.0036261533333333297, 0.0020767602739726, 0.00195945362318841, 0.00355685671641791, 0.00200478717948718, 0.00511465405405405, 0.00284918333333333, 0.00101578676470588, 0.00133609375, 0.00161171875, 0.0059446025974026, 0.0010358187341772199, 0.000494185679012346, 0.00123584048780488, 0.000342503125, 0.00045458253012048205, 0.0016633418181818199, 0.00162096329545454, 0.00322657034090909, 0.0018537808888888898, 0.00154919288888889, 0.000971110543478261, 0.00178403968253968, 0.0030069585106383, 0.000877350208333334, 0.000859494639175258, 0.0008867229896907221, 0.0014699000000000001, 0.0019069757575757601, 0.0036005720000000002, 0.00476807425742574, 0.00312935048543689, 0.0019487446601941698, 0.00168116923809524, 0.0038819171428571397, 0.0032976859813084103, 0.0037443641509434, 0.00696241531531531, 0.00283957631578947, 0.00456267894736842, 0.00235377288135593, 0.0040292313559322, 0.00268142737288136, 0.00357172627118644, 0.00215093775862069, 0.006082837931034479, 0.00436352368421052, 0.00354158245614035, 0.00488380442477876, 0.00169836163636364, 0.00250045137614679, 0.00239418532110092, 0.0072820970297029705, 0.00694172330097087, 0.004955264, 0.0073050979591836795, 0.000695438666666667, 0.0014238670588235301, 0.0018696192592592602, 0.00150686526315789, 0.00297544680851064, 0.007884839583333329, 0.0038688893617021295, 0.002426594, 0.0034911, 0.001651664, 0.000354604339622641, 0.000713945818181818, 0.000966142909090909, 0.000535886607142857, 0.00260287368421053, 0.00038701254545454503, 0.000772291034482759, 0.0009436635, 0.0015652775, 0.00162919193548387, 0.001799434375, 0.00289229705882353, 0.00837027794117647, 0.0157258235294118, 0.00564473823529412, 0.0021677185714285697, 0.00313689436619718, 0.00204920138888889, 0.00181721666666667, 0.000997117721518987, 0.00484827848101266, 0.019094037037037, 0.00512610963855422, 0.00644818095238095, 0.00189831363636364, 0.00383827777777778, 0.00162134402173913, 0.00286476276595745, 0.00335950105263158, 0.003812475, 0.00119618628571429, 0.0013101095370370401, 0.0037235198198198203, 0.0016068052678571401, 0.00403032, 0.00111979086956522, 0.00432755169491525, 0.00496527627118644, 0.0025549690265486698, 0.00471733982300885, 0.00270328785046729, 0.00286920291262136, 0.00163394554455446, 0.00145013861386139, 0.00531722659574468, 0.00261984914893617, 0.004337930681818179, 0.00167152725274725, 0.00200641444444444, 0.000928577111111111, 0.0010623632183908, 0.00217842705882353, 0.007051963513513509, 0.00110136420289855, 0.001554198, 0.0021158785416666697, 0.00282479782608696, 0.0010872641025641, 0.000825094411764706, 0.00302026451612903, 0.00118057787878788, 0.00255501842105263, 0.002856655, 0.003523515, 0.00205260714285714, 0.0028407813953488397, 0.00198260444444445, 0.00249680434782609, 0.0046997387755102, 0.005889897959183679, 0.00152785098039216, 0.0021067622641509397, 0.00140115763636364, 0.00110731090909091, 0.00123168509090909, 0.00554171228070175, 0.000573042, 0.00165420322580645, 0.0024549696969697, 0.00272285303030303, 0.001169637, 0.000788103733333333, 0.0012475678666666698, 0.00117815893333333, 0.0023492952380952396, 0.00115541747252747, 0.000767222282608696, 0.00134429467391304, 0.0018221668478260898, 0.00203446914893617, 0.00321308736842106, 0.0033084705050505, 0.0035511079646017704, 0.00462817079646017, 0.004168818965517239, 0.00230172881355932, 0.00295292542372881, 0.0036824254237288103, 0.00383510172413793, 0.00417525847457627, 0.0044369415254237295, 0.00501850683760684, 0.0029256460869565197, 0.0035981380530973398, 0.0028362221238938104, 0.00323985045045045, 0.00404555225225225, 0.0040929352293578, 0.0052131214953271, 0.00360195981308411, 0.00269014018691589, 0.00427369142857143, 0.00390924945054945, 0.00204661170212766, 0.0031501706521739102, 0.004116975, 0.00302440117647059, 0.00253099397590361, 0.00615891358024691, 0.00303757594936709, 0.00290484487179487, 0.0005736278571428571, 0.00113191986111111, 0.000447315692307692, 0.00137641774193548, 0.0007281432758620691, 0.000551201967213115, 0.00167050745762712, 0.00206234814814815, 0.00141381228070175, 0.0011312075, 0.00160298196078431, 0.0024215720000000003, 0.00388312040816326, 0.00257334166666667, 0.0040015652173913, 0.0009798237777777778, 0.0019393704545454602, 0.00171468461538462, 0.0013858263157894698, 0.00145604285714286, 0.00098903, 0.00230159333333333, 0.00198475625, 0.0022088, 0.0018960870967741899, 0.00205653870967742, 0.00364970967741935, 0.00566366451612903, 0.003159928125, 0.00190821875, 0.00222950303030303, 0.0009567963636363641, 0.00202488484848485, 0.00116899542857143, 0.00106199571428571, 0.00732315227272727, 0.006272502272727271, 0.00553728666666667, 0.00553650434782609, 0.00327358, 0.00690264509803921, 0.0046050387755102, 0.00266881346153846, 0.0046599867924528296, 0.00279516727272727, 0.0020477214285714303, 0.00340030350877193, 0.00375507719298246, 0.0019762721311475397, 0.00176682459016393, 0.00168699393939394, 0.00047919848484848494, 0.00146052373134328, 0.0007442439999999999, 0.0008832632000000001, 0.00226763246753247, 0.004076236, 0.00130973454545455, 0.00121533724137931, 0.0016634307692307698, 0.00433793934782609, 0.000745883645833333, 0.0013595005, 0.00306130582524272, 0.00652067452830189, 0.00657673577981651, 0.00566556981132076, 0.00667780825688073, 0.006282808474576271, 0.00565720338983051, 0.00573921034482759, 0.00664168793103449, 0.00847526470588235, 0.00472686434782609, 0.00910426902654868, 0.00564105145631068, 0.0100949429906542, 0.0126700885714286, 0.0035828079207920797, 0.0034481693069306897, 0.00198517474747475, 0.00339944042553191, 0.0070681278350515405, 0.00703935729166667, 0.00244089361702128, 0.00373635760869565, 0.00164393130434783, 0.000824073222222222, 0.000812301477272727, 0.0014093789772727302, 0.0013002679310344801, 0.0023662348837209302, 0.00124952095238095, 0.0034974025316455697, 0.00516824814814815, 0.0035614253164557, 0.00148931184210526, 0.00102967552631579, 0.00272373230769231, 0.00820022083333333, 0.00326402878787879, 0.00391222575757576, 0.006728870769230771, 0.00046260238095238097, 0.000649104761904762, 0.000818792786885246, 0.00139509016949153, 0.00421561034482759, 0.0047184350877193, 0.0007781917857142861, 0.00123326511627907, 0.000840730975609756, 0.00110978, 0.000922514146341464, 0.00104390875, 0.00103629487179487, 0.000893365675675676, 0.00665549411764706, 0.0027113000000000003, 0.0024581129032258103, 0.0016211625, 0.00218135, 0.0024325428571428604, 0.0010766259375, 0.0023381324324324303, 0.0015463595238095198, 0.00192646666666667, 0.000701454130434783, 0.00218732830188679, 0.0021885999999999997, 0.00534534561403509, 0.00647687966101695, 0.00614048, 0.006239981967213121, 0.00360881467889908, 0.00135469189189189, 0.009873491228070179, 0.0018437960869565199, 0.00297788050847458, 0.00369200966101695, 0.00484576525423729, 0.0028853330508474603, 0.007999566666666671, 0.007875863793103441, 0.000652096034482758, 0.00473932347826087, 0.00307352857142857, 0.0049138367924528295, 0.00383161308411215, 0.0046496934579439205, 0.0059034, 0.005337358252427179, 0.0057190693069307, 0.00106821484848485, 0.001242515625, 0.00209072857142857, 0.00237272783505155, 0.00285731979166667, 0.00242336666666667, 0.00199331758241758, 0.00247587872340426], \"z\": [0.158170731707317, 2.0504761904761897, 1.41326315789474, 0.21256880733945002, 0.559316239316239, 0.11826666666666699, 0.13828947368421, 0.9861538461538459, 0.107065868263473, 0.162083333333333, 0.6830588235294109, 0.323604651162791, 0.30121546961326, 0.818415300546448, 0.3661497326203211, 0.00448000000000001, 0.17394366197183098, -0.0429896907216495, 0.008000000000000009, 0.10072961373390599, 1.4108547008546999, 0.0887179487179488, 0.00306034482758621, 0.0383898305084746, 0.085635593220339, 0.133008474576271, 0.327796610169491, 0.364322033898305, 0.268813559322034, 0.180466101694915, 0.0830901287553648, 0.115236051502146, 0.0276211453744493, 0.48712389380530996, 0.0228, 0.145135135135135, 0.0153301886792453, 0.217564766839379, 0.0919565217391304, -0.00323529411764706, 0.34297297297297297, 0.0582993197278911, 0.549520547945206, 0.9289781021897809, 0.118252427184466, 0.35018691588785106, 0.0599090909090909, 0.0762053571428572, 0.5178602620087339, 0.0644748858447488, 0.0787610619469027, 0.0562393162393162, 0.21728813559322, 0.122991452991453, 0.24363247863247897, 0.12272727272727302, 0.158398268398268, 0.14646288209607, 0.135414847161572, 0.0824324324324325, 0.0989140271493212, 0.217227272727273, 0.13197247706422, 0.0263255813953488, 0.047609756097561, 0.10646153846153801, 0.0602604166666667, 0.0878453038674033, 0.039375, 0.0508730158730159, 0.21340136054421802, 0.170425531914894, 0.16127272727272698, 0.11669724770642201, 0.47414634146341494, 0.20820512820512801, 0.168, 0.18389312977099198, 0.401094890510949, 0.28383561643835603, 0.365, 0.18423357664233603, 0.1875, 0.579622641509434, 0.0496273291925466, 0.0940853658536586, 0.149820359281437, 0.151235294117647, 0.15, 0.22439306358381497, 0.193236994219653, 0.134715909090909, 0.046045197740113, 0.0640677966101695, 0.0915642458100559, 0.23719101123595498, 0.15, 0.0545360824742268, 0.0349740932642487, 0.0711855670103093, 0.196683673469388, 0.28229591836734697, 0.145282051282051, 0.15938461538461499, 0.121128205128205, 0.0472105263157895, 0.0272774869109948, 0.10186170212766, 0.61103825136612, 0.16583850931677, 0.460842696629214, 0.00664596273291925, 0.0384146341463415, 0.139565217391304, 0.18094202898550701, 0.125333333333333, 0.548181818181818, 0.21518796992481198, 0.198625954198473, 0.08800000000000001, 0.0751181102362206, 0.12768, 0.157338709677419, 0.0387378640776699, 0.0755445544554456, 0.0369387755102041, 0.0930434782608696, 0.056195652173912994, 0.191477272727273, 0.0729268292682927, 0.13868852459016398, 0.0335, 0.7296226415094341, 0.379622641509434, 0.0490566037735849, 0.308301886792453, 0.17321428571428601, 0.5130357142857139, 0.125614035087719, 0.555689655172414, 0.6936065573770489, 0.8610294117647059, 1.89407894736842, 0.19532467532467498, 0.818125, 0.0592553191489362, 0.36717171717171704, 0.0764705882352941, 0.137403846153846, 1.00009433962264, 0.270943396226415, 0.4405454545454551, 1.29044247787611, 0.7781739130434779, 0.366803278688525, 0.19795081967213102, 0.0638211382113821, 0.357846153846154, 0.0549230769230769, 0.0440909090909091, 0.12455223880597001, 0.0347761194029851, 0.772074074074074, 0.773237410071942, 0.52410447761194, 1.14661971830986, 0.0508333333333333, 0.094551724137931, 0.18945205479452104, 0.474897959183674, 0.9665999999999989, 0.37642384105960297, 0.140322580645161, 0.486496815286624, 0.7072955974842771, 0.329875, 0.202857142857143, 0.24950617283950602, 0.44317647058823495, 0.025, 0.036878612716763, 0.0990804597701149, 0.253125, 0.0812994350282486, 0.19195530726257, 0.0819889502762431, 0.0502197802197802, 0.0659459459459459, 0.00904761904761905, 0.09536082474226801, 0.0233163265306122, 0.0426530612244898, 0.0772448979591836, 0.1625, 0.6226530612244899, 0.0933163265306122, 0.0374871794871795, 0.178586387434555, 0.118162162162162, 0.22278688524590198, 0.142651933701657, 0.223463687150838, 0.12321212121212101, 0.0355428571428572, 0.044093567251462004, 0.0769590643274853, 0.0992121212121212, 0.0277018633540372, 0.0126016260162602, 0.17345454545454503, 0.0157142857142857, 0.151780821917808, 0.1, 0.105217391304348, 0.8394029850746271, 0.481692307692308, 0.138615384615385, 0.101746031746032, 0.0320967741935484, 0.0777777777777778, 0.11, 0.0179245283018868, 0.0626415094339623, 0.12132075471698099, 0.0544230769230769, 0.0446153846153846, 0.18269230769230801, 0.0973076923076923, 0.511923076923077, 0.46622641509434, 0.127169811320755, 0.0978181818181818, 0.223571428571429, 0.0342105263157895, 0.17739130434782602, 0.0465, 0.022258064516129, 0.10142857142857101, 0.256875, 0.816923076923077, 0.544242424242424, 0.297361111111111, 0.8608108108108109, 0.8979487179487181, 0.599518072289156, 0.7290476190476189, 2.15858823529412, 0.242528735632184, 2.68898876404494, 1.41468085106383, 1.73770833333333, 0.151881188118812, 1.4027522935779801, 0.109430894308943, 0.19312, 0.0144094488188976, 0.13093023255814, 0.766153846153846, 0.301450381679389, 0.13270676691729302, 0.8244525547445258, 0.10546762589928099, 0.40007142857142897, 0.223103448275862, 0.28503355704697997, 0.310285714285714, 0.152407407407407, 0.298502994011976, 0.0875739644970413, 0.035561797752809, 0.128222222222222, 0.290828729281768, 0.0494845360824742, 0.015025641025641003, 0.10649746192893401, 0.10746192893400999, 0.0988324873096446, 0.008622448979591841, 0.072051282051282, 0.18701030927835102, 0.0717098445595855, 0.0809947643979057, 0.0642408376963351, 0.0463350785340314, 0.0260846560846561, 0.0195187165775401, 0.21833333333333302, 0.17075675675675697, 0.0760109289617487, 0.10309392265193401, 0.134424242424242, 0.0275776397515528, 0.208774193548387, 0.040794701986755, 0.0168965517241379, 0.03625, 0.17321678321678302, 0.0325714285714286, 0.0152517985611511, 0.00508928571428571, 0.014962962962963, 0.102481203007519, 0.0709774436090226, -0.008294573643410859, 0.0121705426356589, 0.0275396825396825, 0.22170940170940198, 1.35830508474576, 0.110689655172414, 0.0681578947368421, 0.0113513513513514, 0.124, 0.12721153846153802, 0.199176470588235, 0.0056, 0.0651470588235294, 0.0657142857142857, 0.17885245901639302, 0.503333333333333, 0.0964285714285714, 0.0260377358490566, 0.007115384615384609, 0.665535714285714, 0.169491525423729, 2.98910447761194, 1.2334328358209, 0.0211111111111111, 1.88151898734177, 0.22, 3.42681318681319, 3.54268817204301, 1.47569892473118, 1.4494285714285702, 1.2178703703703702, 1.0789908256880698, 0.709827586206896, 0.656465517241379, 0.48398305084745796, 0.0325619834710744, 0.397661290322581, 1.07207692307692, 0.7183333333333329, 1.3536875, 0.567901234567902, 0.212764705882353, 0.16329411764705898, 0.247528735632184, 0.0332000000000001, 0.00392045454545455, 0.0071978021978022, 0.0391256830601093, 0.00438502673796791, 0.00427083333333333, 0.628756476683938, 0.0235828877005347, 0.064054054054054, 0.178216216216216, 0.0361748633879781, 0.009060773480662991, 0.05906077348066299, 0.10375, 0.0466091954022988, 0.0493529411764706, 0.282098765432098, 0.12711656441717803, 0.17683229813664603, 0.0246153846153846, 0.24422077922077898, 0.17881578947368398, 0.11333333333333301, 0.025625, 0.00671328671328671, 0.0194326241134752, 0.0128888888888889, 0.0231851851851852, 0.0408461538461539, 0.05936, 0.0716129032258064, 0.0412280701754386, 0.0187323943661972, 0.129538461538462, 0.0684126984126984, 0.07, 0.00517857142857143, 0.0463636363636364, 0.0236538461538462, 0.51171875, -0.00857142857142857, 0.0186666666666667, 0.211240875912409, -0.0037226277372262796, 0.0143884892086331, 0.061986301369863, 0.0763013698630137, 0.0972972972972974, 0.0217333333333333, 0.0472666666666667, 0.000538461538461538, 0.22662337662337698, 0.0018589743589743602, 0.0115, -0.0046583850931677, 0.0653703703703704, 0.0476687116564417, 0.0415757575757576, 0.21269461077844298, 0.246508875739645, 0.0446783625730994, 0.0513294797687861, 0.00540229885057471, 0.135542857142857, 0.248882681564246, 0.19751381215469602, 0.15497297297297302, 0.19967914438502699, 0.138795811518325, 0.0308163265306122, 0.0427040816326531, 0.140612244897959, 0.0293367346938776, -0.00587628865979381, 0.0883928571428572, 0.190786516853933, 0.10425531914893599, 0.055, 0.0324043715846995, 0.0496174863387979, 0.0186263736263736, 0.158771929824561, 0.128421052631579, 0.17335329341317401, 0.481104294478528, 0.0107333333333333, 0.0487234042553192, 0.0379856115107914, 0.10464566929133902, 0.446060606060606, 0.579605263157895, 0.16962962962963, 0.044578313253012, 0.203176470588235, 0.19593023255814002, 0.100112359550562, 0.0293406593406593, 0.077037037037037, 0.11333333333333301, 0.201481481481481, 0.03625, 0.0368131868131868, 0.1675, 0.0824, 0.164901960784314, 0.3608490566037729, 0.0640178571428572, 0.284690265486726, 0.326814159292035, 0.19617391304347798, 0.40965811965812, 0.59327731092437, 0.09, 0.0648760330578512, 0.128230769230769, 0.5510687022900771, 1.2081481481481497, 0.10014388489208599, 0.136785714285714, 0.080068493150685, 0.66234899328859, 0.0775324675324675, 0.256666666666667, 0.191572327044025, 0.212641509433963, 0.0732954545454546, 0.0453888888888889, 0.17297297297297304, 0.0901621621621622, 0.10109375, 0.0385128205128205, 0.27020408163265397, 0.0410204081632653, 0.0848603351955308, 0.0564550264550265, 0.0732203389830508, 0.11181286549707599, 0.01, 0.0818452380952382, 0.082484076433121, 0.0775, 0.0387, 0.035, 0.0752666666666667, 0.00824324324324324, 0.0019310344827586198, 0.12309859154929599, 0.19934426229508198, 0.10157894736842099, 0.0168604651162791, 0.20025, 0.134230769230769, 0.0358461538461538, -0.004464285714285711, 0.155, 0.18581818181818202, 0.20174603174603198, 0.254, 0.214558823529412, 0.24957142857142803, 0.639722222222222, 0.25434210526315804, 0.517631578947368, 0.5790123456790129, 0.546341463414634, 0.265357142857143, 0.21022727272727298, 1.8798901098901102, 0.248369565217392, 0.26473118279569896, 2.00822916666667, 0.0746, 1.1607692307692299, 0.197614678899082, 0.21539823008849598, 0.0963559322033898, 0.0424193548387096, 0.562063492063492, 0.186640625, 0.5985211267605629, 0.07, 0.0417647058823529, 0.18512987012986998, 0.12410256410256401, 0.24515923566879, 0.260509554140128, 0.33369696969697, 0.0431216931216931, 0.0557671957671957, 0.113041237113402, 0.0991326530612244, 0.0106122448979592, 0.0570918367346939, 0.0619897959183673, 0.0918877551020408, 0.0818367346938775, 0.15210256410256398, 0.12166666666666699, 0.0216402116402116, 0.0395767195767196, 0.15005405405405403, 0.12592391304347803, 0.0504918032786886, 0.453222222222222, 0.0368156424581005, 0.0970621468926554, 0.0873295454545455, 0.0682634730538922, 0.15222929936305699, 0.125, 0.490392156862745, 0.0822972972972973, 0.0325850340136054, 0.46274074074074106, 0.134621212121212, 0.15953846153846202, -0.000330578512396697, 0.0750833333333333, 0.011588785046728998, 0.25262135922330103, 0.14194174757281602, 0.00455445544554456, 0.0343877551020408, 0.10020833333333301, 0.0112765957446808, 0.00717391304347827, 0.0205555555555556, 0.0871428571428571, 0.182317073170732, 0.1055, 0.09774193548387101, 0.0444736842105263, 0.16739726027397303, 0.0251612903225806, -0.0159677419354839, 0.007142857142857141, 0.0474193548387096, 0.0709090909090909, 0.0385454545454545, 0.160925925925926, 2.47384615384615, 1.63134615384615, 1.2238461538461498, 1.7725, 0.955192307692308, 1.7890740740740703, 1.3519999999999999, 0.350545454545454, 1.59142857142857, 0.0588135593220339, 0.30016393442622996, 3.78027777777778, 4.26351351351351, 4.33148648648649, 1.16276315789474, 0.6739743589743591, 1.12294117647059, 1.3572289156626498, 0.18160919540229897, 0.8965909090909091, 1.01191011235955, 1.08117021276596, 0.9551, 0.41183908045977, 0.222947368421053, 0.9405660377358499, 0.5658715596330279, 0.0616216216216216, 0.2215, 0.0759199999999999, 0.111666666666667, 0.291653543307087, 0.342890625, 0.0919863013698629, 0.0178378378378378, 0.115290322580645, 0.37083333333333396, 0.0628467153284671, 0.0706626506024096, 0.221676300578035, 0.432090395480226, 0.702049180327869, 0.205027624309392, 0.0916049382716049, 0.115816326530612, 0.13551020408163303, 0.28264248704663203, 0.275906735751295, 0.200259067357513, 0.20041884816754002, 0.799047619047619, 0.22011560693641602, 0.484157303370786, 1.32272727272727, 0.0556140350877193, 0.0651479289940828, 0.0330674846625767, 0.0474846625766871, 1.06826086956522, 0.30428571428571505, 0.15480769230769198, 0.0777272727272727, 0.0238815789473684, 0.0552, 0.0413605442176871, 0.0352739726027397, 0.112068965517241, 0.140069444444444, 0.42517730496453904, 0.258175182481752, 0.9306716417910451, 0.0633333333333333, 0.0653543307086614, 0.0613492063492063, 0.14516393442623002, 0.264583333333333, 0.090888888888889, 0.12218181818181802, 0.120654205607477, 0.0380952380952381, 0.11647619047619, 0.0460194174757281, 0.033061224489796, 0.10206185567010302, 0.0353125, 0.101505376344086, 0.0620833333333333, 0.012089552238806003, 0.0704411764705882, 0.16955223880596998, 0.10865671641791001, 0.0616923076923077, 0.509180327868853, 0.989827586206896, 0.29192982456140304, 0.509423076923077, 0.531346153846154, 0.593962264150943, 0.3, 0.022156862745098, 0.561612903225806, 0.36028985507246397, 0.351571428571429, 0.106973684210526, 2.30897727272727, 2.01662921348315, 2.93446808510638, 2.3066666666666698, 0.6372, 0.8652941176470591, 0.17727022058823605, 0.186285971223022, 0.7363676341248899, 0.101059947871416, 0.21374576271186396, 0.27380508474576304, 0.16540288379982998, 0.13737691001697802, 1.10109401709402, 1.07712369597615, 0.47870129870129896, 0.639826539462272, 0.44591549295774696, 0.6317883211678829, 0.41841078066914605, 0.60062558356676, 0.8039811320754721, 0.811156398104265, 0.394174085064293, 0.0984514170040486, 0.0769786368260428, 0.265220061412487, 0.0897839506172841, 0.103333333333333, 0.16340314136125597, 0.179141039236479, 0.118560767590618]}],\n",
              "                        {\"coloraxis\": {\"colorbar\": {\"title\": {\"text\": \"color\"}}, \"colorscale\": [[0.0, \"#0d0887\"], [0.1111111111111111, \"#46039f\"], [0.2222222222222222, \"#7201a8\"], [0.3333333333333333, \"#9c179e\"], [0.4444444444444444, \"#bd3786\"], [0.5555555555555556, \"#d8576b\"], [0.6666666666666666, \"#ed7953\"], [0.7777777777777778, \"#fb9f3a\"], [0.8888888888888888, \"#fdca26\"], [1.0, \"#f0f921\"]]}, \"legend\": {\"tracegroupgap\": 0}, \"margin\": {\"t\": 60}, \"scene\": {\"domain\": {\"x\": [0.0, 1.0], \"y\": [0.0, 1.0]}, \"xaxis\": {\"title\": {\"text\": \"HYY_META.H2O168.mean\"}}, \"yaxis\": {\"title\": {\"text\": \"CS.mean\"}}, \"zaxis\": {\"title\": {\"text\": \"HYY_META.SO2168.mean\"}}}, \"template\": {\"data\": {\"bar\": [{\"error_x\": {\"color\": \"#2a3f5f\"}, \"error_y\": {\"color\": \"#2a3f5f\"}, \"marker\": {\"line\": {\"color\": \"#E5ECF6\", \"width\": 0.5}}, \"type\": \"bar\"}], \"barpolar\": [{\"marker\": {\"line\": {\"color\": \"#E5ECF6\", \"width\": 0.5}}, \"type\": \"barpolar\"}], \"carpet\": [{\"aaxis\": {\"endlinecolor\": \"#2a3f5f\", \"gridcolor\": \"white\", \"linecolor\": \"white\", \"minorgridcolor\": \"white\", \"startlinecolor\": \"#2a3f5f\"}, \"baxis\": {\"endlinecolor\": \"#2a3f5f\", \"gridcolor\": \"white\", \"linecolor\": \"white\", \"minorgridcolor\": \"white\", \"startlinecolor\": \"#2a3f5f\"}, \"type\": \"carpet\"}], \"choropleth\": [{\"colorbar\": {\"outlinewidth\": 0, \"ticks\": \"\"}, \"type\": \"choropleth\"}], \"contour\": [{\"colorbar\": {\"outlinewidth\": 0, \"ticks\": \"\"}, \"colorscale\": [[0.0, \"#0d0887\"], [0.1111111111111111, \"#46039f\"], [0.2222222222222222, \"#7201a8\"], [0.3333333333333333, \"#9c179e\"], [0.4444444444444444, \"#bd3786\"], [0.5555555555555556, \"#d8576b\"], [0.6666666666666666, \"#ed7953\"], [0.7777777777777778, \"#fb9f3a\"], [0.8888888888888888, \"#fdca26\"], [1.0, \"#f0f921\"]], \"type\": \"contour\"}], \"contourcarpet\": [{\"colorbar\": {\"outlinewidth\": 0, \"ticks\": \"\"}, \"type\": \"contourcarpet\"}], \"heatmap\": [{\"colorbar\": {\"outlinewidth\": 0, \"ticks\": \"\"}, \"colorscale\": [[0.0, \"#0d0887\"], [0.1111111111111111, \"#46039f\"], [0.2222222222222222, \"#7201a8\"], [0.3333333333333333, \"#9c179e\"], [0.4444444444444444, \"#bd3786\"], [0.5555555555555556, \"#d8576b\"], [0.6666666666666666, \"#ed7953\"], [0.7777777777777778, \"#fb9f3a\"], [0.8888888888888888, \"#fdca26\"], [1.0, \"#f0f921\"]], \"type\": \"heatmap\"}], \"heatmapgl\": [{\"colorbar\": {\"outlinewidth\": 0, \"ticks\": \"\"}, \"colorscale\": [[0.0, \"#0d0887\"], [0.1111111111111111, \"#46039f\"], [0.2222222222222222, \"#7201a8\"], [0.3333333333333333, \"#9c179e\"], [0.4444444444444444, \"#bd3786\"], [0.5555555555555556, \"#d8576b\"], [0.6666666666666666, \"#ed7953\"], [0.7777777777777778, \"#fb9f3a\"], [0.8888888888888888, \"#fdca26\"], [1.0, \"#f0f921\"]], \"type\": \"heatmapgl\"}], \"histogram\": [{\"marker\": {\"colorbar\": {\"outlinewidth\": 0, \"ticks\": \"\"}}, \"type\": \"histogram\"}], \"histogram2d\": [{\"colorbar\": {\"outlinewidth\": 0, \"ticks\": \"\"}, \"colorscale\": [[0.0, \"#0d0887\"], [0.1111111111111111, \"#46039f\"], [0.2222222222222222, \"#7201a8\"], [0.3333333333333333, \"#9c179e\"], [0.4444444444444444, \"#bd3786\"], [0.5555555555555556, \"#d8576b\"], [0.6666666666666666, \"#ed7953\"], [0.7777777777777778, \"#fb9f3a\"], [0.8888888888888888, \"#fdca26\"], [1.0, \"#f0f921\"]], \"type\": \"histogram2d\"}], \"histogram2dcontour\": [{\"colorbar\": {\"outlinewidth\": 0, \"ticks\": \"\"}, \"colorscale\": [[0.0, \"#0d0887\"], [0.1111111111111111, \"#46039f\"], [0.2222222222222222, \"#7201a8\"], [0.3333333333333333, \"#9c179e\"], [0.4444444444444444, \"#bd3786\"], [0.5555555555555556, \"#d8576b\"], [0.6666666666666666, \"#ed7953\"], [0.7777777777777778, \"#fb9f3a\"], [0.8888888888888888, \"#fdca26\"], [1.0, \"#f0f921\"]], \"type\": \"histogram2dcontour\"}], \"mesh3d\": [{\"colorbar\": {\"outlinewidth\": 0, \"ticks\": \"\"}, \"type\": \"mesh3d\"}], \"parcoords\": [{\"line\": {\"colorbar\": {\"outlinewidth\": 0, \"ticks\": \"\"}}, \"type\": \"parcoords\"}], \"pie\": [{\"automargin\": true, \"type\": \"pie\"}], \"scatter\": [{\"marker\": {\"colorbar\": {\"outlinewidth\": 0, \"ticks\": \"\"}}, \"type\": \"scatter\"}], \"scatter3d\": [{\"line\": {\"colorbar\": {\"outlinewidth\": 0, \"ticks\": \"\"}}, \"marker\": {\"colorbar\": {\"outlinewidth\": 0, \"ticks\": \"\"}}, \"type\": \"scatter3d\"}], \"scattercarpet\": [{\"marker\": {\"colorbar\": {\"outlinewidth\": 0, \"ticks\": \"\"}}, \"type\": \"scattercarpet\"}], \"scattergeo\": [{\"marker\": {\"colorbar\": {\"outlinewidth\": 0, \"ticks\": \"\"}}, \"type\": \"scattergeo\"}], \"scattergl\": [{\"marker\": {\"colorbar\": {\"outlinewidth\": 0, \"ticks\": \"\"}}, \"type\": \"scattergl\"}], \"scattermapbox\": [{\"marker\": {\"colorbar\": {\"outlinewidth\": 0, \"ticks\": \"\"}}, \"type\": \"scattermapbox\"}], \"scatterpolar\": [{\"marker\": {\"colorbar\": {\"outlinewidth\": 0, \"ticks\": \"\"}}, \"type\": \"scatterpolar\"}], \"scatterpolargl\": [{\"marker\": {\"colorbar\": {\"outlinewidth\": 0, \"ticks\": \"\"}}, \"type\": \"scatterpolargl\"}], \"scatterternary\": [{\"marker\": {\"colorbar\": {\"outlinewidth\": 0, \"ticks\": \"\"}}, \"type\": \"scatterternary\"}], \"surface\": [{\"colorbar\": {\"outlinewidth\": 0, \"ticks\": \"\"}, \"colorscale\": [[0.0, \"#0d0887\"], [0.1111111111111111, \"#46039f\"], [0.2222222222222222, \"#7201a8\"], [0.3333333333333333, \"#9c179e\"], [0.4444444444444444, \"#bd3786\"], [0.5555555555555556, \"#d8576b\"], [0.6666666666666666, \"#ed7953\"], [0.7777777777777778, \"#fb9f3a\"], [0.8888888888888888, \"#fdca26\"], [1.0, \"#f0f921\"]], \"type\": \"surface\"}], \"table\": [{\"cells\": {\"fill\": {\"color\": \"#EBF0F8\"}, \"line\": {\"color\": \"white\"}}, \"header\": {\"fill\": {\"color\": \"#C8D4E3\"}, \"line\": {\"color\": \"white\"}}, \"type\": \"table\"}]}, \"layout\": {\"annotationdefaults\": {\"arrowcolor\": \"#2a3f5f\", \"arrowhead\": 0, \"arrowwidth\": 1}, \"coloraxis\": {\"colorbar\": {\"outlinewidth\": 0, \"ticks\": \"\"}}, \"colorscale\": {\"diverging\": [[0, \"#8e0152\"], [0.1, \"#c51b7d\"], [0.2, \"#de77ae\"], [0.3, \"#f1b6da\"], [0.4, \"#fde0ef\"], [0.5, \"#f7f7f7\"], [0.6, \"#e6f5d0\"], [0.7, \"#b8e186\"], [0.8, \"#7fbc41\"], [0.9, \"#4d9221\"], [1, \"#276419\"]], \"sequential\": [[0.0, \"#0d0887\"], [0.1111111111111111, \"#46039f\"], [0.2222222222222222, \"#7201a8\"], [0.3333333333333333, \"#9c179e\"], [0.4444444444444444, \"#bd3786\"], [0.5555555555555556, \"#d8576b\"], [0.6666666666666666, \"#ed7953\"], [0.7777777777777778, \"#fb9f3a\"], [0.8888888888888888, \"#fdca26\"], [1.0, \"#f0f921\"]], \"sequentialminus\": [[0.0, \"#0d0887\"], [0.1111111111111111, \"#46039f\"], [0.2222222222222222, \"#7201a8\"], [0.3333333333333333, \"#9c179e\"], [0.4444444444444444, \"#bd3786\"], [0.5555555555555556, \"#d8576b\"], [0.6666666666666666, \"#ed7953\"], [0.7777777777777778, \"#fb9f3a\"], [0.8888888888888888, \"#fdca26\"], [1.0, \"#f0f921\"]]}, \"colorway\": [\"#636efa\", \"#EF553B\", \"#00cc96\", \"#ab63fa\", \"#FFA15A\", \"#19d3f3\", \"#FF6692\", \"#B6E880\", \"#FF97FF\", \"#FECB52\"], \"font\": {\"color\": \"#2a3f5f\"}, \"geo\": {\"bgcolor\": \"white\", \"lakecolor\": \"white\", \"landcolor\": \"#E5ECF6\", \"showlakes\": true, \"showland\": true, \"subunitcolor\": \"white\"}, \"hoverlabel\": {\"align\": \"left\"}, \"hovermode\": \"closest\", \"mapbox\": {\"style\": \"light\"}, \"paper_bgcolor\": \"white\", \"plot_bgcolor\": \"#E5ECF6\", \"polar\": {\"angularaxis\": {\"gridcolor\": \"white\", \"linecolor\": \"white\", \"ticks\": \"\"}, \"bgcolor\": \"#E5ECF6\", \"radialaxis\": {\"gridcolor\": \"white\", \"linecolor\": \"white\", \"ticks\": \"\"}}, \"scene\": {\"xaxis\": {\"backgroundcolor\": \"#E5ECF6\", \"gridcolor\": \"white\", \"gridwidth\": 2, \"linecolor\": \"white\", \"showbackground\": true, \"ticks\": \"\", \"zerolinecolor\": \"white\"}, \"yaxis\": {\"backgroundcolor\": \"#E5ECF6\", \"gridcolor\": \"white\", \"gridwidth\": 2, \"linecolor\": \"white\", \"showbackground\": true, \"ticks\": \"\", \"zerolinecolor\": \"white\"}, \"zaxis\": {\"backgroundcolor\": \"#E5ECF6\", \"gridcolor\": \"white\", \"gridwidth\": 2, \"linecolor\": \"white\", \"showbackground\": true, \"ticks\": \"\", \"zerolinecolor\": \"white\"}}, \"shapedefaults\": {\"line\": {\"color\": \"#2a3f5f\"}}, \"ternary\": {\"aaxis\": {\"gridcolor\": \"white\", \"linecolor\": \"white\", \"ticks\": \"\"}, \"baxis\": {\"gridcolor\": \"white\", \"linecolor\": \"white\", \"ticks\": \"\"}, \"bgcolor\": \"#E5ECF6\", \"caxis\": {\"gridcolor\": \"white\", \"linecolor\": \"white\", \"ticks\": \"\"}}, \"title\": {\"x\": 0.05}, \"xaxis\": {\"automargin\": true, \"gridcolor\": \"white\", \"linecolor\": \"white\", \"ticks\": \"\", \"title\": {\"standoff\": 15}, \"zerolinecolor\": \"white\", \"zerolinewidth\": 2}, \"yaxis\": {\"automargin\": true, \"gridcolor\": \"white\", \"linecolor\": \"white\", \"ticks\": \"\", \"title\": {\"standoff\": 15}, \"zerolinecolor\": \"white\", \"zerolinewidth\": 2}}}},\n",
              "                        {\"responsive\": true}\n",
              "                    ).then(function(){\n",
              "                            \n",
              "var gd = document.getElementById('9db9c499-c925-4a01-9b3c-7a7909096a5a');\n",
              "var x = new MutationObserver(function (mutations, observer) {{\n",
              "        var display = window.getComputedStyle(gd).display;\n",
              "        if (!display || display === 'none') {{\n",
              "            console.log([gd, 'removed!']);\n",
              "            Plotly.purge(gd);\n",
              "            observer.disconnect();\n",
              "        }}\n",
              "}});\n",
              "\n",
              "// Listen for the removal of the full notebook cells\n",
              "var notebookContainer = gd.closest('#notebook-container');\n",
              "if (notebookContainer) {{\n",
              "    x.observe(notebookContainer, {childList: true});\n",
              "}}\n",
              "\n",
              "// Listen for the clearing of the current output cell\n",
              "var outputEl = gd.closest('.output');\n",
              "if (outputEl) {{\n",
              "    x.observe(outputEl, {childList: true});\n",
              "}}\n",
              "\n",
              "                        })\n",
              "                };\n",
              "                \n",
              "            </script>\n",
              "        </div>\n",
              "</body>\n",
              "</html>"
            ]
          },
          "metadata": {
            "tags": []
          }
        }
      ]
    },
    {
      "cell_type": "markdown",
      "metadata": {
        "id": "XxWHDSVGRJ74",
        "colab_type": "text"
      },
      "source": [
        ""
      ]
    },
    {
      "cell_type": "markdown",
      "metadata": {
        "colab_type": "text",
        "id": "OaeF6re7ZM21"
      },
      "source": [
        "#### Clustering Rows with normalisation"
      ]
    },
    {
      "cell_type": "code",
      "metadata": {
        "id": "7zWHs6bHZQzl",
        "colab_type": "code",
        "colab": {}
      },
      "source": [
        "scaler = StandardScaler()"
      ],
      "execution_count": 0,
      "outputs": []
    },
    {
      "cell_type": "code",
      "metadata": {
        "id": "oNfkYnPPZq58",
        "colab_type": "code",
        "colab": {}
      },
      "source": [
        "npf2rows_normed = scaler.fit(npf2rows).transform(npf2rows)"
      ],
      "execution_count": 0,
      "outputs": []
    },
    {
      "cell_type": "code",
      "metadata": {
        "id": "-X3igHbHZYnR",
        "colab_type": "code",
        "outputId": "41331e95-d3c3-473c-9e58-31fa611da81c",
        "colab": {
          "base_uri": "https://localhost:8080/",
          "height": 34
        }
      },
      "source": [
        "npf2rows_normed.shape"
      ],
      "execution_count": 158,
      "outputs": [
        {
          "output_type": "execute_result",
          "data": {
            "text/plain": [
              "(724, 100)"
            ]
          },
          "metadata": {
            "tags": []
          },
          "execution_count": 158
        }
      ]
    },
    {
      "cell_type": "code",
      "metadata": {
        "colab_type": "code",
        "id": "YqL36TvpZM28",
        "colab": {}
      },
      "source": [
        "#kmeans.labels_ == kmeans_results ## TRUE"
      ],
      "execution_count": 0,
      "outputs": []
    },
    {
      "cell_type": "code",
      "metadata": {
        "colab_type": "code",
        "outputId": "67d7b83c-91ab-4b53-f568-95a5c0f580ec",
        "id": "jFcCkQWgZM3G",
        "colab": {
          "base_uri": "https://localhost:8080/",
          "height": 301
        }
      },
      "source": [
        "km_inertia = []\n",
        "\n",
        "K = range(2,40)\n",
        "for k in K:\n",
        "    km = KMeans(n_clusters=k,n_init=10,random_state=0).fit(npf2rows_normed)\n",
        "    \n",
        "    km_inertia.append(km.inertia_)  # Almost the same as the -(previous)\n",
        "    \n",
        "plotScore(km_inertia/km_inertia[0],\"inertia\")\n"
      ],
      "execution_count": 160,
      "outputs": [
        {
          "output_type": "display_data",
          "data": {
            "image/png": "[encoded data removed]",
            "text/plain": [
              "<Figure size 432x288 with 1 Axes>"
            ]
          },
          "metadata": {
            "tags": [],
            "needs_background": "light"
          }
        }
      ]
    },
    {
      "cell_type": "code",
      "metadata": {
        "colab_type": "code",
        "id": "w-k10zEMZM22",
        "colab": {}
      },
      "source": [
        "kmeans = KMeans(n_clusters=6,n_init=10,algorithm='full')#,random_state=42)\n",
        "kmeans.fit(npf2rows_normed)\n",
        "# Predict the closest cluster each sample in npf belongs to\n",
        "kmeans_results = kmeans.predict(npf2rows_normed)"
      ],
      "execution_count": 0,
      "outputs": []
    },
    {
      "cell_type": "code",
      "metadata": {
        "id": "vAp2so_Dhb69",
        "colab_type": "code",
        "outputId": "5e9543a9-24d2-4f39-d1b1-96592284f28f",
        "colab": {
          "base_uri": "https://localhost:8080/",
          "height": 542
        }
      },
      "source": [
        "px.scatter_3d(data_frame=npf, x=\"HYY_META.H2O168.mean\", y=\"CS.mean\", z=\"HYY_META.SO2168.mean\",color=kmeans_results)"
      ],
      "execution_count": 162,
      "outputs": [
        {
          "output_type": "display_data",
          "data": {
            "text/html": [
              "<html>\n",
              "<head><meta charset=\"utf-8\" /></head>\n",
              "<body>\n",
              "    <div>\n",
              "            <script src=\"https://cdnjs.cloudflare.com/ajax/libs/mathjax/2.7.5/MathJax.js?config=TeX-AMS-MML_SVG\"></script><script type=\"text/javascript\">if (window.MathJax) {MathJax.Hub.Config({SVG: {font: \"STIX-Web\"}});}</script>\n",
              "                <script type=\"text/javascript\">window.PlotlyConfig = {MathJaxConfig: 'local'};</script>\n",
              "        <script src=\"https://cdn.plot.ly/plotly-latest.min.js\"></script>    \n",
              "            <div id=\"bb66c5ab-e1cd-46b7-9f23-e003f766ef7d\" class=\"plotly-graph-div\" style=\"height:525px; width:100%;\"></div>\n",
              "            <script type=\"text/javascript\">\n",
              "                \n",
              "                    window.PLOTLYENV=window.PLOTLYENV || {};\n",
              "                    \n",
              "                if (document.getElementById(\"bb66c5ab-e1cd-46b7-9f23-e003f766ef7d\")) {\n",
              "                    Plotly.newPlot(\n",
              "                        'bb66c5ab-e1cd-46b7-9f23-e003f766ef7d',\n",
              "                        [{\"hoverlabel\": {\"namelength\": 0}, \"hovertemplate\": \"HYY_META.H2O168.mean=%{x}<br>CS.mean=%{y}<br>HYY_META.SO2168.mean=%{z}<br>color=%{marker.color}\", \"legendgroup\": \"\", \"marker\": {\"color\": [2, 0, 2, 2, 0, 3, 3, 3, 3, 3, 3, 5, 3, 1, 3, 3, 1, 1, 4, 1, 1, 1, 3, 1, 3, 1, 1, 1, 1, 1, 1, 1, 1, 1, 4, 1, 4, 4, 1, 4, 1, 1, 1, 4, 1, 4, 3, 3, 1, 1, 3, 4, 1, 1, 1, 1, 1, 1, 4, 1, 1, 1, 4, 1, 1, 4, 1, 4, 1, 1, 1, 4, 3, 3, 3, 3, 3, 3, 3, 3, 3, 2, 3, 3, 3, 3, 3, 4, 1, 3, 3, 1, 4, 4, 4, 1, 1, 1, 4, 4, 1, 1, 1, 1, 1, 1, 4, 1, 1, 1, 1, 1, 1, 1, 1, 1, 4, 4, 1, 4, 1, 1, 4, 2, 3, 3, 3, 2, 0, 2, 2, 2, 2, 2, 2, 2, 2, 2, 2, 2, 2, 0, 2, 2, 2, 2, 2, 2, 3, 3, 3, 3, 0, 0, 3, 2, 2, 3, 3, 3, 3, 3, 3, 3, 3, 3, 3, 3, 3, 0, 1, 3, 3, 3, 3, 3, 3, 3, 1, 4, 3, 3, 3, 3, 3, 3, 4, 1, 4, 3, 3, 3, 3, 1, 1, 4, 4, 1, 1, 1, 1, 1, 1, 4, 1, 4, 1, 1, 4, 4, 2, 2, 2, 2, 0, 0, 2, 2, 2, 2, 0, 2, 2, 2, 2, 2, 2, 2, 2, 2, 2, 2, 2, 2, 2, 2, 2, 2, 2, 2, 2, 2, 2, 2, 2, 2, 2, 2, 2, 0, 2, 3, 0, 3, 3, 3, 3, 3, 3, 3, 3, 3, 3, 3, 3, 2, 3, 4, 3, 3, 3, 3, 1, 4, 1, 1, 1, 4, 1, 1, 1, 1, 1, 1, 1, 1, 1, 1, 4, 1, 1, 4, 1, 4, 4, 3, 1, 1, 1, 3, 3, 3, 4, 4, 3, 4, 4, 4, 4, 4, 4, 1, 3, 4, 2, 2, 2, 2, 0, 0, 2, 2, 2, 0, 2, 2, 2, 2, 2, 0, 5, 0, 0, 2, 3, 3, 3, 3, 3, 3, 2, 2, 3, 3, 3, 3, 1, 3, 3, 4, 4, 1, 1, 1, 1, 1, 1, 1, 1, 1, 1, 1, 1, 1, 1, 4, 1, 1, 1, 4, 1, 4, 4, 4, 1, 3, 4, 4, 2, 2, 2, 2, 2, 2, 2, 2, 3, 3, 3, 3, 3, 3, 3, 3, 3, 3, 3, 2, 3, 4, 3, 3, 3, 3, 3, 3, 3, 3, 3, 3, 1, 3, 3, 4, 3, 1, 1, 1, 1, 4, 4, 1, 1, 4, 4, 1, 1, 1, 4, 1, 1, 1, 4, 1, 4, 4, 0, 0, 5, 2, 0, 0, 3, 2, 2, 3, 0, 4, 3, 3, 0, 0, 2, 2, 2, 2, 2, 2, 2, 2, 2, 3, 3, 3, 2, 2, 2, 3, 3, 3, 3, 3, 3, 3, 3, 3, 1, 4, 1, 4, 4, 1, 1, 4, 3, 4, 4, 4, 4, 1, 4, 4, 4, 4, 4, 3, 2, 2, 2, 2, 2, 2, 2, 0, 2, 2, 2, 2, 0, 2, 2, 0, 2, 2, 2, 2, 3, 2, 3, 2, 2, 2, 3, 3, 3, 3, 3, 3, 3, 3, 3, 3, 3, 3, 1, 1, 4, 3, 4, 1, 1, 1, 1, 1, 1, 4, 4, 1, 1, 4, 1, 4, 1, 1, 1, 4, 1, 1, 4, 4, 1, 4, 1, 3, 4, 3, 2, 3, 3, 2, 0, 2, 2, 2, 2, 2, 2, 2, 2, 2, 2, 2, 2, 2, 2, 2, 2, 0, 0, 0, 0, 2, 2, 0, 2, 0, 2, 0, 0, 5, 0, 0, 2, 5, 5, 2, 0, 0, 0, 5, 0, 0, 2, 3, 3, 0, 3, 3, 3, 3, 3, 3, 3, 3, 3, 3, 4, 1, 1, 1, 4, 1, 1, 1, 1, 4, 1, 1, 1, 1, 1, 1, 1, 4, 1, 1, 1, 1, 1, 4, 4, 4, 4, 4, 4, 4, 4, 1, 4, 4, 4, 4, 4, 4, 3, 2, 4, 2, 2, 3, 2, 2, 2, 2, 2, 2, 2, 2, 2, 2, 2, 2, 2, 2, 2, 2, 2, 2, 2, 0, 2, 0, 0, 5, 5, 2, 0, 3, 3, 1, 3, 1, 4, 4, 1, 1, 1, 4, 1, 4, 4, 1, 1, 1, 1, 4, 4, 1, 1, 1, 4, 4, 4, 1], \"coloraxis\": \"coloraxis\", \"symbol\": \"circle\"}, \"mode\": \"markers\", \"name\": \"\", \"scene\": \"scene\", \"showlegend\": false, \"type\": \"scatter3d\", \"x\": [2.7419512195122, 2.3133333333333304, 5.937684210526309, 5.71, 2.66350427350427, 4.2536, 3.2536842105263197, 2.30891025641025, 4.45904191616767, 3.93547619047619, 4.2873529411764695, 6.61343023255814, 7.6264088397790095, 10.0361202185792, 7.934171122994651, 4.8048691099476395, 6.8632863849765195, 6.89727678571429, 11.893777777777801, 8.11364806866953, 11.230042735042698, 10.144224137931, 6.833617021276599, 7.34546610169491, 6.03347457627118, 10.870254237288101, 12.4128813559322, 13.0, 12.662584745762699, 12.480296610169498, 12.328369098712402, 14.7128888888889, 10.148820960698698, 14.311150442477901, 11.080488888888901, 15.725982142857099, 15.730651162790698, 13.824564102564098, 13.253368421052599, 12.476666666666699, 8.30872483221477, 7.13761904761905, 7.58986301369863, 11.9757664233577, 5.09972789115646, 10.272757009345801, 4.72538116591928, 5.92466666666667, 9.50371179039302, 9.831176470588241, 8.4552380952381, 12.002203389830502, 9.352711864406778, 8.3312340425532, 14.269316239316199, 11.9099570815451, 14.4485152838428, 16.534887892376698, 18.2585589519651, 15.4045945945946, 19.0994170403588, 14.6581363636364, 17.6654337899543, 12.8315137614679, 7.50429268292683, 12.838673469387802, 11.9076165803109, 14.5040883977901, 10.3808823529412, 13.1462204724409, 8.07292517006803, 12.4694326241135, 5.75720338983051, 4.337520661157019, 2.08813008130081, 6.3125, 4.52838461538462, 2.80597122302158, 2.5051079136690695, 5.73904109589041, 4.88425675675676, 6.05186666666666, 4.7066013071895405, 2.96899371069182, 5.839506172839509, 4.91745454545454, 4.74153846153846, 8.619473684210531, 6.7912865497076105, 6.14161849710983, 5.2919075144508705, 7.22494318181818, 10.8646629213483, 12.321731843575401, 9.56927374301675, 7.145561797752809, 7.922102564102559, 7.12704081632653, 11.8232142857143, 10.5064285714286, 8.818673469387749, 8.60933673469388, 9.73239795918368, 12.0310769230769, 14.172974358974303, 11.090680628272299, 13.16, 18.7765425531915, 16.530546448087403, 16.326770186335402, 15.5006145251397, 11.390843373494, 8.97090909090909, 8.7836231884058, 10.5523913043478, 8.33325925925926, 9.33863636363636, 10.350977443609, 9.76572519083969, 12.399000000000001, 7.60165354330709, 9.0765873015873, 9.07822580645161, 6.032233009708741, 4.13821782178218, 4.28816326530612, 3.7368478260869598, 4.57858695652174, 3.4374390243902404, 8.95256097560976, 7.296981132075469, 6.689, 2.70679245283019, 3.6711320754717005, 6.69698113207547, 5.16854166666667, 3.96375, 3.6769642857142903, 3.9289473684210496, 3.8251724137931, 4.54868852459016, 2.1970588235294097, 5.06513157894737, 3.9617391304347795, 3.4530000000000003, 6.12968085106383, 4.05333333333333, 4.14421568627451, 4.33682692307692, 2.5586792452830203, 2.3898113207547205, 4.22845454545454, 3.3942477876106203, 4.39191304347826, 5.31516393442623, 6.03442622950819, 5.10545454545455, 3.80907692307692, 4.2076923076923105, 4.18901515151515, 3.2502985074626802, 1.9152985074626898, 2.62644444444444, 3.3625179856115097, 4.40298507462687, 3.7180985915493, 5.08034722222222, 3.9042068965517207, 2.97376712328767, 6.30319727891157, 5.28573333333334, 6.05880794701987, 3.84587096774193, 3.5610828025477703, 3.3348427672956, 3.20125, 2.8325465838509305, 3.92135802469136, 8.410235294117651, 8.55174418604652, 3.91219653179191, 3.3021839080459796, 5.34408284023668, 3.9849717514124303, 4.33117318435754, 6.09314917127072, 7.55313186813187, 6.264130434782599, 7.925343915343911, 4.70551546391752, 6.870612244897949, 7.0567346938775595, 6.2545918367347, 6.87413265306123, 8.92086734693877, 11.5658163265306, 13.308205128205099, 9.507277486911, 8.33924324324324, 11.3299453551913, 8.21651933701658, 14.00843575419, 11.4588414634146, 14.714, 15.7290643274854, 18.5321052631579, 13.576303030302999, 8.05900621118013, 9.96325203252033, 10.755272727272699, 5.4265476190476205, 5.781780821917809, 3.85086956521739, 3.9768115942029, 3.71044776119403, 3.1133846153846196, 3.33415384615385, 2.6522222222222203, 4.38523809523809, 4.796296296296299, 3.13377358490566, 6.051132075471701, 6.26716981132076, 5.546981132075469, 5.7146153846153895, 3.84711538461538, 2.70557692307692, 5.12288461538462, 2.73346153846154, 3.5416981132075502, 4.05018867924528, 5.05145454545454, 4.5258928571428605, 5.77701754385965, 4.84086956521739, 6.48183333333333, 4.468225806451611, 4.71269841269841, 6.01953125, 4.98692307692308, 4.38746268656716, 3.41138888888889, 3.1802702702702703, 3.28115384615385, 4.130963855421689, 3.87333333333333, 3.87435294117647, 4.28218390804598, 2.7914606741573, 3.92106382978723, 2.9356179775280897, 2.07673267326733, 2.8706422018348596, 3.1538211382113794, 2.8128, 3.92359375, 3.2581395348837203, 3.45684615384615, 3.85870229007634, 4.46624060150376, 4.95014598540146, 4.702733812949639, 6.137857142857139, 5.4538620689655195, 4.48590604026846, 4.508, 4.98555555555555, 7.82568862275449, 8.13674556213018, 6.88584269662921, 5.071338028169009, 5.48093922651934, 8.082410256410249, 12.072205128205098, 7.42045685279187, 7.398324873096451, 12.248477157360401, 9.41627551020408, 9.17425641025641, 8.16268041237113, 9.93306878306878, 12.142303664921501, 10.6232631578947, 10.896613756613801, 11.2006349206349, 8.2475935828877, 12.7531182795699, 16.4265697674419, 15.961693989071, 12.906298342541401, 17.4287116564417, 13.6091925465838, 11.877290322580599, 14.0765562913907, 8.5008275862069, 7.65277777777778, 7.61846153846154, 8.24057142857143, 9.04870503597122, 6.9623214285714194, 7.560444444444441, 7.268195488721799, 10.265639097744401, 7.15868217054263, 5.7475968992248, 9.096349206349212, 11.555596330275199, 12.630677966101699, 8.33198275862069, 9.528157894736848, 7.46677083333333, 9.39909090909091, 8.4725, 9.465882352941179, 5.6719, 4.71235294117647, 5.24031746031746, 5.48524590163934, 3.7019298245614, 4.26160714285714, 4.33909090909091, 3.45309523809524, 4.42910714285714, 6.21847457627119, 0.8931343283582092, 0.8246268656716421, 5.05666666666667, 1.0226582278481, 4.46528735632184, 2.18483516483517, 2.13118279569892, 3.94, 2.4963809523809504, 2.9527777777777797, 1.94266055045871, 3.04620689655173, 2.96491379310345, 3.52296610169492, 4.0902479338843, 2.57282258064516, 4.47138461538462, 4.661969696969701, 4.9263125, 2.60296296296296, 7.29194117647059, 5.472117647058821, 7.681907514450869, 5.08857954545455, 4.96960227272728, 9.86346153846154, 11.452295081967199, 7.859301075268821, 6.7286458333333306, 10.9607344632768, 7.24486631016043, 9.49416216216216, 7.45697297297297, 7.44011049723758, 12.5247513812155, 10.140773480663, 11.1616176470588, 9.65499999999999, 9.45556338028168, 15.2515555555556, 8.34552147239264, 13.7942236024845, 12.643076923076901, 14.6603246753247, 11.283026315789499, 14.051733333333301, 11.718125, 11.7436633663366, 15.031418439716301, 11.78, 9.70740740740741, 5.793178294573639, 11.006422764227601, 10.154098360655698, 9.400089285714289, 11.2485454545454, 7.669841269841269, 8.946393442622949, 8.015438596491231, 8.16222222222222, 6.77075471698113, 6.8422, 5.29452380952381, 5.25129770992366, 2.8880451127819504, 3.24681481481481, 3.1127407407407404, 3.01744525547445, 5.50791666666667, 5.33590277777778, 7.25424657534246, 5.968445945945951, 4.61263513513514, 6.86984375, 3.97611842105263, 7.52948051948051, 3.5963291139240496, 4.39408805031447, 2.7955625, 3.2296273291925495, 4.5615337423312905, 6.8075757575757505, 6.426586826347309, 7.57153846153846, 3.92520958083832, 4.87947674418604, 8.57549132947977, 5.15271186440678, 7.39189944134078, 12.1403846153846, 5.880655737704919, 6.56904255319149, 6.5258549222798, 9.3334375, 8.86502590673575, 12.1859585492228, 11.8413089005236, 12.0447894736842, 11.6879661016949, 14.0158918918919, 13.3490810810811, 9.28033333333333, 9.647722222222221, 9.94586592178771, 13.170479041916199, 12.436666666666698, 12.606585365853698, 15.199937106918199, 9.03696551724138, 8.56811594202899, 9.40522058823529, 8.27112903225806, 4.10532258064516, 5.4246153846153895, 5.60675324675325, 6.073164556962019, 5.96222222222222, 4.958902439024389, 2.06070588235294, 5.44471264367816, 4.4625974025974005, 3.1463636363636405, 4.398235294117651, 6.27010869565218, 4.533908045977009, 4.2009375, 6.26572916666667, 4.2159793814433, 3.66029702970297, 5.83196261682243, 7.02046296296296, 6.52518518518518, 6.07718181818182, 4.277946428571431, 4.72070175438596, 5.0763157894736795, 4.740517241379309, 3.45464, 3.5659523809523797, 5.936153846153849, 6.248507462686571, 7.53459259259259, 5.310070921985821, 6.18826388888889, 3.8763758389261698, 4.354966887417221, 4.905259740259741, 7.2468831168831205, 4.41005847953216, 5.07491428571429, 4.763888888888889, 4.80411764705883, 7.5262566844919805, 8.5288947368421, 7.23204188481675, 12.3046596858639, 9.52908045977012, 13.8457065217391, 9.20151162790698, 10.0834337349398, 7.544817073170741, 8.1777300613497, 15.6740789473684, 12.622052980132501, 14.430206185567, 9.65517006802721, 10.7842068965517, 9.6009090909091, 8.35214285714286, 7.347299270073, 9.282288135593221, 6.557247706422019, 7.37925925925926, 3.94413333333333, 5.205753424657541, 3.95216666666667, 4.4903921568627405, 4.19914893617021, 2.6258, 2.2353448275862102, 3.96366666666667, 5.021111111111111, 3.7444615384615396, 3.98686567164179, 1.80154929577465, 3.77450704225352, 3.6278947368421, 3.9487012987013, 3.04759493670886, 3.29650602409639, 2.31616279069767, 2.21597701149425, 2.22125, 3.05065934065934, 3.6348421052631497, 2.83121212121212, 4.28788461538462, 4.0916666666666694, 2.8868141592920296, 3.3353781512605, 2.44578512396694, 2.03617886178862, 3.57255474452555, 3.94283333333333, 2.3556043956044, 2.52302521008403, 4.61112582781457, 4.69006578947368, 6.01572368421052, 5.6556875, 8.58635869565217, 8.54907608695652, 9.369788359788359, 5.96261780104712, 10.959476439790599, 9.88142857142857, 9.638952879581149, 9.61535519125683, 10.107905759162302, 11.8912631578947, 8.300161290322581, 13.0363736263736, 12.356956521739098, 12.1067597765363, 10.419664804469301, 14.5436516853933, 13.8116, 15.075402298850602, 11.7141279069767, 13.130818713450301, 12.646604938271599, 9.94703947368421, 10.4291946308725, 9.81574324324324, 13.785314685314699, 13.7226056338028, 13.516160000000001, 10.872519685039402, 9.0892, 7.01793103448276, 7.28452173913043, 4.99745098039216, 4.8480612244898, 3.69887755102041, 3.69479166666667, 5.8488172043010795, 6.55494505494506, 5.7756179775281, 5.849080459770111, 8.63658823529412, 4.9553164556962, 4.58571428571429, 3.9384, 5.43346153846154, 5.32084507042253, 3.7379411764705894, 7.768620689655171, 7.25396551724138, 7.837241379310339, 7.5159649122807, 5.103, 4.60933333333333, 4.52897959183674, 1.4904255319148898, 2.17702127659574, 2.6336170212766, 3.2359574468085097, 1.9942553191489398, 1.6934693877551001, 1.579, 3.9184, 1.45196078431373, 3.80296296296296, 2.63089285714286, 1.0010447761194, 1.46695652173913, 2.3631884057971, 2.9491549295774706, 3.20467741935484, 2.205125, 2.18974358974359, 2.9057317073170696, 2.0566265060241, 1.8845238095238102, 1.42426966292135, 2.8609473684210496, 5.49280487804878, 4.99277777777778, 4.055346534653459, 2.68394230769231, 3.39160377358491, 3.27217391304348, 3.016, 2.5545454545454502, 3.01016393442623, 5.41170731707317, 4.28794326241135, 5.2436893203883495, 4.81273333333333, 6.0859602649006606, 3.15333333333333, 3.92903703703704, 7.957916666666669, 9.2981976744186, 7.30416184971098, 10.236875, 11.5966242038217, 10.7771052631579, 11.4817368421053, 10.425638297872302, 13.0999465240642, 17.0774468085107, 12.2260326086957, 15.5197826086957, 15.607514450866999, 18.760838709677397, 16.1833333333333, 13.126144578313301, 12.994756097561, 16.0348734177215, 14.5058860759494, 14.9462820512821, 17.8467948717949, 6.94609271523179, 12.149463087248302, 12.4432653061224, 10.06, 9.679788732394359, 8.31156028368794, 7.983, 8.591007194244611, 6.82558823529412, 11.7039393939394, 10.3484496124031, 13.5220472440945, 10.2587704918033, 9.78595041322314, 10.2195726495726, 11.9938793103448, 7.034622641509429, 7.06761904761905, 8.79892156862745, 5.9018, 5.7192, 5.285918367346941, 5.82354838709678, 6.41608695652174, 7.8086813186813195, 4.8667045454545494, 5.36, 4.1321875, 3.18079365079365, 3.4614516129032302, 3.1991935483871, 2.73116666666667, 1.75357142857143, 3.18396226415094, 3.6569230769230803, 3.38212765957447, 2.2702127659574503, 2.32, 5.948867924528299, 5.57951219512195, 1.36754385964912, 4.63296875, 1.6655384615384599, 4.844647887323941, 1.24048192771084, 1.6248809523809498, 1.62044943820225, 2.01095744680851, 4.466526315789469, 3.10453608247423, 6.76647727272727, 5.72216666666667, 13.7373369565217, 4.68614973262032, 11.1114136125654, 11.9816753926702, 11.6251308900524, 10.9583246073298, 16.7163636363636, 18.662264150943397, 10.8522222222222, 12.2935664335664, 14.0904494382023, 19.1478089887641, 11.338505747126401, 12.516379310344801, 15.474210526315801, 14.847017543859598, 13.7699390243902, 9.84175, 8.84145569620253, 8.94132911392405, 9.28828025477707, 13.134967741935501, 15.121298701298699, 12.851447368421098, 10.946556291390701], \"y\": [0.000763534, 0.00362992619047619, 0.00531764509803921, 0.00203846679245283, 0.00254623448275862, 0.000705776266666667, 0.00066211987012987, 0.00189572205128205, 0.000541491097560975, 0.000850576666666667, 0.00208334651162791, 0.00371013132530121, 0.00441136222222222, 0.0106547744444444, 0.00368043404255319, 0.0020290840425531897, 0.00474943571428571, 0.00178965982142857, 0.00646792123893805, 0.00431538034188034, 0.0107008452991453, 0.00336649491525424, 0.00131558068965517, 0.00143368923076923, 0.0018884974576271198, 0.0049361922413793105, 0.0077091313559322, 0.009253098290598291, 0.007523733050847459, 0.00608304830508474, 0.00436981355932204, 0.00491080086206896, 0.00260182368421053, 0.007068260360360359, 0.00312837345132743, 0.0051911857142857105, 0.00193354355140187, 0.0061425793814433, 0.00297133720930233, 0.00174208355555556, 0.00330246133333333, 0.0023364, 0.00607928904109589, 0.0101771826086957, 0.00282832803738318, 0.007673175728155341, 0.0014103472972973, 0.00108212637168142, 0.005078500869565221, 0.00251588260869565, 0.00323739210526316, 0.00315998620689655, 0.00348997457627119, 0.0033085059322033898, 0.00763818376068376, 0.0032243000000000003, 0.00560719537037037, 0.007290446728971959, 0.00632098947368421, 0.00550913963963964, 0.00569639459459459, 0.00548501909090909, 0.00717343577981652, 0.0034529174311926604, 0.0016840219417475699, 0.00302458271604938, 0.00254023645833333, 0.00425734673913043, 0.00245627173913044, 0.00407574777777778, 0.00246740454545455, 0.005160392941176471, 0.0010761454166666698, 0.0005956963888888889, 0.00153797055555556, 0.00196277466666667, 0.000714559090909091, 0.000761810602409638, 0.00107776380952381, 0.004515600000000001, 0.00235541818181818, 0.00206889204545455, 0.00284334673913043, 0.003430834375, 0.0017251306122449, 0.00171541868686869, 0.0018915448999999999, 0.0038051676470588205, 0.0023386323300970896, 0.00237906796116505, 0.00255075096153846, 0.0035492676190476205, 0.0026885370093457897, 0.0053910887850467295, 0.00308625, 0.00367995526315789, 0.00347363703703704, 0.0015014042372881401, 0.00301632542372881, 0.00259128389830509, 0.0035401559322033897, 0.0033257847457627103, 0.00213823906779661, 0.00331723931623932, 0.00397688974358974, 0.0019941119565217397, 0.00145747408695652, 0.0055822221238938, 0.00723754774774775, 0.006094310377358489, 0.005790661682242989, 0.00173530737373737, 0.0014617074747474699, 0.00242898095238095, 0.00403680602409639, 0.0033696370370370396, 0.0039619240506329105, 0.00470598987341772, 0.00380042911392405, 0.0066691128205128205, 0.0020617283116883102, 0.00271754157894737, 0.003458872, 0.0006109936065573769, 0.000754985901639344, 0.0005728177966101691, 0.00122314038461538, 0.0008110639999999999, 0.00124964943396226, 0.0028309591836734697, 0.000991937837837838, 0.000792381666666667, 0.0014437, 0.0013130322580645198, 0.000969063125, 0.0024774671875, 0.0021793424242424198, 0.0020344363636363603, 0.00250581470588235, 0.0033162571428571397, 0.0036138333333333296, 0.0025622073170731697, 0.008487086666666671, 0.00221662340425532, 0.00324468367346939, 0.00122486666666667, 0.0038620220338983, 0.002755495, 0.0012750366129032301, 0.0020372583333333302, 0.00166793125, 0.00243899848484849, 0.00282758088235294, 0.00327675285714286, 0.00285304794520548, 0.00221073513513513, 0.0010980233333333302, 0.0025289025974026, 0.000694287088607595, 0.000756599240506329, 0.000886235624999999, 0.00070472375, 0.00264930493827161, 0.00390627108433735, 0.0032980433734939698, 0.00647448928571429, 0.000801355, 0.00122947011494253, 0.00136082840909091, 0.00437303888888889, 0.0072109966666666706, 0.00789035555555556, 0.00200648695652174, 0.00380208510638298, 0.00516635625, 0.004237858333333329, 0.00261682291666667, 0.0036598336842105297, 0.00937342450980392, 0.00236851455445545, 0.00107533182692308, 0.00164370384615385, 0.00244823238095238, 0.00153265607476635, 0.00239062395833333, 0.0014102635514018698, 0.00162317155963303, 0.00267647962962963, 0.0017735610619469, 0.00221858849557522, 0.0010456944067796599, 0.00153883130434783, 0.00155972305084746, 0.0034179491525423698, 0.00323659322033898, 0.00476041949152542, 0.0027779789473684198, 0.0035046852173913, 0.0031319000000000004, 0.0047461648648648705, 0.0026277641509434, 0.00484556915887851, 0.00468752524271845, 0.00237602095238095, 0.0037056990291262203, 0.00627445230769231, 0.00245519494949495, 0.00132594260416667, 0.00161374153846154, 0.00646413484848485, 0.000358291, 0.000803601627906977, 0.000647854634146342, 0.00114722102564103, 0.00247187073170732, 0.00212559487179487, 0.0021025358974359, 0.00183674473684211, 0.000460658378378378, 0.0014789000000000002, 0.001954228125, 0.001033689375, 0.000644968387096774, 0.00130122, 0.0023426022580645104, 0.00041321935483871, 0.000867287419354839, 0.00236333870967742, 0.001728709375, 0.001757409375, 0.001694825, 0.00121241515151515, 0.0011676203030303, 0.000510910571428571, 0.00129015971428571, 0.0009237061111111109, 0.00037895891891891897, 0.00146852368421053, 0.0045989078947368395, 0.00914437567567568, 0.002829685, 0.00339088571428571, 0.00584672222222223, 0.00467371333333333, 0.0036518740000000003, 0.00560275882352941, 0.009588251020408159, 0.00206842884615385, 0.00662892452830189, 0.00639329649122807, 0.0049253403508771896, 0.000820259508196721, 0.00600430606060606, 0.000932511756756757, 0.0012522228, 0.000829348831168831, 0.00135897688311688, 0.00379451012658228, 0.0021485645569620303, 0.0015030321794871802, 0.00670806585365854, 0.0011738197590361401, 0.0058130783132530105, 0.00163500517241379, 0.0016991970000000002, 0.0024438623655914, 0.00178409278350515, 0.00412302323232323, 0.00393891584158416, 0.0019696619626168197, 0.00209088256880734, 0.00367990642201835, 0.00194631228070175, 0.0031177161016949103, 0.00257767435897436, 0.0043502333333333395, 0.00484070254237288, 0.00127852237288136, 0.00217811452991453, 0.0027715615384615398, 0.00500850086206897, 0.0052325669565217395, 0.00528730695652174, 0.00584861403508772, 0.00341302477876106, 0.0025983330275229396, 0.0052137639639639605, 0.00681566936936937, 0.004357941818181821, 0.0032183403669724803, 0.005774062626262629, 0.0020577659793814397, 0.00466089892473118, 0.00509877, 0.000992921264367816, 0.00162548093023256, 0.00255037142857143, 0.00156799071428571, 0.00214566024096385, 0.000835635694444445, 0.00128879234567901, 0.00215434197530864, 0.0030989607594936698, 0.000829951184210526, 0.000586635844155844, 0.00112398986842105, 0.0104156623188406, 0.0126874328358209, 0.00238356086956522, 0.00364299411764706, 0.00112456164179105, 0.00226888333333333, 0.00223018253968254, 0.0137056564516129, 0.000748486949152542, 0.0011516112195122, 0.00237867027027027, 0.0021214891891891898, 0.00564996470588235, 0.00290829117647059, 0.0003611721875, 0.00035695064516129, 0.00398030967741935, 0.0038972571428571396, 0.00278132, 0.0042036025, 0.00042909255813953503, 0.00287668510638298, 0.00204346923076923, 0.00693894545454545, 0.008801299999999991, 0.00753255, 0.00516038, 0.00636040769230769, 0.00407147727272727, 0.00210223333333333, 0.00342373428571429, 0.00452928823529412, 0.00047999304347826104, 0.0012375784, 0.0040843844155844106, 0.00278126, 0.0158368854166667, 0.0056794824742268, 0.005301811764705879, 0.00456922233009709, 0.00583037843137255, 0.00142412476190476, 0.0012741335238095198, 0.00355810183486239, 0.00579045090909091, 0.0018648258928571399, 0.0018940443478260899, 0.00758214035087719, 0.0019391610619469, 0.00435948828828829, 0.00174550630630631, 0.00239552870370371, 0.004422041284403671, 0.00483730825688073, 0.00431457943925234, 0.0025925171428571397, 0.00343223725490196, 0.0097456412371134, 0.00617648571428571, 0.014929829787234, 0.00272702659574468, 0.0106502384615385, 0.00349110760869565, 0.00444960777777778, 0.00264002023809524, 0.00232599534883721, 0.00337497108433735, 0.00084463987804878, 0.00133275493827161, 0.0015669346153846199, 0.0036261533333333297, 0.0020767602739726, 0.00195945362318841, 0.00355685671641791, 0.00200478717948718, 0.00511465405405405, 0.00284918333333333, 0.00101578676470588, 0.00133609375, 0.00161171875, 0.0059446025974026, 0.0010358187341772199, 0.000494185679012346, 0.00123584048780488, 0.000342503125, 0.00045458253012048205, 0.0016633418181818199, 0.00162096329545454, 0.00322657034090909, 0.0018537808888888898, 0.00154919288888889, 0.000971110543478261, 0.00178403968253968, 0.0030069585106383, 0.000877350208333334, 0.000859494639175258, 0.0008867229896907221, 0.0014699000000000001, 0.0019069757575757601, 0.0036005720000000002, 0.00476807425742574, 0.00312935048543689, 0.0019487446601941698, 0.00168116923809524, 0.0038819171428571397, 0.0032976859813084103, 0.0037443641509434, 0.00696241531531531, 0.00283957631578947, 0.00456267894736842, 0.00235377288135593, 0.0040292313559322, 0.00268142737288136, 0.00357172627118644, 0.00215093775862069, 0.006082837931034479, 0.00436352368421052, 0.00354158245614035, 0.00488380442477876, 0.00169836163636364, 0.00250045137614679, 0.00239418532110092, 0.0072820970297029705, 0.00694172330097087, 0.004955264, 0.0073050979591836795, 0.000695438666666667, 0.0014238670588235301, 0.0018696192592592602, 0.00150686526315789, 0.00297544680851064, 0.007884839583333329, 0.0038688893617021295, 0.002426594, 0.0034911, 0.001651664, 0.000354604339622641, 0.000713945818181818, 0.000966142909090909, 0.000535886607142857, 0.00260287368421053, 0.00038701254545454503, 0.000772291034482759, 0.0009436635, 0.0015652775, 0.00162919193548387, 0.001799434375, 0.00289229705882353, 0.00837027794117647, 0.0157258235294118, 0.00564473823529412, 0.0021677185714285697, 0.00313689436619718, 0.00204920138888889, 0.00181721666666667, 0.000997117721518987, 0.00484827848101266, 0.019094037037037, 0.00512610963855422, 0.00644818095238095, 0.00189831363636364, 0.00383827777777778, 0.00162134402173913, 0.00286476276595745, 0.00335950105263158, 0.003812475, 0.00119618628571429, 0.0013101095370370401, 0.0037235198198198203, 0.0016068052678571401, 0.00403032, 0.00111979086956522, 0.00432755169491525, 0.00496527627118644, 0.0025549690265486698, 0.00471733982300885, 0.00270328785046729, 0.00286920291262136, 0.00163394554455446, 0.00145013861386139, 0.00531722659574468, 0.00261984914893617, 0.004337930681818179, 0.00167152725274725, 0.00200641444444444, 0.000928577111111111, 0.0010623632183908, 0.00217842705882353, 0.007051963513513509, 0.00110136420289855, 0.001554198, 0.0021158785416666697, 0.00282479782608696, 0.0010872641025641, 0.000825094411764706, 0.00302026451612903, 0.00118057787878788, 0.00255501842105263, 0.002856655, 0.003523515, 0.00205260714285714, 0.0028407813953488397, 0.00198260444444445, 0.00249680434782609, 0.0046997387755102, 0.005889897959183679, 0.00152785098039216, 0.0021067622641509397, 0.00140115763636364, 0.00110731090909091, 0.00123168509090909, 0.00554171228070175, 0.000573042, 0.00165420322580645, 0.0024549696969697, 0.00272285303030303, 0.001169637, 0.000788103733333333, 0.0012475678666666698, 0.00117815893333333, 0.0023492952380952396, 0.00115541747252747, 0.000767222282608696, 0.00134429467391304, 0.0018221668478260898, 0.00203446914893617, 0.00321308736842106, 0.0033084705050505, 0.0035511079646017704, 0.00462817079646017, 0.004168818965517239, 0.00230172881355932, 0.00295292542372881, 0.0036824254237288103, 0.00383510172413793, 0.00417525847457627, 0.0044369415254237295, 0.00501850683760684, 0.0029256460869565197, 0.0035981380530973398, 0.0028362221238938104, 0.00323985045045045, 0.00404555225225225, 0.0040929352293578, 0.0052131214953271, 0.00360195981308411, 0.00269014018691589, 0.00427369142857143, 0.00390924945054945, 0.00204661170212766, 0.0031501706521739102, 0.004116975, 0.00302440117647059, 0.00253099397590361, 0.00615891358024691, 0.00303757594936709, 0.00290484487179487, 0.0005736278571428571, 0.00113191986111111, 0.000447315692307692, 0.00137641774193548, 0.0007281432758620691, 0.000551201967213115, 0.00167050745762712, 0.00206234814814815, 0.00141381228070175, 0.0011312075, 0.00160298196078431, 0.0024215720000000003, 0.00388312040816326, 0.00257334166666667, 0.0040015652173913, 0.0009798237777777778, 0.0019393704545454602, 0.00171468461538462, 0.0013858263157894698, 0.00145604285714286, 0.00098903, 0.00230159333333333, 0.00198475625, 0.0022088, 0.0018960870967741899, 0.00205653870967742, 0.00364970967741935, 0.00566366451612903, 0.003159928125, 0.00190821875, 0.00222950303030303, 0.0009567963636363641, 0.00202488484848485, 0.00116899542857143, 0.00106199571428571, 0.00732315227272727, 0.006272502272727271, 0.00553728666666667, 0.00553650434782609, 0.00327358, 0.00690264509803921, 0.0046050387755102, 0.00266881346153846, 0.0046599867924528296, 0.00279516727272727, 0.0020477214285714303, 0.00340030350877193, 0.00375507719298246, 0.0019762721311475397, 0.00176682459016393, 0.00168699393939394, 0.00047919848484848494, 0.00146052373134328, 0.0007442439999999999, 0.0008832632000000001, 0.00226763246753247, 0.004076236, 0.00130973454545455, 0.00121533724137931, 0.0016634307692307698, 0.00433793934782609, 0.000745883645833333, 0.0013595005, 0.00306130582524272, 0.00652067452830189, 0.00657673577981651, 0.00566556981132076, 0.00667780825688073, 0.006282808474576271, 0.00565720338983051, 0.00573921034482759, 0.00664168793103449, 0.00847526470588235, 0.00472686434782609, 0.00910426902654868, 0.00564105145631068, 0.0100949429906542, 0.0126700885714286, 0.0035828079207920797, 0.0034481693069306897, 0.00198517474747475, 0.00339944042553191, 0.0070681278350515405, 0.00703935729166667, 0.00244089361702128, 0.00373635760869565, 0.00164393130434783, 0.000824073222222222, 0.000812301477272727, 0.0014093789772727302, 0.0013002679310344801, 0.0023662348837209302, 0.00124952095238095, 0.0034974025316455697, 0.00516824814814815, 0.0035614253164557, 0.00148931184210526, 0.00102967552631579, 0.00272373230769231, 0.00820022083333333, 0.00326402878787879, 0.00391222575757576, 0.006728870769230771, 0.00046260238095238097, 0.000649104761904762, 0.000818792786885246, 0.00139509016949153, 0.00421561034482759, 0.0047184350877193, 0.0007781917857142861, 0.00123326511627907, 0.000840730975609756, 0.00110978, 0.000922514146341464, 0.00104390875, 0.00103629487179487, 0.000893365675675676, 0.00665549411764706, 0.0027113000000000003, 0.0024581129032258103, 0.0016211625, 0.00218135, 0.0024325428571428604, 0.0010766259375, 0.0023381324324324303, 0.0015463595238095198, 0.00192646666666667, 0.000701454130434783, 0.00218732830188679, 0.0021885999999999997, 0.00534534561403509, 0.00647687966101695, 0.00614048, 0.006239981967213121, 0.00360881467889908, 0.00135469189189189, 0.009873491228070179, 0.0018437960869565199, 0.00297788050847458, 0.00369200966101695, 0.00484576525423729, 0.0028853330508474603, 0.007999566666666671, 0.007875863793103441, 0.000652096034482758, 0.00473932347826087, 0.00307352857142857, 0.0049138367924528295, 0.00383161308411215, 0.0046496934579439205, 0.0059034, 0.005337358252427179, 0.0057190693069307, 0.00106821484848485, 0.001242515625, 0.00209072857142857, 0.00237272783505155, 0.00285731979166667, 0.00242336666666667, 0.00199331758241758, 0.00247587872340426], \"z\": [0.158170731707317, 2.0504761904761897, 1.41326315789474, 0.21256880733945002, 0.559316239316239, 0.11826666666666699, 0.13828947368421, 0.9861538461538459, 0.107065868263473, 0.162083333333333, 0.6830588235294109, 0.323604651162791, 0.30121546961326, 0.818415300546448, 0.3661497326203211, 0.00448000000000001, 0.17394366197183098, -0.0429896907216495, 0.008000000000000009, 0.10072961373390599, 1.4108547008546999, 0.0887179487179488, 0.00306034482758621, 0.0383898305084746, 0.085635593220339, 0.133008474576271, 0.327796610169491, 0.364322033898305, 0.268813559322034, 0.180466101694915, 0.0830901287553648, 0.115236051502146, 0.0276211453744493, 0.48712389380530996, 0.0228, 0.145135135135135, 0.0153301886792453, 0.217564766839379, 0.0919565217391304, -0.00323529411764706, 0.34297297297297297, 0.0582993197278911, 0.549520547945206, 0.9289781021897809, 0.118252427184466, 0.35018691588785106, 0.0599090909090909, 0.0762053571428572, 0.5178602620087339, 0.0644748858447488, 0.0787610619469027, 0.0562393162393162, 0.21728813559322, 0.122991452991453, 0.24363247863247897, 0.12272727272727302, 0.158398268398268, 0.14646288209607, 0.135414847161572, 0.0824324324324325, 0.0989140271493212, 0.217227272727273, 0.13197247706422, 0.0263255813953488, 0.047609756097561, 0.10646153846153801, 0.0602604166666667, 0.0878453038674033, 0.039375, 0.0508730158730159, 0.21340136054421802, 0.170425531914894, 0.16127272727272698, 0.11669724770642201, 0.47414634146341494, 0.20820512820512801, 0.168, 0.18389312977099198, 0.401094890510949, 0.28383561643835603, 0.365, 0.18423357664233603, 0.1875, 0.579622641509434, 0.0496273291925466, 0.0940853658536586, 0.149820359281437, 0.151235294117647, 0.15, 0.22439306358381497, 0.193236994219653, 0.134715909090909, 0.046045197740113, 0.0640677966101695, 0.0915642458100559, 0.23719101123595498, 0.15, 0.0545360824742268, 0.0349740932642487, 0.0711855670103093, 0.196683673469388, 0.28229591836734697, 0.145282051282051, 0.15938461538461499, 0.121128205128205, 0.0472105263157895, 0.0272774869109948, 0.10186170212766, 0.61103825136612, 0.16583850931677, 0.460842696629214, 0.00664596273291925, 0.0384146341463415, 0.139565217391304, 0.18094202898550701, 0.125333333333333, 0.548181818181818, 0.21518796992481198, 0.198625954198473, 0.08800000000000001, 0.0751181102362206, 0.12768, 0.157338709677419, 0.0387378640776699, 0.0755445544554456, 0.0369387755102041, 0.0930434782608696, 0.056195652173912994, 0.191477272727273, 0.0729268292682927, 0.13868852459016398, 0.0335, 0.7296226415094341, 0.379622641509434, 0.0490566037735849, 0.308301886792453, 0.17321428571428601, 0.5130357142857139, 0.125614035087719, 0.555689655172414, 0.6936065573770489, 0.8610294117647059, 1.89407894736842, 0.19532467532467498, 0.818125, 0.0592553191489362, 0.36717171717171704, 0.0764705882352941, 0.137403846153846, 1.00009433962264, 0.270943396226415, 0.4405454545454551, 1.29044247787611, 0.7781739130434779, 0.366803278688525, 0.19795081967213102, 0.0638211382113821, 0.357846153846154, 0.0549230769230769, 0.0440909090909091, 0.12455223880597001, 0.0347761194029851, 0.772074074074074, 0.773237410071942, 0.52410447761194, 1.14661971830986, 0.0508333333333333, 0.094551724137931, 0.18945205479452104, 0.474897959183674, 0.9665999999999989, 0.37642384105960297, 0.140322580645161, 0.486496815286624, 0.7072955974842771, 0.329875, 0.202857142857143, 0.24950617283950602, 0.44317647058823495, 0.025, 0.036878612716763, 0.0990804597701149, 0.253125, 0.0812994350282486, 0.19195530726257, 0.0819889502762431, 0.0502197802197802, 0.0659459459459459, 0.00904761904761905, 0.09536082474226801, 0.0233163265306122, 0.0426530612244898, 0.0772448979591836, 0.1625, 0.6226530612244899, 0.0933163265306122, 0.0374871794871795, 0.178586387434555, 0.118162162162162, 0.22278688524590198, 0.142651933701657, 0.223463687150838, 0.12321212121212101, 0.0355428571428572, 0.044093567251462004, 0.0769590643274853, 0.0992121212121212, 0.0277018633540372, 0.0126016260162602, 0.17345454545454503, 0.0157142857142857, 0.151780821917808, 0.1, 0.105217391304348, 0.8394029850746271, 0.481692307692308, 0.138615384615385, 0.101746031746032, 0.0320967741935484, 0.0777777777777778, 0.11, 0.0179245283018868, 0.0626415094339623, 0.12132075471698099, 0.0544230769230769, 0.0446153846153846, 0.18269230769230801, 0.0973076923076923, 0.511923076923077, 0.46622641509434, 0.127169811320755, 0.0978181818181818, 0.223571428571429, 0.0342105263157895, 0.17739130434782602, 0.0465, 0.022258064516129, 0.10142857142857101, 0.256875, 0.816923076923077, 0.544242424242424, 0.297361111111111, 0.8608108108108109, 0.8979487179487181, 0.599518072289156, 0.7290476190476189, 2.15858823529412, 0.242528735632184, 2.68898876404494, 1.41468085106383, 1.73770833333333, 0.151881188118812, 1.4027522935779801, 0.109430894308943, 0.19312, 0.0144094488188976, 0.13093023255814, 0.766153846153846, 0.301450381679389, 0.13270676691729302, 0.8244525547445258, 0.10546762589928099, 0.40007142857142897, 0.223103448275862, 0.28503355704697997, 0.310285714285714, 0.152407407407407, 0.298502994011976, 0.0875739644970413, 0.035561797752809, 0.128222222222222, 0.290828729281768, 0.0494845360824742, 0.015025641025641003, 0.10649746192893401, 0.10746192893400999, 0.0988324873096446, 0.008622448979591841, 0.072051282051282, 0.18701030927835102, 0.0717098445595855, 0.0809947643979057, 0.0642408376963351, 0.0463350785340314, 0.0260846560846561, 0.0195187165775401, 0.21833333333333302, 0.17075675675675697, 0.0760109289617487, 0.10309392265193401, 0.134424242424242, 0.0275776397515528, 0.208774193548387, 0.040794701986755, 0.0168965517241379, 0.03625, 0.17321678321678302, 0.0325714285714286, 0.0152517985611511, 0.00508928571428571, 0.014962962962963, 0.102481203007519, 0.0709774436090226, -0.008294573643410859, 0.0121705426356589, 0.0275396825396825, 0.22170940170940198, 1.35830508474576, 0.110689655172414, 0.0681578947368421, 0.0113513513513514, 0.124, 0.12721153846153802, 0.199176470588235, 0.0056, 0.0651470588235294, 0.0657142857142857, 0.17885245901639302, 0.503333333333333, 0.0964285714285714, 0.0260377358490566, 0.007115384615384609, 0.665535714285714, 0.169491525423729, 2.98910447761194, 1.2334328358209, 0.0211111111111111, 1.88151898734177, 0.22, 3.42681318681319, 3.54268817204301, 1.47569892473118, 1.4494285714285702, 1.2178703703703702, 1.0789908256880698, 0.709827586206896, 0.656465517241379, 0.48398305084745796, 0.0325619834710744, 0.397661290322581, 1.07207692307692, 0.7183333333333329, 1.3536875, 0.567901234567902, 0.212764705882353, 0.16329411764705898, 0.247528735632184, 0.0332000000000001, 0.00392045454545455, 0.0071978021978022, 0.0391256830601093, 0.00438502673796791, 0.00427083333333333, 0.628756476683938, 0.0235828877005347, 0.064054054054054, 0.178216216216216, 0.0361748633879781, 0.009060773480662991, 0.05906077348066299, 0.10375, 0.0466091954022988, 0.0493529411764706, 0.282098765432098, 0.12711656441717803, 0.17683229813664603, 0.0246153846153846, 0.24422077922077898, 0.17881578947368398, 0.11333333333333301, 0.025625, 0.00671328671328671, 0.0194326241134752, 0.0128888888888889, 0.0231851851851852, 0.0408461538461539, 0.05936, 0.0716129032258064, 0.0412280701754386, 0.0187323943661972, 0.129538461538462, 0.0684126984126984, 0.07, 0.00517857142857143, 0.0463636363636364, 0.0236538461538462, 0.51171875, -0.00857142857142857, 0.0186666666666667, 0.211240875912409, -0.0037226277372262796, 0.0143884892086331, 0.061986301369863, 0.0763013698630137, 0.0972972972972974, 0.0217333333333333, 0.0472666666666667, 0.000538461538461538, 0.22662337662337698, 0.0018589743589743602, 0.0115, -0.0046583850931677, 0.0653703703703704, 0.0476687116564417, 0.0415757575757576, 0.21269461077844298, 0.246508875739645, 0.0446783625730994, 0.0513294797687861, 0.00540229885057471, 0.135542857142857, 0.248882681564246, 0.19751381215469602, 0.15497297297297302, 0.19967914438502699, 0.138795811518325, 0.0308163265306122, 0.0427040816326531, 0.140612244897959, 0.0293367346938776, -0.00587628865979381, 0.0883928571428572, 0.190786516853933, 0.10425531914893599, 0.055, 0.0324043715846995, 0.0496174863387979, 0.0186263736263736, 0.158771929824561, 0.128421052631579, 0.17335329341317401, 0.481104294478528, 0.0107333333333333, 0.0487234042553192, 0.0379856115107914, 0.10464566929133902, 0.446060606060606, 0.579605263157895, 0.16962962962963, 0.044578313253012, 0.203176470588235, 0.19593023255814002, 0.100112359550562, 0.0293406593406593, 0.077037037037037, 0.11333333333333301, 0.201481481481481, 0.03625, 0.0368131868131868, 0.1675, 0.0824, 0.164901960784314, 0.3608490566037729, 0.0640178571428572, 0.284690265486726, 0.326814159292035, 0.19617391304347798, 0.40965811965812, 0.59327731092437, 0.09, 0.0648760330578512, 0.128230769230769, 0.5510687022900771, 1.2081481481481497, 0.10014388489208599, 0.136785714285714, 0.080068493150685, 0.66234899328859, 0.0775324675324675, 0.256666666666667, 0.191572327044025, 0.212641509433963, 0.0732954545454546, 0.0453888888888889, 0.17297297297297304, 0.0901621621621622, 0.10109375, 0.0385128205128205, 0.27020408163265397, 0.0410204081632653, 0.0848603351955308, 0.0564550264550265, 0.0732203389830508, 0.11181286549707599, 0.01, 0.0818452380952382, 0.082484076433121, 0.0775, 0.0387, 0.035, 0.0752666666666667, 0.00824324324324324, 0.0019310344827586198, 0.12309859154929599, 0.19934426229508198, 0.10157894736842099, 0.0168604651162791, 0.20025, 0.134230769230769, 0.0358461538461538, -0.004464285714285711, 0.155, 0.18581818181818202, 0.20174603174603198, 0.254, 0.214558823529412, 0.24957142857142803, 0.639722222222222, 0.25434210526315804, 0.517631578947368, 0.5790123456790129, 0.546341463414634, 0.265357142857143, 0.21022727272727298, 1.8798901098901102, 0.248369565217392, 0.26473118279569896, 2.00822916666667, 0.0746, 1.1607692307692299, 0.197614678899082, 0.21539823008849598, 0.0963559322033898, 0.0424193548387096, 0.562063492063492, 0.186640625, 0.5985211267605629, 0.07, 0.0417647058823529, 0.18512987012986998, 0.12410256410256401, 0.24515923566879, 0.260509554140128, 0.33369696969697, 0.0431216931216931, 0.0557671957671957, 0.113041237113402, 0.0991326530612244, 0.0106122448979592, 0.0570918367346939, 0.0619897959183673, 0.0918877551020408, 0.0818367346938775, 0.15210256410256398, 0.12166666666666699, 0.0216402116402116, 0.0395767195767196, 0.15005405405405403, 0.12592391304347803, 0.0504918032786886, 0.453222222222222, 0.0368156424581005, 0.0970621468926554, 0.0873295454545455, 0.0682634730538922, 0.15222929936305699, 0.125, 0.490392156862745, 0.0822972972972973, 0.0325850340136054, 0.46274074074074106, 0.134621212121212, 0.15953846153846202, -0.000330578512396697, 0.0750833333333333, 0.011588785046728998, 0.25262135922330103, 0.14194174757281602, 0.00455445544554456, 0.0343877551020408, 0.10020833333333301, 0.0112765957446808, 0.00717391304347827, 0.0205555555555556, 0.0871428571428571, 0.182317073170732, 0.1055, 0.09774193548387101, 0.0444736842105263, 0.16739726027397303, 0.0251612903225806, -0.0159677419354839, 0.007142857142857141, 0.0474193548387096, 0.0709090909090909, 0.0385454545454545, 0.160925925925926, 2.47384615384615, 1.63134615384615, 1.2238461538461498, 1.7725, 0.955192307692308, 1.7890740740740703, 1.3519999999999999, 0.350545454545454, 1.59142857142857, 0.0588135593220339, 0.30016393442622996, 3.78027777777778, 4.26351351351351, 4.33148648648649, 1.16276315789474, 0.6739743589743591, 1.12294117647059, 1.3572289156626498, 0.18160919540229897, 0.8965909090909091, 1.01191011235955, 1.08117021276596, 0.9551, 0.41183908045977, 0.222947368421053, 0.9405660377358499, 0.5658715596330279, 0.0616216216216216, 0.2215, 0.0759199999999999, 0.111666666666667, 0.291653543307087, 0.342890625, 0.0919863013698629, 0.0178378378378378, 0.115290322580645, 0.37083333333333396, 0.0628467153284671, 0.0706626506024096, 0.221676300578035, 0.432090395480226, 0.702049180327869, 0.205027624309392, 0.0916049382716049, 0.115816326530612, 0.13551020408163303, 0.28264248704663203, 0.275906735751295, 0.200259067357513, 0.20041884816754002, 0.799047619047619, 0.22011560693641602, 0.484157303370786, 1.32272727272727, 0.0556140350877193, 0.0651479289940828, 0.0330674846625767, 0.0474846625766871, 1.06826086956522, 0.30428571428571505, 0.15480769230769198, 0.0777272727272727, 0.0238815789473684, 0.0552, 0.0413605442176871, 0.0352739726027397, 0.112068965517241, 0.140069444444444, 0.42517730496453904, 0.258175182481752, 0.9306716417910451, 0.0633333333333333, 0.0653543307086614, 0.0613492063492063, 0.14516393442623002, 0.264583333333333, 0.090888888888889, 0.12218181818181802, 0.120654205607477, 0.0380952380952381, 0.11647619047619, 0.0460194174757281, 0.033061224489796, 0.10206185567010302, 0.0353125, 0.101505376344086, 0.0620833333333333, 0.012089552238806003, 0.0704411764705882, 0.16955223880596998, 0.10865671641791001, 0.0616923076923077, 0.509180327868853, 0.989827586206896, 0.29192982456140304, 0.509423076923077, 0.531346153846154, 0.593962264150943, 0.3, 0.022156862745098, 0.561612903225806, 0.36028985507246397, 0.351571428571429, 0.106973684210526, 2.30897727272727, 2.01662921348315, 2.93446808510638, 2.3066666666666698, 0.6372, 0.8652941176470591, 0.17727022058823605, 0.186285971223022, 0.7363676341248899, 0.101059947871416, 0.21374576271186396, 0.27380508474576304, 0.16540288379982998, 0.13737691001697802, 1.10109401709402, 1.07712369597615, 0.47870129870129896, 0.639826539462272, 0.44591549295774696, 0.6317883211678829, 0.41841078066914605, 0.60062558356676, 0.8039811320754721, 0.811156398104265, 0.394174085064293, 0.0984514170040486, 0.0769786368260428, 0.265220061412487, 0.0897839506172841, 0.103333333333333, 0.16340314136125597, 0.179141039236479, 0.118560767590618]}],\n",
              "                        {\"coloraxis\": {\"colorbar\": {\"title\": {\"text\": \"color\"}}, \"colorscale\": [[0.0, \"#0d0887\"], [0.1111111111111111, \"#46039f\"], [0.2222222222222222, \"#7201a8\"], [0.3333333333333333, \"#9c179e\"], [0.4444444444444444, \"#bd3786\"], [0.5555555555555556, \"#d8576b\"], [0.6666666666666666, \"#ed7953\"], [0.7777777777777778, \"#fb9f3a\"], [0.8888888888888888, \"#fdca26\"], [1.0, \"#f0f921\"]]}, \"legend\": {\"tracegroupgap\": 0}, \"margin\": {\"t\": 60}, \"scene\": {\"domain\": {\"x\": [0.0, 1.0], \"y\": [0.0, 1.0]}, \"xaxis\": {\"title\": {\"text\": \"HYY_META.H2O168.mean\"}}, \"yaxis\": {\"title\": {\"text\": \"CS.mean\"}}, \"zaxis\": {\"title\": {\"text\": \"HYY_META.SO2168.mean\"}}}, \"template\": {\"data\": {\"bar\": [{\"error_x\": {\"color\": \"#2a3f5f\"}, \"error_y\": {\"color\": \"#2a3f5f\"}, \"marker\": {\"line\": {\"color\": \"#E5ECF6\", \"width\": 0.5}}, \"type\": \"bar\"}], \"barpolar\": [{\"marker\": {\"line\": {\"color\": \"#E5ECF6\", \"width\": 0.5}}, \"type\": \"barpolar\"}], \"carpet\": [{\"aaxis\": {\"endlinecolor\": \"#2a3f5f\", \"gridcolor\": \"white\", \"linecolor\": \"white\", \"minorgridcolor\": \"white\", \"startlinecolor\": \"#2a3f5f\"}, \"baxis\": {\"endlinecolor\": \"#2a3f5f\", \"gridcolor\": \"white\", \"linecolor\": \"white\", \"minorgridcolor\": \"white\", \"startlinecolor\": \"#2a3f5f\"}, \"type\": \"carpet\"}], \"choropleth\": [{\"colorbar\": {\"outlinewidth\": 0, \"ticks\": \"\"}, \"type\": \"choropleth\"}], \"contour\": [{\"colorbar\": {\"outlinewidth\": 0, \"ticks\": \"\"}, \"colorscale\": [[0.0, \"#0d0887\"], [0.1111111111111111, \"#46039f\"], [0.2222222222222222, \"#7201a8\"], [0.3333333333333333, \"#9c179e\"], [0.4444444444444444, \"#bd3786\"], [0.5555555555555556, \"#d8576b\"], [0.6666666666666666, \"#ed7953\"], [0.7777777777777778, \"#fb9f3a\"], [0.8888888888888888, \"#fdca26\"], [1.0, \"#f0f921\"]], \"type\": \"contour\"}], \"contourcarpet\": [{\"colorbar\": {\"outlinewidth\": 0, \"ticks\": \"\"}, \"type\": \"contourcarpet\"}], \"heatmap\": [{\"colorbar\": {\"outlinewidth\": 0, \"ticks\": \"\"}, \"colorscale\": [[0.0, \"#0d0887\"], [0.1111111111111111, \"#46039f\"], [0.2222222222222222, \"#7201a8\"], [0.3333333333333333, \"#9c179e\"], [0.4444444444444444, \"#bd3786\"], [0.5555555555555556, \"#d8576b\"], [0.6666666666666666, \"#ed7953\"], [0.7777777777777778, \"#fb9f3a\"], [0.8888888888888888, \"#fdca26\"], [1.0, \"#f0f921\"]], \"type\": \"heatmap\"}], \"heatmapgl\": [{\"colorbar\": {\"outlinewidth\": 0, \"ticks\": \"\"}, \"colorscale\": [[0.0, \"#0d0887\"], [0.1111111111111111, \"#46039f\"], [0.2222222222222222, \"#7201a8\"], [0.3333333333333333, \"#9c179e\"], [0.4444444444444444, \"#bd3786\"], [0.5555555555555556, \"#d8576b\"], [0.6666666666666666, \"#ed7953\"], [0.7777777777777778, \"#fb9f3a\"], [0.8888888888888888, \"#fdca26\"], [1.0, \"#f0f921\"]], \"type\": \"heatmapgl\"}], \"histogram\": [{\"marker\": {\"colorbar\": {\"outlinewidth\": 0, \"ticks\": \"\"}}, \"type\": \"histogram\"}], \"histogram2d\": [{\"colorbar\": {\"outlinewidth\": 0, \"ticks\": \"\"}, \"colorscale\": [[0.0, \"#0d0887\"], [0.1111111111111111, \"#46039f\"], [0.2222222222222222, \"#7201a8\"], [0.3333333333333333, \"#9c179e\"], [0.4444444444444444, \"#bd3786\"], [0.5555555555555556, \"#d8576b\"], [0.6666666666666666, \"#ed7953\"], [0.7777777777777778, \"#fb9f3a\"], [0.8888888888888888, \"#fdca26\"], [1.0, \"#f0f921\"]], \"type\": \"histogram2d\"}], \"histogram2dcontour\": [{\"colorbar\": {\"outlinewidth\": 0, \"ticks\": \"\"}, \"colorscale\": [[0.0, \"#0d0887\"], [0.1111111111111111, \"#46039f\"], [0.2222222222222222, \"#7201a8\"], [0.3333333333333333, \"#9c179e\"], [0.4444444444444444, \"#bd3786\"], [0.5555555555555556, \"#d8576b\"], [0.6666666666666666, \"#ed7953\"], [0.7777777777777778, \"#fb9f3a\"], [0.8888888888888888, \"#fdca26\"], [1.0, \"#f0f921\"]], \"type\": \"histogram2dcontour\"}], \"mesh3d\": [{\"colorbar\": {\"outlinewidth\": 0, \"ticks\": \"\"}, \"type\": \"mesh3d\"}], \"parcoords\": [{\"line\": {\"colorbar\": {\"outlinewidth\": 0, \"ticks\": \"\"}}, \"type\": \"parcoords\"}], \"pie\": [{\"automargin\": true, \"type\": \"pie\"}], \"scatter\": [{\"marker\": {\"colorbar\": {\"outlinewidth\": 0, \"ticks\": \"\"}}, \"type\": \"scatter\"}], \"scatter3d\": [{\"line\": {\"colorbar\": {\"outlinewidth\": 0, \"ticks\": \"\"}}, \"marker\": {\"colorbar\": {\"outlinewidth\": 0, \"ticks\": \"\"}}, \"type\": \"scatter3d\"}], \"scattercarpet\": [{\"marker\": {\"colorbar\": {\"outlinewidth\": 0, \"ticks\": \"\"}}, \"type\": \"scattercarpet\"}], \"scattergeo\": [{\"marker\": {\"colorbar\": {\"outlinewidth\": 0, \"ticks\": \"\"}}, \"type\": \"scattergeo\"}], \"scattergl\": [{\"marker\": {\"colorbar\": {\"outlinewidth\": 0, \"ticks\": \"\"}}, \"type\": \"scattergl\"}], \"scattermapbox\": [{\"marker\": {\"colorbar\": {\"outlinewidth\": 0, \"ticks\": \"\"}}, \"type\": \"scattermapbox\"}], \"scatterpolar\": [{\"marker\": {\"colorbar\": {\"outlinewidth\": 0, \"ticks\": \"\"}}, \"type\": \"scatterpolar\"}], \"scatterpolargl\": [{\"marker\": {\"colorbar\": {\"outlinewidth\": 0, \"ticks\": \"\"}}, \"type\": \"scatterpolargl\"}], \"scatterternary\": [{\"marker\": {\"colorbar\": {\"outlinewidth\": 0, \"ticks\": \"\"}}, \"type\": \"scatterternary\"}], \"surface\": [{\"colorbar\": {\"outlinewidth\": 0, \"ticks\": \"\"}, \"colorscale\": [[0.0, \"#0d0887\"], [0.1111111111111111, \"#46039f\"], [0.2222222222222222, \"#7201a8\"], [0.3333333333333333, \"#9c179e\"], [0.4444444444444444, \"#bd3786\"], [0.5555555555555556, \"#d8576b\"], [0.6666666666666666, \"#ed7953\"], [0.7777777777777778, \"#fb9f3a\"], [0.8888888888888888, \"#fdca26\"], [1.0, \"#f0f921\"]], \"type\": \"surface\"}], \"table\": [{\"cells\": {\"fill\": {\"color\": \"#EBF0F8\"}, \"line\": {\"color\": \"white\"}}, \"header\": {\"fill\": {\"color\": \"#C8D4E3\"}, \"line\": {\"color\": \"white\"}}, \"type\": \"table\"}]}, \"layout\": {\"annotationdefaults\": {\"arrowcolor\": \"#2a3f5f\", \"arrowhead\": 0, \"arrowwidth\": 1}, \"coloraxis\": {\"colorbar\": {\"outlinewidth\": 0, \"ticks\": \"\"}}, \"colorscale\": {\"diverging\": [[0, \"#8e0152\"], [0.1, \"#c51b7d\"], [0.2, \"#de77ae\"], [0.3, \"#f1b6da\"], [0.4, \"#fde0ef\"], [0.5, \"#f7f7f7\"], [0.6, \"#e6f5d0\"], [0.7, \"#b8e186\"], [0.8, \"#7fbc41\"], [0.9, \"#4d9221\"], [1, \"#276419\"]], \"sequential\": [[0.0, \"#0d0887\"], [0.1111111111111111, \"#46039f\"], [0.2222222222222222, \"#7201a8\"], [0.3333333333333333, \"#9c179e\"], [0.4444444444444444, \"#bd3786\"], [0.5555555555555556, \"#d8576b\"], [0.6666666666666666, \"#ed7953\"], [0.7777777777777778, \"#fb9f3a\"], [0.8888888888888888, \"#fdca26\"], [1.0, \"#f0f921\"]], \"sequentialminus\": [[0.0, \"#0d0887\"], [0.1111111111111111, \"#46039f\"], [0.2222222222222222, \"#7201a8\"], [0.3333333333333333, \"#9c179e\"], [0.4444444444444444, \"#bd3786\"], [0.5555555555555556, \"#d8576b\"], [0.6666666666666666, \"#ed7953\"], [0.7777777777777778, \"#fb9f3a\"], [0.8888888888888888, \"#fdca26\"], [1.0, \"#f0f921\"]]}, \"colorway\": [\"#636efa\", \"#EF553B\", \"#00cc96\", \"#ab63fa\", \"#FFA15A\", \"#19d3f3\", \"#FF6692\", \"#B6E880\", \"#FF97FF\", \"#FECB52\"], \"font\": {\"color\": \"#2a3f5f\"}, \"geo\": {\"bgcolor\": \"white\", \"lakecolor\": \"white\", \"landcolor\": \"#E5ECF6\", \"showlakes\": true, \"showland\": true, \"subunitcolor\": \"white\"}, \"hoverlabel\": {\"align\": \"left\"}, \"hovermode\": \"closest\", \"mapbox\": {\"style\": \"light\"}, \"paper_bgcolor\": \"white\", \"plot_bgcolor\": \"#E5ECF6\", \"polar\": {\"angularaxis\": {\"gridcolor\": \"white\", \"linecolor\": \"white\", \"ticks\": \"\"}, \"bgcolor\": \"#E5ECF6\", \"radialaxis\": {\"gridcolor\": \"white\", \"linecolor\": \"white\", \"ticks\": \"\"}}, \"scene\": {\"xaxis\": {\"backgroundcolor\": \"#E5ECF6\", \"gridcolor\": \"white\", \"gridwidth\": 2, \"linecolor\": \"white\", \"showbackground\": true, \"ticks\": \"\", \"zerolinecolor\": \"white\"}, \"yaxis\": {\"backgroundcolor\": \"#E5ECF6\", \"gridcolor\": \"white\", \"gridwidth\": 2, \"linecolor\": \"white\", \"showbackground\": true, \"ticks\": \"\", \"zerolinecolor\": \"white\"}, \"zaxis\": {\"backgroundcolor\": \"#E5ECF6\", \"gridcolor\": \"white\", \"gridwidth\": 2, \"linecolor\": \"white\", \"showbackground\": true, \"ticks\": \"\", \"zerolinecolor\": \"white\"}}, \"shapedefaults\": {\"line\": {\"color\": \"#2a3f5f\"}}, \"ternary\": {\"aaxis\": {\"gridcolor\": \"white\", \"linecolor\": \"white\", \"ticks\": \"\"}, \"baxis\": {\"gridcolor\": \"white\", \"linecolor\": \"white\", \"ticks\": \"\"}, \"bgcolor\": \"#E5ECF6\", \"caxis\": {\"gridcolor\": \"white\", \"linecolor\": \"white\", \"ticks\": \"\"}}, \"title\": {\"x\": 0.05}, \"xaxis\": {\"automargin\": true, \"gridcolor\": \"white\", \"linecolor\": \"white\", \"ticks\": \"\", \"title\": {\"standoff\": 15}, \"zerolinecolor\": \"white\", \"zerolinewidth\": 2}, \"yaxis\": {\"automargin\": true, \"gridcolor\": \"white\", \"linecolor\": \"white\", \"ticks\": \"\", \"title\": {\"standoff\": 15}, \"zerolinecolor\": \"white\", \"zerolinewidth\": 2}}}},\n",
              "                        {\"responsive\": true}\n",
              "                    ).then(function(){\n",
              "                            \n",
              "var gd = document.getElementById('bb66c5ab-e1cd-46b7-9f23-e003f766ef7d');\n",
              "var x = new MutationObserver(function (mutations, observer) {{\n",
              "        var display = window.getComputedStyle(gd).display;\n",
              "        if (!display || display === 'none') {{\n",
              "            console.log([gd, 'removed!']);\n",
              "            Plotly.purge(gd);\n",
              "            observer.disconnect();\n",
              "        }}\n",
              "}});\n",
              "\n",
              "// Listen for the removal of the full notebook cells\n",
              "var notebookContainer = gd.closest('#notebook-container');\n",
              "if (notebookContainer) {{\n",
              "    x.observe(notebookContainer, {childList: true});\n",
              "}}\n",
              "\n",
              "// Listen for the clearing of the current output cell\n",
              "var outputEl = gd.closest('.output');\n",
              "if (outputEl) {{\n",
              "    x.observe(outputEl, {childList: true});\n",
              "}}\n",
              "\n",
              "                        })\n",
              "                };\n",
              "                \n",
              "            </script>\n",
              "        </div>\n",
              "</body>\n",
              "</html>"
            ]
          },
          "metadata": {
            "tags": []
          }
        }
      ]
    },
    {
      "cell_type": "markdown",
      "metadata": {
        "id": "buuZuqhChu8E",
        "colab_type": "text"
      },
      "source": [
        "The clusters look a bit more understandable. It looks as the scaling has some effect."
      ]
    },
    {
      "cell_type": "markdown",
      "metadata": {
        "id": "Q0M6kqHGbldP",
        "colab_type": "text"
      },
      "source": [
        "#### Clustering Columns with normalisations"
      ]
    },
    {
      "cell_type": "code",
      "metadata": {
        "id": "CyvyxkYebNcs",
        "colab_type": "code",
        "colab": {}
      },
      "source": [
        "npf2columns = npf2rows.transpose()\n",
        "\n",
        "scaler = StandardScaler()\n",
        "npf2columns_normed = scaler.fit(npf2columns).transform(npf2columns)"
      ],
      "execution_count": 0,
      "outputs": []
    },
    {
      "cell_type": "code",
      "metadata": {
        "id": "oDPjI8Krby4V",
        "colab_type": "code",
        "outputId": "7b818445-cb13-4489-a770-b4d8d0d1e362",
        "colab": {
          "base_uri": "https://localhost:8080/",
          "height": 102
        }
      },
      "source": [
        "npf2columns_normed[:5,:3]"
      ],
      "execution_count": 164,
      "outputs": [
        {
          "output_type": "execute_result",
          "data": {
            "text/plain": [
              "array([[ 2.17950805,  2.26631111,  2.21967902],\n",
              "       [-0.28711813, -0.28142934, -0.28997263],\n",
              "       [ 2.17875484,  2.2638972 ,  2.21926056],\n",
              "       [-0.28722742, -0.28228542, -0.28999094],\n",
              "       [ 2.18257985,  2.27047407,  2.22340671]])"
            ]
          },
          "metadata": {
            "tags": []
          },
          "execution_count": 164
        }
      ]
    },
    {
      "cell_type": "code",
      "metadata": {
        "colab_type": "code",
        "outputId": "1c146d77-c69b-4958-edbc-46f30042449d",
        "id": "kIf0hQG5c3Ys",
        "colab": {
          "base_uri": "https://localhost:8080/",
          "height": 301
        }
      },
      "source": [
        "km_inertia = []\n",
        "\n",
        "K = range(2,40)\n",
        "for k in K:\n",
        "    km = KMeans(n_clusters=k,n_init=10,random_state=0).fit(npf2columns_normed)\n",
        "    \n",
        "    km_inertia.append(km.inertia_)  # Almost the same as the -(previous)\n",
        "    \n",
        "plotScore(km_inertia/km_inertia[0],\"inertia\")\n"
      ],
      "execution_count": 165,
      "outputs": [
        {
          "output_type": "display_data",
          "data": {
            "image/png": "[encoded data removed]",
            "text/plain": [
              "<Figure size 432x288 with 1 Axes>"
            ]
          },
          "metadata": {
            "tags": [],
            "needs_background": "light"
          }
        }
      ]
    },
    {
      "cell_type": "code",
      "metadata": {
        "colab_type": "code",
        "id": "HXrqKCxuc3Yj",
        "colab": {}
      },
      "source": [
        "kmeans = KMeans(n_clusters=10,n_init=10,algorithm='full')#,random_state=42)\n",
        "kmeans.fit(npf2columns_normed)\n",
        "# Predict the closest cluster each sample in npf belongs to\n",
        "kmeans_results = kmeans.predict(npf2columns_normed)"
      ],
      "execution_count": 0,
      "outputs": []
    },
    {
      "cell_type": "code",
      "metadata": {
        "id": "pzRX5f3CikYu",
        "colab_type": "code",
        "outputId": "c0a33685-1770-4311-ccde-735ec0c9ce16",
        "colab": {
          "base_uri": "https://localhost:8080/",
          "height": 542
        }
      },
      "source": [
        "px.scatter_3d(data_frame=npf2columns_normed, x=1, y=2, z=3,color=kmeans_results)"
      ],
      "execution_count": 167,
      "outputs": [
        {
          "output_type": "display_data",
          "data": {
            "text/html": [
              "<html>\n",
              "<head><meta charset=\"utf-8\" /></head>\n",
              "<body>\n",
              "    <div>\n",
              "            <script src=\"https://cdnjs.cloudflare.com/ajax/libs/mathjax/2.7.5/MathJax.js?config=TeX-AMS-MML_SVG\"></script><script type=\"text/javascript\">if (window.MathJax) {MathJax.Hub.Config({SVG: {font: \"STIX-Web\"}});}</script>\n",
              "                <script type=\"text/javascript\">window.PlotlyConfig = {MathJaxConfig: 'local'};</script>\n",
              "        <script src=\"https://cdn.plot.ly/plotly-latest.min.js\"></script>    \n",
              "            <div id=\"3cd5fcc8-2fcc-434b-9d52-d46010850e24\" class=\"plotly-graph-div\" style=\"height:525px; width:100%;\"></div>\n",
              "            <script type=\"text/javascript\">\n",
              "                \n",
              "                    window.PLOTLYENV=window.PLOTLYENV || {};\n",
              "                    \n",
              "                if (document.getElementById(\"3cd5fcc8-2fcc-434b-9d52-d46010850e24\")) {\n",
              "                    Plotly.newPlot(\n",
              "                        '3cd5fcc8-2fcc-434b-9d52-d46010850e24',\n",
              "                        [{\"hoverlabel\": {\"namelength\": 0}, \"hovertemplate\": \"1=%{x}<br>2=%{y}<br>3=%{z}<br>color=%{marker.color}\", \"legendgroup\": \"\", \"marker\": {\"color\": [2, 0, 2, 0, 2, 0, 2, 0, 3, 6, 0, 0, 0, 0, 0, 0, 0, 0, 0, 0, 0, 0, 6, 6, 0, 0, 0, 0, 0, 0, 0, 0, 0, 0, 0, 0, 0, 0, 0, 0, 0, 0, 0, 0, 0, 0, 0, 0, 8, 0, 8, 0, 8, 0, 8, 0, 8, 0, 9, 0, 4, 7, 0, 0, 8, 8, 5, 0, 5, 0, 5, 0, 5, 0, 5, 0, 5, 0, 8, 0, 0, 0, 1, 8, 0, 0, 0, 0, 0, 0, 0, 0, 0, 0, 0, 0, 0, 0, 0, 0], \"coloraxis\": \"coloraxis\", \"symbol\": \"circle\"}, \"mode\": \"markers\", \"name\": \"\", \"scene\": \"scene\", \"showlegend\": false, \"type\": \"scatter3d\", \"x\": [2.2663111062809254, -0.28142933618747085, 2.263897196709779, -0.2822854230006199, 2.270474067384816, -0.2810716018099859, 2.2611309211280495, -0.283016680989429, -0.16955560967274094, -0.22870339882299662, -0.2773273956597778, -0.2906350721014178, -0.27734974124355233, -0.2907204675374879, -0.2773570102888766, -0.290679961367839, -0.2772802814771207, -0.29083839156298946, -0.2771308622121222, -0.2908286546733545, -0.27733537622541155, -0.290624815893159, -0.09397898711695205, -0.21982233882951324, -0.28959192892574714, -0.29085730361639645, -0.2895213538031546, -0.2907390474330137, -0.2901246845650672, -0.29118354879475766, -0.2895593143731812, -0.2907451328494342, -0.2900108028549873, -0.29105415015739494, -0.2899151418339146, -0.29105756936289817, -0.2291710665125158, -0.28116036435683023, -0.23031094127863966, -0.28161831103986074, -0.22879494149268254, -0.281057191647959, -0.23226631447086232, -0.28219047260762026, -0.2316718680976794, -0.2823838152134715, -0.22889493894158752, -0.281137289454065, -0.15396381209304535, -0.27421494382538397, -0.157093886086001, -0.27405254039681554, -0.14759162850380306, -0.2760676549738568, -0.14434801894578328, -0.27713678317200885, -0.1554346303393484, -0.27422011313813993, 6.338282022691427, -0.2789168993394413, -0.02680494709877366, -0.14404077202336266, -0.292772534557064, -0.2927597606291181, -0.25564816040858546, -0.2713532121652584, 0.34939600023851225, -0.281114432766736, 0.3478931539631423, -0.28056127598619107, 0.33724077187630747, -0.2820268912413728, 0.3458166300155152, -0.2809508408026889, 0.36028283788247234, -0.2773741660745994, 0.34120315155889, -0.282576384162683, -0.24359665657231103, -0.26073901515617814, -0.279089504551713, -0.29107410710749376, 5.661943622490443, 0.13396291230308677, -0.37580743778649345, -0.27989607516386145, -0.37424951654649996, -0.28010026849896597, -0.37509639809559553, -0.28093639475276566, -0.37595951636383645, -0.28162870703631543, -0.37482149918729, -0.2799770819363852, -0.2824572825800708, -0.2874404781232927, -0.2926110370750203, -0.29269846061954813, -0.29281089695337364, -0.29283087132974395], \"y\": [2.2196790173322634, -0.28997263368453535, 2.219260557195133, -0.28999094468663006, 2.223406714072566, -0.28977465649272277, 2.219042199640356, -0.2900189837638582, -0.13373829211276148, -0.20455396270260154, -0.2534948172376021, -0.29214479729356224, -0.2537524931945274, -0.2921492875761638, -0.2526966999836932, -0.29221689653865207, -0.25394627674796455, -0.29210524266484034, -0.2539547021198531, -0.2921326422832266, -0.2531016332161355, -0.2921740349408826, -0.17854025003550822, -0.2242027131411256, -0.29293608939096344, -0.29287427057028537, -0.2928939625315206, -0.2928598462546847, -0.2929747953104019, -0.2928348159922769, -0.29291362173259394, -0.29283936229292234, -0.2929129196182699, -0.2928370624541326, -0.29293608939096344, -0.29285786027730615, -0.2744297600377227, -0.29169508102904834, -0.2743321661466801, -0.2916782668418668, -0.2744724022789566, -0.29170212066905354, -0.27430759214533845, -0.29159109729829596, -0.27437780357774316, -0.2917667912855593, -0.27439956912178864, -0.2916421039605024, -0.0895370802860583, -0.28123943985030414, -0.09308295929363322, -0.2808251348759285, -0.08806755500582705, -0.28174367235871906, -0.08801489643152352, -0.28166146783524604, -0.09034170330141683, -0.28077412549450453, 6.216144447314679, -0.2876712351659503, 0.015384132334243461, -0.11515169101479834, -0.2930996820284665, -0.2930996820284665, -0.2623819655695857, -0.2772039268846804, 0.3419613198437381, -0.2701034508688472, 0.34050864530728414, -0.2694904339216131, 0.3472122610793583, -0.27166560605729534, 0.3415140730193196, -0.26879252429419476, 0.3567689109378973, -0.26823987935141064, 0.3427778788026046, -0.2707707761016692, -0.26495487387883426, -0.2742992886337223, -0.2836730951138064, -0.2909883423188889, 5.878887909563242, -0.19085947580188936, -0.2933643746848708, -0.2916655142384606, -0.29230560405925354, -0.29178158637460794, -0.29437079779949266, -0.2916471211420644, -0.29659275263448687, -0.2916450345526891, -0.292565230827497, -0.2917024570450614, -0.2821336643992715, -0.2872162182327272, -0.2929400126901322, -0.2929956243643412, -0.29306421287792794, -0.2930964861267853], \"z\": [2.2434815276340996, -0.28302974182594726, 2.2425726224065436, -0.2829468612245034, 2.2514333714732735, -0.2767860603695431, 2.241580216720896, -0.2826993913070494, -0.13639554923778854, -0.18748238520772764, -0.2577031994624688, -0.2954645188648612, -0.2576681232282301, -0.29556823052166276, -0.25712782614644747, -0.29555357156037493, -0.2578452777911707, -0.29542153914738256, -0.25802382085831205, -0.2955390894068517, -0.2574447429996571, -0.29551540885015004, -0.17380349712556953, -0.2106799993924198, -0.2945393991384442, -0.29442091240317525, -0.2944766311403328, -0.2943416809210728, -0.2948249319925981, -0.29475959234902316, -0.2945130723827301, -0.29458453787271177, -0.2946252715779282, -0.2946104849318502, -0.29466555050719756, -0.29466961817023984, -0.27500685964771354, -0.28770697052657856, -0.27532500724598413, -0.28857554499075055, -0.2753520836373264, -0.28820917983511146, -0.2754782350060797, -0.2881895832810573, -0.27527822774507443, -0.2881012570218222, -0.2752357782290611, -0.2880207475091866, -0.1619998481459409, -0.26053467088360416, -0.1684021839533053, -0.259735150488279, -0.15664465261366486, -0.25966573022531064, -0.15545314594291965, -0.2586918690280827, -0.1643911857994792, -0.2616288259044438, 6.266437296167474, -0.2943799670901216, -0.09004331397774845, -0.1564469195450509, -0.2960033703885135, -0.2960033703885135, -0.2234343215861412, -0.2546598522273206, 0.3662383935289015, -0.2879472450299409, 0.3711718351059523, -0.2891291727031232, 0.3580188626389581, -0.2886891351746266, 0.3723233313736234, -0.2881641082211414, 0.3840245488541383, -0.2883694039632381, 0.3603172790403909, -0.288327778941197, -0.20266213667382904, -0.2402885182064702, -0.29457755223533544, -0.295221758948951, 5.77395566759304, 0.060897671876425793, -0.30304262352728534, -0.2952747068251563, -0.3004910478258492, -0.2948935212943191, -0.30419445664123174, -0.2952488248766635, -0.306300704373592, -0.29518067883008303, -0.30156745159551623, -0.295103278930683, -0.2808321752230427, -0.2869773316752772, -0.29579615400285647, -0.29585645720384474, -0.29598969724900764, -0.29599833346185317]}],\n",
              "                        {\"coloraxis\": {\"colorbar\": {\"title\": {\"text\": \"color\"}}, \"colorscale\": [[0.0, \"#0d0887\"], [0.1111111111111111, \"#46039f\"], [0.2222222222222222, \"#7201a8\"], [0.3333333333333333, \"#9c179e\"], [0.4444444444444444, \"#bd3786\"], [0.5555555555555556, \"#d8576b\"], [0.6666666666666666, \"#ed7953\"], [0.7777777777777778, \"#fb9f3a\"], [0.8888888888888888, \"#fdca26\"], [1.0, \"#f0f921\"]]}, \"legend\": {\"tracegroupgap\": 0}, \"margin\": {\"t\": 60}, \"scene\": {\"domain\": {\"x\": [0.0, 1.0], \"y\": [0.0, 1.0]}, \"xaxis\": {\"title\": {\"text\": \"1\"}}, \"yaxis\": {\"title\": {\"text\": \"2\"}}, \"zaxis\": {\"title\": {\"text\": \"3\"}}}, \"template\": {\"data\": {\"bar\": [{\"error_x\": {\"color\": \"#2a3f5f\"}, \"error_y\": {\"color\": \"#2a3f5f\"}, \"marker\": {\"line\": {\"color\": \"#E5ECF6\", \"width\": 0.5}}, \"type\": \"bar\"}], \"barpolar\": [{\"marker\": {\"line\": {\"color\": \"#E5ECF6\", \"width\": 0.5}}, \"type\": \"barpolar\"}], \"carpet\": [{\"aaxis\": {\"endlinecolor\": \"#2a3f5f\", \"gridcolor\": \"white\", \"linecolor\": \"white\", \"minorgridcolor\": \"white\", \"startlinecolor\": \"#2a3f5f\"}, \"baxis\": {\"endlinecolor\": \"#2a3f5f\", \"gridcolor\": \"white\", \"linecolor\": \"white\", \"minorgridcolor\": \"white\", \"startlinecolor\": \"#2a3f5f\"}, \"type\": \"carpet\"}], \"choropleth\": [{\"colorbar\": {\"outlinewidth\": 0, \"ticks\": \"\"}, \"type\": \"choropleth\"}], \"contour\": [{\"colorbar\": {\"outlinewidth\": 0, \"ticks\": \"\"}, \"colorscale\": [[0.0, \"#0d0887\"], [0.1111111111111111, \"#46039f\"], [0.2222222222222222, \"#7201a8\"], [0.3333333333333333, \"#9c179e\"], [0.4444444444444444, \"#bd3786\"], [0.5555555555555556, \"#d8576b\"], [0.6666666666666666, \"#ed7953\"], [0.7777777777777778, \"#fb9f3a\"], [0.8888888888888888, \"#fdca26\"], [1.0, \"#f0f921\"]], \"type\": \"contour\"}], \"contourcarpet\": [{\"colorbar\": {\"outlinewidth\": 0, \"ticks\": \"\"}, \"type\": \"contourcarpet\"}], \"heatmap\": [{\"colorbar\": {\"outlinewidth\": 0, \"ticks\": \"\"}, \"colorscale\": [[0.0, \"#0d0887\"], [0.1111111111111111, \"#46039f\"], [0.2222222222222222, \"#7201a8\"], [0.3333333333333333, \"#9c179e\"], [0.4444444444444444, \"#bd3786\"], [0.5555555555555556, \"#d8576b\"], [0.6666666666666666, \"#ed7953\"], [0.7777777777777778, \"#fb9f3a\"], [0.8888888888888888, \"#fdca26\"], [1.0, \"#f0f921\"]], \"type\": \"heatmap\"}], \"heatmapgl\": [{\"colorbar\": {\"outlinewidth\": 0, \"ticks\": \"\"}, \"colorscale\": [[0.0, \"#0d0887\"], [0.1111111111111111, \"#46039f\"], [0.2222222222222222, \"#7201a8\"], [0.3333333333333333, \"#9c179e\"], [0.4444444444444444, \"#bd3786\"], [0.5555555555555556, \"#d8576b\"], [0.6666666666666666, \"#ed7953\"], [0.7777777777777778, \"#fb9f3a\"], [0.8888888888888888, \"#fdca26\"], [1.0, \"#f0f921\"]], \"type\": \"heatmapgl\"}], \"histogram\": [{\"marker\": {\"colorbar\": {\"outlinewidth\": 0, \"ticks\": \"\"}}, \"type\": \"histogram\"}], \"histogram2d\": [{\"colorbar\": {\"outlinewidth\": 0, \"ticks\": \"\"}, \"colorscale\": [[0.0, \"#0d0887\"], [0.1111111111111111, \"#46039f\"], [0.2222222222222222, \"#7201a8\"], [0.3333333333333333, \"#9c179e\"], [0.4444444444444444, \"#bd3786\"], [0.5555555555555556, \"#d8576b\"], [0.6666666666666666, \"#ed7953\"], [0.7777777777777778, \"#fb9f3a\"], [0.8888888888888888, \"#fdca26\"], [1.0, \"#f0f921\"]], \"type\": \"histogram2d\"}], \"histogram2dcontour\": [{\"colorbar\": {\"outlinewidth\": 0, \"ticks\": \"\"}, \"colorscale\": [[0.0, \"#0d0887\"], [0.1111111111111111, \"#46039f\"], [0.2222222222222222, \"#7201a8\"], [0.3333333333333333, \"#9c179e\"], [0.4444444444444444, \"#bd3786\"], [0.5555555555555556, \"#d8576b\"], [0.6666666666666666, \"#ed7953\"], [0.7777777777777778, \"#fb9f3a\"], [0.8888888888888888, \"#fdca26\"], [1.0, \"#f0f921\"]], \"type\": \"histogram2dcontour\"}], \"mesh3d\": [{\"colorbar\": {\"outlinewidth\": 0, \"ticks\": \"\"}, \"type\": \"mesh3d\"}], \"parcoords\": [{\"line\": {\"colorbar\": {\"outlinewidth\": 0, \"ticks\": \"\"}}, \"type\": \"parcoords\"}], \"pie\": [{\"automargin\": true, \"type\": \"pie\"}], \"scatter\": [{\"marker\": {\"colorbar\": {\"outlinewidth\": 0, \"ticks\": \"\"}}, \"type\": \"scatter\"}], \"scatter3d\": [{\"line\": {\"colorbar\": {\"outlinewidth\": 0, \"ticks\": \"\"}}, \"marker\": {\"colorbar\": {\"outlinewidth\": 0, \"ticks\": \"\"}}, \"type\": \"scatter3d\"}], \"scattercarpet\": [{\"marker\": {\"colorbar\": {\"outlinewidth\": 0, \"ticks\": \"\"}}, \"type\": \"scattercarpet\"}], \"scattergeo\": [{\"marker\": {\"colorbar\": {\"outlinewidth\": 0, \"ticks\": \"\"}}, \"type\": \"scattergeo\"}], \"scattergl\": [{\"marker\": {\"colorbar\": {\"outlinewidth\": 0, \"ticks\": \"\"}}, \"type\": \"scattergl\"}], \"scattermapbox\": [{\"marker\": {\"colorbar\": {\"outlinewidth\": 0, \"ticks\": \"\"}}, \"type\": \"scattermapbox\"}], \"scatterpolar\": [{\"marker\": {\"colorbar\": {\"outlinewidth\": 0, \"ticks\": \"\"}}, \"type\": \"scatterpolar\"}], \"scatterpolargl\": [{\"marker\": {\"colorbar\": {\"outlinewidth\": 0, \"ticks\": \"\"}}, \"type\": \"scatterpolargl\"}], \"scatterternary\": [{\"marker\": {\"colorbar\": {\"outlinewidth\": 0, \"ticks\": \"\"}}, \"type\": \"scatterternary\"}], \"surface\": [{\"colorbar\": {\"outlinewidth\": 0, \"ticks\": \"\"}, \"colorscale\": [[0.0, \"#0d0887\"], [0.1111111111111111, \"#46039f\"], [0.2222222222222222, \"#7201a8\"], [0.3333333333333333, \"#9c179e\"], [0.4444444444444444, \"#bd3786\"], [0.5555555555555556, \"#d8576b\"], [0.6666666666666666, \"#ed7953\"], [0.7777777777777778, \"#fb9f3a\"], [0.8888888888888888, \"#fdca26\"], [1.0, \"#f0f921\"]], \"type\": \"surface\"}], \"table\": [{\"cells\": {\"fill\": {\"color\": \"#EBF0F8\"}, \"line\": {\"color\": \"white\"}}, \"header\": {\"fill\": {\"color\": \"#C8D4E3\"}, \"line\": {\"color\": \"white\"}}, \"type\": \"table\"}]}, \"layout\": {\"annotationdefaults\": {\"arrowcolor\": \"#2a3f5f\", \"arrowhead\": 0, \"arrowwidth\": 1}, \"coloraxis\": {\"colorbar\": {\"outlinewidth\": 0, \"ticks\": \"\"}}, \"colorscale\": {\"diverging\": [[0, \"#8e0152\"], [0.1, \"#c51b7d\"], [0.2, \"#de77ae\"], [0.3, \"#f1b6da\"], [0.4, \"#fde0ef\"], [0.5, \"#f7f7f7\"], [0.6, \"#e6f5d0\"], [0.7, \"#b8e186\"], [0.8, \"#7fbc41\"], [0.9, \"#4d9221\"], [1, \"#276419\"]], \"sequential\": [[0.0, \"#0d0887\"], [0.1111111111111111, \"#46039f\"], [0.2222222222222222, \"#7201a8\"], [0.3333333333333333, \"#9c179e\"], [0.4444444444444444, \"#bd3786\"], [0.5555555555555556, \"#d8576b\"], [0.6666666666666666, \"#ed7953\"], [0.7777777777777778, \"#fb9f3a\"], [0.8888888888888888, \"#fdca26\"], [1.0, \"#f0f921\"]], \"sequentialminus\": [[0.0, \"#0d0887\"], [0.1111111111111111, \"#46039f\"], [0.2222222222222222, \"#7201a8\"], [0.3333333333333333, \"#9c179e\"], [0.4444444444444444, \"#bd3786\"], [0.5555555555555556, \"#d8576b\"], [0.6666666666666666, \"#ed7953\"], [0.7777777777777778, \"#fb9f3a\"], [0.8888888888888888, \"#fdca26\"], [1.0, \"#f0f921\"]]}, \"colorway\": [\"#636efa\", \"#EF553B\", \"#00cc96\", \"#ab63fa\", \"#FFA15A\", \"#19d3f3\", \"#FF6692\", \"#B6E880\", \"#FF97FF\", \"#FECB52\"], \"font\": {\"color\": \"#2a3f5f\"}, \"geo\": {\"bgcolor\": \"white\", \"lakecolor\": \"white\", \"landcolor\": \"#E5ECF6\", \"showlakes\": true, \"showland\": true, \"subunitcolor\": \"white\"}, \"hoverlabel\": {\"align\": \"left\"}, \"hovermode\": \"closest\", \"mapbox\": {\"style\": \"light\"}, \"paper_bgcolor\": \"white\", \"plot_bgcolor\": \"#E5ECF6\", \"polar\": {\"angularaxis\": {\"gridcolor\": \"white\", \"linecolor\": \"white\", \"ticks\": \"\"}, \"bgcolor\": \"#E5ECF6\", \"radialaxis\": {\"gridcolor\": \"white\", \"linecolor\": \"white\", \"ticks\": \"\"}}, \"scene\": {\"xaxis\": {\"backgroundcolor\": \"#E5ECF6\", \"gridcolor\": \"white\", \"gridwidth\": 2, \"linecolor\": \"white\", \"showbackground\": true, \"ticks\": \"\", \"zerolinecolor\": \"white\"}, \"yaxis\": {\"backgroundcolor\": \"#E5ECF6\", \"gridcolor\": \"white\", \"gridwidth\": 2, \"linecolor\": \"white\", \"showbackground\": true, \"ticks\": \"\", \"zerolinecolor\": \"white\"}, \"zaxis\": {\"backgroundcolor\": \"#E5ECF6\", \"gridcolor\": \"white\", \"gridwidth\": 2, \"linecolor\": \"white\", \"showbackground\": true, \"ticks\": \"\", \"zerolinecolor\": \"white\"}}, \"shapedefaults\": {\"line\": {\"color\": \"#2a3f5f\"}}, \"ternary\": {\"aaxis\": {\"gridcolor\": \"white\", \"linecolor\": \"white\", \"ticks\": \"\"}, \"baxis\": {\"gridcolor\": \"white\", \"linecolor\": \"white\", \"ticks\": \"\"}, \"bgcolor\": \"#E5ECF6\", \"caxis\": {\"gridcolor\": \"white\", \"linecolor\": \"white\", \"ticks\": \"\"}}, \"title\": {\"x\": 0.05}, \"xaxis\": {\"automargin\": true, \"gridcolor\": \"white\", \"linecolor\": \"white\", \"ticks\": \"\", \"title\": {\"standoff\": 15}, \"zerolinecolor\": \"white\", \"zerolinewidth\": 2}, \"yaxis\": {\"automargin\": true, \"gridcolor\": \"white\", \"linecolor\": \"white\", \"ticks\": \"\", \"title\": {\"standoff\": 15}, \"zerolinecolor\": \"white\", \"zerolinewidth\": 2}}}},\n",
              "                        {\"responsive\": true}\n",
              "                    ).then(function(){\n",
              "                            \n",
              "var gd = document.getElementById('3cd5fcc8-2fcc-434b-9d52-d46010850e24');\n",
              "var x = new MutationObserver(function (mutations, observer) {{\n",
              "        var display = window.getComputedStyle(gd).display;\n",
              "        if (!display || display === 'none') {{\n",
              "            console.log([gd, 'removed!']);\n",
              "            Plotly.purge(gd);\n",
              "            observer.disconnect();\n",
              "        }}\n",
              "}});\n",
              "\n",
              "// Listen for the removal of the full notebook cells\n",
              "var notebookContainer = gd.closest('#notebook-container');\n",
              "if (notebookContainer) {{\n",
              "    x.observe(notebookContainer, {childList: true});\n",
              "}}\n",
              "\n",
              "// Listen for the clearing of the current output cell\n",
              "var outputEl = gd.closest('.output');\n",
              "if (outputEl) {{\n",
              "    x.observe(outputEl, {childList: true});\n",
              "}}\n",
              "\n",
              "                        })\n",
              "                };\n",
              "                \n",
              "            </script>\n",
              "        </div>\n",
              "</body>\n",
              "</html>"
            ]
          },
          "metadata": {
            "tags": []
          }
        }
      ]
    },
    {
      "cell_type": "markdown",
      "metadata": {
        "id": "WSz7EKfHKrgq",
        "colab_type": "text"
      },
      "source": [
        "* Cluster the days into four clusters and make a confusion matrix (contingency table where the rows are the true classes, columns the cluster indices, and entries the counts). Order the rows and columns so that the sum of diagonal entries in your contingency table is maximized. Where are most \"errors\" made (if you would use your clusters as a classifier)? (Hint: use the Hungarian algorithm as shown in L6 to re-order the rows and columns of your contingency table.)\n"
      ]
    },
    {
      "cell_type": "code",
      "metadata": {
        "colab_type": "code",
        "id": "SMZhlXXvi9zC",
        "colab": {}
      },
      "source": [
        "scaler = StandardScaler()"
      ],
      "execution_count": 0,
      "outputs": []
    },
    {
      "cell_type": "code",
      "metadata": {
        "colab_type": "code",
        "id": "us_WXiTXi9zH",
        "colab": {}
      },
      "source": [
        "npf2rows_normed = scaler.fit(npf2rows).transform(npf2rows)"
      ],
      "execution_count": 0,
      "outputs": []
    },
    {
      "cell_type": "code",
      "metadata": {
        "colab_type": "code",
        "outputId": "12547e0c-646a-4fbb-8485-ffcb9ae8d5df",
        "id": "8X6I6lbwi9zM",
        "colab": {
          "base_uri": "https://localhost:8080/",
          "height": 34
        }
      },
      "source": [
        "npf2rows_normed.shape"
      ],
      "execution_count": 170,
      "outputs": [
        {
          "output_type": "execute_result",
          "data": {
            "text/plain": [
              "(724, 100)"
            ]
          },
          "metadata": {
            "tags": []
          },
          "execution_count": 170
        }
      ]
    },
    {
      "cell_type": "code",
      "metadata": {
        "colab_type": "code",
        "id": "gK3oHADpi9zc",
        "colab": {}
      },
      "source": [
        "#px.scatter_3d(data_frame=npf, x=\"HYY_META.H2O168.mean\", y=\"CS.mean\", z=\"HYY_META.SO2168.mean\",color=kmeans_results)"
      ],
      "execution_count": 0,
      "outputs": []
    },
    {
      "cell_type": "code",
      "metadata": {
        "id": "E1MIET-3kZEJ",
        "colab_type": "code",
        "outputId": "9766efe9-16d6-40c3-ca96-cbc1cedfa981",
        "colab": {
          "base_uri": "https://localhost:8080/",
          "height": 221
        }
      },
      "source": [
        "# from lecture notes:\n",
        "npf_kmeans = KMeans(n_clusters=4,random_state=42).fit(npf2rows_normed)\n",
        "tb_npf = pd.crosstab(npf[\"event\"],pd.Series(npf_kmeans.labels_,name=\"cluster\"))\n",
        "#tb_npf\n",
        "\n",
        "# Hungarian algorithm?\n",
        "row_ind, col_ind = linear_sum_assignment(tb_npf,maximize=True)\n",
        "print(\"best match accuracy %.4f\" % (np.array(tb_npf.iloc[row_ind,col_ind]).trace()/npf.shape[0]))\n",
        "tb_npf.iloc[row_ind,col_ind]"
      ],
      "execution_count": 172,
      "outputs": [
        {
          "output_type": "stream",
          "text": [
            "best match accuracy 0.4862\n"
          ],
          "name": "stdout"
        },
        {
          "output_type": "execute_result",
          "data": {
            "text/html": [
              "<div>\n",
              "<style scoped>\n",
              "    .dataframe tbody tr th:only-of-type {\n",
              "        vertical-align: middle;\n",
              "    }\n",
              "\n",
              "    .dataframe tbody tr th {\n",
              "        vertical-align: top;\n",
              "    }\n",
              "\n",
              "    .dataframe thead th {\n",
              "        text-align: right;\n",
              "    }\n",
              "</style>\n",
              "<table border=\"1\" class=\"dataframe\">\n",
              "  <thead>\n",
              "    <tr style=\"text-align: right;\">\n",
              "      <th>cluster</th>\n",
              "      <th>0</th>\n",
              "      <th>3</th>\n",
              "      <th>1</th>\n",
              "      <th>2</th>\n",
              "    </tr>\n",
              "    <tr>\n",
              "      <th>event</th>\n",
              "      <th></th>\n",
              "      <th></th>\n",
              "      <th></th>\n",
              "      <th></th>\n",
              "    </tr>\n",
              "  </thead>\n",
              "  <tbody>\n",
              "    <tr>\n",
              "      <th>II</th>\n",
              "      <td>64</td>\n",
              "      <td>2</td>\n",
              "      <td>86</td>\n",
              "      <td>21</td>\n",
              "    </tr>\n",
              "    <tr>\n",
              "      <th>Ia</th>\n",
              "      <td>5</td>\n",
              "      <td>0</td>\n",
              "      <td>21</td>\n",
              "      <td>12</td>\n",
              "    </tr>\n",
              "    <tr>\n",
              "      <th>Ib</th>\n",
              "      <td>30</td>\n",
              "      <td>0</td>\n",
              "      <td>81</td>\n",
              "      <td>8</td>\n",
              "    </tr>\n",
              "    <tr>\n",
              "      <th>nonevent</th>\n",
              "      <td>147</td>\n",
              "      <td>20</td>\n",
              "      <td>20</td>\n",
              "      <td>207</td>\n",
              "    </tr>\n",
              "  </tbody>\n",
              "</table>\n",
              "</div>"
            ],
            "text/plain": [
              "cluster     0   3   1    2\n",
              "event                     \n",
              "II         64   2  86   21\n",
              "Ia          5   0  21   12\n",
              "Ib         30   0  81    8\n",
              "nonevent  147  20  20  207"
            ]
          },
          "metadata": {
            "tags": []
          },
          "execution_count": 172
        }
      ]
    },
    {
      "cell_type": "code",
      "metadata": {
        "id": "RL9Sh98Dn6Q9",
        "colab_type": "code",
        "outputId": "aa4a9895-484c-4c25-d623-f3a8d4b78fa0",
        "colab": {
          "base_uri": "https://localhost:8080/",
          "height": 221
        }
      },
      "source": [
        "# from lecture notes:\n",
        "npf_kmeans = KMeans(n_clusters=4,random_state=42).fit(npf2rows)\n",
        "tb_npf = pd.crosstab(npf[\"event\"],pd.Series(npf_kmeans.labels_,name=\"cluster\"))\n",
        "#tb_npf\n",
        "\n",
        "# Hungarian algorithm?\n",
        "row_ind, col_ind = linear_sum_assignment(tb_npf,maximize=True)\n",
        "print(\"best match accuracy %.4f\" % (np.array(tb_npf.iloc[row_ind,col_ind]).trace()/npf.shape[0]))\n",
        "tb_npf.iloc[row_ind,col_ind]"
      ],
      "execution_count": 173,
      "outputs": [
        {
          "output_type": "stream",
          "text": [
            "best match accuracy 0.4558\n"
          ],
          "name": "stdout"
        },
        {
          "output_type": "execute_result",
          "data": {
            "text/html": [
              "<div>\n",
              "<style scoped>\n",
              "    .dataframe tbody tr th:only-of-type {\n",
              "        vertical-align: middle;\n",
              "    }\n",
              "\n",
              "    .dataframe tbody tr th {\n",
              "        vertical-align: top;\n",
              "    }\n",
              "\n",
              "    .dataframe thead th {\n",
              "        text-align: right;\n",
              "    }\n",
              "</style>\n",
              "<table border=\"1\" class=\"dataframe\">\n",
              "  <thead>\n",
              "    <tr style=\"text-align: right;\">\n",
              "      <th>cluster</th>\n",
              "      <th>0</th>\n",
              "      <th>3</th>\n",
              "      <th>2</th>\n",
              "      <th>1</th>\n",
              "    </tr>\n",
              "    <tr>\n",
              "      <th>event</th>\n",
              "      <th></th>\n",
              "      <th></th>\n",
              "      <th></th>\n",
              "      <th></th>\n",
              "    </tr>\n",
              "  </thead>\n",
              "  <tbody>\n",
              "    <tr>\n",
              "      <th>II</th>\n",
              "      <td>66</td>\n",
              "      <td>46</td>\n",
              "      <td>47</td>\n",
              "      <td>14</td>\n",
              "    </tr>\n",
              "    <tr>\n",
              "      <th>Ia</th>\n",
              "      <td>14</td>\n",
              "      <td>3</td>\n",
              "      <td>9</td>\n",
              "      <td>12</td>\n",
              "    </tr>\n",
              "    <tr>\n",
              "      <th>Ib</th>\n",
              "      <td>44</td>\n",
              "      <td>20</td>\n",
              "      <td>52</td>\n",
              "      <td>3</td>\n",
              "    </tr>\n",
              "    <tr>\n",
              "      <th>nonevent</th>\n",
              "      <td>56</td>\n",
              "      <td>81</td>\n",
              "      <td>48</td>\n",
              "      <td>209</td>\n",
              "    </tr>\n",
              "  </tbody>\n",
              "</table>\n",
              "</div>"
            ],
            "text/plain": [
              "cluster    0   3   2    1\n",
              "event                    \n",
              "II        66  46  47   14\n",
              "Ia        14   3   9   12\n",
              "Ib        44  20  52    3\n",
              "nonevent  56  81  48  209"
            ]
          },
          "metadata": {
            "tags": []
          },
          "execution_count": 173
        }
      ]
    },
    {
      "cell_type": "markdown",
      "metadata": {
        "id": "cuEK9YmDo6zo",
        "colab_type": "text"
      },
      "source": [
        "With normalised data the events are better \"classified\" into the clusters.\n",
        "\n",
        "The accuracy score is only a little bit better"
      ]
    },
    {
      "cell_type": "markdown",
      "metadata": {
        "id": "ciq32aswJ_Tt",
        "colab_type": "text"
      },
      "source": [
        "## Problem 2\n",
        "\n",
        "*Learning objective: familiarity with hierarchical clustering and tools.*\n",
        "\n",
        "Continue with the same dataset as in Problem 1 above.\n",
        "\n",
        "### Tasks\n",
        "\n",
        "* Try clustering of your matrix (rows or columns) with hierarchical clustering. Produce a dendrogram and corresponding flat clustering (e.g., by splitting the dendrogram with [fcluster](https://docs.scipy.org/doc/scipy/reference/generated/scipy.cluster.hierarchy.fcluster.html)). Try to find at least one interesting feature and/or reproduce some of the properties of hierarchical clustering (e.g., differences between linkage function) discussed in the lecture. "
      ]
    },
    {
      "cell_type": "code",
      "metadata": {
        "id": "OYdhHNvMlMVB",
        "colab_type": "code",
        "colab": {}
      },
      "source": [
        "from scipy.cluster.hierarchy import ward, fcluster, linkage, dendrogram\n",
        "from scipy.spatial.distance import pdist\n",
        "Z_ward = ward(pdist(npf2rows_normed[:100,:4]))\n",
        "Z_single = linkage(pdist(npf2rows_normed[:100,:4]))\n",
        "Z_centroid = linkage(pdist(npf2rows_normed[:100,:4]),method='centroid')"
      ],
      "execution_count": 0,
      "outputs": []
    },
    {
      "cell_type": "code",
      "metadata": {
        "id": "-4LZSs1m0WcX",
        "colab_type": "code",
        "colab": {
          "base_uri": "https://localhost:8080/",
          "height": 262
        },
        "outputId": "20a60f63-ac25-43c2-d9db-91a966bddf61"
      },
      "source": [
        "dendrogram(Z_ward);"
      ],
      "execution_count": 188,
      "outputs": [
        {
          "output_type": "display_data",
          "data": {
            "image/png": "[encoded data removed]",
            "text/plain": [
              "<Figure size 432x288 with 1 Axes>"
            ]
          },
          "metadata": {
            "tags": [],
            "needs_background": "light"
          }
        }
      ]
    },
    {
      "cell_type": "code",
      "metadata": {
        "id": "WwfsPhSJ4iUB",
        "colab_type": "code",
        "colab": {
          "base_uri": "https://localhost:8080/",
          "height": 262
        },
        "outputId": "94389eef-b732-45f2-9699-9adfb674745e"
      },
      "source": [
        "dendrogram(Z_single);"
      ],
      "execution_count": 189,
      "outputs": [
        {
          "output_type": "display_data",
          "data": {
            "image/png": "[encoded data removed]",
            "text/plain": [
              "<Figure size 432x288 with 1 Axes>"
            ]
          },
          "metadata": {
            "tags": [],
            "needs_background": "light"
          }
        }
      ]
    },
    {
      "cell_type": "code",
      "metadata": {
        "id": "QAZEr3RJ4-EQ",
        "colab_type": "code",
        "colab": {
          "base_uri": "https://localhost:8080/",
          "height": 262
        },
        "outputId": "05dd00ed-757d-4ef2-af5a-95f303ecb5b7"
      },
      "source": [
        "dendrogram(Z_centroid);"
      ],
      "execution_count": 192,
      "outputs": [
        {
          "output_type": "display_data",
          "data": {
            "image/png": "[encoded data removed]",
            "text/plain": [
              "<Figure size 432x288 with 1 Axes>"
            ]
          },
          "metadata": {
            "tags": [],
            "needs_background": "light"
          }
        }
      ]
    },
    {
      "cell_type": "code",
      "metadata": {
        "id": "c5Dtfhk31lot",
        "colab_type": "code",
        "colab": {
          "base_uri": "https://localhost:8080/",
          "height": 272
        },
        "outputId": "ba5e5122-1cb7-4f34-bbc5-7e334e6c217a"
      },
      "source": [
        "fcluster(Z_ward, t=4, criterion='distance'),fcluster(Z_single, t=0.8, criterion='distance'),fcluster(Z_centroid, t=2, criterion='distance')"
      ],
      "execution_count": 195,
      "outputs": [
        {
          "output_type": "execute_result",
          "data": {
            "text/plain": [
              "(array([1, 1, 1, 1, 1, 1, 1, 1, 1, 1, 1, 4, 1, 1, 1, 1, 3, 1, 1, 3, 3, 3,\n",
              "        3, 3, 3, 3, 3, 4, 4, 4, 4, 4, 2, 4, 3, 4, 3, 2, 4, 3, 3, 4, 3, 3,\n",
              "        3, 1, 1, 3, 3, 4, 3, 3, 3, 3, 4, 3, 4, 2, 4, 2, 2, 3, 2, 2, 3, 2,\n",
              "        2, 3, 3, 4, 3, 3, 1, 1, 1, 1, 1, 1, 1, 1, 1, 1, 1, 1, 1, 1, 1, 1,\n",
              "        1, 1, 1, 1, 1, 4, 4, 3, 3, 3, 3, 4], dtype=int32),\n",
              " array([1, 1, 1, 1, 1, 1, 1, 1, 1, 1, 1, 4, 1, 1, 1, 1, 1, 1, 1, 1, 1, 1,\n",
              "        1, 1, 1, 1, 1, 1, 1, 1, 1, 1, 1, 1, 1, 1, 1, 2, 1, 1, 1, 1, 1, 1,\n",
              "        1, 1, 1, 1, 1, 1, 1, 1, 1, 1, 1, 1, 1, 1, 1, 1, 1, 1, 5, 3, 1, 1,\n",
              "        1, 1, 1, 1, 1, 1, 1, 1, 1, 1, 1, 1, 1, 1, 1, 1, 1, 1, 1, 1, 1, 1,\n",
              "        1, 1, 1, 1, 1, 1, 1, 1, 1, 1, 1, 1], dtype=int32),\n",
              " array([1, 1, 1, 1, 1, 1, 1, 1, 1, 1, 1, 1, 1, 1, 1, 1, 1, 1, 1, 1, 1, 1,\n",
              "        1, 1, 1, 1, 1, 1, 1, 1, 1, 1, 2, 1, 1, 1, 1, 2, 1, 1, 1, 1, 1, 1,\n",
              "        1, 1, 1, 1, 1, 1, 1, 1, 1, 1, 1, 1, 1, 2, 1, 2, 2, 1, 3, 2, 1, 2,\n",
              "        2, 1, 1, 1, 1, 1, 1, 1, 1, 1, 1, 1, 1, 1, 1, 1, 1, 1, 1, 1, 1, 1,\n",
              "        1, 1, 1, 1, 1, 1, 1, 1, 1, 1, 1, 1], dtype=int32))"
            ]
          },
          "metadata": {
            "tags": []
          },
          "execution_count": 195
        }
      ]
    },
    {
      "cell_type": "markdown",
      "metadata": {
        "id": "oaQ61pDwlL-e",
        "colab_type": "text"
      },
      "source": [
        "Ward linkage seems to work best. Single linkage puts almost everything in a same cluster. Centroid does a bit better but still almost everything is in the same cluster.\n"
      ]
    }
  ]
}