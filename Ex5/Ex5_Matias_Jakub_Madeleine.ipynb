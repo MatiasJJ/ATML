{
  "nbformat": 4,
  "nbformat_minor": 0,
  "metadata": {
    "kernelspec": {
      "display_name": "Python 3",
      "language": "python",
      "name": "python3"
    },
    "language_info": {
      "codemirror_mode": {
        "name": "ipython",
        "version": 3
      },
      "file_extension": ".py",
      "mimetype": "text/x-python",
      "name": "python",
      "nbconvert_exporter": "python",
      "pygments_lexer": "ipython3",
      "version": "3.7.7"
    },
    "colab": {
      "name": "Ex5_Matias_Jakub_Madeleine.ipynb",
      "provenance": [],
      "collapsed_sections": [],
      "include_colab_link": true
    }
  },
  "cells": [
    {
      "cell_type": "markdown",
      "metadata": {
        "id": "view-in-github",
        "colab_type": "text"
      },
      "source": [
        "<a href=\"https://colab.research.google.com/github/MatiasJJ/ATML/blob/edits/Ex5/Ex5_Matias_Jakub_Madeleine.ipynb\" target=\"_parent\"><img src=\"https://colab.research.google.com/assets/colab-badge.svg\" alt=\"Open In Colab\"/></a>"
      ]
    },
    {
      "cell_type": "markdown",
      "metadata": {
        "id": "TEJSWetP_-Zl",
        "colab_type": "text"
      },
      "source": [
        "# Exercise Set 5\n",
        "\n",
        "Madeleine Ekblom, Matias Jääskeläinen, Jakub Kubečka"
      ]
    },
    {
      "cell_type": "markdown",
      "metadata": {
        "id": "7I7Gb_RbpbST",
        "colab_type": "text"
      },
      "source": [
        "TIME: 5-6 hours"
      ]
    },
    {
      "cell_type": "markdown",
      "metadata": {
        "id": "SFiF2Yu1_-Zp",
        "colab_type": "text"
      },
      "source": [
        "## Problem 1\n",
        "\n",
        "*Learning objective: Naive Bayes  classifier, binary probability distributions, probability computations  in classification.*\n",
        "\n",
        "Use the discrete naive Bayes classifier in the\n",
        "following problem. This problem should be solvable by pen, paper, and your pocket calculator. Assume that the class variable is binary $Y$, and\n",
        "that there are three input features $X_1$, $X_2$, and $X_3$ which\n",
        "are also binary.\n",
        "\n",
        " The training data is as follows:\n",
        "\n",
        "$$  \\begin{array}{cccc}\n",
        "    Y & X_1 & X_2 & X_3 \\\\\\hline\n",
        "    0 & 1 & 1 & 0 \\\\\n",
        "    0 & 0 & 1 & 1 \\\\\n",
        "    0 & 0 & 0 & 0 \\\\\n",
        "    1 & 1 & 0 & 0 \\\\\n",
        "    0 & 1 & 0 & 0 \n",
        "  \\end{array}$$\n",
        "  \n",
        "### Tasks\n",
        "\n",
        "* Provide estimates of the class-conditional distributions of the form\n",
        " $P(X_j = x \\mid Y=c)$ for all $j,x,$ and $c$ without smoothing.\n",
        " *Hint:* Use empirical frequencies.\n",
        "* Do the same with [Laplace smoothing](https://en.wikipedia.org/wiki/Additive_smoothing) by using pseudocounts\n",
        " $m_{c,j,x}=1$ added to the empirical frequencies. (Recall: You can interpret the pseudocounts as effects of the prior, see E2P1, i.e., Laplace smoothed frequencies can be though as MAP estimates!)\n",
        "* Assume that the required probabilities have been estimated from\n",
        "  data.  How is the class value predicted for a new test instance\n",
        "  $(x_1,x_2,x_3)$?  Provide a formula. How would you classify a test instance $(1,0,0)$ (Remember\n",
        "  to apply smoothing to the class probabilities $P(Y=c)$, too!)\n",
        "\n"
      ]
    },
    {
      "cell_type": "markdown",
      "metadata": {
        "id": "L7VKcs2fBOl4",
        "colab_type": "text"
      },
      "source": [
        "Without smoothing, using empirical frequencies:\n",
        "\n",
        "Y=0: $P(Y=0) = 4/5$ \n",
        "$$\n",
        "\\begin{array}{cc}\n",
        "P(X_1 = 1| Y=0)= 2/4 & P(X_1 = 0| Y=0)= 2/4\\\\\n",
        "P(X_2 = 1| Y=0)= 2/4 & P(X_2 = 0| Y=0)= 2/4\\\\\n",
        "P(X_3 = 1| Y=0)= 1/4 & P(X_3 = 0| Y=0)= 3/4\n",
        "\\end{array}\n",
        "$$\n",
        "\n",
        "Y=1: $P(Y=1) = 1/5$\n",
        "$$\n",
        "\\begin{array}{cc}\n",
        "P(X_1 = 1| Y=1)= 1 & P(X_1 = 0| Y=1)= 0\\\\\n",
        "P(X_2 = 1| Y=1)= 0 & P(X_2 = 0| Y=1)= 1\\\\\n",
        "P(X_3 = 1| Y=1)= 0 & P(X_3 = 0| Y=1)= 1\n",
        "\\end{array}\n",
        "$$\n",
        "\n",
        "Pseudo-constant $m_{c,j,x}=1$ and $d$= total number of categories=2.\n",
        "\n",
        "With smoothing:\n",
        "\n",
        "$p(x_i|y) = \\frac{x_i + m}{N+m d}$, where $m$ is the smoothing constant.\n",
        "\n",
        "Y=0: $P(Y=0) = (4+1)/(5+1*2)=5/7\\approx 0.71$ \n",
        "\n",
        "Here, $N=4$\n",
        "$$\n",
        "\\begin{array}{cc}\n",
        "P(X_1 = 1| Y=0)= (2+1)/(4+1*2)=1/2 & P(X_1 = 0| Y=0)= 1/2\\\\\n",
        "P(X_2 = 1| Y=0)= 1/2 & P(X_2 = 0| Y=0)= 1/2 \\\\\n",
        "P(X_3 = 1| Y=0)= 1/3  & P(X_3 = 0| Y=0)=2/3 \n",
        "\\end{array}\n",
        "$$\n",
        "\n",
        "Y=1: $P(Y=1) = (1+1)/(5+1*2)=2/7\\approx 0.29$\n",
        "\n",
        "Here, $N=1$\n",
        "$$\n",
        "\\begin{array}{cc}\n",
        "P(X_1 = 1| Y=1)=2/3  & P(X_1 = 0| Y=1)=1/3\\\\\n",
        "P(X_2 = 1| Y=1)=1/3 & P(X_2 = 0| Y=1)=2/3\\\\\n",
        "P(X_3 = 1| Y=1)=1/3 & P(X_3 = 0| Y=1)=2/3\n",
        "\\end{array}\n",
        "$$"
      ]
    },
    {
      "cell_type": "code",
      "metadata": {
        "id": "M0LztgmOAhX2",
        "colab_type": "code",
        "outputId": "9573ea56-86c8-421c-e9eb-1459cac43114",
        "colab": {
          "base_uri": "https://localhost:8080/",
          "height": 459
        }
      },
      "source": [
        "import numpy as np\n",
        "##################\n",
        "#pYX = p(y|x) = p(y)*p(x1|y)*p(x2|y)*p(x3|y)\n",
        "def pYX(y,x):\n",
        "    P=py[y]\n",
        "    for i in range(3):\n",
        "        if x[i]==1:\n",
        "            P=P*pxy[i+1,y]\n",
        "        else:\n",
        "            P=P*(1-pxy[i+1,y])  \n",
        "    return P\n",
        "\n",
        "def predict(x):\n",
        "    if pYX(0,x)>pYX(1,x):\n",
        "        return 0\n",
        "    else:\n",
        "        return 1\n",
        "    \n",
        "def wrong(a,b):\n",
        "    if a!=b:\n",
        "        return \"WRONG\"\n",
        "    else:\n",
        "        return \"\"\n",
        "\n",
        "trainX=np.array([[1,1,0],[0,1,1],[0,0,0],[1,0,0],[1,0,0]])\n",
        "trainY=np.array([0,0,0,1,0])\n",
        "\n",
        "####################################\n",
        "print(\"USING EMPIRICAL FREQUENCIES\")\n",
        "pxy=np.empty([4, 2])\n",
        "py=np.empty([2,1])\n",
        "#px1y1 = p(x1=1|y=1)\n",
        "#px2y1 = p(x2=1|y=1)\n",
        "pxy[1,0]=2/4\n",
        "pxy[2,0]=2/4\n",
        "pxy[3,0]=1/4\n",
        "pxy[1,1]=1/1\n",
        "pxy[2,1]=0/1\n",
        "pxy[3,1]=0/1\n",
        "#py1 = p(y=1)\n",
        "py[1]=1/5\n",
        "py[0]=4/5\n",
        "\n",
        "\n",
        "print(\"TRAINING:\\ntrain.X  train.Y  predicted Y\")\n",
        "for i in range(trainX.shape[0]):\n",
        "    print(\"%s  %i        %i %s\" % (trainX[i],trainY[i],predict(trainX[i]),wrong(trainY[i],predict(trainX[i]))))\n",
        "    \n",
        "print(\"\\nTEST:\")\n",
        "print(\"test.X    predicted Y\")\n",
        "print(\"%s %i\" % ([1,0,0],predict([1,0,0])))\n",
        "\n",
        "print(\"\\n----------------------\")\n",
        "print(\"USING LAPLACE SMOOTHING\")\n",
        "pxy=np.empty([4, 2])\n",
        "py=np.empty([2,1])\n",
        "#px1y1 = p(x1=1|y=1)\n",
        "#px2y1 = p(x2=1|y=1)\n",
        "pxy[1,1]=4/6\n",
        "pxy[2,1]=2/6\n",
        "pxy[3,1]=2/6\n",
        "pxy[1,0]=1/2\n",
        "pxy[2,0]=1/2\n",
        "pxy[3,0]=1/3\n",
        "#py1 = p(y=1)\n",
        "py[1]=2/7\n",
        "py[0]=5/7\n",
        "\n",
        "print(\"TRAINING:\\ntrain.X  train.Y  predicted Y\")\n",
        "for i in range(trainX.shape[0]):\n",
        "    print(\"%s  %i        %i %s\" % (trainX[i],trainY[i],predict(trainX[i]),wrong(trainY[i],predict(trainX[i]))))\n",
        "    \n",
        "print(\"\\nTEST:\")\n",
        "print(\"test.X    predicted Y\")\n",
        "print(\"%s %i\" % ([1,0,0],predict([1,0,0])))"
      ],
      "execution_count": 0,
      "outputs": [
        {
          "output_type": "stream",
          "text": [
            "USING EMPIRICAL FREQUENCIES\n",
            "TRAINING:\n",
            "train.X  train.Y  predicted Y\n",
            "[1 1 0]  0        0 \n",
            "[0 1 1]  0        0 \n",
            "[0 0 0]  0        0 \n",
            "[1 0 0]  1        1 \n",
            "[1 0 0]  0        1 WRONG\n",
            "\n",
            "TEST:\n",
            "test.X    predicted Y\n",
            "[1, 0, 0] 1\n",
            "\n",
            "----------------------\n",
            "USING LAPLACE SMOOTHING\n",
            "TRAINING:\n",
            "train.X  train.Y  predicted Y\n",
            "[1 1 0]  0        0 \n",
            "[0 1 1]  0        0 \n",
            "[0 0 0]  0        0 \n",
            "[1 0 0]  1        0 WRONG\n",
            "[1 0 0]  0        0 \n",
            "\n",
            "TEST:\n",
            "test.X    predicted Y\n",
            "[1, 0, 0] 0\n"
          ],
          "name": "stdout"
        }
      ]
    },
    {
      "cell_type": "markdown",
      "metadata": {
        "id": "IiQ2424u_-Zt",
        "colab_type": "text"
      },
      "source": [
        "## Problem 2\n",
        "\n",
        "*Learning objectives: basic principles of decision trees.*\n",
        "\n",
        "Familiarise yourself with Section 8.1 of James et al. Pick one of the impurity measures presented in Equations (8.5), (8.6), or (8.7). Then simulate the tree building algorithm by hand.\n",
        "\n",
        "### Tasks\n",
        "\n",
        "* Sketch a run of the classification tree  algorithm with the toy data set in the Figure above  (binary classification task in ${\\mathbb{R}}^2$) and draw the resulting classification tree. Report the values of the chosen impurity measure for each split and try to choose the splits that obtain the best impurity measure. You do not need to worry about overfitting here: the resulting classification tree can fit the training data with no error. Don't worry that you don't count the classes exactly right or that your results are not super-accurate as long as they are \"in the ballpark\".\n",
        "\n",
        "\n"
      ]
    },
    {
      "cell_type": "markdown",
      "metadata": {
        "id": "sCaWhlS2RRzz",
        "colab_type": "text"
      },
      "source": [
        "The splitting is done just based on the common error (common impurities). We picked common error for splitting, but calculated also other indexes for curiosity."
      ]
    },
    {
      "cell_type": "markdown",
      "metadata": {
        "id": "rK-_aOlSTTkr",
        "colab_type": "text"
      },
      "source": [
        "![bananasplits](/content/Ex5Prob2.png)"
      ]
    },
    {
      "cell_type": "markdown",
      "metadata": {
        "id": "m_XXcKLjRdTx",
        "colab_type": "text"
      },
      "source": [
        "1. split\n",
        "\n",
        "|     | Common error\t| Gini index\t| Entropy  |\n",
        "|------|-------|-----|-----|\n",
        "| 10+11 |\t0.36 (+) | 0.46 | 0.66 |\n",
        "| 00+001+000 |\t0.08 (-) | 0.15 | 0.29 |"
      ]
    },
    {
      "cell_type": "markdown",
      "metadata": {
        "id": "0hc1tUtJSqb7",
        "colab_type": "text"
      },
      "source": [
        "2.\tSPLIT\n",
        "\n",
        "| |\tCommon error\t| Gini index\t| Entropy |\n",
        "|-----|-----------|-------|------|\n",
        "| 10\t| 0.00 (-)\t| 0.00\t| 0.00 |\n",
        "| 11\t| 0.00 (+)\t| 0.00\t| 0.00 |\n",
        "| 00\t| 0.00 (-)\t| 0.00\t| 0.00 |\n",
        "| 001+000\t| 0.13  (-)\t |0.22\t| 0.38 |"
      ]
    },
    {
      "cell_type": "markdown",
      "metadata": {
        "id": "2yruHjQUSzbM",
        "colab_type": "text"
      },
      "source": [
        "3.\tSPLIT\n",
        "\n",
        "| |\tCommon error\t|Gini index\t| Entropy |\n",
        "|------|-------|-----|-----|\n",
        "|10 |\t0.00  (-) |\t0.00\t|0.00 |\n",
        "|11\t| 0.00  (+) |\t0.00\t|0.00 |\n",
        "|00\t| 0.00  (-) |\t0.00\t|0.00 |\n",
        "|001 |0.00  (+) |\t0.00\t|0.00 |\n",
        "|000 |0.00  (-) |\t0.00\t|0.00 |\n"
      ]
    },
    {
      "cell_type": "markdown",
      "metadata": {
        "id": "Bc4SAb7A_-Zx",
        "colab_type": "text"
      },
      "source": [
        "## Problem 3\n",
        "\n",
        "*Learning objectives: basics of k-NN method.*\n",
        "\n",
        "Consider the problem of applying *k-nearest neighbour* ($k$-NN) classifier to the training dataset $D=\\{(x_i,c_i)\\}_{i=1}^{14}$, where the covariates $x_i\\in{\\mathbb{R}}$ and the classes $c_i\\in\\{-1,+1\\}$ are given in below. You should be able to do this by pen and paper.\n",
        "\n",
        "$$\n",
        "  \\begin{array}{r|r|r}\n",
        "    i&x_i&c_i\\\\\\hline\n",
        "    1&0&+1\\\\\n",
        "    2&2&+1\\\\\n",
        "    3&3&+1\\\\\n",
        "    4&5&-1\\\\\n",
        "    5&6&+1\\\\\n",
        "    6&8&+1\\\\\n",
        "    7&9&+1\\\\\n",
        "    8&12&-1\\\\\n",
        "    9&13&-1\\\\\n",
        "    10&15&-1\\\\\n",
        "    11&16&+1\\\\\n",
        "    12&18&-1\\\\\n",
        "    13&19&-1\\\\\n",
        "    14&21&-1\n",
        "  \\end{array}\n",
        "$$\n",
        "\n",
        "### Tasks\n",
        "\n",
        "* Where are the classification boundaries for the $1$-NN and $3$-NN classifiers? What are the respective classification errors on the training dataset?\n",
        "* How does the choice of $k$ in $k$-NN affect the classification boundary (not in the above example but in general)? Give examples of the behaviour for extreme choices.\n"
      ]
    },
    {
      "cell_type": "code",
      "metadata": {
        "id": "7PKk6oBCXGhR",
        "colab_type": "code",
        "outputId": "5c6648e0-bb23-430d-e156-7ea009f4ed14",
        "colab": {
          "base_uri": "https://localhost:8080/",
          "height": 241
        }
      },
      "source": [
        "import numpy as np\n",
        "import matplotlib.pyplot as plt\n",
        "import matplotlib.patches as plt2\n",
        "ind=range(1,14+1)\n",
        "x=np.array([0,2,3,5,6,8,9,12,13,15,16,18,19,21])\n",
        "c=np.array([1,1,1,-1,1,1,1,-1,-1,-1,1,-1,-1,-1])\n",
        "\n",
        "def kNN(t):\n",
        "    MIN=10\n",
        "    col=c[0]\n",
        "    for i in range(0,x.shape[0]):\n",
        "        if abs(t-x[i])<MIN:\n",
        "            MIN=abs(t-x[i])\n",
        "            col=c[i]\n",
        "            \n",
        "    if col==1:\n",
        "        return 'yellow'\n",
        "    else:\n",
        "        return 'purple'\n",
        "\n",
        "plt.rcParams[\"figure.figsize\"] = (20,3) \n",
        "##################\n",
        "plt.subplot(1,3,1)\n",
        "plt.scatter(x=np.zeros(14),y=x,c=c);\n",
        "sq=300\n",
        "for i in np.linspace(-1, 26, num=sq):\n",
        "    \n",
        "    rect=plt2.Rectangle([-1,i], 2,27/sq, facecolor=kNN(i), angle=0.0,alpha=0.2)\n",
        "    plt.gca().add_patch(rect)\n",
        "\n",
        "plt.title('1-NN')\n",
        "plt.xticks([0],[\"data\"]);\n",
        "plt.ylabel(\"x value\");\n",
        "##################\n",
        "plt.subplot(1,3,2)\n",
        "plt.scatter(x=ind,y=x,c=c)\n",
        "plt.title('1-NN')\n",
        "plt.xlabel(\"indicies\");\n",
        "plt.ylabel(\"x value\");\n",
        "for l in [3.5,4.5,7.5,10.5,11.5]:\n",
        "  plt.axvline(x=l)\n",
        "##################\n",
        "plt.subplot(1,3,3)\n",
        "ind_p = c==1\n",
        "ind_m = c==-1\n",
        "plt.plot(x[ind_p],c[ind_p], 'o',markerfacecolor='yellow',mec='yellow')\n",
        "plt.plot(x[ind_m],c[ind_m], 'o',markerfacecolor='purple',mec='purple')\n",
        "plt.ylabel(\"c value\");\n",
        "plt.xlabel(\"x value\");\n",
        "\n",
        "plt.title('1-NN')\n",
        "for l in [4,5.5,10,15.5,16.5]:\n",
        "  plt.axvline(x=l)"
      ],
      "execution_count": 0,
      "outputs": [
        {
          "output_type": "display_data",
          "data": {
            "image/png": "[encoded data removed]",
            "text/plain": [
              "<Figure size 1440x216 with 3 Axes>"
            ]
          },
          "metadata": {
            "tags": [],
            "needs_background": "light"
          }
        }
      ]
    },
    {
      "cell_type": "code",
      "metadata": {
        "id": "4c0BD3RRXKqR",
        "colab_type": "code",
        "outputId": "d22bf2c0-d1d6-49be-bf71-c6edb6a32f7c",
        "colab": {
          "base_uri": "https://localhost:8080/",
          "height": 241
        }
      },
      "source": [
        "def k3NN(t):\n",
        "    MIN3=np.array([abs(t-x[0]),abs(t-x[0]),abs(t-x[0])])\n",
        "    col3=np.array([c[0],c[0],c[0]])\n",
        "    for i in range(0,x.shape[0]):\n",
        "        if abs(t-x[i]) < MIN3[0]:\n",
        "            MIN3[2]=MIN3[1]\n",
        "            MIN3[1]=MIN3[0]\n",
        "            col3[2]=col3[1]\n",
        "            col3[1]=col3[0]\n",
        "            MIN3[0]=abs(t-x[i])\n",
        "            col3[0]=c[i]\n",
        "            \n",
        "    if np.mean(col3)>0:\n",
        "        return 'yellow'\n",
        "    else:\n",
        "        return 'purple'\n",
        "\n",
        "plt.rcParams[\"figure.figsize\"] = (20,3) \n",
        "##################\n",
        "plt.subplot(1,3,1)  \n",
        "plt.scatter(x=np.zeros(14),y=x,c=c);\n",
        "sq=300\n",
        "for i in np.linspace(-1, 26, num=sq):\n",
        "    \n",
        "    rect=plt2.Rectangle([-1,i], 2,27/sq, facecolor=k3NN(i), angle=0.0,alpha=0.2)\n",
        "    plt.gca().add_patch(rect)\n",
        "\n",
        "plt.title('3-NN')\n",
        "plt.xticks([0],[\"data\"]);\n",
        "plt.ylabel(\"x value\");\n",
        "##################\n",
        "plt.subplot(1,3,2)\n",
        "plt.scatter(x=ind,y=x,c=c)\n",
        "plt.title('3-NN')\n",
        "plt.xlabel(\"indicies\");\n",
        "plt.ylabel(\"x value\");\n",
        "for l in [7.5]:\n",
        "  plt.axvline(x=l)\n",
        "##################\n",
        "plt.subplot(1,3,3)\n",
        "ind_p = c==1\n",
        "ind_m = c==-1\n",
        "plt.plot(x[ind_p],c[ind_p], 'o',markerfacecolor='yellow',mec='yellow')\n",
        "plt.plot(x[ind_m],c[ind_m], 'o',markerfacecolor='purple',mec='purple')\n",
        "plt.ylabel(\"c value\");\n",
        "plt.xlabel(\"x value\");\n",
        "\n",
        "plt.title('3-NN')\n",
        "for l in [10]:\n",
        "  plt.axvline(x=l)"
      ],
      "execution_count": 0,
      "outputs": [
        {
          "output_type": "display_data",
          "data": {
            "image/png": "[encoded data removed]",
            "text/plain": [
              "<Figure size 1440x216 with 3 Axes>"
            ]
          },
          "metadata": {
            "tags": [],
            "needs_background": "light"
          }
        }
      ]
    },
    {
      "cell_type": "markdown",
      "metadata": {
        "id": "FIoLXnDm_-Z0",
        "colab_type": "text"
      },
      "source": [
        "## Problem 4 (bonus)\n",
        "\n",
        "*Learning objectives: Understanding discriminative vs. generative learning.*\n",
        "\n",
        "[This problem is optional. Do this if you have time.]\n",
        "\n",
        "Download Ng et al. (2001). You **do not need to read the full paper** in detail or understand all of the details! Rather try to find the answers to the following questions.\n",
        "\n",
        "**Reference:** Ng, Jordan (2001) On discriminative vs. generative classifiers: A comparison of logistic regression and naive Bayes. NIPS. <http://papers.nips.cc/paper/2020-on-discriminative-vs-generative-classifiers-a-comparison-of-logistic-regression-and-naive-bayes.pdf>\n",
        "\n"
      ]
    },
    {
      "cell_type": "markdown",
      "metadata": {
        "id": "pUrJfUy0VcEi",
        "colab_type": "text"
      },
      "source": [
        "### Tasks\n",
        "\n",
        "* Read the *abstract* and the *Introduction*. Is discriminative learning better than generative learning, according to the authors? Justify your answer.\n",
        "\n",
        "\n",
        "> The discriminative classifiers have a lower asymptotic error, but the generative classifiers may approach a higher asymptotic error faster than the generative classifier. When the number of training examples is high there may be two regions; one in which the generative model is better and another in which the discriminative is better. Hence, there is not a clear answer to the question whether one is better than the other."
      ]
    },
    {
      "cell_type": "markdown",
      "metadata": {
        "id": "0aD7VjZ_WHMH",
        "colab_type": "text"
      },
      "source": [
        "* By a \"parametric family of probabilistic models\", the authors mean a set of distributions, where each distribution is defined by a set of parameters. An example of such a family is our friend, the family of normal distributions where the parameters are $\\mu$ and $\\Sigma$. Ng and Jordan denote by $h_{Gen}$ and $h_{Dis}$ two models chosen by optimizing different things. Find an explanation of what these \"things\" are that are being optimized in the paper, i.e., what characterizes these two models. Which two families do the authors discuss, and what are the $(h_{Gen},h_{Dis})$ pairs for those models?\n",
        "\n",
        "> The \"things\" that are beying optimized are: \n",
        "> *   the joint likelihood of the inputs and the labels\n",
        "> *   the conditional likelihood p(y|x) \n",
        "\n",
        "> The authors discuss Gaussian and multinomial families and their corresponding Generative-Discriminative pair: Normal Discriminant Analysis and logistic regression. The pair is hence $(h_{Gen},h_{Dis})=$(Normal Discriminant Analysis, logistic regression).\n",
        "\n",
        "\n",
        "\n"
      ]
    },
    {
      "cell_type": "markdown",
      "metadata": {
        "id": "61wEWcljVgIx",
        "colab_type": "text"
      },
      "source": [
        "* Study Figure 1 in the paper. Explain what it suggests (see the last paragraph of the Introduction). Reflect this on the previous item.\n",
        "\n",
        "\n",
        "\n",
        "> The dashed lines show logistic regression (Discriminative) and the solid lines show the naive Bayes classifier (Generative). Figure 1 shows that for most examples, the naive Bayes converges faster and the logistic regression slower, but to a lower asymptotic error level. There are also examples where the logistic regression does not reach the error level of the naive Bayes. There is also an example where the logistic regression converges faster and to a lower error level asymptot."
      ]
    },
    {
      "cell_type": "markdown",
      "metadata": {
        "id": "f2NfSE1C_-Z3",
        "colab_type": "text"
      },
      "source": [
        "# Optional reading\n",
        "\n",
        "You will not get any points for reading these articles, but to conclude discussion of the classifiers you can, if you want, take a look at the following review:\n",
        "\n",
        "* Fernández-Delgado et al. (2014) Do we Need Hundreds of Classifiers to Solve Real World Classification Problems?. JMLR. <http://jmlr.org/papers/v15/delgado14a.html>\n",
        "\n",
        "Hand's article is still timely:\n",
        "\n",
        "* Hand (2006) Classifier Technology and the Illusion of Progress. Statistical Science. <https://doi.org/10.1214/088342306000000060>"
      ]
    }
  ]
}